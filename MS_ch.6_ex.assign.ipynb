{
 "cells": [
  {
   "cell_type": "code",
   "execution_count": 1,
   "id": "d1dc7e1a",
   "metadata": {},
   "outputs": [
    {
     "data": {
      "text/plain": [
       "Dict{Tuple{SubString{String}, Int64}, Int64} with 9 entries:\n",
       "  (\"mcclymonds\", 1) => 6\n",
       "  (\"carle\", 2)      => 18\n",
       "  (\"terry\", 2)      => 15\n",
       "  (\"terry\", 3)      => 9\n",
       "  (\"carle\", 1)      => 9\n",
       "  (\"terry\", 1)      => 10\n",
       "  (\"mcclymonds\", 3) => 3\n",
       "  (\"mcclymonds\", 2) => 14\n",
       "  (\"carle\", 3)      => 5"
      ]
     },
     "execution_count": 1,
     "metadata": {},
     "output_type": "execute_result"
    }
   ],
   "source": [
    "using DelimitedFiles\n",
    "data = readdlm(\"ch6_assignmentproblem.csv\",',')\n",
    "#공급, 수요 정하기\n",
    "supply_nodes = data[3:end, 2]\n",
    "s = data[3:end, 1]\n",
    "demand_nodes = data[2, 3:end]\n",
    "d = data[1, 3:end ]\n",
    "c = data[3:end,3:end ]\n",
    "s_dict = Dict(supply_nodes.=>s)\n",
    "d_dict = Dict(demand_nodes.=>d)\n",
    "c_dict = Dict((supply_nodes[i], demand_nodes[j]) => c[i,j]\n",
    "for i in 1:length(supply_nodes), j in 1:length(demand_nodes) )"
   ]
  },
  {
   "cell_type": "code",
   "execution_count": 3,
   "id": "746d1f69",
   "metadata": {},
   "outputs": [
    {
     "data": {
      "text/latex": [
       "$$ \\begin{aligned}\n",
       "\\min\\quad & 10 x_{terry,1} + 15 x_{terry,2} + 9 x_{terry,3} + 9 x_{carle,1} + 18 x_{carle,2} + 5 x_{carle,3} + 6 x_{mcclymonds,1} + 14 x_{mcclymonds,2} + 3 x_{mcclymonds,3}\\\\\n",
       "\\text{Subject to} \\quad & x_{terry,1} + x_{terry,2} + x_{terry,3} = 1.0\\\\\n",
       " & x_{carle,1} + x_{carle,2} + x_{carle,3} = 1.0\\\\\n",
       " & x_{mcclymonds,1} + x_{mcclymonds,2} + x_{mcclymonds,3} = 1.0\\\\\n",
       " & x_{terry,1} + x_{carle,1} + x_{mcclymonds,1} = 1.0\\\\\n",
       " & x_{terry,2} + x_{carle,2} + x_{mcclymonds,2} = 1.0\\\\\n",
       " & x_{terry,3} + x_{carle,3} + x_{mcclymonds,3} = 1.0\\\\\n",
       " & x_{terry,1} \\geq 0.0\\\\\n",
       " & x_{carle,1} \\geq 0.0\\\\\n",
       " & x_{mcclymonds,1} \\geq 0.0\\\\\n",
       " & x_{terry,2} \\geq 0.0\\\\\n",
       " & x_{carle,2} \\geq 0.0\\\\\n",
       " & x_{mcclymonds,2} \\geq 0.0\\\\\n",
       " & x_{terry,3} \\geq 0.0\\\\\n",
       " & x_{carle,3} \\geq 0.0\\\\\n",
       " & x_{mcclymonds,3} \\geq 0.0\\\\\n",
       "\\end{aligned} $$"
      ]
     },
     "metadata": {},
     "output_type": "display_data"
    },
    {
     "data": {
      "text/plain": [
       "26.0"
      ]
     },
     "execution_count": 3,
     "metadata": {},
     "output_type": "execute_result"
    }
   ],
   "source": [
    "using JuMP, GLPK\n",
    "tp = Model(GLPK.Optimizer)\n",
    "\n",
    "@variable(tp, 0 <= x[supply_nodes, demand_nodes])\n",
    "\n",
    "@objective(tp, Min, sum(c_dict[i,j]*x[i,j] for i in supply_nodes, j in demand_nodes))\n",
    "\n",
    "for i in supply_nodes\n",
    "    @constraint(tp, sum(x[i,j] for j in demand_nodes) == s_dict[i])\n",
    "end\n",
    "\n",
    "for j in demand_nodes\n",
    "    @constraint(tp, sum(x[i,j] for i in supply_nodes) == d_dict[j])\n",
    "end\n",
    "\n",
    "print(tp)\n",
    "\n",
    "JuMP.optimize!(tp)\n",
    "\n",
    "x_star = JuMP.value.(x)\n",
    "value = sum(c_dict[i,j]*x_star[i,j] for i in supply_nodes, j in demand_nodes)"
   ]
  },
  {
   "cell_type": "code",
   "execution_count": null,
   "id": "84df387c",
   "metadata": {},
   "outputs": [],
   "source": [
    "using DelimitedFiles\n",
    "data = readdlm(\"ch6_assignmentproblem.csv\",',')\n",
    "#공급, 수요 정하기\n",
    "supply_nodes = data[3:end, 2]\n",
    "s = data[3:end, 1]\n",
    "demand_nodes = data[2, 3:end]\n",
    "d = data[1, 3:end ]\n",
    "c = data[3:end,3:end ]\n",
    "s_dict = Dict(supply_nodes.=>s)\n",
    "d_dict = Dict(demand_nodes.=>d)\n",
    "c_dict = Dict((supply_nodes[i], demand_nodes[j]) => c[i,j]\n",
    "for i in 1:length(supply_nodes), j in 1:length(demand_nodes) )\n",
    "\n",
    "using JuMP, GLPK\n",
    "tp = Model(GLPK.Optimizer)\n",
    "\n",
    "@variable(tp, 0 <= x[supply_nodes, demand_nodes])\n",
    "\n",
    "@objective(tp, Min, sum(c_dict[i,j]*x[i,j] for i in supply_nodes, j in demand_nodes))\n",
    "\n",
    "for i in supply_nodes\n",
    "    @constraint(tp, sum(x[i,j] for j in demand_nodes) == s_dict[i])\n",
    "end\n",
    "\n",
    "for j in demand_nodes\n",
    "    @constraint(tp, sum(x[i,j] for i in supply_nodes) == d_dict[j])\n",
    "end\n",
    "\n",
    "print(tp)\n",
    "\n",
    "JuMP.optimize!(tp)\n",
    "\n",
    "x_star = JuMP.value.(x)\n",
    "value = sum(c_dict[i,j]*x_star[i,j] for i in supply_nodes, j in demand_nodes)"
   ]
  }
 ],
 "metadata": {
  "kernelspec": {
   "display_name": "Julia 1.8.4",
   "language": "julia",
   "name": "julia-1.8"
  },
  "language_info": {
   "file_extension": ".jl",
   "mimetype": "application/julia",
   "name": "julia",
   "version": "1.8.4"
  }
 },
 "nbformat": 4,
 "nbformat_minor": 5
}

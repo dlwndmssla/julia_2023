{
 "cells": [
  {
   "cell_type": "code",
   "execution_count": 1,
   "id": "45aef66c",
   "metadata": {},
   "outputs": [],
   "source": [
    "using JuMP"
   ]
  },
  {
   "cell_type": "code",
   "execution_count": 2,
   "id": "ad5341ba",
   "metadata": {},
   "outputs": [
    {
     "name": "stderr",
     "output_type": "stream",
     "text": [
      "\u001b[36m\u001b[1m[ \u001b[22m\u001b[39m\u001b[36m\u001b[1mInfo: \u001b[22m\u001b[39mPrecompiling CPLEX [a076750e-1247-5638-91d2-ce28b192dca0]\n",
      "\u001b[91m\u001b[1mERROR: \u001b[22m\u001b[39mLoadError: CPLEX not properly installed. Please run Pkg.build(\"CPLEX\")\n",
      "Stacktrace:\n",
      " [1] \u001b[0m\u001b[1merror\u001b[22m\u001b[0m\u001b[1m(\u001b[22m\u001b[90ms\u001b[39m::\u001b[0mString\u001b[0m\u001b[1m)\u001b[22m\n",
      "\u001b[90m   @ \u001b[39m\u001b[90mBase\u001b[39m \u001b[90m.\\\u001b[39m\u001b[90m\u001b[4merror.jl:35\u001b[24m\u001b[39m\n",
      " [2] top-level scope\n",
      "\u001b[90m   @ \u001b[39m\u001b[90mC:\\Users\\user\\.julia\\packages\\CPLEX\\rmvSt\\src\\\u001b[39m\u001b[90m\u001b[4mCPLEX.jl:7\u001b[24m\u001b[39m\n",
      " [3] \u001b[0m\u001b[1minclude\u001b[22m\n",
      "\u001b[90m   @ \u001b[39m\u001b[90m.\\\u001b[39m\u001b[90m\u001b[4mBase.jl:419\u001b[24m\u001b[39m\u001b[90m [inlined]\u001b[39m\n",
      " [4] \u001b[0m\u001b[1minclude_package_for_output\u001b[22m\u001b[0m\u001b[1m(\u001b[22m\u001b[90mpkg\u001b[39m::\u001b[0mBase.PkgId, \u001b[90minput\u001b[39m::\u001b[0mString, \u001b[90mdepot_path\u001b[39m::\u001b[0mVector\u001b[90m{String}\u001b[39m, \u001b[90mdl_load_path\u001b[39m::\u001b[0mVector\u001b[90m{String}\u001b[39m, \u001b[90mload_path\u001b[39m::\u001b[0mVector\u001b[90m{String}\u001b[39m, \u001b[90mconcrete_deps\u001b[39m::\u001b[0mVector\u001b[90m{Pair{Base.PkgId, UInt64}}\u001b[39m, \u001b[90msource\u001b[39m::\u001b[0mNothing\u001b[0m\u001b[1m)\u001b[22m\n",
      "\u001b[90m   @ \u001b[39m\u001b[90mBase\u001b[39m \u001b[90m.\\\u001b[39m\u001b[90m\u001b[4mloading.jl:1554\u001b[24m\u001b[39m\n",
      " [5] top-level scope\n",
      "\u001b[90m   @ \u001b[39m\u001b[90m\u001b[4mstdin:1\u001b[24m\u001b[39m\n",
      "in expression starting at C:\\Users\\user\\.julia\\packages\\CPLEX\\rmvSt\\src\\CPLEX.jl:1\n",
      "in expression starting at stdin:1\n"
     ]
    },
    {
     "ename": "LoadError",
     "evalue": "Failed to precompile CPLEX [a076750e-1247-5638-91d2-ce28b192dca0] to C:\\Users\\user\\.julia\\compiled\\v1.8\\CPLEX\\jl_220E.tmp.",
     "output_type": "error",
     "traceback": [
      "Failed to precompile CPLEX [a076750e-1247-5638-91d2-ce28b192dca0] to C:\\Users\\user\\.julia\\compiled\\v1.8\\CPLEX\\jl_220E.tmp.",
      "",
      "Stacktrace:",
      " [1] error(s::String)",
      "   @ Base .\\error.jl:35",
      " [2] compilecache(pkg::Base.PkgId, path::String, internal_stderr::IO, internal_stdout::IO, keep_loaded_modules::Bool)",
      "   @ Base .\\loading.jl:1707",
      " [3] compilecache",
      "   @ .\\loading.jl:1651 [inlined]",
      " [4] _require(pkg::Base.PkgId)",
      "   @ Base .\\loading.jl:1337",
      " [5] _require_prelocked(uuidkey::Base.PkgId)",
      "   @ Base .\\loading.jl:1200",
      " [6] macro expansion",
      "   @ .\\loading.jl:1180 [inlined]",
      " [7] macro expansion",
      "   @ .\\lock.jl:223 [inlined]",
      " [8] require(into::Module, mod::Symbol)",
      "   @ Base .\\loading.jl:1144"
     ]
    }
   ],
   "source": [
    "using CPLEX"
   ]
  },
  {
   "cell_type": "code",
   "execution_count": 6,
   "id": "a58c4b65",
   "metadata": {},
   "outputs": [
    {
     "data": {
      "text/plain": [
       "Plots.PlotlyBackend()"
      ]
     },
     "execution_count": 6,
     "metadata": {},
     "output_type": "execute_result"
    }
   ],
   "source": [
    "using HiGHS\n",
    "using Plots; plotly()"
   ]
  },
  {
   "cell_type": "code",
   "execution_count": 7,
   "id": "0b947a9f",
   "metadata": {},
   "outputs": [],
   "source": [
    "using VegaLite  # to make some nice plots\n",
    "using DataFrames, CSV, PrettyTables\n",
    "using FileIO"
   ]
  },
  {
   "cell_type": "code",
   "execution_count": 8,
   "id": "1f5d0a02",
   "metadata": {},
   "outputs": [
    {
     "data": {
      "text/plain": [
       "\"kr_data\""
      ]
     },
     "execution_count": 8,
     "metadata": {},
     "output_type": "execute_result"
    }
   ],
   "source": [
    "ENV[\"COLUMNS\"]=120; # Set so all columns of DataFrames and Matrices are displayed\n",
    "\n",
    "datadir = joinpath(\"kr_data\")"
   ]
  },
  {
   "cell_type": "code",
   "execution_count": 9,
   "id": "56c3f155",
   "metadata": {},
   "outputs": [],
   "source": [
    "gen_info = CSV.read(\"kGenerators_data.csv\", DataFrame);\n",
    "fuels = CSV.read(\"Fuels_data.csv\", DataFrame);"
   ]
  },
  {
   "cell_type": "code",
   "execution_count": 56,
   "id": "076fd091",
   "metadata": {},
   "outputs": [],
   "source": [
    "loads = CSV.read(\"Demand_20220701_2.csv\", DataFrame);\n",
    "gen_variable = CSV.read(\"Generators_variability.csv\", DataFrame);"
   ]
  },
  {
   "cell_type": "code",
   "execution_count": 57,
   "id": "4abc6662",
   "metadata": {},
   "outputs": [],
   "source": [
    "for f in [gen_info, fuels, loads, gen_variable]\n",
    "    rename!(f,lowercase.(names(f)))\n",
    "end"
   ]
  },
  {
   "cell_type": "code",
   "execution_count": 58,
   "id": "ba95a636",
   "metadata": {},
   "outputs": [],
   "source": [
    "\n",
    "select!(gen_info, 1:26, :stor)\n",
    "gen_df = outerjoin(gen_info,  fuels, on = :fuel) # load in fuel costs and add to data frame\n",
    "rename!(gen_df, :cost_per_mmbtu => :fuel_cost)\n",
    "gen_df[ismissing.(gen_df[:,:fuel_cost]), :fuel_cost] .= 0\n",
    "gen_df[!, :is_variable] .= false \n",
    "gen_df[in([\"onshore_wind_turbine\",\"small_hydroelectric\",\"solar_photovoltaic\"]).(gen_df.resource), :is_variable] .= true;\n"
   ]
  },
  {
   "cell_type": "code",
   "execution_count": 59,
   "id": "d73b4afe",
   "metadata": {},
   "outputs": [
    {
     "data": {
      "text/html": [
       "<div><div style = \"float: left;\"><span>8760×31 DataFrame</span></div><div style = \"float: right;\"><span style = \"font-style: italic;\">8735 rows omitted</span></div><div style = \"clear: both;\"></div></div><div class = \"data-frame\" style = \"overflow-x: scroll;\"><table class = \"data-frame\" style = \"margin-bottom: 6px;\"><thead><tr class = \"header\"><th class = \"rowNumber\" style = \"font-weight: bold; text-align: right;\">Row</th><th style = \"text-align: left;\">hour</th><th style = \"text-align: left;\">wec_sdge_biomass_1.0</th><th style = \"text-align: left;\">wec_sdge_hydroelectric_pumped_storage_1.0</th><th style = \"text-align: left;\">wec_sdge_natural_gas_fired_combined_cycle_1.0</th><th style = \"text-align: left;\">wec_sdge_natural_gas_fired_combined_cycle_2.0</th><th style = \"text-align: left;\">wec_sdge_natural_gas_fired_combined_cycle_3.0</th><th style = \"text-align: left;\">wec_sdge_natural_gas_fired_combined_cycle_4.0</th><th style = \"text-align: left;\">wec_sdge_natural_gas_fired_combustion_turbine_1.0</th><th style = \"text-align: left;\">wec_sdge_natural_gas_fired_combustion_turbine_2.0</th><th style = \"text-align: left;\">wec_sdge_natural_gas_fired_combustion_turbine_3.0</th><th style = \"text-align: left;\">wec_sdge_natural_gas_fired_combustion_turbine_4.0</th><th style = \"text-align: left;\">wec_sdge_natural_gas_fired_combustion_turbine_5.0</th><th style = \"text-align: left;\">wec_sdge_natural_gas_fired_combustion_turbine_6.0</th><th style = \"text-align: left;\">wec_sdge_natural_gas_fired_combustion_turbine_7.0</th><th style = \"text-align: left;\">wec_sdge_natural_gas_fired_combustion_turbine_8.0</th><th style = \"text-align: left;\">wec_sdge_natural_gas_fired_combustion_turbine_9.0</th><th style = \"text-align: left;\">wec_sdge_natural_gas_fired_combustion_turbine_10.0</th><th style = \"text-align: left;\">wec_sdge_natural_gas_fired_combustion_turbine_11.0</th><th style = \"text-align: left;\">wec_sdge_natural_gas_fired_combustion_turbine_12.0</th><th style = \"text-align: left;\">wec_sdge_onshore_wind_turbine_1.0</th><th style = \"text-align: left;\">wec_sdge_small_hydroelectric_1.0</th><th style = \"text-align: left;\">wec_sdge_solar_photovoltaic_1.0</th><th style = \"text-align: left;\">wec_sdge_naturalgas_ccccsavgcf_0.0</th><th style = \"text-align: left;\">wec_sdge_naturalgas_ccavgcf_0.0</th><th style = \"text-align: left;\">wec_sdge_naturalgas_ctavgcf_0.0</th><th style = \"text-align: left;\">wec_sdge_battery_0.0</th><th style = \"text-align: left;\">wec_sdge_naturalgas_ccs100_0.0</th><th style = \"text-align: left;\">wec_sdge_landbasedwind_ltrg1_1.0</th><th style = \"text-align: left;\">wec_sdge_landbasedwind_ltrg1_2.0</th><th style = \"text-align: left;\">wec_sdge_utilitypv_losangeles_1.0</th><th style = \"text-align: left;\">wec_sdge_utilitypv_losangeles_2.0</th></tr><tr class = \"subheader headerLastRow\"><th class = \"rowNumber\" style = \"font-weight: bold; text-align: right;\"></th><th title = \"Int64\" style = \"text-align: left;\">Int64</th><th title = \"Int64\" style = \"text-align: left;\">Int64</th><th title = \"Int64\" style = \"text-align: left;\">Int64</th><th title = \"Int64\" style = \"text-align: left;\">Int64</th><th title = \"Int64\" style = \"text-align: left;\">Int64</th><th title = \"Int64\" style = \"text-align: left;\">Int64</th><th title = \"Int64\" style = \"text-align: left;\">Int64</th><th title = \"Int64\" style = \"text-align: left;\">Int64</th><th title = \"Int64\" style = \"text-align: left;\">Int64</th><th title = \"Int64\" style = \"text-align: left;\">Int64</th><th title = \"Int64\" style = \"text-align: left;\">Int64</th><th title = \"Int64\" style = \"text-align: left;\">Int64</th><th title = \"Int64\" style = \"text-align: left;\">Int64</th><th title = \"Int64\" style = \"text-align: left;\">Int64</th><th title = \"Int64\" style = \"text-align: left;\">Int64</th><th title = \"Int64\" style = \"text-align: left;\">Int64</th><th title = \"Int64\" style = \"text-align: left;\">Int64</th><th title = \"Int64\" style = \"text-align: left;\">Int64</th><th title = \"Int64\" style = \"text-align: left;\">Int64</th><th title = \"Float64\" style = \"text-align: left;\">Float64</th><th title = \"Float64\" style = \"text-align: left;\">Float64</th><th title = \"Float64\" style = \"text-align: left;\">Float64</th><th title = \"Int64\" style = \"text-align: left;\">Int64</th><th title = \"Int64\" style = \"text-align: left;\">Int64</th><th title = \"Int64\" style = \"text-align: left;\">Int64</th><th title = \"Int64\" style = \"text-align: left;\">Int64</th><th title = \"Int64\" style = \"text-align: left;\">Int64</th><th title = \"Float64\" style = \"text-align: left;\">Float64</th><th title = \"Float64\" style = \"text-align: left;\">Float64</th><th title = \"Float64\" style = \"text-align: left;\">Float64</th><th title = \"Float64\" style = \"text-align: left;\">Float64</th></tr></thead><tbody><tr><td class = \"rowNumber\" style = \"font-weight: bold; text-align: right;\">1</td><td style = \"text-align: right;\">1</td><td style = \"text-align: right;\">1</td><td style = \"text-align: right;\">1</td><td style = \"text-align: right;\">1</td><td style = \"text-align: right;\">1</td><td style = \"text-align: right;\">1</td><td style = \"text-align: right;\">1</td><td style = \"text-align: right;\">1</td><td style = \"text-align: right;\">1</td><td style = \"text-align: right;\">1</td><td style = \"text-align: right;\">1</td><td style = \"text-align: right;\">1</td><td style = \"text-align: right;\">1</td><td style = \"text-align: right;\">1</td><td style = \"text-align: right;\">1</td><td style = \"text-align: right;\">1</td><td style = \"text-align: right;\">1</td><td style = \"text-align: right;\">1</td><td style = \"text-align: right;\">1</td><td style = \"text-align: right;\">0.1694</td><td style = \"text-align: right;\">0.299</td><td style = \"text-align: right;\">0.0</td><td style = \"text-align: right;\">1</td><td style = \"text-align: right;\">1</td><td style = \"text-align: right;\">1</td><td style = \"text-align: right;\">1</td><td style = \"text-align: right;\">1</td><td style = \"text-align: right;\">0.131448</td><td style = \"text-align: right;\">0.235186</td><td style = \"text-align: right;\">0.0</td><td style = \"text-align: right;\">0.0</td></tr><tr><td class = \"rowNumber\" style = \"font-weight: bold; text-align: right;\">2</td><td style = \"text-align: right;\">2</td><td style = \"text-align: right;\">1</td><td style = \"text-align: right;\">1</td><td style = \"text-align: right;\">1</td><td style = \"text-align: right;\">1</td><td style = \"text-align: right;\">1</td><td style = \"text-align: right;\">1</td><td style = \"text-align: right;\">1</td><td style = \"text-align: right;\">1</td><td style = \"text-align: right;\">1</td><td style = \"text-align: right;\">1</td><td style = \"text-align: right;\">1</td><td style = \"text-align: right;\">1</td><td style = \"text-align: right;\">1</td><td style = \"text-align: right;\">1</td><td style = \"text-align: right;\">1</td><td style = \"text-align: right;\">1</td><td style = \"text-align: right;\">1</td><td style = \"text-align: right;\">1</td><td style = \"text-align: right;\">0.1658</td><td style = \"text-align: right;\">0.2987</td><td style = \"text-align: right;\">0.0</td><td style = \"text-align: right;\">1</td><td style = \"text-align: right;\">1</td><td style = \"text-align: right;\">1</td><td style = \"text-align: right;\">1</td><td style = \"text-align: right;\">1</td><td style = \"text-align: right;\">0.162792</td><td style = \"text-align: right;\">0.23255</td><td style = \"text-align: right;\">0.0</td><td style = \"text-align: right;\">0.0</td></tr><tr><td class = \"rowNumber\" style = \"font-weight: bold; text-align: right;\">3</td><td style = \"text-align: right;\">3</td><td style = \"text-align: right;\">1</td><td style = \"text-align: right;\">1</td><td style = \"text-align: right;\">1</td><td style = \"text-align: right;\">1</td><td style = \"text-align: right;\">1</td><td style = \"text-align: right;\">1</td><td style = \"text-align: right;\">1</td><td style = \"text-align: right;\">1</td><td style = \"text-align: right;\">1</td><td style = \"text-align: right;\">1</td><td style = \"text-align: right;\">1</td><td style = \"text-align: right;\">1</td><td style = \"text-align: right;\">1</td><td style = \"text-align: right;\">1</td><td style = \"text-align: right;\">1</td><td style = \"text-align: right;\">1</td><td style = \"text-align: right;\">1</td><td style = \"text-align: right;\">1</td><td style = \"text-align: right;\">0.1502</td><td style = \"text-align: right;\">0.2984</td><td style = \"text-align: right;\">0.0</td><td style = \"text-align: right;\">1</td><td style = \"text-align: right;\">1</td><td style = \"text-align: right;\">1</td><td style = \"text-align: right;\">1</td><td style = \"text-align: right;\">1</td><td style = \"text-align: right;\">0.169585</td><td style = \"text-align: right;\">0.197422</td><td style = \"text-align: right;\">0.0</td><td style = \"text-align: right;\">0.0</td></tr><tr><td class = \"rowNumber\" style = \"font-weight: bold; text-align: right;\">4</td><td style = \"text-align: right;\">4</td><td style = \"text-align: right;\">1</td><td style = \"text-align: right;\">1</td><td style = \"text-align: right;\">1</td><td style = \"text-align: right;\">1</td><td style = \"text-align: right;\">1</td><td style = \"text-align: right;\">1</td><td style = \"text-align: right;\">1</td><td style = \"text-align: right;\">1</td><td style = \"text-align: right;\">1</td><td style = \"text-align: right;\">1</td><td style = \"text-align: right;\">1</td><td style = \"text-align: right;\">1</td><td style = \"text-align: right;\">1</td><td style = \"text-align: right;\">1</td><td style = \"text-align: right;\">1</td><td style = \"text-align: right;\">1</td><td style = \"text-align: right;\">1</td><td style = \"text-align: right;\">1</td><td style = \"text-align: right;\">0.1455</td><td style = \"text-align: right;\">0.2981</td><td style = \"text-align: right;\">0.0</td><td style = \"text-align: right;\">1</td><td style = \"text-align: right;\">1</td><td style = \"text-align: right;\">1</td><td style = \"text-align: right;\">1</td><td style = \"text-align: right;\">1</td><td style = \"text-align: right;\">0.115781</td><td style = \"text-align: right;\">0.168985</td><td style = \"text-align: right;\">0.0</td><td style = \"text-align: right;\">0.0</td></tr><tr><td class = \"rowNumber\" style = \"font-weight: bold; text-align: right;\">5</td><td style = \"text-align: right;\">5</td><td style = \"text-align: right;\">1</td><td style = \"text-align: right;\">1</td><td style = \"text-align: right;\">1</td><td style = \"text-align: right;\">1</td><td style = \"text-align: right;\">1</td><td style = \"text-align: right;\">1</td><td style = \"text-align: right;\">1</td><td style = \"text-align: right;\">1</td><td style = \"text-align: right;\">1</td><td style = \"text-align: right;\">1</td><td style = \"text-align: right;\">1</td><td style = \"text-align: right;\">1</td><td style = \"text-align: right;\">1</td><td style = \"text-align: right;\">1</td><td style = \"text-align: right;\">1</td><td style = \"text-align: right;\">1</td><td style = \"text-align: right;\">1</td><td style = \"text-align: right;\">1</td><td style = \"text-align: right;\">0.0932</td><td style = \"text-align: right;\">0.2978</td><td style = \"text-align: right;\">0.0</td><td style = \"text-align: right;\">1</td><td style = \"text-align: right;\">1</td><td style = \"text-align: right;\">1</td><td style = \"text-align: right;\">1</td><td style = \"text-align: right;\">1</td><td style = \"text-align: right;\">0.0635784</td><td style = \"text-align: right;\">0.0962406</td><td style = \"text-align: right;\">0.0</td><td style = \"text-align: right;\">0.0</td></tr><tr><td class = \"rowNumber\" style = \"font-weight: bold; text-align: right;\">6</td><td style = \"text-align: right;\">6</td><td style = \"text-align: right;\">1</td><td style = \"text-align: right;\">1</td><td style = \"text-align: right;\">1</td><td style = \"text-align: right;\">1</td><td style = \"text-align: right;\">1</td><td style = \"text-align: right;\">1</td><td style = \"text-align: right;\">1</td><td style = \"text-align: right;\">1</td><td style = \"text-align: right;\">1</td><td style = \"text-align: right;\">1</td><td style = \"text-align: right;\">1</td><td style = \"text-align: right;\">1</td><td style = \"text-align: right;\">1</td><td style = \"text-align: right;\">1</td><td style = \"text-align: right;\">1</td><td style = \"text-align: right;\">1</td><td style = \"text-align: right;\">1</td><td style = \"text-align: right;\">1</td><td style = \"text-align: right;\">0.0717</td><td style = \"text-align: right;\">0.2974</td><td style = \"text-align: right;\">0.0</td><td style = \"text-align: right;\">1</td><td style = \"text-align: right;\">1</td><td style = \"text-align: right;\">1</td><td style = \"text-align: right;\">1</td><td style = \"text-align: right;\">1</td><td style = \"text-align: right;\">0.0736582</td><td style = \"text-align: right;\">0.0736047</td><td style = \"text-align: right;\">0.0</td><td style = \"text-align: right;\">0.0</td></tr><tr><td class = \"rowNumber\" style = \"font-weight: bold; text-align: right;\">7</td><td style = \"text-align: right;\">7</td><td style = \"text-align: right;\">1</td><td style = \"text-align: right;\">1</td><td style = \"text-align: right;\">1</td><td style = \"text-align: right;\">1</td><td style = \"text-align: right;\">1</td><td style = \"text-align: right;\">1</td><td style = \"text-align: right;\">1</td><td style = \"text-align: right;\">1</td><td style = \"text-align: right;\">1</td><td style = \"text-align: right;\">1</td><td style = \"text-align: right;\">1</td><td style = \"text-align: right;\">1</td><td style = \"text-align: right;\">1</td><td style = \"text-align: right;\">1</td><td style = \"text-align: right;\">1</td><td style = \"text-align: right;\">1</td><td style = \"text-align: right;\">1</td><td style = \"text-align: right;\">1</td><td style = \"text-align: right;\">0.0211</td><td style = \"text-align: right;\">0.2971</td><td style = \"text-align: right;\">0.0</td><td style = \"text-align: right;\">1</td><td style = \"text-align: right;\">1</td><td style = \"text-align: right;\">1</td><td style = \"text-align: right;\">1</td><td style = \"text-align: right;\">1</td><td style = \"text-align: right;\">0.191722</td><td style = \"text-align: right;\">0.0231735</td><td style = \"text-align: right;\">0.0</td><td style = \"text-align: right;\">0.0</td></tr><tr><td class = \"rowNumber\" style = \"font-weight: bold; text-align: right;\">8</td><td style = \"text-align: right;\">8</td><td style = \"text-align: right;\">1</td><td style = \"text-align: right;\">1</td><td style = \"text-align: right;\">1</td><td style = \"text-align: right;\">1</td><td style = \"text-align: right;\">1</td><td style = \"text-align: right;\">1</td><td style = \"text-align: right;\">1</td><td style = \"text-align: right;\">1</td><td style = \"text-align: right;\">1</td><td style = \"text-align: right;\">1</td><td style = \"text-align: right;\">1</td><td style = \"text-align: right;\">1</td><td style = \"text-align: right;\">1</td><td style = \"text-align: right;\">1</td><td style = \"text-align: right;\">1</td><td style = \"text-align: right;\">1</td><td style = \"text-align: right;\">1</td><td style = \"text-align: right;\">1</td><td style = \"text-align: right;\">0.0216</td><td style = \"text-align: right;\">0.2968</td><td style = \"text-align: right;\">0.0488</td><td style = \"text-align: right;\">1</td><td style = \"text-align: right;\">1</td><td style = \"text-align: right;\">1</td><td style = \"text-align: right;\">1</td><td style = \"text-align: right;\">1</td><td style = \"text-align: right;\">0.141564</td><td style = \"text-align: right;\">0.022771</td><td style = \"text-align: right;\">0.160355</td><td style = \"text-align: right;\">0.126487</td></tr><tr><td class = \"rowNumber\" style = \"font-weight: bold; text-align: right;\">9</td><td style = \"text-align: right;\">9</td><td style = \"text-align: right;\">1</td><td style = \"text-align: right;\">1</td><td style = \"text-align: right;\">1</td><td style = \"text-align: right;\">1</td><td style = \"text-align: right;\">1</td><td style = \"text-align: right;\">1</td><td style = \"text-align: right;\">1</td><td style = \"text-align: right;\">1</td><td style = \"text-align: right;\">1</td><td style = \"text-align: right;\">1</td><td style = \"text-align: right;\">1</td><td style = \"text-align: right;\">1</td><td style = \"text-align: right;\">1</td><td style = \"text-align: right;\">1</td><td style = \"text-align: right;\">1</td><td style = \"text-align: right;\">1</td><td style = \"text-align: right;\">1</td><td style = \"text-align: right;\">1</td><td style = \"text-align: right;\">0.0216</td><td style = \"text-align: right;\">0.2965</td><td style = \"text-align: right;\">0.3515</td><td style = \"text-align: right;\">1</td><td style = \"text-align: right;\">1</td><td style = \"text-align: right;\">1</td><td style = \"text-align: right;\">1</td><td style = \"text-align: right;\">1</td><td style = \"text-align: right;\">0.172937</td><td style = \"text-align: right;\">0.0334803</td><td style = \"text-align: right;\">0.530314</td><td style = \"text-align: right;\">0.517171</td></tr><tr><td class = \"rowNumber\" style = \"font-weight: bold; text-align: right;\">10</td><td style = \"text-align: right;\">10</td><td style = \"text-align: right;\">1</td><td style = \"text-align: right;\">1</td><td style = \"text-align: right;\">1</td><td style = \"text-align: right;\">1</td><td style = \"text-align: right;\">1</td><td style = \"text-align: right;\">1</td><td style = \"text-align: right;\">1</td><td style = \"text-align: right;\">1</td><td style = \"text-align: right;\">1</td><td style = \"text-align: right;\">1</td><td style = \"text-align: right;\">1</td><td style = \"text-align: right;\">1</td><td style = \"text-align: right;\">1</td><td style = \"text-align: right;\">1</td><td style = \"text-align: right;\">1</td><td style = \"text-align: right;\">1</td><td style = \"text-align: right;\">1</td><td style = \"text-align: right;\">1</td><td style = \"text-align: right;\">0.0059</td><td style = \"text-align: right;\">0.2962</td><td style = \"text-align: right;\">0.5168</td><td style = \"text-align: right;\">1</td><td style = \"text-align: right;\">1</td><td style = \"text-align: right;\">1</td><td style = \"text-align: right;\">1</td><td style = \"text-align: right;\">1</td><td style = \"text-align: right;\">0.100785</td><td style = \"text-align: right;\">0.0240178</td><td style = \"text-align: right;\">0.737064</td><td style = \"text-align: right;\">0.725975</td></tr><tr><td class = \"rowNumber\" style = \"font-weight: bold; text-align: right;\">11</td><td style = \"text-align: right;\">11</td><td style = \"text-align: right;\">1</td><td style = \"text-align: right;\">1</td><td style = \"text-align: right;\">1</td><td style = \"text-align: right;\">1</td><td style = \"text-align: right;\">1</td><td style = \"text-align: right;\">1</td><td style = \"text-align: right;\">1</td><td style = \"text-align: right;\">1</td><td style = \"text-align: right;\">1</td><td style = \"text-align: right;\">1</td><td style = \"text-align: right;\">1</td><td style = \"text-align: right;\">1</td><td style = \"text-align: right;\">1</td><td style = \"text-align: right;\">1</td><td style = \"text-align: right;\">1</td><td style = \"text-align: right;\">1</td><td style = \"text-align: right;\">1</td><td style = \"text-align: right;\">1</td><td style = \"text-align: right;\">0.0682</td><td style = \"text-align: right;\">0.2959</td><td style = \"text-align: right;\">0.6122</td><td style = \"text-align: right;\">1</td><td style = \"text-align: right;\">1</td><td style = \"text-align: right;\">1</td><td style = \"text-align: right;\">1</td><td style = \"text-align: right;\">1</td><td style = \"text-align: right;\">0.041375</td><td style = \"text-align: right;\">0.0947979</td><td style = \"text-align: right;\">0.841205</td><td style = \"text-align: right;\">0.832869</td></tr><tr><td class = \"rowNumber\" style = \"font-weight: bold; text-align: right;\">12</td><td style = \"text-align: right;\">12</td><td style = \"text-align: right;\">1</td><td style = \"text-align: right;\">1</td><td style = \"text-align: right;\">1</td><td style = \"text-align: right;\">1</td><td style = \"text-align: right;\">1</td><td style = \"text-align: right;\">1</td><td style = \"text-align: right;\">1</td><td style = \"text-align: right;\">1</td><td style = \"text-align: right;\">1</td><td style = \"text-align: right;\">1</td><td style = \"text-align: right;\">1</td><td style = \"text-align: right;\">1</td><td style = \"text-align: right;\">1</td><td style = \"text-align: right;\">1</td><td style = \"text-align: right;\">1</td><td style = \"text-align: right;\">1</td><td style = \"text-align: right;\">1</td><td style = \"text-align: right;\">1</td><td style = \"text-align: right;\">0.1199</td><td style = \"text-align: right;\">0.2955</td><td style = \"text-align: right;\">0.6688</td><td style = \"text-align: right;\">1</td><td style = \"text-align: right;\">1</td><td style = \"text-align: right;\">1</td><td style = \"text-align: right;\">1</td><td style = \"text-align: right;\">1</td><td style = \"text-align: right;\">0.060163</td><td style = \"text-align: right;\">0.147755</td><td style = \"text-align: right;\">0.897431</td><td style = \"text-align: right;\">0.887032</td></tr><tr><td class = \"rowNumber\" style = \"font-weight: bold; text-align: right;\">13</td><td style = \"text-align: right;\">13</td><td style = \"text-align: right;\">1</td><td style = \"text-align: right;\">1</td><td style = \"text-align: right;\">1</td><td style = \"text-align: right;\">1</td><td style = \"text-align: right;\">1</td><td style = \"text-align: right;\">1</td><td style = \"text-align: right;\">1</td><td style = \"text-align: right;\">1</td><td style = \"text-align: right;\">1</td><td style = \"text-align: right;\">1</td><td style = \"text-align: right;\">1</td><td style = \"text-align: right;\">1</td><td style = \"text-align: right;\">1</td><td style = \"text-align: right;\">1</td><td style = \"text-align: right;\">1</td><td style = \"text-align: right;\">1</td><td style = \"text-align: right;\">1</td><td style = \"text-align: right;\">1</td><td style = \"text-align: right;\">0.3687</td><td style = \"text-align: right;\">0.2952</td><td style = \"text-align: right;\">0.6849</td><td style = \"text-align: right;\">1</td><td style = \"text-align: right;\">1</td><td style = \"text-align: right;\">1</td><td style = \"text-align: right;\">1</td><td style = \"text-align: right;\">1</td><td style = \"text-align: right;\">0.139278</td><td style = \"text-align: right;\">0.450697</td><td style = \"text-align: right;\">0.916456</td><td style = \"text-align: right;\">0.902785</td></tr><tr><td style = \"text-align: right;\">&vellip;</td><td style = \"text-align: right;\">&vellip;</td><td style = \"text-align: right;\">&vellip;</td><td style = \"text-align: right;\">&vellip;</td><td style = \"text-align: right;\">&vellip;</td><td style = \"text-align: right;\">&vellip;</td><td style = \"text-align: right;\">&vellip;</td><td style = \"text-align: right;\">&vellip;</td><td style = \"text-align: right;\">&vellip;</td><td style = \"text-align: right;\">&vellip;</td><td style = \"text-align: right;\">&vellip;</td><td style = \"text-align: right;\">&vellip;</td><td style = \"text-align: right;\">&vellip;</td><td style = \"text-align: right;\">&vellip;</td><td style = \"text-align: right;\">&vellip;</td><td style = \"text-align: right;\">&vellip;</td><td style = \"text-align: right;\">&vellip;</td><td style = \"text-align: right;\">&vellip;</td><td style = \"text-align: right;\">&vellip;</td><td style = \"text-align: right;\">&vellip;</td><td style = \"text-align: right;\">&vellip;</td><td style = \"text-align: right;\">&vellip;</td><td style = \"text-align: right;\">&vellip;</td><td style = \"text-align: right;\">&vellip;</td><td style = \"text-align: right;\">&vellip;</td><td style = \"text-align: right;\">&vellip;</td><td style = \"text-align: right;\">&vellip;</td><td style = \"text-align: right;\">&vellip;</td><td style = \"text-align: right;\">&vellip;</td><td style = \"text-align: right;\">&vellip;</td><td style = \"text-align: right;\">&vellip;</td><td style = \"text-align: right;\">&vellip;</td></tr><tr><td class = \"rowNumber\" style = \"font-weight: bold; text-align: right;\">8749</td><td style = \"text-align: right;\">8749</td><td style = \"text-align: right;\">1</td><td style = \"text-align: right;\">1</td><td style = \"text-align: right;\">1</td><td style = \"text-align: right;\">1</td><td style = \"text-align: right;\">1</td><td style = \"text-align: right;\">1</td><td style = \"text-align: right;\">1</td><td style = \"text-align: right;\">1</td><td style = \"text-align: right;\">1</td><td style = \"text-align: right;\">1</td><td style = \"text-align: right;\">1</td><td style = \"text-align: right;\">1</td><td style = \"text-align: right;\">1</td><td style = \"text-align: right;\">1</td><td style = \"text-align: right;\">1</td><td style = \"text-align: right;\">1</td><td style = \"text-align: right;\">1</td><td style = \"text-align: right;\">1</td><td style = \"text-align: right;\">0.0232</td><td style = \"text-align: right;\">0.3029</td><td style = \"text-align: right;\">0.7298</td><td style = \"text-align: right;\">1</td><td style = \"text-align: right;\">1</td><td style = \"text-align: right;\">1</td><td style = \"text-align: right;\">1</td><td style = \"text-align: right;\">1</td><td style = \"text-align: right;\">0.0552232</td><td style = \"text-align: right;\">0.0106323</td><td style = \"text-align: right;\">0.962</td><td style = \"text-align: right;\">0.958197</td></tr><tr><td class = \"rowNumber\" style = \"font-weight: bold; text-align: right;\">8750</td><td style = \"text-align: right;\">8750</td><td style = \"text-align: right;\">1</td><td style = \"text-align: right;\">1</td><td style = \"text-align: right;\">1</td><td style = \"text-align: right;\">1</td><td style = \"text-align: right;\">1</td><td style = \"text-align: right;\">1</td><td style = \"text-align: right;\">1</td><td style = \"text-align: right;\">1</td><td style = \"text-align: right;\">1</td><td style = \"text-align: right;\">1</td><td style = \"text-align: right;\">1</td><td style = \"text-align: right;\">1</td><td style = \"text-align: right;\">1</td><td style = \"text-align: right;\">1</td><td style = \"text-align: right;\">1</td><td style = \"text-align: right;\">1</td><td style = \"text-align: right;\">1</td><td style = \"text-align: right;\">1</td><td style = \"text-align: right;\">0.0184</td><td style = \"text-align: right;\">0.3026</td><td style = \"text-align: right;\">0.7209</td><td style = \"text-align: right;\">1</td><td style = \"text-align: right;\">1</td><td style = \"text-align: right;\">1</td><td style = \"text-align: right;\">1</td><td style = \"text-align: right;\">1</td><td style = \"text-align: right;\">0.00819863</td><td style = \"text-align: right;\">0.0194582</td><td style = \"text-align: right;\">0.948126</td><td style = \"text-align: right;\">0.949066</td></tr><tr><td class = \"rowNumber\" style = \"font-weight: bold; text-align: right;\">8751</td><td style = \"text-align: right;\">8751</td><td style = \"text-align: right;\">1</td><td style = \"text-align: right;\">1</td><td style = \"text-align: right;\">1</td><td style = \"text-align: right;\">1</td><td style = \"text-align: right;\">1</td><td style = \"text-align: right;\">1</td><td style = \"text-align: right;\">1</td><td style = \"text-align: right;\">1</td><td style = \"text-align: right;\">1</td><td style = \"text-align: right;\">1</td><td style = \"text-align: right;\">1</td><td style = \"text-align: right;\">1</td><td style = \"text-align: right;\">1</td><td style = \"text-align: right;\">1</td><td style = \"text-align: right;\">1</td><td style = \"text-align: right;\">1</td><td style = \"text-align: right;\">1</td><td style = \"text-align: right;\">1</td><td style = \"text-align: right;\">0.002</td><td style = \"text-align: right;\">0.3022</td><td style = \"text-align: right;\">0.6381</td><td style = \"text-align: right;\">1</td><td style = \"text-align: right;\">1</td><td style = \"text-align: right;\">1</td><td style = \"text-align: right;\">1</td><td style = \"text-align: right;\">1</td><td style = \"text-align: right;\">0.000661809</td><td style = \"text-align: right;\">0.0</td><td style = \"text-align: right;\">0.852887</td><td style = \"text-align: right;\">0.849817</td></tr><tr><td class = \"rowNumber\" style = \"font-weight: bold; text-align: right;\">8752</td><td style = \"text-align: right;\">8752</td><td style = \"text-align: right;\">1</td><td style = \"text-align: right;\">1</td><td style = \"text-align: right;\">1</td><td style = \"text-align: right;\">1</td><td style = \"text-align: right;\">1</td><td style = \"text-align: right;\">1</td><td style = \"text-align: right;\">1</td><td style = \"text-align: right;\">1</td><td style = \"text-align: right;\">1</td><td style = \"text-align: right;\">1</td><td style = \"text-align: right;\">1</td><td style = \"text-align: right;\">1</td><td style = \"text-align: right;\">1</td><td style = \"text-align: right;\">1</td><td style = \"text-align: right;\">1</td><td style = \"text-align: right;\">1</td><td style = \"text-align: right;\">1</td><td style = \"text-align: right;\">1</td><td style = \"text-align: right;\">0.0029</td><td style = \"text-align: right;\">0.3019</td><td style = \"text-align: right;\">0.5058</td><td style = \"text-align: right;\">1</td><td style = \"text-align: right;\">1</td><td style = \"text-align: right;\">1</td><td style = \"text-align: right;\">1</td><td style = \"text-align: right;\">1</td><td style = \"text-align: right;\">0.00255233</td><td style = \"text-align: right;\">0.0</td><td style = \"text-align: right;\">0.687016</td><td style = \"text-align: right;\">0.692269</td></tr><tr><td class = \"rowNumber\" style = \"font-weight: bold; text-align: right;\">8753</td><td style = \"text-align: right;\">8753</td><td style = \"text-align: right;\">1</td><td style = \"text-align: right;\">1</td><td style = \"text-align: right;\">1</td><td style = \"text-align: right;\">1</td><td style = \"text-align: right;\">1</td><td style = \"text-align: right;\">1</td><td style = \"text-align: right;\">1</td><td style = \"text-align: right;\">1</td><td style = \"text-align: right;\">1</td><td style = \"text-align: right;\">1</td><td style = \"text-align: right;\">1</td><td style = \"text-align: right;\">1</td><td style = \"text-align: right;\">1</td><td style = \"text-align: right;\">1</td><td style = \"text-align: right;\">1</td><td style = \"text-align: right;\">1</td><td style = \"text-align: right;\">1</td><td style = \"text-align: right;\">1</td><td style = \"text-align: right;\">0.1622</td><td style = \"text-align: right;\">0.3016</td><td style = \"text-align: right;\">0.2905</td><td style = \"text-align: right;\">1</td><td style = \"text-align: right;\">1</td><td style = \"text-align: right;\">1</td><td style = \"text-align: right;\">1</td><td style = \"text-align: right;\">1</td><td style = \"text-align: right;\">0.0296442</td><td style = \"text-align: right;\">0.227435</td><td style = \"text-align: right;\">0.440206</td><td style = \"text-align: right;\">0.430381</td></tr><tr><td class = \"rowNumber\" style = \"font-weight: bold; text-align: right;\">8754</td><td style = \"text-align: right;\">8754</td><td style = \"text-align: right;\">1</td><td style = \"text-align: right;\">1</td><td style = \"text-align: right;\">1</td><td style = \"text-align: right;\">1</td><td style = \"text-align: right;\">1</td><td style = \"text-align: right;\">1</td><td style = \"text-align: right;\">1</td><td style = \"text-align: right;\">1</td><td style = \"text-align: right;\">1</td><td style = \"text-align: right;\">1</td><td style = \"text-align: right;\">1</td><td style = \"text-align: right;\">1</td><td style = \"text-align: right;\">1</td><td style = \"text-align: right;\">1</td><td style = \"text-align: right;\">1</td><td style = \"text-align: right;\">1</td><td style = \"text-align: right;\">1</td><td style = \"text-align: right;\">1</td><td style = \"text-align: right;\">0.2412</td><td style = \"text-align: right;\">0.3013</td><td style = \"text-align: right;\">0.0</td><td style = \"text-align: right;\">1</td><td style = \"text-align: right;\">1</td><td style = \"text-align: right;\">1</td><td style = \"text-align: right;\">1</td><td style = \"text-align: right;\">1</td><td style = \"text-align: right;\">0.0534046</td><td style = \"text-align: right;\">0.351959</td><td style = \"text-align: right;\">0.0</td><td style = \"text-align: right;\">0.0</td></tr><tr><td class = \"rowNumber\" style = \"font-weight: bold; text-align: right;\">8755</td><td style = \"text-align: right;\">8755</td><td style = \"text-align: right;\">1</td><td style = \"text-align: right;\">1</td><td style = \"text-align: right;\">1</td><td style = \"text-align: right;\">1</td><td style = \"text-align: right;\">1</td><td style = \"text-align: right;\">1</td><td style = \"text-align: right;\">1</td><td style = \"text-align: right;\">1</td><td style = \"text-align: right;\">1</td><td style = \"text-align: right;\">1</td><td style = \"text-align: right;\">1</td><td style = \"text-align: right;\">1</td><td style = \"text-align: right;\">1</td><td style = \"text-align: right;\">1</td><td style = \"text-align: right;\">1</td><td style = \"text-align: right;\">1</td><td style = \"text-align: right;\">1</td><td style = \"text-align: right;\">1</td><td style = \"text-align: right;\">0.1262</td><td style = \"text-align: right;\">0.301</td><td style = \"text-align: right;\">0.0</td><td style = \"text-align: right;\">1</td><td style = \"text-align: right;\">1</td><td style = \"text-align: right;\">1</td><td style = \"text-align: right;\">1</td><td style = \"text-align: right;\">1</td><td style = \"text-align: right;\">0.0456225</td><td style = \"text-align: right;\">0.21634</td><td style = \"text-align: right;\">0.0</td><td style = \"text-align: right;\">0.0</td></tr><tr><td class = \"rowNumber\" style = \"font-weight: bold; text-align: right;\">8756</td><td style = \"text-align: right;\">8756</td><td style = \"text-align: right;\">1</td><td style = \"text-align: right;\">1</td><td style = \"text-align: right;\">1</td><td style = \"text-align: right;\">1</td><td style = \"text-align: right;\">1</td><td style = \"text-align: right;\">1</td><td style = \"text-align: right;\">1</td><td style = \"text-align: right;\">1</td><td style = \"text-align: right;\">1</td><td style = \"text-align: right;\">1</td><td style = \"text-align: right;\">1</td><td style = \"text-align: right;\">1</td><td style = \"text-align: right;\">1</td><td style = \"text-align: right;\">1</td><td style = \"text-align: right;\">1</td><td style = \"text-align: right;\">1</td><td style = \"text-align: right;\">1</td><td style = \"text-align: right;\">1</td><td style = \"text-align: right;\">0.1549</td><td style = \"text-align: right;\">0.3006</td><td style = \"text-align: right;\">0.0</td><td style = \"text-align: right;\">1</td><td style = \"text-align: right;\">1</td><td style = \"text-align: right;\">1</td><td style = \"text-align: right;\">1</td><td style = \"text-align: right;\">1</td><td style = \"text-align: right;\">0.0908019</td><td style = \"text-align: right;\">0.293224</td><td style = \"text-align: right;\">0.0</td><td style = \"text-align: right;\">0.0</td></tr><tr><td class = \"rowNumber\" style = \"font-weight: bold; text-align: right;\">8757</td><td style = \"text-align: right;\">8757</td><td style = \"text-align: right;\">1</td><td style = \"text-align: right;\">1</td><td style = \"text-align: right;\">1</td><td style = \"text-align: right;\">1</td><td style = \"text-align: right;\">1</td><td style = \"text-align: right;\">1</td><td style = \"text-align: right;\">1</td><td style = \"text-align: right;\">1</td><td style = \"text-align: right;\">1</td><td style = \"text-align: right;\">1</td><td style = \"text-align: right;\">1</td><td style = \"text-align: right;\">1</td><td style = \"text-align: right;\">1</td><td style = \"text-align: right;\">1</td><td style = \"text-align: right;\">1</td><td style = \"text-align: right;\">1</td><td style = \"text-align: right;\">1</td><td style = \"text-align: right;\">1</td><td style = \"text-align: right;\">0.169</td><td style = \"text-align: right;\">0.3003</td><td style = \"text-align: right;\">0.0</td><td style = \"text-align: right;\">1</td><td style = \"text-align: right;\">1</td><td style = \"text-align: right;\">1</td><td style = \"text-align: right;\">1</td><td style = \"text-align: right;\">1</td><td style = \"text-align: right;\">0.177524</td><td style = \"text-align: right;\">0.327252</td><td style = \"text-align: right;\">0.0</td><td style = \"text-align: right;\">0.0</td></tr><tr><td class = \"rowNumber\" style = \"font-weight: bold; text-align: right;\">8758</td><td style = \"text-align: right;\">8758</td><td style = \"text-align: right;\">1</td><td style = \"text-align: right;\">1</td><td style = \"text-align: right;\">1</td><td style = \"text-align: right;\">1</td><td style = \"text-align: right;\">1</td><td style = \"text-align: right;\">1</td><td style = \"text-align: right;\">1</td><td style = \"text-align: right;\">1</td><td style = \"text-align: right;\">1</td><td style = \"text-align: right;\">1</td><td style = \"text-align: right;\">1</td><td style = \"text-align: right;\">1</td><td style = \"text-align: right;\">1</td><td style = \"text-align: right;\">1</td><td style = \"text-align: right;\">1</td><td style = \"text-align: right;\">1</td><td style = \"text-align: right;\">1</td><td style = \"text-align: right;\">1</td><td style = \"text-align: right;\">0.4212</td><td style = \"text-align: right;\">0.3</td><td style = \"text-align: right;\">0.0</td><td style = \"text-align: right;\">1</td><td style = \"text-align: right;\">1</td><td style = \"text-align: right;\">1</td><td style = \"text-align: right;\">1</td><td style = \"text-align: right;\">1</td><td style = \"text-align: right;\">0.196106</td><td style = \"text-align: right;\">0.608015</td><td style = \"text-align: right;\">0.0</td><td style = \"text-align: right;\">0.0</td></tr><tr><td class = \"rowNumber\" style = \"font-weight: bold; text-align: right;\">8759</td><td style = \"text-align: right;\">8759</td><td style = \"text-align: right;\">1</td><td style = \"text-align: right;\">1</td><td style = \"text-align: right;\">1</td><td style = \"text-align: right;\">1</td><td style = \"text-align: right;\">1</td><td style = \"text-align: right;\">1</td><td style = \"text-align: right;\">1</td><td style = \"text-align: right;\">1</td><td style = \"text-align: right;\">1</td><td style = \"text-align: right;\">1</td><td style = \"text-align: right;\">1</td><td style = \"text-align: right;\">1</td><td style = \"text-align: right;\">1</td><td style = \"text-align: right;\">1</td><td style = \"text-align: right;\">1</td><td style = \"text-align: right;\">1</td><td style = \"text-align: right;\">1</td><td style = \"text-align: right;\">1</td><td style = \"text-align: right;\">0.3381</td><td style = \"text-align: right;\">0.2997</td><td style = \"text-align: right;\">0.0</td><td style = \"text-align: right;\">1</td><td style = \"text-align: right;\">1</td><td style = \"text-align: right;\">1</td><td style = \"text-align: right;\">1</td><td style = \"text-align: right;\">1</td><td style = \"text-align: right;\">0.163481</td><td style = \"text-align: right;\">0.500772</td><td style = \"text-align: right;\">0.0</td><td style = \"text-align: right;\">0.0</td></tr><tr><td class = \"rowNumber\" style = \"font-weight: bold; text-align: right;\">8760</td><td style = \"text-align: right;\">8760</td><td style = \"text-align: right;\">1</td><td style = \"text-align: right;\">1</td><td style = \"text-align: right;\">1</td><td style = \"text-align: right;\">1</td><td style = \"text-align: right;\">1</td><td style = \"text-align: right;\">1</td><td style = \"text-align: right;\">1</td><td style = \"text-align: right;\">1</td><td style = \"text-align: right;\">1</td><td style = \"text-align: right;\">1</td><td style = \"text-align: right;\">1</td><td style = \"text-align: right;\">1</td><td style = \"text-align: right;\">1</td><td style = \"text-align: right;\">1</td><td style = \"text-align: right;\">1</td><td style = \"text-align: right;\">1</td><td style = \"text-align: right;\">1</td><td style = \"text-align: right;\">1</td><td style = \"text-align: right;\">0.2026</td><td style = \"text-align: right;\">0.2994</td><td style = \"text-align: right;\">0.0</td><td style = \"text-align: right;\">1</td><td style = \"text-align: right;\">1</td><td style = \"text-align: right;\">1</td><td style = \"text-align: right;\">1</td><td style = \"text-align: right;\">1</td><td style = \"text-align: right;\">0.129312</td><td style = \"text-align: right;\">0.296465</td><td style = \"text-align: right;\">0.0</td><td style = \"text-align: right;\">0.0</td></tr></tbody></table></div>"
      ],
      "text/latex": [
       "\\begin{tabular}{r|cccccc}\n",
       "\t& hour & wec\\_sdge\\_biomass\\_1.0 & wec\\_sdge\\_hydroelectric\\_pumped\\_storage\\_1.0 & wec\\_sdge\\_natural\\_gas\\_fired\\_combined\\_cycle\\_1.0 & wec\\_sdge\\_natural\\_gas\\_fired\\_combined\\_cycle\\_2.0 & \\\\\n",
       "\t\\hline\n",
       "\t& Int64 & Int64 & Int64 & Int64 & Int64 & \\\\\n",
       "\t\\hline\n",
       "\t1 & 1 & 1 & 1 & 1 & 1 & $\\dots$ \\\\\n",
       "\t2 & 2 & 1 & 1 & 1 & 1 & $\\dots$ \\\\\n",
       "\t3 & 3 & 1 & 1 & 1 & 1 & $\\dots$ \\\\\n",
       "\t4 & 4 & 1 & 1 & 1 & 1 & $\\dots$ \\\\\n",
       "\t5 & 5 & 1 & 1 & 1 & 1 & $\\dots$ \\\\\n",
       "\t6 & 6 & 1 & 1 & 1 & 1 & $\\dots$ \\\\\n",
       "\t7 & 7 & 1 & 1 & 1 & 1 & $\\dots$ \\\\\n",
       "\t8 & 8 & 1 & 1 & 1 & 1 & $\\dots$ \\\\\n",
       "\t9 & 9 & 1 & 1 & 1 & 1 & $\\dots$ \\\\\n",
       "\t10 & 10 & 1 & 1 & 1 & 1 & $\\dots$ \\\\\n",
       "\t11 & 11 & 1 & 1 & 1 & 1 & $\\dots$ \\\\\n",
       "\t12 & 12 & 1 & 1 & 1 & 1 & $\\dots$ \\\\\n",
       "\t13 & 13 & 1 & 1 & 1 & 1 & $\\dots$ \\\\\n",
       "\t14 & 14 & 1 & 1 & 1 & 1 & $\\dots$ \\\\\n",
       "\t15 & 15 & 1 & 1 & 1 & 1 & $\\dots$ \\\\\n",
       "\t16 & 16 & 1 & 1 & 1 & 1 & $\\dots$ \\\\\n",
       "\t17 & 17 & 1 & 1 & 1 & 1 & $\\dots$ \\\\\n",
       "\t18 & 18 & 1 & 1 & 1 & 1 & $\\dots$ \\\\\n",
       "\t19 & 19 & 1 & 1 & 1 & 1 & $\\dots$ \\\\\n",
       "\t20 & 20 & 1 & 1 & 1 & 1 & $\\dots$ \\\\\n",
       "\t21 & 21 & 1 & 1 & 1 & 1 & $\\dots$ \\\\\n",
       "\t22 & 22 & 1 & 1 & 1 & 1 & $\\dots$ \\\\\n",
       "\t23 & 23 & 1 & 1 & 1 & 1 & $\\dots$ \\\\\n",
       "\t24 & 24 & 1 & 1 & 1 & 1 & $\\dots$ \\\\\n",
       "\t25 & 25 & 1 & 1 & 1 & 1 & $\\dots$ \\\\\n",
       "\t26 & 26 & 1 & 1 & 1 & 1 & $\\dots$ \\\\\n",
       "\t27 & 27 & 1 & 1 & 1 & 1 & $\\dots$ \\\\\n",
       "\t28 & 28 & 1 & 1 & 1 & 1 & $\\dots$ \\\\\n",
       "\t29 & 29 & 1 & 1 & 1 & 1 & $\\dots$ \\\\\n",
       "\t30 & 30 & 1 & 1 & 1 & 1 & $\\dots$ \\\\\n",
       "\t$\\dots$ & $\\dots$ & $\\dots$ & $\\dots$ & $\\dots$ & $\\dots$ &  \\\\\n",
       "\\end{tabular}\n"
      ],
      "text/plain": [
       "\u001b[1m8760×31 DataFrame\u001b[0m\n",
       "\u001b[1m  Row \u001b[0m│\u001b[1m hour  \u001b[0m\u001b[1m wec_sdge_biomass_1.0 \u001b[0m\u001b[1m wec_sdge_hydroelectric_pumped_storage_1.0 \u001b[0m\u001b[1m wec_sdge_natural_gas_fired_combined_cy\u001b[0m ⋯\n",
       "      │\u001b[90m Int64 \u001b[0m\u001b[90m Int64                \u001b[0m\u001b[90m Int64                                     \u001b[0m\u001b[90m Int64                                 \u001b[0m ⋯\n",
       "──────┼─────────────────────────────────────────────────────────────────────────────────────────────────────────────────\n",
       "    1 │     1                     1                                          1                                         ⋯\n",
       "    2 │     2                     1                                          1\n",
       "    3 │     3                     1                                          1\n",
       "    4 │     4                     1                                          1\n",
       "    5 │     5                     1                                          1                                         ⋯\n",
       "    6 │     6                     1                                          1\n",
       "    7 │     7                     1                                          1\n",
       "    8 │     8                     1                                          1\n",
       "    9 │     9                     1                                          1                                         ⋯\n",
       "   10 │    10                     1                                          1\n",
       "   11 │    11                     1                                          1\n",
       "  ⋮   │   ⋮             ⋮                                ⋮                                            ⋮                ⋱\n",
       " 8751 │  8751                     1                                          1\n",
       " 8752 │  8752                     1                                          1                                         ⋯\n",
       " 8753 │  8753                     1                                          1\n",
       " 8754 │  8754                     1                                          1\n",
       " 8755 │  8755                     1                                          1\n",
       " 8756 │  8756                     1                                          1                                         ⋯\n",
       " 8757 │  8757                     1                                          1\n",
       " 8758 │  8758                     1                                          1\n",
       " 8759 │  8759                     1                                          1\n",
       " 8760 │  8760                     1                                          1                                         ⋯\n",
       "\u001b[36m                                                                                        28 columns and 8739 rows omitted\u001b[0m"
      ]
     },
     "execution_count": 59,
     "metadata": {},
     "output_type": "execute_result"
    }
   ],
   "source": [
    "gen_df.gen_full = lowercase.(gen_df.region .* \"_\" .* gen_df.resource .* \"_\" .* string.(gen_df.cluster) .* \".0\");\n",
    "gen_df = gen_df[gen_df.existing_cap_mw .> 0,:];\n",
    "gen_variable.hour = mod.(gen_variable.hour .- 9, 8760) .+1 \n",
    "sort!(gen_variable, :hour)"
   ]
  },
  {
   "cell_type": "code",
   "execution_count": 60,
   "id": "3413c8ca",
   "metadata": {},
   "outputs": [
    {
     "data": {
      "text/html": [
       "<div><div style = \"float: left;\"><span>31×7 DataFrame</span></div><div style = \"float: right;\"><span style = \"font-style: italic;\">6 rows omitted</span></div><div style = \"clear: both;\"></div></div><div class = \"data-frame\" style = \"overflow-x: scroll;\"><table class = \"data-frame\" style = \"margin-bottom: 6px;\"><thead><tr class = \"header\"><th class = \"rowNumber\" style = \"font-weight: bold; text-align: right;\">Row</th><th style = \"text-align: left;\">variable</th><th style = \"text-align: left;\">mean</th><th style = \"text-align: left;\">min</th><th style = \"text-align: left;\">median</th><th style = \"text-align: left;\">max</th><th style = \"text-align: left;\">nmissing</th><th style = \"text-align: left;\">eltype</th></tr><tr class = \"subheader headerLastRow\"><th class = \"rowNumber\" style = \"font-weight: bold; text-align: right;\"></th><th title = \"Symbol\" style = \"text-align: left;\">Symbol</th><th title = \"Float64\" style = \"text-align: left;\">Float64</th><th title = \"Real\" style = \"text-align: left;\">Real</th><th title = \"Float64\" style = \"text-align: left;\">Float64</th><th title = \"Real\" style = \"text-align: left;\">Real</th><th title = \"Int64\" style = \"text-align: left;\">Int64</th><th title = \"DataType\" style = \"text-align: left;\">DataType</th></tr></thead><tbody><tr><td class = \"rowNumber\" style = \"font-weight: bold; text-align: right;\">1</td><td style = \"text-align: left;\">hour</td><td style = \"text-align: right;\">4380.5</td><td style = \"text-align: right;\">1</td><td style = \"text-align: right;\">4380.5</td><td style = \"text-align: right;\">8760</td><td style = \"text-align: right;\">0</td><td style = \"text-align: left;\">Int64</td></tr><tr><td class = \"rowNumber\" style = \"font-weight: bold; text-align: right;\">2</td><td style = \"text-align: left;\">wec_sdge_biomass_1.0</td><td style = \"text-align: right;\">1.0</td><td style = \"text-align: right;\">1</td><td style = \"text-align: right;\">1.0</td><td style = \"text-align: right;\">1</td><td style = \"text-align: right;\">0</td><td style = \"text-align: left;\">Int64</td></tr><tr><td class = \"rowNumber\" style = \"font-weight: bold; text-align: right;\">3</td><td style = \"text-align: left;\">wec_sdge_hydroelectric_pumped_storage_1.0</td><td style = \"text-align: right;\">1.0</td><td style = \"text-align: right;\">1</td><td style = \"text-align: right;\">1.0</td><td style = \"text-align: right;\">1</td><td style = \"text-align: right;\">0</td><td style = \"text-align: left;\">Int64</td></tr><tr><td class = \"rowNumber\" style = \"font-weight: bold; text-align: right;\">4</td><td style = \"text-align: left;\">wec_sdge_natural_gas_fired_combined_cycle_1.0</td><td style = \"text-align: right;\">1.0</td><td style = \"text-align: right;\">1</td><td style = \"text-align: right;\">1.0</td><td style = \"text-align: right;\">1</td><td style = \"text-align: right;\">0</td><td style = \"text-align: left;\">Int64</td></tr><tr><td class = \"rowNumber\" style = \"font-weight: bold; text-align: right;\">5</td><td style = \"text-align: left;\">wec_sdge_natural_gas_fired_combined_cycle_2.0</td><td style = \"text-align: right;\">1.0</td><td style = \"text-align: right;\">1</td><td style = \"text-align: right;\">1.0</td><td style = \"text-align: right;\">1</td><td style = \"text-align: right;\">0</td><td style = \"text-align: left;\">Int64</td></tr><tr><td class = \"rowNumber\" style = \"font-weight: bold; text-align: right;\">6</td><td style = \"text-align: left;\">wec_sdge_natural_gas_fired_combined_cycle_3.0</td><td style = \"text-align: right;\">1.0</td><td style = \"text-align: right;\">1</td><td style = \"text-align: right;\">1.0</td><td style = \"text-align: right;\">1</td><td style = \"text-align: right;\">0</td><td style = \"text-align: left;\">Int64</td></tr><tr><td class = \"rowNumber\" style = \"font-weight: bold; text-align: right;\">7</td><td style = \"text-align: left;\">wec_sdge_natural_gas_fired_combined_cycle_4.0</td><td style = \"text-align: right;\">1.0</td><td style = \"text-align: right;\">1</td><td style = \"text-align: right;\">1.0</td><td style = \"text-align: right;\">1</td><td style = \"text-align: right;\">0</td><td style = \"text-align: left;\">Int64</td></tr><tr><td class = \"rowNumber\" style = \"font-weight: bold; text-align: right;\">8</td><td style = \"text-align: left;\">wec_sdge_natural_gas_fired_combustion_turbine_1.0</td><td style = \"text-align: right;\">1.0</td><td style = \"text-align: right;\">1</td><td style = \"text-align: right;\">1.0</td><td style = \"text-align: right;\">1</td><td style = \"text-align: right;\">0</td><td style = \"text-align: left;\">Int64</td></tr><tr><td class = \"rowNumber\" style = \"font-weight: bold; text-align: right;\">9</td><td style = \"text-align: left;\">wec_sdge_natural_gas_fired_combustion_turbine_2.0</td><td style = \"text-align: right;\">1.0</td><td style = \"text-align: right;\">1</td><td style = \"text-align: right;\">1.0</td><td style = \"text-align: right;\">1</td><td style = \"text-align: right;\">0</td><td style = \"text-align: left;\">Int64</td></tr><tr><td class = \"rowNumber\" style = \"font-weight: bold; text-align: right;\">10</td><td style = \"text-align: left;\">wec_sdge_natural_gas_fired_combustion_turbine_3.0</td><td style = \"text-align: right;\">1.0</td><td style = \"text-align: right;\">1</td><td style = \"text-align: right;\">1.0</td><td style = \"text-align: right;\">1</td><td style = \"text-align: right;\">0</td><td style = \"text-align: left;\">Int64</td></tr><tr><td class = \"rowNumber\" style = \"font-weight: bold; text-align: right;\">11</td><td style = \"text-align: left;\">wec_sdge_natural_gas_fired_combustion_turbine_4.0</td><td style = \"text-align: right;\">1.0</td><td style = \"text-align: right;\">1</td><td style = \"text-align: right;\">1.0</td><td style = \"text-align: right;\">1</td><td style = \"text-align: right;\">0</td><td style = \"text-align: left;\">Int64</td></tr><tr><td class = \"rowNumber\" style = \"font-weight: bold; text-align: right;\">12</td><td style = \"text-align: left;\">wec_sdge_natural_gas_fired_combustion_turbine_5.0</td><td style = \"text-align: right;\">1.0</td><td style = \"text-align: right;\">1</td><td style = \"text-align: right;\">1.0</td><td style = \"text-align: right;\">1</td><td style = \"text-align: right;\">0</td><td style = \"text-align: left;\">Int64</td></tr><tr><td class = \"rowNumber\" style = \"font-weight: bold; text-align: right;\">13</td><td style = \"text-align: left;\">wec_sdge_natural_gas_fired_combustion_turbine_6.0</td><td style = \"text-align: right;\">1.0</td><td style = \"text-align: right;\">1</td><td style = \"text-align: right;\">1.0</td><td style = \"text-align: right;\">1</td><td style = \"text-align: right;\">0</td><td style = \"text-align: left;\">Int64</td></tr><tr><td style = \"text-align: right;\">&vellip;</td><td style = \"text-align: right;\">&vellip;</td><td style = \"text-align: right;\">&vellip;</td><td style = \"text-align: right;\">&vellip;</td><td style = \"text-align: right;\">&vellip;</td><td style = \"text-align: right;\">&vellip;</td><td style = \"text-align: right;\">&vellip;</td><td style = \"text-align: right;\">&vellip;</td></tr><tr><td class = \"rowNumber\" style = \"font-weight: bold; text-align: right;\">20</td><td style = \"text-align: left;\">wec_sdge_onshore_wind_turbine_1.0</td><td style = \"text-align: right;\">0.253519</td><td style = \"text-align: right;\">0.0</td><td style = \"text-align: right;\">0.19465</td><td style = \"text-align: right;\">0.9089</td><td style = \"text-align: right;\">0</td><td style = \"text-align: left;\">Float64</td></tr><tr><td class = \"rowNumber\" style = \"font-weight: bold; text-align: right;\">21</td><td style = \"text-align: left;\">wec_sdge_small_hydroelectric_1.0</td><td style = \"text-align: right;\">0.41567</td><td style = \"text-align: right;\">0.2167</td><td style = \"text-align: right;\">0.38475</td><td style = \"text-align: right;\">0.6337</td><td style = \"text-align: right;\">0</td><td style = \"text-align: left;\">Float64</td></tr><tr><td class = \"rowNumber\" style = \"font-weight: bold; text-align: right;\">22</td><td style = \"text-align: left;\">wec_sdge_solar_photovoltaic_1.0</td><td style = \"text-align: right;\">0.247288</td><td style = \"text-align: right;\">0.0</td><td style = \"text-align: right;\">0.0</td><td style = \"text-align: right;\">0.7959</td><td style = \"text-align: right;\">0</td><td style = \"text-align: left;\">Float64</td></tr><tr><td class = \"rowNumber\" style = \"font-weight: bold; text-align: right;\">23</td><td style = \"text-align: left;\">wec_sdge_naturalgas_ccccsavgcf_0.0</td><td style = \"text-align: right;\">1.0</td><td style = \"text-align: right;\">1</td><td style = \"text-align: right;\">1.0</td><td style = \"text-align: right;\">1</td><td style = \"text-align: right;\">0</td><td style = \"text-align: left;\">Int64</td></tr><tr><td class = \"rowNumber\" style = \"font-weight: bold; text-align: right;\">24</td><td style = \"text-align: left;\">wec_sdge_naturalgas_ccavgcf_0.0</td><td style = \"text-align: right;\">1.0</td><td style = \"text-align: right;\">1</td><td style = \"text-align: right;\">1.0</td><td style = \"text-align: right;\">1</td><td style = \"text-align: right;\">0</td><td style = \"text-align: left;\">Int64</td></tr><tr><td class = \"rowNumber\" style = \"font-weight: bold; text-align: right;\">25</td><td style = \"text-align: left;\">wec_sdge_naturalgas_ctavgcf_0.0</td><td style = \"text-align: right;\">1.0</td><td style = \"text-align: right;\">1</td><td style = \"text-align: right;\">1.0</td><td style = \"text-align: right;\">1</td><td style = \"text-align: right;\">0</td><td style = \"text-align: left;\">Int64</td></tr><tr><td class = \"rowNumber\" style = \"font-weight: bold; text-align: right;\">26</td><td style = \"text-align: left;\">wec_sdge_battery_0.0</td><td style = \"text-align: right;\">1.0</td><td style = \"text-align: right;\">1</td><td style = \"text-align: right;\">1.0</td><td style = \"text-align: right;\">1</td><td style = \"text-align: right;\">0</td><td style = \"text-align: left;\">Int64</td></tr><tr><td class = \"rowNumber\" style = \"font-weight: bold; text-align: right;\">27</td><td style = \"text-align: left;\">wec_sdge_naturalgas_ccs100_0.0</td><td style = \"text-align: right;\">1.0</td><td style = \"text-align: right;\">1</td><td style = \"text-align: right;\">1.0</td><td style = \"text-align: right;\">1</td><td style = \"text-align: right;\">0</td><td style = \"text-align: left;\">Int64</td></tr><tr><td class = \"rowNumber\" style = \"font-weight: bold; text-align: right;\">28</td><td style = \"text-align: left;\">wec_sdge_landbasedwind_ltrg1_1.0</td><td style = \"text-align: right;\">0.341167</td><td style = \"text-align: right;\">0.0</td><td style = \"text-align: right;\">0.249565</td><td style = \"text-align: right;\">0.93217</td><td style = \"text-align: right;\">0</td><td style = \"text-align: left;\">Float64</td></tr><tr><td class = \"rowNumber\" style = \"font-weight: bold; text-align: right;\">29</td><td style = \"text-align: left;\">wec_sdge_landbasedwind_ltrg1_2.0</td><td style = \"text-align: right;\">0.257347</td><td style = \"text-align: right;\">0.0</td><td style = \"text-align: right;\">0.194376</td><td style = \"text-align: right;\">0.912162</td><td style = \"text-align: right;\">0</td><td style = \"text-align: left;\">Float64</td></tr><tr><td class = \"rowNumber\" style = \"font-weight: bold; text-align: right;\">30</td><td style = \"text-align: left;\">wec_sdge_utilitypv_losangeles_1.0</td><td style = \"text-align: right;\">0.346479</td><td style = \"text-align: right;\">0.0</td><td style = \"text-align: right;\">0.0</td><td style = \"text-align: right;\">1.0</td><td style = \"text-align: right;\">0</td><td style = \"text-align: left;\">Float64</td></tr><tr><td class = \"rowNumber\" style = \"font-weight: bold; text-align: right;\">31</td><td style = \"text-align: left;\">wec_sdge_utilitypv_losangeles_2.0</td><td style = \"text-align: right;\">0.344724</td><td style = \"text-align: right;\">0.0</td><td style = \"text-align: right;\">0.0</td><td style = \"text-align: right;\">1.0</td><td style = \"text-align: right;\">0</td><td style = \"text-align: left;\">Float64</td></tr></tbody></table></div>"
      ],
      "text/latex": [
       "\\begin{tabular}{r|ccccccc}\n",
       "\t& variable & mean & min & median & max & nmissing & eltype\\\\\n",
       "\t\\hline\n",
       "\t& Symbol & Float64 & Real & Float64 & Real & Int64 & DataType\\\\\n",
       "\t\\hline\n",
       "\t1 & hour & 4380.5 & 1 & 4380.5 & 8760 & 0 & Int64 \\\\\n",
       "\t2 & wec\\_sdge\\_biomass\\_1.0 & 1.0 & 1 & 1.0 & 1 & 0 & Int64 \\\\\n",
       "\t3 & wec\\_sdge\\_hydroelectric\\_pumped\\_storage\\_1.0 & 1.0 & 1 & 1.0 & 1 & 0 & Int64 \\\\\n",
       "\t4 & wec\\_sdge\\_natural\\_gas\\_fired\\_combined\\_cycle\\_1.0 & 1.0 & 1 & 1.0 & 1 & 0 & Int64 \\\\\n",
       "\t5 & wec\\_sdge\\_natural\\_gas\\_fired\\_combined\\_cycle\\_2.0 & 1.0 & 1 & 1.0 & 1 & 0 & Int64 \\\\\n",
       "\t6 & wec\\_sdge\\_natural\\_gas\\_fired\\_combined\\_cycle\\_3.0 & 1.0 & 1 & 1.0 & 1 & 0 & Int64 \\\\\n",
       "\t7 & wec\\_sdge\\_natural\\_gas\\_fired\\_combined\\_cycle\\_4.0 & 1.0 & 1 & 1.0 & 1 & 0 & Int64 \\\\\n",
       "\t8 & wec\\_sdge\\_natural\\_gas\\_fired\\_combustion\\_turbine\\_1.0 & 1.0 & 1 & 1.0 & 1 & 0 & Int64 \\\\\n",
       "\t9 & wec\\_sdge\\_natural\\_gas\\_fired\\_combustion\\_turbine\\_2.0 & 1.0 & 1 & 1.0 & 1 & 0 & Int64 \\\\\n",
       "\t10 & wec\\_sdge\\_natural\\_gas\\_fired\\_combustion\\_turbine\\_3.0 & 1.0 & 1 & 1.0 & 1 & 0 & Int64 \\\\\n",
       "\t11 & wec\\_sdge\\_natural\\_gas\\_fired\\_combustion\\_turbine\\_4.0 & 1.0 & 1 & 1.0 & 1 & 0 & Int64 \\\\\n",
       "\t12 & wec\\_sdge\\_natural\\_gas\\_fired\\_combustion\\_turbine\\_5.0 & 1.0 & 1 & 1.0 & 1 & 0 & Int64 \\\\\n",
       "\t13 & wec\\_sdge\\_natural\\_gas\\_fired\\_combustion\\_turbine\\_6.0 & 1.0 & 1 & 1.0 & 1 & 0 & Int64 \\\\\n",
       "\t14 & wec\\_sdge\\_natural\\_gas\\_fired\\_combustion\\_turbine\\_7.0 & 1.0 & 1 & 1.0 & 1 & 0 & Int64 \\\\\n",
       "\t15 & wec\\_sdge\\_natural\\_gas\\_fired\\_combustion\\_turbine\\_8.0 & 1.0 & 1 & 1.0 & 1 & 0 & Int64 \\\\\n",
       "\t16 & wec\\_sdge\\_natural\\_gas\\_fired\\_combustion\\_turbine\\_9.0 & 1.0 & 1 & 1.0 & 1 & 0 & Int64 \\\\\n",
       "\t17 & wec\\_sdge\\_natural\\_gas\\_fired\\_combustion\\_turbine\\_10.0 & 1.0 & 1 & 1.0 & 1 & 0 & Int64 \\\\\n",
       "\t18 & wec\\_sdge\\_natural\\_gas\\_fired\\_combustion\\_turbine\\_11.0 & 1.0 & 1 & 1.0 & 1 & 0 & Int64 \\\\\n",
       "\t19 & wec\\_sdge\\_natural\\_gas\\_fired\\_combustion\\_turbine\\_12.0 & 1.0 & 1 & 1.0 & 1 & 0 & Int64 \\\\\n",
       "\t20 & wec\\_sdge\\_onshore\\_wind\\_turbine\\_1.0 & 0.253519 & 0.0 & 0.19465 & 0.9089 & 0 & Float64 \\\\\n",
       "\t21 & wec\\_sdge\\_small\\_hydroelectric\\_1.0 & 0.41567 & 0.2167 & 0.38475 & 0.6337 & 0 & Float64 \\\\\n",
       "\t22 & wec\\_sdge\\_solar\\_photovoltaic\\_1.0 & 0.247288 & 0.0 & 0.0 & 0.7959 & 0 & Float64 \\\\\n",
       "\t23 & wec\\_sdge\\_naturalgas\\_ccccsavgcf\\_0.0 & 1.0 & 1 & 1.0 & 1 & 0 & Int64 \\\\\n",
       "\t24 & wec\\_sdge\\_naturalgas\\_ccavgcf\\_0.0 & 1.0 & 1 & 1.0 & 1 & 0 & Int64 \\\\\n",
       "\t25 & wec\\_sdge\\_naturalgas\\_ctavgcf\\_0.0 & 1.0 & 1 & 1.0 & 1 & 0 & Int64 \\\\\n",
       "\t26 & wec\\_sdge\\_battery\\_0.0 & 1.0 & 1 & 1.0 & 1 & 0 & Int64 \\\\\n",
       "\t27 & wec\\_sdge\\_naturalgas\\_ccs100\\_0.0 & 1.0 & 1 & 1.0 & 1 & 0 & Int64 \\\\\n",
       "\t28 & wec\\_sdge\\_landbasedwind\\_ltrg1\\_1.0 & 0.341167 & 0.0 & 0.249565 & 0.93217 & 0 & Float64 \\\\\n",
       "\t29 & wec\\_sdge\\_landbasedwind\\_ltrg1\\_2.0 & 0.257347 & 0.0 & 0.194376 & 0.912162 & 0 & Float64 \\\\\n",
       "\t30 & wec\\_sdge\\_utilitypv\\_losangeles\\_1.0 & 0.346479 & 0.0 & 0.0 & 1.0 & 0 & Float64 \\\\\n",
       "\t$\\dots$ & $\\dots$ & $\\dots$ & $\\dots$ & $\\dots$ & $\\dots$ & $\\dots$ & $\\dots$ \\\\\n",
       "\\end{tabular}\n"
      ],
      "text/plain": [
       "\u001b[1m31×7 DataFrame\u001b[0m\n",
       "\u001b[1m Row \u001b[0m│\u001b[1m variable                          \u001b[0m\u001b[1m mean        \u001b[0m\u001b[1m min    \u001b[0m\u001b[1m median      \u001b[0m\u001b[1m max         \u001b[0m\u001b[1m nmissing \u001b[0m\u001b[1m eltype   \u001b[0m\n",
       "     │\u001b[90m Symbol                            \u001b[0m\u001b[90m Float64     \u001b[0m\u001b[90m Real   \u001b[0m\u001b[90m Float64     \u001b[0m\u001b[90m Real        \u001b[0m\u001b[90m Int64    \u001b[0m\u001b[90m DataType \u001b[0m\n",
       "─────┼──────────────────────────────────────────────────────────────────────────────────────────────────────\n",
       "   1 │ hour                               4380.5       1       4380.5       8760                0  Int64\n",
       "   2 │ wec_sdge_biomass_1.0                  1.0       1          1.0          1                0  Int64\n",
       "   3 │ wec_sdge_hydroelectric_pumped_st…     1.0       1          1.0          1                0  Int64\n",
       "   4 │ wec_sdge_natural_gas_fired_combi…     1.0       1          1.0          1                0  Int64\n",
       "   5 │ wec_sdge_natural_gas_fired_combi…     1.0       1          1.0          1                0  Int64\n",
       "   6 │ wec_sdge_natural_gas_fired_combi…     1.0       1          1.0          1                0  Int64\n",
       "   7 │ wec_sdge_natural_gas_fired_combi…     1.0       1          1.0          1                0  Int64\n",
       "   8 │ wec_sdge_natural_gas_fired_combu…     1.0       1          1.0          1                0  Int64\n",
       "   9 │ wec_sdge_natural_gas_fired_combu…     1.0       1          1.0          1                0  Int64\n",
       "  10 │ wec_sdge_natural_gas_fired_combu…     1.0       1          1.0          1                0  Int64\n",
       "  11 │ wec_sdge_natural_gas_fired_combu…     1.0       1          1.0          1                0  Int64\n",
       "  ⋮  │                 ⋮                       ⋮         ⋮          ⋮            ⋮          ⋮         ⋮\n",
       "  22 │ wec_sdge_solar_photovoltaic_1.0       0.247288  0.0        0.0          0.7959           0  Float64\n",
       "  23 │ wec_sdge_naturalgas_ccccsavgcf_0…     1.0       1          1.0          1                0  Int64\n",
       "  24 │ wec_sdge_naturalgas_ccavgcf_0.0       1.0       1          1.0          1                0  Int64\n",
       "  25 │ wec_sdge_naturalgas_ctavgcf_0.0       1.0       1          1.0          1                0  Int64\n",
       "  26 │ wec_sdge_battery_0.0                  1.0       1          1.0          1                0  Int64\n",
       "  27 │ wec_sdge_naturalgas_ccs100_0.0        1.0       1          1.0          1                0  Int64\n",
       "  28 │ wec_sdge_landbasedwind_ltrg1_1.0      0.341167  0.0        0.249565     0.93217          0  Float64\n",
       "  29 │ wec_sdge_landbasedwind_ltrg1_2.0      0.257347  0.0        0.194376     0.912162         0  Float64\n",
       "  30 │ wec_sdge_utilitypv_losangeles_1.0     0.346479  0.0        0.0          1.0              0  Float64\n",
       "  31 │ wec_sdge_utilitypv_losangeles_2.0     0.344724  0.0        0.0          1.0              0  Float64\n",
       "\u001b[36m                                                                                             10 rows omitted\u001b[0m"
      ]
     },
     "execution_count": 60,
     "metadata": {},
     "output_type": "execute_result"
    }
   ],
   "source": [
    "loads.hour = mod.(loads.hour .- 9, 8760) .+ 1\n",
    "sort!(loads, :hour);\n",
    "gen_variable     \n",
    "describe(gen_variable)\n"
   ]
  },
  {
   "cell_type": "code",
   "execution_count": 61,
   "id": "d71f70ff",
   "metadata": {},
   "outputs": [],
   "source": [
    "gen_variable_long = stack(gen_variable, \n",
    "                        Not(:hour), \n",
    "                        variable_name=:gen_full,\n",
    "                        value_name=:cf);\n"
   ]
  },
  {
   "cell_type": "code",
   "execution_count": 62,
   "id": "f1fe41b8",
   "metadata": {},
   "outputs": [
    {
     "data": {
      "text/plain": [
       "value_to_df_puvw (generic function with 1 method)"
      ]
     },
     "execution_count": 62,
     "metadata": {},
     "output_type": "execute_result"
    }
   ],
   "source": [
    "function value_to_df_puvw(var1, var2, var3, var4)\n",
    "    solution1 = DataFrame(var1.data, :auto)\n",
    "    ax1 = var1.axes[1]\n",
    "    ax2 = var1.axes[2]\n",
    "    cols = names(solution1)\n",
    "    insertcols!(solution1, 1, :r_id => ax1)\n",
    "    solution1 = stack(solution1, Not(:r_id), variable_name=:hour)\n",
    "    solution1.hour = foldl(replace, [cols[i] => ax2[i] for i in 1:length(ax2)], init=solution1.hour)\n",
    "    rename!(solution1, :value => :gen)\n",
    "    solution1.hour = convert.(Int64,solution1.hour)\n",
    "    solution2 = DataFrame(var2.data, :auto)\n",
    "    ax1 = var2.axes[1]\n",
    "    ax2 = var2.axes[2]\n",
    "    cols = names(solution2)\n",
    "    insertcols!(solution2, 1, :r_id => ax1)\n",
    "    solution2 = stack(solution2, Not(:r_id), variable_name=:hour)\n",
    "    solution2.hour = foldl(replace, [cols[i] => ax2[i] for i in 1:length(ax2)], init=solution2.hour)\n",
    "    rename!(solution2, :value => :u_binary)\n",
    "    solution2.hour = convert.(Int64,solution2.hour)\n",
    "    solution3 = DataFrame(var3.data, :auto)\n",
    "    ax1 = var3.axes[1]\n",
    "    ax2 = var3.axes[2]\n",
    "    cols = names(solution3)\n",
    "    insertcols!(solution3, 1, :r_id => ax1)\n",
    "    solution3 = stack(solution3, Not(:r_id), variable_name=:hour)\n",
    "    solution3.hour = foldl(replace, [cols[i] => ax2[i] for i in 1:length(ax2)], init=solution3.hour)\n",
    "    rename!(solution3, :value => :v_binary)\n",
    "    solution3.hour = convert.(Int64,solution3.hour)\n",
    "    solution4 = DataFrame(var4.data, :auto)\n",
    "    ax1 = var4.axes[1]\n",
    "    ax2 = var4.axes[2]\n",
    "    cols = names(solution4)\n",
    "    insertcols!(solution4, 1, :r_id => ax1)\n",
    "    solution4 = stack(solution4, Not(:r_id), variable_name=:hour)\n",
    "    solution4.hour = foldl(replace, [cols[i] => ax2[i] for i in 1:length(ax2)], init=solution4.hour)\n",
    "    rename!(solution4, :value => :w_binary)\n",
    "    solution4.hour = convert.(Int64,solution4.hour)\n",
    "    return solution1, solution2, solution3, solution4\n",
    "end\n",
    "\n",
    "\n"
   ]
  },
  {
   "cell_type": "code",
   "execution_count": 67,
   "id": "851e52d6",
   "metadata": {},
   "outputs": [
    {
     "data": {
      "text/plain": [
       "unit_commitment_multi_time (generic function with 1 method)"
      ]
     },
     "execution_count": 67,
     "metadata": {},
     "output_type": "execute_result"
    }
   ],
   "source": [
    "\n",
    "function unit_commitment_multi_time(gen_df, loads_multi, gen_variable_multi)\n",
    "UC = Model(QPDAS)\n",
    "\n",
    "# Define sets based on data\n",
    "# Thermal resources for which unit commitment constraints apply\n",
    "G_thermal = gen_df[gen_df[!,:up_time] .> 0,:r_id] \n",
    "# Non-thermal resources for which unit commitment constraints do NOT apply \n",
    "G_nonthermal = gen_df[gen_df[!,:up_time] .== 0,:r_id]\n",
    "G_var = gen_df[gen_df[!,:is_variable] .== 1,:r_id]\n",
    "G_nonvar = gen_df[gen_df[!,:is_variable] .== 0,:r_id]\n",
    "# Non-variable and non-thermal resources\n",
    "G_nt_nonvar = intersect(G_nonvar, G_nonthermal)\n",
    "G = gen_df.r_id\n",
    "T = loads_multi.hour\n",
    "T_red = loads_multi.hour[1:end-1]  # time periods used for ramp constraints\n",
    "\n",
    "# Generator capacity factor time series for variable generators\n",
    "gen_var_cf = innerjoin(gen_variable_multi, \n",
    "                gen_df[gen_df.is_variable .== 1 , \n",
    "                    [:r_id, :gen_full, :existing_cap_mw]], \n",
    "                on = :gen_full)\n",
    "    \n",
    "# Decision variables   \n",
    "@variables(UC, begin\n",
    "    p1[G, T]  >= 0  \n",
    "    p[G, T]  >= 0  \n",
    "    u[G_thermal, T], Bin \n",
    "    # ED를 UC로 변경하기 위해 운영여부 u[g,t]변수 추가(Binary)\n",
    "    v[G_thermal, T], Bin\n",
    "    # 정지계획 추가를 위해 정지(Shut-dowm)여부 w[g,t]변수 추가(Binary)\n",
    "    w[G_thermal, T], Bin\n",
    "    # output 여부 변수(Binary)\n",
    "    o[G_thermal, T], Bin\n",
    " end)\n",
    "\n",
    "\n",
    "    # Objective function\n",
    "@objective(UC, Min, \n",
    "    sum((gen_df[gen_df.r_id .== i,:heat_rate_mmbtu_per_mwh][1] * gen_df[gen_df.r_id .== i,:fuel_cost][1] +\n",
    "        gen_df[gen_df.r_id .== i,:var_om_cost_per_mwh][1]) * p[i,t] \n",
    "                    for i in G_nonvar for t in T) + \n",
    "    sum(gen_df[gen_df.r_id .== i,:var_om_cost_per_mwh][1] * p[i,t] \n",
    "                    for i in G_var for t in T) +\n",
    "    sum(gen_df[gen_df.r_id .== i,:start_cost_per_mw][1] * gen_df[gen_df.r_id .== i,:existing_cap_mw][1] * v[i,t] \n",
    "                    for i in G_thermal for t in T) +\n",
    "    sum(500*u[i,t] for i in G_thermal for t in T) #기동고정비 항목이나 현재 그냥 500 추후 수정\n",
    ")\n",
    "\n",
    "\n",
    "\n",
    "# output 변수 관련 제약\n",
    "@constraint(UC, ou[i in G_thermal, t in T], \n",
    "            o[i,t] <= u[i,t])\n",
    "@constraint(UC, o1[i in G_thermal, t in T], \n",
    "            p[i,t] * o[i,t] >= gen_df[gen_df.r_id .== i,:existing_cap_mw][1] *    \n",
    "            gen_df[gen_df.r_id .== i,:min_power][1] * o[i,t])\n",
    "\n",
    "@constraint(UC, o2[i in G_thermal, t in T], \n",
    "            p[i,t] * o[i,t] >= p[i,t] - gen_df[gen_df.r_id .== i,:existing_cap_mw][1] *\n",
    "            gen_df[gen_df.r_id .== i,:min_power][1])\n",
    "            \n",
    "# u, v, w 관계 제약식\n",
    "@constraint(UC, Binary_Formulations[i in G_thermal, t in T_red], \n",
    "           u[i,t+1] - u[i,t] == v[i,t+1] - w[i,t+1])\n",
    "\n",
    "# 동일 시간에 v, w가 동시에 1 불가      \n",
    "@constraint(UC, vw[i in G_thermal, t in T], \n",
    "            v[i,t] + w[i,t] <= 1)\n",
    "\n",
    "#=\n",
    " intersection 연산이 느린 것 같아 다른 것으로 일단 대체\n",
    "# Minimum Up Time Constraints\n",
    "@constraint(UC, MUT[i in G_thermal, t in T],\n",
    "u[i, t] >= sum(v[i, tt] \n",
    "                for tt in intersect(T,\n",
    "                    (t-gen_df[gen_df.r_id .== i,:up_time][1]):t)))\n",
    "\n",
    "# Minimum Down Time Constraints           \n",
    "@constraint(UC, MDT[i in G_thermal, t in T],\n",
    "1-u[i, t] >= sum(w[i, tt] \n",
    "                for tt in intersect(T,\n",
    "                    (t-gen_df[gen_df.r_id .== i,:down_time][1]):t)))\n",
    "=#\n",
    "\n",
    "T_MUT(i) = T[1:end-1-gen_df[gen_df.r_id .== i,:up_time][1]]\n",
    "T_MDT(i) = T[1:end-1-gen_df[gen_df.r_id .== i,:down_time][1]]\n",
    "\n",
    "# Minimum Up Time Constraints\n",
    "@constraint(UC, MUT[i in G_thermal, t in T_MUT(i)], \n",
    "            sum(u[i,t+1] for t = t:t+gen_df[gen_df.r_id .== i,:up_time][1]) >= (u[i,t+1] - u[i,t])*min(gen_df[gen_df.r_id .== i,:up_time][1],(T_period[end]-t-1)))\n",
    "\n",
    "# Minimum Down Time Constraints           \n",
    "@constraint(UC, MDT[i in G_thermal, t in T_MDT(i)], \n",
    "            sum((1-u[i,t+1]) for t = t:t+gen_df[gen_df.r_id .== i,:down_time][1]) >= (u[i,t] - u[i,t+1])*min(gen_df[gen_df.r_id .== i,:down_time][1],(T_period[end]-t-1)))\n",
    "\n",
    "# Demand constraint\n",
    "@constraint(UC, cDemand[t in T], \n",
    "    sum(p[i,t] for i in G) == loads_multi[loads_multi.hour .== t, :demand][1])\n",
    "\n",
    "#= Capacity constraints (non-variable generation)에 u 항목을 추가\n",
    "   p_min*u <= p <= p_max*u 조건인데, p_min*u <= p*u <= p_max*u 조건과 동일한 조건이라고 판단 \n",
    "@constraint(UC, Cap_thermal_min[i in G_thermal, t in T], \n",
    "   p[i,t] >= u[i,t] * gen_df[gen_df.r_id .== i,:existing_cap_mw][1] *\n",
    "                   gen_df[gen_df.r_id .== i,:min_power][1]) =#\n",
    "\n",
    "@constraint(UC, Cap_thermal_max[i in G_thermal, t in T], \n",
    "   p[i,t] <= u[i,t] * gen_df[gen_df.r_id .== i,:existing_cap_mw][1])\n",
    "\n",
    "# 2. non-variable generation not requiring commitment\n",
    "@constraint(UC, Cap_nt_nonvar[i in G_nt_nonvar, t in T], \n",
    "   p[i,t] <= gen_df[gen_df.r_id .== i,:existing_cap_mw][1])\n",
    "\n",
    "# Variable generation capacity constraints\n",
    "@constraint(UC, Cap_var[i in 1:nrow(gen_var_cf)], \n",
    "        p[gen_var_cf[i,:r_id], gen_var_cf[i,:hour] ] <= \n",
    "                    gen_var_cf[i,:cf] *\n",
    "                    gen_var_cf[i,:existing_cap_mw])\n",
    "\n",
    "# Ramp up constraints\n",
    "@constraint(UC, RampUp[i in G, t in T_red], \n",
    "    p[i,t+1] - p[i,t] <= gen_df[gen_df.r_id .== i,:existing_cap_mw][1] * \n",
    "                             gen_df[gen_df.r_id .== i,:ramp_up_percentage][1] )\n",
    "\n",
    "# Ramp down constraints\n",
    "@constraint(UC, RampDn[i in G, t in T_red], \n",
    "    p[i,t] - p[i,t+1] <= gen_df[gen_df.r_id .== i,:existing_cap_mw][1] * \n",
    "                             gen_df[gen_df.r_id .== i,:ramp_dn_percentage][1] )\n",
    "\n",
    "# Solve statement (! indicates runs in place)\n",
    "optimize!(UC)\n",
    "\n",
    "# Dataframe of optimal decision variables\n",
    "solution = value_to_df_puvw(value.(p), value.(u), value.(v), value.(w))\n",
    "solution = outerjoin(solution[1], solution[2], solution[3],solution[4], on = [:r_id,:hour])\n",
    "sort!(solution, [:r_id,:hour])\n",
    "    return (\n",
    "        solution = solution, \n",
    "        cost = objective_value(UC),\n",
    "    )\n",
    "end\n"
   ]
  },
  {
   "cell_type": "code",
   "execution_count": 68,
   "id": "c1c185fc",
   "metadata": {},
   "outputs": [
    {
     "data": {
      "text/html": [
       "<div><div style = \"float: left;\"><span>450×3 DataFrame</span></div><div style = \"float: right;\"><span style = \"font-style: italic;\">425 rows omitted</span></div><div style = \"clear: both;\"></div></div><div class = \"data-frame\" style = \"overflow-x: scroll;\"><table class = \"data-frame\" style = \"margin-bottom: 6px;\"><thead><tr class = \"header\"><th class = \"rowNumber\" style = \"font-weight: bold; text-align: right;\">Row</th><th style = \"text-align: left;\">hour</th><th style = \"text-align: left;\">gen_full</th><th style = \"text-align: left;\">cf</th></tr><tr class = \"subheader headerLastRow\"><th class = \"rowNumber\" style = \"font-weight: bold; text-align: right;\"></th><th title = \"Int64\" style = \"text-align: left;\">Int64</th><th title = \"String\" style = \"text-align: left;\">String</th><th title = \"Float64\" style = \"text-align: left;\">Float64</th></tr></thead><tbody><tr><td class = \"rowNumber\" style = \"font-weight: bold; text-align: right;\">1</td><td style = \"text-align: right;\">1</td><td style = \"text-align: left;\">wec_sdge_biomass_1.0</td><td style = \"text-align: right;\">1.0</td></tr><tr><td class = \"rowNumber\" style = \"font-weight: bold; text-align: right;\">2</td><td style = \"text-align: right;\">2</td><td style = \"text-align: left;\">wec_sdge_biomass_1.0</td><td style = \"text-align: right;\">1.0</td></tr><tr><td class = \"rowNumber\" style = \"font-weight: bold; text-align: right;\">3</td><td style = \"text-align: right;\">3</td><td style = \"text-align: left;\">wec_sdge_biomass_1.0</td><td style = \"text-align: right;\">1.0</td></tr><tr><td class = \"rowNumber\" style = \"font-weight: bold; text-align: right;\">4</td><td style = \"text-align: right;\">4</td><td style = \"text-align: left;\">wec_sdge_biomass_1.0</td><td style = \"text-align: right;\">1.0</td></tr><tr><td class = \"rowNumber\" style = \"font-weight: bold; text-align: right;\">5</td><td style = \"text-align: right;\">5</td><td style = \"text-align: left;\">wec_sdge_biomass_1.0</td><td style = \"text-align: right;\">1.0</td></tr><tr><td class = \"rowNumber\" style = \"font-weight: bold; text-align: right;\">6</td><td style = \"text-align: right;\">6</td><td style = \"text-align: left;\">wec_sdge_biomass_1.0</td><td style = \"text-align: right;\">1.0</td></tr><tr><td class = \"rowNumber\" style = \"font-weight: bold; text-align: right;\">7</td><td style = \"text-align: right;\">7</td><td style = \"text-align: left;\">wec_sdge_biomass_1.0</td><td style = \"text-align: right;\">1.0</td></tr><tr><td class = \"rowNumber\" style = \"font-weight: bold; text-align: right;\">8</td><td style = \"text-align: right;\">8</td><td style = \"text-align: left;\">wec_sdge_biomass_1.0</td><td style = \"text-align: right;\">1.0</td></tr><tr><td class = \"rowNumber\" style = \"font-weight: bold; text-align: right;\">9</td><td style = \"text-align: right;\">9</td><td style = \"text-align: left;\">wec_sdge_biomass_1.0</td><td style = \"text-align: right;\">1.0</td></tr><tr><td class = \"rowNumber\" style = \"font-weight: bold; text-align: right;\">10</td><td style = \"text-align: right;\">10</td><td style = \"text-align: left;\">wec_sdge_biomass_1.0</td><td style = \"text-align: right;\">1.0</td></tr><tr><td class = \"rowNumber\" style = \"font-weight: bold; text-align: right;\">11</td><td style = \"text-align: right;\">11</td><td style = \"text-align: left;\">wec_sdge_biomass_1.0</td><td style = \"text-align: right;\">1.0</td></tr><tr><td class = \"rowNumber\" style = \"font-weight: bold; text-align: right;\">12</td><td style = \"text-align: right;\">12</td><td style = \"text-align: left;\">wec_sdge_biomass_1.0</td><td style = \"text-align: right;\">1.0</td></tr><tr><td class = \"rowNumber\" style = \"font-weight: bold; text-align: right;\">13</td><td style = \"text-align: right;\">13</td><td style = \"text-align: left;\">wec_sdge_biomass_1.0</td><td style = \"text-align: right;\">1.0</td></tr><tr><td style = \"text-align: right;\">&vellip;</td><td style = \"text-align: right;\">&vellip;</td><td style = \"text-align: right;\">&vellip;</td><td style = \"text-align: right;\">&vellip;</td></tr><tr><td class = \"rowNumber\" style = \"font-weight: bold; text-align: right;\">439</td><td style = \"text-align: right;\">4</td><td style = \"text-align: left;\">wec_sdge_utilitypv_losangeles_2.0</td><td style = \"text-align: right;\">0.0</td></tr><tr><td class = \"rowNumber\" style = \"font-weight: bold; text-align: right;\">440</td><td style = \"text-align: right;\">5</td><td style = \"text-align: left;\">wec_sdge_utilitypv_losangeles_2.0</td><td style = \"text-align: right;\">0.0</td></tr><tr><td class = \"rowNumber\" style = \"font-weight: bold; text-align: right;\">441</td><td style = \"text-align: right;\">6</td><td style = \"text-align: left;\">wec_sdge_utilitypv_losangeles_2.0</td><td style = \"text-align: right;\">0.0</td></tr><tr><td class = \"rowNumber\" style = \"font-weight: bold; text-align: right;\">442</td><td style = \"text-align: right;\">7</td><td style = \"text-align: left;\">wec_sdge_utilitypv_losangeles_2.0</td><td style = \"text-align: right;\">0.0</td></tr><tr><td class = \"rowNumber\" style = \"font-weight: bold; text-align: right;\">443</td><td style = \"text-align: right;\">8</td><td style = \"text-align: left;\">wec_sdge_utilitypv_losangeles_2.0</td><td style = \"text-align: right;\">0.126487</td></tr><tr><td class = \"rowNumber\" style = \"font-weight: bold; text-align: right;\">444</td><td style = \"text-align: right;\">9</td><td style = \"text-align: left;\">wec_sdge_utilitypv_losangeles_2.0</td><td style = \"text-align: right;\">0.517171</td></tr><tr><td class = \"rowNumber\" style = \"font-weight: bold; text-align: right;\">445</td><td style = \"text-align: right;\">10</td><td style = \"text-align: left;\">wec_sdge_utilitypv_losangeles_2.0</td><td style = \"text-align: right;\">0.725975</td></tr><tr><td class = \"rowNumber\" style = \"font-weight: bold; text-align: right;\">446</td><td style = \"text-align: right;\">11</td><td style = \"text-align: left;\">wec_sdge_utilitypv_losangeles_2.0</td><td style = \"text-align: right;\">0.832869</td></tr><tr><td class = \"rowNumber\" style = \"font-weight: bold; text-align: right;\">447</td><td style = \"text-align: right;\">12</td><td style = \"text-align: left;\">wec_sdge_utilitypv_losangeles_2.0</td><td style = \"text-align: right;\">0.887032</td></tr><tr><td class = \"rowNumber\" style = \"font-weight: bold; text-align: right;\">448</td><td style = \"text-align: right;\">13</td><td style = \"text-align: left;\">wec_sdge_utilitypv_losangeles_2.0</td><td style = \"text-align: right;\">0.902785</td></tr><tr><td class = \"rowNumber\" style = \"font-weight: bold; text-align: right;\">449</td><td style = \"text-align: right;\">14</td><td style = \"text-align: left;\">wec_sdge_utilitypv_losangeles_2.0</td><td style = \"text-align: right;\">0.88461</td></tr><tr><td class = \"rowNumber\" style = \"font-weight: bold; text-align: right;\">450</td><td style = \"text-align: right;\">15</td><td style = \"text-align: left;\">wec_sdge_utilitypv_losangeles_2.0</td><td style = \"text-align: right;\">0.841099</td></tr></tbody></table></div>"
      ],
      "text/latex": [
       "\\begin{tabular}{r|ccc}\n",
       "\t& hour & gen\\_full & cf\\\\\n",
       "\t\\hline\n",
       "\t& Int64 & String & Float64\\\\\n",
       "\t\\hline\n",
       "\t1 & 1 & wec\\_sdge\\_biomass\\_1.0 & 1.0 \\\\\n",
       "\t2 & 2 & wec\\_sdge\\_biomass\\_1.0 & 1.0 \\\\\n",
       "\t3 & 3 & wec\\_sdge\\_biomass\\_1.0 & 1.0 \\\\\n",
       "\t4 & 4 & wec\\_sdge\\_biomass\\_1.0 & 1.0 \\\\\n",
       "\t5 & 5 & wec\\_sdge\\_biomass\\_1.0 & 1.0 \\\\\n",
       "\t6 & 6 & wec\\_sdge\\_biomass\\_1.0 & 1.0 \\\\\n",
       "\t7 & 7 & wec\\_sdge\\_biomass\\_1.0 & 1.0 \\\\\n",
       "\t8 & 8 & wec\\_sdge\\_biomass\\_1.0 & 1.0 \\\\\n",
       "\t9 & 9 & wec\\_sdge\\_biomass\\_1.0 & 1.0 \\\\\n",
       "\t10 & 10 & wec\\_sdge\\_biomass\\_1.0 & 1.0 \\\\\n",
       "\t11 & 11 & wec\\_sdge\\_biomass\\_1.0 & 1.0 \\\\\n",
       "\t12 & 12 & wec\\_sdge\\_biomass\\_1.0 & 1.0 \\\\\n",
       "\t13 & 13 & wec\\_sdge\\_biomass\\_1.0 & 1.0 \\\\\n",
       "\t14 & 14 & wec\\_sdge\\_biomass\\_1.0 & 1.0 \\\\\n",
       "\t15 & 15 & wec\\_sdge\\_biomass\\_1.0 & 1.0 \\\\\n",
       "\t16 & 1 & wec\\_sdge\\_hydroelectric\\_pumped\\_storage\\_1.0 & 1.0 \\\\\n",
       "\t17 & 2 & wec\\_sdge\\_hydroelectric\\_pumped\\_storage\\_1.0 & 1.0 \\\\\n",
       "\t18 & 3 & wec\\_sdge\\_hydroelectric\\_pumped\\_storage\\_1.0 & 1.0 \\\\\n",
       "\t19 & 4 & wec\\_sdge\\_hydroelectric\\_pumped\\_storage\\_1.0 & 1.0 \\\\\n",
       "\t20 & 5 & wec\\_sdge\\_hydroelectric\\_pumped\\_storage\\_1.0 & 1.0 \\\\\n",
       "\t21 & 6 & wec\\_sdge\\_hydroelectric\\_pumped\\_storage\\_1.0 & 1.0 \\\\\n",
       "\t22 & 7 & wec\\_sdge\\_hydroelectric\\_pumped\\_storage\\_1.0 & 1.0 \\\\\n",
       "\t23 & 8 & wec\\_sdge\\_hydroelectric\\_pumped\\_storage\\_1.0 & 1.0 \\\\\n",
       "\t24 & 9 & wec\\_sdge\\_hydroelectric\\_pumped\\_storage\\_1.0 & 1.0 \\\\\n",
       "\t25 & 10 & wec\\_sdge\\_hydroelectric\\_pumped\\_storage\\_1.0 & 1.0 \\\\\n",
       "\t26 & 11 & wec\\_sdge\\_hydroelectric\\_pumped\\_storage\\_1.0 & 1.0 \\\\\n",
       "\t27 & 12 & wec\\_sdge\\_hydroelectric\\_pumped\\_storage\\_1.0 & 1.0 \\\\\n",
       "\t28 & 13 & wec\\_sdge\\_hydroelectric\\_pumped\\_storage\\_1.0 & 1.0 \\\\\n",
       "\t29 & 14 & wec\\_sdge\\_hydroelectric\\_pumped\\_storage\\_1.0 & 1.0 \\\\\n",
       "\t30 & 15 & wec\\_sdge\\_hydroelectric\\_pumped\\_storage\\_1.0 & 1.0 \\\\\n",
       "\t$\\dots$ & $\\dots$ & $\\dots$ & $\\dots$ \\\\\n",
       "\\end{tabular}\n"
      ],
      "text/plain": [
       "\u001b[1m450×3 DataFrame\u001b[0m\n",
       "\u001b[1m Row \u001b[0m│\u001b[1m hour  \u001b[0m\u001b[1m gen_full                          \u001b[0m\u001b[1m cf       \u001b[0m\n",
       "     │\u001b[90m Int64 \u001b[0m\u001b[90m String                            \u001b[0m\u001b[90m Float64  \u001b[0m\n",
       "─────┼────────────────────────────────────────────────────\n",
       "   1 │     1  wec_sdge_biomass_1.0               1.0\n",
       "   2 │     2  wec_sdge_biomass_1.0               1.0\n",
       "   3 │     3  wec_sdge_biomass_1.0               1.0\n",
       "   4 │     4  wec_sdge_biomass_1.0               1.0\n",
       "   5 │     5  wec_sdge_biomass_1.0               1.0\n",
       "   6 │     6  wec_sdge_biomass_1.0               1.0\n",
       "   7 │     7  wec_sdge_biomass_1.0               1.0\n",
       "   8 │     8  wec_sdge_biomass_1.0               1.0\n",
       "   9 │     9  wec_sdge_biomass_1.0               1.0\n",
       "  10 │    10  wec_sdge_biomass_1.0               1.0\n",
       "  11 │    11  wec_sdge_biomass_1.0               1.0\n",
       "  ⋮  │   ⋮                    ⋮                     ⋮\n",
       " 441 │     6  wec_sdge_utilitypv_losangeles_2.0  0.0\n",
       " 442 │     7  wec_sdge_utilitypv_losangeles_2.0  0.0\n",
       " 443 │     8  wec_sdge_utilitypv_losangeles_2.0  0.126487\n",
       " 444 │     9  wec_sdge_utilitypv_losangeles_2.0  0.517171\n",
       " 445 │    10  wec_sdge_utilitypv_losangeles_2.0  0.725975\n",
       " 446 │    11  wec_sdge_utilitypv_losangeles_2.0  0.832869\n",
       " 447 │    12  wec_sdge_utilitypv_losangeles_2.0  0.887032\n",
       " 448 │    13  wec_sdge_utilitypv_losangeles_2.0  0.902785\n",
       " 449 │    14  wec_sdge_utilitypv_losangeles_2.0  0.88461\n",
       " 450 │    15  wec_sdge_utilitypv_losangeles_2.0  0.841099\n",
       "\u001b[36m                                          429 rows omitted\u001b[0m"
      ]
     },
     "execution_count": 68,
     "metadata": {},
     "output_type": "execute_result"
    }
   ],
   "source": [
    "\n",
    "n=260\n",
    "T_period = 1:15\n",
    "loads_multi = loads[in.(loads.hour,Ref(T_period)),:]\n",
    "gen_variable_multi = gen_variable_long[in.(gen_variable_long.hour,Ref(T_period)),:]\n"
   ]
  },
  {
   "cell_type": "code",
   "execution_count": 69,
   "id": "cec5d7e0",
   "metadata": {},
   "outputs": [
    {
     "data": {
      "text/html": [
       "<div><div style = \"float: left;\"><span>25×31 DataFrame</span></div><div style = \"clear: both;\"></div></div><div class = \"data-frame\" style = \"overflow-x: scroll;\"><table class = \"data-frame\" style = \"margin-bottom: 6px;\"><thead><tr class = \"header\"><th class = \"rowNumber\" style = \"font-weight: bold; text-align: right;\">Row</th><th style = \"text-align: left;\">r_id</th><th style = \"text-align: left;\">resource</th><th style = \"text-align: left;\">region</th><th style = \"text-align: left;\">existing_cap_mw</th><th style = \"text-align: left;\">num_units</th><th style = \"text-align: left;\">cap_size</th><th style = \"text-align: left;\">var_om_cost_per_mwh</th><th style = \"text-align: left;\">var_om_cost_per_mwh_in</th><th style = \"text-align: left;\">fuel</th><th style = \"text-align: left;\">heat_rate_mmbtu_per_mwh</th><th style = \"text-align: left;\">heat_rate_mmbtu_mwh_iqr</th><th style = \"text-align: left;\">heat_rate_mmbtu_mwh_std</th><th style = \"text-align: left;\">min_power</th><th style = \"text-align: left;\">ramp_up_percentage</th><th style = \"text-align: left;\">ramp_dn_percentage</th><th style = \"text-align: left;\">start_cost_per_mw</th><th style = \"text-align: left;\">start_fuel_mmbtu_per_mw</th><th style = \"text-align: left;\">up_time</th><th style = \"text-align: left;\">down_time</th><th style = \"text-align: left;\">self_disch</th><th style = \"text-align: left;\">eff_up</th><th style = \"text-align: left;\">eff_down</th><th style = \"text-align: left;\">ratio_power_to_energy</th><th style = \"text-align: left;\">min_duration</th><th style = \"text-align: left;\">max_duration</th><th style = \"text-align: left;\">cluster</th><th style = \"text-align: left;\">stor</th><th style = \"text-align: left;\">fuel_cost</th><th style = \"text-align: left;\">co2_content_tons_per_mmbtu</th><th style = \"text-align: left;\">is_variable</th><th style = \"text-align: left;\">gen_full</th></tr><tr class = \"subheader headerLastRow\"><th class = \"rowNumber\" style = \"font-weight: bold; text-align: right;\"></th><th title = \"Union{Missing, Int64}\" style = \"text-align: left;\">Int64?</th><th title = \"Union{Missing, String}\" style = \"text-align: left;\">String?</th><th title = \"Union{Missing, String15}\" style = \"text-align: left;\">String15?</th><th title = \"Union{Missing, Float64}\" style = \"text-align: left;\">Float64?</th><th title = \"Union{Missing, Int64}\" style = \"text-align: left;\">Int64?</th><th title = \"Union{Missing, Float64}\" style = \"text-align: left;\">Float64?</th><th title = \"Union{Missing, Float64}\" style = \"text-align: left;\">Float64?</th><th title = \"Union{Missing, Int64}\" style = \"text-align: left;\">Int64?</th><th title = \"String31\" style = \"text-align: left;\">String31</th><th title = \"Union{Missing, Float64}\" style = \"text-align: left;\">Float64?</th><th title = \"Union{Missing, Float64}\" style = \"text-align: left;\">Float64?</th><th title = \"Union{Missing, Float64}\" style = \"text-align: left;\">Float64?</th><th title = \"Union{Missing, Float64}\" style = \"text-align: left;\">Float64?</th><th title = \"Union{Missing, Float64}\" style = \"text-align: left;\">Float64?</th><th title = \"Union{Missing, Float64}\" style = \"text-align: left;\">Float64?</th><th title = \"Union{Missing, Int64}\" style = \"text-align: left;\">Int64?</th><th title = \"Union{Missing, Float64}\" style = \"text-align: left;\">Float64?</th><th title = \"Union{Missing, Int64}\" style = \"text-align: left;\">Int64?</th><th title = \"Union{Missing, Int64}\" style = \"text-align: left;\">Int64?</th><th title = \"Union{Missing, Int64}\" style = \"text-align: left;\">Int64?</th><th title = \"Union{Missing, Float64}\" style = \"text-align: left;\">Float64?</th><th title = \"Union{Missing, Float64}\" style = \"text-align: left;\">Float64?</th><th title = \"Union{Missing, Float64}\" style = \"text-align: left;\">Float64?</th><th title = \"Union{Missing, Int64}\" style = \"text-align: left;\">Int64?</th><th title = \"Union{Missing, Int64}\" style = \"text-align: left;\">Int64?</th><th title = \"Union{Missing, Int64}\" style = \"text-align: left;\">Int64?</th><th title = \"Union{Missing, Int64}\" style = \"text-align: left;\">Int64?</th><th title = \"Union{Missing, Float64}\" style = \"text-align: left;\">Float64?</th><th title = \"Union{Missing, Float64}\" style = \"text-align: left;\">Float64?</th><th title = \"Bool\" style = \"text-align: left;\">Bool</th><th title = \"String\" style = \"text-align: left;\">String</th></tr></thead><tbody><tr><td class = \"rowNumber\" style = \"font-weight: bold; text-align: right;\">1</td><td style = \"text-align: right;\">1</td><td style = \"text-align: left;\">biomass</td><td style = \"text-align: left;\">WEC_SDGE</td><td style = \"text-align: right;\">21.4</td><td style = \"text-align: right;\">20</td><td style = \"text-align: right;\">1.07</td><td style = \"text-align: right;\">5.234</td><td style = \"text-align: right;\">0</td><td style = \"text-align: left;\">None</td><td style = \"text-align: right;\">12.76</td><td style = \"text-align: right;\">1.471</td><td style = \"text-align: right;\">4.147</td><td style = \"text-align: right;\">0.71</td><td style = \"text-align: right;\">1.0</td><td style = \"text-align: right;\">1.0</td><td style = \"text-align: right;\">0</td><td style = \"text-align: right;\">0.0</td><td style = \"text-align: right;\">0</td><td style = \"text-align: right;\">0</td><td style = \"text-align: right;\">0</td><td style = \"text-align: right;\">1.0</td><td style = \"text-align: right;\">1.0</td><td style = \"text-align: right;\">1.0</td><td style = \"text-align: right;\">0</td><td style = \"text-align: right;\">0</td><td style = \"text-align: right;\">1</td><td style = \"text-align: right;\">0</td><td style = \"text-align: right;\">0.0</td><td style = \"text-align: right;\">0.0</td><td style = \"text-align: right;\">false</td><td style = \"text-align: left;\">wec_sdge_biomass_1.0</td></tr><tr><td class = \"rowNumber\" style = \"font-weight: bold; text-align: right;\">2</td><td style = \"text-align: right;\">2</td><td style = \"text-align: left;\">hydroelectric_pumped_storage</td><td style = \"text-align: left;\">WEC_SDGE</td><td style = \"text-align: right;\">42.0</td><td style = \"text-align: right;\">2</td><td style = \"text-align: right;\">21.0</td><td style = \"text-align: right;\">0.0</td><td style = \"text-align: right;\">0</td><td style = \"text-align: left;\">None</td><td style = \"text-align: right;\">0.0</td><td style = \"text-align: right;\">0.0</td><td style = \"text-align: right;\">0.0</td><td style = \"text-align: right;\">0.0</td><td style = \"text-align: right;\">1.0</td><td style = \"text-align: right;\">1.0</td><td style = \"text-align: right;\">0</td><td style = \"text-align: right;\">0.0</td><td style = \"text-align: right;\">0</td><td style = \"text-align: right;\">0</td><td style = \"text-align: right;\">0</td><td style = \"text-align: right;\">0.866</td><td style = \"text-align: right;\">0.866</td><td style = \"text-align: right;\">0.0063</td><td style = \"text-align: right;\">0</td><td style = \"text-align: right;\">0</td><td style = \"text-align: right;\">1</td><td style = \"text-align: right;\">1</td><td style = \"text-align: right;\">0.0</td><td style = \"text-align: right;\">0.0</td><td style = \"text-align: right;\">false</td><td style = \"text-align: left;\">wec_sdge_hydroelectric_pumped_storage_1.0</td></tr><tr><td class = \"rowNumber\" style = \"font-weight: bold; text-align: right;\">3</td><td style = \"text-align: right;\">3</td><td style = \"text-align: left;\">natural_gas_fired_combined_cycle</td><td style = \"text-align: left;\">WEC_SDGE</td><td style = \"text-align: right;\">607.1</td><td style = \"text-align: right;\">1</td><td style = \"text-align: right;\">607.1</td><td style = \"text-align: right;\">3.4</td><td style = \"text-align: right;\">0</td><td style = \"text-align: left;\">pacific_naturalgas</td><td style = \"text-align: right;\">7.52</td><td style = \"text-align: right;\">0.0</td><td style = \"text-align: right;\">0.0</td><td style = \"text-align: right;\">0.362</td><td style = \"text-align: right;\">0.4</td><td style = \"text-align: right;\">0.4</td><td style = \"text-align: right;\">87</td><td style = \"text-align: right;\">2.0</td><td style = \"text-align: right;\">6</td><td style = \"text-align: right;\">6</td><td style = \"text-align: right;\">0</td><td style = \"text-align: right;\">1.0</td><td style = \"text-align: right;\">1.0</td><td style = \"text-align: right;\">1.0</td><td style = \"text-align: right;\">0</td><td style = \"text-align: right;\">0</td><td style = \"text-align: right;\">1</td><td style = \"text-align: right;\">0</td><td style = \"text-align: right;\">2.57</td><td style = \"text-align: right;\">0.05306</td><td style = \"text-align: right;\">false</td><td style = \"text-align: left;\">wec_sdge_natural_gas_fired_combined_cycle_1.0</td></tr><tr><td class = \"rowNumber\" style = \"font-weight: bold; text-align: right;\">4</td><td style = \"text-align: right;\">4</td><td style = \"text-align: left;\">natural_gas_fired_combined_cycle</td><td style = \"text-align: left;\">WEC_SDGE</td><td style = \"text-align: right;\">30.0</td><td style = \"text-align: right;\">1</td><td style = \"text-align: right;\">30.0</td><td style = \"text-align: right;\">4.3</td><td style = \"text-align: right;\">0</td><td style = \"text-align: left;\">pacific_naturalgas</td><td style = \"text-align: right;\">10.05</td><td style = \"text-align: right;\">0.0</td><td style = \"text-align: right;\">0.0</td><td style = \"text-align: right;\">0.55</td><td style = \"text-align: right;\">0.4</td><td style = \"text-align: right;\">0.4</td><td style = \"text-align: right;\">87</td><td style = \"text-align: right;\">2.0</td><td style = \"text-align: right;\">6</td><td style = \"text-align: right;\">6</td><td style = \"text-align: right;\">0</td><td style = \"text-align: right;\">1.0</td><td style = \"text-align: right;\">1.0</td><td style = \"text-align: right;\">1.0</td><td style = \"text-align: right;\">0</td><td style = \"text-align: right;\">0</td><td style = \"text-align: right;\">2</td><td style = \"text-align: right;\">0</td><td style = \"text-align: right;\">2.57</td><td style = \"text-align: right;\">0.05306</td><td style = \"text-align: right;\">false</td><td style = \"text-align: left;\">wec_sdge_natural_gas_fired_combined_cycle_2.0</td></tr><tr><td class = \"rowNumber\" style = \"font-weight: bold; text-align: right;\">5</td><td style = \"text-align: right;\">5</td><td style = \"text-align: left;\">natural_gas_fired_combined_cycle</td><td style = \"text-align: left;\">WEC_SDGE</td><td style = \"text-align: right;\">49.4</td><td style = \"text-align: right;\">1</td><td style = \"text-align: right;\">49.4</td><td style = \"text-align: right;\">4.3</td><td style = \"text-align: right;\">0</td><td style = \"text-align: left;\">pacific_naturalgas</td><td style = \"text-align: right;\">9.73</td><td style = \"text-align: right;\">0.0</td><td style = \"text-align: right;\">0.0</td><td style = \"text-align: right;\">0.5</td><td style = \"text-align: right;\">0.4</td><td style = \"text-align: right;\">0.4</td><td style = \"text-align: right;\">87</td><td style = \"text-align: right;\">2.0</td><td style = \"text-align: right;\">6</td><td style = \"text-align: right;\">6</td><td style = \"text-align: right;\">0</td><td style = \"text-align: right;\">1.0</td><td style = \"text-align: right;\">1.0</td><td style = \"text-align: right;\">1.0</td><td style = \"text-align: right;\">0</td><td style = \"text-align: right;\">0</td><td style = \"text-align: right;\">3</td><td style = \"text-align: right;\">0</td><td style = \"text-align: right;\">2.57</td><td style = \"text-align: right;\">0.05306</td><td style = \"text-align: right;\">false</td><td style = \"text-align: left;\">wec_sdge_natural_gas_fired_combined_cycle_3.0</td></tr><tr><td class = \"rowNumber\" style = \"font-weight: bold; text-align: right;\">6</td><td style = \"text-align: right;\">6</td><td style = \"text-align: left;\">natural_gas_fired_combined_cycle</td><td style = \"text-align: left;\">WEC_SDGE</td><td style = \"text-align: right;\">570.0</td><td style = \"text-align: right;\">1</td><td style = \"text-align: right;\">570.0</td><td style = \"text-align: right;\">3.4</td><td style = \"text-align: right;\">0</td><td style = \"text-align: left;\">pacific_naturalgas</td><td style = \"text-align: right;\">7.15</td><td style = \"text-align: right;\">0.0</td><td style = \"text-align: right;\">0.0</td><td style = \"text-align: right;\">0.351</td><td style = \"text-align: right;\">0.4</td><td style = \"text-align: right;\">0.4</td><td style = \"text-align: right;\">87</td><td style = \"text-align: right;\">2.0</td><td style = \"text-align: right;\">6</td><td style = \"text-align: right;\">6</td><td style = \"text-align: right;\">0</td><td style = \"text-align: right;\">1.0</td><td style = \"text-align: right;\">1.0</td><td style = \"text-align: right;\">1.0</td><td style = \"text-align: right;\">0</td><td style = \"text-align: right;\">0</td><td style = \"text-align: right;\">4</td><td style = \"text-align: right;\">0</td><td style = \"text-align: right;\">2.57</td><td style = \"text-align: right;\">0.05306</td><td style = \"text-align: right;\">false</td><td style = \"text-align: left;\">wec_sdge_natural_gas_fired_combined_cycle_4.0</td></tr><tr><td class = \"rowNumber\" style = \"font-weight: bold; text-align: right;\">7</td><td style = \"text-align: right;\">7</td><td style = \"text-align: left;\">natural_gas_fired_combined_cycle</td><td style = \"text-align: left;\">WEC_SDGE</td><td style = \"text-align: right;\">336.0</td><td style = \"text-align: right;\">3</td><td style = \"text-align: right;\">112.0</td><td style = \"text-align: right;\">10.8</td><td style = \"text-align: right;\">0</td><td style = \"text-align: left;\">pacific_naturalgas</td><td style = \"text-align: right;\">10.03</td><td style = \"text-align: right;\">0.0</td><td style = \"text-align: right;\">0.0</td><td style = \"text-align: right;\">0.446</td><td style = \"text-align: right;\">3.78</td><td style = \"text-align: right;\">3.78</td><td style = \"text-align: right;\">113</td><td style = \"text-align: right;\">3.5</td><td style = \"text-align: right;\">1</td><td style = \"text-align: right;\">1</td><td style = \"text-align: right;\">0</td><td style = \"text-align: right;\">1.0</td><td style = \"text-align: right;\">1.0</td><td style = \"text-align: right;\">1.0</td><td style = \"text-align: right;\">0</td><td style = \"text-align: right;\">0</td><td style = \"text-align: right;\">5</td><td style = \"text-align: right;\">0</td><td style = \"text-align: right;\">2.57</td><td style = \"text-align: right;\">0.05306</td><td style = \"text-align: right;\">false</td><td style = \"text-align: left;\">wec_sdge_natural_gas_fired_combined_cycle_5.0</td></tr><tr><td class = \"rowNumber\" style = \"font-weight: bold; text-align: right;\">8</td><td style = \"text-align: right;\">8</td><td style = \"text-align: left;\">natural_gas_fired_combined_cycle</td><td style = \"text-align: left;\">WEC_SDGE</td><td style = \"text-align: right;\">336.0</td><td style = \"text-align: right;\">3</td><td style = \"text-align: right;\">112.0</td><td style = \"text-align: right;\">10.8</td><td style = \"text-align: right;\">0</td><td style = \"text-align: left;\">pacific_naturalgas</td><td style = \"text-align: right;\">10.1</td><td style = \"text-align: right;\">0.0</td><td style = \"text-align: right;\">0.0</td><td style = \"text-align: right;\">0.446</td><td style = \"text-align: right;\">3.78</td><td style = \"text-align: right;\">3.78</td><td style = \"text-align: right;\">113</td><td style = \"text-align: right;\">3.5</td><td style = \"text-align: right;\">1</td><td style = \"text-align: right;\">1</td><td style = \"text-align: right;\">0</td><td style = \"text-align: right;\">1.0</td><td style = \"text-align: right;\">1.0</td><td style = \"text-align: right;\">1.0</td><td style = \"text-align: right;\">0</td><td style = \"text-align: right;\">0</td><td style = \"text-align: right;\">6</td><td style = \"text-align: right;\">0</td><td style = \"text-align: right;\">2.57</td><td style = \"text-align: right;\">0.05306</td><td style = \"text-align: right;\">false</td><td style = \"text-align: left;\">wec_sdge_natural_gas_fired_combined_cycle_6.0</td></tr><tr><td class = \"rowNumber\" style = \"font-weight: bold; text-align: right;\">9</td><td style = \"text-align: right;\">9</td><td style = \"text-align: left;\">natural_gas_fired_combustion_turbine</td><td style = \"text-align: left;\">WEC_SDGE</td><td style = \"text-align: right;\">91.6</td><td style = \"text-align: right;\">2</td><td style = \"text-align: right;\">45.8</td><td style = \"text-align: right;\">10.8</td><td style = \"text-align: right;\">0</td><td style = \"text-align: left;\">pacific_naturalgas</td><td style = \"text-align: right;\">10.69</td><td style = \"text-align: right;\">0.0</td><td style = \"text-align: right;\">0.0</td><td style = \"text-align: right;\">0.8</td><td style = \"text-align: right;\">3.78</td><td style = \"text-align: right;\">3.78</td><td style = \"text-align: right;\">113</td><td style = \"text-align: right;\">3.5</td><td style = \"text-align: right;\">1</td><td style = \"text-align: right;\">1</td><td style = \"text-align: right;\">0</td><td style = \"text-align: right;\">1.0</td><td style = \"text-align: right;\">1.0</td><td style = \"text-align: right;\">1.0</td><td style = \"text-align: right;\">0</td><td style = \"text-align: right;\">0</td><td style = \"text-align: right;\">1</td><td style = \"text-align: right;\">0</td><td style = \"text-align: right;\">2.57</td><td style = \"text-align: right;\">0.05306</td><td style = \"text-align: right;\">false</td><td style = \"text-align: left;\">wec_sdge_natural_gas_fired_combustion_turbine_1.0</td></tr><tr><td class = \"rowNumber\" style = \"font-weight: bold; text-align: right;\">10</td><td style = \"text-align: right;\">10</td><td style = \"text-align: left;\">natural_gas_fired_combustion_turbine</td><td style = \"text-align: left;\">WEC_SDGE</td><td style = \"text-align: right;\">49.9</td><td style = \"text-align: right;\">1</td><td style = \"text-align: right;\">49.9</td><td style = \"text-align: right;\">10.8</td><td style = \"text-align: right;\">0</td><td style = \"text-align: left;\">pacific_naturalgas</td><td style = \"text-align: right;\">10.48</td><td style = \"text-align: right;\">0.0</td><td style = \"text-align: right;\">0.0</td><td style = \"text-align: right;\">0.487</td><td style = \"text-align: right;\">3.78</td><td style = \"text-align: right;\">3.78</td><td style = \"text-align: right;\">113</td><td style = \"text-align: right;\">3.5</td><td style = \"text-align: right;\">1</td><td style = \"text-align: right;\">1</td><td style = \"text-align: right;\">0</td><td style = \"text-align: right;\">1.0</td><td style = \"text-align: right;\">1.0</td><td style = \"text-align: right;\">1.0</td><td style = \"text-align: right;\">0</td><td style = \"text-align: right;\">0</td><td style = \"text-align: right;\">2</td><td style = \"text-align: right;\">0</td><td style = \"text-align: right;\">2.57</td><td style = \"text-align: right;\">0.05306</td><td style = \"text-align: right;\">false</td><td style = \"text-align: left;\">wec_sdge_natural_gas_fired_combustion_turbine_2.0</td></tr><tr><td class = \"rowNumber\" style = \"font-weight: bold; text-align: right;\">11</td><td style = \"text-align: right;\">11</td><td style = \"text-align: left;\">natural_gas_fired_combustion_turbine</td><td style = \"text-align: left;\">WEC_SDGE</td><td style = \"text-align: right;\">48.1</td><td style = \"text-align: right;\">1</td><td style = \"text-align: right;\">48.1</td><td style = \"text-align: right;\">10.8</td><td style = \"text-align: right;\">0</td><td style = \"text-align: left;\">pacific_naturalgas</td><td style = \"text-align: right;\">11.04</td><td style = \"text-align: right;\">0.0</td><td style = \"text-align: right;\">0.0</td><td style = \"text-align: right;\">0.437</td><td style = \"text-align: right;\">3.78</td><td style = \"text-align: right;\">3.78</td><td style = \"text-align: right;\">113</td><td style = \"text-align: right;\">3.5</td><td style = \"text-align: right;\">1</td><td style = \"text-align: right;\">1</td><td style = \"text-align: right;\">0</td><td style = \"text-align: right;\">1.0</td><td style = \"text-align: right;\">1.0</td><td style = \"text-align: right;\">1.0</td><td style = \"text-align: right;\">0</td><td style = \"text-align: right;\">0</td><td style = \"text-align: right;\">3</td><td style = \"text-align: right;\">0</td><td style = \"text-align: right;\">2.57</td><td style = \"text-align: right;\">0.05306</td><td style = \"text-align: right;\">false</td><td style = \"text-align: left;\">wec_sdge_natural_gas_fired_combustion_turbine_3.0</td></tr><tr><td class = \"rowNumber\" style = \"font-weight: bold; text-align: right;\">12</td><td style = \"text-align: right;\">12</td><td style = \"text-align: left;\">natural_gas_fired_combustion_turbine</td><td style = \"text-align: left;\">WEC_SDGE</td><td style = \"text-align: right;\">34.6</td><td style = \"text-align: right;\">1</td><td style = \"text-align: right;\">34.6</td><td style = \"text-align: right;\">10.8</td><td style = \"text-align: right;\">0</td><td style = \"text-align: left;\">pacific_naturalgas</td><td style = \"text-align: right;\">16.86</td><td style = \"text-align: right;\">0.0</td><td style = \"text-align: right;\">0.0</td><td style = \"text-align: right;\">0.954</td><td style = \"text-align: right;\">3.78</td><td style = \"text-align: right;\">3.78</td><td style = \"text-align: right;\">113</td><td style = \"text-align: right;\">3.5</td><td style = \"text-align: right;\">1</td><td style = \"text-align: right;\">1</td><td style = \"text-align: right;\">0</td><td style = \"text-align: right;\">1.0</td><td style = \"text-align: right;\">1.0</td><td style = \"text-align: right;\">1.0</td><td style = \"text-align: right;\">0</td><td style = \"text-align: right;\">0</td><td style = \"text-align: right;\">4</td><td style = \"text-align: right;\">0</td><td style = \"text-align: right;\">2.57</td><td style = \"text-align: right;\">0.05306</td><td style = \"text-align: right;\">false</td><td style = \"text-align: left;\">wec_sdge_natural_gas_fired_combustion_turbine_4.0</td></tr><tr><td class = \"rowNumber\" style = \"font-weight: bold; text-align: right;\">13</td><td style = \"text-align: right;\">13</td><td style = \"text-align: left;\">natural_gas_fired_combustion_turbine</td><td style = \"text-align: left;\">WEC_SDGE</td><td style = \"text-align: right;\">96.6</td><td style = \"text-align: right;\">3</td><td style = \"text-align: right;\">32.2</td><td style = \"text-align: right;\">10.8</td><td style = \"text-align: right;\">0</td><td style = \"text-align: left;\">pacific_naturalgas</td><td style = \"text-align: right;\">10.5</td><td style = \"text-align: right;\">0.0</td><td style = \"text-align: right;\">0.0</td><td style = \"text-align: right;\">0.932</td><td style = \"text-align: right;\">3.78</td><td style = \"text-align: right;\">3.78</td><td style = \"text-align: right;\">113</td><td style = \"text-align: right;\">3.5</td><td style = \"text-align: right;\">1</td><td style = \"text-align: right;\">1</td><td style = \"text-align: right;\">0</td><td style = \"text-align: right;\">1.0</td><td style = \"text-align: right;\">1.0</td><td style = \"text-align: right;\">1.0</td><td style = \"text-align: right;\">0</td><td style = \"text-align: right;\">0</td><td style = \"text-align: right;\">5</td><td style = \"text-align: right;\">0</td><td style = \"text-align: right;\">2.57</td><td style = \"text-align: right;\">0.05306</td><td style = \"text-align: right;\">false</td><td style = \"text-align: left;\">wec_sdge_natural_gas_fired_combustion_turbine_5.0</td></tr><tr><td class = \"rowNumber\" style = \"font-weight: bold; text-align: right;\">14</td><td style = \"text-align: right;\">14</td><td style = \"text-align: left;\">natural_gas_fired_combustion_turbine</td><td style = \"text-align: left;\">WEC_SDGE</td><td style = \"text-align: right;\">4.8</td><td style = \"text-align: right;\">1</td><td style = \"text-align: right;\">4.8</td><td style = \"text-align: right;\">10.8</td><td style = \"text-align: right;\">0</td><td style = \"text-align: left;\">pacific_naturalgas</td><td style = \"text-align: right;\">12.13</td><td style = \"text-align: right;\">0.0</td><td style = \"text-align: right;\">0.0</td><td style = \"text-align: right;\">0.583</td><td style = \"text-align: right;\">3.78</td><td style = \"text-align: right;\">3.78</td><td style = \"text-align: right;\">113</td><td style = \"text-align: right;\">3.5</td><td style = \"text-align: right;\">1</td><td style = \"text-align: right;\">1</td><td style = \"text-align: right;\">0</td><td style = \"text-align: right;\">1.0</td><td style = \"text-align: right;\">1.0</td><td style = \"text-align: right;\">1.0</td><td style = \"text-align: right;\">0</td><td style = \"text-align: right;\">0</td><td style = \"text-align: right;\">6</td><td style = \"text-align: right;\">0</td><td style = \"text-align: right;\">2.57</td><td style = \"text-align: right;\">0.05306</td><td style = \"text-align: right;\">false</td><td style = \"text-align: left;\">wec_sdge_natural_gas_fired_combustion_turbine_6.0</td></tr><tr><td class = \"rowNumber\" style = \"font-weight: bold; text-align: right;\">15</td><td style = \"text-align: right;\">15</td><td style = \"text-align: left;\">natural_gas_fired_combustion_turbine</td><td style = \"text-align: left;\">WEC_SDGE</td><td style = \"text-align: right;\">17.3</td><td style = \"text-align: right;\">2</td><td style = \"text-align: right;\">8.65</td><td style = \"text-align: right;\">10.8</td><td style = \"text-align: right;\">0</td><td style = \"text-align: left;\">pacific_naturalgas</td><td style = \"text-align: right;\">13.57</td><td style = \"text-align: right;\">0.0</td><td style = \"text-align: right;\">0.0</td><td style = \"text-align: right;\">0.809</td><td style = \"text-align: right;\">3.78</td><td style = \"text-align: right;\">3.78</td><td style = \"text-align: right;\">113</td><td style = \"text-align: right;\">3.5</td><td style = \"text-align: right;\">1</td><td style = \"text-align: right;\">1</td><td style = \"text-align: right;\">0</td><td style = \"text-align: right;\">1.0</td><td style = \"text-align: right;\">1.0</td><td style = \"text-align: right;\">1.0</td><td style = \"text-align: right;\">0</td><td style = \"text-align: right;\">0</td><td style = \"text-align: right;\">7</td><td style = \"text-align: right;\">0</td><td style = \"text-align: right;\">2.57</td><td style = \"text-align: right;\">0.05306</td><td style = \"text-align: right;\">false</td><td style = \"text-align: left;\">wec_sdge_natural_gas_fired_combustion_turbine_7.0</td></tr><tr><td class = \"rowNumber\" style = \"font-weight: bold; text-align: right;\">16</td><td style = \"text-align: right;\">16</td><td style = \"text-align: left;\">natural_gas_fired_combustion_turbine</td><td style = \"text-align: left;\">WEC_SDGE</td><td style = \"text-align: right;\">48.7</td><td style = \"text-align: right;\">1</td><td style = \"text-align: right;\">48.7</td><td style = \"text-align: right;\">10.8</td><td style = \"text-align: right;\">0</td><td style = \"text-align: left;\">pacific_naturalgas</td><td style = \"text-align: right;\">11.46</td><td style = \"text-align: right;\">0.0</td><td style = \"text-align: right;\">0.0</td><td style = \"text-align: right;\">0.329</td><td style = \"text-align: right;\">3.78</td><td style = \"text-align: right;\">3.78</td><td style = \"text-align: right;\">113</td><td style = \"text-align: right;\">3.5</td><td style = \"text-align: right;\">1</td><td style = \"text-align: right;\">1</td><td style = \"text-align: right;\">0</td><td style = \"text-align: right;\">1.0</td><td style = \"text-align: right;\">1.0</td><td style = \"text-align: right;\">1.0</td><td style = \"text-align: right;\">0</td><td style = \"text-align: right;\">0</td><td style = \"text-align: right;\">8</td><td style = \"text-align: right;\">0</td><td style = \"text-align: right;\">2.57</td><td style = \"text-align: right;\">0.05306</td><td style = \"text-align: right;\">false</td><td style = \"text-align: left;\">wec_sdge_natural_gas_fired_combustion_turbine_8.0</td></tr><tr><td class = \"rowNumber\" style = \"font-weight: bold; text-align: right;\">17</td><td style = \"text-align: right;\">17</td><td style = \"text-align: left;\">natural_gas_fired_combustion_turbine</td><td style = \"text-align: left;\">WEC_SDGE</td><td style = \"text-align: right;\">98.2</td><td style = \"text-align: right;\">2</td><td style = \"text-align: right;\">49.1</td><td style = \"text-align: right;\">10.8</td><td style = \"text-align: right;\">0</td><td style = \"text-align: left;\">pacific_naturalgas</td><td style = \"text-align: right;\">11.15</td><td style = \"text-align: right;\">0.0</td><td style = \"text-align: right;\">0.0</td><td style = \"text-align: right;\">0.0</td><td style = \"text-align: right;\">3.78</td><td style = \"text-align: right;\">3.78</td><td style = \"text-align: right;\">113</td><td style = \"text-align: right;\">3.5</td><td style = \"text-align: right;\">1</td><td style = \"text-align: right;\">1</td><td style = \"text-align: right;\">0</td><td style = \"text-align: right;\">1.0</td><td style = \"text-align: right;\">1.0</td><td style = \"text-align: right;\">1.0</td><td style = \"text-align: right;\">0</td><td style = \"text-align: right;\">0</td><td style = \"text-align: right;\">9</td><td style = \"text-align: right;\">0</td><td style = \"text-align: right;\">2.57</td><td style = \"text-align: right;\">0.05306</td><td style = \"text-align: right;\">false</td><td style = \"text-align: left;\">wec_sdge_natural_gas_fired_combustion_turbine_9.0</td></tr><tr><td class = \"rowNumber\" style = \"font-weight: bold; text-align: right;\">18</td><td style = \"text-align: right;\">18</td><td style = \"text-align: left;\">natural_gas_fired_combustion_turbine</td><td style = \"text-align: left;\">WEC_SDGE</td><td style = \"text-align: right;\">98.2</td><td style = \"text-align: right;\">2</td><td style = \"text-align: right;\">49.1</td><td style = \"text-align: right;\">10.8</td><td style = \"text-align: right;\">0</td><td style = \"text-align: left;\">pacific_naturalgas</td><td style = \"text-align: right;\">11.2</td><td style = \"text-align: right;\">0.0</td><td style = \"text-align: right;\">0.0</td><td style = \"text-align: right;\">0.0</td><td style = \"text-align: right;\">3.78</td><td style = \"text-align: right;\">3.78</td><td style = \"text-align: right;\">113</td><td style = \"text-align: right;\">3.5</td><td style = \"text-align: right;\">1</td><td style = \"text-align: right;\">1</td><td style = \"text-align: right;\">0</td><td style = \"text-align: right;\">1.0</td><td style = \"text-align: right;\">1.0</td><td style = \"text-align: right;\">1.0</td><td style = \"text-align: right;\">0</td><td style = \"text-align: right;\">0</td><td style = \"text-align: right;\">10</td><td style = \"text-align: right;\">0</td><td style = \"text-align: right;\">2.57</td><td style = \"text-align: right;\">0.05306</td><td style = \"text-align: right;\">false</td><td style = \"text-align: left;\">wec_sdge_natural_gas_fired_combustion_turbine_10.0</td></tr><tr><td class = \"rowNumber\" style = \"font-weight: bold; text-align: right;\">19</td><td style = \"text-align: right;\">19</td><td style = \"text-align: left;\">natural_gas_fired_combustion_turbine</td><td style = \"text-align: left;\">WEC_SDGE</td><td style = \"text-align: right;\">48.9</td><td style = \"text-align: right;\">1</td><td style = \"text-align: right;\">48.9</td><td style = \"text-align: right;\">10.8</td><td style = \"text-align: right;\">0</td><td style = \"text-align: left;\">pacific_naturalgas</td><td style = \"text-align: right;\">11.22</td><td style = \"text-align: right;\">0.0</td><td style = \"text-align: right;\">0.0</td><td style = \"text-align: right;\">0.654</td><td style = \"text-align: right;\">3.78</td><td style = \"text-align: right;\">3.78</td><td style = \"text-align: right;\">113</td><td style = \"text-align: right;\">3.5</td><td style = \"text-align: right;\">1</td><td style = \"text-align: right;\">1</td><td style = \"text-align: right;\">0</td><td style = \"text-align: right;\">1.0</td><td style = \"text-align: right;\">1.0</td><td style = \"text-align: right;\">1.0</td><td style = \"text-align: right;\">0</td><td style = \"text-align: right;\">0</td><td style = \"text-align: right;\">11</td><td style = \"text-align: right;\">0</td><td style = \"text-align: right;\">2.57</td><td style = \"text-align: right;\">0.05306</td><td style = \"text-align: right;\">false</td><td style = \"text-align: left;\">wec_sdge_natural_gas_fired_combustion_turbine_11.0</td></tr><tr><td class = \"rowNumber\" style = \"font-weight: bold; text-align: right;\">20</td><td style = \"text-align: right;\">20</td><td style = \"text-align: left;\">natural_gas_fired_combustion_turbine</td><td style = \"text-align: left;\">WEC_SDGE</td><td style = \"text-align: right;\">48.9</td><td style = \"text-align: right;\">1</td><td style = \"text-align: right;\">48.9</td><td style = \"text-align: right;\">10.8</td><td style = \"text-align: right;\">0</td><td style = \"text-align: left;\">pacific_naturalgas</td><td style = \"text-align: right;\">11.3</td><td style = \"text-align: right;\">0.0</td><td style = \"text-align: right;\">0.0</td><td style = \"text-align: right;\">0.654</td><td style = \"text-align: right;\">3.78</td><td style = \"text-align: right;\">3.78</td><td style = \"text-align: right;\">113</td><td style = \"text-align: right;\">3.5</td><td style = \"text-align: right;\">1</td><td style = \"text-align: right;\">1</td><td style = \"text-align: right;\">0</td><td style = \"text-align: right;\">1.0</td><td style = \"text-align: right;\">1.0</td><td style = \"text-align: right;\">1.0</td><td style = \"text-align: right;\">0</td><td style = \"text-align: right;\">0</td><td style = \"text-align: right;\">12</td><td style = \"text-align: right;\">0</td><td style = \"text-align: right;\">2.57</td><td style = \"text-align: right;\">0.05306</td><td style = \"text-align: right;\">false</td><td style = \"text-align: left;\">wec_sdge_natural_gas_fired_combustion_turbine_12.0</td></tr><tr><td class = \"rowNumber\" style = \"font-weight: bold; text-align: right;\">21</td><td style = \"text-align: right;\">21</td><td style = \"text-align: left;\">natural_gas_fired_combustion_turbine</td><td style = \"text-align: left;\">WEC_SDGE</td><td style = \"text-align: right;\">51.3</td><td style = \"text-align: right;\">1</td><td style = \"text-align: right;\">51.3</td><td style = \"text-align: right;\">10.8</td><td style = \"text-align: right;\">0</td><td style = \"text-align: left;\">pacific_naturalgas</td><td style = \"text-align: right;\">11.08</td><td style = \"text-align: right;\">0.0</td><td style = \"text-align: right;\">0.0</td><td style = \"text-align: right;\">0.409</td><td style = \"text-align: right;\">3.78</td><td style = \"text-align: right;\">3.78</td><td style = \"text-align: right;\">113</td><td style = \"text-align: right;\">3.5</td><td style = \"text-align: right;\">1</td><td style = \"text-align: right;\">1</td><td style = \"text-align: right;\">0</td><td style = \"text-align: right;\">1.0</td><td style = \"text-align: right;\">1.0</td><td style = \"text-align: right;\">1.0</td><td style = \"text-align: right;\">0</td><td style = \"text-align: right;\">0</td><td style = \"text-align: right;\">13</td><td style = \"text-align: right;\">0</td><td style = \"text-align: right;\">2.57</td><td style = \"text-align: right;\">0.05306</td><td style = \"text-align: right;\">false</td><td style = \"text-align: left;\">wec_sdge_natural_gas_fired_combustion_turbine_13.0</td></tr><tr><td class = \"rowNumber\" style = \"font-weight: bold; text-align: right;\">22</td><td style = \"text-align: right;\">22</td><td style = \"text-align: left;\">natural_gas_fired_combustion_turbine</td><td style = \"text-align: left;\">WEC_SDGE</td><td style = \"text-align: right;\">51.3</td><td style = \"text-align: right;\">1</td><td style = \"text-align: right;\">51.3</td><td style = \"text-align: right;\">10.8</td><td style = \"text-align: right;\">0</td><td style = \"text-align: left;\">pacific_naturalgas</td><td style = \"text-align: right;\">11.12</td><td style = \"text-align: right;\">0.0</td><td style = \"text-align: right;\">0.0</td><td style = \"text-align: right;\">0.409</td><td style = \"text-align: right;\">3.78</td><td style = \"text-align: right;\">3.78</td><td style = \"text-align: right;\">113</td><td style = \"text-align: right;\">3.5</td><td style = \"text-align: right;\">1</td><td style = \"text-align: right;\">1</td><td style = \"text-align: right;\">0</td><td style = \"text-align: right;\">1.0</td><td style = \"text-align: right;\">1.0</td><td style = \"text-align: right;\">1.0</td><td style = \"text-align: right;\">0</td><td style = \"text-align: right;\">0</td><td style = \"text-align: right;\">14</td><td style = \"text-align: right;\">0</td><td style = \"text-align: right;\">2.57</td><td style = \"text-align: right;\">0.05306</td><td style = \"text-align: right;\">false</td><td style = \"text-align: left;\">wec_sdge_natural_gas_fired_combustion_turbine_14.0</td></tr><tr><td class = \"rowNumber\" style = \"font-weight: bold; text-align: right;\">23</td><td style = \"text-align: right;\">23</td><td style = \"text-align: left;\">onshore_wind_turbine</td><td style = \"text-align: left;\">WEC_SDGE</td><td style = \"text-align: right;\">217.6</td><td style = \"text-align: right;\">3</td><td style = \"text-align: right;\">64.67</td><td style = \"text-align: right;\">0.0</td><td style = \"text-align: right;\">0</td><td style = \"text-align: left;\">None</td><td style = \"text-align: right;\">9.12</td><td style = \"text-align: right;\">0.0</td><td style = \"text-align: right;\">0.0</td><td style = \"text-align: right;\">0.0</td><td style = \"text-align: right;\">1.0</td><td style = \"text-align: right;\">1.0</td><td style = \"text-align: right;\">0</td><td style = \"text-align: right;\">0.0</td><td style = \"text-align: right;\">0</td><td style = \"text-align: right;\">0</td><td style = \"text-align: right;\">0</td><td style = \"text-align: right;\">1.0</td><td style = \"text-align: right;\">1.0</td><td style = \"text-align: right;\">1.0</td><td style = \"text-align: right;\">0</td><td style = \"text-align: right;\">0</td><td style = \"text-align: right;\">1</td><td style = \"text-align: right;\">0</td><td style = \"text-align: right;\">0.0</td><td style = \"text-align: right;\">0.0</td><td style = \"text-align: right;\">true</td><td style = \"text-align: left;\">wec_sdge_onshore_wind_turbine_1.0</td></tr><tr><td class = \"rowNumber\" style = \"font-weight: bold; text-align: right;\">24</td><td style = \"text-align: right;\">24</td><td style = \"text-align: left;\">small_hydroelectric</td><td style = \"text-align: left;\">WEC_SDGE</td><td style = \"text-align: right;\">7.32</td><td style = \"text-align: right;\">6</td><td style = \"text-align: right;\">1.22</td><td style = \"text-align: right;\">0.0</td><td style = \"text-align: right;\">0</td><td style = \"text-align: left;\">None</td><td style = \"text-align: right;\">9.12</td><td style = \"text-align: right;\">0.002</td><td style = \"text-align: right;\">0.001</td><td style = \"text-align: right;\">0.385</td><td style = \"text-align: right;\">1.0</td><td style = \"text-align: right;\">1.0</td><td style = \"text-align: right;\">0</td><td style = \"text-align: right;\">0.0</td><td style = \"text-align: right;\">0</td><td style = \"text-align: right;\">0</td><td style = \"text-align: right;\">0</td><td style = \"text-align: right;\">1.0</td><td style = \"text-align: right;\">1.0</td><td style = \"text-align: right;\">1.0</td><td style = \"text-align: right;\">0</td><td style = \"text-align: right;\">0</td><td style = \"text-align: right;\">1</td><td style = \"text-align: right;\">0</td><td style = \"text-align: right;\">0.0</td><td style = \"text-align: right;\">0.0</td><td style = \"text-align: right;\">true</td><td style = \"text-align: left;\">wec_sdge_small_hydroelectric_1.0</td></tr><tr><td class = \"rowNumber\" style = \"font-weight: bold; text-align: right;\">25</td><td style = \"text-align: right;\">25</td><td style = \"text-align: left;\">solar_photovoltaic</td><td style = \"text-align: left;\">WEC_SDGE</td><td style = \"text-align: right;\">500.0</td><td style = \"text-align: right;\">20</td><td style = \"text-align: right;\">8.48</td><td style = \"text-align: right;\">0.0</td><td style = \"text-align: right;\">0</td><td style = \"text-align: left;\">None</td><td style = \"text-align: right;\">9.16</td><td style = \"text-align: right;\">0.0</td><td style = \"text-align: right;\">0.021</td><td style = \"text-align: right;\">0.0</td><td style = \"text-align: right;\">1.0</td><td style = \"text-align: right;\">1.0</td><td style = \"text-align: right;\">0</td><td style = \"text-align: right;\">0.0</td><td style = \"text-align: right;\">0</td><td style = \"text-align: right;\">0</td><td style = \"text-align: right;\">0</td><td style = \"text-align: right;\">1.0</td><td style = \"text-align: right;\">1.0</td><td style = \"text-align: right;\">1.0</td><td style = \"text-align: right;\">0</td><td style = \"text-align: right;\">0</td><td style = \"text-align: right;\">1</td><td style = \"text-align: right;\">0</td><td style = \"text-align: right;\">0.0</td><td style = \"text-align: right;\">0.0</td><td style = \"text-align: right;\">true</td><td style = \"text-align: left;\">wec_sdge_solar_photovoltaic_1.0</td></tr></tbody></table></div>"
      ],
      "text/latex": [
       "\\begin{tabular}{r|ccccccccc}\n",
       "\t& r\\_id & resource & region & existing\\_cap\\_mw & num\\_units & cap\\_size & var\\_om\\_cost\\_per\\_mwh & var\\_om\\_cost\\_per\\_mwh\\_in & \\\\\n",
       "\t\\hline\n",
       "\t& Int64? & String? & String15? & Float64? & Int64? & Float64? & Float64? & Int64? & \\\\\n",
       "\t\\hline\n",
       "\t1 & 1 & biomass & WEC\\_SDGE & 21.4 & 20 & 1.07 & 5.234 & 0 & $\\dots$ \\\\\n",
       "\t2 & 2 & hydroelectric\\_pumped\\_storage & WEC\\_SDGE & 42.0 & 2 & 21.0 & 0.0 & 0 & $\\dots$ \\\\\n",
       "\t3 & 3 & natural\\_gas\\_fired\\_combined\\_cycle & WEC\\_SDGE & 607.1 & 1 & 607.1 & 3.4 & 0 & $\\dots$ \\\\\n",
       "\t4 & 4 & natural\\_gas\\_fired\\_combined\\_cycle & WEC\\_SDGE & 30.0 & 1 & 30.0 & 4.3 & 0 & $\\dots$ \\\\\n",
       "\t5 & 5 & natural\\_gas\\_fired\\_combined\\_cycle & WEC\\_SDGE & 49.4 & 1 & 49.4 & 4.3 & 0 & $\\dots$ \\\\\n",
       "\t6 & 6 & natural\\_gas\\_fired\\_combined\\_cycle & WEC\\_SDGE & 570.0 & 1 & 570.0 & 3.4 & 0 & $\\dots$ \\\\\n",
       "\t7 & 7 & natural\\_gas\\_fired\\_combined\\_cycle & WEC\\_SDGE & 336.0 & 3 & 112.0 & 10.8 & 0 & $\\dots$ \\\\\n",
       "\t8 & 8 & natural\\_gas\\_fired\\_combined\\_cycle & WEC\\_SDGE & 336.0 & 3 & 112.0 & 10.8 & 0 & $\\dots$ \\\\\n",
       "\t9 & 9 & natural\\_gas\\_fired\\_combustion\\_turbine & WEC\\_SDGE & 91.6 & 2 & 45.8 & 10.8 & 0 & $\\dots$ \\\\\n",
       "\t10 & 10 & natural\\_gas\\_fired\\_combustion\\_turbine & WEC\\_SDGE & 49.9 & 1 & 49.9 & 10.8 & 0 & $\\dots$ \\\\\n",
       "\t11 & 11 & natural\\_gas\\_fired\\_combustion\\_turbine & WEC\\_SDGE & 48.1 & 1 & 48.1 & 10.8 & 0 & $\\dots$ \\\\\n",
       "\t12 & 12 & natural\\_gas\\_fired\\_combustion\\_turbine & WEC\\_SDGE & 34.6 & 1 & 34.6 & 10.8 & 0 & $\\dots$ \\\\\n",
       "\t13 & 13 & natural\\_gas\\_fired\\_combustion\\_turbine & WEC\\_SDGE & 96.6 & 3 & 32.2 & 10.8 & 0 & $\\dots$ \\\\\n",
       "\t14 & 14 & natural\\_gas\\_fired\\_combustion\\_turbine & WEC\\_SDGE & 4.8 & 1 & 4.8 & 10.8 & 0 & $\\dots$ \\\\\n",
       "\t15 & 15 & natural\\_gas\\_fired\\_combustion\\_turbine & WEC\\_SDGE & 17.3 & 2 & 8.65 & 10.8 & 0 & $\\dots$ \\\\\n",
       "\t16 & 16 & natural\\_gas\\_fired\\_combustion\\_turbine & WEC\\_SDGE & 48.7 & 1 & 48.7 & 10.8 & 0 & $\\dots$ \\\\\n",
       "\t17 & 17 & natural\\_gas\\_fired\\_combustion\\_turbine & WEC\\_SDGE & 98.2 & 2 & 49.1 & 10.8 & 0 & $\\dots$ \\\\\n",
       "\t18 & 18 & natural\\_gas\\_fired\\_combustion\\_turbine & WEC\\_SDGE & 98.2 & 2 & 49.1 & 10.8 & 0 & $\\dots$ \\\\\n",
       "\t19 & 19 & natural\\_gas\\_fired\\_combustion\\_turbine & WEC\\_SDGE & 48.9 & 1 & 48.9 & 10.8 & 0 & $\\dots$ \\\\\n",
       "\t20 & 20 & natural\\_gas\\_fired\\_combustion\\_turbine & WEC\\_SDGE & 48.9 & 1 & 48.9 & 10.8 & 0 & $\\dots$ \\\\\n",
       "\t21 & 21 & natural\\_gas\\_fired\\_combustion\\_turbine & WEC\\_SDGE & 51.3 & 1 & 51.3 & 10.8 & 0 & $\\dots$ \\\\\n",
       "\t22 & 22 & natural\\_gas\\_fired\\_combustion\\_turbine & WEC\\_SDGE & 51.3 & 1 & 51.3 & 10.8 & 0 & $\\dots$ \\\\\n",
       "\t23 & 23 & onshore\\_wind\\_turbine & WEC\\_SDGE & 217.6 & 3 & 64.67 & 0.0 & 0 & $\\dots$ \\\\\n",
       "\t24 & 24 & small\\_hydroelectric & WEC\\_SDGE & 7.32 & 6 & 1.22 & 0.0 & 0 & $\\dots$ \\\\\n",
       "\t25 & 25 & solar\\_photovoltaic & WEC\\_SDGE & 500.0 & 20 & 8.48 & 0.0 & 0 & $\\dots$ \\\\\n",
       "\\end{tabular}\n"
      ],
      "text/plain": [
       "\u001b[1m25×31 DataFrame\u001b[0m\n",
       "\u001b[1m Row \u001b[0m│\u001b[1m r_id   \u001b[0m\u001b[1m resource                          \u001b[0m\u001b[1m region    \u001b[0m\u001b[1m existing_cap_mw \u001b[0m\u001b[1m num_units \u001b[0m\u001b[1m cap_size \u001b[0m\u001b[1m var_om_cost_per_mwh\u001b[0m ⋯\n",
       "     │\u001b[90m Int64? \u001b[0m\u001b[90m String?                           \u001b[0m\u001b[90m String15? \u001b[0m\u001b[90m Float64?        \u001b[0m\u001b[90m Int64?    \u001b[0m\u001b[90m Float64? \u001b[0m\u001b[90m Float64?           \u001b[0m ⋯\n",
       "─────┼──────────────────────────────────────────────────────────────────────────────────────────────────────────────────\n",
       "   1 │      1  biomass                            WEC_SDGE             21.4          20      1.07                5.234 ⋯\n",
       "   2 │      2  hydroelectric_pumped_storage       WEC_SDGE             42.0           2     21.0                 0.0\n",
       "   3 │      3  natural_gas_fired_combined_cycle   WEC_SDGE            607.1           1    607.1                 3.4\n",
       "   4 │      4  natural_gas_fired_combined_cycle   WEC_SDGE             30.0           1     30.0                 4.3\n",
       "   5 │      5  natural_gas_fired_combined_cycle   WEC_SDGE             49.4           1     49.4                 4.3   ⋯\n",
       "   6 │      6  natural_gas_fired_combined_cycle   WEC_SDGE            570.0           1    570.0                 3.4\n",
       "   7 │      7  natural_gas_fired_combined_cycle   WEC_SDGE            336.0           3    112.0                10.8\n",
       "   8 │      8  natural_gas_fired_combined_cycle   WEC_SDGE            336.0           3    112.0                10.8\n",
       "   9 │      9  natural_gas_fired_combustion_tur…  WEC_SDGE             91.6           2     45.8                10.8   ⋯\n",
       "  10 │     10  natural_gas_fired_combustion_tur…  WEC_SDGE             49.9           1     49.9                10.8\n",
       "  11 │     11  natural_gas_fired_combustion_tur…  WEC_SDGE             48.1           1     48.1                10.8\n",
       "  ⋮  │   ⋮                     ⋮                      ⋮             ⋮             ⋮         ⋮               ⋮          ⋱\n",
       "  16 │     16  natural_gas_fired_combustion_tur…  WEC_SDGE             48.7           1     48.7                10.8\n",
       "  17 │     17  natural_gas_fired_combustion_tur…  WEC_SDGE             98.2           2     49.1                10.8   ⋯\n",
       "  18 │     18  natural_gas_fired_combustion_tur…  WEC_SDGE             98.2           2     49.1                10.8\n",
       "  19 │     19  natural_gas_fired_combustion_tur…  WEC_SDGE             48.9           1     48.9                10.8\n",
       "  20 │     20  natural_gas_fired_combustion_tur…  WEC_SDGE             48.9           1     48.9                10.8\n",
       "  21 │     21  natural_gas_fired_combustion_tur…  WEC_SDGE             51.3           1     51.3                10.8   ⋯\n",
       "  22 │     22  natural_gas_fired_combustion_tur…  WEC_SDGE             51.3           1     51.3                10.8\n",
       "  23 │     23  onshore_wind_turbine               WEC_SDGE            217.6           3     64.67                0.0\n",
       "  24 │     24  small_hydroelectric                WEC_SDGE              7.32          6      1.22                0.0\n",
       "  25 │     25  solar_photovoltaic                 WEC_SDGE            500.0          20      8.48                0.0   ⋯\n",
       "\u001b[36m                                                                                           24 columns and 4 rows omitted\u001b[0m"
      ]
     },
     "execution_count": 69,
     "metadata": {},
     "output_type": "execute_result"
    }
   ],
   "source": [
    "gen_df_sens = copy(gen_df)\n",
    "gen_df_sens[gen_df_sens.resource .== \"solar_photovoltaic\",\n",
    "    :existing_cap_mw] .= 3500\n",
    "\n",
    "gen_df"
   ]
  },
  {
   "cell_type": "code",
   "execution_count": 70,
   "id": "65826405",
   "metadata": {},
   "outputs": [
    {
     "ename": "LoadError",
     "evalue": "The provided `optimizer_constructor` is invalid. It must be callable with zero arguments. For example, \"Ipopt.Optimizer\" or \"() -> ECOS.Optimizer()\". It should not be an instantiated optimizer like \"Ipopt.Optimizer()\" or \"ECOS.Optimizer()\". (Note the difference in parentheses!)",
     "output_type": "error",
     "traceback": [
      "The provided `optimizer_constructor` is invalid. It must be callable with zero arguments. For example, \"Ipopt.Optimizer\" or \"() -> ECOS.Optimizer()\". It should not be an instantiated optimizer like \"Ipopt.Optimizer()\" or \"ECOS.Optimizer()\". (Note the difference in parentheses!)",
      "",
      "Stacktrace:",
      " [1] error(s::String)",
      "   @ Base .\\error.jl:35",
      " [2] _instantiate_and_check(optimizer_constructor::Any)",
      "   @ MathOptInterface C:\\Users\\user\\.julia\\packages\\MathOptInterface\\cl3eR\\src\\instantiate.jl:92",
      " [3] instantiate(optimizer_constructor::Any; with_bridge_type::Type{Float64})",
      "   @ MathOptInterface C:\\Users\\user\\.julia\\packages\\MathOptInterface\\cl3eR\\src\\instantiate.jl:149",
      " [4] set_optimizer(model::Model, optimizer_constructor::Any; add_bridges::Bool)",
      "   @ JuMP C:\\Users\\user\\.julia\\packages\\JuMP\\yYfHy\\src\\optimizer_interface.jl:405",
      " [5] #Model#1",
      "   @ C:\\Users\\user\\.julia\\packages\\JuMP\\yYfHy\\src\\JuMP.jl:170 [inlined]",
      " [6] Model(optimizer_factory::Any)",
      "   @ JuMP C:\\Users\\user\\.julia\\packages\\JuMP\\yYfHy\\src\\JuMP.jl:168",
      " [7] unit_commitment_multi_time(gen_df::DataFrame, loads_multi::DataFrame, gen_variable_multi::DataFrame)",
      "   @ Main .\\In[67]:3",
      " [8] top-level scope",
      "   @ In[70]:1"
     ]
    }
   ],
   "source": [
    "solution = unit_commitment_multi_time(gen_df, loads_multi, gen_variable_multi);\n",
    "\n",
    "solution.solution\n",
    "solution.cost"
   ]
  },
  {
   "cell_type": "code",
   "execution_count": 25,
   "id": "73434ec3",
   "metadata": {},
   "outputs": [
    {
     "ename": "LoadError",
     "evalue": "UndefVarError: solution not defined",
     "output_type": "error",
     "traceback": [
      "UndefVarError: solution not defined",
      "",
      "Stacktrace:",
      " [1] top-level scope",
      "   @ In[25]:1"
     ]
    }
   ],
   "source": [
    "CSV.write(\"solution.csv\", solution.solution)\n",
    "marginals = marginals\n",
    "\n",
    "solution. dual.(RampUp)"
   ]
  },
  {
   "cell_type": "code",
   "execution_count": null,
   "id": "e31e46dc",
   "metadata": {},
   "outputs": [],
   "source": [
    "sol_gen = innerjoin(solution.solution, \n",
    "                    gen_df[!, [:r_id, :resource]], \n",
    "                    on = :r_id)\n",
    "sol_gen = combine(groupby(sol_gen, [:resource, :hour]), \n",
    "            :gen => sum)\n",
    "sol_gen_btm = sol_gen\n",
    "sol_gen_btm[sol_gen_btm.resource .== \"solar_photovoltaic\", :resource] .= \"_solar_photovoltaic\"\n",
    "sol_gen_btm[sol_gen_btm.resource .== \"onshore_wind_turbine\", :resource] .= \"_onshore_wind_turbine\"\n",
    "sol_gen_btm[sol_gen_btm.resource .== \"small_hydroelectric\", :resource] .= \"_small_hydroelectric\"\n"
   ]
  },
  {
   "cell_type": "code",
   "execution_count": null,
   "id": "a32c5d0a",
   "metadata": {},
   "outputs": [],
   "source": [
    "btm = DataFrame(resource = repeat([\"_solar_photovoltaic_btm\"]; outer=length(T_period)), \n",
    "    hour = T_period,\n",
    "    gen_sum = gen_variable_multi[gen_variable_multi.gen_full .== \"wec_sdge_solar_photovoltaic_1.0\",:cf] * 600)\n",
    "append!(sol_gen_btm, btm)"
   ]
  }
 ],
 "metadata": {
  "kernelspec": {
   "display_name": "Julia 1.8.4",
   "language": "julia",
   "name": "julia-1.8"
  },
  "language_info": {
   "file_extension": ".jl",
   "mimetype": "application/julia",
   "name": "julia",
   "version": "1.8.4"
  }
 },
 "nbformat": 4,
 "nbformat_minor": 5
}

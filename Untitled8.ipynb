{
 "cells": [
  {
   "cell_type": "code",
   "execution_count": 10,
   "id": "821d49b9",
   "metadata": {},
   "outputs": [],
   "source": [
    "using JuMP, HiGHS\n",
    "using Plots; plotly();\n",
    "using VegaLite  # to make some nice plots\n",
    "using DataFrames, CSV, PrettyTables\n",
    "using FileIO\n",
    "using PlotlyKaleido\n",
    "ENV[\"COLUMNS\"]=120;"
   ]
  },
  {
   "cell_type": "code",
   "execution_count": 20,
   "id": "460374b7",
   "metadata": {},
   "outputs": [
    {
     "data": {
      "text/plain": [
       "\"ed_data\""
      ]
     },
     "execution_count": 20,
     "metadata": {},
     "output_type": "execute_result"
    }
   ],
   "source": [
    "data = CSV.read(\"net_demand(2022-06-30)2.csv\", DataFrame);\n",
    "datadir = joinpath(\"ed_data\") "
   ]
  },
  {
   "cell_type": "code",
   "execution_count": 21,
   "id": "cd9f36eb",
   "metadata": {},
   "outputs": [],
   "source": [
    "gen_info = CSV.read(joinpath(datadir,\"Generators_data.csv\"), DataFrame);\n",
    "fuels = CSV.read(joinpath(datadir,\"Fuels_data.csv\"), DataFrame);\n",
    "loads = data[!,:Netdemand]\n",
    "gen_variable = CSV.read(joinpath(datadir,\"Generators_variability.csv\"), DataFrame);\n"
   ]
  },
  {
   "cell_type": "code",
   "execution_count": 22,
   "id": "10a3c2fc",
   "metadata": {},
   "outputs": [
    {
     "ename": "LoadError",
     "evalue": "MethodError: no method matching names(::SentinelArrays.SentinelVector{String15, String15, Missing, Vector{String15}})\n\u001b[0mClosest candidates are:\n\u001b[0m  names(\u001b[91m::Union{DataFrames.DataFrameColumns, DataFrames.DataFrameRows}\u001b[39m) at C:\\Users\\user\\.julia\\packages\\DataFrames\\dgZn3\\src\\abstractdataframe\\iteration.jl:259\n\u001b[0m  names(\u001b[91m::Union{DataFrames.DataFrameColumns, DataFrames.DataFrameRows}\u001b[39m, \u001b[91m::Any\u001b[39m) at C:\\Users\\user\\.julia\\packages\\DataFrames\\dgZn3\\src\\abstractdataframe\\iteration.jl:260\n\u001b[0m  names(\u001b[91m::DataFrameRow\u001b[39m) at C:\\Users\\user\\.julia\\packages\\DataFrames\\dgZn3\\src\\dataframerow\\dataframerow.jl:267\n\u001b[0m  ...",
     "output_type": "error",
     "traceback": [
      "MethodError: no method matching names(::SentinelArrays.SentinelVector{String15, String15, Missing, Vector{String15}})\n\u001b[0mClosest candidates are:\n\u001b[0m  names(\u001b[91m::Union{DataFrames.DataFrameColumns, DataFrames.DataFrameRows}\u001b[39m) at C:\\Users\\user\\.julia\\packages\\DataFrames\\dgZn3\\src\\abstractdataframe\\iteration.jl:259\n\u001b[0m  names(\u001b[91m::Union{DataFrames.DataFrameColumns, DataFrames.DataFrameRows}\u001b[39m, \u001b[91m::Any\u001b[39m) at C:\\Users\\user\\.julia\\packages\\DataFrames\\dgZn3\\src\\abstractdataframe\\iteration.jl:260\n\u001b[0m  names(\u001b[91m::DataFrameRow\u001b[39m) at C:\\Users\\user\\.julia\\packages\\DataFrames\\dgZn3\\src\\dataframerow\\dataframerow.jl:267\n\u001b[0m  ...",
      "",
      "Stacktrace:",
      " [1] top-level scope",
      "   @ .\\In[22]:3"
     ]
    }
   ],
   "source": [
    "# Rename all columns to lowercase (by convention)\n",
    "for f in [gen_info, fuels, loads, gen_variable]\n",
    "    rename!(f,lowercase.(names(f)))\n",
    "end"
   ]
  },
  {
   "cell_type": "code",
   "execution_count": 23,
   "id": "b5d8c96f",
   "metadata": {},
   "outputs": [
    {
     "data": {
      "text/plain": [
       "556-element SentinelArrays.SentinelVector{String15, String15, Missing, Vector{String15}}:\n",
       " \"60,251,716,667\"\n",
       " \"60,218,916,667\"\n",
       " \"59,503,816,667\"\n",
       " \"59,352,116,667\"\n",
       " \"59,130,816,667\"\n",
       " \"59,012,016,667\"\n",
       " \"58,630,816,667\"\n",
       " \"58,448,716,667\"\n",
       " \"58,148,716,667\"\n",
       " \"58,215,916,667\"\n",
       " \"57,954,116,667\"\n",
       " \"57,818,616,667\"\n",
       " \"57,306,658,333\"\n",
       " ⋮\n",
       " missing\n",
       " missing\n",
       " missing\n",
       " missing\n",
       " missing\n",
       " missing\n",
       " missing\n",
       " missing\n",
       " missing\n",
       " missing\n",
       " missing\n",
       " missing"
      ]
     },
     "execution_count": 23,
     "metadata": {},
     "output_type": "execute_result"
    }
   ],
   "source": [
    "loads"
   ]
  },
  {
   "cell_type": "code",
   "execution_count": null,
   "id": "502485d8",
   "metadata": {},
   "outputs": [],
   "source": []
  }
 ],
 "metadata": {
  "kernelspec": {
   "display_name": "Julia 1.8.4",
   "language": "julia",
   "name": "julia-1.8"
  },
  "language_info": {
   "file_extension": ".jl",
   "mimetype": "application/julia",
   "name": "julia",
   "version": "1.8.4"
  }
 },
 "nbformat": 4,
 "nbformat_minor": 5
}

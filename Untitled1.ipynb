{
 "cells": [
  {
   "cell_type": "code",
   "execution_count": 17,
   "id": "cabffc90",
   "metadata": {},
   "outputs": [
    {
     "data": {
      "text/plain": [
       "([1.0 2.0 2.0; 1.0 3.0 5.0; … ; 6.0 5.0 1.0; 6.0 7.0 7.0], AbstractString[\"start node i \" \" end node j\" \" c_ij\"])"
      ]
     },
     "execution_count": 17,
     "metadata": {},
     "output_type": "execute_result"
    }
   ],
   "source": [
    "using DelimitedFiles\n",
    "network_data = readdlm(\"MS_ch6.short_p395.csv\", ',',header = true)\n"
   ]
  },
  {
   "cell_type": "code",
   "execution_count": 27,
   "id": "40d6b42a",
   "metadata": {},
   "outputs": [
    {
     "data": {
      "text/plain": [
       "19×3 Matrix{Float64}:\n",
       " 1.0  2.0  2.0\n",
       " 1.0  3.0  5.0\n",
       " 1.0  4.0  4.0\n",
       " 2.0  3.0  2.0\n",
       " 2.0  5.0  7.0\n",
       " 3.0  2.0  2.0\n",
       " 3.0  4.0  1.0\n",
       " 3.0  5.0  4.0\n",
       " 3.0  6.0  3.0\n",
       " 4.0  3.0  1.0\n",
       " 4.0  6.0  4.0\n",
       " 5.0  2.0  7.0\n",
       " 5.0  3.0  4.0\n",
       " 5.0  6.0  1.0\n",
       " 5.0  7.0  5.0\n",
       " 6.0  3.0  3.0\n",
       " 6.0  4.0  4.0\n",
       " 6.0  5.0  1.0\n",
       " 6.0  7.0  7.0"
      ]
     },
     "execution_count": 27,
     "metadata": {},
     "output_type": "execute_result"
    }
   ],
   "source": [
    "\n",
    "data = network_data[1]\n",
    "\n",
    "\n"
   ]
  },
  {
   "cell_type": "code",
   "execution_count": 28,
   "id": "6aff59b3",
   "metadata": {},
   "outputs": [
    {
     "data": {
      "text/plain": [
       "1×3 Matrix{AbstractString}:\n",
       " \"start node i \"  \" end node j\"  \" c_ij\""
      ]
     },
     "execution_count": 28,
     "metadata": {},
     "output_type": "execute_result"
    }
   ],
   "source": [
    "header = network_data[2]"
   ]
  },
  {
   "cell_type": "code",
   "execution_count": 29,
   "id": "ac82da82",
   "metadata": {},
   "outputs": [
    {
     "data": {
      "text/plain": [
       "19-element Vector{Float64}:\n",
       " 2.0\n",
       " 3.0\n",
       " 4.0\n",
       " 3.0\n",
       " 5.0\n",
       " 2.0\n",
       " 4.0\n",
       " 5.0\n",
       " 6.0\n",
       " 3.0\n",
       " 6.0\n",
       " 2.0\n",
       " 3.0\n",
       " 6.0\n",
       " 7.0\n",
       " 3.0\n",
       " 4.0\n",
       " 5.0\n",
       " 7.0"
      ]
     },
     "execution_count": 29,
     "metadata": {},
     "output_type": "execute_result"
    }
   ],
   "source": [
    "\n",
    "start_node = data[:,1]\n",
    "end_node = data[:,2]\n"
   ]
  },
  {
   "cell_type": "code",
   "execution_count": 30,
   "id": "d57c0f10",
   "metadata": {},
   "outputs": [
    {
     "data": {
      "text/plain": [
       "19-element Vector{Float64}:\n",
       " 2.0\n",
       " 5.0\n",
       " 4.0\n",
       " 2.0\n",
       " 7.0\n",
       " 2.0\n",
       " 1.0\n",
       " 4.0\n",
       " 3.0\n",
       " 1.0\n",
       " 4.0\n",
       " 7.0\n",
       " 4.0\n",
       " 1.0\n",
       " 5.0\n",
       " 3.0\n",
       " 4.0\n",
       " 1.0\n",
       " 7.0"
      ]
     },
     "execution_count": 30,
     "metadata": {},
     "output_type": "execute_result"
    }
   ],
   "source": [
    "\n",
    "c = data[:,3]\n"
   ]
  },
  {
   "cell_type": "code",
   "execution_count": 31,
   "id": "b30283a4",
   "metadata": {},
   "outputs": [
    {
     "data": {
      "text/plain": [
       "7"
      ]
     },
     "execution_count": 31,
     "metadata": {},
     "output_type": "execute_result"
    }
   ],
   "source": [
    "\n",
    "origin = 1\n",
    "destination = 7"
   ]
  },
  {
   "cell_type": "code",
   "execution_count": 32,
   "id": "3f905c53",
   "metadata": {},
   "outputs": [
    {
     "data": {
      "text/plain": [
       "7.0"
      ]
     },
     "execution_count": 32,
     "metadata": {},
     "output_type": "execute_result"
    }
   ],
   "source": [
    "no_node = max(maximum(start_node),maximum(end_node))"
   ]
  },
  {
   "cell_type": "code",
   "execution_count": 33,
   "id": "9377e8e7",
   "metadata": {},
   "outputs": [
    {
     "data": {
      "text/plain": [
       "19"
      ]
     },
     "execution_count": 33,
     "metadata": {},
     "output_type": "execute_result"
    }
   ],
   "source": [
    "no_link = length(start_node)"
   ]
  },
  {
   "cell_type": "code",
   "execution_count": 26,
   "id": "39e4b406",
   "metadata": {},
   "outputs": [
    {
     "ename": "LoadError",
     "evalue": "MethodError: no method matching SimpleGraph(::Float64)\n\u001b[0mClosest candidates are:\n\u001b[0m  SimpleGraph(::Any, \u001b[91m::Array{Vector{T}, 1}\u001b[39m) where T at C:\\Users\\user\\.julia\\packages\\LightGraphs\\IgJif\\src\\SimpleGraphs\\simplegraph.jl:18\n\u001b[0m  SimpleGraph() at C:\\Users\\user\\.julia\\packages\\LightGraphs\\IgJif\\src\\SimpleGraphs\\simplegraph.jl:50\n\u001b[0m  SimpleGraph(\u001b[91m::SimpleDiGraph\u001b[39m) at C:\\Users\\user\\.julia\\packages\\LightGraphs\\IgJif\\src\\SimpleGraphs\\simplegraph.jl:140\n\u001b[0m  ...",
     "output_type": "error",
     "traceback": [
      "MethodError: no method matching SimpleGraph(::Float64)\n\u001b[0mClosest candidates are:\n\u001b[0m  SimpleGraph(::Any, \u001b[91m::Array{Vector{T}, 1}\u001b[39m) where T at C:\\Users\\user\\.julia\\packages\\LightGraphs\\IgJif\\src\\SimpleGraphs\\simplegraph.jl:18\n\u001b[0m  SimpleGraph() at C:\\Users\\user\\.julia\\packages\\LightGraphs\\IgJif\\src\\SimpleGraphs\\simplegraph.jl:50\n\u001b[0m  SimpleGraph(\u001b[91m::SimpleDiGraph\u001b[39m) at C:\\Users\\user\\.julia\\packages\\LightGraphs\\IgJif\\src\\SimpleGraphs\\simplegraph.jl:140\n\u001b[0m  ...",
      "",
      "Stacktrace:",
      " [1] top-level scope",
      "   @ In[26]:2"
     ]
    }
   ],
   "source": [
    "using LightGraphs\n",
    "graph = Graph(no_node)"
   ]
  },
  {
   "cell_type": "code",
   "execution_count": null,
   "id": "8f76204c",
   "metadata": {},
   "outputs": [],
   "source": [
    "\n",
    "distmx = Inf*ones(no_node, no_node)\n",
    "\n",
    "for i in 1:no_link\n",
    "    add_edge!(graph, start_node[i],end_node[i])\n",
    "    distmx[start_node[i],end_node[i]] = c[i]\n",
    "end\n",
    "\n",
    "state = dijkstra_shortest_paths(graph, origin, distmx)\n",
    "\n",
    "path = enumerate_paths(state, destination)\n",
    "\n"
   ]
  }
 ],
 "metadata": {
  "kernelspec": {
   "display_name": "Julia 1.8.4",
   "language": "julia",
   "name": "julia-1.8"
  },
  "language_info": {
   "file_extension": ".jl",
   "mimetype": "application/julia",
   "name": "julia",
   "version": "1.8.4"
  }
 },
 "nbformat": 4,
 "nbformat_minor": 5
}

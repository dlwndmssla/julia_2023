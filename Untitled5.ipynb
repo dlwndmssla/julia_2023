{
 "cells": [
  {
   "cell_type": "code",
   "execution_count": 1,
   "id": "3bdf921c",
   "metadata": {},
   "outputs": [],
   "source": [
    "using JuMP\n",
    "import DataFrames\n",
    "import HiGHS\n",
    "import Plots\n",
    "import StatsPlots"
   ]
  },
  {
   "cell_type": "code",
   "execution_count": 2,
   "id": "214f7252",
   "metadata": {},
   "outputs": [
    {
     "data": {
      "text/plain": [
       "3-element Vector{NamedTuple{(:min, :max, :fixed_cost, :variable_cost), NTuple{4, Float64}}}:\n",
       " (min = 0.0, max = 1000.0, fixed_cost = 1000.0, variable_cost = 50.0)\n",
       " (min = 300.0, max = 1000.0, fixed_cost = 0.0, variable_cost = 100.0)\n",
       " (min = 300.0, max = 1000.0, fixed_cost = 0.0, variable_cost = 80.0)"
      ]
     },
     "execution_count": 2,
     "metadata": {},
     "output_type": "execute_result"
    }
   ],
   "source": [
    "function ThermalGenerator(\n",
    "    min::Float64,\n",
    "    max::Float64,\n",
    "    fixed_cost::Float64,\n",
    "    variable_cost::Float64,\n",
    ")\n",
    "    return (\n",
    "        min = min,\n",
    "        max = max,\n",
    "        fixed_cost = fixed_cost,\n",
    "        variable_cost = variable_cost,\n",
    "    )\n",
    "end\n",
    "\n",
    "generators = [\n",
    "    ThermalGenerator(0.0, 1000.0, 1000.0, 50.0),\n",
    "    ThermalGenerator(300.0, 1000.0, 0.0, 100.0),\n",
    "    ThermalGenerator(300.0, 1000.0, 0.0, 80.0),\n",
    "]"
   ]
  },
  {
   "cell_type": "code",
   "execution_count": 3,
   "id": "9e0bc89a",
   "metadata": {},
   "outputs": [
    {
     "data": {
      "text/plain": [
       "(variable_cost = 50.0,)"
      ]
     },
     "execution_count": 3,
     "metadata": {},
     "output_type": "execute_result"
    }
   ],
   "source": [
    "WindGenerator(variable_cost::Float64) = (variable_cost = variable_cost,)\n",
    "\n",
    "wind_generator = WindGenerator(50.0)"
   ]
  },
  {
   "cell_type": "code",
   "execution_count": 4,
   "id": "8ab01511",
   "metadata": {},
   "outputs": [
    {
     "data": {
      "text/plain": [
       "(demand = 1500.0, wind = 200.0)"
      ]
     },
     "execution_count": 4,
     "metadata": {},
     "output_type": "execute_result"
    }
   ],
   "source": [
    "function Scenario(demand::Float64, wind::Float64)\n",
    "    return (demand = demand, wind = wind)\n",
    "end\n",
    "\n",
    "scenario = Scenario(1500.0, 200.0)"
   ]
  },
  {
   "cell_type": "code",
   "execution_count": 5,
   "id": "f4431081",
   "metadata": {},
   "outputs": [
    {
     "data": {
      "text/plain": [
       "solve_economic_dispatch (generic function with 1 method)"
      ]
     },
     "execution_count": 5,
     "metadata": {},
     "output_type": "execute_result"
    }
   ],
   "source": [
    "function solve_economic_dispatch(generators::Vector, wind, scenario)\n",
    "    # Define the economic dispatch (ED) model\n",
    "    model = Model(HiGHS.Optimizer)\n",
    "    set_silent(model)\n",
    "    # Define decision variables\n",
    "    # power output of generators\n",
    "    N = length(generators)\n",
    "    @variable(model, generators[i].min <= g[i = 1:N] <= generators[i].max)\n",
    "    # wind power injection\n",
    "    @variable(model, 0 <= w <= scenario.wind)\n",
    "    # Define the objective function\n",
    "    @objective(\n",
    "        model,\n",
    "        Min,\n",
    "        sum(generators[i].variable_cost * g[i] for i in 1:N) +\n",
    "        wind.variable_cost * w,\n",
    "    )\n",
    "    # Define the power balance constraint\n",
    "    @constraint(model, sum(g[i] for i in 1:N) + w == scenario.demand)\n",
    "    # Solve statement\n",
    "    optimize!(model)\n",
    "    # return the optimal value of the objective function and its minimizers\n",
    "    return (\n",
    "        g = value.(g),\n",
    "        w = value(w),\n",
    "        wind_spill = scenario.wind - value(w),\n",
    "        total_cost = objective_value(model),\n",
    "    )\n",
    "end"
   ]
  },
  {
   "cell_type": "code",
   "execution_count": 13,
   "id": "3e583e9f",
   "metadata": {},
   "outputs": [
    {
     "name": "stdout",
     "output_type": "stream",
     "text": [
      "Dispatch of Generators: [900.0, 300.0, 300.0] MW\n",
      "Dispatch of Wind: 0.0 MW\n",
      "Wind spillage: 200.0 MW\n",
      "Total cost: $99000.0\n"
     ]
    }
   ],
   "source": [
    "solution = solve_economic_dispatch(generators, wind_generator, scenario);\n",
    "\n",
    "println(\"Dispatch of Generators: \", solution.g, \" MW\")\n",
    "println(\"Dispatch of Wind: \", solution.w, \" MW\")\n",
    "println(\"Wind spillage: \", solution.wind_spill, \" MW\")\n",
    "println(\"Total cost: \\$\", solution.total_cost)"
   ]
  },
  {
   "cell_type": "code",
   "execution_count": 22,
   "id": "f049465a",
   "metadata": {},
   "outputs": [
    {
     "data": {
      "text/plain": [
       "scale_generator_cost (generic function with 1 method)"
      ]
     },
     "execution_count": 22,
     "metadata": {},
     "output_type": "execute_result"
    }
   ],
   "source": [
    "function scale_generator_cost(g, scale)\n",
    "    return ThermalGenerator(g.min, g.max, g.fixed_cost, scale * g.variable_cost)\n",
    "end\n"
   ]
  },
  {
   "cell_type": "code",
   "execution_count": 20,
   "id": "d5f823e3",
   "metadata": {},
   "outputs": [
    {
     "data": {
      "text/html": [
       "<div><div style = \"float: left;\"><span>0×7 DataFrame</span></div><div style = \"clear: both;\"></div></div><div class = \"data-frame\" style = \"overflow-x: scroll;\"><table class = \"data-frame\" style = \"margin-bottom: 6px;\"><thead><tr class = \"header\"><th class = \"rowNumber\" style = \"font-weight: bold; text-align: right;\">Row</th><th style = \"text-align: left;\">scale</th><th style = \"text-align: left;\">dispatch_G1</th><th style = \"text-align: left;\">dispatch_G2</th><th style = \"text-align: left;\">dispatch_G3</th><th style = \"text-align: left;\">dispatch_wind</th><th style = \"text-align: left;\">spillage_wind</th><th style = \"text-align: left;\">total_cost</th></tr><tr class = \"subheader headerLastRow\"><th class = \"rowNumber\" style = \"font-weight: bold; text-align: right;\"></th><th title = \"Float64\" style = \"text-align: left;\">Float64</th><th title = \"Float64\" style = \"text-align: left;\">Float64</th><th title = \"Float64\" style = \"text-align: left;\">Float64</th><th title = \"Float64\" style = \"text-align: left;\">Float64</th><th title = \"Float64\" style = \"text-align: left;\">Float64</th><th title = \"Float64\" style = \"text-align: left;\">Float64</th><th title = \"Float64\" style = \"text-align: left;\">Float64</th></tr></thead><tbody></tbody></table></div>"
      ],
      "text/latex": [
       "\\begin{tabular}{r|ccccccc}\n",
       "\t& scale & dispatch\\_G1 & dispatch\\_G2 & dispatch\\_G3 & dispatch\\_wind & spillage\\_wind & total\\_cost\\\\\n",
       "\t\\hline\n",
       "\t& Float64 & Float64 & Float64 & Float64 & Float64 & Float64 & Float64\\\\\n",
       "\t\\hline\n",
       "\\end{tabular}\n"
      ],
      "text/plain": [
       "\u001b[1m0×7 DataFrame\u001b[0m\n",
       "\u001b[1m Row \u001b[0m│\u001b[1m scale   \u001b[0m\u001b[1m dispatch_G1 \u001b[0m\u001b[1m dispatch_G2 \u001b[0m\u001b[1m dispatch_G3 \u001b[0m\u001b[1m dispatch_wind \u001b[0m\u001b[1m spillage\u001b[0m ⋯\n",
       "     │\u001b[90m Float64 \u001b[0m\u001b[90m Float64     \u001b[0m\u001b[90m Float64     \u001b[0m\u001b[90m Float64     \u001b[0m\u001b[90m Float64       \u001b[0m\u001b[90m Float64 \u001b[0m ⋯\n",
       "─────┴──────────────────────────────────────────────────────────────────────────\n",
       "\u001b[36m                                                               2 columns omitted\u001b[0m"
      ]
     },
     "execution_count": 20,
     "metadata": {},
     "output_type": "execute_result"
    }
   ],
   "source": [
    "start = time()\n",
    "c_g_scale_df = DataFrames.DataFrame(;\n",
    "    # Scale factor\n",
    "    scale = Float64[],\n",
    "    # Dispatch of Generator 1 [MW]\n",
    "    dispatch_G1 = Float64[],\n",
    "    # Dispatch of Generator 2 [MW]\n",
    "    dispatch_G2 = Float64[],\n",
    "    # Dispatch of Generator 3 [MW]\n",
    "    dispatch_G3 = Float64[],\n",
    "    # Dispatch of Wind [MW]\n",
    "    dispatch_wind = Float64[],\n",
    "    # Spillage of Wind [MW]\n",
    "    spillage_wind = Float64[],\n",
    "    # Total cost [$]\n",
    "    total_cost = Float64[],\n",
    ")"
   ]
  },
  {
   "cell_type": "code",
   "execution_count": 31,
   "id": "132d6942",
   "metadata": {},
   "outputs": [
    {
     "ename": "LoadError",
     "evalue": "DimensionMismatch: arrays could not be broadcast to a common size; got a dimension with lengths 3 and 2",
     "output_type": "error",
     "traceback": [
      "DimensionMismatch: arrays could not be broadcast to a common size; got a dimension with lengths 3 and 2",
      "",
      "Stacktrace:",
      " [1] _bcs1",
      "   @ .\\broadcast.jl:516 [inlined]",
      " [2] _bcs",
      "   @ .\\broadcast.jl:510 [inlined]",
      " [3] broadcast_shape",
      "   @ .\\broadcast.jl:504 [inlined]",
      " [4] combine_axes",
      "   @ .\\broadcast.jl:499 [inlined]",
      " [5] instantiate",
      "   @ .\\broadcast.jl:281 [inlined]",
      " [6] materialize(bc::Base.Broadcast.Broadcasted{Base.Broadcast.DefaultArrayStyle{1}, Nothing, typeof(scale_generator_cost), Tuple{Vector{NamedTuple{(:min, :max, :fixed_cost, :variable_cost), NTuple{4, Float64}}}, Vector{Float64}}})",
      "   @ Base.Broadcast .\\broadcast.jl:860",
      " [7] top-level scope",
      "   @ .\\In[31]:3"
     ]
    }
   ],
   "source": [
    "for c_g1_scale in 0.5:0.1:3.0\n",
    "    # Update the incremental cost of the first generator at every iteration.\n",
    "    new_generators = scale_generator_cost.(generators, [c_g1_scale])\n",
    "    # Solve the economic-dispatch problem with the updated incremental cost\n",
    "    sol = solve_economic_dispatch(new_generators, wind_generator, scenario)\n",
    "    push!(\n",
    "        c_g_scale_df,\n",
    "        (c_g1_scale, sol.g[1], sol.g[2], sol.g[3], sol.w, sol.wind_spill, sol.total_cost),\n",
    "    )\n",
    "end\n"
   ]
  },
  {
   "cell_type": "code",
   "execution_count": 30,
   "id": "82f2c2bd",
   "metadata": {},
   "outputs": [
    {
     "ename": "LoadError",
     "evalue": "UndefVarError: new_generators not defined",
     "output_type": "error",
     "traceback": [
      "UndefVarError: new_generators not defined",
      ""
     ]
    }
   ],
   "source": [
    "new_generators"
   ]
  },
  {
   "cell_type": "code",
   "execution_count": 10,
   "id": "61b2bd53",
   "metadata": {},
   "outputs": [
    {
     "ename": "LoadError",
     "evalue": "UndefVarError: new_generators not defined",
     "output_type": "error",
     "traceback": [
      "UndefVarError: new_generators not defined",
      ""
     ]
    }
   ],
   "source": []
  },
  {
   "cell_type": "code",
   "execution_count": null,
   "id": "f5687321",
   "metadata": {},
   "outputs": [],
   "source": []
  }
 ],
 "metadata": {
  "kernelspec": {
   "display_name": "Julia 1.8.4",
   "language": "julia",
   "name": "julia-1.8"
  },
  "language_info": {
   "file_extension": ".jl",
   "mimetype": "application/julia",
   "name": "julia",
   "version": "1.8.4"
  }
 },
 "nbformat": 4,
 "nbformat_minor": 5
}

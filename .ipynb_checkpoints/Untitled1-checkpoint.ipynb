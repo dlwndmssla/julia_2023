{
 "cells": [
  {
   "cell_type": "code",
   "execution_count": 17,
   "id": "cabffc90",
   "metadata": {},
   "outputs": [
    {
     "data": {
      "text/plain": [
       "([1.0 2.0 2.0; 1.0 3.0 5.0; … ; 6.0 5.0 1.0; 6.0 7.0 7.0], AbstractString[\"start node i \" \" end node j\" \" c_ij\"])"
      ]
     },
     "execution_count": 17,
     "metadata": {},
     "output_type": "execute_result"
    }
   ],
   "source": [
    "using DelimitedFiles\n",
    "network_data = readdlm(\"MS_ch6.short_p395.csv\", ',',header = true)\n"
   ]
  },
  {
   "cell_type": "code",
   "execution_count": 18,
   "id": "40d6b42a",
   "metadata": {},
   "outputs": [
    {
     "data": {
      "text/plain": [
       "1×3 Matrix{AbstractString}:\n",
       " \"start node i \"  \" end node j\"  \" c_ij\""
      ]
     },
     "execution_count": 18,
     "metadata": {},
     "output_type": "execute_result"
    }
   ],
   "source": [
    "\n",
    "data = network_data[1]\n",
    "\n",
    "header = network_data[2]\n"
   ]
  },
  {
   "cell_type": "code",
   "execution_count": 19,
   "id": "42d37261",
   "metadata": {},
   "outputs": [
    {
     "data": {
      "text/plain": [
       "19-element Vector{Float64}:\n",
       " 2.0\n",
       " 3.0\n",
       " 4.0\n",
       " 3.0\n",
       " 5.0\n",
       " 2.0\n",
       " 4.0\n",
       " 5.0\n",
       " 6.0\n",
       " 3.0\n",
       " 6.0\n",
       " 2.0\n",
       " 3.0\n",
       " 6.0\n",
       " 7.0\n",
       " 3.0\n",
       " 4.0\n",
       " 5.0\n",
       " 7.0"
      ]
     },
     "execution_count": 19,
     "metadata": {},
     "output_type": "execute_result"
    }
   ],
   "source": [
    "\n",
    "start_node = data[:,1]\n",
    "end_node = data[:,2]\n"
   ]
  },
  {
   "cell_type": "code",
   "execution_count": 20,
   "id": "8405e6de",
   "metadata": {},
   "outputs": [
    {
     "data": {
      "text/plain": [
       "7"
      ]
     },
     "execution_count": 20,
     "metadata": {},
     "output_type": "execute_result"
    }
   ],
   "source": [
    "\n",
    "c = data[:,3]\n",
    "\n",
    "origin = 1\n",
    "destination = 7"
   ]
  },
  {
   "cell_type": "code",
   "execution_count": 22,
   "id": "25693102",
   "metadata": {},
   "outputs": [
    {
     "data": {
      "text/plain": [
       "7.0"
      ]
     },
     "execution_count": 22,
     "metadata": {},
     "output_type": "execute_result"
    }
   ],
   "source": [
    "no_node = max(maximum(start_node),maximum(end_node))"
   ]
  },
  {
   "cell_type": "code",
   "execution_count": 23,
   "id": "44b5b264",
   "metadata": {},
   "outputs": [
    {
     "data": {
      "text/plain": [
       "19"
      ]
     },
     "execution_count": 23,
     "metadata": {},
     "output_type": "execute_result"
    }
   ],
   "source": [
    "no_link = length(start_node)"
   ]
  },
  {
   "cell_type": "code",
   "execution_count": 25,
   "id": "6026ff89",
   "metadata": {},
   "outputs": [],
   "source": [
    "using LightGraphs\n",
    "graph = Graph(no_node)"
   ]
  },
  {
   "cell_type": "code",
   "execution_count": null,
   "id": "ac6e739b",
   "metadata": {},
   "outputs": [],
   "source": [
    "\n",
    "distmx = Inf*ones(no_node, no_node)\n",
    "\n",
    "for i in 1:no_link\n",
    "    add_edge!(graph, start_node[i],end_node[i])\n",
    "    distmx[start_node[i],end_node[i]] = c[i]\n",
    "end\n",
    "\n",
    "state = dijkstra_shortest_paths(graph, origin, distmx)\n",
    "\n",
    "path = enumerate_paths(state, destination)\n",
    "\n"
   ]
  }
 ],
 "metadata": {
  "kernelspec": {
   "display_name": "Julia 1.8.4",
   "language": "julia",
   "name": "julia-1.8"
  },
  "language_info": {
   "file_extension": ".jl",
   "mimetype": "application/julia",
   "name": "julia",
   "version": "1.8.4"
  }
 },
 "nbformat": 4,
 "nbformat_minor": 5
}

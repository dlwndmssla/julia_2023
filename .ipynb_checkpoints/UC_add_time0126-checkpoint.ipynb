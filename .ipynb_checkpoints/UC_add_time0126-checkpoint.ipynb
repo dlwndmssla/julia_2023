{
 "cells": [
  {
   "cell_type": "code",
   "execution_count": 1,
   "id": "5256de4f",
   "metadata": {},
   "outputs": [
    {
     "name": "stderr",
     "output_type": "stream",
     "text": [
      "\u001b[36m\u001b[1m[ \u001b[22m\u001b[39m\u001b[36m\u001b[1mInfo: \u001b[22m\u001b[39mPrecompiling PlotlyBase [a03496cd-edff-5a9b-9e67-9cda94a718b5]\n"
     ]
    }
   ],
   "source": [
    "using JuMP, HiGHS\n",
    "using Plots; plotly();\n",
    "using VegaLite  # to make some nice plots\n",
    "using DataFrames, CSV, PrettyTables\n",
    "using FileIO\n",
    "using PlotlyKaleido\n",
    "ENV[\"COLUMNS\"]=120;"
   ]
  },
  {
   "cell_type": "code",
   "execution_count": 5,
   "id": "9b9303df",
   "metadata": {},
   "outputs": [],
   "source": [
    "##########Single-time period, simple generator constraints################\n",
    "\n",
    "\n",
    "datadir = joinpath(\"ed_data\") \n",
    "# Note: joinpath is a good way to create path reference that is agnostic\n",
    "# to what file system you are using (e.g. whether directories are denoted \n",
    "# with a forward or backwards slash).\n",
    "gen_info = CSV.read(joinpath(datadir,\"Generators_data.csv\"), DataFrame);\n",
    "fuels = CSV.read(joinpath(datadir,\"Fuels_data.csv\"), DataFrame);\n",
    "loads = CSV.read(joinpath(datadir,\"Demand_20220701_2.csv\"), DataFrame);\n",
    "gen_variable = CSV.read(joinpath(datadir,\"Generators_variability.csv\"), DataFrame);\n"
   ]
  },
  {
   "cell_type": "code",
   "execution_count": 6,
   "id": "487546fe",
   "metadata": {},
   "outputs": [
    {
     "data": {
      "text/html": [
       "<table class=\"data-frame\"><thead><tr><th></th><th>Hour</th><th>Demand</th></tr><tr><th></th><th>Int64</th><th>Float64</th></tr></thead><tbody><p>72 rows × 2 columns</p><tr><th>1</th><td>642</td><td>690.721</td></tr><tr><th>2</th><td>643</td><td>631.007</td></tr><tr><th>3</th><td>644</td><td>584.729</td></tr><tr><th>4</th><td>645</td><td>561.478</td></tr><tr><th>5</th><td>646</td><td>540.237</td></tr><tr><th>6</th><td>647</td><td>549.781</td></tr><tr><th>7</th><td>648</td><td>610.904</td></tr><tr><th>8</th><td>649</td><td>640.634</td></tr><tr><th>9</th><td>650</td><td>624.87</td></tr><tr><th>10</th><td>651</td><td>614.888</td></tr><tr><th>11</th><td>652</td><td>579.033</td></tr><tr><th>12</th><td>653</td><td>491.633</td></tr><tr><th>13</th><td>654</td><td>460.968</td></tr><tr><th>14</th><td>655</td><td>484.134</td></tr><tr><th>15</th><td>656</td><td>523.342</td></tr><tr><th>16</th><td>657</td><td>592.144</td></tr><tr><th>17</th><td>658</td><td>698.155</td></tr><tr><th>18</th><td>659</td><td>811.854</td></tr><tr><th>19</th><td>660</td><td>888.445</td></tr><tr><th>20</th><td>661</td><td>899.776</td></tr><tr><th>21</th><td>662</td><td>887.186</td></tr><tr><th>22</th><td>663</td><td>850.019</td></tr><tr><th>23</th><td>664</td><td>788.947</td></tr><tr><th>24</th><td>665</td><td>734.953</td></tr><tr><th>25</th><td>666</td><td>690.721</td></tr><tr><th>26</th><td>667</td><td>631.007</td></tr><tr><th>27</th><td>668</td><td>584.729</td></tr><tr><th>28</th><td>669</td><td>561.478</td></tr><tr><th>29</th><td>670</td><td>540.237</td></tr><tr><th>30</th><td>671</td><td>549.781</td></tr><tr><th>&vellip;</th><td>&vellip;</td><td>&vellip;</td></tr></tbody></table>"
      ],
      "text/latex": [
       "\\begin{tabular}{r|cc}\n",
       "\t& Hour & Demand\\\\\n",
       "\t\\hline\n",
       "\t& Int64 & Float64\\\\\n",
       "\t\\hline\n",
       "\t1 & 642 & 690.721 \\\\\n",
       "\t2 & 643 & 631.007 \\\\\n",
       "\t3 & 644 & 584.729 \\\\\n",
       "\t4 & 645 & 561.478 \\\\\n",
       "\t5 & 646 & 540.237 \\\\\n",
       "\t6 & 647 & 549.781 \\\\\n",
       "\t7 & 648 & 610.904 \\\\\n",
       "\t8 & 649 & 640.634 \\\\\n",
       "\t9 & 650 & 624.87 \\\\\n",
       "\t10 & 651 & 614.888 \\\\\n",
       "\t11 & 652 & 579.033 \\\\\n",
       "\t12 & 653 & 491.633 \\\\\n",
       "\t13 & 654 & 460.968 \\\\\n",
       "\t14 & 655 & 484.134 \\\\\n",
       "\t15 & 656 & 523.342 \\\\\n",
       "\t16 & 657 & 592.144 \\\\\n",
       "\t17 & 658 & 698.155 \\\\\n",
       "\t18 & 659 & 811.854 \\\\\n",
       "\t19 & 660 & 888.445 \\\\\n",
       "\t20 & 661 & 899.776 \\\\\n",
       "\t21 & 662 & 887.186 \\\\\n",
       "\t22 & 663 & 850.019 \\\\\n",
       "\t23 & 664 & 788.947 \\\\\n",
       "\t24 & 665 & 734.953 \\\\\n",
       "\t25 & 666 & 690.721 \\\\\n",
       "\t26 & 667 & 631.007 \\\\\n",
       "\t27 & 668 & 584.729 \\\\\n",
       "\t28 & 669 & 561.478 \\\\\n",
       "\t29 & 670 & 540.237 \\\\\n",
       "\t30 & 671 & 549.781 \\\\\n",
       "\t$\\dots$ & $\\dots$ & $\\dots$ \\\\\n",
       "\\end{tabular}\n"
      ],
      "text/plain": [
       "72×2 DataFrame\n",
       "│ Row │ Hour  │ Demand  │\n",
       "│     │ \u001b[90mInt64\u001b[39m │ \u001b[90mFloat64\u001b[39m │\n",
       "├─────┼───────┼─────────┤\n",
       "│ 1   │ 642   │ 690.721 │\n",
       "│ 2   │ 643   │ 631.007 │\n",
       "│ 3   │ 644   │ 584.729 │\n",
       "│ 4   │ 645   │ 561.478 │\n",
       "│ 5   │ 646   │ 540.237 │\n",
       "│ 6   │ 647   │ 549.781 │\n",
       "│ 7   │ 648   │ 610.904 │\n",
       "│ 8   │ 649   │ 640.634 │\n",
       "│ 9   │ 650   │ 624.87  │\n",
       "│ 10  │ 651   │ 614.888 │\n",
       "⋮\n",
       "│ 62  │ 703   │ 484.134 │\n",
       "│ 63  │ 704   │ 523.342 │\n",
       "│ 64  │ 705   │ 592.144 │\n",
       "│ 65  │ 706   │ 698.155 │\n",
       "│ 66  │ 707   │ 811.854 │\n",
       "│ 67  │ 708   │ 888.445 │\n",
       "│ 68  │ 709   │ 899.776 │\n",
       "│ 69  │ 710   │ 887.186 │\n",
       "│ 70  │ 711   │ 850.019 │\n",
       "│ 71  │ 712   │ 788.947 │\n",
       "│ 72  │ 713   │ 734.953 │"
      ]
     },
     "execution_count": 6,
     "metadata": {},
     "output_type": "execute_result"
    }
   ],
   "source": [
    "#=\n",
    "data = CSV.read(\"20220701.csv\", DataFrame);\n",
    "loads = data[:,1:2]\n",
    "=#\n",
    "\n",
    "loads"
   ]
  },
  {
   "cell_type": "code",
   "execution_count": 7,
   "id": "8fbda247",
   "metadata": {},
   "outputs": [],
   "source": [
    "# Rename all columns to lowercase (by convention)\n",
    "for f in [gen_info, fuels, loads, gen_variable]\n",
    "    rename!(f,lowercase.(names(f)))\n",
    "end\n",
    "     "
   ]
  },
  {
   "cell_type": "code",
   "execution_count": 8,
   "id": "55c20887",
   "metadata": {},
   "outputs": [
    {
     "data": {
      "text/plain": [
       "0-element view(::Vector{Union{Missing, Float64}}, Int64[]) with eltype Union{Missing, Float64}"
      ]
     },
     "execution_count": 8,
     "metadata": {},
     "output_type": "execute_result"
    }
   ],
   "source": [
    "# Keep only the columns relevant to our ED model \n",
    "# (We'll come back to other columns in our unit commitment notebooks)\n",
    "select!(gen_info, 1:26, :stor) \n",
    "gen_df = outerjoin(gen_info,  fuels, on = :fuel) # load in fuel costs and add to data frame\n",
    "rename!(gen_df, :cost_per_mmbtu => :fuel_cost)   # rename column for fuel cost\n",
    "gen_df[ismissing.(gen_df[:,:fuel_cost]), :fuel_cost] .= 0"
   ]
  },
  {
   "cell_type": "code",
   "execution_count": 9,
   "id": "248d3ae4",
   "metadata": {},
   "outputs": [],
   "source": [
    "\n",
    "# create \"is_variable\" column to indicate if this is a variable generation source (e.g. wind, solar)\n",
    "# Note: Julia's strict vectorization syntax requires us to create a new variable using the '!' indexing operator\n",
    "# and the '.=' broadcasting assignment. See: https://julia.guide/broadcasting\n",
    "gen_df[!, :is_variable] .= false\n",
    "gen_df[in([\"onshore_wind_turbine\",\"small_hydroelectric\",\"solar_photovoltaic\"]).(gen_df.resource),\n",
    "    :is_variable] .= true;"
   ]
  },
  {
   "cell_type": "code",
   "execution_count": 10,
   "id": "175ef25e",
   "metadata": {},
   "outputs": [],
   "source": [
    "\n",
    "# create full name of generator (including geographic location and cluster number)\n",
    "#  for use with variable generation dataframe\n",
    "gen_df.gen_full = lowercase.(gen_df.region .* \"_\" .* gen_df.resource .* \"_\" .* string.(gen_df.cluster) .* \".0\");\n",
    "\n",
    "# remove generators with no capacity (e.g. new build options that we'd use if this was capacity expansion problem)\n",
    "gen_df = gen_df[gen_df.existing_cap_mw .> 0,:];\n"
   ]
  },
  {
   "cell_type": "code",
   "execution_count": 11,
   "id": "4f5de895",
   "metadata": {},
   "outputs": [
    {
     "data": {
      "text/html": [
       "<table class=\"data-frame\"><thead><tr><th></th><th>r_id</th><th>resource</th><th>region</th><th>existing_cap_mw</th><th>num_units</th></tr><tr><th></th><th>Int64?</th><th>String?</th><th>String15?</th><th>Float64?</th><th>Int64?</th></tr></thead><tbody><p>5 rows × 5 columns</p><tr><th>1</th><td>1</td><td>biomass</td><td>WEC_SDGE</td><td>21.4</td><td>20</td></tr><tr><th>2</th><td>2</td><td>hydroelectric_pumped_storage</td><td>WEC_SDGE</td><td>42.0</td><td>2</td></tr><tr><th>3</th><td>3</td><td>natural_gas_fired_combined_cycle</td><td>WEC_SDGE</td><td>607.1</td><td>1</td></tr><tr><th>4</th><td>4</td><td>natural_gas_fired_combined_cycle</td><td>WEC_SDGE</td><td>30.0</td><td>1</td></tr><tr><th>5</th><td>5</td><td>natural_gas_fired_combined_cycle</td><td>WEC_SDGE</td><td>49.4</td><td>1</td></tr></tbody></table>"
      ],
      "text/latex": [
       "\\begin{tabular}{r|ccccc}\n",
       "\t& r\\_id & resource & region & existing\\_cap\\_mw & num\\_units\\\\\n",
       "\t\\hline\n",
       "\t& Int64? & String? & String15? & Float64? & Int64?\\\\\n",
       "\t\\hline\n",
       "\t1 & 1 & biomass & WEC\\_SDGE & 21.4 & 20 \\\\\n",
       "\t2 & 2 & hydroelectric\\_pumped\\_storage & WEC\\_SDGE & 42.0 & 2 \\\\\n",
       "\t3 & 3 & natural\\_gas\\_fired\\_combined\\_cycle & WEC\\_SDGE & 607.1 & 1 \\\\\n",
       "\t4 & 4 & natural\\_gas\\_fired\\_combined\\_cycle & WEC\\_SDGE & 30.0 & 1 \\\\\n",
       "\t5 & 5 & natural\\_gas\\_fired\\_combined\\_cycle & WEC\\_SDGE & 49.4 & 1 \\\\\n",
       "\\end{tabular}\n"
      ],
      "text/plain": [
       "5×5 DataFrame\n",
       "│ Row │ r_id   │ resource                         │ region    │ existing_cap_mw │ num_units │\n",
       "│     │ \u001b[90mInt64?\u001b[39m │ \u001b[90mUnion{Missing, String}\u001b[39m           │ \u001b[90mString15?\u001b[39m │ \u001b[90mFloat64?\u001b[39m        │ \u001b[90mInt64?\u001b[39m    │\n",
       "├─────┼────────┼──────────────────────────────────┼───────────┼─────────────────┼───────────┤\n",
       "│ 1   │ 1      │ biomass                          │ WEC_SDGE  │ 21.4            │ 20        │\n",
       "│ 2   │ 2      │ hydroelectric_pumped_storage     │ WEC_SDGE  │ 42.0            │ 2         │\n",
       "│ 3   │ 3      │ natural_gas_fired_combined_cycle │ WEC_SDGE  │ 607.1           │ 1         │\n",
       "│ 4   │ 4      │ natural_gas_fired_combined_cycle │ WEC_SDGE  │ 30.0            │ 1         │\n",
       "│ 5   │ 5      │ natural_gas_fired_combined_cycle │ WEC_SDGE  │ 49.4            │ 1         │"
      ]
     },
     "execution_count": 11,
     "metadata": {},
     "output_type": "execute_result"
    }
   ],
   "source": [
    "df = gen_df[1:5,1:5]"
   ]
  },
  {
   "cell_type": "code",
   "execution_count": 12,
   "id": "8db2744c",
   "metadata": {},
   "outputs": [
    {
     "data": {
      "text/html": [
       "<table class=\"data-frame\"><thead><tr><th></th><th>r_id</th><th>resource</th><th>region</th><th>existing_cap_mw</th><th>num_units</th></tr><tr><th></th><th>Int64?</th><th>String?</th><th>String15?</th><th>Float64?</th><th>Int64?</th></tr></thead><tbody><p>5 rows × 5 columns</p><tr><th>1</th><td>1</td><td>biomass</td><td>WEC_SDGE</td><td>21.4</td><td>20</td></tr><tr><th>2</th><td>2</td><td>hydroelectric_pumped_storage</td><td>WEC_SDGE</td><td>42.0</td><td>2</td></tr><tr><th>3</th><td>3</td><td>natural_gas_fired_combined_cycle</td><td>WEC_SDGE</td><td>607.1</td><td>1</td></tr><tr><th>4</th><td>4</td><td>natural_gas_fired_combined_cycle</td><td>WEC_SDGE</td><td>30.0</td><td>1</td></tr><tr><th>5</th><td>5</td><td>natural_gas_fired_combined_cycle</td><td>WEC_SDGE</td><td>49.4</td><td>1</td></tr></tbody></table>"
      ],
      "text/latex": [
       "\\begin{tabular}{r|ccccc}\n",
       "\t& r\\_id & resource & region & existing\\_cap\\_mw & num\\_units\\\\\n",
       "\t\\hline\n",
       "\t& Int64? & String? & String15? & Float64? & Int64?\\\\\n",
       "\t\\hline\n",
       "\t1 & 1 & biomass & WEC\\_SDGE & 21.4 & 20 \\\\\n",
       "\t2 & 2 & hydroelectric\\_pumped\\_storage & WEC\\_SDGE & 42.0 & 2 \\\\\n",
       "\t3 & 3 & natural\\_gas\\_fired\\_combined\\_cycle & WEC\\_SDGE & 607.1 & 1 \\\\\n",
       "\t4 & 4 & natural\\_gas\\_fired\\_combined\\_cycle & WEC\\_SDGE & 30.0 & 1 \\\\\n",
       "\t5 & 5 & natural\\_gas\\_fired\\_combined\\_cycle & WEC\\_SDGE & 49.4 & 1 \\\\\n",
       "\\end{tabular}\n"
      ],
      "text/plain": [
       "5×5 DataFrame\n",
       "│ Row │ r_id   │ resource                         │ region    │ existing_cap_mw │ num_units │\n",
       "│     │ \u001b[90mInt64?\u001b[39m │ \u001b[90mUnion{Missing, String}\u001b[39m           │ \u001b[90mString15?\u001b[39m │ \u001b[90mFloat64?\u001b[39m        │ \u001b[90mInt64?\u001b[39m    │\n",
       "├─────┼────────┼──────────────────────────────────┼───────────┼─────────────────┼───────────┤\n",
       "│ 1   │ 1      │ biomass                          │ WEC_SDGE  │ 21.4            │ 20        │\n",
       "│ 2   │ 2      │ hydroelectric_pumped_storage     │ WEC_SDGE  │ 42.0            │ 2         │\n",
       "│ 3   │ 3      │ natural_gas_fired_combined_cycle │ WEC_SDGE  │ 607.1           │ 1         │\n",
       "│ 4   │ 4      │ natural_gas_fired_combined_cycle │ WEC_SDGE  │ 30.0            │ 1         │\n",
       "│ 5   │ 5      │ natural_gas_fired_combined_cycle │ WEC_SDGE  │ 49.4            │ 1         │"
      ]
     },
     "execution_count": 12,
     "metadata": {},
     "output_type": "execute_result"
    }
   ],
   "source": [
    "df = copy(gen_df)\n",
    "select!(df, 1:5)\n",
    "df = df[1:5,:]"
   ]
  },
  {
   "cell_type": "code",
   "execution_count": 13,
   "id": "12853996",
   "metadata": {},
   "outputs": [
    {
     "data": {
      "text/html": [
       "<table class=\"data-frame\"><thead><tr><th></th><th>r_id</th><th>resource</th><th>region</th><th>var</th><th>val</th></tr><tr><th></th><th>Int64?</th><th>String?</th><th>String15?</th><th>Cat…</th><th>Float64?</th></tr></thead><tbody><p>10 rows × 5 columns</p><tr><th>1</th><td>1</td><td>biomass</td><td>WEC_SDGE</td><td>existing_cap_mw</td><td>21.4</td></tr><tr><th>2</th><td>2</td><td>hydroelectric_pumped_storage</td><td>WEC_SDGE</td><td>existing_cap_mw</td><td>42.0</td></tr><tr><th>3</th><td>3</td><td>natural_gas_fired_combined_cycle</td><td>WEC_SDGE</td><td>existing_cap_mw</td><td>607.1</td></tr><tr><th>4</th><td>4</td><td>natural_gas_fired_combined_cycle</td><td>WEC_SDGE</td><td>existing_cap_mw</td><td>30.0</td></tr><tr><th>5</th><td>5</td><td>natural_gas_fired_combined_cycle</td><td>WEC_SDGE</td><td>existing_cap_mw</td><td>49.4</td></tr><tr><th>6</th><td>1</td><td>biomass</td><td>WEC_SDGE</td><td>num_units</td><td>20.0</td></tr><tr><th>7</th><td>2</td><td>hydroelectric_pumped_storage</td><td>WEC_SDGE</td><td>num_units</td><td>2.0</td></tr><tr><th>8</th><td>3</td><td>natural_gas_fired_combined_cycle</td><td>WEC_SDGE</td><td>num_units</td><td>1.0</td></tr><tr><th>9</th><td>4</td><td>natural_gas_fired_combined_cycle</td><td>WEC_SDGE</td><td>num_units</td><td>1.0</td></tr><tr><th>10</th><td>5</td><td>natural_gas_fired_combined_cycle</td><td>WEC_SDGE</td><td>num_units</td><td>1.0</td></tr></tbody></table>"
      ],
      "text/latex": [
       "\\begin{tabular}{r|ccccc}\n",
       "\t& r\\_id & resource & region & var & val\\\\\n",
       "\t\\hline\n",
       "\t& Int64? & String? & String15? & Cat… & Float64?\\\\\n",
       "\t\\hline\n",
       "\t1 & 1 & biomass & WEC\\_SDGE & existing\\_cap\\_mw & 21.4 \\\\\n",
       "\t2 & 2 & hydroelectric\\_pumped\\_storage & WEC\\_SDGE & existing\\_cap\\_mw & 42.0 \\\\\n",
       "\t3 & 3 & natural\\_gas\\_fired\\_combined\\_cycle & WEC\\_SDGE & existing\\_cap\\_mw & 607.1 \\\\\n",
       "\t4 & 4 & natural\\_gas\\_fired\\_combined\\_cycle & WEC\\_SDGE & existing\\_cap\\_mw & 30.0 \\\\\n",
       "\t5 & 5 & natural\\_gas\\_fired\\_combined\\_cycle & WEC\\_SDGE & existing\\_cap\\_mw & 49.4 \\\\\n",
       "\t6 & 1 & biomass & WEC\\_SDGE & num\\_units & 20.0 \\\\\n",
       "\t7 & 2 & hydroelectric\\_pumped\\_storage & WEC\\_SDGE & num\\_units & 2.0 \\\\\n",
       "\t8 & 3 & natural\\_gas\\_fired\\_combined\\_cycle & WEC\\_SDGE & num\\_units & 1.0 \\\\\n",
       "\t9 & 4 & natural\\_gas\\_fired\\_combined\\_cycle & WEC\\_SDGE & num\\_units & 1.0 \\\\\n",
       "\t10 & 5 & natural\\_gas\\_fired\\_combined\\_cycle & WEC\\_SDGE & num\\_units & 1.0 \\\\\n",
       "\\end{tabular}\n"
      ],
      "text/plain": [
       "10×5 DataFrame\n",
       "│ Row │ r_id   │ resource                         │ region    │ var             │ val      │\n",
       "│     │ \u001b[90mInt64?\u001b[39m │ \u001b[90mUnion{Missing, String}\u001b[39m           │ \u001b[90mString15?\u001b[39m │ \u001b[90mCategorical…\u001b[39m    │ \u001b[90mFloat64?\u001b[39m │\n",
       "├─────┼────────┼──────────────────────────────────┼───────────┼─────────────────┼──────────┤\n",
       "│ 1   │ 1      │ biomass                          │ WEC_SDGE  │ existing_cap_mw │ 21.4     │\n",
       "│ 2   │ 2      │ hydroelectric_pumped_storage     │ WEC_SDGE  │ existing_cap_mw │ 42.0     │\n",
       "│ 3   │ 3      │ natural_gas_fired_combined_cycle │ WEC_SDGE  │ existing_cap_mw │ 607.1    │\n",
       "│ 4   │ 4      │ natural_gas_fired_combined_cycle │ WEC_SDGE  │ existing_cap_mw │ 30.0     │\n",
       "│ 5   │ 5      │ natural_gas_fired_combined_cycle │ WEC_SDGE  │ existing_cap_mw │ 49.4     │\n",
       "│ 6   │ 1      │ biomass                          │ WEC_SDGE  │ num_units       │ 20.0     │\n",
       "│ 7   │ 2      │ hydroelectric_pumped_storage     │ WEC_SDGE  │ num_units       │ 2.0      │\n",
       "│ 8   │ 3      │ natural_gas_fired_combined_cycle │ WEC_SDGE  │ num_units       │ 1.0      │\n",
       "│ 9   │ 4      │ natural_gas_fired_combined_cycle │ WEC_SDGE  │ num_units       │ 1.0      │\n",
       "│ 10  │ 5      │ natural_gas_fired_combined_cycle │ WEC_SDGE  │ num_units       │ 1.0      │"
      ]
     },
     "execution_count": 13,
     "metadata": {},
     "output_type": "execute_result"
    }
   ],
   "source": [
    "\n",
    "stack(df, \n",
    "    [:existing_cap_mw, :num_units], \n",
    "    variable_name=:var,\n",
    "    value_name=:val)\n",
    "     "
   ]
  },
  {
   "cell_type": "code",
   "execution_count": 14,
   "id": "288db3d5",
   "metadata": {},
   "outputs": [],
   "source": [
    "gen_variable.hour = mod.(gen_variable.hour .- 9, 8760) .+ 1 \n",
    "sort!(gen_variable, :hour)\n",
    "loads.hour = mod.(loads.hour .- 9, 8760) .+ 1\n",
    "sort!(loads, :hour);"
   ]
  },
  {
   "cell_type": "code",
   "execution_count": 15,
   "id": "22106a2f",
   "metadata": {},
   "outputs": [
    {
     "data": {
      "text/html": [
       "<table class=\"data-frame\"><thead><tr><th></th><th>variable</th><th>mean</th><th>min</th><th>median</th><th>max</th><th>nunique</th><th>nmissing</th><th>eltype</th></tr><tr><th></th><th>Symbol</th><th>Float64</th><th>Real</th><th>Float64</th><th>Real</th><th>Nothing</th><th>Nothing</th><th>DataType</th></tr></thead><tbody><p>31 rows × 8 columns</p><tr><th>1</th><td>hour</td><td>4380.5</td><td>1</td><td>4380.5</td><td>8760</td><td></td><td></td><td>Int64</td></tr><tr><th>2</th><td>wec_sdge_biomass_1.0</td><td>1.0</td><td>1</td><td>1.0</td><td>1</td><td></td><td></td><td>Int64</td></tr><tr><th>3</th><td>wec_sdge_hydroelectric_pumped_storage_1.0</td><td>1.0</td><td>1</td><td>1.0</td><td>1</td><td></td><td></td><td>Int64</td></tr><tr><th>4</th><td>wec_sdge_natural_gas_fired_combined_cycle_1.0</td><td>1.0</td><td>1</td><td>1.0</td><td>1</td><td></td><td></td><td>Int64</td></tr><tr><th>5</th><td>wec_sdge_natural_gas_fired_combined_cycle_2.0</td><td>1.0</td><td>1</td><td>1.0</td><td>1</td><td></td><td></td><td>Int64</td></tr><tr><th>6</th><td>wec_sdge_natural_gas_fired_combined_cycle_3.0</td><td>1.0</td><td>1</td><td>1.0</td><td>1</td><td></td><td></td><td>Int64</td></tr><tr><th>7</th><td>wec_sdge_natural_gas_fired_combined_cycle_4.0</td><td>1.0</td><td>1</td><td>1.0</td><td>1</td><td></td><td></td><td>Int64</td></tr><tr><th>8</th><td>wec_sdge_natural_gas_fired_combustion_turbine_1.0</td><td>1.0</td><td>1</td><td>1.0</td><td>1</td><td></td><td></td><td>Int64</td></tr><tr><th>9</th><td>wec_sdge_natural_gas_fired_combustion_turbine_2.0</td><td>1.0</td><td>1</td><td>1.0</td><td>1</td><td></td><td></td><td>Int64</td></tr><tr><th>10</th><td>wec_sdge_natural_gas_fired_combustion_turbine_3.0</td><td>1.0</td><td>1</td><td>1.0</td><td>1</td><td></td><td></td><td>Int64</td></tr><tr><th>11</th><td>wec_sdge_natural_gas_fired_combustion_turbine_4.0</td><td>1.0</td><td>1</td><td>1.0</td><td>1</td><td></td><td></td><td>Int64</td></tr><tr><th>12</th><td>wec_sdge_natural_gas_fired_combustion_turbine_5.0</td><td>1.0</td><td>1</td><td>1.0</td><td>1</td><td></td><td></td><td>Int64</td></tr><tr><th>13</th><td>wec_sdge_natural_gas_fired_combustion_turbine_6.0</td><td>1.0</td><td>1</td><td>1.0</td><td>1</td><td></td><td></td><td>Int64</td></tr><tr><th>14</th><td>wec_sdge_natural_gas_fired_combustion_turbine_7.0</td><td>1.0</td><td>1</td><td>1.0</td><td>1</td><td></td><td></td><td>Int64</td></tr><tr><th>15</th><td>wec_sdge_natural_gas_fired_combustion_turbine_8.0</td><td>1.0</td><td>1</td><td>1.0</td><td>1</td><td></td><td></td><td>Int64</td></tr><tr><th>16</th><td>wec_sdge_natural_gas_fired_combustion_turbine_9.0</td><td>1.0</td><td>1</td><td>1.0</td><td>1</td><td></td><td></td><td>Int64</td></tr><tr><th>17</th><td>wec_sdge_natural_gas_fired_combustion_turbine_10.0</td><td>1.0</td><td>1</td><td>1.0</td><td>1</td><td></td><td></td><td>Int64</td></tr><tr><th>18</th><td>wec_sdge_natural_gas_fired_combustion_turbine_11.0</td><td>1.0</td><td>1</td><td>1.0</td><td>1</td><td></td><td></td><td>Int64</td></tr><tr><th>19</th><td>wec_sdge_natural_gas_fired_combustion_turbine_12.0</td><td>1.0</td><td>1</td><td>1.0</td><td>1</td><td></td><td></td><td>Int64</td></tr><tr><th>20</th><td>wec_sdge_onshore_wind_turbine_1.0</td><td>0.253519</td><td>0.0</td><td>0.19465</td><td>0.9089</td><td></td><td></td><td>Float64</td></tr><tr><th>21</th><td>wec_sdge_small_hydroelectric_1.0</td><td>0.41567</td><td>0.2167</td><td>0.38475</td><td>0.6337</td><td></td><td></td><td>Float64</td></tr><tr><th>22</th><td>wec_sdge_solar_photovoltaic_1.0</td><td>0.247288</td><td>0.0</td><td>0.0</td><td>0.7959</td><td></td><td></td><td>Float64</td></tr><tr><th>23</th><td>wec_sdge_naturalgas_ccccsavgcf_0.0</td><td>1.0</td><td>1</td><td>1.0</td><td>1</td><td></td><td></td><td>Int64</td></tr><tr><th>24</th><td>wec_sdge_naturalgas_ccavgcf_0.0</td><td>1.0</td><td>1</td><td>1.0</td><td>1</td><td></td><td></td><td>Int64</td></tr><tr><th>25</th><td>wec_sdge_naturalgas_ctavgcf_0.0</td><td>1.0</td><td>1</td><td>1.0</td><td>1</td><td></td><td></td><td>Int64</td></tr><tr><th>26</th><td>wec_sdge_battery_0.0</td><td>1.0</td><td>1</td><td>1.0</td><td>1</td><td></td><td></td><td>Int64</td></tr><tr><th>27</th><td>wec_sdge_naturalgas_ccs100_0.0</td><td>1.0</td><td>1</td><td>1.0</td><td>1</td><td></td><td></td><td>Int64</td></tr><tr><th>28</th><td>wec_sdge_landbasedwind_ltrg1_1.0</td><td>0.341167</td><td>0.0</td><td>0.249565</td><td>0.93217</td><td></td><td></td><td>Float64</td></tr><tr><th>29</th><td>wec_sdge_landbasedwind_ltrg1_2.0</td><td>0.257347</td><td>0.0</td><td>0.194376</td><td>0.912162</td><td></td><td></td><td>Float64</td></tr><tr><th>30</th><td>wec_sdge_utilitypv_losangeles_1.0</td><td>0.346479</td><td>0.0</td><td>0.0</td><td>1.0</td><td></td><td></td><td>Float64</td></tr><tr><th>&vellip;</th><td>&vellip;</td><td>&vellip;</td><td>&vellip;</td><td>&vellip;</td><td>&vellip;</td><td>&vellip;</td><td>&vellip;</td><td>&vellip;</td></tr></tbody></table>"
      ],
      "text/latex": [
       "\\begin{tabular}{r|cccccccc}\n",
       "\t& variable & mean & min & median & max & nunique & nmissing & eltype\\\\\n",
       "\t\\hline\n",
       "\t& Symbol & Float64 & Real & Float64 & Real & Nothing & Nothing & DataType\\\\\n",
       "\t\\hline\n",
       "\t1 & hour & 4380.5 & 1 & 4380.5 & 8760 &  &  & Int64 \\\\\n",
       "\t2 & wec\\_sdge\\_biomass\\_1.0 & 1.0 & 1 & 1.0 & 1 &  &  & Int64 \\\\\n",
       "\t3 & wec\\_sdge\\_hydroelectric\\_pumped\\_storage\\_1.0 & 1.0 & 1 & 1.0 & 1 &  &  & Int64 \\\\\n",
       "\t4 & wec\\_sdge\\_natural\\_gas\\_fired\\_combined\\_cycle\\_1.0 & 1.0 & 1 & 1.0 & 1 &  &  & Int64 \\\\\n",
       "\t5 & wec\\_sdge\\_natural\\_gas\\_fired\\_combined\\_cycle\\_2.0 & 1.0 & 1 & 1.0 & 1 &  &  & Int64 \\\\\n",
       "\t6 & wec\\_sdge\\_natural\\_gas\\_fired\\_combined\\_cycle\\_3.0 & 1.0 & 1 & 1.0 & 1 &  &  & Int64 \\\\\n",
       "\t7 & wec\\_sdge\\_natural\\_gas\\_fired\\_combined\\_cycle\\_4.0 & 1.0 & 1 & 1.0 & 1 &  &  & Int64 \\\\\n",
       "\t8 & wec\\_sdge\\_natural\\_gas\\_fired\\_combustion\\_turbine\\_1.0 & 1.0 & 1 & 1.0 & 1 &  &  & Int64 \\\\\n",
       "\t9 & wec\\_sdge\\_natural\\_gas\\_fired\\_combustion\\_turbine\\_2.0 & 1.0 & 1 & 1.0 & 1 &  &  & Int64 \\\\\n",
       "\t10 & wec\\_sdge\\_natural\\_gas\\_fired\\_combustion\\_turbine\\_3.0 & 1.0 & 1 & 1.0 & 1 &  &  & Int64 \\\\\n",
       "\t11 & wec\\_sdge\\_natural\\_gas\\_fired\\_combustion\\_turbine\\_4.0 & 1.0 & 1 & 1.0 & 1 &  &  & Int64 \\\\\n",
       "\t12 & wec\\_sdge\\_natural\\_gas\\_fired\\_combustion\\_turbine\\_5.0 & 1.0 & 1 & 1.0 & 1 &  &  & Int64 \\\\\n",
       "\t13 & wec\\_sdge\\_natural\\_gas\\_fired\\_combustion\\_turbine\\_6.0 & 1.0 & 1 & 1.0 & 1 &  &  & Int64 \\\\\n",
       "\t14 & wec\\_sdge\\_natural\\_gas\\_fired\\_combustion\\_turbine\\_7.0 & 1.0 & 1 & 1.0 & 1 &  &  & Int64 \\\\\n",
       "\t15 & wec\\_sdge\\_natural\\_gas\\_fired\\_combustion\\_turbine\\_8.0 & 1.0 & 1 & 1.0 & 1 &  &  & Int64 \\\\\n",
       "\t16 & wec\\_sdge\\_natural\\_gas\\_fired\\_combustion\\_turbine\\_9.0 & 1.0 & 1 & 1.0 & 1 &  &  & Int64 \\\\\n",
       "\t17 & wec\\_sdge\\_natural\\_gas\\_fired\\_combustion\\_turbine\\_10.0 & 1.0 & 1 & 1.0 & 1 &  &  & Int64 \\\\\n",
       "\t18 & wec\\_sdge\\_natural\\_gas\\_fired\\_combustion\\_turbine\\_11.0 & 1.0 & 1 & 1.0 & 1 &  &  & Int64 \\\\\n",
       "\t19 & wec\\_sdge\\_natural\\_gas\\_fired\\_combustion\\_turbine\\_12.0 & 1.0 & 1 & 1.0 & 1 &  &  & Int64 \\\\\n",
       "\t20 & wec\\_sdge\\_onshore\\_wind\\_turbine\\_1.0 & 0.253519 & 0.0 & 0.19465 & 0.9089 &  &  & Float64 \\\\\n",
       "\t21 & wec\\_sdge\\_small\\_hydroelectric\\_1.0 & 0.41567 & 0.2167 & 0.38475 & 0.6337 &  &  & Float64 \\\\\n",
       "\t22 & wec\\_sdge\\_solar\\_photovoltaic\\_1.0 & 0.247288 & 0.0 & 0.0 & 0.7959 &  &  & Float64 \\\\\n",
       "\t23 & wec\\_sdge\\_naturalgas\\_ccccsavgcf\\_0.0 & 1.0 & 1 & 1.0 & 1 &  &  & Int64 \\\\\n",
       "\t24 & wec\\_sdge\\_naturalgas\\_ccavgcf\\_0.0 & 1.0 & 1 & 1.0 & 1 &  &  & Int64 \\\\\n",
       "\t25 & wec\\_sdge\\_naturalgas\\_ctavgcf\\_0.0 & 1.0 & 1 & 1.0 & 1 &  &  & Int64 \\\\\n",
       "\t26 & wec\\_sdge\\_battery\\_0.0 & 1.0 & 1 & 1.0 & 1 &  &  & Int64 \\\\\n",
       "\t27 & wec\\_sdge\\_naturalgas\\_ccs100\\_0.0 & 1.0 & 1 & 1.0 & 1 &  &  & Int64 \\\\\n",
       "\t28 & wec\\_sdge\\_landbasedwind\\_ltrg1\\_1.0 & 0.341167 & 0.0 & 0.249565 & 0.93217 &  &  & Float64 \\\\\n",
       "\t29 & wec\\_sdge\\_landbasedwind\\_ltrg1\\_2.0 & 0.257347 & 0.0 & 0.194376 & 0.912162 &  &  & Float64 \\\\\n",
       "\t30 & wec\\_sdge\\_utilitypv\\_losangeles\\_1.0 & 0.346479 & 0.0 & 0.0 & 1.0 &  &  & Float64 \\\\\n",
       "\t$\\dots$ & $\\dots$ & $\\dots$ & $\\dots$ & $\\dots$ & $\\dots$ & $\\dots$ & $\\dots$ & $\\dots$ \\\\\n",
       "\\end{tabular}\n"
      ],
      "text/plain": [
       "31×8 DataFrame. Omitted printing of 2 columns\n",
       "│ Row │ variable                                          │ mean     │ min    │ median   │ max      │ nunique │\n",
       "│     │ \u001b[90mSymbol\u001b[39m                                            │ \u001b[90mFloat64\u001b[39m  │ \u001b[90mReal\u001b[39m   │ \u001b[90mFloat64\u001b[39m  │ \u001b[90mReal\u001b[39m     │ \u001b[90mNothing\u001b[39m │\n",
       "├─────┼───────────────────────────────────────────────────┼──────────┼────────┼──────────┼──────────┼─────────┤\n",
       "│ 1   │ hour                                              │ 4380.5   │ 1      │ 4380.5   │ 8760     │         │\n",
       "│ 2   │ wec_sdge_biomass_1.0                              │ 1.0      │ 1      │ 1.0      │ 1        │         │\n",
       "│ 3   │ wec_sdge_hydroelectric_pumped_storage_1.0         │ 1.0      │ 1      │ 1.0      │ 1        │         │\n",
       "│ 4   │ wec_sdge_natural_gas_fired_combined_cycle_1.0     │ 1.0      │ 1      │ 1.0      │ 1        │         │\n",
       "│ 5   │ wec_sdge_natural_gas_fired_combined_cycle_2.0     │ 1.0      │ 1      │ 1.0      │ 1        │         │\n",
       "│ 6   │ wec_sdge_natural_gas_fired_combined_cycle_3.0     │ 1.0      │ 1      │ 1.0      │ 1        │         │\n",
       "│ 7   │ wec_sdge_natural_gas_fired_combined_cycle_4.0     │ 1.0      │ 1      │ 1.0      │ 1        │         │\n",
       "│ 8   │ wec_sdge_natural_gas_fired_combustion_turbine_1.0 │ 1.0      │ 1      │ 1.0      │ 1        │         │\n",
       "│ 9   │ wec_sdge_natural_gas_fired_combustion_turbine_2.0 │ 1.0      │ 1      │ 1.0      │ 1        │         │\n",
       "│ 10  │ wec_sdge_natural_gas_fired_combustion_turbine_3.0 │ 1.0      │ 1      │ 1.0      │ 1        │         │\n",
       "⋮\n",
       "│ 21  │ wec_sdge_small_hydroelectric_1.0                  │ 0.41567  │ 0.2167 │ 0.38475  │ 0.6337   │         │\n",
       "│ 22  │ wec_sdge_solar_photovoltaic_1.0                   │ 0.247288 │ 0.0    │ 0.0      │ 0.7959   │         │\n",
       "│ 23  │ wec_sdge_naturalgas_ccccsavgcf_0.0                │ 1.0      │ 1      │ 1.0      │ 1        │         │\n",
       "│ 24  │ wec_sdge_naturalgas_ccavgcf_0.0                   │ 1.0      │ 1      │ 1.0      │ 1        │         │\n",
       "│ 25  │ wec_sdge_naturalgas_ctavgcf_0.0                   │ 1.0      │ 1      │ 1.0      │ 1        │         │\n",
       "│ 26  │ wec_sdge_battery_0.0                              │ 1.0      │ 1      │ 1.0      │ 1        │         │\n",
       "│ 27  │ wec_sdge_naturalgas_ccs100_0.0                    │ 1.0      │ 1      │ 1.0      │ 1        │         │\n",
       "│ 28  │ wec_sdge_landbasedwind_ltrg1_1.0                  │ 0.341167 │ 0.0    │ 0.249565 │ 0.93217  │         │\n",
       "│ 29  │ wec_sdge_landbasedwind_ltrg1_2.0                  │ 0.257347 │ 0.0    │ 0.194376 │ 0.912162 │         │\n",
       "│ 30  │ wec_sdge_utilitypv_losangeles_1.0                 │ 0.346479 │ 0.0    │ 0.0      │ 1.0      │         │\n",
       "│ 31  │ wec_sdge_utilitypv_losangeles_2.0                 │ 0.344724 │ 0.0    │ 0.0      │ 1.0      │         │"
      ]
     },
     "execution_count": 15,
     "metadata": {},
     "output_type": "execute_result"
    }
   ],
   "source": [
    "describe(gen_variable)"
   ]
  },
  {
   "cell_type": "code",
   "execution_count": 16,
   "id": "96e94354",
   "metadata": {},
   "outputs": [],
   "source": [
    "gen_variable_long = stack(gen_variable, \n",
    "                        Not(:hour), \n",
    "                        variable_name=:gen_full,\n",
    "                        value_name=:cf);"
   ]
  },
  {
   "cell_type": "code",
   "execution_count": 17,
   "id": "fc39998a",
   "metadata": {},
   "outputs": [
    {
     "data": {
      "text/html": [
       "<table class=\"data-frame\"><thead><tr><th></th><th>hour</th><th>gen_full</th><th>cf</th></tr><tr><th></th><th>Int64</th><th>Cat…</th><th>Float64</th></tr></thead><tbody><p>25 rows × 3 columns</p><tr><th>1</th><td>1</td><td>wec_sdge_onshore_wind_turbine_1.0</td><td>0.1694</td></tr><tr><th>2</th><td>2</td><td>wec_sdge_onshore_wind_turbine_1.0</td><td>0.1658</td></tr><tr><th>3</th><td>3</td><td>wec_sdge_onshore_wind_turbine_1.0</td><td>0.1502</td></tr><tr><th>4</th><td>4</td><td>wec_sdge_onshore_wind_turbine_1.0</td><td>0.1455</td></tr><tr><th>5</th><td>5</td><td>wec_sdge_onshore_wind_turbine_1.0</td><td>0.0932</td></tr><tr><th>6</th><td>6</td><td>wec_sdge_onshore_wind_turbine_1.0</td><td>0.0717</td></tr><tr><th>7</th><td>7</td><td>wec_sdge_onshore_wind_turbine_1.0</td><td>0.0211</td></tr><tr><th>8</th><td>8</td><td>wec_sdge_onshore_wind_turbine_1.0</td><td>0.0216</td></tr><tr><th>9</th><td>9</td><td>wec_sdge_onshore_wind_turbine_1.0</td><td>0.0216</td></tr><tr><th>10</th><td>10</td><td>wec_sdge_onshore_wind_turbine_1.0</td><td>0.0059</td></tr><tr><th>11</th><td>11</td><td>wec_sdge_onshore_wind_turbine_1.0</td><td>0.0682</td></tr><tr><th>12</th><td>12</td><td>wec_sdge_onshore_wind_turbine_1.0</td><td>0.1199</td></tr><tr><th>13</th><td>13</td><td>wec_sdge_onshore_wind_turbine_1.0</td><td>0.3687</td></tr><tr><th>14</th><td>14</td><td>wec_sdge_onshore_wind_turbine_1.0</td><td>0.4727</td></tr><tr><th>15</th><td>15</td><td>wec_sdge_onshore_wind_turbine_1.0</td><td>0.3278</td></tr><tr><th>16</th><td>16</td><td>wec_sdge_onshore_wind_turbine_1.0</td><td>0.4988</td></tr><tr><th>17</th><td>17</td><td>wec_sdge_onshore_wind_turbine_1.0</td><td>0.3505</td></tr><tr><th>18</th><td>18</td><td>wec_sdge_onshore_wind_turbine_1.0</td><td>0.1634</td></tr><tr><th>19</th><td>19</td><td>wec_sdge_onshore_wind_turbine_1.0</td><td>0.0724</td></tr><tr><th>20</th><td>20</td><td>wec_sdge_onshore_wind_turbine_1.0</td><td>0.2839</td></tr><tr><th>21</th><td>21</td><td>wec_sdge_onshore_wind_turbine_1.0</td><td>0.2899</td></tr><tr><th>22</th><td>22</td><td>wec_sdge_onshore_wind_turbine_1.0</td><td>0.3731</td></tr><tr><th>23</th><td>23</td><td>wec_sdge_onshore_wind_turbine_1.0</td><td>0.356</td></tr><tr><th>24</th><td>24</td><td>wec_sdge_onshore_wind_turbine_1.0</td><td>0.3843</td></tr><tr><th>25</th><td>25</td><td>wec_sdge_onshore_wind_turbine_1.0</td><td>0.3336</td></tr></tbody></table>"
      ],
      "text/latex": [
       "\\begin{tabular}{r|ccc}\n",
       "\t& hour & gen\\_full & cf\\\\\n",
       "\t\\hline\n",
       "\t& Int64 & Cat… & Float64\\\\\n",
       "\t\\hline\n",
       "\t1 & 1 & wec\\_sdge\\_onshore\\_wind\\_turbine\\_1.0 & 0.1694 \\\\\n",
       "\t2 & 2 & wec\\_sdge\\_onshore\\_wind\\_turbine\\_1.0 & 0.1658 \\\\\n",
       "\t3 & 3 & wec\\_sdge\\_onshore\\_wind\\_turbine\\_1.0 & 0.1502 \\\\\n",
       "\t4 & 4 & wec\\_sdge\\_onshore\\_wind\\_turbine\\_1.0 & 0.1455 \\\\\n",
       "\t5 & 5 & wec\\_sdge\\_onshore\\_wind\\_turbine\\_1.0 & 0.0932 \\\\\n",
       "\t6 & 6 & wec\\_sdge\\_onshore\\_wind\\_turbine\\_1.0 & 0.0717 \\\\\n",
       "\t7 & 7 & wec\\_sdge\\_onshore\\_wind\\_turbine\\_1.0 & 0.0211 \\\\\n",
       "\t8 & 8 & wec\\_sdge\\_onshore\\_wind\\_turbine\\_1.0 & 0.0216 \\\\\n",
       "\t9 & 9 & wec\\_sdge\\_onshore\\_wind\\_turbine\\_1.0 & 0.0216 \\\\\n",
       "\t10 & 10 & wec\\_sdge\\_onshore\\_wind\\_turbine\\_1.0 & 0.0059 \\\\\n",
       "\t11 & 11 & wec\\_sdge\\_onshore\\_wind\\_turbine\\_1.0 & 0.0682 \\\\\n",
       "\t12 & 12 & wec\\_sdge\\_onshore\\_wind\\_turbine\\_1.0 & 0.1199 \\\\\n",
       "\t13 & 13 & wec\\_sdge\\_onshore\\_wind\\_turbine\\_1.0 & 0.3687 \\\\\n",
       "\t14 & 14 & wec\\_sdge\\_onshore\\_wind\\_turbine\\_1.0 & 0.4727 \\\\\n",
       "\t15 & 15 & wec\\_sdge\\_onshore\\_wind\\_turbine\\_1.0 & 0.3278 \\\\\n",
       "\t16 & 16 & wec\\_sdge\\_onshore\\_wind\\_turbine\\_1.0 & 0.4988 \\\\\n",
       "\t17 & 17 & wec\\_sdge\\_onshore\\_wind\\_turbine\\_1.0 & 0.3505 \\\\\n",
       "\t18 & 18 & wec\\_sdge\\_onshore\\_wind\\_turbine\\_1.0 & 0.1634 \\\\\n",
       "\t19 & 19 & wec\\_sdge\\_onshore\\_wind\\_turbine\\_1.0 & 0.0724 \\\\\n",
       "\t20 & 20 & wec\\_sdge\\_onshore\\_wind\\_turbine\\_1.0 & 0.2839 \\\\\n",
       "\t21 & 21 & wec\\_sdge\\_onshore\\_wind\\_turbine\\_1.0 & 0.2899 \\\\\n",
       "\t22 & 22 & wec\\_sdge\\_onshore\\_wind\\_turbine\\_1.0 & 0.3731 \\\\\n",
       "\t23 & 23 & wec\\_sdge\\_onshore\\_wind\\_turbine\\_1.0 & 0.356 \\\\\n",
       "\t24 & 24 & wec\\_sdge\\_onshore\\_wind\\_turbine\\_1.0 & 0.3843 \\\\\n",
       "\t25 & 25 & wec\\_sdge\\_onshore\\_wind\\_turbine\\_1.0 & 0.3336 \\\\\n",
       "\\end{tabular}\n"
      ],
      "text/plain": [
       "25×3 DataFrame\n",
       "│ Row │ hour  │ gen_full                          │ cf      │\n",
       "│     │ \u001b[90mInt64\u001b[39m │ \u001b[90mCategoricalValue{String, UInt32}\u001b[39m  │ \u001b[90mFloat64\u001b[39m │\n",
       "├─────┼───────┼───────────────────────────────────┼─────────┤\n",
       "│ 1   │ 1     │ wec_sdge_onshore_wind_turbine_1.0 │ 0.1694  │\n",
       "│ 2   │ 2     │ wec_sdge_onshore_wind_turbine_1.0 │ 0.1658  │\n",
       "│ 3   │ 3     │ wec_sdge_onshore_wind_turbine_1.0 │ 0.1502  │\n",
       "│ 4   │ 4     │ wec_sdge_onshore_wind_turbine_1.0 │ 0.1455  │\n",
       "│ 5   │ 5     │ wec_sdge_onshore_wind_turbine_1.0 │ 0.0932  │\n",
       "│ 6   │ 6     │ wec_sdge_onshore_wind_turbine_1.0 │ 0.0717  │\n",
       "│ 7   │ 7     │ wec_sdge_onshore_wind_turbine_1.0 │ 0.0211  │\n",
       "│ 8   │ 8     │ wec_sdge_onshore_wind_turbine_1.0 │ 0.0216  │\n",
       "│ 9   │ 9     │ wec_sdge_onshore_wind_turbine_1.0 │ 0.0216  │\n",
       "│ 10  │ 10    │ wec_sdge_onshore_wind_turbine_1.0 │ 0.0059  │\n",
       "⋮\n",
       "│ 15  │ 15    │ wec_sdge_onshore_wind_turbine_1.0 │ 0.3278  │\n",
       "│ 16  │ 16    │ wec_sdge_onshore_wind_turbine_1.0 │ 0.4988  │\n",
       "│ 17  │ 17    │ wec_sdge_onshore_wind_turbine_1.0 │ 0.3505  │\n",
       "│ 18  │ 18    │ wec_sdge_onshore_wind_turbine_1.0 │ 0.1634  │\n",
       "│ 19  │ 19    │ wec_sdge_onshore_wind_turbine_1.0 │ 0.0724  │\n",
       "│ 20  │ 20    │ wec_sdge_onshore_wind_turbine_1.0 │ 0.2839  │\n",
       "│ 21  │ 21    │ wec_sdge_onshore_wind_turbine_1.0 │ 0.2899  │\n",
       "│ 22  │ 22    │ wec_sdge_onshore_wind_turbine_1.0 │ 0.3731  │\n",
       "│ 23  │ 23    │ wec_sdge_onshore_wind_turbine_1.0 │ 0.356   │\n",
       "│ 24  │ 24    │ wec_sdge_onshore_wind_turbine_1.0 │ 0.3843  │\n",
       "│ 25  │ 25    │ wec_sdge_onshore_wind_turbine_1.0 │ 0.3336  │"
      ]
     },
     "execution_count": 17,
     "metadata": {},
     "output_type": "execute_result"
    }
   ],
   "source": [
    "# Now we have a \"long\" dataframe; \n",
    "# let's look at the first 6 entries of a wind resource for example\n",
    "first(gen_variable_long[gen_variable_long.gen_full.==\"wec_sdge_onshore_wind_turbine_1.0\",:],25)"
   ]
  },
  {
   "cell_type": "code",
   "execution_count": 20,
   "id": "bcbf8e0d",
   "metadata": {},
   "outputs": [
    {
     "data": {
      "text/plain": [
       "670"
      ]
     },
     "execution_count": 20,
     "metadata": {},
     "output_type": "execute_result"
    }
   ],
   "source": [
    "hr = 670"
   ]
  },
  {
   "cell_type": "code",
   "execution_count": 21,
   "id": "b12b6fa5",
   "metadata": {},
   "outputs": [
    {
     "data": {
      "text/html": [
       "<table class=\"data-frame\"><thead><tr><th></th><th>demand</th></tr><tr><th></th><th>Float64</th></tr></thead><tbody><p>1 rows × 1 columns</p><tr><th>1</th><td>460.968</td></tr></tbody></table>"
      ],
      "text/latex": [
       "\\begin{tabular}{r|c}\n",
       "\t& demand\\\\\n",
       "\t\\hline\n",
       "\t& Float64\\\\\n",
       "\t\\hline\n",
       "\t1 & 460.968 \\\\\n",
       "\\end{tabular}\n"
      ],
      "text/plain": [
       "1×1 DataFrame\n",
       "│ Row │ demand  │\n",
       "│     │ \u001b[90mFloat64\u001b[39m │\n",
       "├─────┼─────────┤\n",
       "│ 1   │ 460.968 │"
      ]
     },
     "execution_count": 21,
     "metadata": {},
     "output_type": "execute_result"
    }
   ],
   "source": [
    "loads_single = loads[loads[:,:hour] .== hr, Not(:hour)]; \n",
    "loads_single "
   ]
  },
  {
   "cell_type": "code",
   "execution_count": 22,
   "id": "7d4e3997",
   "metadata": {},
   "outputs": [
    {
     "data": {
      "text/html": [
       "<table class=\"data-frame\"><thead><tr><th></th><th>gen_full</th><th>cf</th></tr><tr><th></th><th>Cat…</th><th>Float64</th></tr></thead><tbody><p>30 rows × 2 columns</p><tr><th>1</th><td>wec_sdge_biomass_1.0</td><td>1.0</td></tr><tr><th>2</th><td>wec_sdge_hydroelectric_pumped_storage_1.0</td><td>1.0</td></tr><tr><th>3</th><td>wec_sdge_natural_gas_fired_combined_cycle_1.0</td><td>1.0</td></tr><tr><th>4</th><td>wec_sdge_natural_gas_fired_combined_cycle_2.0</td><td>1.0</td></tr><tr><th>5</th><td>wec_sdge_natural_gas_fired_combined_cycle_3.0</td><td>1.0</td></tr><tr><th>6</th><td>wec_sdge_natural_gas_fired_combined_cycle_4.0</td><td>1.0</td></tr><tr><th>7</th><td>wec_sdge_natural_gas_fired_combustion_turbine_1.0</td><td>1.0</td></tr><tr><th>8</th><td>wec_sdge_natural_gas_fired_combustion_turbine_2.0</td><td>1.0</td></tr><tr><th>9</th><td>wec_sdge_natural_gas_fired_combustion_turbine_3.0</td><td>1.0</td></tr><tr><th>10</th><td>wec_sdge_natural_gas_fired_combustion_turbine_4.0</td><td>1.0</td></tr><tr><th>11</th><td>wec_sdge_natural_gas_fired_combustion_turbine_5.0</td><td>1.0</td></tr><tr><th>12</th><td>wec_sdge_natural_gas_fired_combustion_turbine_6.0</td><td>1.0</td></tr><tr><th>13</th><td>wec_sdge_natural_gas_fired_combustion_turbine_7.0</td><td>1.0</td></tr><tr><th>14</th><td>wec_sdge_natural_gas_fired_combustion_turbine_8.0</td><td>1.0</td></tr><tr><th>15</th><td>wec_sdge_natural_gas_fired_combustion_turbine_9.0</td><td>1.0</td></tr><tr><th>16</th><td>wec_sdge_natural_gas_fired_combustion_turbine_10.0</td><td>1.0</td></tr><tr><th>17</th><td>wec_sdge_natural_gas_fired_combustion_turbine_11.0</td><td>1.0</td></tr><tr><th>18</th><td>wec_sdge_natural_gas_fired_combustion_turbine_12.0</td><td>1.0</td></tr><tr><th>19</th><td>wec_sdge_onshore_wind_turbine_1.0</td><td>0.6976</td></tr><tr><th>20</th><td>wec_sdge_small_hydroelectric_1.0</td><td>0.2355</td></tr><tr><th>21</th><td>wec_sdge_solar_photovoltaic_1.0</td><td>0.0</td></tr><tr><th>22</th><td>wec_sdge_naturalgas_ccccsavgcf_0.0</td><td>1.0</td></tr><tr><th>23</th><td>wec_sdge_naturalgas_ccavgcf_0.0</td><td>1.0</td></tr><tr><th>24</th><td>wec_sdge_naturalgas_ctavgcf_0.0</td><td>1.0</td></tr><tr><th>25</th><td>wec_sdge_battery_0.0</td><td>1.0</td></tr><tr><th>26</th><td>wec_sdge_naturalgas_ccs100_0.0</td><td>1.0</td></tr><tr><th>27</th><td>wec_sdge_landbasedwind_ltrg1_1.0</td><td>0.490669</td></tr><tr><th>28</th><td>wec_sdge_landbasedwind_ltrg1_2.0</td><td>0.781747</td></tr><tr><th>29</th><td>wec_sdge_utilitypv_losangeles_1.0</td><td>0.0</td></tr><tr><th>30</th><td>wec_sdge_utilitypv_losangeles_2.0</td><td>0.0</td></tr></tbody></table>"
      ],
      "text/latex": [
       "\\begin{tabular}{r|cc}\n",
       "\t& gen\\_full & cf\\\\\n",
       "\t\\hline\n",
       "\t& Cat… & Float64\\\\\n",
       "\t\\hline\n",
       "\t1 & wec\\_sdge\\_biomass\\_1.0 & 1.0 \\\\\n",
       "\t2 & wec\\_sdge\\_hydroelectric\\_pumped\\_storage\\_1.0 & 1.0 \\\\\n",
       "\t3 & wec\\_sdge\\_natural\\_gas\\_fired\\_combined\\_cycle\\_1.0 & 1.0 \\\\\n",
       "\t4 & wec\\_sdge\\_natural\\_gas\\_fired\\_combined\\_cycle\\_2.0 & 1.0 \\\\\n",
       "\t5 & wec\\_sdge\\_natural\\_gas\\_fired\\_combined\\_cycle\\_3.0 & 1.0 \\\\\n",
       "\t6 & wec\\_sdge\\_natural\\_gas\\_fired\\_combined\\_cycle\\_4.0 & 1.0 \\\\\n",
       "\t7 & wec\\_sdge\\_natural\\_gas\\_fired\\_combustion\\_turbine\\_1.0 & 1.0 \\\\\n",
       "\t8 & wec\\_sdge\\_natural\\_gas\\_fired\\_combustion\\_turbine\\_2.0 & 1.0 \\\\\n",
       "\t9 & wec\\_sdge\\_natural\\_gas\\_fired\\_combustion\\_turbine\\_3.0 & 1.0 \\\\\n",
       "\t10 & wec\\_sdge\\_natural\\_gas\\_fired\\_combustion\\_turbine\\_4.0 & 1.0 \\\\\n",
       "\t11 & wec\\_sdge\\_natural\\_gas\\_fired\\_combustion\\_turbine\\_5.0 & 1.0 \\\\\n",
       "\t12 & wec\\_sdge\\_natural\\_gas\\_fired\\_combustion\\_turbine\\_6.0 & 1.0 \\\\\n",
       "\t13 & wec\\_sdge\\_natural\\_gas\\_fired\\_combustion\\_turbine\\_7.0 & 1.0 \\\\\n",
       "\t14 & wec\\_sdge\\_natural\\_gas\\_fired\\_combustion\\_turbine\\_8.0 & 1.0 \\\\\n",
       "\t15 & wec\\_sdge\\_natural\\_gas\\_fired\\_combustion\\_turbine\\_9.0 & 1.0 \\\\\n",
       "\t16 & wec\\_sdge\\_natural\\_gas\\_fired\\_combustion\\_turbine\\_10.0 & 1.0 \\\\\n",
       "\t17 & wec\\_sdge\\_natural\\_gas\\_fired\\_combustion\\_turbine\\_11.0 & 1.0 \\\\\n",
       "\t18 & wec\\_sdge\\_natural\\_gas\\_fired\\_combustion\\_turbine\\_12.0 & 1.0 \\\\\n",
       "\t19 & wec\\_sdge\\_onshore\\_wind\\_turbine\\_1.0 & 0.6976 \\\\\n",
       "\t20 & wec\\_sdge\\_small\\_hydroelectric\\_1.0 & 0.2355 \\\\\n",
       "\t21 & wec\\_sdge\\_solar\\_photovoltaic\\_1.0 & 0.0 \\\\\n",
       "\t22 & wec\\_sdge\\_naturalgas\\_ccccsavgcf\\_0.0 & 1.0 \\\\\n",
       "\t23 & wec\\_sdge\\_naturalgas\\_ccavgcf\\_0.0 & 1.0 \\\\\n",
       "\t24 & wec\\_sdge\\_naturalgas\\_ctavgcf\\_0.0 & 1.0 \\\\\n",
       "\t25 & wec\\_sdge\\_battery\\_0.0 & 1.0 \\\\\n",
       "\t26 & wec\\_sdge\\_naturalgas\\_ccs100\\_0.0 & 1.0 \\\\\n",
       "\t27 & wec\\_sdge\\_landbasedwind\\_ltrg1\\_1.0 & 0.490669 \\\\\n",
       "\t28 & wec\\_sdge\\_landbasedwind\\_ltrg1\\_2.0 & 0.781747 \\\\\n",
       "\t29 & wec\\_sdge\\_utilitypv\\_losangeles\\_1.0 & 0.0 \\\\\n",
       "\t30 & wec\\_sdge\\_utilitypv\\_losangeles\\_2.0 & 0.0 \\\\\n",
       "\\end{tabular}\n"
      ],
      "text/plain": [
       "30×2 DataFrame\n",
       "│ Row │ gen_full                                          │ cf       │\n",
       "│     │ \u001b[90mCategoricalValue{String, UInt32}\u001b[39m                  │ \u001b[90mFloat64\u001b[39m  │\n",
       "├─────┼───────────────────────────────────────────────────┼──────────┤\n",
       "│ 1   │ wec_sdge_biomass_1.0                              │ 1.0      │\n",
       "│ 2   │ wec_sdge_hydroelectric_pumped_storage_1.0         │ 1.0      │\n",
       "│ 3   │ wec_sdge_natural_gas_fired_combined_cycle_1.0     │ 1.0      │\n",
       "│ 4   │ wec_sdge_natural_gas_fired_combined_cycle_2.0     │ 1.0      │\n",
       "│ 5   │ wec_sdge_natural_gas_fired_combined_cycle_3.0     │ 1.0      │\n",
       "│ 6   │ wec_sdge_natural_gas_fired_combined_cycle_4.0     │ 1.0      │\n",
       "│ 7   │ wec_sdge_natural_gas_fired_combustion_turbine_1.0 │ 1.0      │\n",
       "│ 8   │ wec_sdge_natural_gas_fired_combustion_turbine_2.0 │ 1.0      │\n",
       "│ 9   │ wec_sdge_natural_gas_fired_combustion_turbine_3.0 │ 1.0      │\n",
       "│ 10  │ wec_sdge_natural_gas_fired_combustion_turbine_4.0 │ 1.0      │\n",
       "⋮\n",
       "│ 20  │ wec_sdge_small_hydroelectric_1.0                  │ 0.2355   │\n",
       "│ 21  │ wec_sdge_solar_photovoltaic_1.0                   │ 0.0      │\n",
       "│ 22  │ wec_sdge_naturalgas_ccccsavgcf_0.0                │ 1.0      │\n",
       "│ 23  │ wec_sdge_naturalgas_ccavgcf_0.0                   │ 1.0      │\n",
       "│ 24  │ wec_sdge_naturalgas_ctavgcf_0.0                   │ 1.0      │\n",
       "│ 25  │ wec_sdge_battery_0.0                              │ 1.0      │\n",
       "│ 26  │ wec_sdge_naturalgas_ccs100_0.0                    │ 1.0      │\n",
       "│ 27  │ wec_sdge_landbasedwind_ltrg1_1.0                  │ 0.490669 │\n",
       "│ 28  │ wec_sdge_landbasedwind_ltrg1_2.0                  │ 0.781747 │\n",
       "│ 29  │ wec_sdge_utilitypv_losangeles_1.0                 │ 0.0      │\n",
       "│ 30  │ wec_sdge_utilitypv_losangeles_2.0                 │ 0.0      │"
      ]
     },
     "execution_count": 22,
     "metadata": {},
     "output_type": "execute_result"
    }
   ],
   "source": [
    "var_cf_single = gen_variable_long[\n",
    "    gen_variable_long.hour .== hr, \n",
    "    Not(:hour)]"
   ]
  },
  {
   "cell_type": "code",
   "execution_count": 23,
   "id": "94e24e1f",
   "metadata": {},
   "outputs": [
    {
     "data": {
      "text/plain": [
       "economic_dispatch_single (generic function with 1 method)"
      ]
     },
     "execution_count": 23,
     "metadata": {},
     "output_type": "execute_result"
    }
   ],
   "source": [
    "#3. Create solver function\n",
    "\n",
    "#=\n",
    "Function to solve economic dispatch problem (single-time period, single-zone)      #함수정의 3개의 input이 있음\n",
    "Inputs:\n",
    "    gen_df -- dataframe with generator info                                       #input1: 발전기 정보 \n",
    "    loads  -- dataframe with load info                                            #input2: 부하 정보 \n",
    "    gen_variable -- capacity factors of variable generators (in \"long\" format)    #input3: 발전기의 용량 요소\n",
    "Note: it is always a good idea to include a comment blog describing your\n",
    "function's inputs clearly!\n",
    "=#\n",
    "function economic_dispatch_single(gen_df, loads, gen_variable)                   #함수정의 \n",
    "    ED = Model(HiGHS.Optimizer) # You could use Clp as well, with Clp.Optimizer   #ED는 최적값을 찾는 SOLVER\n",
    "    \n",
    "    #발전기 정보에 variable인지 판단하는 칼럼이 존재\n",
    "    #is_variable이 1(true)이면 G_var에 넣는다\n",
    "    #is_variable이 0(false)이면 G_nonvar에 넣는다\n",
    "    #  :r_id는 r_id 열을 불러 오라는 말이다 \n",
    "    #G_var, G_nonvar, G 는 모두 발전기에대한 일련번호만 들어있는 변수이다 \n",
    "    \n",
    "    # Define sets based on data\n",
    "      # A set of all variable generators\n",
    "    G_var = gen_df[gen_df[!,:is_variable] .== 1,:r_id]                          \n",
    "      # A set of all non-variable generators                                    \n",
    "    G_nonvar = gen_df[gen_df[!,:is_variable] .== 0,:r_id]                         \n",
    "      # Set of all generators\n",
    "    G = gen_df.r_id                                                            \n",
    "    # Extract some parameters given the input data\n",
    "      # Generator capacity factor time series for variable generators\n",
    "   \n",
    "    gen_var_cf = innerjoin(gen_variable, \n",
    "                    gen_df[gen_df.is_variable .== 1 , \n",
    "                        [:r_id, :gen_full, :existing_cap_mw]], \n",
    "                    on = :gen_full)\n",
    "        \n",
    "    #G는 모든 발전기에 대한 일련번호라고 생각하면 된다 /////모든 발전기다. 변수인지 아닌지 상관없다(중요)\n",
    "    #의사결정 변수는 발전기이다. \n",
    "    \n",
    "    # Decision variables   \n",
    "    @variables(ED, begin\n",
    "        GEN[G]  >= 0     # generation\n",
    "        # Note: we assume Pmin = 0 for all resources for simplicty here\n",
    "    end)\n",
    "    \n",
    "#=목적함수는 변수가 아닌 발전기(예를 들어 신재생발전기)의 fuel_cost와 heat_rate의 곱과 GEN[i]와 var_om_cost의 곱을 합한것에 \n",
    "변수인 발전기(가동할것인지 말것인지를 선택할 수 있는 발전기)와 var_om_cost곱한것을 합을 최소화 하는 것이다. (고정비는 생략한다 )=#\n",
    "\n",
    "    # Objective function\n",
    "    @objective(ED, Min, \n",
    "        sum( (gen_df[i,:heat_rate_mmbtu_per_mwh] * gen_df[i,:fuel_cost] +\n",
    "            gen_df[i,:var_om_cost_per_mwh]) * GEN[i] \n",
    "                        for i in G_nonvar) + \n",
    "        sum(gen_df[i,:var_om_cost_per_mwh] * GEN[i] \n",
    "                        for i in G_var)\n",
    "    )\n",
    "\n",
    "            \n",
    "     #제약조건1 모든 발전기의 생산량 총합은 부하(수요)량과 같다      \n",
    "     #제약조건2 변수가 아닌 발전기의 생산량은 해당 발전기의 남은 용량보다 작거나 같아야 한다 \n",
    "     #제약조건3 변수인 발전기의 생산량은 해당 발전기의 남은 용량과 cf의 곱보다 작아야 한다. \n",
    "     #(cf는 정확히 무엇인지는 모르겠으나 0과 1사이 값을 가진다)      \n",
    "            \n",
    "    # Demand constraint\n",
    "    @constraint(ED, cDemand, \n",
    "        sum(GEN[i] for i in G) == loads[1,:demand])\n",
    "\n",
    "    # Capacity constraint (non-variable generation)\n",
    "    for i in G_nonvar\n",
    "        @constraint(ED, GEN[i] <= gen_df[i,:existing_cap_mw])\n",
    "    end\n",
    "\n",
    "    # Variable generation capacity constraint\n",
    "    for i in 1:nrow(gen_var_cf)\n",
    "        @constraint(ED, GEN[gen_var_cf[i,:r_id] ] <= \n",
    "                        gen_var_cf[i,:cf] *\n",
    "                        gen_var_cf[i,:existing_cap_mw])\n",
    "    end\n",
    "\n",
    "    #최적 생산량을 찾는 code\n",
    "    # Solve statement (! indicates runs in place)\n",
    "    optimize!(ED)\n",
    "    \n",
    "    #각 발전기에 대한 일련번호,발전원(발전연료), 발전량에 대한 테이블을 보여줌     \n",
    "    # Dataframe of optimal decision variables\n",
    "    solution = DataFrame(\n",
    "        r_id = gen_df.r_id,\n",
    "        resource = gen_df.resource,\n",
    "        gen = value.(GEN).data\n",
    "        )\n",
    "\n",
    "    # Return the solution and objective as named tuple\n",
    "    return (\n",
    "        solution = solution, \n",
    "        cost = objective_value(ED),\n",
    "    )\n",
    "end\n",
    "     "
   ]
  },
  {
   "cell_type": "code",
   "execution_count": 24,
   "id": "bc4239db",
   "metadata": {},
   "outputs": [
    {
     "name": "stdout",
     "output_type": "stream",
     "text": [
      "\n",
      "Presolving model\n",
      "1 rows, 6 cols, 6 nonzeros\n",
      "0 rows, 0 cols, 0 nonzeros\n",
      "Presolve : Reductions: rows 0(-26); columns 0(-25); elements 0(-50) - Reduced to empty\n",
      "Solving the original LP from the solution after postsolve\n",
      "Model   status      : Optimal\n",
      "Objective value     :  5.4262395477e+03\n",
      "HiGHS run time      :          0.01\n"
     ]
    },
    {
     "data": {
      "text/html": [
       "<table class=\"data-frame\"><thead><tr><th></th><th>r_id</th><th>resource</th><th>gen</th></tr><tr><th></th><th>Int64?</th><th>String?</th><th>Float64</th></tr></thead><tbody><p>25 rows × 3 columns</p><tr><th>1</th><td>1</td><td>biomass</td><td>21.4</td></tr><tr><th>2</th><td>2</td><td>hydroelectric_pumped_storage</td><td>42.0</td></tr><tr><th>3</th><td>3</td><td>natural_gas_fired_combined_cycle</td><td>0.0</td></tr><tr><th>4</th><td>4</td><td>natural_gas_fired_combined_cycle</td><td>0.0</td></tr><tr><th>5</th><td>5</td><td>natural_gas_fired_combined_cycle</td><td>0.0</td></tr><tr><th>6</th><td>6</td><td>natural_gas_fired_combined_cycle</td><td>244.046</td></tr><tr><th>7</th><td>7</td><td>natural_gas_fired_combined_cycle</td><td>0.0</td></tr><tr><th>8</th><td>8</td><td>natural_gas_fired_combined_cycle</td><td>0.0</td></tr><tr><th>9</th><td>9</td><td>natural_gas_fired_combustion_turbine</td><td>0.0</td></tr><tr><th>10</th><td>10</td><td>natural_gas_fired_combustion_turbine</td><td>0.0</td></tr><tr><th>11</th><td>11</td><td>natural_gas_fired_combustion_turbine</td><td>0.0</td></tr><tr><th>12</th><td>12</td><td>natural_gas_fired_combustion_turbine</td><td>0.0</td></tr><tr><th>13</th><td>13</td><td>natural_gas_fired_combustion_turbine</td><td>0.0</td></tr><tr><th>14</th><td>14</td><td>natural_gas_fired_combustion_turbine</td><td>0.0</td></tr><tr><th>15</th><td>15</td><td>natural_gas_fired_combustion_turbine</td><td>0.0</td></tr><tr><th>16</th><td>16</td><td>natural_gas_fired_combustion_turbine</td><td>0.0</td></tr><tr><th>17</th><td>17</td><td>natural_gas_fired_combustion_turbine</td><td>0.0</td></tr><tr><th>18</th><td>18</td><td>natural_gas_fired_combustion_turbine</td><td>0.0</td></tr><tr><th>19</th><td>19</td><td>natural_gas_fired_combustion_turbine</td><td>0.0</td></tr><tr><th>20</th><td>20</td><td>natural_gas_fired_combustion_turbine</td><td>0.0</td></tr><tr><th>21</th><td>21</td><td>natural_gas_fired_combustion_turbine</td><td>0.0</td></tr><tr><th>22</th><td>22</td><td>natural_gas_fired_combustion_turbine</td><td>0.0</td></tr><tr><th>23</th><td>23</td><td>onshore_wind_turbine</td><td>151.798</td></tr><tr><th>24</th><td>24</td><td>small_hydroelectric</td><td>1.72386</td></tr><tr><th>25</th><td>25</td><td>solar_photovoltaic</td><td>-0.0</td></tr></tbody></table>"
      ],
      "text/latex": [
       "\\begin{tabular}{r|ccc}\n",
       "\t& r\\_id & resource & gen\\\\\n",
       "\t\\hline\n",
       "\t& Int64? & String? & Float64\\\\\n",
       "\t\\hline\n",
       "\t1 & 1 & biomass & 21.4 \\\\\n",
       "\t2 & 2 & hydroelectric\\_pumped\\_storage & 42.0 \\\\\n",
       "\t3 & 3 & natural\\_gas\\_fired\\_combined\\_cycle & 0.0 \\\\\n",
       "\t4 & 4 & natural\\_gas\\_fired\\_combined\\_cycle & 0.0 \\\\\n",
       "\t5 & 5 & natural\\_gas\\_fired\\_combined\\_cycle & 0.0 \\\\\n",
       "\t6 & 6 & natural\\_gas\\_fired\\_combined\\_cycle & 244.046 \\\\\n",
       "\t7 & 7 & natural\\_gas\\_fired\\_combined\\_cycle & 0.0 \\\\\n",
       "\t8 & 8 & natural\\_gas\\_fired\\_combined\\_cycle & 0.0 \\\\\n",
       "\t9 & 9 & natural\\_gas\\_fired\\_combustion\\_turbine & 0.0 \\\\\n",
       "\t10 & 10 & natural\\_gas\\_fired\\_combustion\\_turbine & 0.0 \\\\\n",
       "\t11 & 11 & natural\\_gas\\_fired\\_combustion\\_turbine & 0.0 \\\\\n",
       "\t12 & 12 & natural\\_gas\\_fired\\_combustion\\_turbine & 0.0 \\\\\n",
       "\t13 & 13 & natural\\_gas\\_fired\\_combustion\\_turbine & 0.0 \\\\\n",
       "\t14 & 14 & natural\\_gas\\_fired\\_combustion\\_turbine & 0.0 \\\\\n",
       "\t15 & 15 & natural\\_gas\\_fired\\_combustion\\_turbine & 0.0 \\\\\n",
       "\t16 & 16 & natural\\_gas\\_fired\\_combustion\\_turbine & 0.0 \\\\\n",
       "\t17 & 17 & natural\\_gas\\_fired\\_combustion\\_turbine & 0.0 \\\\\n",
       "\t18 & 18 & natural\\_gas\\_fired\\_combustion\\_turbine & 0.0 \\\\\n",
       "\t19 & 19 & natural\\_gas\\_fired\\_combustion\\_turbine & 0.0 \\\\\n",
       "\t20 & 20 & natural\\_gas\\_fired\\_combustion\\_turbine & 0.0 \\\\\n",
       "\t21 & 21 & natural\\_gas\\_fired\\_combustion\\_turbine & 0.0 \\\\\n",
       "\t22 & 22 & natural\\_gas\\_fired\\_combustion\\_turbine & 0.0 \\\\\n",
       "\t23 & 23 & onshore\\_wind\\_turbine & 151.798 \\\\\n",
       "\t24 & 24 & small\\_hydroelectric & 1.72386 \\\\\n",
       "\t25 & 25 & solar\\_photovoltaic & -0.0 \\\\\n",
       "\\end{tabular}\n"
      ],
      "text/plain": [
       "25×3 DataFrame\n",
       "│ Row │ r_id   │ resource                             │ gen     │\n",
       "│     │ \u001b[90mInt64?\u001b[39m │ \u001b[90mUnion{Missing, String}\u001b[39m               │ \u001b[90mFloat64\u001b[39m │\n",
       "├─────┼────────┼──────────────────────────────────────┼─────────┤\n",
       "│ 1   │ 1      │ biomass                              │ 21.4    │\n",
       "│ 2   │ 2      │ hydroelectric_pumped_storage         │ 42.0    │\n",
       "│ 3   │ 3      │ natural_gas_fired_combined_cycle     │ 0.0     │\n",
       "│ 4   │ 4      │ natural_gas_fired_combined_cycle     │ 0.0     │\n",
       "│ 5   │ 5      │ natural_gas_fired_combined_cycle     │ 0.0     │\n",
       "│ 6   │ 6      │ natural_gas_fired_combined_cycle     │ 244.046 │\n",
       "│ 7   │ 7      │ natural_gas_fired_combined_cycle     │ 0.0     │\n",
       "│ 8   │ 8      │ natural_gas_fired_combined_cycle     │ 0.0     │\n",
       "│ 9   │ 9      │ natural_gas_fired_combustion_turbine │ 0.0     │\n",
       "│ 10  │ 10     │ natural_gas_fired_combustion_turbine │ 0.0     │\n",
       "⋮\n",
       "│ 15  │ 15     │ natural_gas_fired_combustion_turbine │ 0.0     │\n",
       "│ 16  │ 16     │ natural_gas_fired_combustion_turbine │ 0.0     │\n",
       "│ 17  │ 17     │ natural_gas_fired_combustion_turbine │ 0.0     │\n",
       "│ 18  │ 18     │ natural_gas_fired_combustion_turbine │ 0.0     │\n",
       "│ 19  │ 19     │ natural_gas_fired_combustion_turbine │ 0.0     │\n",
       "│ 20  │ 20     │ natural_gas_fired_combustion_turbine │ 0.0     │\n",
       "│ 21  │ 21     │ natural_gas_fired_combustion_turbine │ 0.0     │\n",
       "│ 22  │ 22     │ natural_gas_fired_combustion_turbine │ 0.0     │\n",
       "│ 23  │ 23     │ onshore_wind_turbine                 │ 151.798 │\n",
       "│ 24  │ 24     │ small_hydroelectric                  │ 1.72386 │\n",
       "│ 25  │ 25     │ solar_photovoltaic                   │ -0.0    │"
      ]
     },
     "execution_count": 24,
     "metadata": {},
     "output_type": "execute_result"
    }
   ],
   "source": [
    "#4. Solve and print data\n",
    "\n",
    "solution = economic_dispatch_single(gen_df, loads_single, var_cf_single);\n",
    "solution.solution"
   ]
  },
  {
   "cell_type": "code",
   "execution_count": 25,
   "id": "1e652145",
   "metadata": {},
   "outputs": [],
   "source": [
    "supply_curve = leftjoin(gen_df,\n",
    "                var_cf_single, \n",
    "                on = :gen_full)\n",
    "supply_curve[!, :varcost] .= 0.0\n",
    "supply_curve[!, :cap] .= 0.0\n",
    "\n",
    "# Store varcost of non-variable generators:\n",
    "I = supply_curve[!,:is_variable] .== 0  # `I` contains indexes to the non-variable generators\n",
    "supply_curve[I,:varcost] .= \n",
    "    supply_curve[I,:heat_rate_mmbtu_per_mwh] .* \n",
    "        supply_curve[I,:fuel_cost] .+\n",
    "    supply_curve[I,:var_om_cost_per_mwh]\n",
    "\n",
    "# Calculate available capacity for each generator\n",
    "supply_curve[I,:cap] = supply_curve[I,:existing_cap_mw]\n",
    "\n",
    "# Store varcost of variable generators (in this case, 0)\n",
    "I = (supply_curve[:,:is_variable] .== 1) # `I` contains indexes to the variable generators\n",
    "supply_curve[I,:varcost] = supply_curve[I,:var_om_cost_per_mwh]\n",
    "\n",
    "# Calculate available capacity for each generator\n",
    "# (adjusted for variable generation)\n",
    "supply_curve[I,:cap] = supply_curve[I,:existing_cap_mw] .* supply_curve[I,:cf]\n",
    "\n",
    "sort!(supply_curve, :varcost);"
   ]
  },
  {
   "cell_type": "code",
   "execution_count": 26,
   "id": "af6bb45c",
   "metadata": {},
   "outputs": [
    {
     "data": {
      "application/vnd.plotly.v1+json": {
       "data": [
        {
         "fill": "tozeroy",
         "fillcolor": "rgba(142, 151, 30, 0.500)",
         "legendgroup": "",
         "line": {
          "color": "rgba(0, 0, 0, 0.500)",
          "dash": "solid",
          "width": 1
         },
         "mode": "lines",
         "name": "",
         "showlegend": false,
         "type": "scatter",
         "x": [
          0,
          42,
          42,
          0,
          0
         ],
         "xaxis": "x1",
         "y": [
          0,
          0,
          0,
          0,
          0
         ],
         "yaxis": "y1"
        },
        {
         "fill": "tozeroy",
         "fillcolor": "rgba(0, 169, 204, 0.500)",
         "legendgroup": "",
         "line": {
          "color": "rgba(0, 0, 0, 0.500)",
          "dash": "solid",
          "width": 1
         },
         "mode": "lines",
         "name": "",
         "showlegend": false,
         "type": "scatter",
         "x": [
          42,
          193.79775999999998,
          193.79775999999998,
          42,
          42
         ],
         "xaxis": "x1",
         "y": [
          0,
          0,
          0,
          0,
          0
         ],
         "yaxis": "y1"
        },
        {
         "fill": "tozeroy",
         "fillcolor": "rgba(155, 127, 233, 0.500)",
         "legendgroup": "",
         "line": {
          "color": "rgba(0, 0, 0, 0.500)",
          "dash": "solid",
          "width": 1
         },
         "mode": "lines",
         "name": "",
         "showlegend": false,
         "type": "scatter",
         "x": [
          193.79775999999998,
          195.52161999999998,
          195.52161999999998,
          193.79775999999998,
          193.79775999999998
         ],
         "xaxis": "x1",
         "y": [
          0,
          0,
          0,
          0,
          0
         ],
         "yaxis": "y1"
        },
        {
         "fill": "tozeroy",
         "fillcolor": "rgba(97, 141, 246, 0.500)",
         "legendgroup": "",
         "line": {
          "color": "rgba(0, 0, 0, 0.500)",
          "dash": "solid",
          "width": 1
         },
         "mode": "lines",
         "name": "",
         "showlegend": false,
         "type": "scatter",
         "x": [
          195.52161999999998,
          195.52161999999998,
          195.52161999999998,
          195.52161999999998,
          195.52161999999998
         ],
         "xaxis": "x1",
         "y": [
          0,
          0,
          0,
          0,
          0
         ],
         "yaxis": "y1"
        },
        {
         "fill": "tozeroy",
         "fillcolor": "rgba(240, 96, 115, 0.500)",
         "legendgroup": "",
         "line": {
          "color": "rgba(0, 0, 0, 0.500)",
          "dash": "solid",
          "width": 1
         },
         "mode": "lines",
         "name": "",
         "showlegend": false,
         "type": "scatter",
         "x": [
          195.52161999999998,
          216.92162,
          216.92162,
          195.52161999999998,
          195.52161999999998
         ],
         "xaxis": "x1",
         "y": [
          0,
          0,
          5.234,
          5.234,
          0
         ],
         "yaxis": "y1"
        },
        {
         "fill": "tozeroy",
         "fillcolor": "rgba(221, 101, 182, 0.500)",
         "legendgroup": "",
         "line": {
          "color": "rgba(0, 0, 0, 0.500)",
          "dash": "solid",
          "width": 1
         },
         "mode": "lines",
         "name": "",
         "showlegend": false,
         "type": "scatter",
         "x": [
          216.92162,
          786.92162,
          786.92162,
          216.92162,
          216.92162
         ],
         "xaxis": "x1",
         "y": [
          0,
          0,
          21.775499999999997,
          21.775499999999997,
          0
         ],
         "yaxis": "y1"
        },
        {
         "fill": "tozeroy",
         "fillcolor": "rgba(108, 159, 51, 0.500)",
         "legendgroup": "",
         "line": {
          "color": "rgba(0, 0, 0, 0.500)",
          "dash": "solid",
          "width": 1
         },
         "mode": "lines",
         "name": "",
         "showlegend": false,
         "type": "scatter",
         "x": [
          786.92162,
          1394.02162,
          1394.02162,
          786.92162,
          786.92162
         ],
         "xaxis": "x1",
         "y": [
          0,
          0,
          22.726399999999995,
          22.726399999999995,
          0
         ],
         "yaxis": "y1"
        },
        {
         "fill": "tozeroy",
         "fillcolor": "rgba(0, 154, 250, 0.500)",
         "legendgroup": "",
         "line": {
          "color": "rgba(0, 0, 0, 0.500)",
          "dash": "solid",
          "width": 1
         },
         "mode": "lines",
         "name": "",
         "showlegend": false,
         "type": "scatter",
         "x": [
          1394.02162,
          1443.42162,
          1443.42162,
          1394.02162,
          1394.02162
         ],
         "xaxis": "x1",
         "y": [
          0,
          0,
          29.3061,
          29.3061,
          0
         ],
         "yaxis": "y1"
        },
        {
         "fill": "tozeroy",
         "fillcolor": "rgba(227, 111, 71, 0.500)",
         "legendgroup": "",
         "line": {
          "color": "rgba(0, 0, 0, 0.500)",
          "dash": "solid",
          "width": 1
         },
         "mode": "lines",
         "name": "",
         "showlegend": false,
         "type": "scatter",
         "x": [
          1443.42162,
          1473.42162,
          1473.42162,
          1443.42162,
          1443.42162
         ],
         "xaxis": "x1",
         "y": [
          0,
          0,
          30.128500000000003,
          30.128500000000003,
          0
         ],
         "yaxis": "y1"
        },
        {
         "fill": "tozeroy",
         "fillcolor": "rgba(62, 164, 78, 0.500)",
         "legendgroup": "",
         "line": {
          "color": "rgba(0, 0, 0, 0.500)",
          "dash": "solid",
          "width": 1
         },
         "mode": "lines",
         "name": "",
         "showlegend": false,
         "type": "scatter",
         "x": [
          1473.42162,
          1809.42162,
          1809.42162,
          1473.42162,
          1473.42162
         ],
         "xaxis": "x1",
         "y": [
          0,
          0,
          36.5771,
          36.5771,
          0
         ],
         "yaxis": "y1"
        },
        {
         "fill": "tozeroy",
         "fillcolor": "rgba(195, 113, 210, 0.500)",
         "legendgroup": "",
         "line": {
          "color": "rgba(0, 0, 0, 0.500)",
          "dash": "solid",
          "width": 1
         },
         "mode": "lines",
         "name": "",
         "showlegend": false,
         "type": "scatter",
         "x": [
          1809.42162,
          2145.42162,
          2145.42162,
          1809.42162,
          1809.42162
         ],
         "xaxis": "x1",
         "y": [
          0,
          0,
          36.757,
          36.757,
          0
         ],
         "yaxis": "y1"
        },
        {
         "fill": "tozeroy",
         "fillcolor": "rgba(172, 142, 24, 0.500)",
         "legendgroup": "",
         "line": {
          "color": "rgba(0, 0, 0, 0.500)",
          "dash": "solid",
          "width": 1
         },
         "mode": "lines",
         "name": "",
         "showlegend": false,
         "type": "scatter",
         "x": [
          2145.42162,
          2195.32162,
          2195.32162,
          2145.42162,
          2145.42162
         ],
         "xaxis": "x1",
         "y": [
          0,
          0,
          37.733599999999996,
          37.733599999999996,
          0
         ],
         "yaxis": "y1"
        },
        {
         "fill": "tozeroy",
         "fillcolor": "rgba(0, 170, 174, 0.500)",
         "legendgroup": "",
         "line": {
          "color": "rgba(0, 0, 0, 0.500)",
          "dash": "solid",
          "width": 1
         },
         "mode": "lines",
         "name": "",
         "showlegend": false,
         "type": "scatter",
         "x": [
          2195.32162,
          2291.92162,
          2291.92162,
          2195.32162,
          2195.32162
         ],
         "xaxis": "x1",
         "y": [
          0,
          0,
          37.785,
          37.785,
          0
         ],
         "yaxis": "y1"
        },
        {
         "fill": "tozeroy",
         "fillcolor": "rgba(237, 94, 147, 0.500)",
         "legendgroup": "",
         "line": {
          "color": "rgba(0, 0, 0, 0.500)",
          "dash": "solid",
          "width": 1
         },
         "mode": "lines",
         "name": "",
         "showlegend": false,
         "type": "scatter",
         "x": [
          2291.92162,
          2383.52162,
          2383.52162,
          2291.92162,
          2291.92162
         ],
         "xaxis": "x1",
         "y": [
          0,
          0,
          38.2733,
          38.2733,
          0
         ],
         "yaxis": "y1"
        },
        {
         "fill": "tozeroy",
         "fillcolor": "rgba(198, 130, 37, 0.500)",
         "legendgroup": "",
         "line": {
          "color": "rgba(0, 0, 0, 0.500)",
          "dash": "solid",
          "width": 1
         },
         "mode": "lines",
         "name": "",
         "showlegend": false,
         "type": "scatter",
         "x": [
          2383.52162,
          2431.62162,
          2431.62162,
          2383.52162,
          2383.52162
         ],
         "xaxis": "x1",
         "y": [
          0,
          0,
          39.172799999999995,
          39.172799999999995,
          0
         ],
         "yaxis": "y1"
        },
        {
         "fill": "tozeroy",
         "fillcolor": "rgba(0, 169, 141, 0.500)",
         "legendgroup": "",
         "line": {
          "color": "rgba(0, 0, 0, 0.500)",
          "dash": "solid",
          "width": 1
         },
         "mode": "lines",
         "name": "",
         "showlegend": false,
         "type": "scatter",
         "x": [
          2431.62162,
          2482.92162,
          2482.92162,
          2431.62162,
          2431.62162
         ],
         "xaxis": "x1",
         "y": [
          0,
          0,
          39.2756,
          39.2756,
          0
         ],
         "yaxis": "y1"
        },
        {
         "fill": "tozeroy",
         "fillcolor": "rgba(142, 151, 30, 0.500)",
         "legendgroup": "",
         "line": {
          "color": "rgba(0, 0, 0, 0.500)",
          "dash": "solid",
          "width": 1
         },
         "mode": "lines",
         "name": "",
         "showlegend": false,
         "type": "scatter",
         "x": [
          2482.92162,
          2534.2216200000003,
          2534.2216200000003,
          2482.92162,
          2482.92162
         ],
         "xaxis": "x1",
         "y": [
          0,
          0,
          39.3784,
          39.3784,
          0
         ],
         "yaxis": "y1"
        },
        {
         "fill": "tozeroy",
         "fillcolor": "rgba(0, 169, 204, 0.500)",
         "legendgroup": "",
         "line": {
          "color": "rgba(0, 0, 0, 0.500)",
          "dash": "solid",
          "width": 1
         },
         "mode": "lines",
         "name": "",
         "showlegend": false,
         "type": "scatter",
         "x": [
          2534.2216200000003,
          2632.42162,
          2632.42162,
          2534.2216200000003,
          2534.2216200000003
         ],
         "xaxis": "x1",
         "y": [
          0,
          0,
          39.4555,
          39.4555,
          0
         ],
         "yaxis": "y1"
        },
        {
         "fill": "tozeroy",
         "fillcolor": "rgba(155, 127, 233, 0.500)",
         "legendgroup": "",
         "line": {
          "color": "rgba(0, 0, 0, 0.500)",
          "dash": "solid",
          "width": 1
         },
         "mode": "lines",
         "name": "",
         "showlegend": false,
         "type": "scatter",
         "x": [
          2632.42162,
          2730.62162,
          2730.62162,
          2632.42162,
          2632.42162
         ],
         "xaxis": "x1",
         "y": [
          0,
          0,
          39.583999999999996,
          39.583999999999996,
          0
         ],
         "yaxis": "y1"
        },
        {
         "fill": "tozeroy",
         "fillcolor": "rgba(97, 141, 246, 0.500)",
         "legendgroup": "",
         "line": {
          "color": "rgba(0, 0, 0, 0.500)",
          "dash": "solid",
          "width": 1
         },
         "mode": "lines",
         "name": "",
         "showlegend": false,
         "type": "scatter",
         "x": [
          2730.62162,
          2779.52162,
          2779.52162,
          2730.62162,
          2730.62162
         ],
         "xaxis": "x1",
         "y": [
          0,
          0,
          39.635400000000004,
          39.635400000000004,
          0
         ],
         "yaxis": "y1"
        },
        {
         "fill": "tozeroy",
         "fillcolor": "rgba(240, 96, 115, 0.500)",
         "legendgroup": "",
         "line": {
          "color": "rgba(0, 0, 0, 0.500)",
          "dash": "solid",
          "width": 1
         },
         "mode": "lines",
         "name": "",
         "showlegend": false,
         "type": "scatter",
         "x": [
          2779.52162,
          2828.42162,
          2828.42162,
          2779.52162,
          2779.52162
         ],
         "xaxis": "x1",
         "y": [
          0,
          0,
          39.841,
          39.841,
          0
         ],
         "yaxis": "y1"
        },
        {
         "fill": "tozeroy",
         "fillcolor": "rgba(221, 101, 182, 0.500)",
         "legendgroup": "",
         "line": {
          "color": "rgba(0, 0, 0, 0.500)",
          "dash": "solid",
          "width": 1
         },
         "mode": "lines",
         "name": "",
         "showlegend": false,
         "type": "scatter",
         "x": [
          2828.42162,
          2877.12162,
          2877.12162,
          2828.42162,
          2828.42162
         ],
         "xaxis": "x1",
         "y": [
          0,
          0,
          40.2522,
          40.2522,
          0
         ],
         "yaxis": "y1"
        },
        {
         "fill": "tozeroy",
         "fillcolor": "rgba(108, 159, 51, 0.500)",
         "legendgroup": "",
         "line": {
          "color": "rgba(0, 0, 0, 0.500)",
          "dash": "solid",
          "width": 1
         },
         "mode": "lines",
         "name": "",
         "showlegend": false,
         "type": "scatter",
         "x": [
          2877.12162,
          2881.92162,
          2881.92162,
          2877.12162,
          2877.12162
         ],
         "xaxis": "x1",
         "y": [
          0,
          0,
          41.9741,
          41.9741,
          0
         ],
         "yaxis": "y1"
        },
        {
         "fill": "tozeroy",
         "fillcolor": "rgba(0, 154, 250, 0.500)",
         "legendgroup": "",
         "line": {
          "color": "rgba(0, 0, 0, 0.500)",
          "dash": "solid",
          "width": 1
         },
         "mode": "lines",
         "name": "",
         "showlegend": false,
         "type": "scatter",
         "x": [
          2881.92162,
          2899.2216200000003,
          2899.2216200000003,
          2881.92162,
          2881.92162
         ],
         "xaxis": "x1",
         "y": [
          0,
          0,
          45.674899999999994,
          45.674899999999994,
          0
         ],
         "yaxis": "y1"
        },
        {
         "fill": "tozeroy",
         "fillcolor": "rgba(227, 111, 71, 0.500)",
         "legendgroup": "",
         "line": {
          "color": "rgba(0, 0, 0, 0.500)",
          "dash": "solid",
          "width": 1
         },
         "mode": "lines",
         "name": "",
         "showlegend": false,
         "type": "scatter",
         "x": [
          2899.2216200000003,
          2933.82162,
          2933.82162,
          2899.2216200000003,
          2899.2216200000003
         ],
         "xaxis": "x1",
         "y": [
          0,
          0,
          54.1302,
          54.1302,
          0
         ],
         "yaxis": "y1"
        },
        {
         "colorbar": {
          "len": 0.8657316272965879,
          "title": "",
          "x": 0.9934383202099737,
          "y": 0.5086805555555556
         },
         "legendgroup": "demand",
         "line": {
          "color": "rgba(0, 0, 0, 1.000)",
          "dash": "solid",
          "shape": "linear",
          "width": 5
         },
         "mode": "lines",
         "name": "demand",
         "showlegend": true,
         "type": "scatter",
         "x": [
          460.968,
          460.968
         ],
         "xaxis": "x",
         "y": [
          -5739.4251060000015,
          5793.555306000002
         ],
         "yaxis": "y"
        },
        {
         "colorbar": {
          "len": 0.8657316272965879,
          "title": "",
          "x": 0.9934383202099737,
          "y": 0.5086805555555556
         },
         "legendgroup": "SRMC",
         "line": {
          "color": "rgba(0, 0, 255, 1.000)",
          "dash": "solid",
          "shape": "linear",
          "width": 5
         },
         "mode": "lines",
         "name": "SRMC",
         "showlegend": true,
         "type": "scatter",
         "x": [
          -311073.10636860004,
          314006.92798860004
         ],
         "xaxis": "x",
         "y": [
          21.775499999999997,
          21.775499999999997
         ],
         "yaxis": "y"
        }
       ],
       "layout": {
        "annotations": [
         {
          "font": {
           "color": "rgba(0, 0, 0, 1.000)",
           "family": "sans-serif",
           "size": 20
          },
          "rotation": 0,
          "showarrow": false,
          "text": "Supply and demand curves",
          "x": 0.5275462962962963,
          "xanchor": "center",
          "xref": "paper",
          "y": 1,
          "yanchor": "top",
          "yref": "paper"
         }
        ],
        "height": 400,
        "legend": {
         "bgcolor": "rgba(255, 255, 255, 1.000)",
         "bordercolor": "rgba(0, 0, 0, 1.000)",
         "borderwidth": 1,
         "font": {
          "color": "rgba(0, 0, 0, 1.000)",
          "family": "sans-serif",
          "size": 11
         },
         "title": {
          "font": {
           "color": "rgba(0, 0, 0, 1.000)",
           "family": "sans-serif",
           "size": 15
          },
          "text": ""
         },
         "tracegroupgap": 0,
         "traceorder": "normal",
         "x": 1,
         "xanchor": "auto",
         "y": 1,
         "yanchor": "auto"
        },
        "margin": {
         "b": 20,
         "l": 0,
         "r": 0,
         "t": 20
        },
        "paper_bgcolor": "rgba(255, 255, 255, 1.000)",
        "plot_bgcolor": "rgba(255, 255, 255, 1.000)",
        "showlegend": true,
        "width": 600,
        "xaxis": {
         "anchor": "y",
         "domain": [
          0.061654272382618835,
          0.9934383202099737
         ],
         "gridcolor": "rgba(0, 0, 0, 0.100)",
         "gridwidth": 0.5,
         "linecolor": "rgba(0, 0, 0, 1.000)",
         "mirror": false,
         "range": [
          -88.0146486000001,
          3021.8362686
         ],
         "showgrid": true,
         "showline": true,
         "showticklabels": true,
         "tickangle": 0,
         "tickcolor": "rgb(0, 0, 0)",
         "tickfont": {
          "color": "rgba(0, 0, 0, 1.000)",
          "family": "sans-serif",
          "size": 11
         },
         "tickmode": "array",
         "ticks": "inside",
         "ticktext": [
          "0",
          "1000",
          "2000",
          "3000"
         ],
         "tickvals": [
          0,
          1000,
          2000,
          3000
         ],
         "title": "Capacity",
         "titlefont": {
          "color": "rgba(0, 0, 0, 1.000)",
          "family": "sans-serif",
          "size": 15
         },
         "type": "-",
         "visible": true,
         "zeroline": false,
         "zerolinecolor": "rgba(0, 0, 0, 1.000)"
        },
        "yaxis": {
         "anchor": "x",
         "domain": [
          0.07581474190726165,
          0.9415463692038496
         ],
         "gridcolor": "rgba(0, 0, 0, 0.100)",
         "gridwidth": 0.5,
         "linecolor": "rgba(0, 0, 0, 1.000)",
         "mirror": false,
         "range": [
          -1.6239060000000016,
          55.75410600000001
         ],
         "showgrid": true,
         "showline": true,
         "showticklabels": true,
         "tickangle": 0,
         "tickcolor": "rgb(0, 0, 0)",
         "tickfont": {
          "color": "rgba(0, 0, 0, 1.000)",
          "family": "sans-serif",
          "size": 11
         },
         "tickmode": "array",
         "ticks": "inside",
         "ticktext": [
          "0",
          "10",
          "20",
          "30",
          "40",
          "50"
         ],
         "tickvals": [
          0,
          10,
          20,
          30,
          40,
          50
         ],
         "title": "Marginal cost",
         "titlefont": {
          "color": "rgba(0, 0, 0, 1.000)",
          "family": "sans-serif",
          "size": 15
         },
         "type": "-",
         "visible": true,
         "zeroline": false,
         "zerolinecolor": "rgba(0, 0, 0, 1.000)"
        }
       }
      },
      "text/html": [
       "    <div id=\"3806b310-9a86-435f-a9d7-6dd583fa8377\" style=\"width:600px;height:400px;\"></div>\n",
       "    <script>\n",
       "        requirejs.config({\n",
       "        paths: {\n",
       "            plotly: 'https://cdn.plot.ly/plotly-2.6.3.min'\n",
       "        }\n",
       "    });\n",
       "    require(['plotly'], function (Plotly) {\n",
       "\n",
       "    Plotly.newPlot('3806b310-9a86-435f-a9d7-6dd583fa8377', [\n",
       "    {\n",
       "        \"xaxis\": \"x1\",\n",
       "        \"fill\": \"tozeroy\",\n",
       "        \"yaxis\": \"y1\",\n",
       "        \"x\": [\n",
       "            0.0,\n",
       "            42.0,\n",
       "            42.0,\n",
       "            0.0,\n",
       "            0.0\n",
       "        ],\n",
       "        \"showlegend\": false,\n",
       "        \"mode\": \"lines\",\n",
       "        \"fillcolor\": \"rgba(142, 151, 30, 0.500)\",\n",
       "        \"name\": \"\",\n",
       "        \"legendgroup\": \"\",\n",
       "        \"line\": {\n",
       "            \"color\": \"rgba(0, 0, 0, 0.500)\",\n",
       "            \"dash\": \"solid\",\n",
       "            \"width\": 1\n",
       "        },\n",
       "        \"y\": [\n",
       "            0.0,\n",
       "            0.0,\n",
       "            0.0,\n",
       "            0.0,\n",
       "            0.0\n",
       "        ],\n",
       "        \"type\": \"scatter\"\n",
       "    },\n",
       "    {\n",
       "        \"xaxis\": \"x1\",\n",
       "        \"fill\": \"tozeroy\",\n",
       "        \"yaxis\": \"y1\",\n",
       "        \"x\": [\n",
       "            42.0,\n",
       "            193.79775999999998,\n",
       "            193.79775999999998,\n",
       "            42.0,\n",
       "            42.0\n",
       "        ],\n",
       "        \"showlegend\": false,\n",
       "        \"mode\": \"lines\",\n",
       "        \"fillcolor\": \"rgba(0, 169, 204, 0.500)\",\n",
       "        \"name\": \"\",\n",
       "        \"legendgroup\": \"\",\n",
       "        \"line\": {\n",
       "            \"color\": \"rgba(0, 0, 0, 0.500)\",\n",
       "            \"dash\": \"solid\",\n",
       "            \"width\": 1\n",
       "        },\n",
       "        \"y\": [\n",
       "            0.0,\n",
       "            0.0,\n",
       "            0.0,\n",
       "            0.0,\n",
       "            0.0\n",
       "        ],\n",
       "        \"type\": \"scatter\"\n",
       "    },\n",
       "    {\n",
       "        \"xaxis\": \"x1\",\n",
       "        \"fill\": \"tozeroy\",\n",
       "        \"yaxis\": \"y1\",\n",
       "        \"x\": [\n",
       "            193.79775999999998,\n",
       "            195.52161999999998,\n",
       "            195.52161999999998,\n",
       "            193.79775999999998,\n",
       "            193.79775999999998\n",
       "        ],\n",
       "        \"showlegend\": false,\n",
       "        \"mode\": \"lines\",\n",
       "        \"fillcolor\": \"rgba(155, 127, 233, 0.500)\",\n",
       "        \"name\": \"\",\n",
       "        \"legendgroup\": \"\",\n",
       "        \"line\": {\n",
       "            \"color\": \"rgba(0, 0, 0, 0.500)\",\n",
       "            \"dash\": \"solid\",\n",
       "            \"width\": 1\n",
       "        },\n",
       "        \"y\": [\n",
       "            0.0,\n",
       "            0.0,\n",
       "            0.0,\n",
       "            0.0,\n",
       "            0.0\n",
       "        ],\n",
       "        \"type\": \"scatter\"\n",
       "    },\n",
       "    {\n",
       "        \"xaxis\": \"x1\",\n",
       "        \"fill\": \"tozeroy\",\n",
       "        \"yaxis\": \"y1\",\n",
       "        \"x\": [\n",
       "            195.52161999999998,\n",
       "            195.52161999999998,\n",
       "            195.52161999999998,\n",
       "            195.52161999999998,\n",
       "            195.52161999999998\n",
       "        ],\n",
       "        \"showlegend\": false,\n",
       "        \"mode\": \"lines\",\n",
       "        \"fillcolor\": \"rgba(97, 141, 246, 0.500)\",\n",
       "        \"name\": \"\",\n",
       "        \"legendgroup\": \"\",\n",
       "        \"line\": {\n",
       "            \"color\": \"rgba(0, 0, 0, 0.500)\",\n",
       "            \"dash\": \"solid\",\n",
       "            \"width\": 1\n",
       "        },\n",
       "        \"y\": [\n",
       "            0.0,\n",
       "            0.0,\n",
       "            0.0,\n",
       "            0.0,\n",
       "            0.0\n",
       "        ],\n",
       "        \"type\": \"scatter\"\n",
       "    },\n",
       "    {\n",
       "        \"xaxis\": \"x1\",\n",
       "        \"fill\": \"tozeroy\",\n",
       "        \"yaxis\": \"y1\",\n",
       "        \"x\": [\n",
       "            195.52161999999998,\n",
       "            216.92162,\n",
       "            216.92162,\n",
       "            195.52161999999998,\n",
       "            195.52161999999998\n",
       "        ],\n",
       "        \"showlegend\": false,\n",
       "        \"mode\": \"lines\",\n",
       "        \"fillcolor\": \"rgba(240, 96, 115, 0.500)\",\n",
       "        \"name\": \"\",\n",
       "        \"legendgroup\": \"\",\n",
       "        \"line\": {\n",
       "            \"color\": \"rgba(0, 0, 0, 0.500)\",\n",
       "            \"dash\": \"solid\",\n",
       "            \"width\": 1\n",
       "        },\n",
       "        \"y\": [\n",
       "            0.0,\n",
       "            0.0,\n",
       "            5.234,\n",
       "            5.234,\n",
       "            0.0\n",
       "        ],\n",
       "        \"type\": \"scatter\"\n",
       "    },\n",
       "    {\n",
       "        \"xaxis\": \"x1\",\n",
       "        \"fill\": \"tozeroy\",\n",
       "        \"yaxis\": \"y1\",\n",
       "        \"x\": [\n",
       "            216.92162,\n",
       "            786.92162,\n",
       "            786.92162,\n",
       "            216.92162,\n",
       "            216.92162\n",
       "        ],\n",
       "        \"showlegend\": false,\n",
       "        \"mode\": \"lines\",\n",
       "        \"fillcolor\": \"rgba(221, 101, 182, 0.500)\",\n",
       "        \"name\": \"\",\n",
       "        \"legendgroup\": \"\",\n",
       "        \"line\": {\n",
       "            \"color\": \"rgba(0, 0, 0, 0.500)\",\n",
       "            \"dash\": \"solid\",\n",
       "            \"width\": 1\n",
       "        },\n",
       "        \"y\": [\n",
       "            0.0,\n",
       "            0.0,\n",
       "            21.775499999999997,\n",
       "            21.775499999999997,\n",
       "            0.0\n",
       "        ],\n",
       "        \"type\": \"scatter\"\n",
       "    },\n",
       "    {\n",
       "        \"xaxis\": \"x1\",\n",
       "        \"fill\": \"tozeroy\",\n",
       "        \"yaxis\": \"y1\",\n",
       "        \"x\": [\n",
       "            786.92162,\n",
       "            1394.02162,\n",
       "            1394.02162,\n",
       "            786.92162,\n",
       "            786.92162\n",
       "        ],\n",
       "        \"showlegend\": false,\n",
       "        \"mode\": \"lines\",\n",
       "        \"fillcolor\": \"rgba(108, 159, 51, 0.500)\",\n",
       "        \"name\": \"\",\n",
       "        \"legendgroup\": \"\",\n",
       "        \"line\": {\n",
       "            \"color\": \"rgba(0, 0, 0, 0.500)\",\n",
       "            \"dash\": \"solid\",\n",
       "            \"width\": 1\n",
       "        },\n",
       "        \"y\": [\n",
       "            0.0,\n",
       "            0.0,\n",
       "            22.726399999999995,\n",
       "            22.726399999999995,\n",
       "            0.0\n",
       "        ],\n",
       "        \"type\": \"scatter\"\n",
       "    },\n",
       "    {\n",
       "        \"xaxis\": \"x1\",\n",
       "        \"fill\": \"tozeroy\",\n",
       "        \"yaxis\": \"y1\",\n",
       "        \"x\": [\n",
       "            1394.02162,\n",
       "            1443.42162,\n",
       "            1443.42162,\n",
       "            1394.02162,\n",
       "            1394.02162\n",
       "        ],\n",
       "        \"showlegend\": false,\n",
       "        \"mode\": \"lines\",\n",
       "        \"fillcolor\": \"rgba(0, 154, 250, 0.500)\",\n",
       "        \"name\": \"\",\n",
       "        \"legendgroup\": \"\",\n",
       "        \"line\": {\n",
       "            \"color\": \"rgba(0, 0, 0, 0.500)\",\n",
       "            \"dash\": \"solid\",\n",
       "            \"width\": 1\n",
       "        },\n",
       "        \"y\": [\n",
       "            0.0,\n",
       "            0.0,\n",
       "            29.3061,\n",
       "            29.3061,\n",
       "            0.0\n",
       "        ],\n",
       "        \"type\": \"scatter\"\n",
       "    },\n",
       "    {\n",
       "        \"xaxis\": \"x1\",\n",
       "        \"fill\": \"tozeroy\",\n",
       "        \"yaxis\": \"y1\",\n",
       "        \"x\": [\n",
       "            1443.42162,\n",
       "            1473.42162,\n",
       "            1473.42162,\n",
       "            1443.42162,\n",
       "            1443.42162\n",
       "        ],\n",
       "        \"showlegend\": false,\n",
       "        \"mode\": \"lines\",\n",
       "        \"fillcolor\": \"rgba(227, 111, 71, 0.500)\",\n",
       "        \"name\": \"\",\n",
       "        \"legendgroup\": \"\",\n",
       "        \"line\": {\n",
       "            \"color\": \"rgba(0, 0, 0, 0.500)\",\n",
       "            \"dash\": \"solid\",\n",
       "            \"width\": 1\n",
       "        },\n",
       "        \"y\": [\n",
       "            0.0,\n",
       "            0.0,\n",
       "            30.128500000000003,\n",
       "            30.128500000000003,\n",
       "            0.0\n",
       "        ],\n",
       "        \"type\": \"scatter\"\n",
       "    },\n",
       "    {\n",
       "        \"xaxis\": \"x1\",\n",
       "        \"fill\": \"tozeroy\",\n",
       "        \"yaxis\": \"y1\",\n",
       "        \"x\": [\n",
       "            1473.42162,\n",
       "            1809.42162,\n",
       "            1809.42162,\n",
       "            1473.42162,\n",
       "            1473.42162\n",
       "        ],\n",
       "        \"showlegend\": false,\n",
       "        \"mode\": \"lines\",\n",
       "        \"fillcolor\": \"rgba(62, 164, 78, 0.500)\",\n",
       "        \"name\": \"\",\n",
       "        \"legendgroup\": \"\",\n",
       "        \"line\": {\n",
       "            \"color\": \"rgba(0, 0, 0, 0.500)\",\n",
       "            \"dash\": \"solid\",\n",
       "            \"width\": 1\n",
       "        },\n",
       "        \"y\": [\n",
       "            0.0,\n",
       "            0.0,\n",
       "            36.5771,\n",
       "            36.5771,\n",
       "            0.0\n",
       "        ],\n",
       "        \"type\": \"scatter\"\n",
       "    },\n",
       "    {\n",
       "        \"xaxis\": \"x1\",\n",
       "        \"fill\": \"tozeroy\",\n",
       "        \"yaxis\": \"y1\",\n",
       "        \"x\": [\n",
       "            1809.42162,\n",
       "            2145.42162,\n",
       "            2145.42162,\n",
       "            1809.42162,\n",
       "            1809.42162\n",
       "        ],\n",
       "        \"showlegend\": false,\n",
       "        \"mode\": \"lines\",\n",
       "        \"fillcolor\": \"rgba(195, 113, 210, 0.500)\",\n",
       "        \"name\": \"\",\n",
       "        \"legendgroup\": \"\",\n",
       "        \"line\": {\n",
       "            \"color\": \"rgba(0, 0, 0, 0.500)\",\n",
       "            \"dash\": \"solid\",\n",
       "            \"width\": 1\n",
       "        },\n",
       "        \"y\": [\n",
       "            0.0,\n",
       "            0.0,\n",
       "            36.757,\n",
       "            36.757,\n",
       "            0.0\n",
       "        ],\n",
       "        \"type\": \"scatter\"\n",
       "    },\n",
       "    {\n",
       "        \"xaxis\": \"x1\",\n",
       "        \"fill\": \"tozeroy\",\n",
       "        \"yaxis\": \"y1\",\n",
       "        \"x\": [\n",
       "            2145.42162,\n",
       "            2195.32162,\n",
       "            2195.32162,\n",
       "            2145.42162,\n",
       "            2145.42162\n",
       "        ],\n",
       "        \"showlegend\": false,\n",
       "        \"mode\": \"lines\",\n",
       "        \"fillcolor\": \"rgba(172, 142, 24, 0.500)\",\n",
       "        \"name\": \"\",\n",
       "        \"legendgroup\": \"\",\n",
       "        \"line\": {\n",
       "            \"color\": \"rgba(0, 0, 0, 0.500)\",\n",
       "            \"dash\": \"solid\",\n",
       "            \"width\": 1\n",
       "        },\n",
       "        \"y\": [\n",
       "            0.0,\n",
       "            0.0,\n",
       "            37.733599999999996,\n",
       "            37.733599999999996,\n",
       "            0.0\n",
       "        ],\n",
       "        \"type\": \"scatter\"\n",
       "    },\n",
       "    {\n",
       "        \"xaxis\": \"x1\",\n",
       "        \"fill\": \"tozeroy\",\n",
       "        \"yaxis\": \"y1\",\n",
       "        \"x\": [\n",
       "            2195.32162,\n",
       "            2291.92162,\n",
       "            2291.92162,\n",
       "            2195.32162,\n",
       "            2195.32162\n",
       "        ],\n",
       "        \"showlegend\": false,\n",
       "        \"mode\": \"lines\",\n",
       "        \"fillcolor\": \"rgba(0, 170, 174, 0.500)\",\n",
       "        \"name\": \"\",\n",
       "        \"legendgroup\": \"\",\n",
       "        \"line\": {\n",
       "            \"color\": \"rgba(0, 0, 0, 0.500)\",\n",
       "            \"dash\": \"solid\",\n",
       "            \"width\": 1\n",
       "        },\n",
       "        \"y\": [\n",
       "            0.0,\n",
       "            0.0,\n",
       "            37.785,\n",
       "            37.785,\n",
       "            0.0\n",
       "        ],\n",
       "        \"type\": \"scatter\"\n",
       "    },\n",
       "    {\n",
       "        \"xaxis\": \"x1\",\n",
       "        \"fill\": \"tozeroy\",\n",
       "        \"yaxis\": \"y1\",\n",
       "        \"x\": [\n",
       "            2291.92162,\n",
       "            2383.52162,\n",
       "            2383.52162,\n",
       "            2291.92162,\n",
       "            2291.92162\n",
       "        ],\n",
       "        \"showlegend\": false,\n",
       "        \"mode\": \"lines\",\n",
       "        \"fillcolor\": \"rgba(237, 94, 147, 0.500)\",\n",
       "        \"name\": \"\",\n",
       "        \"legendgroup\": \"\",\n",
       "        \"line\": {\n",
       "            \"color\": \"rgba(0, 0, 0, 0.500)\",\n",
       "            \"dash\": \"solid\",\n",
       "            \"width\": 1\n",
       "        },\n",
       "        \"y\": [\n",
       "            0.0,\n",
       "            0.0,\n",
       "            38.2733,\n",
       "            38.2733,\n",
       "            0.0\n",
       "        ],\n",
       "        \"type\": \"scatter\"\n",
       "    },\n",
       "    {\n",
       "        \"xaxis\": \"x1\",\n",
       "        \"fill\": \"tozeroy\",\n",
       "        \"yaxis\": \"y1\",\n",
       "        \"x\": [\n",
       "            2383.52162,\n",
       "            2431.62162,\n",
       "            2431.62162,\n",
       "            2383.52162,\n",
       "            2383.52162\n",
       "        ],\n",
       "        \"showlegend\": false,\n",
       "        \"mode\": \"lines\",\n",
       "        \"fillcolor\": \"rgba(198, 130, 37, 0.500)\",\n",
       "        \"name\": \"\",\n",
       "        \"legendgroup\": \"\",\n",
       "        \"line\": {\n",
       "            \"color\": \"rgba(0, 0, 0, 0.500)\",\n",
       "            \"dash\": \"solid\",\n",
       "            \"width\": 1\n",
       "        },\n",
       "        \"y\": [\n",
       "            0.0,\n",
       "            0.0,\n",
       "            39.172799999999995,\n",
       "            39.172799999999995,\n",
       "            0.0\n",
       "        ],\n",
       "        \"type\": \"scatter\"\n",
       "    },\n",
       "    {\n",
       "        \"xaxis\": \"x1\",\n",
       "        \"fill\": \"tozeroy\",\n",
       "        \"yaxis\": \"y1\",\n",
       "        \"x\": [\n",
       "            2431.62162,\n",
       "            2482.92162,\n",
       "            2482.92162,\n",
       "            2431.62162,\n",
       "            2431.62162\n",
       "        ],\n",
       "        \"showlegend\": false,\n",
       "        \"mode\": \"lines\",\n",
       "        \"fillcolor\": \"rgba(0, 169, 141, 0.500)\",\n",
       "        \"name\": \"\",\n",
       "        \"legendgroup\": \"\",\n",
       "        \"line\": {\n",
       "            \"color\": \"rgba(0, 0, 0, 0.500)\",\n",
       "            \"dash\": \"solid\",\n",
       "            \"width\": 1\n",
       "        },\n",
       "        \"y\": [\n",
       "            0.0,\n",
       "            0.0,\n",
       "            39.2756,\n",
       "            39.2756,\n",
       "            0.0\n",
       "        ],\n",
       "        \"type\": \"scatter\"\n",
       "    },\n",
       "    {\n",
       "        \"xaxis\": \"x1\",\n",
       "        \"fill\": \"tozeroy\",\n",
       "        \"yaxis\": \"y1\",\n",
       "        \"x\": [\n",
       "            2482.92162,\n",
       "            2534.2216200000003,\n",
       "            2534.2216200000003,\n",
       "            2482.92162,\n",
       "            2482.92162\n",
       "        ],\n",
       "        \"showlegend\": false,\n",
       "        \"mode\": \"lines\",\n",
       "        \"fillcolor\": \"rgba(142, 151, 30, 0.500)\",\n",
       "        \"name\": \"\",\n",
       "        \"legendgroup\": \"\",\n",
       "        \"line\": {\n",
       "            \"color\": \"rgba(0, 0, 0, 0.500)\",\n",
       "            \"dash\": \"solid\",\n",
       "            \"width\": 1\n",
       "        },\n",
       "        \"y\": [\n",
       "            0.0,\n",
       "            0.0,\n",
       "            39.3784,\n",
       "            39.3784,\n",
       "            0.0\n",
       "        ],\n",
       "        \"type\": \"scatter\"\n",
       "    },\n",
       "    {\n",
       "        \"xaxis\": \"x1\",\n",
       "        \"fill\": \"tozeroy\",\n",
       "        \"yaxis\": \"y1\",\n",
       "        \"x\": [\n",
       "            2534.2216200000003,\n",
       "            2632.42162,\n",
       "            2632.42162,\n",
       "            2534.2216200000003,\n",
       "            2534.2216200000003\n",
       "        ],\n",
       "        \"showlegend\": false,\n",
       "        \"mode\": \"lines\",\n",
       "        \"fillcolor\": \"rgba(0, 169, 204, 0.500)\",\n",
       "        \"name\": \"\",\n",
       "        \"legendgroup\": \"\",\n",
       "        \"line\": {\n",
       "            \"color\": \"rgba(0, 0, 0, 0.500)\",\n",
       "            \"dash\": \"solid\",\n",
       "            \"width\": 1\n",
       "        },\n",
       "        \"y\": [\n",
       "            0.0,\n",
       "            0.0,\n",
       "            39.4555,\n",
       "            39.4555,\n",
       "            0.0\n",
       "        ],\n",
       "        \"type\": \"scatter\"\n",
       "    },\n",
       "    {\n",
       "        \"xaxis\": \"x1\",\n",
       "        \"fill\": \"tozeroy\",\n",
       "        \"yaxis\": \"y1\",\n",
       "        \"x\": [\n",
       "            2632.42162,\n",
       "            2730.62162,\n",
       "            2730.62162,\n",
       "            2632.42162,\n",
       "            2632.42162\n",
       "        ],\n",
       "        \"showlegend\": false,\n",
       "        \"mode\": \"lines\",\n",
       "        \"fillcolor\": \"rgba(155, 127, 233, 0.500)\",\n",
       "        \"name\": \"\",\n",
       "        \"legendgroup\": \"\",\n",
       "        \"line\": {\n",
       "            \"color\": \"rgba(0, 0, 0, 0.500)\",\n",
       "            \"dash\": \"solid\",\n",
       "            \"width\": 1\n",
       "        },\n",
       "        \"y\": [\n",
       "            0.0,\n",
       "            0.0,\n",
       "            39.583999999999996,\n",
       "            39.583999999999996,\n",
       "            0.0\n",
       "        ],\n",
       "        \"type\": \"scatter\"\n",
       "    },\n",
       "    {\n",
       "        \"xaxis\": \"x1\",\n",
       "        \"fill\": \"tozeroy\",\n",
       "        \"yaxis\": \"y1\",\n",
       "        \"x\": [\n",
       "            2730.62162,\n",
       "            2779.52162,\n",
       "            2779.52162,\n",
       "            2730.62162,\n",
       "            2730.62162\n",
       "        ],\n",
       "        \"showlegend\": false,\n",
       "        \"mode\": \"lines\",\n",
       "        \"fillcolor\": \"rgba(97, 141, 246, 0.500)\",\n",
       "        \"name\": \"\",\n",
       "        \"legendgroup\": \"\",\n",
       "        \"line\": {\n",
       "            \"color\": \"rgba(0, 0, 0, 0.500)\",\n",
       "            \"dash\": \"solid\",\n",
       "            \"width\": 1\n",
       "        },\n",
       "        \"y\": [\n",
       "            0.0,\n",
       "            0.0,\n",
       "            39.635400000000004,\n",
       "            39.635400000000004,\n",
       "            0.0\n",
       "        ],\n",
       "        \"type\": \"scatter\"\n",
       "    },\n",
       "    {\n",
       "        \"xaxis\": \"x1\",\n",
       "        \"fill\": \"tozeroy\",\n",
       "        \"yaxis\": \"y1\",\n",
       "        \"x\": [\n",
       "            2779.52162,\n",
       "            2828.42162,\n",
       "            2828.42162,\n",
       "            2779.52162,\n",
       "            2779.52162\n",
       "        ],\n",
       "        \"showlegend\": false,\n",
       "        \"mode\": \"lines\",\n",
       "        \"fillcolor\": \"rgba(240, 96, 115, 0.500)\",\n",
       "        \"name\": \"\",\n",
       "        \"legendgroup\": \"\",\n",
       "        \"line\": {\n",
       "            \"color\": \"rgba(0, 0, 0, 0.500)\",\n",
       "            \"dash\": \"solid\",\n",
       "            \"width\": 1\n",
       "        },\n",
       "        \"y\": [\n",
       "            0.0,\n",
       "            0.0,\n",
       "            39.841,\n",
       "            39.841,\n",
       "            0.0\n",
       "        ],\n",
       "        \"type\": \"scatter\"\n",
       "    },\n",
       "    {\n",
       "        \"xaxis\": \"x1\",\n",
       "        \"fill\": \"tozeroy\",\n",
       "        \"yaxis\": \"y1\",\n",
       "        \"x\": [\n",
       "            2828.42162,\n",
       "            2877.12162,\n",
       "            2877.12162,\n",
       "            2828.42162,\n",
       "            2828.42162\n",
       "        ],\n",
       "        \"showlegend\": false,\n",
       "        \"mode\": \"lines\",\n",
       "        \"fillcolor\": \"rgba(221, 101, 182, 0.500)\",\n",
       "        \"name\": \"\",\n",
       "        \"legendgroup\": \"\",\n",
       "        \"line\": {\n",
       "            \"color\": \"rgba(0, 0, 0, 0.500)\",\n",
       "            \"dash\": \"solid\",\n",
       "            \"width\": 1\n",
       "        },\n",
       "        \"y\": [\n",
       "            0.0,\n",
       "            0.0,\n",
       "            40.2522,\n",
       "            40.2522,\n",
       "            0.0\n",
       "        ],\n",
       "        \"type\": \"scatter\"\n",
       "    },\n",
       "    {\n",
       "        \"xaxis\": \"x1\",\n",
       "        \"fill\": \"tozeroy\",\n",
       "        \"yaxis\": \"y1\",\n",
       "        \"x\": [\n",
       "            2877.12162,\n",
       "            2881.92162,\n",
       "            2881.92162,\n",
       "            2877.12162,\n",
       "            2877.12162\n",
       "        ],\n",
       "        \"showlegend\": false,\n",
       "        \"mode\": \"lines\",\n",
       "        \"fillcolor\": \"rgba(108, 159, 51, 0.500)\",\n",
       "        \"name\": \"\",\n",
       "        \"legendgroup\": \"\",\n",
       "        \"line\": {\n",
       "            \"color\": \"rgba(0, 0, 0, 0.500)\",\n",
       "            \"dash\": \"solid\",\n",
       "            \"width\": 1\n",
       "        },\n",
       "        \"y\": [\n",
       "            0.0,\n",
       "            0.0,\n",
       "            41.9741,\n",
       "            41.9741,\n",
       "            0.0\n",
       "        ],\n",
       "        \"type\": \"scatter\"\n",
       "    },\n",
       "    {\n",
       "        \"xaxis\": \"x1\",\n",
       "        \"fill\": \"tozeroy\",\n",
       "        \"yaxis\": \"y1\",\n",
       "        \"x\": [\n",
       "            2881.92162,\n",
       "            2899.2216200000003,\n",
       "            2899.2216200000003,\n",
       "            2881.92162,\n",
       "            2881.92162\n",
       "        ],\n",
       "        \"showlegend\": false,\n",
       "        \"mode\": \"lines\",\n",
       "        \"fillcolor\": \"rgba(0, 154, 250, 0.500)\",\n",
       "        \"name\": \"\",\n",
       "        \"legendgroup\": \"\",\n",
       "        \"line\": {\n",
       "            \"color\": \"rgba(0, 0, 0, 0.500)\",\n",
       "            \"dash\": \"solid\",\n",
       "            \"width\": 1\n",
       "        },\n",
       "        \"y\": [\n",
       "            0.0,\n",
       "            0.0,\n",
       "            45.674899999999994,\n",
       "            45.674899999999994,\n",
       "            0.0\n",
       "        ],\n",
       "        \"type\": \"scatter\"\n",
       "    },\n",
       "    {\n",
       "        \"xaxis\": \"x1\",\n",
       "        \"fill\": \"tozeroy\",\n",
       "        \"yaxis\": \"y1\",\n",
       "        \"x\": [\n",
       "            2899.2216200000003,\n",
       "            2933.82162,\n",
       "            2933.82162,\n",
       "            2899.2216200000003,\n",
       "            2899.2216200000003\n",
       "        ],\n",
       "        \"showlegend\": false,\n",
       "        \"mode\": \"lines\",\n",
       "        \"fillcolor\": \"rgba(227, 111, 71, 0.500)\",\n",
       "        \"name\": \"\",\n",
       "        \"legendgroup\": \"\",\n",
       "        \"line\": {\n",
       "            \"color\": \"rgba(0, 0, 0, 0.500)\",\n",
       "            \"dash\": \"solid\",\n",
       "            \"width\": 1\n",
       "        },\n",
       "        \"y\": [\n",
       "            0.0,\n",
       "            0.0,\n",
       "            54.1302,\n",
       "            54.1302,\n",
       "            0.0\n",
       "        ],\n",
       "        \"type\": \"scatter\"\n",
       "    },\n",
       "    {\n",
       "        \"xaxis\": \"x\",\n",
       "        \"colorbar\": {\n",
       "            \"y\": 0.5086805555555556,\n",
       "            \"title\": \"\",\n",
       "            \"len\": 0.8657316272965879,\n",
       "            \"x\": 0.9934383202099737\n",
       "        },\n",
       "        \"yaxis\": \"y\",\n",
       "        \"x\": [\n",
       "            460.968,\n",
       "            460.968\n",
       "        ],\n",
       "        \"showlegend\": true,\n",
       "        \"mode\": \"lines\",\n",
       "        \"name\": \"demand\",\n",
       "        \"legendgroup\": \"demand\",\n",
       "        \"line\": {\n",
       "            \"color\": \"rgba(0, 0, 0, 1.000)\",\n",
       "            \"shape\": \"linear\",\n",
       "            \"dash\": \"solid\",\n",
       "            \"width\": 5\n",
       "        },\n",
       "        \"y\": [\n",
       "            -5739.4251060000015,\n",
       "            5793.555306000002\n",
       "        ],\n",
       "        \"type\": \"scatter\"\n",
       "    },\n",
       "    {\n",
       "        \"xaxis\": \"x\",\n",
       "        \"colorbar\": {\n",
       "            \"y\": 0.5086805555555556,\n",
       "            \"title\": \"\",\n",
       "            \"len\": 0.8657316272965879,\n",
       "            \"x\": 0.9934383202099737\n",
       "        },\n",
       "        \"yaxis\": \"y\",\n",
       "        \"x\": [\n",
       "            -311073.10636860004,\n",
       "            314006.92798860004\n",
       "        ],\n",
       "        \"showlegend\": true,\n",
       "        \"mode\": \"lines\",\n",
       "        \"name\": \"SRMC\",\n",
       "        \"legendgroup\": \"SRMC\",\n",
       "        \"line\": {\n",
       "            \"color\": \"rgba(0, 0, 255, 1.000)\",\n",
       "            \"shape\": \"linear\",\n",
       "            \"dash\": \"solid\",\n",
       "            \"width\": 5\n",
       "        },\n",
       "        \"y\": [\n",
       "            21.775499999999997,\n",
       "            21.775499999999997\n",
       "        ],\n",
       "        \"type\": \"scatter\"\n",
       "    }\n",
       "]\n",
       ", {\n",
       "    \"showlegend\": true,\n",
       "    \"xaxis\": {\n",
       "        \"showticklabels\": true,\n",
       "        \"gridwidth\": 0.5,\n",
       "        \"tickvals\": [\n",
       "            0.0,\n",
       "            1000.0,\n",
       "            2000.0,\n",
       "            3000.0\n",
       "        ],\n",
       "        \"range\": [\n",
       "            -88.0146486000001,\n",
       "            3021.8362686\n",
       "        ],\n",
       "        \"domain\": [\n",
       "            0.061654272382618835,\n",
       "            0.9934383202099737\n",
       "        ],\n",
       "        \"mirror\": false,\n",
       "        \"tickangle\": 0,\n",
       "        \"showline\": true,\n",
       "        \"ticktext\": [\n",
       "            \"0\",\n",
       "            \"1000\",\n",
       "            \"2000\",\n",
       "            \"3000\"\n",
       "        ],\n",
       "        \"zeroline\": false,\n",
       "        \"tickfont\": {\n",
       "            \"color\": \"rgba(0, 0, 0, 1.000)\",\n",
       "            \"family\": \"sans-serif\",\n",
       "            \"size\": 11\n",
       "        },\n",
       "        \"zerolinecolor\": \"rgba(0, 0, 0, 1.000)\",\n",
       "        \"anchor\": \"y\",\n",
       "        \"visible\": true,\n",
       "        \"ticks\": \"inside\",\n",
       "        \"tickmode\": \"array\",\n",
       "        \"linecolor\": \"rgba(0, 0, 0, 1.000)\",\n",
       "        \"showgrid\": true,\n",
       "        \"title\": \"Capacity\",\n",
       "        \"gridcolor\": \"rgba(0, 0, 0, 0.100)\",\n",
       "        \"titlefont\": {\n",
       "            \"color\": \"rgba(0, 0, 0, 1.000)\",\n",
       "            \"family\": \"sans-serif\",\n",
       "            \"size\": 15\n",
       "        },\n",
       "        \"tickcolor\": \"rgb(0, 0, 0)\",\n",
       "        \"type\": \"-\"\n",
       "    },\n",
       "    \"paper_bgcolor\": \"rgba(255, 255, 255, 1.000)\",\n",
       "    \"annotations\": [\n",
       "        {\n",
       "            \"yanchor\": \"top\",\n",
       "            \"xanchor\": \"center\",\n",
       "            \"rotation\": -0.0,\n",
       "            \"y\": 1.0,\n",
       "            \"font\": {\n",
       "                \"color\": \"rgba(0, 0, 0, 1.000)\",\n",
       "                \"family\": \"sans-serif\",\n",
       "                \"size\": 20\n",
       "            },\n",
       "            \"yref\": \"paper\",\n",
       "            \"showarrow\": false,\n",
       "            \"text\": \"Supply and demand curves\",\n",
       "            \"xref\": \"paper\",\n",
       "            \"x\": 0.5275462962962963\n",
       "        }\n",
       "    ],\n",
       "    \"height\": 400,\n",
       "    \"margin\": {\n",
       "        \"l\": 0,\n",
       "        \"b\": 20,\n",
       "        \"r\": 0,\n",
       "        \"t\": 20\n",
       "    },\n",
       "    \"plot_bgcolor\": \"rgba(255, 255, 255, 1.000)\",\n",
       "    \"yaxis\": {\n",
       "        \"showticklabels\": true,\n",
       "        \"gridwidth\": 0.5,\n",
       "        \"tickvals\": [\n",
       "            0.0,\n",
       "            10.0,\n",
       "            20.0,\n",
       "            30.0,\n",
       "            40.0,\n",
       "            50.0\n",
       "        ],\n",
       "        \"range\": [\n",
       "            -1.6239060000000016,\n",
       "            55.75410600000001\n",
       "        ],\n",
       "        \"domain\": [\n",
       "            0.07581474190726165,\n",
       "            0.9415463692038496\n",
       "        ],\n",
       "        \"mirror\": false,\n",
       "        \"tickangle\": 0,\n",
       "        \"showline\": true,\n",
       "        \"ticktext\": [\n",
       "            \"0\",\n",
       "            \"10\",\n",
       "            \"20\",\n",
       "            \"30\",\n",
       "            \"40\",\n",
       "            \"50\"\n",
       "        ],\n",
       "        \"zeroline\": false,\n",
       "        \"tickfont\": {\n",
       "            \"color\": \"rgba(0, 0, 0, 1.000)\",\n",
       "            \"family\": \"sans-serif\",\n",
       "            \"size\": 11\n",
       "        },\n",
       "        \"zerolinecolor\": \"rgba(0, 0, 0, 1.000)\",\n",
       "        \"anchor\": \"x\",\n",
       "        \"visible\": true,\n",
       "        \"ticks\": \"inside\",\n",
       "        \"tickmode\": \"array\",\n",
       "        \"linecolor\": \"rgba(0, 0, 0, 1.000)\",\n",
       "        \"showgrid\": true,\n",
       "        \"title\": \"Marginal cost\",\n",
       "        \"gridcolor\": \"rgba(0, 0, 0, 0.100)\",\n",
       "        \"titlefont\": {\n",
       "            \"color\": \"rgba(0, 0, 0, 1.000)\",\n",
       "            \"family\": \"sans-serif\",\n",
       "            \"size\": 15\n",
       "        },\n",
       "        \"tickcolor\": \"rgb(0, 0, 0)\",\n",
       "        \"type\": \"-\"\n",
       "    },\n",
       "    \"legend\": {\n",
       "        \"yanchor\": \"auto\",\n",
       "        \"xanchor\": \"auto\",\n",
       "        \"bordercolor\": \"rgba(0, 0, 0, 1.000)\",\n",
       "        \"bgcolor\": \"rgba(255, 255, 255, 1.000)\",\n",
       "        \"borderwidth\": 1,\n",
       "        \"tracegroupgap\": 0,\n",
       "        \"y\": 1.0,\n",
       "        \"font\": {\n",
       "            \"color\": \"rgba(0, 0, 0, 1.000)\",\n",
       "            \"family\": \"sans-serif\",\n",
       "            \"size\": 11\n",
       "        },\n",
       "        \"title\": {\n",
       "            \"font\": {\n",
       "                \"color\": \"rgba(0, 0, 0, 1.000)\",\n",
       "                \"family\": \"sans-serif\",\n",
       "                \"size\": 15\n",
       "            },\n",
       "            \"text\": \"\"\n",
       "        },\n",
       "        \"traceorder\": \"normal\",\n",
       "        \"x\": 1.0\n",
       "    },\n",
       "    \"width\": 600\n",
       "}\n",
       ");\n",
       "    });\n",
       "    </script>\n"
      ]
     },
     "execution_count": 26,
     "metadata": {},
     "output_type": "execute_result"
    }
   ],
   "source": [
    "rectangle(w, h, x, y) = Shape(x .+ [0,w,w,0], y .+ [0,0,h,h])\n",
    "\n",
    "p = plot(nrow(supply_curve))\n",
    "\n",
    "marg_gen = 0\n",
    "marg_price = 0\n",
    "x = 0\n",
    "for i in 1:nrow(supply_curve)\n",
    "    plot!(p, rectangle(supply_curve[i,:cap],\n",
    "            supply_curve[i,:varcost],x,0), opacity=.5, \n",
    "            label = \"\")\n",
    "    if (x < loads_single[1,:demand]) && (x + supply_curve[i,:cap] > loads_single[1,:demand])\n",
    "        marg_gen = i\n",
    "        marg_price = supply_curve[i,:varcost]\n",
    "    end\n",
    "    x = x + supply_curve[i,:cap]\n",
    "end \n",
    "vline!([loads_single[1,:demand]],linecolor=\"black\",linewidth=5,\n",
    "label = \"demand\")\n",
    "hline!([marg_price],linecolor=\"blue\",linewidth=5,\n",
    "label = \"SRMC\")\n",
    "title!(\"Supply and demand curves\")\n",
    "xlabel!(\"Capacity\")\n",
    "ylabel!(\"Marginal cost\")     "
   ]
  },
  {
   "cell_type": "code",
   "execution_count": 27,
   "id": "75c75f04",
   "metadata": {},
   "outputs": [
    {
     "data": {
      "application/vnd.plotly.v1+json": {
       "data": [
        {
         "fill": "tozeroy",
         "fillcolor": "rgba(142, 151, 30, 0.500)",
         "legendgroup": "",
         "line": {
          "color": "rgba(0, 0, 0, 0.500)",
          "dash": "solid",
          "width": 1
         },
         "mode": "lines",
         "name": "",
         "showlegend": false,
         "type": "scatter",
         "x": [
          0,
          42,
          42,
          0,
          0
         ],
         "xaxis": "x1",
         "y": [
          0,
          0,
          0,
          0,
          0
         ],
         "yaxis": "y1"
        },
        {
         "fill": "tozeroy",
         "fillcolor": "rgba(0, 169, 204, 0.500)",
         "legendgroup": "",
         "line": {
          "color": "rgba(0, 0, 0, 0.500)",
          "dash": "solid",
          "width": 1
         },
         "mode": "lines",
         "name": "",
         "showlegend": false,
         "type": "scatter",
         "x": [
          42,
          193.79775999999998,
          193.79775999999998,
          42,
          42
         ],
         "xaxis": "x1",
         "y": [
          0,
          0,
          0,
          0,
          0
         ],
         "yaxis": "y1"
        },
        {
         "fill": "tozeroy",
         "fillcolor": "rgba(155, 127, 233, 0.500)",
         "legendgroup": "",
         "line": {
          "color": "rgba(0, 0, 0, 0.500)",
          "dash": "solid",
          "width": 1
         },
         "mode": "lines",
         "name": "",
         "showlegend": false,
         "type": "scatter",
         "x": [
          193.79775999999998,
          195.52161999999998,
          195.52161999999998,
          193.79775999999998,
          193.79775999999998
         ],
         "xaxis": "x1",
         "y": [
          0,
          0,
          0,
          0,
          0
         ],
         "yaxis": "y1"
        },
        {
         "fill": "tozeroy",
         "fillcolor": "rgba(97, 141, 246, 0.500)",
         "legendgroup": "",
         "line": {
          "color": "rgba(0, 0, 0, 0.500)",
          "dash": "solid",
          "width": 1
         },
         "mode": "lines",
         "name": "",
         "showlegend": false,
         "type": "scatter",
         "x": [
          195.52161999999998,
          195.52161999999998,
          195.52161999999998,
          195.52161999999998,
          195.52161999999998
         ],
         "xaxis": "x1",
         "y": [
          0,
          0,
          0,
          0,
          0
         ],
         "yaxis": "y1"
        },
        {
         "fill": "tozeroy",
         "fillcolor": "rgba(240, 96, 115, 0.500)",
         "legendgroup": "",
         "line": {
          "color": "rgba(0, 0, 0, 0.500)",
          "dash": "solid",
          "width": 1
         },
         "mode": "lines",
         "name": "",
         "showlegend": false,
         "type": "scatter",
         "x": [
          195.52161999999998,
          216.92162,
          216.92162,
          195.52161999999998,
          195.52161999999998
         ],
         "xaxis": "x1",
         "y": [
          0,
          0,
          5.234,
          5.234,
          0
         ],
         "yaxis": "y1"
        },
        {
         "fill": "tozeroy",
         "fillcolor": "rgba(221, 101, 182, 0.500)",
         "legendgroup": "",
         "line": {
          "color": "rgba(0, 0, 0, 0.500)",
          "dash": "solid",
          "width": 1
         },
         "mode": "lines",
         "name": "",
         "showlegend": false,
         "type": "scatter",
         "x": [
          216.92162,
          786.92162,
          786.92162,
          216.92162,
          216.92162
         ],
         "xaxis": "x1",
         "y": [
          0,
          0,
          21.775499999999997,
          21.775499999999997,
          0
         ],
         "yaxis": "y1"
        },
        {
         "fill": "tozeroy",
         "fillcolor": "rgba(108, 159, 51, 0.500)",
         "legendgroup": "",
         "line": {
          "color": "rgba(0, 0, 0, 0.500)",
          "dash": "solid",
          "width": 1
         },
         "mode": "lines",
         "name": "",
         "showlegend": false,
         "type": "scatter",
         "x": [
          786.92162,
          1394.02162,
          1394.02162,
          786.92162,
          786.92162
         ],
         "xaxis": "x1",
         "y": [
          0,
          0,
          22.726399999999995,
          22.726399999999995,
          0
         ],
         "yaxis": "y1"
        },
        {
         "fill": "tozeroy",
         "fillcolor": "rgba(0, 154, 250, 0.500)",
         "legendgroup": "",
         "line": {
          "color": "rgba(0, 0, 0, 0.500)",
          "dash": "solid",
          "width": 1
         },
         "mode": "lines",
         "name": "",
         "showlegend": false,
         "type": "scatter",
         "x": [
          1394.02162,
          1443.42162,
          1443.42162,
          1394.02162,
          1394.02162
         ],
         "xaxis": "x1",
         "y": [
          0,
          0,
          29.3061,
          29.3061,
          0
         ],
         "yaxis": "y1"
        },
        {
         "fill": "tozeroy",
         "fillcolor": "rgba(227, 111, 71, 0.500)",
         "legendgroup": "",
         "line": {
          "color": "rgba(0, 0, 0, 0.500)",
          "dash": "solid",
          "width": 1
         },
         "mode": "lines",
         "name": "",
         "showlegend": false,
         "type": "scatter",
         "x": [
          1443.42162,
          1473.42162,
          1473.42162,
          1443.42162,
          1443.42162
         ],
         "xaxis": "x1",
         "y": [
          0,
          0,
          30.128500000000003,
          30.128500000000003,
          0
         ],
         "yaxis": "y1"
        },
        {
         "fill": "tozeroy",
         "fillcolor": "rgba(62, 164, 78, 0.500)",
         "legendgroup": "",
         "line": {
          "color": "rgba(0, 0, 0, 0.500)",
          "dash": "solid",
          "width": 1
         },
         "mode": "lines",
         "name": "",
         "showlegend": false,
         "type": "scatter",
         "x": [
          1473.42162,
          1809.42162,
          1809.42162,
          1473.42162,
          1473.42162
         ],
         "xaxis": "x1",
         "y": [
          0,
          0,
          36.5771,
          36.5771,
          0
         ],
         "yaxis": "y1"
        },
        {
         "fill": "tozeroy",
         "fillcolor": "rgba(195, 113, 210, 0.500)",
         "legendgroup": "",
         "line": {
          "color": "rgba(0, 0, 0, 0.500)",
          "dash": "solid",
          "width": 1
         },
         "mode": "lines",
         "name": "",
         "showlegend": false,
         "type": "scatter",
         "x": [
          1809.42162,
          2145.42162,
          2145.42162,
          1809.42162,
          1809.42162
         ],
         "xaxis": "x1",
         "y": [
          0,
          0,
          36.757,
          36.757,
          0
         ],
         "yaxis": "y1"
        },
        {
         "fill": "tozeroy",
         "fillcolor": "rgba(172, 142, 24, 0.500)",
         "legendgroup": "",
         "line": {
          "color": "rgba(0, 0, 0, 0.500)",
          "dash": "solid",
          "width": 1
         },
         "mode": "lines",
         "name": "",
         "showlegend": false,
         "type": "scatter",
         "x": [
          2145.42162,
          2195.32162,
          2195.32162,
          2145.42162,
          2145.42162
         ],
         "xaxis": "x1",
         "y": [
          0,
          0,
          37.733599999999996,
          37.733599999999996,
          0
         ],
         "yaxis": "y1"
        },
        {
         "fill": "tozeroy",
         "fillcolor": "rgba(0, 170, 174, 0.500)",
         "legendgroup": "",
         "line": {
          "color": "rgba(0, 0, 0, 0.500)",
          "dash": "solid",
          "width": 1
         },
         "mode": "lines",
         "name": "",
         "showlegend": false,
         "type": "scatter",
         "x": [
          2195.32162,
          2291.92162,
          2291.92162,
          2195.32162,
          2195.32162
         ],
         "xaxis": "x1",
         "y": [
          0,
          0,
          37.785,
          37.785,
          0
         ],
         "yaxis": "y1"
        },
        {
         "fill": "tozeroy",
         "fillcolor": "rgba(237, 94, 147, 0.500)",
         "legendgroup": "",
         "line": {
          "color": "rgba(0, 0, 0, 0.500)",
          "dash": "solid",
          "width": 1
         },
         "mode": "lines",
         "name": "",
         "showlegend": false,
         "type": "scatter",
         "x": [
          2291.92162,
          2383.52162,
          2383.52162,
          2291.92162,
          2291.92162
         ],
         "xaxis": "x1",
         "y": [
          0,
          0,
          38.2733,
          38.2733,
          0
         ],
         "yaxis": "y1"
        },
        {
         "fill": "tozeroy",
         "fillcolor": "rgba(198, 130, 37, 0.500)",
         "legendgroup": "",
         "line": {
          "color": "rgba(0, 0, 0, 0.500)",
          "dash": "solid",
          "width": 1
         },
         "mode": "lines",
         "name": "",
         "showlegend": false,
         "type": "scatter",
         "x": [
          2383.52162,
          2431.62162,
          2431.62162,
          2383.52162,
          2383.52162
         ],
         "xaxis": "x1",
         "y": [
          0,
          0,
          39.172799999999995,
          39.172799999999995,
          0
         ],
         "yaxis": "y1"
        },
        {
         "fill": "tozeroy",
         "fillcolor": "rgba(0, 169, 141, 0.500)",
         "legendgroup": "",
         "line": {
          "color": "rgba(0, 0, 0, 0.500)",
          "dash": "solid",
          "width": 1
         },
         "mode": "lines",
         "name": "",
         "showlegend": false,
         "type": "scatter",
         "x": [
          2431.62162,
          2482.92162,
          2482.92162,
          2431.62162,
          2431.62162
         ],
         "xaxis": "x1",
         "y": [
          0,
          0,
          39.2756,
          39.2756,
          0
         ],
         "yaxis": "y1"
        },
        {
         "fill": "tozeroy",
         "fillcolor": "rgba(142, 151, 30, 0.500)",
         "legendgroup": "",
         "line": {
          "color": "rgba(0, 0, 0, 0.500)",
          "dash": "solid",
          "width": 1
         },
         "mode": "lines",
         "name": "",
         "showlegend": false,
         "type": "scatter",
         "x": [
          2482.92162,
          2534.2216200000003,
          2534.2216200000003,
          2482.92162,
          2482.92162
         ],
         "xaxis": "x1",
         "y": [
          0,
          0,
          39.3784,
          39.3784,
          0
         ],
         "yaxis": "y1"
        },
        {
         "fill": "tozeroy",
         "fillcolor": "rgba(0, 169, 204, 0.500)",
         "legendgroup": "",
         "line": {
          "color": "rgba(0, 0, 0, 0.500)",
          "dash": "solid",
          "width": 1
         },
         "mode": "lines",
         "name": "",
         "showlegend": false,
         "type": "scatter",
         "x": [
          2534.2216200000003,
          2632.42162,
          2632.42162,
          2534.2216200000003,
          2534.2216200000003
         ],
         "xaxis": "x1",
         "y": [
          0,
          0,
          39.4555,
          39.4555,
          0
         ],
         "yaxis": "y1"
        },
        {
         "fill": "tozeroy",
         "fillcolor": "rgba(155, 127, 233, 0.500)",
         "legendgroup": "",
         "line": {
          "color": "rgba(0, 0, 0, 0.500)",
          "dash": "solid",
          "width": 1
         },
         "mode": "lines",
         "name": "",
         "showlegend": false,
         "type": "scatter",
         "x": [
          2632.42162,
          2730.62162,
          2730.62162,
          2632.42162,
          2632.42162
         ],
         "xaxis": "x1",
         "y": [
          0,
          0,
          39.583999999999996,
          39.583999999999996,
          0
         ],
         "yaxis": "y1"
        },
        {
         "fill": "tozeroy",
         "fillcolor": "rgba(97, 141, 246, 0.500)",
         "legendgroup": "",
         "line": {
          "color": "rgba(0, 0, 0, 0.500)",
          "dash": "solid",
          "width": 1
         },
         "mode": "lines",
         "name": "",
         "showlegend": false,
         "type": "scatter",
         "x": [
          2730.62162,
          2779.52162,
          2779.52162,
          2730.62162,
          2730.62162
         ],
         "xaxis": "x1",
         "y": [
          0,
          0,
          39.635400000000004,
          39.635400000000004,
          0
         ],
         "yaxis": "y1"
        },
        {
         "fill": "tozeroy",
         "fillcolor": "rgba(240, 96, 115, 0.500)",
         "legendgroup": "",
         "line": {
          "color": "rgba(0, 0, 0, 0.500)",
          "dash": "solid",
          "width": 1
         },
         "mode": "lines",
         "name": "",
         "showlegend": false,
         "type": "scatter",
         "x": [
          2779.52162,
          2828.42162,
          2828.42162,
          2779.52162,
          2779.52162
         ],
         "xaxis": "x1",
         "y": [
          0,
          0,
          39.841,
          39.841,
          0
         ],
         "yaxis": "y1"
        },
        {
         "fill": "tozeroy",
         "fillcolor": "rgba(221, 101, 182, 0.500)",
         "legendgroup": "",
         "line": {
          "color": "rgba(0, 0, 0, 0.500)",
          "dash": "solid",
          "width": 1
         },
         "mode": "lines",
         "name": "",
         "showlegend": false,
         "type": "scatter",
         "x": [
          2828.42162,
          2877.12162,
          2877.12162,
          2828.42162,
          2828.42162
         ],
         "xaxis": "x1",
         "y": [
          0,
          0,
          40.2522,
          40.2522,
          0
         ],
         "yaxis": "y1"
        },
        {
         "fill": "tozeroy",
         "fillcolor": "rgba(108, 159, 51, 0.500)",
         "legendgroup": "",
         "line": {
          "color": "rgba(0, 0, 0, 0.500)",
          "dash": "solid",
          "width": 1
         },
         "mode": "lines",
         "name": "",
         "showlegend": false,
         "type": "scatter",
         "x": [
          2877.12162,
          2881.92162,
          2881.92162,
          2877.12162,
          2877.12162
         ],
         "xaxis": "x1",
         "y": [
          0,
          0,
          41.9741,
          41.9741,
          0
         ],
         "yaxis": "y1"
        },
        {
         "fill": "tozeroy",
         "fillcolor": "rgba(0, 154, 250, 0.500)",
         "legendgroup": "",
         "line": {
          "color": "rgba(0, 0, 0, 0.500)",
          "dash": "solid",
          "width": 1
         },
         "mode": "lines",
         "name": "",
         "showlegend": false,
         "type": "scatter",
         "x": [
          2881.92162,
          2899.2216200000003,
          2899.2216200000003,
          2881.92162,
          2881.92162
         ],
         "xaxis": "x1",
         "y": [
          0,
          0,
          45.674899999999994,
          45.674899999999994,
          0
         ],
         "yaxis": "y1"
        },
        {
         "fill": "tozeroy",
         "fillcolor": "rgba(227, 111, 71, 0.500)",
         "legendgroup": "",
         "line": {
          "color": "rgba(0, 0, 0, 0.500)",
          "dash": "solid",
          "width": 1
         },
         "mode": "lines",
         "name": "",
         "showlegend": false,
         "type": "scatter",
         "x": [
          2899.2216200000003,
          2933.82162,
          2933.82162,
          2899.2216200000003,
          2899.2216200000003
         ],
         "xaxis": "x1",
         "y": [
          0,
          0,
          54.1302,
          54.1302,
          0
         ],
         "yaxis": "y1"
        },
        {
         "colorbar": {
          "len": 0.8657316272965879,
          "title": "",
          "x": 0.9934383202099737,
          "y": 0.5086805555555556
         },
         "legendgroup": "demand",
         "line": {
          "color": "rgba(0, 0, 0, 1.000)",
          "dash": "solid",
          "shape": "linear",
          "width": 5
         },
         "mode": "lines",
         "name": "demand",
         "showlegend": true,
         "type": "scatter",
         "x": [
          460.968,
          460.968
         ],
         "xaxis": "x",
         "y": [
          -5739.4251060000015,
          5793.555306000002
         ],
         "yaxis": "y"
        },
        {
         "colorbar": {
          "len": 0.8657316272965879,
          "title": "",
          "x": 0.9934383202099737,
          "y": 0.5086805555555556
         },
         "legendgroup": "SRMC",
         "line": {
          "color": "rgba(0, 0, 255, 1.000)",
          "dash": "solid",
          "shape": "linear",
          "width": 5
         },
         "mode": "lines",
         "name": "SRMC",
         "showlegend": true,
         "type": "scatter",
         "x": [
          -311073.10636860004,
          314006.92798860004
         ],
         "xaxis": "x",
         "y": [
          21.775499999999997,
          21.775499999999997
         ],
         "yaxis": "y"
        }
       ],
       "layout": {
        "annotations": [
         {
          "font": {
           "color": "rgba(0, 0, 0, 1.000)",
           "family": "sans-serif",
           "size": 20
          },
          "rotation": 0,
          "showarrow": false,
          "text": "Supply and demand curves",
          "x": 0.5275462962962963,
          "xanchor": "center",
          "xref": "paper",
          "y": 1,
          "yanchor": "top",
          "yref": "paper"
         }
        ],
        "height": 400,
        "legend": {
         "bgcolor": "rgba(255, 255, 255, 1.000)",
         "bordercolor": "rgba(0, 0, 0, 1.000)",
         "borderwidth": 1,
         "font": {
          "color": "rgba(0, 0, 0, 1.000)",
          "family": "sans-serif",
          "size": 11
         },
         "title": {
          "font": {
           "color": "rgba(0, 0, 0, 1.000)",
           "family": "sans-serif",
           "size": 15
          },
          "text": ""
         },
         "tracegroupgap": 0,
         "traceorder": "normal",
         "x": 1,
         "xanchor": "auto",
         "y": 1,
         "yanchor": "auto"
        },
        "margin": {
         "b": 20,
         "l": 0,
         "r": 0,
         "t": 20
        },
        "paper_bgcolor": "rgba(255, 255, 255, 1.000)",
        "plot_bgcolor": "rgba(255, 255, 255, 1.000)",
        "showlegend": true,
        "width": 600,
        "xaxis": {
         "anchor": "y",
         "domain": [
          0.061654272382618835,
          0.9934383202099737
         ],
         "gridcolor": "rgba(0, 0, 0, 0.100)",
         "gridwidth": 0.5,
         "linecolor": "rgba(0, 0, 0, 1.000)",
         "mirror": false,
         "range": [
          -88.0146486000001,
          3021.8362686
         ],
         "showgrid": true,
         "showline": true,
         "showticklabels": true,
         "tickangle": 0,
         "tickcolor": "rgb(0, 0, 0)",
         "tickfont": {
          "color": "rgba(0, 0, 0, 1.000)",
          "family": "sans-serif",
          "size": 11
         },
         "tickmode": "array",
         "ticks": "inside",
         "ticktext": [
          "0",
          "1000",
          "2000",
          "3000"
         ],
         "tickvals": [
          0,
          1000,
          2000,
          3000
         ],
         "title": "Capacity",
         "titlefont": {
          "color": "rgba(0, 0, 0, 1.000)",
          "family": "sans-serif",
          "size": 15
         },
         "type": "-",
         "visible": true,
         "zeroline": false,
         "zerolinecolor": "rgba(0, 0, 0, 1.000)"
        },
        "yaxis": {
         "anchor": "x",
         "domain": [
          0.07581474190726165,
          0.9415463692038496
         ],
         "gridcolor": "rgba(0, 0, 0, 0.100)",
         "gridwidth": 0.5,
         "linecolor": "rgba(0, 0, 0, 1.000)",
         "mirror": false,
         "range": [
          -1.6239060000000016,
          55.75410600000001
         ],
         "showgrid": true,
         "showline": true,
         "showticklabels": true,
         "tickangle": 0,
         "tickcolor": "rgb(0, 0, 0)",
         "tickfont": {
          "color": "rgba(0, 0, 0, 1.000)",
          "family": "sans-serif",
          "size": 11
         },
         "tickmode": "array",
         "ticks": "inside",
         "ticktext": [
          "0",
          "10",
          "20",
          "30",
          "40",
          "50"
         ],
         "tickvals": [
          0,
          10,
          20,
          30,
          40,
          50
         ],
         "title": "Marginal cost",
         "titlefont": {
          "color": "rgba(0, 0, 0, 1.000)",
          "family": "sans-serif",
          "size": 15
         },
         "type": "-",
         "visible": true,
         "zeroline": false,
         "zerolinecolor": "rgba(0, 0, 0, 1.000)"
        }
       }
      },
      "text/html": [
       "    <div id=\"f68e7250-c561-4877-bdc7-80a6f70a47e7\" style=\"width:600px;height:400px;\"></div>\n",
       "    <script>\n",
       "        requirejs.config({\n",
       "        paths: {\n",
       "            plotly: 'https://cdn.plot.ly/plotly-2.6.3.min'\n",
       "        }\n",
       "    });\n",
       "    require(['plotly'], function (Plotly) {\n",
       "\n",
       "    Plotly.newPlot('f68e7250-c561-4877-bdc7-80a6f70a47e7', [\n",
       "    {\n",
       "        \"xaxis\": \"x1\",\n",
       "        \"fill\": \"tozeroy\",\n",
       "        \"yaxis\": \"y1\",\n",
       "        \"x\": [\n",
       "            0.0,\n",
       "            42.0,\n",
       "            42.0,\n",
       "            0.0,\n",
       "            0.0\n",
       "        ],\n",
       "        \"showlegend\": false,\n",
       "        \"mode\": \"lines\",\n",
       "        \"fillcolor\": \"rgba(142, 151, 30, 0.500)\",\n",
       "        \"name\": \"\",\n",
       "        \"legendgroup\": \"\",\n",
       "        \"line\": {\n",
       "            \"color\": \"rgba(0, 0, 0, 0.500)\",\n",
       "            \"dash\": \"solid\",\n",
       "            \"width\": 1\n",
       "        },\n",
       "        \"y\": [\n",
       "            0.0,\n",
       "            0.0,\n",
       "            0.0,\n",
       "            0.0,\n",
       "            0.0\n",
       "        ],\n",
       "        \"type\": \"scatter\"\n",
       "    },\n",
       "    {\n",
       "        \"xaxis\": \"x1\",\n",
       "        \"fill\": \"tozeroy\",\n",
       "        \"yaxis\": \"y1\",\n",
       "        \"x\": [\n",
       "            42.0,\n",
       "            193.79775999999998,\n",
       "            193.79775999999998,\n",
       "            42.0,\n",
       "            42.0\n",
       "        ],\n",
       "        \"showlegend\": false,\n",
       "        \"mode\": \"lines\",\n",
       "        \"fillcolor\": \"rgba(0, 169, 204, 0.500)\",\n",
       "        \"name\": \"\",\n",
       "        \"legendgroup\": \"\",\n",
       "        \"line\": {\n",
       "            \"color\": \"rgba(0, 0, 0, 0.500)\",\n",
       "            \"dash\": \"solid\",\n",
       "            \"width\": 1\n",
       "        },\n",
       "        \"y\": [\n",
       "            0.0,\n",
       "            0.0,\n",
       "            0.0,\n",
       "            0.0,\n",
       "            0.0\n",
       "        ],\n",
       "        \"type\": \"scatter\"\n",
       "    },\n",
       "    {\n",
       "        \"xaxis\": \"x1\",\n",
       "        \"fill\": \"tozeroy\",\n",
       "        \"yaxis\": \"y1\",\n",
       "        \"x\": [\n",
       "            193.79775999999998,\n",
       "            195.52161999999998,\n",
       "            195.52161999999998,\n",
       "            193.79775999999998,\n",
       "            193.79775999999998\n",
       "        ],\n",
       "        \"showlegend\": false,\n",
       "        \"mode\": \"lines\",\n",
       "        \"fillcolor\": \"rgba(155, 127, 233, 0.500)\",\n",
       "        \"name\": \"\",\n",
       "        \"legendgroup\": \"\",\n",
       "        \"line\": {\n",
       "            \"color\": \"rgba(0, 0, 0, 0.500)\",\n",
       "            \"dash\": \"solid\",\n",
       "            \"width\": 1\n",
       "        },\n",
       "        \"y\": [\n",
       "            0.0,\n",
       "            0.0,\n",
       "            0.0,\n",
       "            0.0,\n",
       "            0.0\n",
       "        ],\n",
       "        \"type\": \"scatter\"\n",
       "    },\n",
       "    {\n",
       "        \"xaxis\": \"x1\",\n",
       "        \"fill\": \"tozeroy\",\n",
       "        \"yaxis\": \"y1\",\n",
       "        \"x\": [\n",
       "            195.52161999999998,\n",
       "            195.52161999999998,\n",
       "            195.52161999999998,\n",
       "            195.52161999999998,\n",
       "            195.52161999999998\n",
       "        ],\n",
       "        \"showlegend\": false,\n",
       "        \"mode\": \"lines\",\n",
       "        \"fillcolor\": \"rgba(97, 141, 246, 0.500)\",\n",
       "        \"name\": \"\",\n",
       "        \"legendgroup\": \"\",\n",
       "        \"line\": {\n",
       "            \"color\": \"rgba(0, 0, 0, 0.500)\",\n",
       "            \"dash\": \"solid\",\n",
       "            \"width\": 1\n",
       "        },\n",
       "        \"y\": [\n",
       "            0.0,\n",
       "            0.0,\n",
       "            0.0,\n",
       "            0.0,\n",
       "            0.0\n",
       "        ],\n",
       "        \"type\": \"scatter\"\n",
       "    },\n",
       "    {\n",
       "        \"xaxis\": \"x1\",\n",
       "        \"fill\": \"tozeroy\",\n",
       "        \"yaxis\": \"y1\",\n",
       "        \"x\": [\n",
       "            195.52161999999998,\n",
       "            216.92162,\n",
       "            216.92162,\n",
       "            195.52161999999998,\n",
       "            195.52161999999998\n",
       "        ],\n",
       "        \"showlegend\": false,\n",
       "        \"mode\": \"lines\",\n",
       "        \"fillcolor\": \"rgba(240, 96, 115, 0.500)\",\n",
       "        \"name\": \"\",\n",
       "        \"legendgroup\": \"\",\n",
       "        \"line\": {\n",
       "            \"color\": \"rgba(0, 0, 0, 0.500)\",\n",
       "            \"dash\": \"solid\",\n",
       "            \"width\": 1\n",
       "        },\n",
       "        \"y\": [\n",
       "            0.0,\n",
       "            0.0,\n",
       "            5.234,\n",
       "            5.234,\n",
       "            0.0\n",
       "        ],\n",
       "        \"type\": \"scatter\"\n",
       "    },\n",
       "    {\n",
       "        \"xaxis\": \"x1\",\n",
       "        \"fill\": \"tozeroy\",\n",
       "        \"yaxis\": \"y1\",\n",
       "        \"x\": [\n",
       "            216.92162,\n",
       "            786.92162,\n",
       "            786.92162,\n",
       "            216.92162,\n",
       "            216.92162\n",
       "        ],\n",
       "        \"showlegend\": false,\n",
       "        \"mode\": \"lines\",\n",
       "        \"fillcolor\": \"rgba(221, 101, 182, 0.500)\",\n",
       "        \"name\": \"\",\n",
       "        \"legendgroup\": \"\",\n",
       "        \"line\": {\n",
       "            \"color\": \"rgba(0, 0, 0, 0.500)\",\n",
       "            \"dash\": \"solid\",\n",
       "            \"width\": 1\n",
       "        },\n",
       "        \"y\": [\n",
       "            0.0,\n",
       "            0.0,\n",
       "            21.775499999999997,\n",
       "            21.775499999999997,\n",
       "            0.0\n",
       "        ],\n",
       "        \"type\": \"scatter\"\n",
       "    },\n",
       "    {\n",
       "        \"xaxis\": \"x1\",\n",
       "        \"fill\": \"tozeroy\",\n",
       "        \"yaxis\": \"y1\",\n",
       "        \"x\": [\n",
       "            786.92162,\n",
       "            1394.02162,\n",
       "            1394.02162,\n",
       "            786.92162,\n",
       "            786.92162\n",
       "        ],\n",
       "        \"showlegend\": false,\n",
       "        \"mode\": \"lines\",\n",
       "        \"fillcolor\": \"rgba(108, 159, 51, 0.500)\",\n",
       "        \"name\": \"\",\n",
       "        \"legendgroup\": \"\",\n",
       "        \"line\": {\n",
       "            \"color\": \"rgba(0, 0, 0, 0.500)\",\n",
       "            \"dash\": \"solid\",\n",
       "            \"width\": 1\n",
       "        },\n",
       "        \"y\": [\n",
       "            0.0,\n",
       "            0.0,\n",
       "            22.726399999999995,\n",
       "            22.726399999999995,\n",
       "            0.0\n",
       "        ],\n",
       "        \"type\": \"scatter\"\n",
       "    },\n",
       "    {\n",
       "        \"xaxis\": \"x1\",\n",
       "        \"fill\": \"tozeroy\",\n",
       "        \"yaxis\": \"y1\",\n",
       "        \"x\": [\n",
       "            1394.02162,\n",
       "            1443.42162,\n",
       "            1443.42162,\n",
       "            1394.02162,\n",
       "            1394.02162\n",
       "        ],\n",
       "        \"showlegend\": false,\n",
       "        \"mode\": \"lines\",\n",
       "        \"fillcolor\": \"rgba(0, 154, 250, 0.500)\",\n",
       "        \"name\": \"\",\n",
       "        \"legendgroup\": \"\",\n",
       "        \"line\": {\n",
       "            \"color\": \"rgba(0, 0, 0, 0.500)\",\n",
       "            \"dash\": \"solid\",\n",
       "            \"width\": 1\n",
       "        },\n",
       "        \"y\": [\n",
       "            0.0,\n",
       "            0.0,\n",
       "            29.3061,\n",
       "            29.3061,\n",
       "            0.0\n",
       "        ],\n",
       "        \"type\": \"scatter\"\n",
       "    },\n",
       "    {\n",
       "        \"xaxis\": \"x1\",\n",
       "        \"fill\": \"tozeroy\",\n",
       "        \"yaxis\": \"y1\",\n",
       "        \"x\": [\n",
       "            1443.42162,\n",
       "            1473.42162,\n",
       "            1473.42162,\n",
       "            1443.42162,\n",
       "            1443.42162\n",
       "        ],\n",
       "        \"showlegend\": false,\n",
       "        \"mode\": \"lines\",\n",
       "        \"fillcolor\": \"rgba(227, 111, 71, 0.500)\",\n",
       "        \"name\": \"\",\n",
       "        \"legendgroup\": \"\",\n",
       "        \"line\": {\n",
       "            \"color\": \"rgba(0, 0, 0, 0.500)\",\n",
       "            \"dash\": \"solid\",\n",
       "            \"width\": 1\n",
       "        },\n",
       "        \"y\": [\n",
       "            0.0,\n",
       "            0.0,\n",
       "            30.128500000000003,\n",
       "            30.128500000000003,\n",
       "            0.0\n",
       "        ],\n",
       "        \"type\": \"scatter\"\n",
       "    },\n",
       "    {\n",
       "        \"xaxis\": \"x1\",\n",
       "        \"fill\": \"tozeroy\",\n",
       "        \"yaxis\": \"y1\",\n",
       "        \"x\": [\n",
       "            1473.42162,\n",
       "            1809.42162,\n",
       "            1809.42162,\n",
       "            1473.42162,\n",
       "            1473.42162\n",
       "        ],\n",
       "        \"showlegend\": false,\n",
       "        \"mode\": \"lines\",\n",
       "        \"fillcolor\": \"rgba(62, 164, 78, 0.500)\",\n",
       "        \"name\": \"\",\n",
       "        \"legendgroup\": \"\",\n",
       "        \"line\": {\n",
       "            \"color\": \"rgba(0, 0, 0, 0.500)\",\n",
       "            \"dash\": \"solid\",\n",
       "            \"width\": 1\n",
       "        },\n",
       "        \"y\": [\n",
       "            0.0,\n",
       "            0.0,\n",
       "            36.5771,\n",
       "            36.5771,\n",
       "            0.0\n",
       "        ],\n",
       "        \"type\": \"scatter\"\n",
       "    },\n",
       "    {\n",
       "        \"xaxis\": \"x1\",\n",
       "        \"fill\": \"tozeroy\",\n",
       "        \"yaxis\": \"y1\",\n",
       "        \"x\": [\n",
       "            1809.42162,\n",
       "            2145.42162,\n",
       "            2145.42162,\n",
       "            1809.42162,\n",
       "            1809.42162\n",
       "        ],\n",
       "        \"showlegend\": false,\n",
       "        \"mode\": \"lines\",\n",
       "        \"fillcolor\": \"rgba(195, 113, 210, 0.500)\",\n",
       "        \"name\": \"\",\n",
       "        \"legendgroup\": \"\",\n",
       "        \"line\": {\n",
       "            \"color\": \"rgba(0, 0, 0, 0.500)\",\n",
       "            \"dash\": \"solid\",\n",
       "            \"width\": 1\n",
       "        },\n",
       "        \"y\": [\n",
       "            0.0,\n",
       "            0.0,\n",
       "            36.757,\n",
       "            36.757,\n",
       "            0.0\n",
       "        ],\n",
       "        \"type\": \"scatter\"\n",
       "    },\n",
       "    {\n",
       "        \"xaxis\": \"x1\",\n",
       "        \"fill\": \"tozeroy\",\n",
       "        \"yaxis\": \"y1\",\n",
       "        \"x\": [\n",
       "            2145.42162,\n",
       "            2195.32162,\n",
       "            2195.32162,\n",
       "            2145.42162,\n",
       "            2145.42162\n",
       "        ],\n",
       "        \"showlegend\": false,\n",
       "        \"mode\": \"lines\",\n",
       "        \"fillcolor\": \"rgba(172, 142, 24, 0.500)\",\n",
       "        \"name\": \"\",\n",
       "        \"legendgroup\": \"\",\n",
       "        \"line\": {\n",
       "            \"color\": \"rgba(0, 0, 0, 0.500)\",\n",
       "            \"dash\": \"solid\",\n",
       "            \"width\": 1\n",
       "        },\n",
       "        \"y\": [\n",
       "            0.0,\n",
       "            0.0,\n",
       "            37.733599999999996,\n",
       "            37.733599999999996,\n",
       "            0.0\n",
       "        ],\n",
       "        \"type\": \"scatter\"\n",
       "    },\n",
       "    {\n",
       "        \"xaxis\": \"x1\",\n",
       "        \"fill\": \"tozeroy\",\n",
       "        \"yaxis\": \"y1\",\n",
       "        \"x\": [\n",
       "            2195.32162,\n",
       "            2291.92162,\n",
       "            2291.92162,\n",
       "            2195.32162,\n",
       "            2195.32162\n",
       "        ],\n",
       "        \"showlegend\": false,\n",
       "        \"mode\": \"lines\",\n",
       "        \"fillcolor\": \"rgba(0, 170, 174, 0.500)\",\n",
       "        \"name\": \"\",\n",
       "        \"legendgroup\": \"\",\n",
       "        \"line\": {\n",
       "            \"color\": \"rgba(0, 0, 0, 0.500)\",\n",
       "            \"dash\": \"solid\",\n",
       "            \"width\": 1\n",
       "        },\n",
       "        \"y\": [\n",
       "            0.0,\n",
       "            0.0,\n",
       "            37.785,\n",
       "            37.785,\n",
       "            0.0\n",
       "        ],\n",
       "        \"type\": \"scatter\"\n",
       "    },\n",
       "    {\n",
       "        \"xaxis\": \"x1\",\n",
       "        \"fill\": \"tozeroy\",\n",
       "        \"yaxis\": \"y1\",\n",
       "        \"x\": [\n",
       "            2291.92162,\n",
       "            2383.52162,\n",
       "            2383.52162,\n",
       "            2291.92162,\n",
       "            2291.92162\n",
       "        ],\n",
       "        \"showlegend\": false,\n",
       "        \"mode\": \"lines\",\n",
       "        \"fillcolor\": \"rgba(237, 94, 147, 0.500)\",\n",
       "        \"name\": \"\",\n",
       "        \"legendgroup\": \"\",\n",
       "        \"line\": {\n",
       "            \"color\": \"rgba(0, 0, 0, 0.500)\",\n",
       "            \"dash\": \"solid\",\n",
       "            \"width\": 1\n",
       "        },\n",
       "        \"y\": [\n",
       "            0.0,\n",
       "            0.0,\n",
       "            38.2733,\n",
       "            38.2733,\n",
       "            0.0\n",
       "        ],\n",
       "        \"type\": \"scatter\"\n",
       "    },\n",
       "    {\n",
       "        \"xaxis\": \"x1\",\n",
       "        \"fill\": \"tozeroy\",\n",
       "        \"yaxis\": \"y1\",\n",
       "        \"x\": [\n",
       "            2383.52162,\n",
       "            2431.62162,\n",
       "            2431.62162,\n",
       "            2383.52162,\n",
       "            2383.52162\n",
       "        ],\n",
       "        \"showlegend\": false,\n",
       "        \"mode\": \"lines\",\n",
       "        \"fillcolor\": \"rgba(198, 130, 37, 0.500)\",\n",
       "        \"name\": \"\",\n",
       "        \"legendgroup\": \"\",\n",
       "        \"line\": {\n",
       "            \"color\": \"rgba(0, 0, 0, 0.500)\",\n",
       "            \"dash\": \"solid\",\n",
       "            \"width\": 1\n",
       "        },\n",
       "        \"y\": [\n",
       "            0.0,\n",
       "            0.0,\n",
       "            39.172799999999995,\n",
       "            39.172799999999995,\n",
       "            0.0\n",
       "        ],\n",
       "        \"type\": \"scatter\"\n",
       "    },\n",
       "    {\n",
       "        \"xaxis\": \"x1\",\n",
       "        \"fill\": \"tozeroy\",\n",
       "        \"yaxis\": \"y1\",\n",
       "        \"x\": [\n",
       "            2431.62162,\n",
       "            2482.92162,\n",
       "            2482.92162,\n",
       "            2431.62162,\n",
       "            2431.62162\n",
       "        ],\n",
       "        \"showlegend\": false,\n",
       "        \"mode\": \"lines\",\n",
       "        \"fillcolor\": \"rgba(0, 169, 141, 0.500)\",\n",
       "        \"name\": \"\",\n",
       "        \"legendgroup\": \"\",\n",
       "        \"line\": {\n",
       "            \"color\": \"rgba(0, 0, 0, 0.500)\",\n",
       "            \"dash\": \"solid\",\n",
       "            \"width\": 1\n",
       "        },\n",
       "        \"y\": [\n",
       "            0.0,\n",
       "            0.0,\n",
       "            39.2756,\n",
       "            39.2756,\n",
       "            0.0\n",
       "        ],\n",
       "        \"type\": \"scatter\"\n",
       "    },\n",
       "    {\n",
       "        \"xaxis\": \"x1\",\n",
       "        \"fill\": \"tozeroy\",\n",
       "        \"yaxis\": \"y1\",\n",
       "        \"x\": [\n",
       "            2482.92162,\n",
       "            2534.2216200000003,\n",
       "            2534.2216200000003,\n",
       "            2482.92162,\n",
       "            2482.92162\n",
       "        ],\n",
       "        \"showlegend\": false,\n",
       "        \"mode\": \"lines\",\n",
       "        \"fillcolor\": \"rgba(142, 151, 30, 0.500)\",\n",
       "        \"name\": \"\",\n",
       "        \"legendgroup\": \"\",\n",
       "        \"line\": {\n",
       "            \"color\": \"rgba(0, 0, 0, 0.500)\",\n",
       "            \"dash\": \"solid\",\n",
       "            \"width\": 1\n",
       "        },\n",
       "        \"y\": [\n",
       "            0.0,\n",
       "            0.0,\n",
       "            39.3784,\n",
       "            39.3784,\n",
       "            0.0\n",
       "        ],\n",
       "        \"type\": \"scatter\"\n",
       "    },\n",
       "    {\n",
       "        \"xaxis\": \"x1\",\n",
       "        \"fill\": \"tozeroy\",\n",
       "        \"yaxis\": \"y1\",\n",
       "        \"x\": [\n",
       "            2534.2216200000003,\n",
       "            2632.42162,\n",
       "            2632.42162,\n",
       "            2534.2216200000003,\n",
       "            2534.2216200000003\n",
       "        ],\n",
       "        \"showlegend\": false,\n",
       "        \"mode\": \"lines\",\n",
       "        \"fillcolor\": \"rgba(0, 169, 204, 0.500)\",\n",
       "        \"name\": \"\",\n",
       "        \"legendgroup\": \"\",\n",
       "        \"line\": {\n",
       "            \"color\": \"rgba(0, 0, 0, 0.500)\",\n",
       "            \"dash\": \"solid\",\n",
       "            \"width\": 1\n",
       "        },\n",
       "        \"y\": [\n",
       "            0.0,\n",
       "            0.0,\n",
       "            39.4555,\n",
       "            39.4555,\n",
       "            0.0\n",
       "        ],\n",
       "        \"type\": \"scatter\"\n",
       "    },\n",
       "    {\n",
       "        \"xaxis\": \"x1\",\n",
       "        \"fill\": \"tozeroy\",\n",
       "        \"yaxis\": \"y1\",\n",
       "        \"x\": [\n",
       "            2632.42162,\n",
       "            2730.62162,\n",
       "            2730.62162,\n",
       "            2632.42162,\n",
       "            2632.42162\n",
       "        ],\n",
       "        \"showlegend\": false,\n",
       "        \"mode\": \"lines\",\n",
       "        \"fillcolor\": \"rgba(155, 127, 233, 0.500)\",\n",
       "        \"name\": \"\",\n",
       "        \"legendgroup\": \"\",\n",
       "        \"line\": {\n",
       "            \"color\": \"rgba(0, 0, 0, 0.500)\",\n",
       "            \"dash\": \"solid\",\n",
       "            \"width\": 1\n",
       "        },\n",
       "        \"y\": [\n",
       "            0.0,\n",
       "            0.0,\n",
       "            39.583999999999996,\n",
       "            39.583999999999996,\n",
       "            0.0\n",
       "        ],\n",
       "        \"type\": \"scatter\"\n",
       "    },\n",
       "    {\n",
       "        \"xaxis\": \"x1\",\n",
       "        \"fill\": \"tozeroy\",\n",
       "        \"yaxis\": \"y1\",\n",
       "        \"x\": [\n",
       "            2730.62162,\n",
       "            2779.52162,\n",
       "            2779.52162,\n",
       "            2730.62162,\n",
       "            2730.62162\n",
       "        ],\n",
       "        \"showlegend\": false,\n",
       "        \"mode\": \"lines\",\n",
       "        \"fillcolor\": \"rgba(97, 141, 246, 0.500)\",\n",
       "        \"name\": \"\",\n",
       "        \"legendgroup\": \"\",\n",
       "        \"line\": {\n",
       "            \"color\": \"rgba(0, 0, 0, 0.500)\",\n",
       "            \"dash\": \"solid\",\n",
       "            \"width\": 1\n",
       "        },\n",
       "        \"y\": [\n",
       "            0.0,\n",
       "            0.0,\n",
       "            39.635400000000004,\n",
       "            39.635400000000004,\n",
       "            0.0\n",
       "        ],\n",
       "        \"type\": \"scatter\"\n",
       "    },\n",
       "    {\n",
       "        \"xaxis\": \"x1\",\n",
       "        \"fill\": \"tozeroy\",\n",
       "        \"yaxis\": \"y1\",\n",
       "        \"x\": [\n",
       "            2779.52162,\n",
       "            2828.42162,\n",
       "            2828.42162,\n",
       "            2779.52162,\n",
       "            2779.52162\n",
       "        ],\n",
       "        \"showlegend\": false,\n",
       "        \"mode\": \"lines\",\n",
       "        \"fillcolor\": \"rgba(240, 96, 115, 0.500)\",\n",
       "        \"name\": \"\",\n",
       "        \"legendgroup\": \"\",\n",
       "        \"line\": {\n",
       "            \"color\": \"rgba(0, 0, 0, 0.500)\",\n",
       "            \"dash\": \"solid\",\n",
       "            \"width\": 1\n",
       "        },\n",
       "        \"y\": [\n",
       "            0.0,\n",
       "            0.0,\n",
       "            39.841,\n",
       "            39.841,\n",
       "            0.0\n",
       "        ],\n",
       "        \"type\": \"scatter\"\n",
       "    },\n",
       "    {\n",
       "        \"xaxis\": \"x1\",\n",
       "        \"fill\": \"tozeroy\",\n",
       "        \"yaxis\": \"y1\",\n",
       "        \"x\": [\n",
       "            2828.42162,\n",
       "            2877.12162,\n",
       "            2877.12162,\n",
       "            2828.42162,\n",
       "            2828.42162\n",
       "        ],\n",
       "        \"showlegend\": false,\n",
       "        \"mode\": \"lines\",\n",
       "        \"fillcolor\": \"rgba(221, 101, 182, 0.500)\",\n",
       "        \"name\": \"\",\n",
       "        \"legendgroup\": \"\",\n",
       "        \"line\": {\n",
       "            \"color\": \"rgba(0, 0, 0, 0.500)\",\n",
       "            \"dash\": \"solid\",\n",
       "            \"width\": 1\n",
       "        },\n",
       "        \"y\": [\n",
       "            0.0,\n",
       "            0.0,\n",
       "            40.2522,\n",
       "            40.2522,\n",
       "            0.0\n",
       "        ],\n",
       "        \"type\": \"scatter\"\n",
       "    },\n",
       "    {\n",
       "        \"xaxis\": \"x1\",\n",
       "        \"fill\": \"tozeroy\",\n",
       "        \"yaxis\": \"y1\",\n",
       "        \"x\": [\n",
       "            2877.12162,\n",
       "            2881.92162,\n",
       "            2881.92162,\n",
       "            2877.12162,\n",
       "            2877.12162\n",
       "        ],\n",
       "        \"showlegend\": false,\n",
       "        \"mode\": \"lines\",\n",
       "        \"fillcolor\": \"rgba(108, 159, 51, 0.500)\",\n",
       "        \"name\": \"\",\n",
       "        \"legendgroup\": \"\",\n",
       "        \"line\": {\n",
       "            \"color\": \"rgba(0, 0, 0, 0.500)\",\n",
       "            \"dash\": \"solid\",\n",
       "            \"width\": 1\n",
       "        },\n",
       "        \"y\": [\n",
       "            0.0,\n",
       "            0.0,\n",
       "            41.9741,\n",
       "            41.9741,\n",
       "            0.0\n",
       "        ],\n",
       "        \"type\": \"scatter\"\n",
       "    },\n",
       "    {\n",
       "        \"xaxis\": \"x1\",\n",
       "        \"fill\": \"tozeroy\",\n",
       "        \"yaxis\": \"y1\",\n",
       "        \"x\": [\n",
       "            2881.92162,\n",
       "            2899.2216200000003,\n",
       "            2899.2216200000003,\n",
       "            2881.92162,\n",
       "            2881.92162\n",
       "        ],\n",
       "        \"showlegend\": false,\n",
       "        \"mode\": \"lines\",\n",
       "        \"fillcolor\": \"rgba(0, 154, 250, 0.500)\",\n",
       "        \"name\": \"\",\n",
       "        \"legendgroup\": \"\",\n",
       "        \"line\": {\n",
       "            \"color\": \"rgba(0, 0, 0, 0.500)\",\n",
       "            \"dash\": \"solid\",\n",
       "            \"width\": 1\n",
       "        },\n",
       "        \"y\": [\n",
       "            0.0,\n",
       "            0.0,\n",
       "            45.674899999999994,\n",
       "            45.674899999999994,\n",
       "            0.0\n",
       "        ],\n",
       "        \"type\": \"scatter\"\n",
       "    },\n",
       "    {\n",
       "        \"xaxis\": \"x1\",\n",
       "        \"fill\": \"tozeroy\",\n",
       "        \"yaxis\": \"y1\",\n",
       "        \"x\": [\n",
       "            2899.2216200000003,\n",
       "            2933.82162,\n",
       "            2933.82162,\n",
       "            2899.2216200000003,\n",
       "            2899.2216200000003\n",
       "        ],\n",
       "        \"showlegend\": false,\n",
       "        \"mode\": \"lines\",\n",
       "        \"fillcolor\": \"rgba(227, 111, 71, 0.500)\",\n",
       "        \"name\": \"\",\n",
       "        \"legendgroup\": \"\",\n",
       "        \"line\": {\n",
       "            \"color\": \"rgba(0, 0, 0, 0.500)\",\n",
       "            \"dash\": \"solid\",\n",
       "            \"width\": 1\n",
       "        },\n",
       "        \"y\": [\n",
       "            0.0,\n",
       "            0.0,\n",
       "            54.1302,\n",
       "            54.1302,\n",
       "            0.0\n",
       "        ],\n",
       "        \"type\": \"scatter\"\n",
       "    },\n",
       "    {\n",
       "        \"xaxis\": \"x\",\n",
       "        \"colorbar\": {\n",
       "            \"y\": 0.5086805555555556,\n",
       "            \"title\": \"\",\n",
       "            \"len\": 0.8657316272965879,\n",
       "            \"x\": 0.9934383202099737\n",
       "        },\n",
       "        \"yaxis\": \"y\",\n",
       "        \"x\": [\n",
       "            460.968,\n",
       "            460.968\n",
       "        ],\n",
       "        \"showlegend\": true,\n",
       "        \"mode\": \"lines\",\n",
       "        \"name\": \"demand\",\n",
       "        \"legendgroup\": \"demand\",\n",
       "        \"line\": {\n",
       "            \"color\": \"rgba(0, 0, 0, 1.000)\",\n",
       "            \"shape\": \"linear\",\n",
       "            \"dash\": \"solid\",\n",
       "            \"width\": 5\n",
       "        },\n",
       "        \"y\": [\n",
       "            -5739.4251060000015,\n",
       "            5793.555306000002\n",
       "        ],\n",
       "        \"type\": \"scatter\"\n",
       "    },\n",
       "    {\n",
       "        \"xaxis\": \"x\",\n",
       "        \"colorbar\": {\n",
       "            \"y\": 0.5086805555555556,\n",
       "            \"title\": \"\",\n",
       "            \"len\": 0.8657316272965879,\n",
       "            \"x\": 0.9934383202099737\n",
       "        },\n",
       "        \"yaxis\": \"y\",\n",
       "        \"x\": [\n",
       "            -311073.10636860004,\n",
       "            314006.92798860004\n",
       "        ],\n",
       "        \"showlegend\": true,\n",
       "        \"mode\": \"lines\",\n",
       "        \"name\": \"SRMC\",\n",
       "        \"legendgroup\": \"SRMC\",\n",
       "        \"line\": {\n",
       "            \"color\": \"rgba(0, 0, 255, 1.000)\",\n",
       "            \"shape\": \"linear\",\n",
       "            \"dash\": \"solid\",\n",
       "            \"width\": 5\n",
       "        },\n",
       "        \"y\": [\n",
       "            21.775499999999997,\n",
       "            21.775499999999997\n",
       "        ],\n",
       "        \"type\": \"scatter\"\n",
       "    }\n",
       "]\n",
       ", {\n",
       "    \"showlegend\": true,\n",
       "    \"xaxis\": {\n",
       "        \"showticklabels\": true,\n",
       "        \"gridwidth\": 0.5,\n",
       "        \"tickvals\": [\n",
       "            0.0,\n",
       "            1000.0,\n",
       "            2000.0,\n",
       "            3000.0\n",
       "        ],\n",
       "        \"range\": [\n",
       "            -88.0146486000001,\n",
       "            3021.8362686\n",
       "        ],\n",
       "        \"domain\": [\n",
       "            0.061654272382618835,\n",
       "            0.9934383202099737\n",
       "        ],\n",
       "        \"mirror\": false,\n",
       "        \"tickangle\": 0,\n",
       "        \"showline\": true,\n",
       "        \"ticktext\": [\n",
       "            \"0\",\n",
       "            \"1000\",\n",
       "            \"2000\",\n",
       "            \"3000\"\n",
       "        ],\n",
       "        \"zeroline\": false,\n",
       "        \"tickfont\": {\n",
       "            \"color\": \"rgba(0, 0, 0, 1.000)\",\n",
       "            \"family\": \"sans-serif\",\n",
       "            \"size\": 11\n",
       "        },\n",
       "        \"zerolinecolor\": \"rgba(0, 0, 0, 1.000)\",\n",
       "        \"anchor\": \"y\",\n",
       "        \"visible\": true,\n",
       "        \"ticks\": \"inside\",\n",
       "        \"tickmode\": \"array\",\n",
       "        \"linecolor\": \"rgba(0, 0, 0, 1.000)\",\n",
       "        \"showgrid\": true,\n",
       "        \"title\": \"Capacity\",\n",
       "        \"gridcolor\": \"rgba(0, 0, 0, 0.100)\",\n",
       "        \"titlefont\": {\n",
       "            \"color\": \"rgba(0, 0, 0, 1.000)\",\n",
       "            \"family\": \"sans-serif\",\n",
       "            \"size\": 15\n",
       "        },\n",
       "        \"tickcolor\": \"rgb(0, 0, 0)\",\n",
       "        \"type\": \"-\"\n",
       "    },\n",
       "    \"paper_bgcolor\": \"rgba(255, 255, 255, 1.000)\",\n",
       "    \"annotations\": [\n",
       "        {\n",
       "            \"yanchor\": \"top\",\n",
       "            \"xanchor\": \"center\",\n",
       "            \"rotation\": -0.0,\n",
       "            \"y\": 1.0,\n",
       "            \"font\": {\n",
       "                \"color\": \"rgba(0, 0, 0, 1.000)\",\n",
       "                \"family\": \"sans-serif\",\n",
       "                \"size\": 20\n",
       "            },\n",
       "            \"yref\": \"paper\",\n",
       "            \"showarrow\": false,\n",
       "            \"text\": \"Supply and demand curves\",\n",
       "            \"xref\": \"paper\",\n",
       "            \"x\": 0.5275462962962963\n",
       "        }\n",
       "    ],\n",
       "    \"height\": 400,\n",
       "    \"margin\": {\n",
       "        \"l\": 0,\n",
       "        \"b\": 20,\n",
       "        \"r\": 0,\n",
       "        \"t\": 20\n",
       "    },\n",
       "    \"plot_bgcolor\": \"rgba(255, 255, 255, 1.000)\",\n",
       "    \"yaxis\": {\n",
       "        \"showticklabels\": true,\n",
       "        \"gridwidth\": 0.5,\n",
       "        \"tickvals\": [\n",
       "            0.0,\n",
       "            10.0,\n",
       "            20.0,\n",
       "            30.0,\n",
       "            40.0,\n",
       "            50.0\n",
       "        ],\n",
       "        \"range\": [\n",
       "            -1.6239060000000016,\n",
       "            55.75410600000001\n",
       "        ],\n",
       "        \"domain\": [\n",
       "            0.07581474190726165,\n",
       "            0.9415463692038496\n",
       "        ],\n",
       "        \"mirror\": false,\n",
       "        \"tickangle\": 0,\n",
       "        \"showline\": true,\n",
       "        \"ticktext\": [\n",
       "            \"0\",\n",
       "            \"10\",\n",
       "            \"20\",\n",
       "            \"30\",\n",
       "            \"40\",\n",
       "            \"50\"\n",
       "        ],\n",
       "        \"zeroline\": false,\n",
       "        \"tickfont\": {\n",
       "            \"color\": \"rgba(0, 0, 0, 1.000)\",\n",
       "            \"family\": \"sans-serif\",\n",
       "            \"size\": 11\n",
       "        },\n",
       "        \"zerolinecolor\": \"rgba(0, 0, 0, 1.000)\",\n",
       "        \"anchor\": \"x\",\n",
       "        \"visible\": true,\n",
       "        \"ticks\": \"inside\",\n",
       "        \"tickmode\": \"array\",\n",
       "        \"linecolor\": \"rgba(0, 0, 0, 1.000)\",\n",
       "        \"showgrid\": true,\n",
       "        \"title\": \"Marginal cost\",\n",
       "        \"gridcolor\": \"rgba(0, 0, 0, 0.100)\",\n",
       "        \"titlefont\": {\n",
       "            \"color\": \"rgba(0, 0, 0, 1.000)\",\n",
       "            \"family\": \"sans-serif\",\n",
       "            \"size\": 15\n",
       "        },\n",
       "        \"tickcolor\": \"rgb(0, 0, 0)\",\n",
       "        \"type\": \"-\"\n",
       "    },\n",
       "    \"legend\": {\n",
       "        \"yanchor\": \"auto\",\n",
       "        \"xanchor\": \"auto\",\n",
       "        \"bordercolor\": \"rgba(0, 0, 0, 1.000)\",\n",
       "        \"bgcolor\": \"rgba(255, 255, 255, 1.000)\",\n",
       "        \"borderwidth\": 1,\n",
       "        \"tracegroupgap\": 0,\n",
       "        \"y\": 1.0,\n",
       "        \"font\": {\n",
       "            \"color\": \"rgba(0, 0, 0, 1.000)\",\n",
       "            \"family\": \"sans-serif\",\n",
       "            \"size\": 11\n",
       "        },\n",
       "        \"title\": {\n",
       "            \"font\": {\n",
       "                \"color\": \"rgba(0, 0, 0, 1.000)\",\n",
       "                \"family\": \"sans-serif\",\n",
       "                \"size\": 15\n",
       "            },\n",
       "            \"text\": \"\"\n",
       "        },\n",
       "        \"traceorder\": \"normal\",\n",
       "        \"x\": 1.0\n",
       "    },\n",
       "    \"width\": 600\n",
       "}\n",
       ");\n",
       "    });\n",
       "    </script>\n"
      ]
     },
     "execution_count": 27,
     "metadata": {},
     "output_type": "execute_result"
    }
   ],
   "source": [
    "p"
   ]
  },
  {
   "cell_type": "code",
   "execution_count": 28,
   "id": "1b53b61e",
   "metadata": {},
   "outputs": [
    {
     "data": {
      "text/html": [
       "<p>DataFrameRow (34 columns)</p><table class=\"data-frame\"><thead><tr><th></th><th>r_id</th><th>resource</th><th>region</th><th>existing_cap_mw</th><th>num_units</th><th>cap_size</th><th>var_om_cost_per_mwh</th><th>var_om_cost_per_mwh_in</th></tr><tr><th></th><th>Int64?</th><th>String?</th><th>String15?</th><th>Float64?</th><th>Int64?</th><th>Float64?</th><th>Float64?</th><th>Int64?</th></tr></thead><tbody><tr><th>6</th><td>6</td><td>natural_gas_fired_combined_cycle</td><td>WEC_SDGE</td><td>570.0</td><td>1</td><td>570.0</td><td>3.4</td><td>0</td></tr></tbody></table>"
      ],
      "text/latex": [
       "\\begin{tabular}{r|ccccccccc}\n",
       "\t& r\\_id & resource & region & existing\\_cap\\_mw & num\\_units & cap\\_size & var\\_om\\_cost\\_per\\_mwh & var\\_om\\_cost\\_per\\_mwh\\_in & \\\\\n",
       "\t\\hline\n",
       "\t& Int64? & String? & String15? & Float64? & Int64? & Float64? & Float64? & Int64? & \\\\\n",
       "\t\\hline\n",
       "\t6 & 6 & natural\\_gas\\_fired\\_combined\\_cycle & WEC\\_SDGE & 570.0 & 1 & 570.0 & 3.4 & 0 & $\\dots$ \\\\\n",
       "\\end{tabular}\n"
      ],
      "text/plain": [
       "DataFrameRow. Omitted printing of 28 columns\n",
       "│ Row │ r_id   │ resource                         │ region    │ existing_cap_mw │ num_units │ cap_size │\n",
       "│     │ \u001b[90mInt64?\u001b[39m │ \u001b[90mUnion{Missing, String}\u001b[39m           │ \u001b[90mString15?\u001b[39m │ \u001b[90mFloat64?\u001b[39m        │ \u001b[90mInt64?\u001b[39m    │ \u001b[90mFloat64?\u001b[39m │\n",
       "├─────┼────────┼──────────────────────────────────┼───────────┼─────────────────┼───────────┼──────────┤\n",
       "│ 6   │ 6      │ natural_gas_fired_combined_cycle │ WEC_SDGE  │ 570.0           │ 1         │ 570.0    │"
      ]
     },
     "execution_count": 28,
     "metadata": {},
     "output_type": "execute_result"
    }
   ],
   "source": [
    "supply_curve[marg_gen,:]"
   ]
  },
  {
   "cell_type": "code",
   "execution_count": 29,
   "id": "ca99ca68",
   "metadata": {},
   "outputs": [
    {
     "data": {
      "text/plain": [
       "244.04638000000006"
      ]
     },
     "execution_count": 29,
     "metadata": {},
     "output_type": "execute_result"
    }
   ],
   "source": [
    "solution.solution[solution.solution.r_id .== supply_curve[marg_gen,:r_id],\n",
    "    :gen][1]"
   ]
  },
  {
   "cell_type": "code",
   "execution_count": 30,
   "id": "d50c9ad1",
   "metadata": {},
   "outputs": [
    {
     "name": "stdout",
     "output_type": "stream",
     "text": [
      "┌──────────────────────────────────────┬─────────┐\n",
      "│\u001b[1m                             resource \u001b[0m│\u001b[1m gen_sum \u001b[0m│\n",
      "│\u001b[90m                              String? \u001b[0m│\u001b[90m Float64 \u001b[0m│\n",
      "├──────────────────────────────────────┼─────────┤\n",
      "│                              biomass │  21.400 │\n",
      "│         hydroelectric_pumped_storage │  42.000 │\n",
      "│     natural_gas_fired_combined_cycle │ 244.046 │\n",
      "│ natural_gas_fired_combustion_turbine │   0.000 │\n",
      "│                 onshore_wind_turbine │ 151.798 │\n",
      "│                  small_hydroelectric │   1.724 │\n",
      "│                   solar_photovoltaic │   0.000 │\n",
      "└──────────────────────────────────────┴─────────┘\n"
     ]
    }
   ],
   "source": [
    "sol_gen = combine(groupby(solution.solution, :resource), \n",
    "            :gen => sum)\n",
    "# We use the PrettyTable package here to round numbers when displaying\n",
    "pretty_table(sol_gen, formatters = ft_printf(\"%5.3f\")) \n",
    "     "
   ]
  },
  {
   "cell_type": "code",
   "execution_count": 31,
   "id": "564caff2",
   "metadata": {},
   "outputs": [
    {
     "name": "stdout",
     "output_type": "stream",
     "text": [
      "┌──────────────────────────────────────┬─────────┐\n",
      "│\u001b[1m                             resource \u001b[0m│\u001b[1m gen_sum \u001b[0m│\n",
      "│\u001b[90m                              String? \u001b[0m│\u001b[90m Float64 \u001b[0m│\n",
      "├──────────────────────────────────────┼─────────┤\n",
      "│                              biomass │  21.400 │\n",
      "│         hydroelectric_pumped_storage │  42.000 │\n",
      "│     natural_gas_fired_combined_cycle │ 244.046 │\n",
      "│ natural_gas_fired_combustion_turbine │   0.000 │\n",
      "│                 onshore_wind_turbine │ 151.798 │\n",
      "│                  small_hydroelectric │   1.724 │\n",
      "│                   solar_photovoltaic │   0.000 │\n",
      "│               solar_photovoltaic_btm │   0.000 │\n",
      "└──────────────────────────────────────┴─────────┘\n"
     ]
    }
   ],
   "source": [
    "# we use the copy function to create a copy of the dataframe (as opposed to working with the original)\n",
    "sol_gen_btm = copy(sol_gen)\n",
    "\n",
    "# We'll use the same variability profile for BTM solar as the utility-scale solar here (in reality, they would probably differ)\n",
    "btm = DataFrame(resource = [\"solar_photovoltaic_btm\"], gen_sum = var_cf_single[var_cf_single.gen_full .== \"wec_sdge_solar_photovoltaic_1.0\",:cf] * 600)\n",
    "append!(sol_gen_btm, btm)\n",
    "pretty_table(sol_gen_btm, formatters = ft_printf(\"%5.3f\")) # We use the PrettyTable package to round numbers when displaying"
   ]
  },
  {
   "cell_type": "code",
   "execution_count": 32,
   "id": "8e12c547",
   "metadata": {},
   "outputs": [],
   "source": [
    "################    Multiple-time period, complex generator constraints with time coupling      ####################"
   ]
  },
  {
   "cell_type": "code",
   "execution_count": 33,
   "id": "a3e9f5ca",
   "metadata": {},
   "outputs": [
    {
     "data": {
      "text/plain": [
       "economic_dispatch_multi (generic function with 1 method)"
      ]
     },
     "execution_count": 33,
     "metadata": {},
     "output_type": "execute_result"
    }
   ],
   "source": [
    "#=\n",
    "Function to solve economic dispatch problem (multi-time period, single-zone)\n",
    "Inputs:\n",
    "    gen_df -- dataframe with generator info\n",
    "    loads  -- load by time\n",
    "    gen_variable -- capacity factors of variable generators (in \"long\" format)\n",
    "=#\n",
    "function economic_dispatch_multi(gen_df, loads, gen_variable)\n",
    "    ED = Model(HiGHS.Optimizer)\n",
    "\n",
    "    # Define sets based on data\n",
    "    G_var = gen_df[gen_df[!,:is_variable] .== 1,:r_id] \n",
    "    G_nonvar = gen_df[gen_df[!,:is_variable] .== 0,:r_id]\n",
    "    G = gen_df.r_id\n",
    "    T = loads.hour\n",
    "\n",
    "    # Generator capacity factor time series for variable generators\n",
    "    gen_var_cf = innerjoin(gen_variable, \n",
    "                    gen_df[gen_df.is_variable .== 1 , \n",
    "                        [:r_id, :gen_full, :existing_cap_mw]], \n",
    "                    on = :gen_full)\n",
    "        \n",
    "    # Decision variables   \n",
    "    @variables(ED, begin\n",
    "        GEN[G, T]  >= 0     # generation\n",
    "        # Note: we assume Pmin = 0 for all resources for simplicty here\n",
    "    end)\n",
    "                \n",
    "    # Objective function\n",
    "    @objective(ED, Min, \n",
    "        sum( (gen_df[gen_df.r_id .== i,:heat_rate_mmbtu_per_mwh][1] * gen_df[gen_df.r_id .== i,:fuel_cost][1] +\n",
    "            gen_df[gen_df.r_id .== i,:var_om_cost_per_mwh][1]) * GEN[i,t] \n",
    "                        for i in G_nonvar for t in T) + \n",
    "        sum(gen_df[gen_df.r_id .== i,:var_om_cost_per_mwh][1] * GEN[i,t] \n",
    "                        for i in G_var for t in T)\n",
    "    )\n",
    "    \n",
    "    # Demand constraint\n",
    "    @constraint(ED, cDemand[t in T], # t에서 모든 발전기의 발전량 = t 의 수요량\n",
    "        sum(GEN[i,t] for i in G) == loads[loads.hour .== t,:demand][1])\n",
    "\n",
    "    # Capacity constraints (non-variable generation) #비기저발전기의 발전량은 최대 발전용량보다 작다\n",
    "    @constraint(ED, Cap_nonvar[i in G_nonvar, t in T], \n",
    "        GEN[i,t] <= gen_df[gen_df.r_id .== i,:existing_cap_mw][1])\n",
    "\n",
    "    # Variable generation capacity constraints \n",
    "    @constraint(ED, Cap_var[i in 1:nrow(gen_var_cf)], \n",
    "            GEN[gen_var_cf[i,:r_id], gen_var_cf[i,:hour] ] <= \n",
    "                        gen_var_cf[i,:cf] *\n",
    "                        gen_var_cf[i,:existing_cap_mw])\n",
    "    \n",
    "    # Solve statement (! indicates runs in place)\n",
    "    optimize!(ED)\n",
    "\n",
    "    # Dataframe of optimal decision variables\n",
    "    # This requires a few extra steps because we are indexing decision variables over two sets: generator and time\n",
    "    solution = DataFrame(value.(GEN).data, :auto)  # :auto argument asks DataFrames to pick the variable names automatically\n",
    "    ax1 = value.(GEN).axes[1] #axes는 축을 나타낸다\n",
    "    ax2 = value.(GEN).axes[2]\n",
    "    cols = names(solution)\n",
    "    insertcols!(solution, 1, :r_id => ax1)\n",
    "    solution = stack(solution, Not(:r_id), variable_name=:hour)\n",
    "    solution.hour = foldl(replace, [cols[i] => ax2[i] for i in 1:length(ax2)], init=solution.hour)\n",
    "    rename!(solution, :value => :gen)\n",
    "    solution.hour = convert.(Int64,solution.hour)\n",
    "    \n",
    "    # Return the solution and objective as named tuple\n",
    "    return (\n",
    "        solution = solution, \n",
    "        cost = objective_value(ED),\n",
    "        status = termination_status(ED)\n",
    "    )\n",
    "\n",
    "end\n",
    "     "
   ]
  },
  {
   "cell_type": "code",
   "execution_count": 34,
   "id": "e95711d7",
   "metadata": {},
   "outputs": [
    {
     "name": "stdout",
     "output_type": "stream",
     "text": [
      "\n",
      "Presolving model\n",
      "25 rows, 413 cols, 413 nonzeros\n",
      "11 rows, 206 cols, 206 nonzeros\n",
      "11 rows, 206 cols, 206 nonzeros\n",
      "Presolve : Reductions: rows 11(-639); columns 206(-419); elements 206(-1044)\n",
      "Solving the presolved LP\n",
      "Using EKK dual simplex solver - serial\n",
      "LP  has all |entries|=1; max column count = 1 (limit 24); average column count = 1 (limit 6): So is a candidate for LiDSE\n",
      "  Iteration        Objective     Infeasibilities num(sum)\n",
      "          0     4.0450128136e+04 Pr: 11(8235.32) 0s\n",
      "         11     1.8353299788e+05 Pr: 0(0) 0s\n",
      "Solving the original LP from the solution after postsolve\n",
      "Model   status      : Optimal\n",
      "Simplex   iterations: 11\n",
      "Objective value     :  1.8353299788e+05\n",
      "HiGHS run time      :          0.00\n"
     ]
    },
    {
     "ename": "LoadError",
     "evalue": "MethodError: no method matching DataFrame(::Matrix{Float64}, ::Symbol)\n\u001b[0mClosest candidates are:\n\u001b[0m  DataFrame(::AbstractMatrix, \u001b[91m::AbstractVector{<:AbstractString}\u001b[39m; makeunique) at C:\\Users\\user\\.julia\\packages\\DataFrames\\GtZ1l\\src\\dataframe\\dataframe.jl:272\n\u001b[0m  DataFrame(::AbstractMatrix, \u001b[91m::AbstractVector{Symbol}\u001b[39m; makeunique) at C:\\Users\\user\\.julia\\packages\\DataFrames\\GtZ1l\\src\\dataframe\\dataframe.jl:267\n\u001b[0m  DataFrame(::AbstractMatrix) at C:\\Users\\user\\.julia\\packages\\DataFrames\\GtZ1l\\src\\dataframe\\dataframe.jl:267\n\u001b[0m  ...",
     "output_type": "error",
     "traceback": [
      "MethodError: no method matching DataFrame(::Matrix{Float64}, ::Symbol)\n\u001b[0mClosest candidates are:\n\u001b[0m  DataFrame(::AbstractMatrix, \u001b[91m::AbstractVector{<:AbstractString}\u001b[39m; makeunique) at C:\\Users\\user\\.julia\\packages\\DataFrames\\GtZ1l\\src\\dataframe\\dataframe.jl:272\n\u001b[0m  DataFrame(::AbstractMatrix, \u001b[91m::AbstractVector{Symbol}\u001b[39m; makeunique) at C:\\Users\\user\\.julia\\packages\\DataFrames\\GtZ1l\\src\\dataframe\\dataframe.jl:267\n\u001b[0m  DataFrame(::AbstractMatrix) at C:\\Users\\user\\.julia\\packages\\DataFrames\\GtZ1l\\src\\dataframe\\dataframe.jl:267\n\u001b[0m  ...",
      "",
      "Stacktrace:",
      " [1] economic_dispatch_multi(gen_df::DataFrame, loads::DataFrame, gen_variable::DataFrame)",
      "   @ Main .\\In[33]:57",
      " [2] top-level scope",
      "   @ In[34]:11"
     ]
    }
   ],
   "source": [
    "n=0\n",
    "T_period = 671:695   #24n+1:24n+24\n",
    "\n",
    "loads_multi = loads[in.(loads.hour,Ref(T_period)),:]\n",
    "gen_variable_multi = gen_variable_long[in.(gen_variable_long.hour,Ref(T_period)),:]\n",
    "\n",
    "gen_df_sens = copy(gen_df)\n",
    "gen_df_sens[gen_df_sens.resource .== \"solar_photovoltaic\",\n",
    "    :existing_cap_mw] .= 3500\n",
    "\n",
    "solution = economic_dispatch_multi(gen_df_sens, loads_multi, gen_variable_multi);"
   ]
  },
  {
   "cell_type": "code",
   "execution_count": 40,
   "id": "6bb5f35a",
   "metadata": {},
   "outputs": [
    {
     "ename": "LoadError",
     "evalue": "ArgumentError: Duplicate variable names: :resource. Pass makeunique=true to make them unique using a suffix automatically.",
     "output_type": "error",
     "traceback": [
      "ArgumentError: Duplicate variable names: :resource. Pass makeunique=true to make them unique using a suffix automatically.",
      "",
      "Stacktrace:",
      " [1] make_unique!(names::Vector{Symbol}, src::Vector{Symbol}; makeunique::Bool)",
      "   @ DataFrames C:\\Users\\user\\.julia\\packages\\DataFrames\\GtZ1l\\src\\other\\utils.jl:35",
      " [2] #make_unique#2",
      "   @ C:\\Users\\user\\.julia\\packages\\DataFrames\\GtZ1l\\src\\other\\utils.jl:57 [inlined]",
      " [3] #Index#3",
      "   @ C:\\Users\\user\\.julia\\packages\\DataFrames\\GtZ1l\\src\\other\\index.jl:27 [inlined]",
      " [4] DataFrame(columns::Vector{AbstractVector}, cnames::Vector{Symbol}; makeunique::Bool, copycols::Bool)",
      "   @ DataFrames C:\\Users\\user\\.julia\\packages\\DataFrames\\GtZ1l\\src\\dataframe\\dataframe.jl:242",
      " [5] compose_joined_table(joiner::DataFrames.DataFrameJoiner{DataFrame, DataFrame}, kind::Symbol, left_ixs::DataFrames.RowIndexMap, leftonly_ixs::DataFrames.RowIndexMap, right_ixs::DataFrames.RowIndexMap, rightonly_ixs::DataFrames.RowIndexMap; makeunique::Bool)",
      "   @ DataFrames C:\\Users\\user\\.julia\\packages\\DataFrames\\GtZ1l\\src\\abstractdataframe\\join.jl:119",
      " [6] _join(df1::DataFrame, df2::DataFrame; on::Symbol, kind::Symbol, makeunique::Bool, indicator::Nothing, validate::Tuple{Bool, Bool})",
      "   @ DataFrames C:\\Users\\user\\.julia\\packages\\DataFrames\\GtZ1l\\src\\abstractdataframe\\join.jl:344",
      " [7] #innerjoin#344",
      "   @ C:\\Users\\user\\.julia\\packages\\DataFrames\\GtZ1l\\src\\abstractdataframe\\join.jl:526 [inlined]",
      " [8] top-level scope",
      "   @ In[40]:3"
     ]
    }
   ],
   "source": [
    "# **Add back in BTM solar and plot results**\n",
    "\n",
    "sol_gen = innerjoin(solution.solution, \n",
    "                    gen_df[!, [:r_id, :resource]], \n",
    "                    on = :r_id)\n",
    "sol_gen = combine(groupby(sol_gen, [:resource, :hour]), \n",
    "            :gen => sum)\n",
    "sol_gen_btm = copy(sol_gen)\n"
   ]
  },
  {
   "cell_type": "code",
   "execution_count": null,
   "id": "e55cd2c1",
   "metadata": {},
   "outputs": [],
   "source": [
    "sol_gen_btm[sol_gen_btm.resource .== \"solar_photovoltaic\", :resource] .= \"_solar_photovoltaic\"\n",
    "sol_gen_btm[sol_gen_btm.resource .== \"onshore_wind_turbine\", :resource] .= \"_onshore_wind_turbine\"\n",
    "sol_gen_btm[sol_gen_btm.resource .== \"small_hydroelectric\", :resource] .= \"_small_hydroelectric\"\n",
    "\n"
   ]
  },
  {
   "cell_type": "code",
   "execution_count": null,
   "id": "e3c8dac3",
   "metadata": {},
   "outputs": [],
   "source": [
    "btm = DataFrame(resource = repeat([\"_solar_photovoltaic_btm\"]; outer=length(T_period)), \n",
    "    hour = T_period,\n",
    "    gen_sum = gen_variable_multi[gen_variable_multi.gen_full .== \"wec_sdge_solar_photovoltaic_1.0\",:cf] * 600)\n",
    "append!(sol_gen_btm, btm)\n"
   ]
  },
  {
   "cell_type": "code",
   "execution_count": 37,
   "id": "ad768d97",
   "metadata": {},
   "outputs": [
    {
     "ename": "LoadError",
     "evalue": "ArgumentError: column name :hour not found in the data frame",
     "output_type": "error",
     "traceback": [
      "ArgumentError: column name :hour not found in the data frame",
      "",
      "Stacktrace:",
      " [1] lookupname",
      "   @ C:\\Users\\user\\.julia\\packages\\DataFrames\\GtZ1l\\src\\other\\index.jl:286 [inlined]",
      " [2] getindex",
      "   @ C:\\Users\\user\\.julia\\packages\\DataFrames\\GtZ1l\\src\\other\\index.jl:295 [inlined]",
      " [3] ordering(df::DataFrame, cols::Vector{Symbol}, lt::Function, by::Function, rev::Bool, order::Base.Order.ForwardOrdering)",
      "   @ DataFrames C:\\Users\\user\\.julia\\packages\\DataFrames\\GtZ1l\\src\\abstractdataframe\\sort.jl:199",
      " [4] sort!(df::DataFrame, cols::Vector{Symbol}; alg::Nothing, lt::Function, by::Function, rev::Bool, order::Base.Order.ForwardOrdering)",
      "   @ DataFrames C:\\Users\\user\\.julia\\packages\\DataFrames\\GtZ1l\\src\\dataframe\\sort.jl:83",
      " [5] sort!(df::DataFrame, cols::Vector{Symbol})",
      "   @ DataFrames C:\\Users\\user\\.julia\\packages\\DataFrames\\GtZ1l\\src\\dataframe\\sort.jl:72",
      " [6] top-level scope",
      "   @ In[37]:2"
     ]
    }
   ],
   "source": [
    "# Reorder resources\n",
    "sort!(sol_gen_btm, [:hour, :resource])\n",
    "\n",
    "#Write output\n",
    "  # Create a 'results' directory in your current working directory if one does not yet exist\n",
    "if !isdir(\"results\") \n",
    "    mkdir(\"results\")\n",
    "end\n",
    "  # Write the outputs to this folder\n",
    "CSV.write(\"results/sol_gen_btm.csv\",sol_gen_btm)\n",
    "\n",
    "sol_gen_sum = combine(groupby(sol_gen_btm, [:resource]), \n",
    "            :gen_sum => sum)"
   ]
  },
  {
   "cell_type": "code",
   "execution_count": 38,
   "id": "88501483",
   "metadata": {},
   "outputs": [
    {
     "data": {
      "application/vnd.vegalite.v4+json": {
       "data": {
        "values": [
         {
          "gen_sum": 21.4,
          "resource": "biomass"
         },
         {
          "gen_sum": 42,
          "resource": "hydroelectric_pumped_storage"
         },
         {
          "gen_sum": 244.04638000000006,
          "resource": "natural_gas_fired_combined_cycle"
         },
         {
          "gen_sum": 0,
          "resource": "natural_gas_fired_combustion_turbine"
         },
         {
          "gen_sum": 151.79775999999998,
          "resource": "onshore_wind_turbine"
         },
         {
          "gen_sum": 1.72386,
          "resource": "small_hydroelectric"
         },
         {
          "gen_sum": 0,
          "resource": "solar_photovoltaic"
         },
         {
          "gen_sum": 0,
          "resource": "solar_photovoltaic_btm"
         }
        ]
       },
       "encoding": {
        "color": {
         "field": "resource",
         "scale": {
          "scheme": "category20"
         },
         "type": "nominal"
        },
        "x": {
         "field": "hour"
        },
        "y": {
         "field": "gen_sum",
         "type": "quantitative"
        }
       },
       "mark": "line"
      },
      "image/png": "[encoded data removed]",
      "image/svg+xml": [
       "<?xml version=\"1.0\" encoding=\"utf-8\"?>\n",
       "<!DOCTYPE svg PUBLIC \"-//W3C//DTD SVG 1.1//EN\" \"http://www.w3.org/Graphics/SVG/1.1/DTD/svg11.dtd\">\n",
       "<svg xmlns=\"http://www.w3.org/2000/svg\" xmlns:xlink=\"http://www.w3.org/1999/xlink\" version=\"1.1\" class=\"marks\" width=\"258\" height=\"277\" viewBox=\"0 0 258 277\"><rect width=\"258\" height=\"277\" fill=\"white\"/><g fill=\"none\" stroke-miterlimit=\"10\" transform=\"translate(42,5)\"><g class=\"mark-group role-frame root\" role=\"graphics-object\" aria-roledescription=\"group mark container\"><g transform=\"translate(0,0)\"><path class=\"background\" aria-hidden=\"true\" d=\"M0.5,0.5h20v200h-20Z\" stroke=\"#ddd\"/><g><g class=\"mark-group role-axis\" aria-hidden=\"true\"><g transform=\"translate(0.5,0.5)\"><path class=\"background\" aria-hidden=\"true\" d=\"M0,0h0v0h0Z\" pointer-events=\"none\"/><g><g class=\"mark-rule role-axis-grid\" pointer-events=\"none\"><line transform=\"translate(0,200)\" x2=\"20\" y2=\"0\" stroke=\"#ddd\" stroke-width=\"1\" opacity=\"1\"/><line transform=\"translate(0,162)\" x2=\"20\" y2=\"0\" stroke=\"#ddd\" stroke-width=\"1\" opacity=\"1\"/><line transform=\"translate(0,123)\" x2=\"20\" y2=\"0\" stroke=\"#ddd\" stroke-width=\"1\" opacity=\"1\"/><line transform=\"translate(0,85)\" x2=\"20\" y2=\"0\" stroke=\"#ddd\" stroke-width=\"1\" opacity=\"1\"/><line transform=\"translate(0,46)\" x2=\"20\" y2=\"0\" stroke=\"#ddd\" stroke-width=\"1\" opacity=\"1\"/><line transform=\"translate(0,8)\" x2=\"20\" y2=\"0\" stroke=\"#ddd\" stroke-width=\"1\" opacity=\"1\"/></g></g><path class=\"foreground\" aria-hidden=\"true\" d=\"\" pointer-events=\"none\" display=\"none\"/></g></g><g class=\"mark-group role-axis\" role=\"graphics-symbol\" aria-roledescription=\"axis\" aria-label=\"X-axis titled 'hour' for a discrete scale with 1 value: undefined\"><g transform=\"translate(0.5,200.5)\"><path class=\"background\" aria-hidden=\"true\" d=\"M0,0h0v0h0Z\" pointer-events=\"none\"/><g><g class=\"mark-rule role-axis-tick\" pointer-events=\"none\"><line transform=\"translate(10,0)\" x2=\"0\" y2=\"5\" stroke=\"#888\" stroke-width=\"1\" opacity=\"1\"/></g><g class=\"mark-text role-axis-label\" pointer-events=\"none\"><text text-anchor=\"end\" transform=\"translate(10,7) rotate(270) translate(0,3)\" font-family=\"sans-serif\" font-size=\"10px\" fill=\"#000\" opacity=\"1\">undefined</text></g><g class=\"mark-rule role-axis-domain\" pointer-events=\"none\"><line transform=\"translate(0,0)\" x2=\"20\" y2=\"0\" stroke=\"#888\" stroke-width=\"1\" opacity=\"1\"/></g><g class=\"mark-text role-axis-title\" pointer-events=\"none\"><text text-anchor=\"middle\" transform=\"translate(10,65)\" font-family=\"sans-serif\" font-size=\"11px\" font-weight=\"bold\" fill=\"#000\" opacity=\"1\">hour</text></g></g><path class=\"foreground\" aria-hidden=\"true\" d=\"\" pointer-events=\"none\" display=\"none\"/></g></g><g class=\"mark-group role-axis\" role=\"graphics-symbol\" aria-roledescription=\"axis\" aria-label=\"Y-axis titled 'gen_sum' for a linear scale with values from 0 to 260\"><g transform=\"translate(0.5,0.5)\"><path class=\"background\" aria-hidden=\"true\" d=\"M0,0h0v0h0Z\" pointer-events=\"none\"/><g><g class=\"mark-rule role-axis-tick\" pointer-events=\"none\"><line transform=\"translate(0,200)\" x2=\"-5\" y2=\"0\" stroke=\"#888\" stroke-width=\"1\" opacity=\"1\"/><line transform=\"translate(0,162)\" x2=\"-5\" y2=\"0\" stroke=\"#888\" stroke-width=\"1\" opacity=\"1\"/><line transform=\"translate(0,123)\" x2=\"-5\" y2=\"0\" stroke=\"#888\" stroke-width=\"1\" opacity=\"1\"/><line transform=\"translate(0,85)\" x2=\"-5\" y2=\"0\" stroke=\"#888\" stroke-width=\"1\" opacity=\"1\"/><line transform=\"translate(0,46)\" x2=\"-5\" y2=\"0\" stroke=\"#888\" stroke-width=\"1\" opacity=\"1\"/><line transform=\"translate(0,8)\" x2=\"-5\" y2=\"0\" stroke=\"#888\" stroke-width=\"1\" opacity=\"1\"/></g><g class=\"mark-text role-axis-label\" pointer-events=\"none\"><text text-anchor=\"end\" transform=\"translate(-7,203)\" font-family=\"sans-serif\" font-size=\"10px\" fill=\"#000\" opacity=\"1\">0</text><text text-anchor=\"end\" transform=\"translate(-7,164.53846153846155)\" font-family=\"sans-serif\" font-size=\"10px\" fill=\"#000\" opacity=\"1\">50</text><text text-anchor=\"end\" transform=\"translate(-7,126.07692307692308)\" font-family=\"sans-serif\" font-size=\"10px\" fill=\"#000\" opacity=\"1\">100</text><text text-anchor=\"end\" transform=\"translate(-7,87.61538461538463)\" font-family=\"sans-serif\" font-size=\"10px\" fill=\"#000\" opacity=\"1\">150</text><text text-anchor=\"end\" transform=\"translate(-7,49.153846153846146)\" font-family=\"sans-serif\" font-size=\"10px\" fill=\"#000\" opacity=\"1\">200</text><text text-anchor=\"end\" transform=\"translate(-7,10.692307692307686)\" font-family=\"sans-serif\" font-size=\"10px\" fill=\"#000\" opacity=\"1\">250</text></g><g class=\"mark-rule role-axis-domain\" pointer-events=\"none\"><line transform=\"translate(0,200)\" x2=\"0\" y2=\"-200\" stroke=\"#888\" stroke-width=\"1\" opacity=\"1\"/></g><g class=\"mark-text role-axis-title\" pointer-events=\"none\"><text text-anchor=\"middle\" transform=\"translate(-26,100) rotate(-90) translate(0,-2)\" font-family=\"sans-serif\" font-size=\"11px\" font-weight=\"bold\" fill=\"#000\" opacity=\"1\">gen_sum</text></g></g><path class=\"foreground\" aria-hidden=\"true\" d=\"\" pointer-events=\"none\" display=\"none\"/></g></g><g class=\"mark-group role-scope pathgroup\" role=\"graphics-object\" aria-roledescription=\"group mark container\"><g transform=\"translate(0,0)\"><path class=\"background\" aria-hidden=\"true\" d=\"M0,0h20v200h-20Z\"/><g><g class=\"mark-line role-mark marks\" role=\"graphics-object\" aria-roledescription=\"line mark container\"><path aria-label=\"hour: undefined; gen_sum: 21.4; resource: biomass\" role=\"graphics-symbol\" aria-roledescription=\"line mark\" d=\"M10,183.53846153846155Z\" stroke=\"#1f77b4\" stroke-width=\"2\"/></g></g><path class=\"foreground\" aria-hidden=\"true\" d=\"\" display=\"none\"/></g><g transform=\"translate(0,0)\"><path class=\"background\" aria-hidden=\"true\" d=\"M0,0h20v200h-20Z\"/><g><g class=\"mark-line role-mark marks\" role=\"graphics-object\" aria-roledescription=\"line mark container\"><path aria-label=\"hour: undefined; gen_sum: 42; resource: hydroelectric_pumped_storage\" role=\"graphics-symbol\" aria-roledescription=\"line mark\" d=\"M10,167.6923076923077Z\" stroke=\"#aec7e8\" stroke-width=\"2\"/></g></g><path class=\"foreground\" aria-hidden=\"true\" d=\"\" display=\"none\"/></g><g transform=\"translate(0,0)\"><path class=\"background\" aria-hidden=\"true\" d=\"M0,0h20v200h-20Z\"/><g><g class=\"mark-line role-mark marks\" role=\"graphics-object\" aria-roledescription=\"line mark container\"><path aria-label=\"hour: undefined; gen_sum: 244.04638; resource: natural_gas_fired_combined_cycle\" role=\"graphics-symbol\" aria-roledescription=\"line mark\" d=\"M10,12.272015384615331Z\" stroke=\"#ff7f0e\" stroke-width=\"2\"/></g></g><path class=\"foreground\" aria-hidden=\"true\" d=\"\" display=\"none\"/></g><g transform=\"translate(0,0)\"><path class=\"background\" aria-hidden=\"true\" d=\"M0,0h20v200h-20Z\"/><g><g class=\"mark-line role-mark marks\" role=\"graphics-object\" aria-roledescription=\"line mark container\"><path aria-label=\"hour: undefined; gen_sum: 0; resource: natural_gas_fired_combustion_turbine\" role=\"graphics-symbol\" aria-roledescription=\"line mark\" d=\"M10,200Z\" stroke=\"#ffbb78\" stroke-width=\"2\"/></g></g><path class=\"foreground\" aria-hidden=\"true\" d=\"\" display=\"none\"/></g><g transform=\"translate(0,0)\"><path class=\"background\" aria-hidden=\"true\" d=\"M0,0h20v200h-20Z\"/><g><g class=\"mark-line role-mark marks\" role=\"graphics-object\" aria-roledescription=\"line mark container\"><path aria-label=\"hour: undefined; gen_sum: 151.79776; resource: onshore_wind_turbine\" role=\"graphics-symbol\" aria-roledescription=\"line mark\" d=\"M10,83.23249230769233Z\" stroke=\"#2ca02c\" stroke-width=\"2\"/></g></g><path class=\"foreground\" aria-hidden=\"true\" d=\"\" display=\"none\"/></g><g transform=\"translate(0,0)\"><path class=\"background\" aria-hidden=\"true\" d=\"M0,0h20v200h-20Z\"/><g><g class=\"mark-line role-mark marks\" role=\"graphics-object\" aria-roledescription=\"line mark container\"><path aria-label=\"hour: undefined; gen_sum: 1.72386; resource: small_hydroelectric\" role=\"graphics-symbol\" aria-roledescription=\"line mark\" d=\"M10,198.67395384615384Z\" stroke=\"#98df8a\" stroke-width=\"2\"/></g></g><path class=\"foreground\" aria-hidden=\"true\" d=\"\" display=\"none\"/></g><g transform=\"translate(0,0)\"><path class=\"background\" aria-hidden=\"true\" d=\"M0,0h20v200h-20Z\"/><g><g class=\"mark-line role-mark marks\" role=\"graphics-object\" aria-roledescription=\"line mark container\"><path aria-label=\"hour: undefined; gen_sum: 0; resource: solar_photovoltaic\" role=\"graphics-symbol\" aria-roledescription=\"line mark\" d=\"M10,200Z\" stroke=\"#d62728\" stroke-width=\"2\"/></g></g><path class=\"foreground\" aria-hidden=\"true\" d=\"\" display=\"none\"/></g><g transform=\"translate(0,0)\"><path class=\"background\" aria-hidden=\"true\" d=\"M0,0h20v200h-20Z\"/><g><g class=\"mark-line role-mark marks\" role=\"graphics-object\" aria-roledescription=\"line mark container\"><path aria-label=\"hour: undefined; gen_sum: 0; resource: solar_photovoltaic_btm\" role=\"graphics-symbol\" aria-roledescription=\"line mark\" d=\"M10,200Z\" stroke=\"#ff9896\" stroke-width=\"2\"/></g></g><path class=\"foreground\" aria-hidden=\"true\" d=\"\" display=\"none\"/></g></g><g class=\"mark-group role-legend\" role=\"graphics-symbol\" aria-roledescription=\"legend\" aria-label=\"Symbol legend titled 'resource' for stroke color with 8 values: biomass, hydroelectric_pumped_storage, natural_gas_fired_combined_cycle, natural_gas_fired_combustion_turbine, onshore_wind_turbine, ending with solar_photovoltaic_btm\"><g transform=\"translate(38,0)\"><path class=\"background\" aria-hidden=\"true\" d=\"M0,0h173v118h-173Z\" pointer-events=\"none\"/><g><g class=\"mark-group role-legend-entry\"><g transform=\"translate(0,16)\"><path class=\"background\" aria-hidden=\"true\" d=\"M0,0h0v0h0Z\" pointer-events=\"none\"/><g><g class=\"mark-group role-scope\" role=\"graphics-object\" aria-roledescription=\"group mark container\"><g transform=\"translate(0,0)\"><path class=\"background\" aria-hidden=\"true\" d=\"M0,0h173v11h-173Z\" pointer-events=\"none\" opacity=\"1\"/><g><g class=\"mark-symbol role-legend-symbol\" pointer-events=\"none\"><path transform=\"translate(6,6)\" d=\"M-5,0L5,0\" stroke=\"#1f77b4\" stroke-width=\"1.5\" opacity=\"1\"/></g><g class=\"mark-text role-legend-label\" pointer-events=\"none\"><text text-anchor=\"start\" transform=\"translate(16,9)\" font-family=\"sans-serif\" font-size=\"10px\" fill=\"#000\" opacity=\"1\">biomass</text></g></g><path class=\"foreground\" aria-hidden=\"true\" d=\"\" pointer-events=\"none\" display=\"none\"/></g><g transform=\"translate(0,13)\"><path class=\"background\" aria-hidden=\"true\" d=\"M0,0h173v11h-173Z\" pointer-events=\"none\" opacity=\"1\"/><g><g class=\"mark-symbol role-legend-symbol\" pointer-events=\"none\"><path transform=\"translate(6,6)\" d=\"M-5,0L5,0\" stroke=\"#aec7e8\" stroke-width=\"1.5\" opacity=\"1\"/></g><g class=\"mark-text role-legend-label\" pointer-events=\"none\"><text text-anchor=\"start\" transform=\"translate(16,9)\" font-family=\"sans-serif\" font-size=\"10px\" fill=\"#000\" opacity=\"1\">hydroelectric_pumped_storage</text></g></g><path class=\"foreground\" aria-hidden=\"true\" d=\"\" pointer-events=\"none\" display=\"none\"/></g><g transform=\"translate(0,26)\"><path class=\"background\" aria-hidden=\"true\" d=\"M0,0h173v11h-173Z\" pointer-events=\"none\" opacity=\"1\"/><g><g class=\"mark-symbol role-legend-symbol\" pointer-events=\"none\"><path transform=\"translate(6,6)\" d=\"M-5,0L5,0\" stroke=\"#ff7f0e\" stroke-width=\"1.5\" opacity=\"1\"/></g><g class=\"mark-text role-legend-label\" pointer-events=\"none\"><text text-anchor=\"start\" transform=\"translate(16,9)\" font-family=\"sans-serif\" font-size=\"10px\" fill=\"#000\" opacity=\"1\">natural_gas_fired_combined_cycle</text></g></g><path class=\"foreground\" aria-hidden=\"true\" d=\"\" pointer-events=\"none\" display=\"none\"/></g><g transform=\"translate(0,39)\"><path class=\"background\" aria-hidden=\"true\" d=\"M0,0h173v11h-173Z\" pointer-events=\"none\" opacity=\"1\"/><g><g class=\"mark-symbol role-legend-symbol\" pointer-events=\"none\"><path transform=\"translate(6,6)\" d=\"M-5,0L5,0\" stroke=\"#ffbb78\" stroke-width=\"1.5\" opacity=\"1\"/></g><g class=\"mark-text role-legend-label\" pointer-events=\"none\"><text text-anchor=\"start\" transform=\"translate(16,9)\" font-family=\"sans-serif\" font-size=\"10px\" fill=\"#000\" opacity=\"1\">natural_gas_fired_combustion_tur…</text></g></g><path class=\"foreground\" aria-hidden=\"true\" d=\"\" pointer-events=\"none\" display=\"none\"/></g><g transform=\"translate(0,52)\"><path class=\"background\" aria-hidden=\"true\" d=\"M0,0h173v11h-173Z\" pointer-events=\"none\" opacity=\"1\"/><g><g class=\"mark-symbol role-legend-symbol\" pointer-events=\"none\"><path transform=\"translate(6,6)\" d=\"M-5,0L5,0\" stroke=\"#2ca02c\" stroke-width=\"1.5\" opacity=\"1\"/></g><g class=\"mark-text role-legend-label\" pointer-events=\"none\"><text text-anchor=\"start\" transform=\"translate(16,9)\" font-family=\"sans-serif\" font-size=\"10px\" fill=\"#000\" opacity=\"1\">onshore_wind_turbine</text></g></g><path class=\"foreground\" aria-hidden=\"true\" d=\"\" pointer-events=\"none\" display=\"none\"/></g><g transform=\"translate(0,65)\"><path class=\"background\" aria-hidden=\"true\" d=\"M0,0h173v11h-173Z\" pointer-events=\"none\" opacity=\"1\"/><g><g class=\"mark-symbol role-legend-symbol\" pointer-events=\"none\"><path transform=\"translate(6,6)\" d=\"M-5,0L5,0\" stroke=\"#98df8a\" stroke-width=\"1.5\" opacity=\"1\"/></g><g class=\"mark-text role-legend-label\" pointer-events=\"none\"><text text-anchor=\"start\" transform=\"translate(16,9)\" font-family=\"sans-serif\" font-size=\"10px\" fill=\"#000\" opacity=\"1\">small_hydroelectric</text></g></g><path class=\"foreground\" aria-hidden=\"true\" d=\"\" pointer-events=\"none\" display=\"none\"/></g><g transform=\"translate(0,78)\"><path class=\"background\" aria-hidden=\"true\" d=\"M0,0h173v11h-173Z\" pointer-events=\"none\" opacity=\"1\"/><g><g class=\"mark-symbol role-legend-symbol\" pointer-events=\"none\"><path transform=\"translate(6,6)\" d=\"M-5,0L5,0\" stroke=\"#d62728\" stroke-width=\"1.5\" opacity=\"1\"/></g><g class=\"mark-text role-legend-label\" pointer-events=\"none\"><text text-anchor=\"start\" transform=\"translate(16,9)\" font-family=\"sans-serif\" font-size=\"10px\" fill=\"#000\" opacity=\"1\">solar_photovoltaic</text></g></g><path class=\"foreground\" aria-hidden=\"true\" d=\"\" pointer-events=\"none\" display=\"none\"/></g><g transform=\"translate(0,91)\"><path class=\"background\" aria-hidden=\"true\" d=\"M0,0h173v11h-173Z\" pointer-events=\"none\" opacity=\"1\"/><g><g class=\"mark-symbol role-legend-symbol\" pointer-events=\"none\"><path transform=\"translate(6,6)\" d=\"M-5,0L5,0\" stroke=\"#ff9896\" stroke-width=\"1.5\" opacity=\"1\"/></g><g class=\"mark-text role-legend-label\" pointer-events=\"none\"><text text-anchor=\"start\" transform=\"translate(16,9)\" font-family=\"sans-serif\" font-size=\"10px\" fill=\"#000\" opacity=\"1\">solar_photovoltaic_btm</text></g></g><path class=\"foreground\" aria-hidden=\"true\" d=\"\" pointer-events=\"none\" display=\"none\"/></g></g></g><path class=\"foreground\" aria-hidden=\"true\" d=\"\" pointer-events=\"none\" display=\"none\"/></g></g><g class=\"mark-text role-legend-title\" pointer-events=\"none\"><text text-anchor=\"start\" transform=\"translate(0,9)\" font-family=\"sans-serif\" font-size=\"11px\" font-weight=\"bold\" fill=\"#000\" opacity=\"1\">resource</text></g></g><path class=\"foreground\" aria-hidden=\"true\" d=\"\" pointer-events=\"none\" display=\"none\"/></g></g></g><path class=\"foreground\" aria-hidden=\"true\" d=\"\" display=\"none\"/></g></g></g></svg>\n"
      ],
      "text/plain": [
       "@vlplot(\n",
       "    mark=\"line\",\n",
       "    encoding={\n",
       "        x={\n",
       "            field=\"hour\"\n",
       "        },\n",
       "        y={\n",
       "            field=\"gen_sum\"\n",
       "        },\n",
       "        color={\n",
       "            scale={\n",
       "                scheme=\"category20\"\n",
       "            },\n",
       "            field=\"resource\",\n",
       "            type=\"nominal\"\n",
       "        }\n",
       "    },\n",
       "    data={\n",
       "        values=...\n",
       "    }\n",
       ")"
      ]
     },
     "execution_count": 38,
     "metadata": {},
     "output_type": "execute_result"
    }
   ],
   "source": [
    "# Plot hourly generation by each resource type\n",
    "sol_gen_btm |>\n",
    "@vlplot(:line, \n",
    "    x=:hour, y=:gen_sum, \n",
    "    color={\"resource:n\", scale={scheme=\"category20\"}})"
   ]
  },
  {
   "cell_type": "code",
   "execution_count": 50,
   "id": "afcc54a5",
   "metadata": {},
   "outputs": [
    {
     "data": {
      "application/vnd.vegalite.v4+json": {
       "data": {
        "values": [
         {
          "gen_sum": 36.861439999999995,
          "hour": 1,
          "resource": "_onshore_wind_turbine"
         },
         {
          "gen_sum": 2.18868,
          "hour": 1,
          "resource": "_small_hydroelectric"
         },
         {
          "gen_sum": 0,
          "hour": 1,
          "resource": "_solar_photovoltaic"
         },
         {
          "gen_sum": 0,
          "hour": 1,
          "resource": "_solar_photovoltaic_btm"
         },
         {
          "gen_sum": 21.4,
          "hour": 1,
          "resource": "biomass"
         },
         {
          "gen_sum": 42,
          "hour": 1,
          "resource": "hydroelectric_pumped_storage"
         },
         {
          "gen_sum": 522.41988,
          "hour": 1,
          "resource": "natural_gas_fired_combined_cycle"
         },
         {
          "gen_sum": 0,
          "hour": 1,
          "resource": "natural_gas_fired_combustion_turbine"
         },
         {
          "gen_sum": 36.07808,
          "hour": 2,
          "resource": "_onshore_wind_turbine"
         },
         {
          "gen_sum": 2.186484,
          "hour": 2,
          "resource": "_small_hydroelectric"
         },
         {
          "gen_sum": 0,
          "hour": 2,
          "resource": "_solar_photovoltaic"
         },
         {
          "gen_sum": 0,
          "hour": 2,
          "resource": "_solar_photovoltaic_btm"
         },
         {
          "gen_sum": 21.4,
          "hour": 2,
          "resource": "biomass"
         },
         {
          "gen_sum": 42,
          "hour": 2,
          "resource": "hydroelectric_pumped_storage"
         },
         {
          "gen_sum": 513.2234360000001,
          "hour": 2,
          "resource": "natural_gas_fired_combined_cycle"
         },
         {
          "gen_sum": 0,
          "hour": 2,
          "resource": "natural_gas_fired_combustion_turbine"
         },
         {
          "gen_sum": 32.68352,
          "hour": 3,
          "resource": "_onshore_wind_turbine"
         },
         {
          "gen_sum": 2.184288,
          "hour": 3,
          "resource": "_small_hydroelectric"
         },
         {
          "gen_sum": 0,
          "hour": 3,
          "resource": "_solar_photovoltaic"
         },
         {
          "gen_sum": 0,
          "hour": 3,
          "resource": "_solar_photovoltaic_btm"
         },
         {
          "gen_sum": 21.4,
          "hour": 3,
          "resource": "biomass"
         },
         {
          "gen_sum": 42,
          "hour": 3,
          "resource": "hydroelectric_pumped_storage"
         },
         {
          "gen_sum": 480.765192,
          "hour": 3,
          "resource": "natural_gas_fired_combined_cycle"
         },
         {
          "gen_sum": 0,
          "hour": 3,
          "resource": "natural_gas_fired_combustion_turbine"
         },
         {
          "gen_sum": 31.6608,
          "hour": 4,
          "resource": "_onshore_wind_turbine"
         },
         {
          "gen_sum": 2.182092,
          "hour": 4,
          "resource": "_small_hydroelectric"
         },
         {
          "gen_sum": 0,
          "hour": 4,
          "resource": "_solar_photovoltaic"
         },
         {
          "gen_sum": 0,
          "hour": 4,
          "resource": "_solar_photovoltaic_btm"
         },
         {
          "gen_sum": 21.4,
          "hour": 4,
          "resource": "biomass"
         },
         {
          "gen_sum": 42,
          "hour": 4,
          "resource": "hydroelectric_pumped_storage"
         },
         {
          "gen_sum": 394.390108,
          "hour": 4,
          "resource": "natural_gas_fired_combined_cycle"
         },
         {
          "gen_sum": 0,
          "hour": 4,
          "resource": "natural_gas_fired_combustion_turbine"
         },
         {
          "gen_sum": 20.28032,
          "hour": 5,
          "resource": "_onshore_wind_turbine"
         },
         {
          "gen_sum": 2.1798960000000003,
          "hour": 5,
          "resource": "_small_hydroelectric"
         },
         {
          "gen_sum": 0,
          "hour": 5,
          "resource": "_solar_photovoltaic"
         },
         {
          "gen_sum": 0,
          "hour": 5,
          "resource": "_solar_photovoltaic_btm"
         },
         {
          "gen_sum": 21.4,
          "hour": 5,
          "resource": "biomass"
         },
         {
          "gen_sum": 42,
          "hour": 5,
          "resource": "hydroelectric_pumped_storage"
         },
         {
          "gen_sum": 375.10778400000004,
          "hour": 5,
          "resource": "natural_gas_fired_combined_cycle"
         },
         {
          "gen_sum": 0,
          "hour": 5,
          "resource": "natural_gas_fired_combustion_turbine"
         },
         {
          "gen_sum": 15.60192,
          "hour": 6,
          "resource": "_onshore_wind_turbine"
         },
         {
          "gen_sum": 2.176968,
          "hour": 6,
          "resource": "_small_hydroelectric"
         },
         {
          "gen_sum": 0,
          "hour": 6,
          "resource": "_solar_photovoltaic"
         },
         {
          "gen_sum": 0,
          "hour": 6,
          "resource": "_solar_photovoltaic_btm"
         },
         {
          "gen_sum": 21.4,
          "hour": 6,
          "resource": "biomass"
         },
         {
          "gen_sum": 42,
          "hour": 6,
          "resource": "hydroelectric_pumped_storage"
         },
         {
          "gen_sum": 402.95511200000004,
          "hour": 6,
          "resource": "natural_gas_fired_combined_cycle"
         },
         {
          "gen_sum": 0,
          "hour": 6,
          "resource": "natural_gas_fired_combustion_turbine"
         },
         {
          "gen_sum": 4.59136,
          "hour": 7,
          "resource": "_onshore_wind_turbine"
         },
         {
          "gen_sum": 2.174772,
          "hour": 7,
          "resource": "_small_hydroelectric"
         },
         {
          "gen_sum": 0,
          "hour": 7,
          "resource": "_solar_photovoltaic"
         },
         {
          "gen_sum": 0,
          "hour": 7,
          "resource": "_solar_photovoltaic_btm"
         },
         {
          "gen_sum": 21.4,
          "hour": 7,
          "resource": "biomass"
         },
         {
          "gen_sum": 42,
          "hour": 7,
          "resource": "hydroelectric_pumped_storage"
         },
         {
          "gen_sum": 453.175868,
          "hour": 7,
          "resource": "natural_gas_fired_combined_cycle"
         },
         {
          "gen_sum": 0,
          "hour": 7,
          "resource": "natural_gas_fired_combustion_turbine"
         },
         {
          "gen_sum": 4.70016,
          "hour": 8,
          "resource": "_onshore_wind_turbine"
         },
         {
          "gen_sum": 2.1725760000000003,
          "hour": 8,
          "resource": "_small_hydroelectric"
         },
         {
          "gen_sum": 170.8,
          "hour": 8,
          "resource": "_solar_photovoltaic"
         },
         {
          "gen_sum": 29.28,
          "hour": 8,
          "resource": "_solar_photovoltaic_btm"
         },
         {
          "gen_sum": 21.4,
          "hour": 8,
          "resource": "biomass"
         },
         {
          "gen_sum": 42,
          "hour": 8,
          "resource": "hydroelectric_pumped_storage"
         },
         {
          "gen_sum": 351.07126400000004,
          "hour": 8,
          "resource": "natural_gas_fired_combined_cycle"
         },
         {
          "gen_sum": 0,
          "hour": 8,
          "resource": "natural_gas_fired_combustion_turbine"
         },
         {
          "gen_sum": 0,
          "hour": 9,
          "resource": "_onshore_wind_turbine"
         },
         {
          "gen_sum": 0,
          "hour": 9,
          "resource": "_small_hydroelectric"
         },
         {
          "gen_sum": 698.155,
          "hour": 9,
          "resource": "_solar_photovoltaic"
         },
         {
          "gen_sum": 210.89999999999998,
          "hour": 9,
          "resource": "_solar_photovoltaic_btm"
         },
         {
          "gen_sum": 0,
          "hour": 9,
          "resource": "biomass"
         },
         {
          "gen_sum": 0,
          "hour": 9,
          "resource": "hydroelectric_pumped_storage"
         },
         {
          "gen_sum": 0,
          "hour": 9,
          "resource": "natural_gas_fired_combined_cycle"
         },
         {
          "gen_sum": 0,
          "hour": 9,
          "resource": "natural_gas_fired_combustion_turbine"
         }
        ]
       },
       "encoding": {
        "color": {
         "field": "resource",
         "scale": {
          "scheme": "category20"
         },
         "type": "nominal"
        },
        "x": {
         "field": "hour",
         "type": "quantitative"
        },
        "y": {
         "field": "gen_sum",
         "stack": "zero",
         "type": "quantitative"
        }
       },
       "height": 600,
       "mark": "area",
       "width": 600
      },
      "image/png": "[encoded data removed]",
      "image/svg+xml": [
       "<?xml version=\"1.0\" encoding=\"utf-8\"?>\n",
       "<!DOCTYPE svg PUBLIC \"-//W3C//DTD SVG 1.1//EN\" \"http://www.w3.org/Graphics/SVG/1.1/DTD/svg11.dtd\">\n",
       "<svg xmlns=\"http://www.w3.org/2000/svg\" xmlns:xlink=\"http://www.w3.org/1999/xlink\" version=\"1.1\" class=\"marks\" width=\"846\" height=\"647\" viewBox=\"0 0 846 647\"><rect width=\"846\" height=\"647\" fill=\"white\"/><g fill=\"none\" stroke-miterlimit=\"10\" transform=\"translate(50,10)\"><g class=\"mark-group role-frame root\" role=\"graphics-object\" aria-roledescription=\"group mark container\"><g transform=\"translate(0,0)\"><path class=\"background\" aria-hidden=\"true\" d=\"M0.5,0.5h600v600h-600Z\" stroke=\"#ddd\"/><g><g class=\"mark-group role-axis\" aria-hidden=\"true\"><g transform=\"translate(0.5,600.5)\"><path class=\"background\" aria-hidden=\"true\" d=\"M0,0h0v0h0Z\" pointer-events=\"none\"/><g><g class=\"mark-rule role-axis-grid\" pointer-events=\"none\"><line transform=\"translate(0,-600)\" x2=\"0\" y2=\"600\" stroke=\"#ddd\" stroke-width=\"1\" opacity=\"1\"/><line transform=\"translate(38,-600)\" x2=\"0\" y2=\"600\" stroke=\"#ddd\" stroke-width=\"1\" opacity=\"1\"/><line transform=\"translate(75,-600)\" x2=\"0\" y2=\"600\" stroke=\"#ddd\" stroke-width=\"1\" opacity=\"1\"/><line transform=\"translate(113,-600)\" x2=\"0\" y2=\"600\" stroke=\"#ddd\" stroke-width=\"1\" opacity=\"1\"/><line transform=\"translate(150,-600)\" x2=\"0\" y2=\"600\" stroke=\"#ddd\" stroke-width=\"1\" opacity=\"1\"/><line transform=\"translate(188,-600)\" x2=\"0\" y2=\"600\" stroke=\"#ddd\" stroke-width=\"1\" opacity=\"1\"/><line transform=\"translate(225,-600)\" x2=\"0\" y2=\"600\" stroke=\"#ddd\" stroke-width=\"1\" opacity=\"1\"/><line transform=\"translate(263,-600)\" x2=\"0\" y2=\"600\" stroke=\"#ddd\" stroke-width=\"1\" opacity=\"1\"/><line transform=\"translate(300,-600)\" x2=\"0\" y2=\"600\" stroke=\"#ddd\" stroke-width=\"1\" opacity=\"1\"/><line transform=\"translate(338,-600)\" x2=\"0\" y2=\"600\" stroke=\"#ddd\" stroke-width=\"1\" opacity=\"1\"/><line transform=\"translate(375,-600)\" x2=\"0\" y2=\"600\" stroke=\"#ddd\" stroke-width=\"1\" opacity=\"1\"/><line transform=\"translate(413,-600)\" x2=\"0\" y2=\"600\" stroke=\"#ddd\" stroke-width=\"1\" opacity=\"1\"/><line transform=\"translate(450,-600)\" x2=\"0\" y2=\"600\" stroke=\"#ddd\" stroke-width=\"1\" opacity=\"1\"/><line transform=\"translate(488,-600)\" x2=\"0\" y2=\"600\" stroke=\"#ddd\" stroke-width=\"1\" opacity=\"1\"/><line transform=\"translate(525,-600)\" x2=\"0\" y2=\"600\" stroke=\"#ddd\" stroke-width=\"1\" opacity=\"1\"/><line transform=\"translate(563,-600)\" x2=\"0\" y2=\"600\" stroke=\"#ddd\" stroke-width=\"1\" opacity=\"1\"/><line transform=\"translate(600,-600)\" x2=\"0\" y2=\"600\" stroke=\"#ddd\" stroke-width=\"1\" opacity=\"1\"/></g></g><path class=\"foreground\" aria-hidden=\"true\" d=\"\" pointer-events=\"none\" display=\"none\"/></g></g><g class=\"mark-group role-axis\" aria-hidden=\"true\"><g transform=\"translate(0.5,0.5)\"><path class=\"background\" aria-hidden=\"true\" d=\"M0,0h0v0h0Z\" pointer-events=\"none\"/><g><g class=\"mark-rule role-axis-grid\" pointer-events=\"none\"><line transform=\"translate(0,600)\" x2=\"600\" y2=\"0\" stroke=\"#ddd\" stroke-width=\"1\" opacity=\"1\"/><line transform=\"translate(0,570)\" x2=\"600\" y2=\"0\" stroke=\"#ddd\" stroke-width=\"1\" opacity=\"1\"/><line transform=\"translate(0,540)\" x2=\"600\" y2=\"0\" stroke=\"#ddd\" stroke-width=\"1\" opacity=\"1\"/><line transform=\"translate(0,510)\" x2=\"600\" y2=\"0\" stroke=\"#ddd\" stroke-width=\"1\" opacity=\"1\"/><line transform=\"translate(0,480)\" x2=\"600\" y2=\"0\" stroke=\"#ddd\" stroke-width=\"1\" opacity=\"1\"/><line transform=\"translate(0,450)\" x2=\"600\" y2=\"0\" stroke=\"#ddd\" stroke-width=\"1\" opacity=\"1\"/><line transform=\"translate(0,420)\" x2=\"600\" y2=\"0\" stroke=\"#ddd\" stroke-width=\"1\" opacity=\"1\"/><line transform=\"translate(0,390)\" x2=\"600\" y2=\"0\" stroke=\"#ddd\" stroke-width=\"1\" opacity=\"1\"/><line transform=\"translate(0,360)\" x2=\"600\" y2=\"0\" stroke=\"#ddd\" stroke-width=\"1\" opacity=\"1\"/><line transform=\"translate(0,330)\" x2=\"600\" y2=\"0\" stroke=\"#ddd\" stroke-width=\"1\" opacity=\"1\"/><line transform=\"translate(0,300)\" x2=\"600\" y2=\"0\" stroke=\"#ddd\" stroke-width=\"1\" opacity=\"1\"/><line transform=\"translate(0,270)\" x2=\"600\" y2=\"0\" stroke=\"#ddd\" stroke-width=\"1\" opacity=\"1\"/><line transform=\"translate(0,240)\" x2=\"600\" y2=\"0\" stroke=\"#ddd\" stroke-width=\"1\" opacity=\"1\"/><line transform=\"translate(0,210)\" x2=\"600\" y2=\"0\" stroke=\"#ddd\" stroke-width=\"1\" opacity=\"1\"/><line transform=\"translate(0,180)\" x2=\"600\" y2=\"0\" stroke=\"#ddd\" stroke-width=\"1\" opacity=\"1\"/><line transform=\"translate(0,150)\" x2=\"600\" y2=\"0\" stroke=\"#ddd\" stroke-width=\"1\" opacity=\"1\"/><line transform=\"translate(0,120)\" x2=\"600\" y2=\"0\" stroke=\"#ddd\" stroke-width=\"1\" opacity=\"1\"/><line transform=\"translate(0,90)\" x2=\"600\" y2=\"0\" stroke=\"#ddd\" stroke-width=\"1\" opacity=\"1\"/><line transform=\"translate(0,60)\" x2=\"600\" y2=\"0\" stroke=\"#ddd\" stroke-width=\"1\" opacity=\"1\"/><line transform=\"translate(0,30)\" x2=\"600\" y2=\"0\" stroke=\"#ddd\" stroke-width=\"1\" opacity=\"1\"/><line transform=\"translate(0,0)\" x2=\"600\" y2=\"0\" stroke=\"#ddd\" stroke-width=\"1\" opacity=\"1\"/></g></g><path class=\"foreground\" aria-hidden=\"true\" d=\"\" pointer-events=\"none\" display=\"none\"/></g></g><g class=\"mark-group role-axis\" role=\"graphics-symbol\" aria-roledescription=\"axis\" aria-label=\"X-axis titled 'hour' for a linear scale with values from 1 to 9\"><g transform=\"translate(0.5,600.5)\"><path class=\"background\" aria-hidden=\"true\" d=\"M0,0h0v0h0Z\" pointer-events=\"none\"/><g><g class=\"mark-rule role-axis-tick\" pointer-events=\"none\"><line transform=\"translate(0,0)\" x2=\"0\" y2=\"5\" stroke=\"#888\" stroke-width=\"1\" opacity=\"1\"/><line transform=\"translate(38,0)\" x2=\"0\" y2=\"5\" stroke=\"#888\" stroke-width=\"1\" opacity=\"1\"/><line transform=\"translate(75,0)\" x2=\"0\" y2=\"5\" stroke=\"#888\" stroke-width=\"1\" opacity=\"1\"/><line transform=\"translate(113,0)\" x2=\"0\" y2=\"5\" stroke=\"#888\" stroke-width=\"1\" opacity=\"1\"/><line transform=\"translate(150,0)\" x2=\"0\" y2=\"5\" stroke=\"#888\" stroke-width=\"1\" opacity=\"1\"/><line transform=\"translate(188,0)\" x2=\"0\" y2=\"5\" stroke=\"#888\" stroke-width=\"1\" opacity=\"1\"/><line transform=\"translate(225,0)\" x2=\"0\" y2=\"5\" stroke=\"#888\" stroke-width=\"1\" opacity=\"1\"/><line transform=\"translate(263,0)\" x2=\"0\" y2=\"5\" stroke=\"#888\" stroke-width=\"1\" opacity=\"1\"/><line transform=\"translate(300,0)\" x2=\"0\" y2=\"5\" stroke=\"#888\" stroke-width=\"1\" opacity=\"1\"/><line transform=\"translate(338,0)\" x2=\"0\" y2=\"5\" stroke=\"#888\" stroke-width=\"1\" opacity=\"1\"/><line transform=\"translate(375,0)\" x2=\"0\" y2=\"5\" stroke=\"#888\" stroke-width=\"1\" opacity=\"1\"/><line transform=\"translate(413,0)\" x2=\"0\" y2=\"5\" stroke=\"#888\" stroke-width=\"1\" opacity=\"1\"/><line transform=\"translate(450,0)\" x2=\"0\" y2=\"5\" stroke=\"#888\" stroke-width=\"1\" opacity=\"1\"/><line transform=\"translate(488,0)\" x2=\"0\" y2=\"5\" stroke=\"#888\" stroke-width=\"1\" opacity=\"1\"/><line transform=\"translate(525,0)\" x2=\"0\" y2=\"5\" stroke=\"#888\" stroke-width=\"1\" opacity=\"1\"/><line transform=\"translate(563,0)\" x2=\"0\" y2=\"5\" stroke=\"#888\" stroke-width=\"1\" opacity=\"1\"/><line transform=\"translate(600,0)\" x2=\"0\" y2=\"5\" stroke=\"#888\" stroke-width=\"1\" opacity=\"1\"/></g><g class=\"mark-text role-axis-label\" pointer-events=\"none\"><text text-anchor=\"start\" transform=\"translate(0,15)\" font-family=\"sans-serif\" font-size=\"10px\" fill=\"#000\" opacity=\"1\">1.0</text><text text-anchor=\"middle\" transform=\"translate(37.5,15)\" font-family=\"sans-serif\" font-size=\"10px\" fill=\"#000\" opacity=\"1\">1.5</text><text text-anchor=\"middle\" transform=\"translate(75,15)\" font-family=\"sans-serif\" font-size=\"10px\" fill=\"#000\" opacity=\"1\">2.0</text><text text-anchor=\"middle\" transform=\"translate(112.5,15)\" font-family=\"sans-serif\" font-size=\"10px\" fill=\"#000\" opacity=\"1\">2.5</text><text text-anchor=\"middle\" transform=\"translate(150,15)\" font-family=\"sans-serif\" font-size=\"10px\" fill=\"#000\" opacity=\"1\">3.0</text><text text-anchor=\"middle\" transform=\"translate(187.5,15)\" font-family=\"sans-serif\" font-size=\"10px\" fill=\"#000\" opacity=\"1\">3.5</text><text text-anchor=\"middle\" transform=\"translate(225,15)\" font-family=\"sans-serif\" font-size=\"10px\" fill=\"#000\" opacity=\"1\">4.0</text><text text-anchor=\"middle\" transform=\"translate(262.5,15)\" font-family=\"sans-serif\" font-size=\"10px\" fill=\"#000\" opacity=\"1\">4.5</text><text text-anchor=\"middle\" transform=\"translate(300,15)\" font-family=\"sans-serif\" font-size=\"10px\" fill=\"#000\" opacity=\"1\">5.0</text><text text-anchor=\"middle\" transform=\"translate(337.5,15)\" font-family=\"sans-serif\" font-size=\"10px\" fill=\"#000\" opacity=\"1\">5.5</text><text text-anchor=\"middle\" transform=\"translate(375,15)\" font-family=\"sans-serif\" font-size=\"10px\" fill=\"#000\" opacity=\"1\">6.0</text><text text-anchor=\"middle\" transform=\"translate(412.5,15)\" font-family=\"sans-serif\" font-size=\"10px\" fill=\"#000\" opacity=\"1\">6.5</text><text text-anchor=\"middle\" transform=\"translate(450,15)\" font-family=\"sans-serif\" font-size=\"10px\" fill=\"#000\" opacity=\"1\">7.0</text><text text-anchor=\"middle\" transform=\"translate(487.5,15)\" font-family=\"sans-serif\" font-size=\"10px\" fill=\"#000\" opacity=\"1\">7.5</text><text text-anchor=\"middle\" transform=\"translate(525,15)\" font-family=\"sans-serif\" font-size=\"10px\" fill=\"#000\" opacity=\"1\">8.0</text><text text-anchor=\"middle\" transform=\"translate(562.5,15)\" font-family=\"sans-serif\" font-size=\"10px\" fill=\"#000\" opacity=\"1\">8.5</text><text text-anchor=\"end\" transform=\"translate(600,15)\" font-family=\"sans-serif\" font-size=\"10px\" fill=\"#000\" opacity=\"1\">9.0</text></g><g class=\"mark-rule role-axis-domain\" pointer-events=\"none\"><line transform=\"translate(0,0)\" x2=\"600\" y2=\"0\" stroke=\"#888\" stroke-width=\"1\" opacity=\"1\"/></g><g class=\"mark-text role-axis-title\" pointer-events=\"none\"><text text-anchor=\"middle\" transform=\"translate(300,30)\" font-family=\"sans-serif\" font-size=\"11px\" font-weight=\"bold\" fill=\"#000\" opacity=\"1\">hour</text></g></g><path class=\"foreground\" aria-hidden=\"true\" d=\"\" pointer-events=\"none\" display=\"none\"/></g></g><g class=\"mark-group role-axis\" role=\"graphics-symbol\" aria-roledescription=\"axis\" aria-label=\"Y-axis titled 'gen_sum' for a linear scale with values from 0 to 1,000\"><g transform=\"translate(0.5,0.5)\"><path class=\"background\" aria-hidden=\"true\" d=\"M0,0h0v0h0Z\" pointer-events=\"none\"/><g><g class=\"mark-rule role-axis-tick\" pointer-events=\"none\"><line transform=\"translate(0,600)\" x2=\"-5\" y2=\"0\" stroke=\"#888\" stroke-width=\"1\" opacity=\"1\"/><line transform=\"translate(0,570)\" x2=\"-5\" y2=\"0\" stroke=\"#888\" stroke-width=\"1\" opacity=\"1\"/><line transform=\"translate(0,540)\" x2=\"-5\" y2=\"0\" stroke=\"#888\" stroke-width=\"1\" opacity=\"1\"/><line transform=\"translate(0,510)\" x2=\"-5\" y2=\"0\" stroke=\"#888\" stroke-width=\"1\" opacity=\"1\"/><line transform=\"translate(0,480)\" x2=\"-5\" y2=\"0\" stroke=\"#888\" stroke-width=\"1\" opacity=\"1\"/><line transform=\"translate(0,450)\" x2=\"-5\" y2=\"0\" stroke=\"#888\" stroke-width=\"1\" opacity=\"1\"/><line transform=\"translate(0,420)\" x2=\"-5\" y2=\"0\" stroke=\"#888\" stroke-width=\"1\" opacity=\"1\"/><line transform=\"translate(0,390)\" x2=\"-5\" y2=\"0\" stroke=\"#888\" stroke-width=\"1\" opacity=\"1\"/><line transform=\"translate(0,360)\" x2=\"-5\" y2=\"0\" stroke=\"#888\" stroke-width=\"1\" opacity=\"1\"/><line transform=\"translate(0,330)\" x2=\"-5\" y2=\"0\" stroke=\"#888\" stroke-width=\"1\" opacity=\"1\"/><line transform=\"translate(0,300)\" x2=\"-5\" y2=\"0\" stroke=\"#888\" stroke-width=\"1\" opacity=\"1\"/><line transform=\"translate(0,270)\" x2=\"-5\" y2=\"0\" stroke=\"#888\" stroke-width=\"1\" opacity=\"1\"/><line transform=\"translate(0,240)\" x2=\"-5\" y2=\"0\" stroke=\"#888\" stroke-width=\"1\" opacity=\"1\"/><line transform=\"translate(0,210)\" x2=\"-5\" y2=\"0\" stroke=\"#888\" stroke-width=\"1\" opacity=\"1\"/><line transform=\"translate(0,180)\" x2=\"-5\" y2=\"0\" stroke=\"#888\" stroke-width=\"1\" opacity=\"1\"/><line transform=\"translate(0,150)\" x2=\"-5\" y2=\"0\" stroke=\"#888\" stroke-width=\"1\" opacity=\"1\"/><line transform=\"translate(0,120)\" x2=\"-5\" y2=\"0\" stroke=\"#888\" stroke-width=\"1\" opacity=\"1\"/><line transform=\"translate(0,90)\" x2=\"-5\" y2=\"0\" stroke=\"#888\" stroke-width=\"1\" opacity=\"1\"/><line transform=\"translate(0,60)\" x2=\"-5\" y2=\"0\" stroke=\"#888\" stroke-width=\"1\" opacity=\"1\"/><line transform=\"translate(0,30)\" x2=\"-5\" y2=\"0\" stroke=\"#888\" stroke-width=\"1\" opacity=\"1\"/><line transform=\"translate(0,0)\" x2=\"-5\" y2=\"0\" stroke=\"#888\" stroke-width=\"1\" opacity=\"1\"/></g><g class=\"mark-text role-axis-label\" pointer-events=\"none\"><text text-anchor=\"end\" transform=\"translate(-7,603)\" font-family=\"sans-serif\" font-size=\"10px\" fill=\"#000\" opacity=\"1\">0</text><text text-anchor=\"end\" transform=\"translate(-7,573)\" font-family=\"sans-serif\" font-size=\"10px\" fill=\"#000\" opacity=\"1\">50</text><text text-anchor=\"end\" transform=\"translate(-7,543)\" font-family=\"sans-serif\" font-size=\"10px\" fill=\"#000\" opacity=\"1\">100</text><text text-anchor=\"end\" transform=\"translate(-7,513)\" font-family=\"sans-serif\" font-size=\"10px\" fill=\"#000\" opacity=\"1\">150</text><text text-anchor=\"end\" transform=\"translate(-7,483)\" font-family=\"sans-serif\" font-size=\"10px\" fill=\"#000\" opacity=\"1\">200</text><text text-anchor=\"end\" transform=\"translate(-7,453)\" font-family=\"sans-serif\" font-size=\"10px\" fill=\"#000\" opacity=\"1\">250</text><text text-anchor=\"end\" transform=\"translate(-7,423)\" font-family=\"sans-serif\" font-size=\"10px\" fill=\"#000\" opacity=\"1\">300</text><text text-anchor=\"end\" transform=\"translate(-7,393)\" font-family=\"sans-serif\" font-size=\"10px\" fill=\"#000\" opacity=\"1\">350</text><text text-anchor=\"end\" transform=\"translate(-7,363)\" font-family=\"sans-serif\" font-size=\"10px\" fill=\"#000\" opacity=\"1\">400</text><text text-anchor=\"end\" transform=\"translate(-7,333)\" font-family=\"sans-serif\" font-size=\"10px\" fill=\"#000\" opacity=\"1\">450</text><text text-anchor=\"end\" transform=\"translate(-7,303)\" font-family=\"sans-serif\" font-size=\"10px\" fill=\"#000\" opacity=\"1\">500</text><text text-anchor=\"end\" transform=\"translate(-7,273)\" font-family=\"sans-serif\" font-size=\"10px\" fill=\"#000\" opacity=\"1\">550</text><text text-anchor=\"end\" transform=\"translate(-7,243)\" font-family=\"sans-serif\" font-size=\"10px\" fill=\"#000\" opacity=\"1\">600</text><text text-anchor=\"end\" transform=\"translate(-7,213)\" font-family=\"sans-serif\" font-size=\"10px\" fill=\"#000\" opacity=\"1\">650</text><text text-anchor=\"end\" transform=\"translate(-7,183.00000000000003)\" font-family=\"sans-serif\" font-size=\"10px\" fill=\"#000\" opacity=\"1\">700</text><text text-anchor=\"end\" transform=\"translate(-7,153)\" font-family=\"sans-serif\" font-size=\"10px\" fill=\"#000\" opacity=\"1\">750</text><text text-anchor=\"end\" transform=\"translate(-7,122.99999999999997)\" font-family=\"sans-serif\" font-size=\"10px\" fill=\"#000\" opacity=\"1\">800</text><text text-anchor=\"end\" transform=\"translate(-7,93.00000000000001)\" font-family=\"sans-serif\" font-size=\"10px\" fill=\"#000\" opacity=\"1\">850</text><text text-anchor=\"end\" transform=\"translate(-7,62.999999999999986)\" font-family=\"sans-serif\" font-size=\"10px\" fill=\"#000\" opacity=\"1\">900</text><text text-anchor=\"end\" transform=\"translate(-7,33.00000000000003)\" font-family=\"sans-serif\" font-size=\"10px\" fill=\"#000\" opacity=\"1\">950</text><text text-anchor=\"end\" transform=\"translate(-7,3)\" font-family=\"sans-serif\" font-size=\"10px\" fill=\"#000\" opacity=\"1\">1,000</text></g><g class=\"mark-rule role-axis-domain\" pointer-events=\"none\"><line transform=\"translate(0,600)\" x2=\"0\" y2=\"-600\" stroke=\"#888\" stroke-width=\"1\" opacity=\"1\"/></g><g class=\"mark-text role-axis-title\" pointer-events=\"none\"><text text-anchor=\"middle\" transform=\"translate(-34,300) rotate(-90) translate(0,-2)\" font-family=\"sans-serif\" font-size=\"11px\" font-weight=\"bold\" fill=\"#000\" opacity=\"1\">gen_sum</text></g></g><path class=\"foreground\" aria-hidden=\"true\" d=\"\" pointer-events=\"none\" display=\"none\"/></g></g><g class=\"mark-group role-scope pathgroup\" role=\"graphics-object\" aria-roledescription=\"group mark container\"><g transform=\"translate(0,0)\"><path class=\"background\" aria-hidden=\"true\" d=\"M0,0h600v600h-600Z\"/><g><g class=\"mark-area role-mark marks\" role=\"graphics-object\" aria-roledescription=\"area mark container\"><path aria-label=\"hour: 1; gen_sum: 36.86144; resource: _onshore_wind_turbine\" role=\"graphics-symbol\" aria-roledescription=\"area mark\" d=\"M0,225.07799999999997L75,231.0672L150,252.58019999999993L225,305.0202L300,323.4192L375,309.51959999999997L450,285.9948L525,227.1456L600,54.567000000000036L600,54.567000000000036L525,229.96569599999998L450,288.74961600000006L375,318.880752L300,335.58739199999997L225,324.01668L150,272.19031199999995L75,252.71404799999993L0,247.194864Z\" fill=\"#1f77b4\"/></g></g><path class=\"foreground\" aria-hidden=\"true\" d=\"\" display=\"none\"/></g><g transform=\"translate(0,0)\"><path class=\"background\" aria-hidden=\"true\" d=\"M0,0h600v600h-600Z\"/><g><g class=\"mark-area role-mark marks\" role=\"graphics-object\" aria-roledescription=\"area mark container\"><path aria-label=\"hour: 1; gen_sum: 2.18868; resource: _small_hydroelectric\" role=\"graphics-symbol\" aria-roledescription=\"area mark\" d=\"M0,247.194864L75,252.71404799999993L150,272.19031199999995L225,324.01668L300,335.58739199999997L375,318.880752L450,288.74961600000006L525,229.96569599999998L600,54.567000000000036L600,54.567000000000036L525,231.26924160000004L450,290.0544792L375,320.18693279999997L300,336.89532959999997L225,325.3259352L150,273.5008848L75,254.02593839999994L0,248.50807200000003Z\" fill=\"#aec7e8\"/></g></g><path class=\"foreground\" aria-hidden=\"true\" d=\"\" display=\"none\"/></g><g transform=\"translate(0,0)\"><path class=\"background\" aria-hidden=\"true\" d=\"M0,0h600v600h-600Z\"/><g><g class=\"mark-area role-mark marks\" role=\"graphics-object\" aria-roledescription=\"area mark container\"><path aria-label=\"hour: 1; gen_sum: 0; resource: _solar_photovoltaic\" role=\"graphics-symbol\" aria-roledescription=\"area mark\" d=\"M0,248.50807200000003L75,254.02593839999994L150,273.5008848L225,325.3259352L300,336.89532959999997L375,320.18693279999997L450,290.0544792L525,231.26924160000004L600,54.567000000000036L600,473.46000000000004L525,333.7492416L450,290.0544792L375,320.18693279999997L300,336.89532959999997L225,325.3259352L150,273.5008848L75,254.02593839999994L0,248.50807200000003Z\" fill=\"#ff7f0e\"/></g></g><path class=\"foreground\" aria-hidden=\"true\" d=\"\" display=\"none\"/></g><g transform=\"translate(0,0)\"><path class=\"background\" aria-hidden=\"true\" d=\"M0,0h600v600h-600Z\"/><g><g class=\"mark-area role-mark marks\" role=\"graphics-object\" aria-roledescription=\"area mark container\"><path aria-label=\"hour: 1; gen_sum: 0; resource: _solar_photovoltaic_btm\" role=\"graphics-symbol\" aria-roledescription=\"area mark\" d=\"M0,248.50807200000003L75,254.02593839999994L150,273.5008848L225,325.3259352L300,336.89532959999997L375,320.18693279999997L450,290.0544792L525,333.7492416L600,473.46000000000004L600,600L525,351.3172416L450,290.0544792L375,320.18693279999997L300,336.89532959999997L225,325.3259352L150,273.5008848L75,254.02593839999994L0,248.50807200000003Z\" fill=\"#ffbb78\"/></g></g><path class=\"foreground\" aria-hidden=\"true\" d=\"\" display=\"none\"/></g><g transform=\"translate(0,0)\"><path class=\"background\" aria-hidden=\"true\" d=\"M0,0h600v600h-600Z\"/><g><g class=\"mark-area role-mark marks\" role=\"graphics-object\" aria-roledescription=\"area mark container\"><path aria-label=\"hour: 1; gen_sum: 21.4; resource: biomass\" role=\"graphics-symbol\" aria-roledescription=\"area mark\" d=\"M0,248.50807200000003L75,254.02593839999994L150,273.5008848L225,325.3259352L300,336.89532959999997L375,320.18693279999997L450,290.0544792L525,351.3172416L600,600L600,600L525,364.15724159999996L450,302.8944792L375,333.0269328L300,349.7353296L225,338.1659352L150,286.34088479999997L75,266.86593839999995L0,261.348072Z\" fill=\"#2ca02c\"/></g></g><path class=\"foreground\" aria-hidden=\"true\" d=\"\" display=\"none\"/></g><g transform=\"translate(0,0)\"><path class=\"background\" aria-hidden=\"true\" d=\"M0,0h600v600h-600Z\"/><g><g class=\"mark-area role-mark marks\" role=\"graphics-object\" aria-roledescription=\"area mark container\"><path aria-label=\"hour: 1; gen_sum: 42; resource: hydroelectric_pumped_storage\" role=\"graphics-symbol\" aria-roledescription=\"area mark\" d=\"M0,261.348072L75,266.86593839999995L150,286.34088479999997L225,338.1659352L300,349.7353296L375,333.0269328L450,302.8944792L525,364.15724159999996L600,600L600,600L525,389.3572416L450,328.0944792L375,358.22693279999993L300,374.93532959999993L225,363.36593519999997L150,311.5408848L75,292.06593839999994L0,286.548072Z\" fill=\"#98df8a\"/></g></g><path class=\"foreground\" aria-hidden=\"true\" d=\"\" display=\"none\"/></g><g transform=\"translate(0,0)\"><path class=\"background\" aria-hidden=\"true\" d=\"M0,0h600v600h-600Z\"/><g><g class=\"mark-area role-mark marks\" role=\"graphics-object\" aria-roledescription=\"area mark container\"><path aria-label=\"hour: 1; gen_sum: 522.41988; resource: natural_gas_fired_combined_cycle\" role=\"graphics-symbol\" aria-roledescription=\"area mark\" d=\"M0,286.548072L75,292.06593839999994L150,311.5408848L225,363.36593519999997L300,374.93532959999993L375,358.22693279999993L450,328.0944792L525,389.3572416L600,600L600,600L525,600L450,600L375,600L300,600L225,600L150,600L75,600L0,600Z\" fill=\"#d62728\"/></g></g><path class=\"foreground\" aria-hidden=\"true\" d=\"\" display=\"none\"/></g><g transform=\"translate(0,0)\"><path class=\"background\" aria-hidden=\"true\" d=\"M0,0h600v600h-600Z\"/><g><g class=\"mark-area role-mark marks\" role=\"graphics-object\" aria-roledescription=\"area mark container\"><path aria-label=\"hour: 1; gen_sum: 0; resource: natural_gas_fired_combustion_turbine\" role=\"graphics-symbol\" aria-roledescription=\"area mark\" d=\"M0,600L75,600L150,600L225,600L300,600L375,600L450,600L525,600L600,600L600,600L525,600L450,600L375,600L300,600L225,600L150,600L75,600L0,600Z\" fill=\"#ff9896\"/></g></g><path class=\"foreground\" aria-hidden=\"true\" d=\"\" display=\"none\"/></g></g><g class=\"mark-group role-legend\" role=\"graphics-symbol\" aria-roledescription=\"legend\" aria-label=\"Symbol legend titled 'resource' for fill color with 8 values: _onshore_wind_turbine, _small_hydroelectric, _solar_photovoltaic, _solar_photovoltaic_btm, biomass, ending with natural_gas_fired_combustion_turbine\"><g transform=\"translate(618,0)\"><path class=\"background\" aria-hidden=\"true\" d=\"M0,0h173v118h-173Z\" pointer-events=\"none\"/><g><g class=\"mark-group role-legend-entry\"><g transform=\"translate(0,16)\"><path class=\"background\" aria-hidden=\"true\" d=\"M0,0h0v0h0Z\" pointer-events=\"none\"/><g><g class=\"mark-group role-scope\" role=\"graphics-object\" aria-roledescription=\"group mark container\"><g transform=\"translate(0,0)\"><path class=\"background\" aria-hidden=\"true\" d=\"M0,0h173v11h-173Z\" pointer-events=\"none\" opacity=\"1\"/><g><g class=\"mark-symbol role-legend-symbol\" pointer-events=\"none\"><path transform=\"translate(6,6)\" d=\"M5,0A5,5,0,1,1,-5,0A5,5,0,1,1,5,0\" fill=\"#1f77b4\" stroke-width=\"1.5\" opacity=\"1\"/></g><g class=\"mark-text role-legend-label\" pointer-events=\"none\"><text text-anchor=\"start\" transform=\"translate(16,9)\" font-family=\"sans-serif\" font-size=\"10px\" fill=\"#000\" opacity=\"1\">_onshore_wind_turbine</text></g></g><path class=\"foreground\" aria-hidden=\"true\" d=\"\" pointer-events=\"none\" display=\"none\"/></g><g transform=\"translate(0,13)\"><path class=\"background\" aria-hidden=\"true\" d=\"M0,0h173v11h-173Z\" pointer-events=\"none\" opacity=\"1\"/><g><g class=\"mark-symbol role-legend-symbol\" pointer-events=\"none\"><path transform=\"translate(6,6)\" d=\"M5,0A5,5,0,1,1,-5,0A5,5,0,1,1,5,0\" fill=\"#aec7e8\" stroke-width=\"1.5\" opacity=\"1\"/></g><g class=\"mark-text role-legend-label\" pointer-events=\"none\"><text text-anchor=\"start\" transform=\"translate(16,9)\" font-family=\"sans-serif\" font-size=\"10px\" fill=\"#000\" opacity=\"1\">_small_hydroelectric</text></g></g><path class=\"foreground\" aria-hidden=\"true\" d=\"\" pointer-events=\"none\" display=\"none\"/></g><g transform=\"translate(0,26)\"><path class=\"background\" aria-hidden=\"true\" d=\"M0,0h173v11h-173Z\" pointer-events=\"none\" opacity=\"1\"/><g><g class=\"mark-symbol role-legend-symbol\" pointer-events=\"none\"><path transform=\"translate(6,6)\" d=\"M5,0A5,5,0,1,1,-5,0A5,5,0,1,1,5,0\" fill=\"#ff7f0e\" stroke-width=\"1.5\" opacity=\"1\"/></g><g class=\"mark-text role-legend-label\" pointer-events=\"none\"><text text-anchor=\"start\" transform=\"translate(16,9)\" font-family=\"sans-serif\" font-size=\"10px\" fill=\"#000\" opacity=\"1\">_solar_photovoltaic</text></g></g><path class=\"foreground\" aria-hidden=\"true\" d=\"\" pointer-events=\"none\" display=\"none\"/></g><g transform=\"translate(0,39)\"><path class=\"background\" aria-hidden=\"true\" d=\"M0,0h173v11h-173Z\" pointer-events=\"none\" opacity=\"1\"/><g><g class=\"mark-symbol role-legend-symbol\" pointer-events=\"none\"><path transform=\"translate(6,6)\" d=\"M5,0A5,5,0,1,1,-5,0A5,5,0,1,1,5,0\" fill=\"#ffbb78\" stroke-width=\"1.5\" opacity=\"1\"/></g><g class=\"mark-text role-legend-label\" pointer-events=\"none\"><text text-anchor=\"start\" transform=\"translate(16,9)\" font-family=\"sans-serif\" font-size=\"10px\" fill=\"#000\" opacity=\"1\">_solar_photovoltaic_btm</text></g></g><path class=\"foreground\" aria-hidden=\"true\" d=\"\" pointer-events=\"none\" display=\"none\"/></g><g transform=\"translate(0,52)\"><path class=\"background\" aria-hidden=\"true\" d=\"M0,0h173v11h-173Z\" pointer-events=\"none\" opacity=\"1\"/><g><g class=\"mark-symbol role-legend-symbol\" pointer-events=\"none\"><path transform=\"translate(6,6)\" d=\"M5,0A5,5,0,1,1,-5,0A5,5,0,1,1,5,0\" fill=\"#2ca02c\" stroke-width=\"1.5\" opacity=\"1\"/></g><g class=\"mark-text role-legend-label\" pointer-events=\"none\"><text text-anchor=\"start\" transform=\"translate(16,9)\" font-family=\"sans-serif\" font-size=\"10px\" fill=\"#000\" opacity=\"1\">biomass</text></g></g><path class=\"foreground\" aria-hidden=\"true\" d=\"\" pointer-events=\"none\" display=\"none\"/></g><g transform=\"translate(0,65)\"><path class=\"background\" aria-hidden=\"true\" d=\"M0,0h173v11h-173Z\" pointer-events=\"none\" opacity=\"1\"/><g><g class=\"mark-symbol role-legend-symbol\" pointer-events=\"none\"><path transform=\"translate(6,6)\" d=\"M5,0A5,5,0,1,1,-5,0A5,5,0,1,1,5,0\" fill=\"#98df8a\" stroke-width=\"1.5\" opacity=\"1\"/></g><g class=\"mark-text role-legend-label\" pointer-events=\"none\"><text text-anchor=\"start\" transform=\"translate(16,9)\" font-family=\"sans-serif\" font-size=\"10px\" fill=\"#000\" opacity=\"1\">hydroelectric_pumped_storage</text></g></g><path class=\"foreground\" aria-hidden=\"true\" d=\"\" pointer-events=\"none\" display=\"none\"/></g><g transform=\"translate(0,78)\"><path class=\"background\" aria-hidden=\"true\" d=\"M0,0h173v11h-173Z\" pointer-events=\"none\" opacity=\"1\"/><g><g class=\"mark-symbol role-legend-symbol\" pointer-events=\"none\"><path transform=\"translate(6,6)\" d=\"M5,0A5,5,0,1,1,-5,0A5,5,0,1,1,5,0\" fill=\"#d62728\" stroke-width=\"1.5\" opacity=\"1\"/></g><g class=\"mark-text role-legend-label\" pointer-events=\"none\"><text text-anchor=\"start\" transform=\"translate(16,9)\" font-family=\"sans-serif\" font-size=\"10px\" fill=\"#000\" opacity=\"1\">natural_gas_fired_combined_cycle</text></g></g><path class=\"foreground\" aria-hidden=\"true\" d=\"\" pointer-events=\"none\" display=\"none\"/></g><g transform=\"translate(0,91)\"><path class=\"background\" aria-hidden=\"true\" d=\"M0,0h173v11h-173Z\" pointer-events=\"none\" opacity=\"1\"/><g><g class=\"mark-symbol role-legend-symbol\" pointer-events=\"none\"><path transform=\"translate(6,6)\" d=\"M5,0A5,5,0,1,1,-5,0A5,5,0,1,1,5,0\" fill=\"#ff9896\" stroke-width=\"1.5\" opacity=\"1\"/></g><g class=\"mark-text role-legend-label\" pointer-events=\"none\"><text text-anchor=\"start\" transform=\"translate(16,9)\" font-family=\"sans-serif\" font-size=\"10px\" fill=\"#000\" opacity=\"1\">natural_gas_fired_combustion_tur…</text></g></g><path class=\"foreground\" aria-hidden=\"true\" d=\"\" pointer-events=\"none\" display=\"none\"/></g></g></g><path class=\"foreground\" aria-hidden=\"true\" d=\"\" pointer-events=\"none\" display=\"none\"/></g></g><g class=\"mark-text role-legend-title\" pointer-events=\"none\"><text text-anchor=\"start\" transform=\"translate(0,9)\" font-family=\"sans-serif\" font-size=\"11px\" font-weight=\"bold\" fill=\"#000\" opacity=\"1\">resource</text></g></g><path class=\"foreground\" aria-hidden=\"true\" d=\"\" pointer-events=\"none\" display=\"none\"/></g></g></g><path class=\"foreground\" aria-hidden=\"true\" d=\"\" display=\"none\"/></g></g></g></svg>\n"
      ],
      "text/plain": [
       "@vlplot(\n",
       "    width=600,\n",
       "    height=600,\n",
       "    mark=\"area\",\n",
       "    encoding={\n",
       "        x={\n",
       "            field=\"hour\"\n",
       "        },\n",
       "        y={\n",
       "            stack=\"zero\",\n",
       "            field=\"gen_sum\"\n",
       "        },\n",
       "        color={\n",
       "            scale={\n",
       "                scheme=\"category20\"\n",
       "            },\n",
       "            field=\"resource\",\n",
       "            type=\"nominal\"\n",
       "        }\n",
       "    },\n",
       "    data={\n",
       "        values=...\n",
       "    }\n",
       ")"
      ]
     },
     "execution_count": 50,
     "metadata": {},
     "output_type": "execute_result"
    }
   ],
   "source": [
    "# Plot stacked generation by each resource type\n",
    "g = sol_gen_btm |>\n",
    "@vlplot(:area, \n",
    "    x=:hour, y={:gen_sum, stack=:zero}, \n",
    "    color={\"resource:n\", scale={scheme=\"category20\"}},\n",
    "    width=600,height=600) "
   ]
  },
  {
   "cell_type": "code",
   "execution_count": 51,
   "id": "784eefee",
   "metadata": {},
   "outputs": [
    {
     "name": "stderr",
     "output_type": "stream",
     "text": [
      "\u001b[33m\u001b[1m┌ \u001b[22m\u001b[39m\u001b[33m\u001b[1mWarning: \u001b[22m\u001b[39mMapping to the storage type failed; perhaps your data had out-of-range values?\n",
      "\u001b[33m\u001b[1m│ \u001b[22m\u001b[39mTry `map(clamp01nan, img)` to clamp values to a valid range.\n",
      "\u001b[33m\u001b[1m└ \u001b[22m\u001b[39m\u001b[90m@ ImageMagick C:\\Users\\user\\.julia\\packages\\ImageMagick\\Fh2BX\\src\\ImageMagick.jl:179\u001b[39m\n"
     ]
    }
   ],
   "source": [
    "# Save this plot to file if you want to\n",
    "g |> FileIO.save(\"results/ED_multitime.png\")"
   ]
  },
  {
   "cell_type": "code",
   "execution_count": 52,
   "id": "dbf2deef",
   "metadata": {},
   "outputs": [
    {
     "data": {
      "application/vnd.vegalite.v4+json": {
       "data": {
        "values": [
         {
          "demand": 624.87,
          "hour": 1
         },
         {
          "demand": 614.888,
          "hour": 2
         },
         {
          "demand": 579.033,
          "hour": 3
         },
         {
          "demand": 491.633,
          "hour": 4
         },
         {
          "demand": 460.968,
          "hour": 5
         },
         {
          "demand": 484.134,
          "hour": 6
         },
         {
          "demand": 523.342,
          "hour": 7
         },
         {
          "demand": 592.144,
          "hour": 8
         },
         {
          "demand": 698.155,
          "hour": 9
         }
        ]
       },
       "encoding": {
        "x": {
         "field": "hour",
         "type": "quantitative"
        },
        "y": {
         "field": "demand",
         "type": "quantitative"
        }
       },
       "mark": "line"
      },
      "image/png": "[encoded data removed]",
      "image/svg+xml": [
       "<?xml version=\"1.0\" encoding=\"utf-8\"?>\n",
       "<!DOCTYPE svg PUBLIC \"-//W3C//DTD SVG 1.1//EN\" \"http://www.w3.org/Graphics/SVG/1.1/DTD/svg11.dtd\">\n",
       "<svg xmlns=\"http://www.w3.org/2000/svg\" xmlns:xlink=\"http://www.w3.org/1999/xlink\" version=\"1.1\" class=\"marks\" width=\"249\" height=\"247\" viewBox=\"0 0 249 247\"><rect width=\"249\" height=\"247\" fill=\"white\"/><g fill=\"none\" stroke-miterlimit=\"10\" transform=\"translate(42,10)\"><g class=\"mark-group role-frame root\" role=\"graphics-object\" aria-roledescription=\"group mark container\"><g transform=\"translate(0,0)\"><path class=\"background\" aria-hidden=\"true\" d=\"M0.5,0.5h200v200h-200Z\" stroke=\"#ddd\"/><g><g class=\"mark-group role-axis\" aria-hidden=\"true\"><g transform=\"translate(0.5,200.5)\"><path class=\"background\" aria-hidden=\"true\" d=\"M0,0h0v0h0Z\" pointer-events=\"none\"/><g><g class=\"mark-rule role-axis-grid\" pointer-events=\"none\"><line transform=\"translate(25,-200)\" x2=\"0\" y2=\"200\" stroke=\"#ddd\" stroke-width=\"1\" opacity=\"1\"/><line transform=\"translate(75,-200)\" x2=\"0\" y2=\"200\" stroke=\"#ddd\" stroke-width=\"1\" opacity=\"1\"/><line transform=\"translate(125,-200)\" x2=\"0\" y2=\"200\" stroke=\"#ddd\" stroke-width=\"1\" opacity=\"1\"/><line transform=\"translate(175,-200)\" x2=\"0\" y2=\"200\" stroke=\"#ddd\" stroke-width=\"1\" opacity=\"1\"/></g></g><path class=\"foreground\" aria-hidden=\"true\" d=\"\" pointer-events=\"none\" display=\"none\"/></g></g><g class=\"mark-group role-axis\" aria-hidden=\"true\"><g transform=\"translate(0.5,0.5)\"><path class=\"background\" aria-hidden=\"true\" d=\"M0,0h0v0h0Z\" pointer-events=\"none\"/><g><g class=\"mark-rule role-axis-grid\" pointer-events=\"none\"><line transform=\"translate(0,200)\" x2=\"200\" y2=\"0\" stroke=\"#ddd\" stroke-width=\"1\" opacity=\"1\"/><line transform=\"translate(0,171)\" x2=\"200\" y2=\"0\" stroke=\"#ddd\" stroke-width=\"1\" opacity=\"1\"/><line transform=\"translate(0,143)\" x2=\"200\" y2=\"0\" stroke=\"#ddd\" stroke-width=\"1\" opacity=\"1\"/><line transform=\"translate(0,114)\" x2=\"200\" y2=\"0\" stroke=\"#ddd\" stroke-width=\"1\" opacity=\"1\"/><line transform=\"translate(0,86)\" x2=\"200\" y2=\"0\" stroke=\"#ddd\" stroke-width=\"1\" opacity=\"1\"/><line transform=\"translate(0,57)\" x2=\"200\" y2=\"0\" stroke=\"#ddd\" stroke-width=\"1\" opacity=\"1\"/><line transform=\"translate(0,29)\" x2=\"200\" y2=\"0\" stroke=\"#ddd\" stroke-width=\"1\" opacity=\"1\"/><line transform=\"translate(0,0)\" x2=\"200\" y2=\"0\" stroke=\"#ddd\" stroke-width=\"1\" opacity=\"1\"/></g></g><path class=\"foreground\" aria-hidden=\"true\" d=\"\" pointer-events=\"none\" display=\"none\"/></g></g><g class=\"mark-group role-axis\" role=\"graphics-symbol\" aria-roledescription=\"axis\" aria-label=\"X-axis titled 'hour' for a linear scale with values from 1 to 9\"><g transform=\"translate(0.5,200.5)\"><path class=\"background\" aria-hidden=\"true\" d=\"M0,0h0v0h0Z\" pointer-events=\"none\"/><g><g class=\"mark-rule role-axis-tick\" pointer-events=\"none\"><line transform=\"translate(25,0)\" x2=\"0\" y2=\"5\" stroke=\"#888\" stroke-width=\"1\" opacity=\"1\"/><line transform=\"translate(75,0)\" x2=\"0\" y2=\"5\" stroke=\"#888\" stroke-width=\"1\" opacity=\"1\"/><line transform=\"translate(125,0)\" x2=\"0\" y2=\"5\" stroke=\"#888\" stroke-width=\"1\" opacity=\"1\"/><line transform=\"translate(175,0)\" x2=\"0\" y2=\"5\" stroke=\"#888\" stroke-width=\"1\" opacity=\"1\"/></g><g class=\"mark-text role-axis-label\" pointer-events=\"none\"><text text-anchor=\"middle\" transform=\"translate(25,15)\" font-family=\"sans-serif\" font-size=\"10px\" fill=\"#000\" opacity=\"1\">2</text><text text-anchor=\"middle\" transform=\"translate(75,15)\" font-family=\"sans-serif\" font-size=\"10px\" fill=\"#000\" opacity=\"1\">4</text><text text-anchor=\"middle\" transform=\"translate(125,15)\" font-family=\"sans-serif\" font-size=\"10px\" fill=\"#000\" opacity=\"1\">6</text><text text-anchor=\"middle\" transform=\"translate(175,15)\" font-family=\"sans-serif\" font-size=\"10px\" fill=\"#000\" opacity=\"1\">8</text></g><g class=\"mark-rule role-axis-domain\" pointer-events=\"none\"><line transform=\"translate(0,0)\" x2=\"200\" y2=\"0\" stroke=\"#888\" stroke-width=\"1\" opacity=\"1\"/></g><g class=\"mark-text role-axis-title\" pointer-events=\"none\"><text text-anchor=\"middle\" transform=\"translate(100,30)\" font-family=\"sans-serif\" font-size=\"11px\" font-weight=\"bold\" fill=\"#000\" opacity=\"1\">hour</text></g></g><path class=\"foreground\" aria-hidden=\"true\" d=\"\" pointer-events=\"none\" display=\"none\"/></g></g><g class=\"mark-group role-axis\" role=\"graphics-symbol\" aria-roledescription=\"axis\" aria-label=\"Y-axis titled 'demand' for a linear scale with values from 0 to 700\"><g transform=\"translate(0.5,0.5)\"><path class=\"background\" aria-hidden=\"true\" d=\"M0,0h0v0h0Z\" pointer-events=\"none\"/><g><g class=\"mark-rule role-axis-tick\" pointer-events=\"none\"><line transform=\"translate(0,200)\" x2=\"-5\" y2=\"0\" stroke=\"#888\" stroke-width=\"1\" opacity=\"1\"/><line transform=\"translate(0,171)\" x2=\"-5\" y2=\"0\" stroke=\"#888\" stroke-width=\"1\" opacity=\"1\"/><line transform=\"translate(0,143)\" x2=\"-5\" y2=\"0\" stroke=\"#888\" stroke-width=\"1\" opacity=\"1\"/><line transform=\"translate(0,114)\" x2=\"-5\" y2=\"0\" stroke=\"#888\" stroke-width=\"1\" opacity=\"1\"/><line transform=\"translate(0,86)\" x2=\"-5\" y2=\"0\" stroke=\"#888\" stroke-width=\"1\" opacity=\"1\"/><line transform=\"translate(0,57)\" x2=\"-5\" y2=\"0\" stroke=\"#888\" stroke-width=\"1\" opacity=\"1\"/><line transform=\"translate(0,29)\" x2=\"-5\" y2=\"0\" stroke=\"#888\" stroke-width=\"1\" opacity=\"1\"/><line transform=\"translate(0,0)\" x2=\"-5\" y2=\"0\" stroke=\"#888\" stroke-width=\"1\" opacity=\"1\"/></g><g class=\"mark-text role-axis-label\" pointer-events=\"none\"><text text-anchor=\"end\" transform=\"translate(-7,203)\" font-family=\"sans-serif\" font-size=\"10px\" fill=\"#000\" opacity=\"1\">0</text><text text-anchor=\"end\" transform=\"translate(-7,174.42857142857144)\" font-family=\"sans-serif\" font-size=\"10px\" fill=\"#000\" opacity=\"1\">100</text><text text-anchor=\"end\" transform=\"translate(-7,145.85714285714286)\" font-family=\"sans-serif\" font-size=\"10px\" fill=\"#000\" opacity=\"1\">200</text><text text-anchor=\"end\" transform=\"translate(-7,117.28571428571428)\" font-family=\"sans-serif\" font-size=\"10px\" fill=\"#000\" opacity=\"1\">300</text><text text-anchor=\"end\" transform=\"translate(-7,88.71428571428572)\" font-family=\"sans-serif\" font-size=\"10px\" fill=\"#000\" opacity=\"1\">400</text><text text-anchor=\"end\" transform=\"translate(-7,60.14285714285714)\" font-family=\"sans-serif\" font-size=\"10px\" fill=\"#000\" opacity=\"1\">500</text><text text-anchor=\"end\" transform=\"translate(-7,31.57142857142858)\" font-family=\"sans-serif\" font-size=\"10px\" fill=\"#000\" opacity=\"1\">600</text><text text-anchor=\"end\" transform=\"translate(-7,3)\" font-family=\"sans-serif\" font-size=\"10px\" fill=\"#000\" opacity=\"1\">700</text></g><g class=\"mark-rule role-axis-domain\" pointer-events=\"none\"><line transform=\"translate(0,200)\" x2=\"0\" y2=\"-200\" stroke=\"#888\" stroke-width=\"1\" opacity=\"1\"/></g><g class=\"mark-text role-axis-title\" pointer-events=\"none\"><text text-anchor=\"middle\" transform=\"translate(-26,100) rotate(-90) translate(0,-2)\" font-family=\"sans-serif\" font-size=\"11px\" font-weight=\"bold\" fill=\"#000\" opacity=\"1\">demand</text></g></g><path class=\"foreground\" aria-hidden=\"true\" d=\"\" pointer-events=\"none\" display=\"none\"/></g></g><g class=\"mark-line role-mark marks\" role=\"graphics-object\" aria-roledescription=\"line mark container\"><path aria-label=\"hour: 1; demand: 624.87\" role=\"graphics-symbol\" aria-roledescription=\"line mark\" d=\"M0,21.465714285714288L25,24.317714285714274L50,34.562000000000005L75,59.53342857142858L100,68.29485714285714L125,61.675999999999995L150,50.4737142857143L175,30.816L200,0.5271428571428594\" stroke=\"#4c78a8\" stroke-width=\"2\"/></g></g><path class=\"foreground\" aria-hidden=\"true\" d=\"\" display=\"none\"/></g></g></g></svg>\n"
      ],
      "text/plain": [
       "@vlplot(\n",
       "    mark=\"line\",\n",
       "    encoding={\n",
       "        x={\n",
       "            field=\"hour\"\n",
       "        },\n",
       "        y={\n",
       "            field=\"demand\"\n",
       "        }\n",
       "    },\n",
       "    data={\n",
       "        values=...\n",
       "    }\n",
       ")"
      ]
     },
     "execution_count": 52,
     "metadata": {},
     "output_type": "execute_result"
    }
   ],
   "source": [
    "loads_multi |>\n",
    "@vlplot(:line, \n",
    "    x=:hour, y=:demand)"
   ]
  },
  {
   "cell_type": "code",
   "execution_count": 53,
   "id": "6593480d",
   "metadata": {},
   "outputs": [
    {
     "data": {
      "text/plain": [
       "value_to_df_2dim (generic function with 1 method)"
      ]
     },
     "execution_count": 53,
     "metadata": {},
     "output_type": "execute_result"
    }
   ],
   "source": [
    "#############          Multiple-time period, complex generator constraints with time coupling        ###############\n",
    "#=\n",
    "Function to convert JuMP outputs (technically, AxisArrays) with two-indexes to a dataframe\n",
    "Inputs:\n",
    "    var -- JuMP AxisArray (e.g., value.(GEN))\n",
    "Reference: https://jump.dev/JuMP.jl/v0.19/containers/\n",
    "=#\n",
    "function value_to_df_2dim(var)\n",
    "    solution = DataFrame(var.data, :auto)\n",
    "    ax1 = var.axes[1]\n",
    "    ax2 = var.axes[2]\n",
    "    cols = names(solution)\n",
    "    insertcols!(solution, 1, :r_id => ax1)\n",
    "    solution = stack(solution, Not(:r_id), variable_name=:hour)\n",
    "    solution.hour = foldl(replace, [cols[i] => ax2[i] for i in 1:length(ax2)], init=solution.hour)\n",
    "    rename!(solution, :value => :gen)\n",
    "    solution.hour = convert.(Int64,solution.hour)\n",
    "    return solution\n",
    "end"
   ]
  },
  {
   "cell_type": "code",
   "execution_count": 54,
   "id": "eef398c6",
   "metadata": {},
   "outputs": [
    {
     "data": {
      "text/plain": [
       "economic_dispatch_multi_time (generic function with 1 method)"
      ]
     },
     "execution_count": 54,
     "metadata": {},
     "output_type": "execute_result"
    }
   ],
   "source": [
    "#=\n",
    "Function to solve economic dispatch problem (multi-time period, single-zone)\n",
    "Inputs:\n",
    "    gen_df -- dataframe with generator info\n",
    "    loads  -- load by time\n",
    "    gen_variable -- capacity factors of variable generators (in \"long\" format)\n",
    "=#\n",
    "function economic_dispatch_multi_time(gen_df, loads, gen_variable)\n",
    "    ED = Model(HiGHS.Optimizer)\n",
    "\n",
    "    # Define sets based on data\n",
    "    G_var = gen_df[gen_df[!,:is_variable] .== 1,:r_id] \n",
    "    G_nonvar = gen_df[gen_df[!,:is_variable] .== 0,:r_id]\n",
    "    G = gen_df.r_id\n",
    "    T = loads.hour\n",
    "    T_red = loads.hour[1:end-1]  # time periods used for ramp constraints\n",
    "    \n",
    "    # Generator capacity factor time series for variable generators\n",
    "    gen_var_cf = innerjoin(gen_variable, \n",
    "                    gen_df[gen_df.is_variable .== 1 , \n",
    "                        [:r_id, :gen_full, :existing_cap_mw]], \n",
    "                    on = :gen_full)\n",
    "        \n",
    "    # Decision variables   #발전량은 0보다 크거나 같다\n",
    "    @variables(ED, begin\n",
    "        GEN[G, T]  >= 0     # generation\n",
    "        # Note: we assume Pmin = 0 for all resources for simplicty here\n",
    "    end)\n",
    "                \n",
    "    # Objective function # heat_rate_mmbtu_per_mwh: 단위시간당 열이 얼마나 전달되는 지 나타내는 물리량\n",
    "    @objective(ED, Min, \n",
    "        sum( (gen_df[gen_df.r_id .== i,:heat_rate_mmbtu_per_mwh][1] * gen_df[gen_df.r_id .== i,:fuel_cost][1] +\n",
    "            gen_df[gen_df.r_id .== i,:var_om_cost_per_mwh][1]) * GEN[i,t] \n",
    "                        for i in G_nonvar for t in T) + \n",
    "        sum(gen_df[gen_df.r_id .== i,:var_om_cost_per_mwh][1] * GEN[i,t] \n",
    "                        for i in G_var for t in T)\n",
    "    )\n",
    "    \n",
    "    # Demand constraint \n",
    "    @constraint(ED, cDemand[t in T], \n",
    "        sum(GEN[i,t] for i in G) == loads[loads.hour .== t,:demand][1])\n",
    "\n",
    "    # Capacity constraints (non-variable generation)\n",
    "    @constraint(ED, Cap_nonvar[i in G_nonvar, t in T], \n",
    "        GEN[i,t] <= gen_df[gen_df.r_id .== i,:existing_cap_mw][1])\n",
    "\n",
    "    # Variable generation capacity constraints #cf는 capital framework를 의미??\n",
    "    @constraint(ED, Cap_var[i in 1:nrow(gen_var_cf)], \n",
    "            GEN[gen_var_cf[i,:r_id], gen_var_cf[i,:hour] ] <= \n",
    "                        gen_var_cf[i,:cf] *\n",
    "                        gen_var_cf[i,:existing_cap_mw])\n",
    "    \n",
    "    # Ramp up constraints  # 발전기의 발전 가속은 RampUp보다 클수 없다 \n",
    "    @constraint(ED, RampUp[i in G, t in T_red], \n",
    "        GEN[i,t+1] - GEN[i,t] <= gen_df[gen_df.r_id .== i,:existing_cap_mw][1] * \n",
    "                                 gen_df[gen_df.r_id .== i,:ramp_up_percentage][1] )\n",
    "\n",
    "    # Ramp down constraints # 발전기의 발전 감속은 RampDn보다 클수 없다\n",
    "    @constraint(ED, RampDn[i in G, t in T_red], \n",
    "        GEN[i,t] - GEN[i,t+1] <= gen_df[gen_df.r_id .== i,:existing_cap_mw][1] * \n",
    "                                 gen_df[gen_df.r_id .== i,:ramp_dn_percentage][1] )\n",
    "\n",
    "    \n",
    "    # Solve statement (! indicates runs in place)\n",
    "    optimize!(ED)\n",
    "\n",
    "    # Dataframe of optimal decision variables\n",
    "    solution = value_to_df_2dim(value.(GEN))\n",
    "    \n",
    "    # Dataframe of ramp up constraint marginal values \n",
    "    # (aka \"dual values\" of the ramp constraint)\n",
    "    # (to be used in solar sensitivity case)\n",
    "    marginals = value_to_df_2dim(dual.(RampUp))\n",
    "    \n",
    "    # Return the solution, objective, and marginals as named tuple\n",
    "    return (\n",
    "        solution = solution, \n",
    "        cost = objective_value(ED),\n",
    "        marginals = marginals\n",
    "    )\n",
    "\n",
    "end"
   ]
  },
  {
   "cell_type": "code",
   "execution_count": 55,
   "id": "a7b7f6ff",
   "metadata": {},
   "outputs": [
    {
     "name": "stdout",
     "output_type": "stream",
     "text": [
      "Running HiGHS 1.4.2 [date: 1970-01-01, git hash: f797c1ab6]\n",
      "Copyright (c) 2022 ERGO-Code under MIT licence terms\n",
      "Presolving model\n",
      "73 rows, 218 cols, 346 nonzeros\n",
      "41 rows, 198 cols, 262 nonzeros\n",
      "41 rows, 198 cols, 262 nonzeros\n",
      "Presolve : Reductions: rows 41(-593); columns 198(-27); elements 262(-988)\n",
      "Solving the presolved LP\n",
      "Using EKK dual simplex solver - serial\n",
      "  Iteration        Objective     Infeasibilities num(sum)\n",
      "          0     0.0000000000e+00 Pr: 9(5069.17) 0s\n",
      "          9     9.0105642811e+04 Pr: 0(0) 0s\n",
      "Solving the original LP from the solution after postsolve\n",
      "Model   status      : Optimal\n",
      "Simplex   iterations: 9\n",
      "Objective value     :  9.0105642811e+04\n",
      "HiGHS run time      :          0.00\n"
     ]
    }
   ],
   "source": [
    "solution = economic_dispatch_multi_time(gen_df, loads_multi, gen_variable_multi);"
   ]
  },
  {
   "cell_type": "code",
   "execution_count": 56,
   "id": "7658dd3f",
   "metadata": {},
   "outputs": [
    {
     "data": {
      "text/html": [
       "<div><div style = \"float: left;\"><span>225×4 DataFrame</span></div><div style = \"float: right;\"><span style = \"font-style: italic;\">200 rows omitted</span></div><div style = \"clear: both;\"></div></div><div class = \"data-frame\" style = \"overflow-x: scroll;\"><table class = \"data-frame\" style = \"margin-bottom: 6px;\"><thead><tr class = \"header\"><th class = \"rowNumber\" style = \"font-weight: bold; text-align: right;\">Row</th><th style = \"text-align: left;\">r_id</th><th style = \"text-align: left;\">hour</th><th style = \"text-align: left;\">gen</th><th style = \"text-align: left;\">resource</th></tr><tr class = \"subheader headerLastRow\"><th class = \"rowNumber\" style = \"font-weight: bold; text-align: right;\"></th><th title = \"Union{Missing, Int64}\" style = \"text-align: left;\">Int64?</th><th title = \"Int64\" style = \"text-align: left;\">Int64</th><th title = \"Float64\" style = \"text-align: left;\">Float64</th><th title = \"Union{Missing, String}\" style = \"text-align: left;\">String?</th></tr></thead><tbody><tr><td class = \"rowNumber\" style = \"font-weight: bold; text-align: right;\">1</td><td style = \"text-align: right;\">1</td><td style = \"text-align: right;\">1</td><td style = \"text-align: right;\">21.4</td><td style = \"text-align: left;\">biomass</td></tr><tr><td class = \"rowNumber\" style = \"font-weight: bold; text-align: right;\">2</td><td style = \"text-align: right;\">2</td><td style = \"text-align: right;\">1</td><td style = \"text-align: right;\">42.0</td><td style = \"text-align: left;\">hydroelectric_pumped_storage</td></tr><tr><td class = \"rowNumber\" style = \"font-weight: bold; text-align: right;\">3</td><td style = \"text-align: right;\">3</td><td style = \"text-align: right;\">1</td><td style = \"text-align: right;\">0.0</td><td style = \"text-align: left;\">natural_gas_fired_combined_cycle</td></tr><tr><td class = \"rowNumber\" style = \"font-weight: bold; text-align: right;\">4</td><td style = \"text-align: right;\">4</td><td style = \"text-align: right;\">1</td><td style = \"text-align: right;\">0.0</td><td style = \"text-align: left;\">natural_gas_fired_combined_cycle</td></tr><tr><td class = \"rowNumber\" style = \"font-weight: bold; text-align: right;\">5</td><td style = \"text-align: right;\">5</td><td style = \"text-align: right;\">1</td><td style = \"text-align: right;\">0.0</td><td style = \"text-align: left;\">natural_gas_fired_combined_cycle</td></tr><tr><td class = \"rowNumber\" style = \"font-weight: bold; text-align: right;\">6</td><td style = \"text-align: right;\">6</td><td style = \"text-align: right;\">1</td><td style = \"text-align: right;\">522.42</td><td style = \"text-align: left;\">natural_gas_fired_combined_cycle</td></tr><tr><td class = \"rowNumber\" style = \"font-weight: bold; text-align: right;\">7</td><td style = \"text-align: right;\">7</td><td style = \"text-align: right;\">1</td><td style = \"text-align: right;\">0.0</td><td style = \"text-align: left;\">natural_gas_fired_combined_cycle</td></tr><tr><td class = \"rowNumber\" style = \"font-weight: bold; text-align: right;\">8</td><td style = \"text-align: right;\">8</td><td style = \"text-align: right;\">1</td><td style = \"text-align: right;\">0.0</td><td style = \"text-align: left;\">natural_gas_fired_combined_cycle</td></tr><tr><td class = \"rowNumber\" style = \"font-weight: bold; text-align: right;\">9</td><td style = \"text-align: right;\">9</td><td style = \"text-align: right;\">1</td><td style = \"text-align: right;\">0.0</td><td style = \"text-align: left;\">natural_gas_fired_combustion_turbine</td></tr><tr><td class = \"rowNumber\" style = \"font-weight: bold; text-align: right;\">10</td><td style = \"text-align: right;\">10</td><td style = \"text-align: right;\">1</td><td style = \"text-align: right;\">0.0</td><td style = \"text-align: left;\">natural_gas_fired_combustion_turbine</td></tr><tr><td class = \"rowNumber\" style = \"font-weight: bold; text-align: right;\">11</td><td style = \"text-align: right;\">11</td><td style = \"text-align: right;\">1</td><td style = \"text-align: right;\">0.0</td><td style = \"text-align: left;\">natural_gas_fired_combustion_turbine</td></tr><tr><td class = \"rowNumber\" style = \"font-weight: bold; text-align: right;\">12</td><td style = \"text-align: right;\">12</td><td style = \"text-align: right;\">1</td><td style = \"text-align: right;\">0.0</td><td style = \"text-align: left;\">natural_gas_fired_combustion_turbine</td></tr><tr><td class = \"rowNumber\" style = \"font-weight: bold; text-align: right;\">13</td><td style = \"text-align: right;\">13</td><td style = \"text-align: right;\">1</td><td style = \"text-align: right;\">0.0</td><td style = \"text-align: left;\">natural_gas_fired_combustion_turbine</td></tr><tr><td style = \"text-align: right;\">&vellip;</td><td style = \"text-align: right;\">&vellip;</td><td style = \"text-align: right;\">&vellip;</td><td style = \"text-align: right;\">&vellip;</td><td style = \"text-align: right;\">&vellip;</td></tr><tr><td class = \"rowNumber\" style = \"font-weight: bold; text-align: right;\">214</td><td style = \"text-align: right;\">14</td><td style = \"text-align: right;\">9</td><td style = \"text-align: right;\">0.0</td><td style = \"text-align: left;\">natural_gas_fired_combustion_turbine</td></tr><tr><td class = \"rowNumber\" style = \"font-weight: bold; text-align: right;\">215</td><td style = \"text-align: right;\">15</td><td style = \"text-align: right;\">9</td><td style = \"text-align: right;\">0.0</td><td style = \"text-align: left;\">natural_gas_fired_combustion_turbine</td></tr><tr><td class = \"rowNumber\" style = \"font-weight: bold; text-align: right;\">216</td><td style = \"text-align: right;\">16</td><td style = \"text-align: right;\">9</td><td style = \"text-align: right;\">0.0</td><td style = \"text-align: left;\">natural_gas_fired_combustion_turbine</td></tr><tr><td class = \"rowNumber\" style = \"font-weight: bold; text-align: right;\">217</td><td style = \"text-align: right;\">17</td><td style = \"text-align: right;\">9</td><td style = \"text-align: right;\">0.0</td><td style = \"text-align: left;\">natural_gas_fired_combustion_turbine</td></tr><tr><td class = \"rowNumber\" style = \"font-weight: bold; text-align: right;\">218</td><td style = \"text-align: right;\">18</td><td style = \"text-align: right;\">9</td><td style = \"text-align: right;\">0.0</td><td style = \"text-align: left;\">natural_gas_fired_combustion_turbine</td></tr><tr><td class = \"rowNumber\" style = \"font-weight: bold; text-align: right;\">219</td><td style = \"text-align: right;\">19</td><td style = \"text-align: right;\">9</td><td style = \"text-align: right;\">0.0</td><td style = \"text-align: left;\">natural_gas_fired_combustion_turbine</td></tr><tr><td class = \"rowNumber\" style = \"font-weight: bold; text-align: right;\">220</td><td style = \"text-align: right;\">20</td><td style = \"text-align: right;\">9</td><td style = \"text-align: right;\">0.0</td><td style = \"text-align: left;\">natural_gas_fired_combustion_turbine</td></tr><tr><td class = \"rowNumber\" style = \"font-weight: bold; text-align: right;\">221</td><td style = \"text-align: right;\">21</td><td style = \"text-align: right;\">9</td><td style = \"text-align: right;\">0.0</td><td style = \"text-align: left;\">natural_gas_fired_combustion_turbine</td></tr><tr><td class = \"rowNumber\" style = \"font-weight: bold; text-align: right;\">222</td><td style = \"text-align: right;\">22</td><td style = \"text-align: right;\">9</td><td style = \"text-align: right;\">0.0</td><td style = \"text-align: left;\">natural_gas_fired_combustion_turbine</td></tr><tr><td class = \"rowNumber\" style = \"font-weight: bold; text-align: right;\">223</td><td style = \"text-align: right;\">23</td><td style = \"text-align: right;\">9</td><td style = \"text-align: right;\">4.70016</td><td style = \"text-align: left;\">onshore_wind_turbine</td></tr><tr><td class = \"rowNumber\" style = \"font-weight: bold; text-align: right;\">224</td><td style = \"text-align: right;\">24</td><td style = \"text-align: right;\">9</td><td style = \"text-align: right;\">2.17038</td><td style = \"text-align: left;\">small_hydroelectric</td></tr><tr><td class = \"rowNumber\" style = \"font-weight: bold; text-align: right;\">225</td><td style = \"text-align: right;\">25</td><td style = \"text-align: right;\">9</td><td style = \"text-align: right;\">175.75</td><td style = \"text-align: left;\">solar_photovoltaic</td></tr></tbody></table></div>"
      ],
      "text/latex": [
       "\\begin{tabular}{r|cccc}\n",
       "\t& r\\_id & hour & gen & resource\\\\\n",
       "\t\\hline\n",
       "\t& Int64? & Int64 & Float64 & String?\\\\\n",
       "\t\\hline\n",
       "\t1 & 1 & 1 & 21.4 & biomass \\\\\n",
       "\t2 & 2 & 1 & 42.0 & hydroelectric\\_pumped\\_storage \\\\\n",
       "\t3 & 3 & 1 & 0.0 & natural\\_gas\\_fired\\_combined\\_cycle \\\\\n",
       "\t4 & 4 & 1 & 0.0 & natural\\_gas\\_fired\\_combined\\_cycle \\\\\n",
       "\t5 & 5 & 1 & 0.0 & natural\\_gas\\_fired\\_combined\\_cycle \\\\\n",
       "\t6 & 6 & 1 & 522.42 & natural\\_gas\\_fired\\_combined\\_cycle \\\\\n",
       "\t7 & 7 & 1 & 0.0 & natural\\_gas\\_fired\\_combined\\_cycle \\\\\n",
       "\t8 & 8 & 1 & 0.0 & natural\\_gas\\_fired\\_combined\\_cycle \\\\\n",
       "\t9 & 9 & 1 & 0.0 & natural\\_gas\\_fired\\_combustion\\_turbine \\\\\n",
       "\t10 & 10 & 1 & 0.0 & natural\\_gas\\_fired\\_combustion\\_turbine \\\\\n",
       "\t11 & 11 & 1 & 0.0 & natural\\_gas\\_fired\\_combustion\\_turbine \\\\\n",
       "\t12 & 12 & 1 & 0.0 & natural\\_gas\\_fired\\_combustion\\_turbine \\\\\n",
       "\t13 & 13 & 1 & 0.0 & natural\\_gas\\_fired\\_combustion\\_turbine \\\\\n",
       "\t14 & 14 & 1 & 0.0 & natural\\_gas\\_fired\\_combustion\\_turbine \\\\\n",
       "\t15 & 15 & 1 & 0.0 & natural\\_gas\\_fired\\_combustion\\_turbine \\\\\n",
       "\t16 & 16 & 1 & 0.0 & natural\\_gas\\_fired\\_combustion\\_turbine \\\\\n",
       "\t17 & 17 & 1 & 0.0 & natural\\_gas\\_fired\\_combustion\\_turbine \\\\\n",
       "\t18 & 18 & 1 & 0.0 & natural\\_gas\\_fired\\_combustion\\_turbine \\\\\n",
       "\t19 & 19 & 1 & 0.0 & natural\\_gas\\_fired\\_combustion\\_turbine \\\\\n",
       "\t20 & 20 & 1 & 0.0 & natural\\_gas\\_fired\\_combustion\\_turbine \\\\\n",
       "\t21 & 21 & 1 & 0.0 & natural\\_gas\\_fired\\_combustion\\_turbine \\\\\n",
       "\t22 & 22 & 1 & 0.0 & natural\\_gas\\_fired\\_combustion\\_turbine \\\\\n",
       "\t23 & 23 & 1 & 36.8614 & onshore\\_wind\\_turbine \\\\\n",
       "\t24 & 24 & 1 & 2.18868 & small\\_hydroelectric \\\\\n",
       "\t25 & 25 & 1 & -0.0 & solar\\_photovoltaic \\\\\n",
       "\t26 & 1 & 2 & 21.4 & biomass \\\\\n",
       "\t27 & 2 & 2 & 42.0 & hydroelectric\\_pumped\\_storage \\\\\n",
       "\t28 & 3 & 2 & 0.0 & natural\\_gas\\_fired\\_combined\\_cycle \\\\\n",
       "\t29 & 4 & 2 & 0.0 & natural\\_gas\\_fired\\_combined\\_cycle \\\\\n",
       "\t30 & 5 & 2 & 0.0 & natural\\_gas\\_fired\\_combined\\_cycle \\\\\n",
       "\t$\\dots$ & $\\dots$ & $\\dots$ & $\\dots$ & $\\dots$ \\\\\n",
       "\\end{tabular}\n"
      ],
      "text/plain": [
       "\u001b[1m225×4 DataFrame\u001b[0m\n",
       "\u001b[1m Row \u001b[0m│\u001b[1m r_id   \u001b[0m\u001b[1m hour  \u001b[0m\u001b[1m gen       \u001b[0m\u001b[1m resource                          \u001b[0m\n",
       "     │\u001b[90m Int64? \u001b[0m\u001b[90m Int64 \u001b[0m\u001b[90m Float64   \u001b[0m\u001b[90m String?                           \u001b[0m\n",
       "─────┼─────────────────────────────────────────────────────────────\n",
       "   1 │      1      1   21.4      biomass\n",
       "   2 │      2      1   42.0      hydroelectric_pumped_storage\n",
       "   3 │      3      1    0.0      natural_gas_fired_combined_cycle\n",
       "   4 │      4      1    0.0      natural_gas_fired_combined_cycle\n",
       "   5 │      5      1    0.0      natural_gas_fired_combined_cycle\n",
       "   6 │      6      1  522.42     natural_gas_fired_combined_cycle\n",
       "   7 │      7      1    0.0      natural_gas_fired_combined_cycle\n",
       "   8 │      8      1    0.0      natural_gas_fired_combined_cycle\n",
       "   9 │      9      1    0.0      natural_gas_fired_combustion_tur…\n",
       "  10 │     10      1    0.0      natural_gas_fired_combustion_tur…\n",
       "  11 │     11      1    0.0      natural_gas_fired_combustion_tur…\n",
       "  ⋮  │   ⋮       ⋮        ⋮                      ⋮\n",
       " 216 │     16      9    0.0      natural_gas_fired_combustion_tur…\n",
       " 217 │     17      9    0.0      natural_gas_fired_combustion_tur…\n",
       " 218 │     18      9    0.0      natural_gas_fired_combustion_tur…\n",
       " 219 │     19      9    0.0      natural_gas_fired_combustion_tur…\n",
       " 220 │     20      9    0.0      natural_gas_fired_combustion_tur…\n",
       " 221 │     21      9    0.0      natural_gas_fired_combustion_tur…\n",
       " 222 │     22      9    0.0      natural_gas_fired_combustion_tur…\n",
       " 223 │     23      9    4.70016  onshore_wind_turbine\n",
       " 224 │     24      9    2.17038  small_hydroelectric\n",
       " 225 │     25      9  175.75     solar_photovoltaic\n",
       "\u001b[36m                                                   204 rows omitted\u001b[0m"
      ]
     },
     "execution_count": 56,
     "metadata": {},
     "output_type": "execute_result"
    }
   ],
   "source": [
    "# r_id,hour,gen,resource이 포함된 테이블 생성\n",
    "sol_gen = innerjoin(solution.solution, \n",
    "                    gen_df[!, [:r_id, :resource]], \n",
    "                    on = :r_id)"
   ]
  },
  {
   "cell_type": "code",
   "execution_count": 57,
   "id": "bd25efb8",
   "metadata": {},
   "outputs": [
    {
     "data": {
      "text/html": [
       "<div><div style = \"float: left;\"><span>63×3 DataFrame</span></div><div style = \"float: right;\"><span style = \"font-style: italic;\">38 rows omitted</span></div><div style = \"clear: both;\"></div></div><div class = \"data-frame\" style = \"overflow-x: scroll;\"><table class = \"data-frame\" style = \"margin-bottom: 6px;\"><thead><tr class = \"header\"><th class = \"rowNumber\" style = \"font-weight: bold; text-align: right;\">Row</th><th style = \"text-align: left;\">resource</th><th style = \"text-align: left;\">hour</th><th style = \"text-align: left;\">gen_sum</th></tr><tr class = \"subheader headerLastRow\"><th class = \"rowNumber\" style = \"font-weight: bold; text-align: right;\"></th><th title = \"Union{Missing, String}\" style = \"text-align: left;\">String?</th><th title = \"Int64\" style = \"text-align: left;\">Int64</th><th title = \"Float64\" style = \"text-align: left;\">Float64</th></tr></thead><tbody><tr><td class = \"rowNumber\" style = \"font-weight: bold; text-align: right;\">1</td><td style = \"text-align: left;\">biomass</td><td style = \"text-align: right;\">1</td><td style = \"text-align: right;\">21.4</td></tr><tr><td class = \"rowNumber\" style = \"font-weight: bold; text-align: right;\">2</td><td style = \"text-align: left;\">hydroelectric_pumped_storage</td><td style = \"text-align: right;\">1</td><td style = \"text-align: right;\">42.0</td></tr><tr><td class = \"rowNumber\" style = \"font-weight: bold; text-align: right;\">3</td><td style = \"text-align: left;\">natural_gas_fired_combined_cycle</td><td style = \"text-align: right;\">1</td><td style = \"text-align: right;\">522.42</td></tr><tr><td class = \"rowNumber\" style = \"font-weight: bold; text-align: right;\">4</td><td style = \"text-align: left;\">natural_gas_fired_combustion_turbine</td><td style = \"text-align: right;\">1</td><td style = \"text-align: right;\">0.0</td></tr><tr><td class = \"rowNumber\" style = \"font-weight: bold; text-align: right;\">5</td><td style = \"text-align: left;\">onshore_wind_turbine</td><td style = \"text-align: right;\">1</td><td style = \"text-align: right;\">36.8614</td></tr><tr><td class = \"rowNumber\" style = \"font-weight: bold; text-align: right;\">6</td><td style = \"text-align: left;\">small_hydroelectric</td><td style = \"text-align: right;\">1</td><td style = \"text-align: right;\">2.18868</td></tr><tr><td class = \"rowNumber\" style = \"font-weight: bold; text-align: right;\">7</td><td style = \"text-align: left;\">solar_photovoltaic</td><td style = \"text-align: right;\">1</td><td style = \"text-align: right;\">0.0</td></tr><tr><td class = \"rowNumber\" style = \"font-weight: bold; text-align: right;\">8</td><td style = \"text-align: left;\">biomass</td><td style = \"text-align: right;\">2</td><td style = \"text-align: right;\">21.4</td></tr><tr><td class = \"rowNumber\" style = \"font-weight: bold; text-align: right;\">9</td><td style = \"text-align: left;\">hydroelectric_pumped_storage</td><td style = \"text-align: right;\">2</td><td style = \"text-align: right;\">42.0</td></tr><tr><td class = \"rowNumber\" style = \"font-weight: bold; text-align: right;\">10</td><td style = \"text-align: left;\">natural_gas_fired_combined_cycle</td><td style = \"text-align: right;\">2</td><td style = \"text-align: right;\">513.223</td></tr><tr><td class = \"rowNumber\" style = \"font-weight: bold; text-align: right;\">11</td><td style = \"text-align: left;\">natural_gas_fired_combustion_turbine</td><td style = \"text-align: right;\">2</td><td style = \"text-align: right;\">0.0</td></tr><tr><td class = \"rowNumber\" style = \"font-weight: bold; text-align: right;\">12</td><td style = \"text-align: left;\">onshore_wind_turbine</td><td style = \"text-align: right;\">2</td><td style = \"text-align: right;\">36.0781</td></tr><tr><td class = \"rowNumber\" style = \"font-weight: bold; text-align: right;\">13</td><td style = \"text-align: left;\">small_hydroelectric</td><td style = \"text-align: right;\">2</td><td style = \"text-align: right;\">2.18648</td></tr><tr><td style = \"text-align: right;\">&vellip;</td><td style = \"text-align: right;\">&vellip;</td><td style = \"text-align: right;\">&vellip;</td><td style = \"text-align: right;\">&vellip;</td></tr><tr><td class = \"rowNumber\" style = \"font-weight: bold; text-align: right;\">52</td><td style = \"text-align: left;\">natural_gas_fired_combined_cycle</td><td style = \"text-align: right;\">8</td><td style = \"text-align: right;\">497.471</td></tr><tr><td class = \"rowNumber\" style = \"font-weight: bold; text-align: right;\">53</td><td style = \"text-align: left;\">natural_gas_fired_combustion_turbine</td><td style = \"text-align: right;\">8</td><td style = \"text-align: right;\">0.0</td></tr><tr><td class = \"rowNumber\" style = \"font-weight: bold; text-align: right;\">54</td><td style = \"text-align: left;\">onshore_wind_turbine</td><td style = \"text-align: right;\">8</td><td style = \"text-align: right;\">4.70016</td></tr><tr><td class = \"rowNumber\" style = \"font-weight: bold; text-align: right;\">55</td><td style = \"text-align: left;\">small_hydroelectric</td><td style = \"text-align: right;\">8</td><td style = \"text-align: right;\">2.17258</td></tr><tr><td class = \"rowNumber\" style = \"font-weight: bold; text-align: right;\">56</td><td style = \"text-align: left;\">solar_photovoltaic</td><td style = \"text-align: right;\">8</td><td style = \"text-align: right;\">24.4</td></tr><tr><td class = \"rowNumber\" style = \"font-weight: bold; text-align: right;\">57</td><td style = \"text-align: left;\">biomass</td><td style = \"text-align: right;\">9</td><td style = \"text-align: right;\">21.4</td></tr><tr><td class = \"rowNumber\" style = \"font-weight: bold; text-align: right;\">58</td><td style = \"text-align: left;\">hydroelectric_pumped_storage</td><td style = \"text-align: right;\">9</td><td style = \"text-align: right;\">42.0</td></tr><tr><td class = \"rowNumber\" style = \"font-weight: bold; text-align: right;\">59</td><td style = \"text-align: left;\">natural_gas_fired_combined_cycle</td><td style = \"text-align: right;\">9</td><td style = \"text-align: right;\">452.134</td></tr><tr><td class = \"rowNumber\" style = \"font-weight: bold; text-align: right;\">60</td><td style = \"text-align: left;\">natural_gas_fired_combustion_turbine</td><td style = \"text-align: right;\">9</td><td style = \"text-align: right;\">0.0</td></tr><tr><td class = \"rowNumber\" style = \"font-weight: bold; text-align: right;\">61</td><td style = \"text-align: left;\">onshore_wind_turbine</td><td style = \"text-align: right;\">9</td><td style = \"text-align: right;\">4.70016</td></tr><tr><td class = \"rowNumber\" style = \"font-weight: bold; text-align: right;\">62</td><td style = \"text-align: left;\">small_hydroelectric</td><td style = \"text-align: right;\">9</td><td style = \"text-align: right;\">2.17038</td></tr><tr><td class = \"rowNumber\" style = \"font-weight: bold; text-align: right;\">63</td><td style = \"text-align: left;\">solar_photovoltaic</td><td style = \"text-align: right;\">9</td><td style = \"text-align: right;\">175.75</td></tr></tbody></table></div>"
      ],
      "text/latex": [
       "\\begin{tabular}{r|ccc}\n",
       "\t& resource & hour & gen\\_sum\\\\\n",
       "\t\\hline\n",
       "\t& String? & Int64 & Float64\\\\\n",
       "\t\\hline\n",
       "\t1 & biomass & 1 & 21.4 \\\\\n",
       "\t2 & hydroelectric\\_pumped\\_storage & 1 & 42.0 \\\\\n",
       "\t3 & natural\\_gas\\_fired\\_combined\\_cycle & 1 & 522.42 \\\\\n",
       "\t4 & natural\\_gas\\_fired\\_combustion\\_turbine & 1 & 0.0 \\\\\n",
       "\t5 & onshore\\_wind\\_turbine & 1 & 36.8614 \\\\\n",
       "\t6 & small\\_hydroelectric & 1 & 2.18868 \\\\\n",
       "\t7 & solar\\_photovoltaic & 1 & 0.0 \\\\\n",
       "\t8 & biomass & 2 & 21.4 \\\\\n",
       "\t9 & hydroelectric\\_pumped\\_storage & 2 & 42.0 \\\\\n",
       "\t10 & natural\\_gas\\_fired\\_combined\\_cycle & 2 & 513.223 \\\\\n",
       "\t11 & natural\\_gas\\_fired\\_combustion\\_turbine & 2 & 0.0 \\\\\n",
       "\t12 & onshore\\_wind\\_turbine & 2 & 36.0781 \\\\\n",
       "\t13 & small\\_hydroelectric & 2 & 2.18648 \\\\\n",
       "\t14 & solar\\_photovoltaic & 2 & 0.0 \\\\\n",
       "\t15 & biomass & 3 & 21.4 \\\\\n",
       "\t16 & hydroelectric\\_pumped\\_storage & 3 & 42.0 \\\\\n",
       "\t17 & natural\\_gas\\_fired\\_combined\\_cycle & 3 & 480.765 \\\\\n",
       "\t18 & natural\\_gas\\_fired\\_combustion\\_turbine & 3 & 0.0 \\\\\n",
       "\t19 & onshore\\_wind\\_turbine & 3 & 32.6835 \\\\\n",
       "\t20 & small\\_hydroelectric & 3 & 2.18429 \\\\\n",
       "\t21 & solar\\_photovoltaic & 3 & 0.0 \\\\\n",
       "\t22 & biomass & 4 & 21.4 \\\\\n",
       "\t23 & hydroelectric\\_pumped\\_storage & 4 & 42.0 \\\\\n",
       "\t24 & natural\\_gas\\_fired\\_combined\\_cycle & 4 & 394.39 \\\\\n",
       "\t25 & natural\\_gas\\_fired\\_combustion\\_turbine & 4 & 0.0 \\\\\n",
       "\t26 & onshore\\_wind\\_turbine & 4 & 31.6608 \\\\\n",
       "\t27 & small\\_hydroelectric & 4 & 2.18209 \\\\\n",
       "\t28 & solar\\_photovoltaic & 4 & 0.0 \\\\\n",
       "\t29 & biomass & 5 & 21.4 \\\\\n",
       "\t30 & hydroelectric\\_pumped\\_storage & 5 & 42.0 \\\\\n",
       "\t$\\dots$ & $\\dots$ & $\\dots$ & $\\dots$ \\\\\n",
       "\\end{tabular}\n"
      ],
      "text/plain": [
       "\u001b[1m63×3 DataFrame\u001b[0m\n",
       "\u001b[1m Row \u001b[0m│\u001b[1m resource                          \u001b[0m\u001b[1m hour  \u001b[0m\u001b[1m gen_sum   \u001b[0m\n",
       "     │\u001b[90m String?                           \u001b[0m\u001b[90m Int64 \u001b[0m\u001b[90m Float64   \u001b[0m\n",
       "─────┼─────────────────────────────────────────────────────\n",
       "   1 │ biomass                                1   21.4\n",
       "   2 │ hydroelectric_pumped_storage           1   42.0\n",
       "   3 │ natural_gas_fired_combined_cycle       1  522.42\n",
       "   4 │ natural_gas_fired_combustion_tur…      1    0.0\n",
       "   5 │ onshore_wind_turbine                   1   36.8614\n",
       "   6 │ small_hydroelectric                    1    2.18868\n",
       "   7 │ solar_photovoltaic                     1    0.0\n",
       "   8 │ biomass                                2   21.4\n",
       "   9 │ hydroelectric_pumped_storage           2   42.0\n",
       "  10 │ natural_gas_fired_combined_cycle       2  513.223\n",
       "  11 │ natural_gas_fired_combustion_tur…      2    0.0\n",
       "  ⋮  │                 ⋮                    ⋮        ⋮\n",
       "  54 │ onshore_wind_turbine                   8    4.70016\n",
       "  55 │ small_hydroelectric                    8    2.17258\n",
       "  56 │ solar_photovoltaic                     8   24.4\n",
       "  57 │ biomass                                9   21.4\n",
       "  58 │ hydroelectric_pumped_storage           9   42.0\n",
       "  59 │ natural_gas_fired_combined_cycle       9  452.134\n",
       "  60 │ natural_gas_fired_combustion_tur…      9    0.0\n",
       "  61 │ onshore_wind_turbine                   9    4.70016\n",
       "  62 │ small_hydroelectric                    9    2.17038\n",
       "  63 │ solar_photovoltaic                     9  175.75\n",
       "\u001b[36m                                            42 rows omitted\u001b[0m"
      ]
     },
     "execution_count": 57,
     "metadata": {},
     "output_type": "execute_result"
    }
   ],
   "source": [
    "# r_id와 관계없이 resource, hour의 unique만 추린 후에 발전량의 합을 나타냄 \n",
    "sol_gen = combine(groupby(sol_gen, [:resource, :hour]), \n",
    "            :gen => sum)\n",
    "sol_gen_btm = sol_gen\n"
   ]
  },
  {
   "cell_type": "code",
   "execution_count": 58,
   "id": "ffe2ef6f",
   "metadata": {},
   "outputs": [
    {
     "data": {
      "text/plain": [
       "9-element view(::Vector{Union{Missing, String}}, [6, 13, 20, 27, 34, 41, 48, 55, 62]) with eltype Union{Missing, String}:\n",
       " \"_small_hydroelectric\"\n",
       " \"_small_hydroelectric\"\n",
       " \"_small_hydroelectric\"\n",
       " \"_small_hydroelectric\"\n",
       " \"_small_hydroelectric\"\n",
       " \"_small_hydroelectric\"\n",
       " \"_small_hydroelectric\"\n",
       " \"_small_hydroelectric\"\n",
       " \"_small_hydroelectric\""
      ]
     },
     "execution_count": 58,
     "metadata": {},
     "output_type": "execute_result"
    }
   ],
   "source": [
    "sol_gen_btm[sol_gen_btm.resource .== \"solar_photovoltaic\", :resource] .= \"_solar_photovoltaic\"\n",
    "sol_gen_btm[sol_gen_btm.resource .== \"onshore_wind_turbine\", :resource] .= \"_onshore_wind_turbine\"\n",
    "sol_gen_btm[sol_gen_btm.resource .== \"small_hydroelectric\", :resource] .= \"_small_hydroelectric\""
   ]
  },
  {
   "cell_type": "code",
   "execution_count": 59,
   "id": "d928a53e",
   "metadata": {},
   "outputs": [
    {
     "data": {
      "text/html": [
       "<div><div style = \"float: left;\"><span>63×3 DataFrame</span></div><div style = \"float: right;\"><span style = \"font-style: italic;\">38 rows omitted</span></div><div style = \"clear: both;\"></div></div><div class = \"data-frame\" style = \"overflow-x: scroll;\"><table class = \"data-frame\" style = \"margin-bottom: 6px;\"><thead><tr class = \"header\"><th class = \"rowNumber\" style = \"font-weight: bold; text-align: right;\">Row</th><th style = \"text-align: left;\">resource</th><th style = \"text-align: left;\">hour</th><th style = \"text-align: left;\">gen_sum</th></tr><tr class = \"subheader headerLastRow\"><th class = \"rowNumber\" style = \"font-weight: bold; text-align: right;\"></th><th title = \"Union{Missing, String}\" style = \"text-align: left;\">String?</th><th title = \"Int64\" style = \"text-align: left;\">Int64</th><th title = \"Float64\" style = \"text-align: left;\">Float64</th></tr></thead><tbody><tr><td class = \"rowNumber\" style = \"font-weight: bold; text-align: right;\">1</td><td style = \"text-align: left;\">biomass</td><td style = \"text-align: right;\">1</td><td style = \"text-align: right;\">21.4</td></tr><tr><td class = \"rowNumber\" style = \"font-weight: bold; text-align: right;\">2</td><td style = \"text-align: left;\">hydroelectric_pumped_storage</td><td style = \"text-align: right;\">1</td><td style = \"text-align: right;\">42.0</td></tr><tr><td class = \"rowNumber\" style = \"font-weight: bold; text-align: right;\">3</td><td style = \"text-align: left;\">natural_gas_fired_combined_cycle</td><td style = \"text-align: right;\">1</td><td style = \"text-align: right;\">522.42</td></tr><tr><td class = \"rowNumber\" style = \"font-weight: bold; text-align: right;\">4</td><td style = \"text-align: left;\">natural_gas_fired_combustion_turbine</td><td style = \"text-align: right;\">1</td><td style = \"text-align: right;\">0.0</td></tr><tr><td class = \"rowNumber\" style = \"font-weight: bold; text-align: right;\">5</td><td style = \"text-align: left;\">_onshore_wind_turbine</td><td style = \"text-align: right;\">1</td><td style = \"text-align: right;\">36.8614</td></tr><tr><td class = \"rowNumber\" style = \"font-weight: bold; text-align: right;\">6</td><td style = \"text-align: left;\">_small_hydroelectric</td><td style = \"text-align: right;\">1</td><td style = \"text-align: right;\">2.18868</td></tr><tr><td class = \"rowNumber\" style = \"font-weight: bold; text-align: right;\">7</td><td style = \"text-align: left;\">_solar_photovoltaic</td><td style = \"text-align: right;\">1</td><td style = \"text-align: right;\">0.0</td></tr><tr><td class = \"rowNumber\" style = \"font-weight: bold; text-align: right;\">8</td><td style = \"text-align: left;\">biomass</td><td style = \"text-align: right;\">2</td><td style = \"text-align: right;\">21.4</td></tr><tr><td class = \"rowNumber\" style = \"font-weight: bold; text-align: right;\">9</td><td style = \"text-align: left;\">hydroelectric_pumped_storage</td><td style = \"text-align: right;\">2</td><td style = \"text-align: right;\">42.0</td></tr><tr><td class = \"rowNumber\" style = \"font-weight: bold; text-align: right;\">10</td><td style = \"text-align: left;\">natural_gas_fired_combined_cycle</td><td style = \"text-align: right;\">2</td><td style = \"text-align: right;\">513.223</td></tr><tr><td class = \"rowNumber\" style = \"font-weight: bold; text-align: right;\">11</td><td style = \"text-align: left;\">natural_gas_fired_combustion_turbine</td><td style = \"text-align: right;\">2</td><td style = \"text-align: right;\">0.0</td></tr><tr><td class = \"rowNumber\" style = \"font-weight: bold; text-align: right;\">12</td><td style = \"text-align: left;\">_onshore_wind_turbine</td><td style = \"text-align: right;\">2</td><td style = \"text-align: right;\">36.0781</td></tr><tr><td class = \"rowNumber\" style = \"font-weight: bold; text-align: right;\">13</td><td style = \"text-align: left;\">_small_hydroelectric</td><td style = \"text-align: right;\">2</td><td style = \"text-align: right;\">2.18648</td></tr><tr><td style = \"text-align: right;\">&vellip;</td><td style = \"text-align: right;\">&vellip;</td><td style = \"text-align: right;\">&vellip;</td><td style = \"text-align: right;\">&vellip;</td></tr><tr><td class = \"rowNumber\" style = \"font-weight: bold; text-align: right;\">52</td><td style = \"text-align: left;\">natural_gas_fired_combined_cycle</td><td style = \"text-align: right;\">8</td><td style = \"text-align: right;\">497.471</td></tr><tr><td class = \"rowNumber\" style = \"font-weight: bold; text-align: right;\">53</td><td style = \"text-align: left;\">natural_gas_fired_combustion_turbine</td><td style = \"text-align: right;\">8</td><td style = \"text-align: right;\">0.0</td></tr><tr><td class = \"rowNumber\" style = \"font-weight: bold; text-align: right;\">54</td><td style = \"text-align: left;\">_onshore_wind_turbine</td><td style = \"text-align: right;\">8</td><td style = \"text-align: right;\">4.70016</td></tr><tr><td class = \"rowNumber\" style = \"font-weight: bold; text-align: right;\">55</td><td style = \"text-align: left;\">_small_hydroelectric</td><td style = \"text-align: right;\">8</td><td style = \"text-align: right;\">2.17258</td></tr><tr><td class = \"rowNumber\" style = \"font-weight: bold; text-align: right;\">56</td><td style = \"text-align: left;\">_solar_photovoltaic</td><td style = \"text-align: right;\">8</td><td style = \"text-align: right;\">24.4</td></tr><tr><td class = \"rowNumber\" style = \"font-weight: bold; text-align: right;\">57</td><td style = \"text-align: left;\">biomass</td><td style = \"text-align: right;\">9</td><td style = \"text-align: right;\">21.4</td></tr><tr><td class = \"rowNumber\" style = \"font-weight: bold; text-align: right;\">58</td><td style = \"text-align: left;\">hydroelectric_pumped_storage</td><td style = \"text-align: right;\">9</td><td style = \"text-align: right;\">42.0</td></tr><tr><td class = \"rowNumber\" style = \"font-weight: bold; text-align: right;\">59</td><td style = \"text-align: left;\">natural_gas_fired_combined_cycle</td><td style = \"text-align: right;\">9</td><td style = \"text-align: right;\">452.134</td></tr><tr><td class = \"rowNumber\" style = \"font-weight: bold; text-align: right;\">60</td><td style = \"text-align: left;\">natural_gas_fired_combustion_turbine</td><td style = \"text-align: right;\">9</td><td style = \"text-align: right;\">0.0</td></tr><tr><td class = \"rowNumber\" style = \"font-weight: bold; text-align: right;\">61</td><td style = \"text-align: left;\">_onshore_wind_turbine</td><td style = \"text-align: right;\">9</td><td style = \"text-align: right;\">4.70016</td></tr><tr><td class = \"rowNumber\" style = \"font-weight: bold; text-align: right;\">62</td><td style = \"text-align: left;\">_small_hydroelectric</td><td style = \"text-align: right;\">9</td><td style = \"text-align: right;\">2.17038</td></tr><tr><td class = \"rowNumber\" style = \"font-weight: bold; text-align: right;\">63</td><td style = \"text-align: left;\">_solar_photovoltaic</td><td style = \"text-align: right;\">9</td><td style = \"text-align: right;\">175.75</td></tr></tbody></table></div>"
      ],
      "text/latex": [
       "\\begin{tabular}{r|ccc}\n",
       "\t& resource & hour & gen\\_sum\\\\\n",
       "\t\\hline\n",
       "\t& String? & Int64 & Float64\\\\\n",
       "\t\\hline\n",
       "\t1 & biomass & 1 & 21.4 \\\\\n",
       "\t2 & hydroelectric\\_pumped\\_storage & 1 & 42.0 \\\\\n",
       "\t3 & natural\\_gas\\_fired\\_combined\\_cycle & 1 & 522.42 \\\\\n",
       "\t4 & natural\\_gas\\_fired\\_combustion\\_turbine & 1 & 0.0 \\\\\n",
       "\t5 & \\_onshore\\_wind\\_turbine & 1 & 36.8614 \\\\\n",
       "\t6 & \\_small\\_hydroelectric & 1 & 2.18868 \\\\\n",
       "\t7 & \\_solar\\_photovoltaic & 1 & 0.0 \\\\\n",
       "\t8 & biomass & 2 & 21.4 \\\\\n",
       "\t9 & hydroelectric\\_pumped\\_storage & 2 & 42.0 \\\\\n",
       "\t10 & natural\\_gas\\_fired\\_combined\\_cycle & 2 & 513.223 \\\\\n",
       "\t11 & natural\\_gas\\_fired\\_combustion\\_turbine & 2 & 0.0 \\\\\n",
       "\t12 & \\_onshore\\_wind\\_turbine & 2 & 36.0781 \\\\\n",
       "\t13 & \\_small\\_hydroelectric & 2 & 2.18648 \\\\\n",
       "\t14 & \\_solar\\_photovoltaic & 2 & 0.0 \\\\\n",
       "\t15 & biomass & 3 & 21.4 \\\\\n",
       "\t16 & hydroelectric\\_pumped\\_storage & 3 & 42.0 \\\\\n",
       "\t17 & natural\\_gas\\_fired\\_combined\\_cycle & 3 & 480.765 \\\\\n",
       "\t18 & natural\\_gas\\_fired\\_combustion\\_turbine & 3 & 0.0 \\\\\n",
       "\t19 & \\_onshore\\_wind\\_turbine & 3 & 32.6835 \\\\\n",
       "\t20 & \\_small\\_hydroelectric & 3 & 2.18429 \\\\\n",
       "\t21 & \\_solar\\_photovoltaic & 3 & 0.0 \\\\\n",
       "\t22 & biomass & 4 & 21.4 \\\\\n",
       "\t23 & hydroelectric\\_pumped\\_storage & 4 & 42.0 \\\\\n",
       "\t24 & natural\\_gas\\_fired\\_combined\\_cycle & 4 & 394.39 \\\\\n",
       "\t25 & natural\\_gas\\_fired\\_combustion\\_turbine & 4 & 0.0 \\\\\n",
       "\t26 & \\_onshore\\_wind\\_turbine & 4 & 31.6608 \\\\\n",
       "\t27 & \\_small\\_hydroelectric & 4 & 2.18209 \\\\\n",
       "\t28 & \\_solar\\_photovoltaic & 4 & 0.0 \\\\\n",
       "\t29 & biomass & 5 & 21.4 \\\\\n",
       "\t30 & hydroelectric\\_pumped\\_storage & 5 & 42.0 \\\\\n",
       "\t$\\dots$ & $\\dots$ & $\\dots$ & $\\dots$ \\\\\n",
       "\\end{tabular}\n"
      ],
      "text/plain": [
       "\u001b[1m63×3 DataFrame\u001b[0m\n",
       "\u001b[1m Row \u001b[0m│\u001b[1m resource                          \u001b[0m\u001b[1m hour  \u001b[0m\u001b[1m gen_sum   \u001b[0m\n",
       "     │\u001b[90m String?                           \u001b[0m\u001b[90m Int64 \u001b[0m\u001b[90m Float64   \u001b[0m\n",
       "─────┼─────────────────────────────────────────────────────\n",
       "   1 │ biomass                                1   21.4\n",
       "   2 │ hydroelectric_pumped_storage           1   42.0\n",
       "   3 │ natural_gas_fired_combined_cycle       1  522.42\n",
       "   4 │ natural_gas_fired_combustion_tur…      1    0.0\n",
       "   5 │ _onshore_wind_turbine                  1   36.8614\n",
       "   6 │ _small_hydroelectric                   1    2.18868\n",
       "   7 │ _solar_photovoltaic                    1    0.0\n",
       "   8 │ biomass                                2   21.4\n",
       "   9 │ hydroelectric_pumped_storage           2   42.0\n",
       "  10 │ natural_gas_fired_combined_cycle       2  513.223\n",
       "  11 │ natural_gas_fired_combustion_tur…      2    0.0\n",
       "  ⋮  │                 ⋮                    ⋮        ⋮\n",
       "  54 │ _onshore_wind_turbine                  8    4.70016\n",
       "  55 │ _small_hydroelectric                   8    2.17258\n",
       "  56 │ _solar_photovoltaic                    8   24.4\n",
       "  57 │ biomass                                9   21.4\n",
       "  58 │ hydroelectric_pumped_storage           9   42.0\n",
       "  59 │ natural_gas_fired_combined_cycle       9  452.134\n",
       "  60 │ natural_gas_fired_combustion_tur…      9    0.0\n",
       "  61 │ _onshore_wind_turbine                  9    4.70016\n",
       "  62 │ _small_hydroelectric                   9    2.17038\n",
       "  63 │ _solar_photovoltaic                    9  175.75\n",
       "\u001b[36m                                            42 rows omitted\u001b[0m"
      ]
     },
     "execution_count": 59,
     "metadata": {},
     "output_type": "execute_result"
    }
   ],
   "source": [
    "sol_gen_btm"
   ]
  },
  {
   "cell_type": "code",
   "execution_count": 60,
   "id": "02573c2d",
   "metadata": {},
   "outputs": [
    {
     "data": {
      "text/html": [
       "<div><div style = \"float: left;\"><span>72×3 DataFrame</span></div><div style = \"float: right;\"><span style = \"font-style: italic;\">47 rows omitted</span></div><div style = \"clear: both;\"></div></div><div class = \"data-frame\" style = \"overflow-x: scroll;\"><table class = \"data-frame\" style = \"margin-bottom: 6px;\"><thead><tr class = \"header\"><th class = \"rowNumber\" style = \"font-weight: bold; text-align: right;\">Row</th><th style = \"text-align: left;\">resource</th><th style = \"text-align: left;\">hour</th><th style = \"text-align: left;\">gen_sum</th></tr><tr class = \"subheader headerLastRow\"><th class = \"rowNumber\" style = \"font-weight: bold; text-align: right;\"></th><th title = \"Union{Missing, String}\" style = \"text-align: left;\">String?</th><th title = \"Int64\" style = \"text-align: left;\">Int64</th><th title = \"Float64\" style = \"text-align: left;\">Float64</th></tr></thead><tbody><tr><td class = \"rowNumber\" style = \"font-weight: bold; text-align: right;\">1</td><td style = \"text-align: left;\">biomass</td><td style = \"text-align: right;\">1</td><td style = \"text-align: right;\">21.4</td></tr><tr><td class = \"rowNumber\" style = \"font-weight: bold; text-align: right;\">2</td><td style = \"text-align: left;\">hydroelectric_pumped_storage</td><td style = \"text-align: right;\">1</td><td style = \"text-align: right;\">42.0</td></tr><tr><td class = \"rowNumber\" style = \"font-weight: bold; text-align: right;\">3</td><td style = \"text-align: left;\">natural_gas_fired_combined_cycle</td><td style = \"text-align: right;\">1</td><td style = \"text-align: right;\">522.42</td></tr><tr><td class = \"rowNumber\" style = \"font-weight: bold; text-align: right;\">4</td><td style = \"text-align: left;\">natural_gas_fired_combustion_turbine</td><td style = \"text-align: right;\">1</td><td style = \"text-align: right;\">0.0</td></tr><tr><td class = \"rowNumber\" style = \"font-weight: bold; text-align: right;\">5</td><td style = \"text-align: left;\">_onshore_wind_turbine</td><td style = \"text-align: right;\">1</td><td style = \"text-align: right;\">36.8614</td></tr><tr><td class = \"rowNumber\" style = \"font-weight: bold; text-align: right;\">6</td><td style = \"text-align: left;\">_small_hydroelectric</td><td style = \"text-align: right;\">1</td><td style = \"text-align: right;\">2.18868</td></tr><tr><td class = \"rowNumber\" style = \"font-weight: bold; text-align: right;\">7</td><td style = \"text-align: left;\">_solar_photovoltaic</td><td style = \"text-align: right;\">1</td><td style = \"text-align: right;\">0.0</td></tr><tr><td class = \"rowNumber\" style = \"font-weight: bold; text-align: right;\">8</td><td style = \"text-align: left;\">biomass</td><td style = \"text-align: right;\">2</td><td style = \"text-align: right;\">21.4</td></tr><tr><td class = \"rowNumber\" style = \"font-weight: bold; text-align: right;\">9</td><td style = \"text-align: left;\">hydroelectric_pumped_storage</td><td style = \"text-align: right;\">2</td><td style = \"text-align: right;\">42.0</td></tr><tr><td class = \"rowNumber\" style = \"font-weight: bold; text-align: right;\">10</td><td style = \"text-align: left;\">natural_gas_fired_combined_cycle</td><td style = \"text-align: right;\">2</td><td style = \"text-align: right;\">513.223</td></tr><tr><td class = \"rowNumber\" style = \"font-weight: bold; text-align: right;\">11</td><td style = \"text-align: left;\">natural_gas_fired_combustion_turbine</td><td style = \"text-align: right;\">2</td><td style = \"text-align: right;\">0.0</td></tr><tr><td class = \"rowNumber\" style = \"font-weight: bold; text-align: right;\">12</td><td style = \"text-align: left;\">_onshore_wind_turbine</td><td style = \"text-align: right;\">2</td><td style = \"text-align: right;\">36.0781</td></tr><tr><td class = \"rowNumber\" style = \"font-weight: bold; text-align: right;\">13</td><td style = \"text-align: left;\">_small_hydroelectric</td><td style = \"text-align: right;\">2</td><td style = \"text-align: right;\">2.18648</td></tr><tr><td style = \"text-align: right;\">&vellip;</td><td style = \"text-align: right;\">&vellip;</td><td style = \"text-align: right;\">&vellip;</td><td style = \"text-align: right;\">&vellip;</td></tr><tr><td class = \"rowNumber\" style = \"font-weight: bold; text-align: right;\">61</td><td style = \"text-align: left;\">_onshore_wind_turbine</td><td style = \"text-align: right;\">9</td><td style = \"text-align: right;\">4.70016</td></tr><tr><td class = \"rowNumber\" style = \"font-weight: bold; text-align: right;\">62</td><td style = \"text-align: left;\">_small_hydroelectric</td><td style = \"text-align: right;\">9</td><td style = \"text-align: right;\">2.17038</td></tr><tr><td class = \"rowNumber\" style = \"font-weight: bold; text-align: right;\">63</td><td style = \"text-align: left;\">_solar_photovoltaic</td><td style = \"text-align: right;\">9</td><td style = \"text-align: right;\">175.75</td></tr><tr><td class = \"rowNumber\" style = \"font-weight: bold; text-align: right;\">64</td><td style = \"text-align: left;\">_solar_photovoltaic_btm</td><td style = \"text-align: right;\">1</td><td style = \"text-align: right;\">0.0</td></tr><tr><td class = \"rowNumber\" style = \"font-weight: bold; text-align: right;\">65</td><td style = \"text-align: left;\">_solar_photovoltaic_btm</td><td style = \"text-align: right;\">2</td><td style = \"text-align: right;\">0.0</td></tr><tr><td class = \"rowNumber\" style = \"font-weight: bold; text-align: right;\">66</td><td style = \"text-align: left;\">_solar_photovoltaic_btm</td><td style = \"text-align: right;\">3</td><td style = \"text-align: right;\">0.0</td></tr><tr><td class = \"rowNumber\" style = \"font-weight: bold; text-align: right;\">67</td><td style = \"text-align: left;\">_solar_photovoltaic_btm</td><td style = \"text-align: right;\">4</td><td style = \"text-align: right;\">0.0</td></tr><tr><td class = \"rowNumber\" style = \"font-weight: bold; text-align: right;\">68</td><td style = \"text-align: left;\">_solar_photovoltaic_btm</td><td style = \"text-align: right;\">5</td><td style = \"text-align: right;\">0.0</td></tr><tr><td class = \"rowNumber\" style = \"font-weight: bold; text-align: right;\">69</td><td style = \"text-align: left;\">_solar_photovoltaic_btm</td><td style = \"text-align: right;\">6</td><td style = \"text-align: right;\">0.0</td></tr><tr><td class = \"rowNumber\" style = \"font-weight: bold; text-align: right;\">70</td><td style = \"text-align: left;\">_solar_photovoltaic_btm</td><td style = \"text-align: right;\">7</td><td style = \"text-align: right;\">0.0</td></tr><tr><td class = \"rowNumber\" style = \"font-weight: bold; text-align: right;\">71</td><td style = \"text-align: left;\">_solar_photovoltaic_btm</td><td style = \"text-align: right;\">8</td><td style = \"text-align: right;\">29.28</td></tr><tr><td class = \"rowNumber\" style = \"font-weight: bold; text-align: right;\">72</td><td style = \"text-align: left;\">_solar_photovoltaic_btm</td><td style = \"text-align: right;\">9</td><td style = \"text-align: right;\">210.9</td></tr></tbody></table></div>"
      ],
      "text/latex": [
       "\\begin{tabular}{r|ccc}\n",
       "\t& resource & hour & gen\\_sum\\\\\n",
       "\t\\hline\n",
       "\t& String? & Int64 & Float64\\\\\n",
       "\t\\hline\n",
       "\t1 & biomass & 1 & 21.4 \\\\\n",
       "\t2 & hydroelectric\\_pumped\\_storage & 1 & 42.0 \\\\\n",
       "\t3 & natural\\_gas\\_fired\\_combined\\_cycle & 1 & 522.42 \\\\\n",
       "\t4 & natural\\_gas\\_fired\\_combustion\\_turbine & 1 & 0.0 \\\\\n",
       "\t5 & \\_onshore\\_wind\\_turbine & 1 & 36.8614 \\\\\n",
       "\t6 & \\_small\\_hydroelectric & 1 & 2.18868 \\\\\n",
       "\t7 & \\_solar\\_photovoltaic & 1 & 0.0 \\\\\n",
       "\t8 & biomass & 2 & 21.4 \\\\\n",
       "\t9 & hydroelectric\\_pumped\\_storage & 2 & 42.0 \\\\\n",
       "\t10 & natural\\_gas\\_fired\\_combined\\_cycle & 2 & 513.223 \\\\\n",
       "\t11 & natural\\_gas\\_fired\\_combustion\\_turbine & 2 & 0.0 \\\\\n",
       "\t12 & \\_onshore\\_wind\\_turbine & 2 & 36.0781 \\\\\n",
       "\t13 & \\_small\\_hydroelectric & 2 & 2.18648 \\\\\n",
       "\t14 & \\_solar\\_photovoltaic & 2 & 0.0 \\\\\n",
       "\t15 & biomass & 3 & 21.4 \\\\\n",
       "\t16 & hydroelectric\\_pumped\\_storage & 3 & 42.0 \\\\\n",
       "\t17 & natural\\_gas\\_fired\\_combined\\_cycle & 3 & 480.765 \\\\\n",
       "\t18 & natural\\_gas\\_fired\\_combustion\\_turbine & 3 & 0.0 \\\\\n",
       "\t19 & \\_onshore\\_wind\\_turbine & 3 & 32.6835 \\\\\n",
       "\t20 & \\_small\\_hydroelectric & 3 & 2.18429 \\\\\n",
       "\t21 & \\_solar\\_photovoltaic & 3 & 0.0 \\\\\n",
       "\t22 & biomass & 4 & 21.4 \\\\\n",
       "\t23 & hydroelectric\\_pumped\\_storage & 4 & 42.0 \\\\\n",
       "\t24 & natural\\_gas\\_fired\\_combined\\_cycle & 4 & 394.39 \\\\\n",
       "\t25 & natural\\_gas\\_fired\\_combustion\\_turbine & 4 & 0.0 \\\\\n",
       "\t26 & \\_onshore\\_wind\\_turbine & 4 & 31.6608 \\\\\n",
       "\t27 & \\_small\\_hydroelectric & 4 & 2.18209 \\\\\n",
       "\t28 & \\_solar\\_photovoltaic & 4 & 0.0 \\\\\n",
       "\t29 & biomass & 5 & 21.4 \\\\\n",
       "\t30 & hydroelectric\\_pumped\\_storage & 5 & 42.0 \\\\\n",
       "\t$\\dots$ & $\\dots$ & $\\dots$ & $\\dots$ \\\\\n",
       "\\end{tabular}\n"
      ],
      "text/plain": [
       "\u001b[1m72×3 DataFrame\u001b[0m\n",
       "\u001b[1m Row \u001b[0m│\u001b[1m resource                          \u001b[0m\u001b[1m hour  \u001b[0m\u001b[1m gen_sum   \u001b[0m\n",
       "     │\u001b[90m String?                           \u001b[0m\u001b[90m Int64 \u001b[0m\u001b[90m Float64   \u001b[0m\n",
       "─────┼─────────────────────────────────────────────────────\n",
       "   1 │ biomass                                1   21.4\n",
       "   2 │ hydroelectric_pumped_storage           1   42.0\n",
       "   3 │ natural_gas_fired_combined_cycle       1  522.42\n",
       "   4 │ natural_gas_fired_combustion_tur…      1    0.0\n",
       "   5 │ _onshore_wind_turbine                  1   36.8614\n",
       "   6 │ _small_hydroelectric                   1    2.18868\n",
       "   7 │ _solar_photovoltaic                    1    0.0\n",
       "   8 │ biomass                                2   21.4\n",
       "   9 │ hydroelectric_pumped_storage           2   42.0\n",
       "  10 │ natural_gas_fired_combined_cycle       2  513.223\n",
       "  11 │ natural_gas_fired_combustion_tur…      2    0.0\n",
       "  ⋮  │                 ⋮                    ⋮        ⋮\n",
       "  63 │ _solar_photovoltaic                    9  175.75\n",
       "  64 │ _solar_photovoltaic_btm                1    0.0\n",
       "  65 │ _solar_photovoltaic_btm                2    0.0\n",
       "  66 │ _solar_photovoltaic_btm                3    0.0\n",
       "  67 │ _solar_photovoltaic_btm                4    0.0\n",
       "  68 │ _solar_photovoltaic_btm                5    0.0\n",
       "  69 │ _solar_photovoltaic_btm                6    0.0\n",
       "  70 │ _solar_photovoltaic_btm                7    0.0\n",
       "  71 │ _solar_photovoltaic_btm                8   29.28\n",
       "  72 │ _solar_photovoltaic_btm                9  210.9\n",
       "\u001b[36m                                            51 rows omitted\u001b[0m"
      ]
     },
     "execution_count": 60,
     "metadata": {},
     "output_type": "execute_result"
    }
   ],
   "source": [
    "\n",
    "btm = DataFrame(resource = repeat([\"_solar_photovoltaic_btm\"]; outer=length(T_period)), \n",
    "    hour = T_period,\n",
    "    gen_sum = gen_variable_multi[gen_variable_multi.gen_full .== \"wec_sdge_solar_photovoltaic_1.0\",:cf] * 600)\n",
    "append!(sol_gen_btm, btm)\n"
   ]
  },
  {
   "cell_type": "code",
   "execution_count": 61,
   "id": "7bb48bed",
   "metadata": {},
   "outputs": [
    {
     "data": {
      "text/html": [
       "<div><div style = \"float: left;\"><span>72×3 DataFrame</span></div><div style = \"float: right;\"><span style = \"font-style: italic;\">47 rows omitted</span></div><div style = \"clear: both;\"></div></div><div class = \"data-frame\" style = \"overflow-x: scroll;\"><table class = \"data-frame\" style = \"margin-bottom: 6px;\"><thead><tr class = \"header\"><th class = \"rowNumber\" style = \"font-weight: bold; text-align: right;\">Row</th><th style = \"text-align: left;\">resource</th><th style = \"text-align: left;\">hour</th><th style = \"text-align: left;\">gen_sum</th></tr><tr class = \"subheader headerLastRow\"><th class = \"rowNumber\" style = \"font-weight: bold; text-align: right;\"></th><th title = \"Union{Missing, String}\" style = \"text-align: left;\">String?</th><th title = \"Int64\" style = \"text-align: left;\">Int64</th><th title = \"Float64\" style = \"text-align: left;\">Float64</th></tr></thead><tbody><tr><td class = \"rowNumber\" style = \"font-weight: bold; text-align: right;\">1</td><td style = \"text-align: left;\">_onshore_wind_turbine</td><td style = \"text-align: right;\">1</td><td style = \"text-align: right;\">36.8614</td></tr><tr><td class = \"rowNumber\" style = \"font-weight: bold; text-align: right;\">2</td><td style = \"text-align: left;\">_small_hydroelectric</td><td style = \"text-align: right;\">1</td><td style = \"text-align: right;\">2.18868</td></tr><tr><td class = \"rowNumber\" style = \"font-weight: bold; text-align: right;\">3</td><td style = \"text-align: left;\">_solar_photovoltaic</td><td style = \"text-align: right;\">1</td><td style = \"text-align: right;\">0.0</td></tr><tr><td class = \"rowNumber\" style = \"font-weight: bold; text-align: right;\">4</td><td style = \"text-align: left;\">_solar_photovoltaic_btm</td><td style = \"text-align: right;\">1</td><td style = \"text-align: right;\">0.0</td></tr><tr><td class = \"rowNumber\" style = \"font-weight: bold; text-align: right;\">5</td><td style = \"text-align: left;\">biomass</td><td style = \"text-align: right;\">1</td><td style = \"text-align: right;\">21.4</td></tr><tr><td class = \"rowNumber\" style = \"font-weight: bold; text-align: right;\">6</td><td style = \"text-align: left;\">hydroelectric_pumped_storage</td><td style = \"text-align: right;\">1</td><td style = \"text-align: right;\">42.0</td></tr><tr><td class = \"rowNumber\" style = \"font-weight: bold; text-align: right;\">7</td><td style = \"text-align: left;\">natural_gas_fired_combined_cycle</td><td style = \"text-align: right;\">1</td><td style = \"text-align: right;\">522.42</td></tr><tr><td class = \"rowNumber\" style = \"font-weight: bold; text-align: right;\">8</td><td style = \"text-align: left;\">natural_gas_fired_combustion_turbine</td><td style = \"text-align: right;\">1</td><td style = \"text-align: right;\">0.0</td></tr><tr><td class = \"rowNumber\" style = \"font-weight: bold; text-align: right;\">9</td><td style = \"text-align: left;\">_onshore_wind_turbine</td><td style = \"text-align: right;\">2</td><td style = \"text-align: right;\">36.0781</td></tr><tr><td class = \"rowNumber\" style = \"font-weight: bold; text-align: right;\">10</td><td style = \"text-align: left;\">_small_hydroelectric</td><td style = \"text-align: right;\">2</td><td style = \"text-align: right;\">2.18648</td></tr><tr><td class = \"rowNumber\" style = \"font-weight: bold; text-align: right;\">11</td><td style = \"text-align: left;\">_solar_photovoltaic</td><td style = \"text-align: right;\">2</td><td style = \"text-align: right;\">0.0</td></tr><tr><td class = \"rowNumber\" style = \"font-weight: bold; text-align: right;\">12</td><td style = \"text-align: left;\">_solar_photovoltaic_btm</td><td style = \"text-align: right;\">2</td><td style = \"text-align: right;\">0.0</td></tr><tr><td class = \"rowNumber\" style = \"font-weight: bold; text-align: right;\">13</td><td style = \"text-align: left;\">biomass</td><td style = \"text-align: right;\">2</td><td style = \"text-align: right;\">21.4</td></tr><tr><td style = \"text-align: right;\">&vellip;</td><td style = \"text-align: right;\">&vellip;</td><td style = \"text-align: right;\">&vellip;</td><td style = \"text-align: right;\">&vellip;</td></tr><tr><td class = \"rowNumber\" style = \"font-weight: bold; text-align: right;\">61</td><td style = \"text-align: left;\">biomass</td><td style = \"text-align: right;\">8</td><td style = \"text-align: right;\">21.4</td></tr><tr><td class = \"rowNumber\" style = \"font-weight: bold; text-align: right;\">62</td><td style = \"text-align: left;\">hydroelectric_pumped_storage</td><td style = \"text-align: right;\">8</td><td style = \"text-align: right;\">42.0</td></tr><tr><td class = \"rowNumber\" style = \"font-weight: bold; text-align: right;\">63</td><td style = \"text-align: left;\">natural_gas_fired_combined_cycle</td><td style = \"text-align: right;\">8</td><td style = \"text-align: right;\">497.471</td></tr><tr><td class = \"rowNumber\" style = \"font-weight: bold; text-align: right;\">64</td><td style = \"text-align: left;\">natural_gas_fired_combustion_turbine</td><td style = \"text-align: right;\">8</td><td style = \"text-align: right;\">0.0</td></tr><tr><td class = \"rowNumber\" style = \"font-weight: bold; text-align: right;\">65</td><td style = \"text-align: left;\">_onshore_wind_turbine</td><td style = \"text-align: right;\">9</td><td style = \"text-align: right;\">4.70016</td></tr><tr><td class = \"rowNumber\" style = \"font-weight: bold; text-align: right;\">66</td><td style = \"text-align: left;\">_small_hydroelectric</td><td style = \"text-align: right;\">9</td><td style = \"text-align: right;\">2.17038</td></tr><tr><td class = \"rowNumber\" style = \"font-weight: bold; text-align: right;\">67</td><td style = \"text-align: left;\">_solar_photovoltaic</td><td style = \"text-align: right;\">9</td><td style = \"text-align: right;\">175.75</td></tr><tr><td class = \"rowNumber\" style = \"font-weight: bold; text-align: right;\">68</td><td style = \"text-align: left;\">_solar_photovoltaic_btm</td><td style = \"text-align: right;\">9</td><td style = \"text-align: right;\">210.9</td></tr><tr><td class = \"rowNumber\" style = \"font-weight: bold; text-align: right;\">69</td><td style = \"text-align: left;\">biomass</td><td style = \"text-align: right;\">9</td><td style = \"text-align: right;\">21.4</td></tr><tr><td class = \"rowNumber\" style = \"font-weight: bold; text-align: right;\">70</td><td style = \"text-align: left;\">hydroelectric_pumped_storage</td><td style = \"text-align: right;\">9</td><td style = \"text-align: right;\">42.0</td></tr><tr><td class = \"rowNumber\" style = \"font-weight: bold; text-align: right;\">71</td><td style = \"text-align: left;\">natural_gas_fired_combined_cycle</td><td style = \"text-align: right;\">9</td><td style = \"text-align: right;\">452.134</td></tr><tr><td class = \"rowNumber\" style = \"font-weight: bold; text-align: right;\">72</td><td style = \"text-align: left;\">natural_gas_fired_combustion_turbine</td><td style = \"text-align: right;\">9</td><td style = \"text-align: right;\">0.0</td></tr></tbody></table></div>"
      ],
      "text/latex": [
       "\\begin{tabular}{r|ccc}\n",
       "\t& resource & hour & gen\\_sum\\\\\n",
       "\t\\hline\n",
       "\t& String? & Int64 & Float64\\\\\n",
       "\t\\hline\n",
       "\t1 & \\_onshore\\_wind\\_turbine & 1 & 36.8614 \\\\\n",
       "\t2 & \\_small\\_hydroelectric & 1 & 2.18868 \\\\\n",
       "\t3 & \\_solar\\_photovoltaic & 1 & 0.0 \\\\\n",
       "\t4 & \\_solar\\_photovoltaic\\_btm & 1 & 0.0 \\\\\n",
       "\t5 & biomass & 1 & 21.4 \\\\\n",
       "\t6 & hydroelectric\\_pumped\\_storage & 1 & 42.0 \\\\\n",
       "\t7 & natural\\_gas\\_fired\\_combined\\_cycle & 1 & 522.42 \\\\\n",
       "\t8 & natural\\_gas\\_fired\\_combustion\\_turbine & 1 & 0.0 \\\\\n",
       "\t9 & \\_onshore\\_wind\\_turbine & 2 & 36.0781 \\\\\n",
       "\t10 & \\_small\\_hydroelectric & 2 & 2.18648 \\\\\n",
       "\t11 & \\_solar\\_photovoltaic & 2 & 0.0 \\\\\n",
       "\t12 & \\_solar\\_photovoltaic\\_btm & 2 & 0.0 \\\\\n",
       "\t13 & biomass & 2 & 21.4 \\\\\n",
       "\t14 & hydroelectric\\_pumped\\_storage & 2 & 42.0 \\\\\n",
       "\t15 & natural\\_gas\\_fired\\_combined\\_cycle & 2 & 513.223 \\\\\n",
       "\t16 & natural\\_gas\\_fired\\_combustion\\_turbine & 2 & 0.0 \\\\\n",
       "\t17 & \\_onshore\\_wind\\_turbine & 3 & 32.6835 \\\\\n",
       "\t18 & \\_small\\_hydroelectric & 3 & 2.18429 \\\\\n",
       "\t19 & \\_solar\\_photovoltaic & 3 & 0.0 \\\\\n",
       "\t20 & \\_solar\\_photovoltaic\\_btm & 3 & 0.0 \\\\\n",
       "\t21 & biomass & 3 & 21.4 \\\\\n",
       "\t22 & hydroelectric\\_pumped\\_storage & 3 & 42.0 \\\\\n",
       "\t23 & natural\\_gas\\_fired\\_combined\\_cycle & 3 & 480.765 \\\\\n",
       "\t24 & natural\\_gas\\_fired\\_combustion\\_turbine & 3 & 0.0 \\\\\n",
       "\t25 & \\_onshore\\_wind\\_turbine & 4 & 31.6608 \\\\\n",
       "\t26 & \\_small\\_hydroelectric & 4 & 2.18209 \\\\\n",
       "\t27 & \\_solar\\_photovoltaic & 4 & 0.0 \\\\\n",
       "\t28 & \\_solar\\_photovoltaic\\_btm & 4 & 0.0 \\\\\n",
       "\t29 & biomass & 4 & 21.4 \\\\\n",
       "\t30 & hydroelectric\\_pumped\\_storage & 4 & 42.0 \\\\\n",
       "\t$\\dots$ & $\\dots$ & $\\dots$ & $\\dots$ \\\\\n",
       "\\end{tabular}\n"
      ],
      "text/plain": [
       "\u001b[1m72×3 DataFrame\u001b[0m\n",
       "\u001b[1m Row \u001b[0m│\u001b[1m resource                          \u001b[0m\u001b[1m hour  \u001b[0m\u001b[1m gen_sum   \u001b[0m\n",
       "     │\u001b[90m String?                           \u001b[0m\u001b[90m Int64 \u001b[0m\u001b[90m Float64   \u001b[0m\n",
       "─────┼─────────────────────────────────────────────────────\n",
       "   1 │ _onshore_wind_turbine                  1   36.8614\n",
       "   2 │ _small_hydroelectric                   1    2.18868\n",
       "   3 │ _solar_photovoltaic                    1    0.0\n",
       "   4 │ _solar_photovoltaic_btm                1    0.0\n",
       "   5 │ biomass                                1   21.4\n",
       "   6 │ hydroelectric_pumped_storage           1   42.0\n",
       "   7 │ natural_gas_fired_combined_cycle       1  522.42\n",
       "   8 │ natural_gas_fired_combustion_tur…      1    0.0\n",
       "   9 │ _onshore_wind_turbine                  2   36.0781\n",
       "  10 │ _small_hydroelectric                   2    2.18648\n",
       "  11 │ _solar_photovoltaic                    2    0.0\n",
       "  ⋮  │                 ⋮                    ⋮        ⋮\n",
       "  63 │ natural_gas_fired_combined_cycle       8  497.471\n",
       "  64 │ natural_gas_fired_combustion_tur…      8    0.0\n",
       "  65 │ _onshore_wind_turbine                  9    4.70016\n",
       "  66 │ _small_hydroelectric                   9    2.17038\n",
       "  67 │ _solar_photovoltaic                    9  175.75\n",
       "  68 │ _solar_photovoltaic_btm                9  210.9\n",
       "  69 │ biomass                                9   21.4\n",
       "  70 │ hydroelectric_pumped_storage           9   42.0\n",
       "  71 │ natural_gas_fired_combined_cycle       9  452.134\n",
       "  72 │ natural_gas_fired_combustion_tur…      9    0.0\n",
       "\u001b[36m                                            51 rows omitted\u001b[0m"
      ]
     },
     "execution_count": 61,
     "metadata": {},
     "output_type": "execute_result"
    }
   ],
   "source": [
    "\n",
    "# Reorder resources\n",
    "sort!(sol_gen_btm, [:hour, :resource])\n"
   ]
  },
  {
   "cell_type": "code",
   "execution_count": 62,
   "id": "d7cb75b1",
   "metadata": {},
   "outputs": [
    {
     "data": {
      "application/vnd.vegalite.v4+json": {
       "data": {
        "values": [
         {
          "gen_sum": 36.861439999999995,
          "hour": 1,
          "resource": "_onshore_wind_turbine"
         },
         {
          "gen_sum": 2.18868,
          "hour": 1,
          "resource": "_small_hydroelectric"
         },
         {
          "gen_sum": 0,
          "hour": 1,
          "resource": "_solar_photovoltaic"
         },
         {
          "gen_sum": 0,
          "hour": 1,
          "resource": "_solar_photovoltaic_btm"
         },
         {
          "gen_sum": 21.4,
          "hour": 1,
          "resource": "biomass"
         },
         {
          "gen_sum": 42,
          "hour": 1,
          "resource": "hydroelectric_pumped_storage"
         },
         {
          "gen_sum": 522.41988,
          "hour": 1,
          "resource": "natural_gas_fired_combined_cycle"
         },
         {
          "gen_sum": 0,
          "hour": 1,
          "resource": "natural_gas_fired_combustion_turbine"
         },
         {
          "gen_sum": 36.07808,
          "hour": 2,
          "resource": "_onshore_wind_turbine"
         },
         {
          "gen_sum": 2.186484,
          "hour": 2,
          "resource": "_small_hydroelectric"
         },
         {
          "gen_sum": 0,
          "hour": 2,
          "resource": "_solar_photovoltaic"
         },
         {
          "gen_sum": 0,
          "hour": 2,
          "resource": "_solar_photovoltaic_btm"
         },
         {
          "gen_sum": 21.4,
          "hour": 2,
          "resource": "biomass"
         },
         {
          "gen_sum": 42,
          "hour": 2,
          "resource": "hydroelectric_pumped_storage"
         },
         {
          "gen_sum": 513.2234360000001,
          "hour": 2,
          "resource": "natural_gas_fired_combined_cycle"
         },
         {
          "gen_sum": 0,
          "hour": 2,
          "resource": "natural_gas_fired_combustion_turbine"
         },
         {
          "gen_sum": 32.68352,
          "hour": 3,
          "resource": "_onshore_wind_turbine"
         },
         {
          "gen_sum": 2.184288,
          "hour": 3,
          "resource": "_small_hydroelectric"
         },
         {
          "gen_sum": 0,
          "hour": 3,
          "resource": "_solar_photovoltaic"
         },
         {
          "gen_sum": 0,
          "hour": 3,
          "resource": "_solar_photovoltaic_btm"
         },
         {
          "gen_sum": 21.4,
          "hour": 3,
          "resource": "biomass"
         },
         {
          "gen_sum": 42,
          "hour": 3,
          "resource": "hydroelectric_pumped_storage"
         },
         {
          "gen_sum": 480.765192,
          "hour": 3,
          "resource": "natural_gas_fired_combined_cycle"
         },
         {
          "gen_sum": 0,
          "hour": 3,
          "resource": "natural_gas_fired_combustion_turbine"
         },
         {
          "gen_sum": 31.6608,
          "hour": 4,
          "resource": "_onshore_wind_turbine"
         },
         {
          "gen_sum": 2.182092,
          "hour": 4,
          "resource": "_small_hydroelectric"
         },
         {
          "gen_sum": 0,
          "hour": 4,
          "resource": "_solar_photovoltaic"
         },
         {
          "gen_sum": 0,
          "hour": 4,
          "resource": "_solar_photovoltaic_btm"
         },
         {
          "gen_sum": 21.4,
          "hour": 4,
          "resource": "biomass"
         },
         {
          "gen_sum": 42,
          "hour": 4,
          "resource": "hydroelectric_pumped_storage"
         },
         {
          "gen_sum": 394.390108,
          "hour": 4,
          "resource": "natural_gas_fired_combined_cycle"
         },
         {
          "gen_sum": 0,
          "hour": 4,
          "resource": "natural_gas_fired_combustion_turbine"
         },
         {
          "gen_sum": 20.28032,
          "hour": 5,
          "resource": "_onshore_wind_turbine"
         },
         {
          "gen_sum": 2.1798960000000003,
          "hour": 5,
          "resource": "_small_hydroelectric"
         },
         {
          "gen_sum": 0,
          "hour": 5,
          "resource": "_solar_photovoltaic"
         },
         {
          "gen_sum": 0,
          "hour": 5,
          "resource": "_solar_photovoltaic_btm"
         },
         {
          "gen_sum": 21.4,
          "hour": 5,
          "resource": "biomass"
         },
         {
          "gen_sum": 42,
          "hour": 5,
          "resource": "hydroelectric_pumped_storage"
         },
         {
          "gen_sum": 375.10778400000004,
          "hour": 5,
          "resource": "natural_gas_fired_combined_cycle"
         },
         {
          "gen_sum": 0,
          "hour": 5,
          "resource": "natural_gas_fired_combustion_turbine"
         },
         {
          "gen_sum": 15.60192,
          "hour": 6,
          "resource": "_onshore_wind_turbine"
         },
         {
          "gen_sum": 2.176968,
          "hour": 6,
          "resource": "_small_hydroelectric"
         },
         {
          "gen_sum": 0,
          "hour": 6,
          "resource": "_solar_photovoltaic"
         },
         {
          "gen_sum": 0,
          "hour": 6,
          "resource": "_solar_photovoltaic_btm"
         },
         {
          "gen_sum": 21.4,
          "hour": 6,
          "resource": "biomass"
         },
         {
          "gen_sum": 42,
          "hour": 6,
          "resource": "hydroelectric_pumped_storage"
         },
         {
          "gen_sum": 402.95511200000004,
          "hour": 6,
          "resource": "natural_gas_fired_combined_cycle"
         },
         {
          "gen_sum": 0,
          "hour": 6,
          "resource": "natural_gas_fired_combustion_turbine"
         },
         {
          "gen_sum": 4.59136,
          "hour": 7,
          "resource": "_onshore_wind_turbine"
         },
         {
          "gen_sum": 2.174772,
          "hour": 7,
          "resource": "_small_hydroelectric"
         },
         {
          "gen_sum": 0,
          "hour": 7,
          "resource": "_solar_photovoltaic"
         },
         {
          "gen_sum": 0,
          "hour": 7,
          "resource": "_solar_photovoltaic_btm"
         },
         {
          "gen_sum": 21.4,
          "hour": 7,
          "resource": "biomass"
         },
         {
          "gen_sum": 42,
          "hour": 7,
          "resource": "hydroelectric_pumped_storage"
         },
         {
          "gen_sum": 453.175868,
          "hour": 7,
          "resource": "natural_gas_fired_combined_cycle"
         },
         {
          "gen_sum": 0,
          "hour": 7,
          "resource": "natural_gas_fired_combustion_turbine"
         },
         {
          "gen_sum": 4.70016,
          "hour": 8,
          "resource": "_onshore_wind_turbine"
         },
         {
          "gen_sum": 2.1725760000000003,
          "hour": 8,
          "resource": "_small_hydroelectric"
         },
         {
          "gen_sum": 24.400000000000002,
          "hour": 8,
          "resource": "_solar_photovoltaic"
         },
         {
          "gen_sum": 29.28,
          "hour": 8,
          "resource": "_solar_photovoltaic_btm"
         },
         {
          "gen_sum": 21.4,
          "hour": 8,
          "resource": "biomass"
         },
         {
          "gen_sum": 42,
          "hour": 8,
          "resource": "hydroelectric_pumped_storage"
         },
         {
          "gen_sum": 497.4712640000001,
          "hour": 8,
          "resource": "natural_gas_fired_combined_cycle"
         },
         {
          "gen_sum": 0,
          "hour": 8,
          "resource": "natural_gas_fired_combustion_turbine"
         },
         {
          "gen_sum": 4.70016,
          "hour": 9,
          "resource": "_onshore_wind_turbine"
         },
         {
          "gen_sum": 2.17038,
          "hour": 9,
          "resource": "_small_hydroelectric"
         },
         {
          "gen_sum": 175.75,
          "hour": 9,
          "resource": "_solar_photovoltaic"
         },
         {
          "gen_sum": 210.89999999999998,
          "hour": 9,
          "resource": "_solar_photovoltaic_btm"
         },
         {
          "gen_sum": 21.4,
          "hour": 9,
          "resource": "biomass"
         },
         {
          "gen_sum": 42,
          "hour": 9,
          "resource": "hydroelectric_pumped_storage"
         },
         {
          "gen_sum": 452.13446,
          "hour": 9,
          "resource": "natural_gas_fired_combined_cycle"
         },
         {
          "gen_sum": 0,
          "hour": 9,
          "resource": "natural_gas_fired_combustion_turbine"
         }
        ]
       },
       "encoding": {
        "color": {
         "field": "resource",
         "scale": {
          "scheme": "category20"
         },
         "type": "nominal"
        },
        "x": {
         "field": "hour",
         "type": "quantitative"
        },
        "y": {
         "field": "gen_sum",
         "stack": "zero",
         "type": "quantitative"
        }
       },
       "height": 600,
       "mark": "area",
       "width": 600
      },
      "image/png": "[encoded data removed]",
      "image/svg+xml": [
       "<?xml version=\"1.0\" encoding=\"utf-8\"?>\n",
       "<!DOCTYPE svg PUBLIC \"-//W3C//DTD SVG 1.1//EN\" \"http://www.w3.org/Graphics/SVG/1.1/DTD/svg11.dtd\">\n",
       "<svg xmlns=\"http://www.w3.org/2000/svg\" xmlns:xlink=\"http://www.w3.org/1999/xlink\" version=\"1.1\" class=\"marks\" width=\"846\" height=\"647\" viewBox=\"0 0 846 647\"><rect width=\"846\" height=\"647\" fill=\"white\"/><g fill=\"none\" stroke-miterlimit=\"10\" transform=\"translate(50,10)\"><g class=\"mark-group role-frame root\" role=\"graphics-object\" aria-roledescription=\"group mark container\"><g transform=\"translate(0,0)\"><path class=\"background\" aria-hidden=\"true\" d=\"M0.5,0.5h600v600h-600Z\" stroke=\"#ddd\"/><g><g class=\"mark-group role-axis\" aria-hidden=\"true\"><g transform=\"translate(0.5,600.5)\"><path class=\"background\" aria-hidden=\"true\" d=\"M0,0h0v0h0Z\" pointer-events=\"none\"/><g><g class=\"mark-rule role-axis-grid\" pointer-events=\"none\"><line transform=\"translate(0,-600)\" x2=\"0\" y2=\"600\" stroke=\"#ddd\" stroke-width=\"1\" opacity=\"1\"/><line transform=\"translate(38,-600)\" x2=\"0\" y2=\"600\" stroke=\"#ddd\" stroke-width=\"1\" opacity=\"1\"/><line transform=\"translate(75,-600)\" x2=\"0\" y2=\"600\" stroke=\"#ddd\" stroke-width=\"1\" opacity=\"1\"/><line transform=\"translate(113,-600)\" x2=\"0\" y2=\"600\" stroke=\"#ddd\" stroke-width=\"1\" opacity=\"1\"/><line transform=\"translate(150,-600)\" x2=\"0\" y2=\"600\" stroke=\"#ddd\" stroke-width=\"1\" opacity=\"1\"/><line transform=\"translate(188,-600)\" x2=\"0\" y2=\"600\" stroke=\"#ddd\" stroke-width=\"1\" opacity=\"1\"/><line transform=\"translate(225,-600)\" x2=\"0\" y2=\"600\" stroke=\"#ddd\" stroke-width=\"1\" opacity=\"1\"/><line transform=\"translate(263,-600)\" x2=\"0\" y2=\"600\" stroke=\"#ddd\" stroke-width=\"1\" opacity=\"1\"/><line transform=\"translate(300,-600)\" x2=\"0\" y2=\"600\" stroke=\"#ddd\" stroke-width=\"1\" opacity=\"1\"/><line transform=\"translate(338,-600)\" x2=\"0\" y2=\"600\" stroke=\"#ddd\" stroke-width=\"1\" opacity=\"1\"/><line transform=\"translate(375,-600)\" x2=\"0\" y2=\"600\" stroke=\"#ddd\" stroke-width=\"1\" opacity=\"1\"/><line transform=\"translate(413,-600)\" x2=\"0\" y2=\"600\" stroke=\"#ddd\" stroke-width=\"1\" opacity=\"1\"/><line transform=\"translate(450,-600)\" x2=\"0\" y2=\"600\" stroke=\"#ddd\" stroke-width=\"1\" opacity=\"1\"/><line transform=\"translate(488,-600)\" x2=\"0\" y2=\"600\" stroke=\"#ddd\" stroke-width=\"1\" opacity=\"1\"/><line transform=\"translate(525,-600)\" x2=\"0\" y2=\"600\" stroke=\"#ddd\" stroke-width=\"1\" opacity=\"1\"/><line transform=\"translate(563,-600)\" x2=\"0\" y2=\"600\" stroke=\"#ddd\" stroke-width=\"1\" opacity=\"1\"/><line transform=\"translate(600,-600)\" x2=\"0\" y2=\"600\" stroke=\"#ddd\" stroke-width=\"1\" opacity=\"1\"/></g></g><path class=\"foreground\" aria-hidden=\"true\" d=\"\" pointer-events=\"none\" display=\"none\"/></g></g><g class=\"mark-group role-axis\" aria-hidden=\"true\"><g transform=\"translate(0.5,0.5)\"><path class=\"background\" aria-hidden=\"true\" d=\"M0,0h0v0h0Z\" pointer-events=\"none\"/><g><g class=\"mark-rule role-axis-grid\" pointer-events=\"none\"><line transform=\"translate(0,600)\" x2=\"600\" y2=\"0\" stroke=\"#ddd\" stroke-width=\"1\" opacity=\"1\"/><line transform=\"translate(0,570)\" x2=\"600\" y2=\"0\" stroke=\"#ddd\" stroke-width=\"1\" opacity=\"1\"/><line transform=\"translate(0,540)\" x2=\"600\" y2=\"0\" stroke=\"#ddd\" stroke-width=\"1\" opacity=\"1\"/><line transform=\"translate(0,510)\" x2=\"600\" y2=\"0\" stroke=\"#ddd\" stroke-width=\"1\" opacity=\"1\"/><line transform=\"translate(0,480)\" x2=\"600\" y2=\"0\" stroke=\"#ddd\" stroke-width=\"1\" opacity=\"1\"/><line transform=\"translate(0,450)\" x2=\"600\" y2=\"0\" stroke=\"#ddd\" stroke-width=\"1\" opacity=\"1\"/><line transform=\"translate(0,420)\" x2=\"600\" y2=\"0\" stroke=\"#ddd\" stroke-width=\"1\" opacity=\"1\"/><line transform=\"translate(0,390)\" x2=\"600\" y2=\"0\" stroke=\"#ddd\" stroke-width=\"1\" opacity=\"1\"/><line transform=\"translate(0,360)\" x2=\"600\" y2=\"0\" stroke=\"#ddd\" stroke-width=\"1\" opacity=\"1\"/><line transform=\"translate(0,330)\" x2=\"600\" y2=\"0\" stroke=\"#ddd\" stroke-width=\"1\" opacity=\"1\"/><line transform=\"translate(0,300)\" x2=\"600\" y2=\"0\" stroke=\"#ddd\" stroke-width=\"1\" opacity=\"1\"/><line transform=\"translate(0,270)\" x2=\"600\" y2=\"0\" stroke=\"#ddd\" stroke-width=\"1\" opacity=\"1\"/><line transform=\"translate(0,240)\" x2=\"600\" y2=\"0\" stroke=\"#ddd\" stroke-width=\"1\" opacity=\"1\"/><line transform=\"translate(0,210)\" x2=\"600\" y2=\"0\" stroke=\"#ddd\" stroke-width=\"1\" opacity=\"1\"/><line transform=\"translate(0,180)\" x2=\"600\" y2=\"0\" stroke=\"#ddd\" stroke-width=\"1\" opacity=\"1\"/><line transform=\"translate(0,150)\" x2=\"600\" y2=\"0\" stroke=\"#ddd\" stroke-width=\"1\" opacity=\"1\"/><line transform=\"translate(0,120)\" x2=\"600\" y2=\"0\" stroke=\"#ddd\" stroke-width=\"1\" opacity=\"1\"/><line transform=\"translate(0,90)\" x2=\"600\" y2=\"0\" stroke=\"#ddd\" stroke-width=\"1\" opacity=\"1\"/><line transform=\"translate(0,60)\" x2=\"600\" y2=\"0\" stroke=\"#ddd\" stroke-width=\"1\" opacity=\"1\"/><line transform=\"translate(0,30)\" x2=\"600\" y2=\"0\" stroke=\"#ddd\" stroke-width=\"1\" opacity=\"1\"/><line transform=\"translate(0,0)\" x2=\"600\" y2=\"0\" stroke=\"#ddd\" stroke-width=\"1\" opacity=\"1\"/></g></g><path class=\"foreground\" aria-hidden=\"true\" d=\"\" pointer-events=\"none\" display=\"none\"/></g></g><g class=\"mark-group role-axis\" role=\"graphics-symbol\" aria-roledescription=\"axis\" aria-label=\"X-axis titled 'hour' for a linear scale with values from 1 to 9\"><g transform=\"translate(0.5,600.5)\"><path class=\"background\" aria-hidden=\"true\" d=\"M0,0h0v0h0Z\" pointer-events=\"none\"/><g><g class=\"mark-rule role-axis-tick\" pointer-events=\"none\"><line transform=\"translate(0,0)\" x2=\"0\" y2=\"5\" stroke=\"#888\" stroke-width=\"1\" opacity=\"1\"/><line transform=\"translate(38,0)\" x2=\"0\" y2=\"5\" stroke=\"#888\" stroke-width=\"1\" opacity=\"1\"/><line transform=\"translate(75,0)\" x2=\"0\" y2=\"5\" stroke=\"#888\" stroke-width=\"1\" opacity=\"1\"/><line transform=\"translate(113,0)\" x2=\"0\" y2=\"5\" stroke=\"#888\" stroke-width=\"1\" opacity=\"1\"/><line transform=\"translate(150,0)\" x2=\"0\" y2=\"5\" stroke=\"#888\" stroke-width=\"1\" opacity=\"1\"/><line transform=\"translate(188,0)\" x2=\"0\" y2=\"5\" stroke=\"#888\" stroke-width=\"1\" opacity=\"1\"/><line transform=\"translate(225,0)\" x2=\"0\" y2=\"5\" stroke=\"#888\" stroke-width=\"1\" opacity=\"1\"/><line transform=\"translate(263,0)\" x2=\"0\" y2=\"5\" stroke=\"#888\" stroke-width=\"1\" opacity=\"1\"/><line transform=\"translate(300,0)\" x2=\"0\" y2=\"5\" stroke=\"#888\" stroke-width=\"1\" opacity=\"1\"/><line transform=\"translate(338,0)\" x2=\"0\" y2=\"5\" stroke=\"#888\" stroke-width=\"1\" opacity=\"1\"/><line transform=\"translate(375,0)\" x2=\"0\" y2=\"5\" stroke=\"#888\" stroke-width=\"1\" opacity=\"1\"/><line transform=\"translate(413,0)\" x2=\"0\" y2=\"5\" stroke=\"#888\" stroke-width=\"1\" opacity=\"1\"/><line transform=\"translate(450,0)\" x2=\"0\" y2=\"5\" stroke=\"#888\" stroke-width=\"1\" opacity=\"1\"/><line transform=\"translate(488,0)\" x2=\"0\" y2=\"5\" stroke=\"#888\" stroke-width=\"1\" opacity=\"1\"/><line transform=\"translate(525,0)\" x2=\"0\" y2=\"5\" stroke=\"#888\" stroke-width=\"1\" opacity=\"1\"/><line transform=\"translate(563,0)\" x2=\"0\" y2=\"5\" stroke=\"#888\" stroke-width=\"1\" opacity=\"1\"/><line transform=\"translate(600,0)\" x2=\"0\" y2=\"5\" stroke=\"#888\" stroke-width=\"1\" opacity=\"1\"/></g><g class=\"mark-text role-axis-label\" pointer-events=\"none\"><text text-anchor=\"start\" transform=\"translate(0,15)\" font-family=\"sans-serif\" font-size=\"10px\" fill=\"#000\" opacity=\"1\">1.0</text><text text-anchor=\"middle\" transform=\"translate(37.5,15)\" font-family=\"sans-serif\" font-size=\"10px\" fill=\"#000\" opacity=\"1\">1.5</text><text text-anchor=\"middle\" transform=\"translate(75,15)\" font-family=\"sans-serif\" font-size=\"10px\" fill=\"#000\" opacity=\"1\">2.0</text><text text-anchor=\"middle\" transform=\"translate(112.5,15)\" font-family=\"sans-serif\" font-size=\"10px\" fill=\"#000\" opacity=\"1\">2.5</text><text text-anchor=\"middle\" transform=\"translate(150,15)\" font-family=\"sans-serif\" font-size=\"10px\" fill=\"#000\" opacity=\"1\">3.0</text><text text-anchor=\"middle\" transform=\"translate(187.5,15)\" font-family=\"sans-serif\" font-size=\"10px\" fill=\"#000\" opacity=\"1\">3.5</text><text text-anchor=\"middle\" transform=\"translate(225,15)\" font-family=\"sans-serif\" font-size=\"10px\" fill=\"#000\" opacity=\"1\">4.0</text><text text-anchor=\"middle\" transform=\"translate(262.5,15)\" font-family=\"sans-serif\" font-size=\"10px\" fill=\"#000\" opacity=\"1\">4.5</text><text text-anchor=\"middle\" transform=\"translate(300,15)\" font-family=\"sans-serif\" font-size=\"10px\" fill=\"#000\" opacity=\"1\">5.0</text><text text-anchor=\"middle\" transform=\"translate(337.5,15)\" font-family=\"sans-serif\" font-size=\"10px\" fill=\"#000\" opacity=\"1\">5.5</text><text text-anchor=\"middle\" transform=\"translate(375,15)\" font-family=\"sans-serif\" font-size=\"10px\" fill=\"#000\" opacity=\"1\">6.0</text><text text-anchor=\"middle\" transform=\"translate(412.5,15)\" font-family=\"sans-serif\" font-size=\"10px\" fill=\"#000\" opacity=\"1\">6.5</text><text text-anchor=\"middle\" transform=\"translate(450,15)\" font-family=\"sans-serif\" font-size=\"10px\" fill=\"#000\" opacity=\"1\">7.0</text><text text-anchor=\"middle\" transform=\"translate(487.5,15)\" font-family=\"sans-serif\" font-size=\"10px\" fill=\"#000\" opacity=\"1\">7.5</text><text text-anchor=\"middle\" transform=\"translate(525,15)\" font-family=\"sans-serif\" font-size=\"10px\" fill=\"#000\" opacity=\"1\">8.0</text><text text-anchor=\"middle\" transform=\"translate(562.5,15)\" font-family=\"sans-serif\" font-size=\"10px\" fill=\"#000\" opacity=\"1\">8.5</text><text text-anchor=\"end\" transform=\"translate(600,15)\" font-family=\"sans-serif\" font-size=\"10px\" fill=\"#000\" opacity=\"1\">9.0</text></g><g class=\"mark-rule role-axis-domain\" pointer-events=\"none\"><line transform=\"translate(0,0)\" x2=\"600\" y2=\"0\" stroke=\"#888\" stroke-width=\"1\" opacity=\"1\"/></g><g class=\"mark-text role-axis-title\" pointer-events=\"none\"><text text-anchor=\"middle\" transform=\"translate(300,30)\" font-family=\"sans-serif\" font-size=\"11px\" font-weight=\"bold\" fill=\"#000\" opacity=\"1\">hour</text></g></g><path class=\"foreground\" aria-hidden=\"true\" d=\"\" pointer-events=\"none\" display=\"none\"/></g></g><g class=\"mark-group role-axis\" role=\"graphics-symbol\" aria-roledescription=\"axis\" aria-label=\"Y-axis titled 'gen_sum' for a linear scale with values from 0 to 1,000\"><g transform=\"translate(0.5,0.5)\"><path class=\"background\" aria-hidden=\"true\" d=\"M0,0h0v0h0Z\" pointer-events=\"none\"/><g><g class=\"mark-rule role-axis-tick\" pointer-events=\"none\"><line transform=\"translate(0,600)\" x2=\"-5\" y2=\"0\" stroke=\"#888\" stroke-width=\"1\" opacity=\"1\"/><line transform=\"translate(0,570)\" x2=\"-5\" y2=\"0\" stroke=\"#888\" stroke-width=\"1\" opacity=\"1\"/><line transform=\"translate(0,540)\" x2=\"-5\" y2=\"0\" stroke=\"#888\" stroke-width=\"1\" opacity=\"1\"/><line transform=\"translate(0,510)\" x2=\"-5\" y2=\"0\" stroke=\"#888\" stroke-width=\"1\" opacity=\"1\"/><line transform=\"translate(0,480)\" x2=\"-5\" y2=\"0\" stroke=\"#888\" stroke-width=\"1\" opacity=\"1\"/><line transform=\"translate(0,450)\" x2=\"-5\" y2=\"0\" stroke=\"#888\" stroke-width=\"1\" opacity=\"1\"/><line transform=\"translate(0,420)\" x2=\"-5\" y2=\"0\" stroke=\"#888\" stroke-width=\"1\" opacity=\"1\"/><line transform=\"translate(0,390)\" x2=\"-5\" y2=\"0\" stroke=\"#888\" stroke-width=\"1\" opacity=\"1\"/><line transform=\"translate(0,360)\" x2=\"-5\" y2=\"0\" stroke=\"#888\" stroke-width=\"1\" opacity=\"1\"/><line transform=\"translate(0,330)\" x2=\"-5\" y2=\"0\" stroke=\"#888\" stroke-width=\"1\" opacity=\"1\"/><line transform=\"translate(0,300)\" x2=\"-5\" y2=\"0\" stroke=\"#888\" stroke-width=\"1\" opacity=\"1\"/><line transform=\"translate(0,270)\" x2=\"-5\" y2=\"0\" stroke=\"#888\" stroke-width=\"1\" opacity=\"1\"/><line transform=\"translate(0,240)\" x2=\"-5\" y2=\"0\" stroke=\"#888\" stroke-width=\"1\" opacity=\"1\"/><line transform=\"translate(0,210)\" x2=\"-5\" y2=\"0\" stroke=\"#888\" stroke-width=\"1\" opacity=\"1\"/><line transform=\"translate(0,180)\" x2=\"-5\" y2=\"0\" stroke=\"#888\" stroke-width=\"1\" opacity=\"1\"/><line transform=\"translate(0,150)\" x2=\"-5\" y2=\"0\" stroke=\"#888\" stroke-width=\"1\" opacity=\"1\"/><line transform=\"translate(0,120)\" x2=\"-5\" y2=\"0\" stroke=\"#888\" stroke-width=\"1\" opacity=\"1\"/><line transform=\"translate(0,90)\" x2=\"-5\" y2=\"0\" stroke=\"#888\" stroke-width=\"1\" opacity=\"1\"/><line transform=\"translate(0,60)\" x2=\"-5\" y2=\"0\" stroke=\"#888\" stroke-width=\"1\" opacity=\"1\"/><line transform=\"translate(0,30)\" x2=\"-5\" y2=\"0\" stroke=\"#888\" stroke-width=\"1\" opacity=\"1\"/><line transform=\"translate(0,0)\" x2=\"-5\" y2=\"0\" stroke=\"#888\" stroke-width=\"1\" opacity=\"1\"/></g><g class=\"mark-text role-axis-label\" pointer-events=\"none\"><text text-anchor=\"end\" transform=\"translate(-7,603)\" font-family=\"sans-serif\" font-size=\"10px\" fill=\"#000\" opacity=\"1\">0</text><text text-anchor=\"end\" transform=\"translate(-7,573)\" font-family=\"sans-serif\" font-size=\"10px\" fill=\"#000\" opacity=\"1\">50</text><text text-anchor=\"end\" transform=\"translate(-7,543)\" font-family=\"sans-serif\" font-size=\"10px\" fill=\"#000\" opacity=\"1\">100</text><text text-anchor=\"end\" transform=\"translate(-7,513)\" font-family=\"sans-serif\" font-size=\"10px\" fill=\"#000\" opacity=\"1\">150</text><text text-anchor=\"end\" transform=\"translate(-7,483)\" font-family=\"sans-serif\" font-size=\"10px\" fill=\"#000\" opacity=\"1\">200</text><text text-anchor=\"end\" transform=\"translate(-7,453)\" font-family=\"sans-serif\" font-size=\"10px\" fill=\"#000\" opacity=\"1\">250</text><text text-anchor=\"end\" transform=\"translate(-7,423)\" font-family=\"sans-serif\" font-size=\"10px\" fill=\"#000\" opacity=\"1\">300</text><text text-anchor=\"end\" transform=\"translate(-7,393)\" font-family=\"sans-serif\" font-size=\"10px\" fill=\"#000\" opacity=\"1\">350</text><text text-anchor=\"end\" transform=\"translate(-7,363)\" font-family=\"sans-serif\" font-size=\"10px\" fill=\"#000\" opacity=\"1\">400</text><text text-anchor=\"end\" transform=\"translate(-7,333)\" font-family=\"sans-serif\" font-size=\"10px\" fill=\"#000\" opacity=\"1\">450</text><text text-anchor=\"end\" transform=\"translate(-7,303)\" font-family=\"sans-serif\" font-size=\"10px\" fill=\"#000\" opacity=\"1\">500</text><text text-anchor=\"end\" transform=\"translate(-7,273)\" font-family=\"sans-serif\" font-size=\"10px\" fill=\"#000\" opacity=\"1\">550</text><text text-anchor=\"end\" transform=\"translate(-7,243)\" font-family=\"sans-serif\" font-size=\"10px\" fill=\"#000\" opacity=\"1\">600</text><text text-anchor=\"end\" transform=\"translate(-7,213)\" font-family=\"sans-serif\" font-size=\"10px\" fill=\"#000\" opacity=\"1\">650</text><text text-anchor=\"end\" transform=\"translate(-7,183.00000000000003)\" font-family=\"sans-serif\" font-size=\"10px\" fill=\"#000\" opacity=\"1\">700</text><text text-anchor=\"end\" transform=\"translate(-7,153)\" font-family=\"sans-serif\" font-size=\"10px\" fill=\"#000\" opacity=\"1\">750</text><text text-anchor=\"end\" transform=\"translate(-7,122.99999999999997)\" font-family=\"sans-serif\" font-size=\"10px\" fill=\"#000\" opacity=\"1\">800</text><text text-anchor=\"end\" transform=\"translate(-7,93.00000000000001)\" font-family=\"sans-serif\" font-size=\"10px\" fill=\"#000\" opacity=\"1\">850</text><text text-anchor=\"end\" transform=\"translate(-7,62.999999999999986)\" font-family=\"sans-serif\" font-size=\"10px\" fill=\"#000\" opacity=\"1\">900</text><text text-anchor=\"end\" transform=\"translate(-7,33.00000000000003)\" font-family=\"sans-serif\" font-size=\"10px\" fill=\"#000\" opacity=\"1\">950</text><text text-anchor=\"end\" transform=\"translate(-7,3)\" font-family=\"sans-serif\" font-size=\"10px\" fill=\"#000\" opacity=\"1\">1,000</text></g><g class=\"mark-rule role-axis-domain\" pointer-events=\"none\"><line transform=\"translate(0,600)\" x2=\"0\" y2=\"-600\" stroke=\"#888\" stroke-width=\"1\" opacity=\"1\"/></g><g class=\"mark-text role-axis-title\" pointer-events=\"none\"><text text-anchor=\"middle\" transform=\"translate(-34,300) rotate(-90) translate(0,-2)\" font-family=\"sans-serif\" font-size=\"11px\" font-weight=\"bold\" fill=\"#000\" opacity=\"1\">gen_sum</text></g></g><path class=\"foreground\" aria-hidden=\"true\" d=\"\" pointer-events=\"none\" display=\"none\"/></g></g><g class=\"mark-group role-scope pathgroup\" role=\"graphics-object\" aria-roledescription=\"group mark container\"><g transform=\"translate(0,0)\"><path class=\"background\" aria-hidden=\"true\" d=\"M0,0h600v600h-600Z\"/><g><g class=\"mark-area role-mark marks\" role=\"graphics-object\" aria-roledescription=\"area mark container\"><path aria-label=\"hour: 1; gen_sum: 36.86144; resource: _onshore_wind_turbine\" role=\"graphics-symbol\" aria-roledescription=\"area mark\" d=\"M0,225.07799999999997L75,231.0672L150,252.58019999999993L225,305.0202L300,323.4192L375,309.51959999999997L450,285.9948L525,227.1456L600,54.567000000000036L600,57.38709600000001L525,229.96569599999998L450,288.74961600000006L375,318.880752L300,335.58739199999997L225,324.01668L150,272.19031199999995L75,252.71404799999993L0,247.194864Z\" fill=\"#1f77b4\"/></g></g><path class=\"foreground\" aria-hidden=\"true\" d=\"\" display=\"none\"/></g><g transform=\"translate(0,0)\"><path class=\"background\" aria-hidden=\"true\" d=\"M0,0h600v600h-600Z\"/><g><g class=\"mark-area role-mark marks\" role=\"graphics-object\" aria-roledescription=\"area mark container\"><path aria-label=\"hour: 1; gen_sum: 2.18868; resource: _small_hydroelectric\" role=\"graphics-symbol\" aria-roledescription=\"area mark\" d=\"M0,247.194864L75,252.71404799999993L150,272.19031199999995L225,324.01668L300,335.58739199999997L375,318.880752L450,288.74961600000006L525,229.96569599999998L600,57.38709600000001L600,58.68932400000002L525,231.26924160000004L450,290.0544792L375,320.18693279999997L300,336.89532959999997L225,325.3259352L150,273.5008848L75,254.02593839999994L0,248.50807200000003Z\" fill=\"#aec7e8\"/></g></g><path class=\"foreground\" aria-hidden=\"true\" d=\"\" display=\"none\"/></g><g transform=\"translate(0,0)\"><path class=\"background\" aria-hidden=\"true\" d=\"M0,0h600v600h-600Z\"/><g><g class=\"mark-area role-mark marks\" role=\"graphics-object\" aria-roledescription=\"area mark container\"><path aria-label=\"hour: 1; gen_sum: 0; resource: _solar_photovoltaic\" role=\"graphics-symbol\" aria-roledescription=\"area mark\" d=\"M0,248.50807200000003L75,254.02593839999994L150,273.5008848L225,325.3259352L300,336.89532959999997L375,320.18693279999997L450,290.0544792L525,231.26924160000004L600,58.68932400000002L600,164.13932400000007L525,245.90924160000003L450,290.0544792L375,320.18693279999997L300,336.89532959999997L225,325.3259352L150,273.5008848L75,254.02593839999994L0,248.50807200000003Z\" fill=\"#ff7f0e\"/></g></g><path class=\"foreground\" aria-hidden=\"true\" d=\"\" display=\"none\"/></g><g transform=\"translate(0,0)\"><path class=\"background\" aria-hidden=\"true\" d=\"M0,0h600v600h-600Z\"/><g><g class=\"mark-area role-mark marks\" role=\"graphics-object\" aria-roledescription=\"area mark container\"><path aria-label=\"hour: 1; gen_sum: 0; resource: _solar_photovoltaic_btm\" role=\"graphics-symbol\" aria-roledescription=\"area mark\" d=\"M0,248.50807200000003L75,254.02593839999994L150,273.5008848L225,325.3259352L300,336.89532959999997L375,320.18693279999997L450,290.0544792L525,245.90924160000003L600,164.13932400000007L600,290.67932400000007L525,263.4772416L450,290.0544792L375,320.18693279999997L300,336.89532959999997L225,325.3259352L150,273.5008848L75,254.02593839999994L0,248.50807200000003Z\" fill=\"#ffbb78\"/></g></g><path class=\"foreground\" aria-hidden=\"true\" d=\"\" display=\"none\"/></g><g transform=\"translate(0,0)\"><path class=\"background\" aria-hidden=\"true\" d=\"M0,0h600v600h-600Z\"/><g><g class=\"mark-area role-mark marks\" role=\"graphics-object\" aria-roledescription=\"area mark container\"><path aria-label=\"hour: 1; gen_sum: 21.4; resource: biomass\" role=\"graphics-symbol\" aria-roledescription=\"area mark\" d=\"M0,248.50807200000003L75,254.02593839999994L150,273.5008848L225,325.3259352L300,336.89532959999997L375,320.18693279999997L450,290.0544792L525,263.4772416L600,290.67932400000007L600,303.51932400000004L525,276.3172416L450,302.8944792L375,333.0269328L300,349.7353296L225,338.1659352L150,286.34088479999997L75,266.86593839999995L0,261.348072Z\" fill=\"#2ca02c\"/></g></g><path class=\"foreground\" aria-hidden=\"true\" d=\"\" display=\"none\"/></g><g transform=\"translate(0,0)\"><path class=\"background\" aria-hidden=\"true\" d=\"M0,0h600v600h-600Z\"/><g><g class=\"mark-area role-mark marks\" role=\"graphics-object\" aria-roledescription=\"area mark container\"><path aria-label=\"hour: 1; gen_sum: 42; resource: hydroelectric_pumped_storage\" role=\"graphics-symbol\" aria-roledescription=\"area mark\" d=\"M0,261.348072L75,266.86593839999995L150,286.34088479999997L225,338.1659352L300,349.7353296L375,333.0269328L450,302.8944792L525,276.3172416L600,303.51932400000004L600,328.719324L525,301.5172416L450,328.0944792L375,358.22693279999993L300,374.93532959999993L225,363.36593519999997L150,311.5408848L75,292.06593839999994L0,286.548072Z\" fill=\"#98df8a\"/></g></g><path class=\"foreground\" aria-hidden=\"true\" d=\"\" display=\"none\"/></g><g transform=\"translate(0,0)\"><path class=\"background\" aria-hidden=\"true\" d=\"M0,0h600v600h-600Z\"/><g><g class=\"mark-area role-mark marks\" role=\"graphics-object\" aria-roledescription=\"area mark container\"><path aria-label=\"hour: 1; gen_sum: 522.41988; resource: natural_gas_fired_combined_cycle\" role=\"graphics-symbol\" aria-roledescription=\"area mark\" d=\"M0,286.548072L75,292.06593839999994L150,311.5408848L225,363.36593519999997L300,374.93532959999993L375,358.22693279999993L450,328.0944792L525,301.5172416L600,328.719324L600,600L525,600L450,600L375,600L300,600L225,600L150,600L75,600L0,600Z\" fill=\"#d62728\"/></g></g><path class=\"foreground\" aria-hidden=\"true\" d=\"\" display=\"none\"/></g><g transform=\"translate(0,0)\"><path class=\"background\" aria-hidden=\"true\" d=\"M0,0h600v600h-600Z\"/><g><g class=\"mark-area role-mark marks\" role=\"graphics-object\" aria-roledescription=\"area mark container\"><path aria-label=\"hour: 1; gen_sum: 0; resource: natural_gas_fired_combustion_turbine\" role=\"graphics-symbol\" aria-roledescription=\"area mark\" d=\"M0,600L75,600L150,600L225,600L300,600L375,600L450,600L525,600L600,600L600,600L525,600L450,600L375,600L300,600L225,600L150,600L75,600L0,600Z\" fill=\"#ff9896\"/></g></g><path class=\"foreground\" aria-hidden=\"true\" d=\"\" display=\"none\"/></g></g><g class=\"mark-group role-legend\" role=\"graphics-symbol\" aria-roledescription=\"legend\" aria-label=\"Symbol legend titled 'resource' for fill color with 8 values: _onshore_wind_turbine, _small_hydroelectric, _solar_photovoltaic, _solar_photovoltaic_btm, biomass, ending with natural_gas_fired_combustion_turbine\"><g transform=\"translate(618,0)\"><path class=\"background\" aria-hidden=\"true\" d=\"M0,0h173v118h-173Z\" pointer-events=\"none\"/><g><g class=\"mark-group role-legend-entry\"><g transform=\"translate(0,16)\"><path class=\"background\" aria-hidden=\"true\" d=\"M0,0h0v0h0Z\" pointer-events=\"none\"/><g><g class=\"mark-group role-scope\" role=\"graphics-object\" aria-roledescription=\"group mark container\"><g transform=\"translate(0,0)\"><path class=\"background\" aria-hidden=\"true\" d=\"M0,0h173v11h-173Z\" pointer-events=\"none\" opacity=\"1\"/><g><g class=\"mark-symbol role-legend-symbol\" pointer-events=\"none\"><path transform=\"translate(6,6)\" d=\"M5,0A5,5,0,1,1,-5,0A5,5,0,1,1,5,0\" fill=\"#1f77b4\" stroke-width=\"1.5\" opacity=\"1\"/></g><g class=\"mark-text role-legend-label\" pointer-events=\"none\"><text text-anchor=\"start\" transform=\"translate(16,9)\" font-family=\"sans-serif\" font-size=\"10px\" fill=\"#000\" opacity=\"1\">_onshore_wind_turbine</text></g></g><path class=\"foreground\" aria-hidden=\"true\" d=\"\" pointer-events=\"none\" display=\"none\"/></g><g transform=\"translate(0,13)\"><path class=\"background\" aria-hidden=\"true\" d=\"M0,0h173v11h-173Z\" pointer-events=\"none\" opacity=\"1\"/><g><g class=\"mark-symbol role-legend-symbol\" pointer-events=\"none\"><path transform=\"translate(6,6)\" d=\"M5,0A5,5,0,1,1,-5,0A5,5,0,1,1,5,0\" fill=\"#aec7e8\" stroke-width=\"1.5\" opacity=\"1\"/></g><g class=\"mark-text role-legend-label\" pointer-events=\"none\"><text text-anchor=\"start\" transform=\"translate(16,9)\" font-family=\"sans-serif\" font-size=\"10px\" fill=\"#000\" opacity=\"1\">_small_hydroelectric</text></g></g><path class=\"foreground\" aria-hidden=\"true\" d=\"\" pointer-events=\"none\" display=\"none\"/></g><g transform=\"translate(0,26)\"><path class=\"background\" aria-hidden=\"true\" d=\"M0,0h173v11h-173Z\" pointer-events=\"none\" opacity=\"1\"/><g><g class=\"mark-symbol role-legend-symbol\" pointer-events=\"none\"><path transform=\"translate(6,6)\" d=\"M5,0A5,5,0,1,1,-5,0A5,5,0,1,1,5,0\" fill=\"#ff7f0e\" stroke-width=\"1.5\" opacity=\"1\"/></g><g class=\"mark-text role-legend-label\" pointer-events=\"none\"><text text-anchor=\"start\" transform=\"translate(16,9)\" font-family=\"sans-serif\" font-size=\"10px\" fill=\"#000\" opacity=\"1\">_solar_photovoltaic</text></g></g><path class=\"foreground\" aria-hidden=\"true\" d=\"\" pointer-events=\"none\" display=\"none\"/></g><g transform=\"translate(0,39)\"><path class=\"background\" aria-hidden=\"true\" d=\"M0,0h173v11h-173Z\" pointer-events=\"none\" opacity=\"1\"/><g><g class=\"mark-symbol role-legend-symbol\" pointer-events=\"none\"><path transform=\"translate(6,6)\" d=\"M5,0A5,5,0,1,1,-5,0A5,5,0,1,1,5,0\" fill=\"#ffbb78\" stroke-width=\"1.5\" opacity=\"1\"/></g><g class=\"mark-text role-legend-label\" pointer-events=\"none\"><text text-anchor=\"start\" transform=\"translate(16,9)\" font-family=\"sans-serif\" font-size=\"10px\" fill=\"#000\" opacity=\"1\">_solar_photovoltaic_btm</text></g></g><path class=\"foreground\" aria-hidden=\"true\" d=\"\" pointer-events=\"none\" display=\"none\"/></g><g transform=\"translate(0,52)\"><path class=\"background\" aria-hidden=\"true\" d=\"M0,0h173v11h-173Z\" pointer-events=\"none\" opacity=\"1\"/><g><g class=\"mark-symbol role-legend-symbol\" pointer-events=\"none\"><path transform=\"translate(6,6)\" d=\"M5,0A5,5,0,1,1,-5,0A5,5,0,1,1,5,0\" fill=\"#2ca02c\" stroke-width=\"1.5\" opacity=\"1\"/></g><g class=\"mark-text role-legend-label\" pointer-events=\"none\"><text text-anchor=\"start\" transform=\"translate(16,9)\" font-family=\"sans-serif\" font-size=\"10px\" fill=\"#000\" opacity=\"1\">biomass</text></g></g><path class=\"foreground\" aria-hidden=\"true\" d=\"\" pointer-events=\"none\" display=\"none\"/></g><g transform=\"translate(0,65)\"><path class=\"background\" aria-hidden=\"true\" d=\"M0,0h173v11h-173Z\" pointer-events=\"none\" opacity=\"1\"/><g><g class=\"mark-symbol role-legend-symbol\" pointer-events=\"none\"><path transform=\"translate(6,6)\" d=\"M5,0A5,5,0,1,1,-5,0A5,5,0,1,1,5,0\" fill=\"#98df8a\" stroke-width=\"1.5\" opacity=\"1\"/></g><g class=\"mark-text role-legend-label\" pointer-events=\"none\"><text text-anchor=\"start\" transform=\"translate(16,9)\" font-family=\"sans-serif\" font-size=\"10px\" fill=\"#000\" opacity=\"1\">hydroelectric_pumped_storage</text></g></g><path class=\"foreground\" aria-hidden=\"true\" d=\"\" pointer-events=\"none\" display=\"none\"/></g><g transform=\"translate(0,78)\"><path class=\"background\" aria-hidden=\"true\" d=\"M0,0h173v11h-173Z\" pointer-events=\"none\" opacity=\"1\"/><g><g class=\"mark-symbol role-legend-symbol\" pointer-events=\"none\"><path transform=\"translate(6,6)\" d=\"M5,0A5,5,0,1,1,-5,0A5,5,0,1,1,5,0\" fill=\"#d62728\" stroke-width=\"1.5\" opacity=\"1\"/></g><g class=\"mark-text role-legend-label\" pointer-events=\"none\"><text text-anchor=\"start\" transform=\"translate(16,9)\" font-family=\"sans-serif\" font-size=\"10px\" fill=\"#000\" opacity=\"1\">natural_gas_fired_combined_cycle</text></g></g><path class=\"foreground\" aria-hidden=\"true\" d=\"\" pointer-events=\"none\" display=\"none\"/></g><g transform=\"translate(0,91)\"><path class=\"background\" aria-hidden=\"true\" d=\"M0,0h173v11h-173Z\" pointer-events=\"none\" opacity=\"1\"/><g><g class=\"mark-symbol role-legend-symbol\" pointer-events=\"none\"><path transform=\"translate(6,6)\" d=\"M5,0A5,5,0,1,1,-5,0A5,5,0,1,1,5,0\" fill=\"#ff9896\" stroke-width=\"1.5\" opacity=\"1\"/></g><g class=\"mark-text role-legend-label\" pointer-events=\"none\"><text text-anchor=\"start\" transform=\"translate(16,9)\" font-family=\"sans-serif\" font-size=\"10px\" fill=\"#000\" opacity=\"1\">natural_gas_fired_combustion_tur…</text></g></g><path class=\"foreground\" aria-hidden=\"true\" d=\"\" pointer-events=\"none\" display=\"none\"/></g></g></g><path class=\"foreground\" aria-hidden=\"true\" d=\"\" pointer-events=\"none\" display=\"none\"/></g></g><g class=\"mark-text role-legend-title\" pointer-events=\"none\"><text text-anchor=\"start\" transform=\"translate(0,9)\" font-family=\"sans-serif\" font-size=\"11px\" font-weight=\"bold\" fill=\"#000\" opacity=\"1\">resource</text></g></g><path class=\"foreground\" aria-hidden=\"true\" d=\"\" pointer-events=\"none\" display=\"none\"/></g></g></g><path class=\"foreground\" aria-hidden=\"true\" d=\"\" display=\"none\"/></g></g></g></svg>\n"
      ],
      "text/plain": [
       "@vlplot(\n",
       "    width=600,\n",
       "    height=600,\n",
       "    mark=\"area\",\n",
       "    encoding={\n",
       "        x={\n",
       "            field=\"hour\"\n",
       "        },\n",
       "        y={\n",
       "            stack=\"zero\",\n",
       "            field=\"gen_sum\"\n",
       "        },\n",
       "        color={\n",
       "            scale={\n",
       "                scheme=\"category20\"\n",
       "            },\n",
       "            field=\"resource\",\n",
       "            type=\"nominal\"\n",
       "        }\n",
       "    },\n",
       "    data={\n",
       "        values=...\n",
       "    }\n",
       ")"
      ]
     },
     "execution_count": 62,
     "metadata": {},
     "output_type": "execute_result"
    }
   ],
   "source": [
    "\n",
    "sol_gen_btm |>\n",
    "@vlplot(:area, \n",
    "    x=:hour, y={:gen_sum, stack=:zero}, \n",
    "    color={\"resource:n\", scale={scheme=\"category20\"}},\n",
    "    width=600,height=600)"
   ]
  },
  {
   "cell_type": "code",
   "execution_count": 63,
   "id": "a00985fe",
   "metadata": {},
   "outputs": [
    {
     "name": "stdout",
     "output_type": "stream",
     "text": [
      "Running HiGHS 1.4.2 [date: 1970-01-01, git hash: f797c1ab6]\n",
      "Copyright (c) 2022 ERGO-Code under MIT licence terms\n",
      "Presolving model\n",
      "73 rows, 218 cols, 346 nonzeros\n",
      "41 rows, 181 cols, 245 nonzeros\n",
      "41 rows, 181 cols, 245 nonzeros\n",
      "Presolve : Reductions: rows 41(-593); columns 181(-44); elements 245(-1005)\n",
      "Solving the presolved LP\n",
      "Using EKK dual simplex solver - serial\n",
      "  Iteration        Objective     Infeasibilities num(sum)\n",
      "          0     0.0000000000e+00 Pr: 9(5069.17) 0s\n",
      "         10     7.7077276542e+04 Pr: 0(0) 0s\n",
      "Solving the original LP from the solution after postsolve\n",
      "Model   status      : Optimal\n",
      "Simplex   iterations: 10\n",
      "Objective value     :  7.7077276542e+04\n",
      "HiGHS run time      :          0.00\n"
     ]
    },
    {
     "data": {
      "application/vnd.vegalite.v4+json": {
       "data": {
        "values": [
         {
          "gen_sum": 36.861439999999995,
          "hour": 1,
          "resource": "_onshore_wind_turbine"
         },
         {
          "gen_sum": 2.18868,
          "hour": 1,
          "resource": "_small_hydroelectric"
         },
         {
          "gen_sum": 0,
          "hour": 1,
          "resource": "_solar_photovoltaic"
         },
         {
          "gen_sum": 0,
          "hour": 1,
          "resource": "_solar_photovoltaic_btm"
         },
         {
          "gen_sum": 21.4,
          "hour": 1,
          "resource": "biomass"
         },
         {
          "gen_sum": 42,
          "hour": 1,
          "resource": "hydroelectric_pumped_storage"
         },
         {
          "gen_sum": 522.41988,
          "hour": 1,
          "resource": "natural_gas_fired_combined_cycle"
         },
         {
          "gen_sum": 0,
          "hour": 1,
          "resource": "natural_gas_fired_combustion_turbine"
         },
         {
          "gen_sum": 36.07808,
          "hour": 2,
          "resource": "_onshore_wind_turbine"
         },
         {
          "gen_sum": 2.186484,
          "hour": 2,
          "resource": "_small_hydroelectric"
         },
         {
          "gen_sum": 0,
          "hour": 2,
          "resource": "_solar_photovoltaic"
         },
         {
          "gen_sum": 0,
          "hour": 2,
          "resource": "_solar_photovoltaic_btm"
         },
         {
          "gen_sum": 21.4,
          "hour": 2,
          "resource": "biomass"
         },
         {
          "gen_sum": 42,
          "hour": 2,
          "resource": "hydroelectric_pumped_storage"
         },
         {
          "gen_sum": 513.2234360000001,
          "hour": 2,
          "resource": "natural_gas_fired_combined_cycle"
         },
         {
          "gen_sum": 0,
          "hour": 2,
          "resource": "natural_gas_fired_combustion_turbine"
         },
         {
          "gen_sum": 32.68352,
          "hour": 3,
          "resource": "_onshore_wind_turbine"
         },
         {
          "gen_sum": 2.184288,
          "hour": 3,
          "resource": "_small_hydroelectric"
         },
         {
          "gen_sum": 0,
          "hour": 3,
          "resource": "_solar_photovoltaic"
         },
         {
          "gen_sum": 0,
          "hour": 3,
          "resource": "_solar_photovoltaic_btm"
         },
         {
          "gen_sum": 21.4,
          "hour": 3,
          "resource": "biomass"
         },
         {
          "gen_sum": 42,
          "hour": 3,
          "resource": "hydroelectric_pumped_storage"
         },
         {
          "gen_sum": 480.765192,
          "hour": 3,
          "resource": "natural_gas_fired_combined_cycle"
         },
         {
          "gen_sum": 0,
          "hour": 3,
          "resource": "natural_gas_fired_combustion_turbine"
         },
         {
          "gen_sum": 31.6608,
          "hour": 4,
          "resource": "_onshore_wind_turbine"
         },
         {
          "gen_sum": 2.182092,
          "hour": 4,
          "resource": "_small_hydroelectric"
         },
         {
          "gen_sum": 0,
          "hour": 4,
          "resource": "_solar_photovoltaic"
         },
         {
          "gen_sum": 0,
          "hour": 4,
          "resource": "_solar_photovoltaic_btm"
         },
         {
          "gen_sum": 21.4,
          "hour": 4,
          "resource": "biomass"
         },
         {
          "gen_sum": 42,
          "hour": 4,
          "resource": "hydroelectric_pumped_storage"
         },
         {
          "gen_sum": 394.390108,
          "hour": 4,
          "resource": "natural_gas_fired_combined_cycle"
         },
         {
          "gen_sum": 0,
          "hour": 4,
          "resource": "natural_gas_fired_combustion_turbine"
         },
         {
          "gen_sum": 20.28032,
          "hour": 5,
          "resource": "_onshore_wind_turbine"
         },
         {
          "gen_sum": 2.1798960000000003,
          "hour": 5,
          "resource": "_small_hydroelectric"
         },
         {
          "gen_sum": 0,
          "hour": 5,
          "resource": "_solar_photovoltaic"
         },
         {
          "gen_sum": 0,
          "hour": 5,
          "resource": "_solar_photovoltaic_btm"
         },
         {
          "gen_sum": 21.4,
          "hour": 5,
          "resource": "biomass"
         },
         {
          "gen_sum": 42,
          "hour": 5,
          "resource": "hydroelectric_pumped_storage"
         },
         {
          "gen_sum": 375.10778400000004,
          "hour": 5,
          "resource": "natural_gas_fired_combined_cycle"
         },
         {
          "gen_sum": 0,
          "hour": 5,
          "resource": "natural_gas_fired_combustion_turbine"
         },
         {
          "gen_sum": 15.60192,
          "hour": 6,
          "resource": "_onshore_wind_turbine"
         },
         {
          "gen_sum": 2.176968,
          "hour": 6,
          "resource": "_small_hydroelectric"
         },
         {
          "gen_sum": 0,
          "hour": 6,
          "resource": "_solar_photovoltaic"
         },
         {
          "gen_sum": 0,
          "hour": 6,
          "resource": "_solar_photovoltaic_btm"
         },
         {
          "gen_sum": 21.4,
          "hour": 6,
          "resource": "biomass"
         },
         {
          "gen_sum": 42,
          "hour": 6,
          "resource": "hydroelectric_pumped_storage"
         },
         {
          "gen_sum": 402.95511200000004,
          "hour": 6,
          "resource": "natural_gas_fired_combined_cycle"
         },
         {
          "gen_sum": 0,
          "hour": 6,
          "resource": "natural_gas_fired_combustion_turbine"
         },
         {
          "gen_sum": 4.59136,
          "hour": 7,
          "resource": "_onshore_wind_turbine"
         },
         {
          "gen_sum": 2.174772,
          "hour": 7,
          "resource": "_small_hydroelectric"
         },
         {
          "gen_sum": 0,
          "hour": 7,
          "resource": "_solar_photovoltaic"
         },
         {
          "gen_sum": 0,
          "hour": 7,
          "resource": "_solar_photovoltaic_btm"
         },
         {
          "gen_sum": 21.4,
          "hour": 7,
          "resource": "biomass"
         },
         {
          "gen_sum": 42,
          "hour": 7,
          "resource": "hydroelectric_pumped_storage"
         },
         {
          "gen_sum": 453.175868,
          "hour": 7,
          "resource": "natural_gas_fired_combined_cycle"
         },
         {
          "gen_sum": 0,
          "hour": 7,
          "resource": "natural_gas_fired_combustion_turbine"
         },
         {
          "gen_sum": 4.70016,
          "hour": 8,
          "resource": "_onshore_wind_turbine"
         },
         {
          "gen_sum": 2.1725760000000003,
          "hour": 8,
          "resource": "_small_hydroelectric"
         },
         {
          "gen_sum": 170.8,
          "hour": 8,
          "resource": "_solar_photovoltaic"
         },
         {
          "gen_sum": 29.28,
          "hour": 8,
          "resource": "_solar_photovoltaic_btm"
         },
         {
          "gen_sum": 21.4,
          "hour": 8,
          "resource": "biomass"
         },
         {
          "gen_sum": 42,
          "hour": 8,
          "resource": "hydroelectric_pumped_storage"
         },
         {
          "gen_sum": 351.07126400000004,
          "hour": 8,
          "resource": "natural_gas_fired_combined_cycle"
         },
         {
          "gen_sum": 0,
          "hour": 8,
          "resource": "natural_gas_fired_combustion_turbine"
         },
         {
          "gen_sum": 0,
          "hour": 9,
          "resource": "_onshore_wind_turbine"
         },
         {
          "gen_sum": 0,
          "hour": 9,
          "resource": "_small_hydroelectric"
         },
         {
          "gen_sum": 698.155,
          "hour": 9,
          "resource": "_solar_photovoltaic"
         },
         {
          "gen_sum": 210.89999999999998,
          "hour": 9,
          "resource": "_solar_photovoltaic_btm"
         },
         {
          "gen_sum": 0,
          "hour": 9,
          "resource": "biomass"
         },
         {
          "gen_sum": 0,
          "hour": 9,
          "resource": "hydroelectric_pumped_storage"
         },
         {
          "gen_sum": 0,
          "hour": 9,
          "resource": "natural_gas_fired_combined_cycle"
         },
         {
          "gen_sum": 0,
          "hour": 9,
          "resource": "natural_gas_fired_combustion_turbine"
         }
        ]
       },
       "encoding": {
        "color": {
         "field": "resource",
         "scale": {
          "scheme": "category20"
         },
         "type": "nominal"
        },
        "x": {
         "field": "hour",
         "type": "quantitative"
        },
        "y": {
         "field": "gen_sum",
         "stack": "zero",
         "type": "quantitative"
        }
       },
       "height": 600,
       "mark": "area",
       "width": 600
      },
      "image/png": "[encoded data removed]",
      "image/svg+xml": [
       "<?xml version=\"1.0\" encoding=\"utf-8\"?>\n",
       "<!DOCTYPE svg PUBLIC \"-//W3C//DTD SVG 1.1//EN\" \"http://www.w3.org/Graphics/SVG/1.1/DTD/svg11.dtd\">\n",
       "<svg xmlns=\"http://www.w3.org/2000/svg\" xmlns:xlink=\"http://www.w3.org/1999/xlink\" version=\"1.1\" class=\"marks\" width=\"846\" height=\"647\" viewBox=\"0 0 846 647\"><rect width=\"846\" height=\"647\" fill=\"white\"/><g fill=\"none\" stroke-miterlimit=\"10\" transform=\"translate(50,10)\"><g class=\"mark-group role-frame root\" role=\"graphics-object\" aria-roledescription=\"group mark container\"><g transform=\"translate(0,0)\"><path class=\"background\" aria-hidden=\"true\" d=\"M0.5,0.5h600v600h-600Z\" stroke=\"#ddd\"/><g><g class=\"mark-group role-axis\" aria-hidden=\"true\"><g transform=\"translate(0.5,600.5)\"><path class=\"background\" aria-hidden=\"true\" d=\"M0,0h0v0h0Z\" pointer-events=\"none\"/><g><g class=\"mark-rule role-axis-grid\" pointer-events=\"none\"><line transform=\"translate(0,-600)\" x2=\"0\" y2=\"600\" stroke=\"#ddd\" stroke-width=\"1\" opacity=\"1\"/><line transform=\"translate(38,-600)\" x2=\"0\" y2=\"600\" stroke=\"#ddd\" stroke-width=\"1\" opacity=\"1\"/><line transform=\"translate(75,-600)\" x2=\"0\" y2=\"600\" stroke=\"#ddd\" stroke-width=\"1\" opacity=\"1\"/><line transform=\"translate(113,-600)\" x2=\"0\" y2=\"600\" stroke=\"#ddd\" stroke-width=\"1\" opacity=\"1\"/><line transform=\"translate(150,-600)\" x2=\"0\" y2=\"600\" stroke=\"#ddd\" stroke-width=\"1\" opacity=\"1\"/><line transform=\"translate(188,-600)\" x2=\"0\" y2=\"600\" stroke=\"#ddd\" stroke-width=\"1\" opacity=\"1\"/><line transform=\"translate(225,-600)\" x2=\"0\" y2=\"600\" stroke=\"#ddd\" stroke-width=\"1\" opacity=\"1\"/><line transform=\"translate(263,-600)\" x2=\"0\" y2=\"600\" stroke=\"#ddd\" stroke-width=\"1\" opacity=\"1\"/><line transform=\"translate(300,-600)\" x2=\"0\" y2=\"600\" stroke=\"#ddd\" stroke-width=\"1\" opacity=\"1\"/><line transform=\"translate(338,-600)\" x2=\"0\" y2=\"600\" stroke=\"#ddd\" stroke-width=\"1\" opacity=\"1\"/><line transform=\"translate(375,-600)\" x2=\"0\" y2=\"600\" stroke=\"#ddd\" stroke-width=\"1\" opacity=\"1\"/><line transform=\"translate(413,-600)\" x2=\"0\" y2=\"600\" stroke=\"#ddd\" stroke-width=\"1\" opacity=\"1\"/><line transform=\"translate(450,-600)\" x2=\"0\" y2=\"600\" stroke=\"#ddd\" stroke-width=\"1\" opacity=\"1\"/><line transform=\"translate(488,-600)\" x2=\"0\" y2=\"600\" stroke=\"#ddd\" stroke-width=\"1\" opacity=\"1\"/><line transform=\"translate(525,-600)\" x2=\"0\" y2=\"600\" stroke=\"#ddd\" stroke-width=\"1\" opacity=\"1\"/><line transform=\"translate(563,-600)\" x2=\"0\" y2=\"600\" stroke=\"#ddd\" stroke-width=\"1\" opacity=\"1\"/><line transform=\"translate(600,-600)\" x2=\"0\" y2=\"600\" stroke=\"#ddd\" stroke-width=\"1\" opacity=\"1\"/></g></g><path class=\"foreground\" aria-hidden=\"true\" d=\"\" pointer-events=\"none\" display=\"none\"/></g></g><g class=\"mark-group role-axis\" aria-hidden=\"true\"><g transform=\"translate(0.5,0.5)\"><path class=\"background\" aria-hidden=\"true\" d=\"M0,0h0v0h0Z\" pointer-events=\"none\"/><g><g class=\"mark-rule role-axis-grid\" pointer-events=\"none\"><line transform=\"translate(0,600)\" x2=\"600\" y2=\"0\" stroke=\"#ddd\" stroke-width=\"1\" opacity=\"1\"/><line transform=\"translate(0,570)\" x2=\"600\" y2=\"0\" stroke=\"#ddd\" stroke-width=\"1\" opacity=\"1\"/><line transform=\"translate(0,540)\" x2=\"600\" y2=\"0\" stroke=\"#ddd\" stroke-width=\"1\" opacity=\"1\"/><line transform=\"translate(0,510)\" x2=\"600\" y2=\"0\" stroke=\"#ddd\" stroke-width=\"1\" opacity=\"1\"/><line transform=\"translate(0,480)\" x2=\"600\" y2=\"0\" stroke=\"#ddd\" stroke-width=\"1\" opacity=\"1\"/><line transform=\"translate(0,450)\" x2=\"600\" y2=\"0\" stroke=\"#ddd\" stroke-width=\"1\" opacity=\"1\"/><line transform=\"translate(0,420)\" x2=\"600\" y2=\"0\" stroke=\"#ddd\" stroke-width=\"1\" opacity=\"1\"/><line transform=\"translate(0,390)\" x2=\"600\" y2=\"0\" stroke=\"#ddd\" stroke-width=\"1\" opacity=\"1\"/><line transform=\"translate(0,360)\" x2=\"600\" y2=\"0\" stroke=\"#ddd\" stroke-width=\"1\" opacity=\"1\"/><line transform=\"translate(0,330)\" x2=\"600\" y2=\"0\" stroke=\"#ddd\" stroke-width=\"1\" opacity=\"1\"/><line transform=\"translate(0,300)\" x2=\"600\" y2=\"0\" stroke=\"#ddd\" stroke-width=\"1\" opacity=\"1\"/><line transform=\"translate(0,270)\" x2=\"600\" y2=\"0\" stroke=\"#ddd\" stroke-width=\"1\" opacity=\"1\"/><line transform=\"translate(0,240)\" x2=\"600\" y2=\"0\" stroke=\"#ddd\" stroke-width=\"1\" opacity=\"1\"/><line transform=\"translate(0,210)\" x2=\"600\" y2=\"0\" stroke=\"#ddd\" stroke-width=\"1\" opacity=\"1\"/><line transform=\"translate(0,180)\" x2=\"600\" y2=\"0\" stroke=\"#ddd\" stroke-width=\"1\" opacity=\"1\"/><line transform=\"translate(0,150)\" x2=\"600\" y2=\"0\" stroke=\"#ddd\" stroke-width=\"1\" opacity=\"1\"/><line transform=\"translate(0,120)\" x2=\"600\" y2=\"0\" stroke=\"#ddd\" stroke-width=\"1\" opacity=\"1\"/><line transform=\"translate(0,90)\" x2=\"600\" y2=\"0\" stroke=\"#ddd\" stroke-width=\"1\" opacity=\"1\"/><line transform=\"translate(0,60)\" x2=\"600\" y2=\"0\" stroke=\"#ddd\" stroke-width=\"1\" opacity=\"1\"/><line transform=\"translate(0,30)\" x2=\"600\" y2=\"0\" stroke=\"#ddd\" stroke-width=\"1\" opacity=\"1\"/><line transform=\"translate(0,0)\" x2=\"600\" y2=\"0\" stroke=\"#ddd\" stroke-width=\"1\" opacity=\"1\"/></g></g><path class=\"foreground\" aria-hidden=\"true\" d=\"\" pointer-events=\"none\" display=\"none\"/></g></g><g class=\"mark-group role-axis\" role=\"graphics-symbol\" aria-roledescription=\"axis\" aria-label=\"X-axis titled 'hour' for a linear scale with values from 1 to 9\"><g transform=\"translate(0.5,600.5)\"><path class=\"background\" aria-hidden=\"true\" d=\"M0,0h0v0h0Z\" pointer-events=\"none\"/><g><g class=\"mark-rule role-axis-tick\" pointer-events=\"none\"><line transform=\"translate(0,0)\" x2=\"0\" y2=\"5\" stroke=\"#888\" stroke-width=\"1\" opacity=\"1\"/><line transform=\"translate(38,0)\" x2=\"0\" y2=\"5\" stroke=\"#888\" stroke-width=\"1\" opacity=\"1\"/><line transform=\"translate(75,0)\" x2=\"0\" y2=\"5\" stroke=\"#888\" stroke-width=\"1\" opacity=\"1\"/><line transform=\"translate(113,0)\" x2=\"0\" y2=\"5\" stroke=\"#888\" stroke-width=\"1\" opacity=\"1\"/><line transform=\"translate(150,0)\" x2=\"0\" y2=\"5\" stroke=\"#888\" stroke-width=\"1\" opacity=\"1\"/><line transform=\"translate(188,0)\" x2=\"0\" y2=\"5\" stroke=\"#888\" stroke-width=\"1\" opacity=\"1\"/><line transform=\"translate(225,0)\" x2=\"0\" y2=\"5\" stroke=\"#888\" stroke-width=\"1\" opacity=\"1\"/><line transform=\"translate(263,0)\" x2=\"0\" y2=\"5\" stroke=\"#888\" stroke-width=\"1\" opacity=\"1\"/><line transform=\"translate(300,0)\" x2=\"0\" y2=\"5\" stroke=\"#888\" stroke-width=\"1\" opacity=\"1\"/><line transform=\"translate(338,0)\" x2=\"0\" y2=\"5\" stroke=\"#888\" stroke-width=\"1\" opacity=\"1\"/><line transform=\"translate(375,0)\" x2=\"0\" y2=\"5\" stroke=\"#888\" stroke-width=\"1\" opacity=\"1\"/><line transform=\"translate(413,0)\" x2=\"0\" y2=\"5\" stroke=\"#888\" stroke-width=\"1\" opacity=\"1\"/><line transform=\"translate(450,0)\" x2=\"0\" y2=\"5\" stroke=\"#888\" stroke-width=\"1\" opacity=\"1\"/><line transform=\"translate(488,0)\" x2=\"0\" y2=\"5\" stroke=\"#888\" stroke-width=\"1\" opacity=\"1\"/><line transform=\"translate(525,0)\" x2=\"0\" y2=\"5\" stroke=\"#888\" stroke-width=\"1\" opacity=\"1\"/><line transform=\"translate(563,0)\" x2=\"0\" y2=\"5\" stroke=\"#888\" stroke-width=\"1\" opacity=\"1\"/><line transform=\"translate(600,0)\" x2=\"0\" y2=\"5\" stroke=\"#888\" stroke-width=\"1\" opacity=\"1\"/></g><g class=\"mark-text role-axis-label\" pointer-events=\"none\"><text text-anchor=\"start\" transform=\"translate(0,15)\" font-family=\"sans-serif\" font-size=\"10px\" fill=\"#000\" opacity=\"1\">1.0</text><text text-anchor=\"middle\" transform=\"translate(37.5,15)\" font-family=\"sans-serif\" font-size=\"10px\" fill=\"#000\" opacity=\"1\">1.5</text><text text-anchor=\"middle\" transform=\"translate(75,15)\" font-family=\"sans-serif\" font-size=\"10px\" fill=\"#000\" opacity=\"1\">2.0</text><text text-anchor=\"middle\" transform=\"translate(112.5,15)\" font-family=\"sans-serif\" font-size=\"10px\" fill=\"#000\" opacity=\"1\">2.5</text><text text-anchor=\"middle\" transform=\"translate(150,15)\" font-family=\"sans-serif\" font-size=\"10px\" fill=\"#000\" opacity=\"1\">3.0</text><text text-anchor=\"middle\" transform=\"translate(187.5,15)\" font-family=\"sans-serif\" font-size=\"10px\" fill=\"#000\" opacity=\"1\">3.5</text><text text-anchor=\"middle\" transform=\"translate(225,15)\" font-family=\"sans-serif\" font-size=\"10px\" fill=\"#000\" opacity=\"1\">4.0</text><text text-anchor=\"middle\" transform=\"translate(262.5,15)\" font-family=\"sans-serif\" font-size=\"10px\" fill=\"#000\" opacity=\"1\">4.5</text><text text-anchor=\"middle\" transform=\"translate(300,15)\" font-family=\"sans-serif\" font-size=\"10px\" fill=\"#000\" opacity=\"1\">5.0</text><text text-anchor=\"middle\" transform=\"translate(337.5,15)\" font-family=\"sans-serif\" font-size=\"10px\" fill=\"#000\" opacity=\"1\">5.5</text><text text-anchor=\"middle\" transform=\"translate(375,15)\" font-family=\"sans-serif\" font-size=\"10px\" fill=\"#000\" opacity=\"1\">6.0</text><text text-anchor=\"middle\" transform=\"translate(412.5,15)\" font-family=\"sans-serif\" font-size=\"10px\" fill=\"#000\" opacity=\"1\">6.5</text><text text-anchor=\"middle\" transform=\"translate(450,15)\" font-family=\"sans-serif\" font-size=\"10px\" fill=\"#000\" opacity=\"1\">7.0</text><text text-anchor=\"middle\" transform=\"translate(487.5,15)\" font-family=\"sans-serif\" font-size=\"10px\" fill=\"#000\" opacity=\"1\">7.5</text><text text-anchor=\"middle\" transform=\"translate(525,15)\" font-family=\"sans-serif\" font-size=\"10px\" fill=\"#000\" opacity=\"1\">8.0</text><text text-anchor=\"middle\" transform=\"translate(562.5,15)\" font-family=\"sans-serif\" font-size=\"10px\" fill=\"#000\" opacity=\"1\">8.5</text><text text-anchor=\"end\" transform=\"translate(600,15)\" font-family=\"sans-serif\" font-size=\"10px\" fill=\"#000\" opacity=\"1\">9.0</text></g><g class=\"mark-rule role-axis-domain\" pointer-events=\"none\"><line transform=\"translate(0,0)\" x2=\"600\" y2=\"0\" stroke=\"#888\" stroke-width=\"1\" opacity=\"1\"/></g><g class=\"mark-text role-axis-title\" pointer-events=\"none\"><text text-anchor=\"middle\" transform=\"translate(300,30)\" font-family=\"sans-serif\" font-size=\"11px\" font-weight=\"bold\" fill=\"#000\" opacity=\"1\">hour</text></g></g><path class=\"foreground\" aria-hidden=\"true\" d=\"\" pointer-events=\"none\" display=\"none\"/></g></g><g class=\"mark-group role-axis\" role=\"graphics-symbol\" aria-roledescription=\"axis\" aria-label=\"Y-axis titled 'gen_sum' for a linear scale with values from 0 to 1,000\"><g transform=\"translate(0.5,0.5)\"><path class=\"background\" aria-hidden=\"true\" d=\"M0,0h0v0h0Z\" pointer-events=\"none\"/><g><g class=\"mark-rule role-axis-tick\" pointer-events=\"none\"><line transform=\"translate(0,600)\" x2=\"-5\" y2=\"0\" stroke=\"#888\" stroke-width=\"1\" opacity=\"1\"/><line transform=\"translate(0,570)\" x2=\"-5\" y2=\"0\" stroke=\"#888\" stroke-width=\"1\" opacity=\"1\"/><line transform=\"translate(0,540)\" x2=\"-5\" y2=\"0\" stroke=\"#888\" stroke-width=\"1\" opacity=\"1\"/><line transform=\"translate(0,510)\" x2=\"-5\" y2=\"0\" stroke=\"#888\" stroke-width=\"1\" opacity=\"1\"/><line transform=\"translate(0,480)\" x2=\"-5\" y2=\"0\" stroke=\"#888\" stroke-width=\"1\" opacity=\"1\"/><line transform=\"translate(0,450)\" x2=\"-5\" y2=\"0\" stroke=\"#888\" stroke-width=\"1\" opacity=\"1\"/><line transform=\"translate(0,420)\" x2=\"-5\" y2=\"0\" stroke=\"#888\" stroke-width=\"1\" opacity=\"1\"/><line transform=\"translate(0,390)\" x2=\"-5\" y2=\"0\" stroke=\"#888\" stroke-width=\"1\" opacity=\"1\"/><line transform=\"translate(0,360)\" x2=\"-5\" y2=\"0\" stroke=\"#888\" stroke-width=\"1\" opacity=\"1\"/><line transform=\"translate(0,330)\" x2=\"-5\" y2=\"0\" stroke=\"#888\" stroke-width=\"1\" opacity=\"1\"/><line transform=\"translate(0,300)\" x2=\"-5\" y2=\"0\" stroke=\"#888\" stroke-width=\"1\" opacity=\"1\"/><line transform=\"translate(0,270)\" x2=\"-5\" y2=\"0\" stroke=\"#888\" stroke-width=\"1\" opacity=\"1\"/><line transform=\"translate(0,240)\" x2=\"-5\" y2=\"0\" stroke=\"#888\" stroke-width=\"1\" opacity=\"1\"/><line transform=\"translate(0,210)\" x2=\"-5\" y2=\"0\" stroke=\"#888\" stroke-width=\"1\" opacity=\"1\"/><line transform=\"translate(0,180)\" x2=\"-5\" y2=\"0\" stroke=\"#888\" stroke-width=\"1\" opacity=\"1\"/><line transform=\"translate(0,150)\" x2=\"-5\" y2=\"0\" stroke=\"#888\" stroke-width=\"1\" opacity=\"1\"/><line transform=\"translate(0,120)\" x2=\"-5\" y2=\"0\" stroke=\"#888\" stroke-width=\"1\" opacity=\"1\"/><line transform=\"translate(0,90)\" x2=\"-5\" y2=\"0\" stroke=\"#888\" stroke-width=\"1\" opacity=\"1\"/><line transform=\"translate(0,60)\" x2=\"-5\" y2=\"0\" stroke=\"#888\" stroke-width=\"1\" opacity=\"1\"/><line transform=\"translate(0,30)\" x2=\"-5\" y2=\"0\" stroke=\"#888\" stroke-width=\"1\" opacity=\"1\"/><line transform=\"translate(0,0)\" x2=\"-5\" y2=\"0\" stroke=\"#888\" stroke-width=\"1\" opacity=\"1\"/></g><g class=\"mark-text role-axis-label\" pointer-events=\"none\"><text text-anchor=\"end\" transform=\"translate(-7,603)\" font-family=\"sans-serif\" font-size=\"10px\" fill=\"#000\" opacity=\"1\">0</text><text text-anchor=\"end\" transform=\"translate(-7,573)\" font-family=\"sans-serif\" font-size=\"10px\" fill=\"#000\" opacity=\"1\">50</text><text text-anchor=\"end\" transform=\"translate(-7,543)\" font-family=\"sans-serif\" font-size=\"10px\" fill=\"#000\" opacity=\"1\">100</text><text text-anchor=\"end\" transform=\"translate(-7,513)\" font-family=\"sans-serif\" font-size=\"10px\" fill=\"#000\" opacity=\"1\">150</text><text text-anchor=\"end\" transform=\"translate(-7,483)\" font-family=\"sans-serif\" font-size=\"10px\" fill=\"#000\" opacity=\"1\">200</text><text text-anchor=\"end\" transform=\"translate(-7,453)\" font-family=\"sans-serif\" font-size=\"10px\" fill=\"#000\" opacity=\"1\">250</text><text text-anchor=\"end\" transform=\"translate(-7,423)\" font-family=\"sans-serif\" font-size=\"10px\" fill=\"#000\" opacity=\"1\">300</text><text text-anchor=\"end\" transform=\"translate(-7,393)\" font-family=\"sans-serif\" font-size=\"10px\" fill=\"#000\" opacity=\"1\">350</text><text text-anchor=\"end\" transform=\"translate(-7,363)\" font-family=\"sans-serif\" font-size=\"10px\" fill=\"#000\" opacity=\"1\">400</text><text text-anchor=\"end\" transform=\"translate(-7,333)\" font-family=\"sans-serif\" font-size=\"10px\" fill=\"#000\" opacity=\"1\">450</text><text text-anchor=\"end\" transform=\"translate(-7,303)\" font-family=\"sans-serif\" font-size=\"10px\" fill=\"#000\" opacity=\"1\">500</text><text text-anchor=\"end\" transform=\"translate(-7,273)\" font-family=\"sans-serif\" font-size=\"10px\" fill=\"#000\" opacity=\"1\">550</text><text text-anchor=\"end\" transform=\"translate(-7,243)\" font-family=\"sans-serif\" font-size=\"10px\" fill=\"#000\" opacity=\"1\">600</text><text text-anchor=\"end\" transform=\"translate(-7,213)\" font-family=\"sans-serif\" font-size=\"10px\" fill=\"#000\" opacity=\"1\">650</text><text text-anchor=\"end\" transform=\"translate(-7,183.00000000000003)\" font-family=\"sans-serif\" font-size=\"10px\" fill=\"#000\" opacity=\"1\">700</text><text text-anchor=\"end\" transform=\"translate(-7,153)\" font-family=\"sans-serif\" font-size=\"10px\" fill=\"#000\" opacity=\"1\">750</text><text text-anchor=\"end\" transform=\"translate(-7,122.99999999999997)\" font-family=\"sans-serif\" font-size=\"10px\" fill=\"#000\" opacity=\"1\">800</text><text text-anchor=\"end\" transform=\"translate(-7,93.00000000000001)\" font-family=\"sans-serif\" font-size=\"10px\" fill=\"#000\" opacity=\"1\">850</text><text text-anchor=\"end\" transform=\"translate(-7,62.999999999999986)\" font-family=\"sans-serif\" font-size=\"10px\" fill=\"#000\" opacity=\"1\">900</text><text text-anchor=\"end\" transform=\"translate(-7,33.00000000000003)\" font-family=\"sans-serif\" font-size=\"10px\" fill=\"#000\" opacity=\"1\">950</text><text text-anchor=\"end\" transform=\"translate(-7,3)\" font-family=\"sans-serif\" font-size=\"10px\" fill=\"#000\" opacity=\"1\">1,000</text></g><g class=\"mark-rule role-axis-domain\" pointer-events=\"none\"><line transform=\"translate(0,600)\" x2=\"0\" y2=\"-600\" stroke=\"#888\" stroke-width=\"1\" opacity=\"1\"/></g><g class=\"mark-text role-axis-title\" pointer-events=\"none\"><text text-anchor=\"middle\" transform=\"translate(-34,300) rotate(-90) translate(0,-2)\" font-family=\"sans-serif\" font-size=\"11px\" font-weight=\"bold\" fill=\"#000\" opacity=\"1\">gen_sum</text></g></g><path class=\"foreground\" aria-hidden=\"true\" d=\"\" pointer-events=\"none\" display=\"none\"/></g></g><g class=\"mark-group role-scope pathgroup\" role=\"graphics-object\" aria-roledescription=\"group mark container\"><g transform=\"translate(0,0)\"><path class=\"background\" aria-hidden=\"true\" d=\"M0,0h600v600h-600Z\"/><g><g class=\"mark-area role-mark marks\" role=\"graphics-object\" aria-roledescription=\"area mark container\"><path aria-label=\"hour: 1; gen_sum: 36.86144; resource: _onshore_wind_turbine\" role=\"graphics-symbol\" aria-roledescription=\"area mark\" d=\"M0,225.07799999999997L75,231.0672L150,252.58019999999993L225,305.0202L300,323.4192L375,309.51959999999997L450,285.9948L525,227.1456L600,54.567000000000036L600,54.567000000000036L525,229.96569599999998L450,288.74961600000006L375,318.880752L300,335.58739199999997L225,324.01668L150,272.19031199999995L75,252.71404799999993L0,247.194864Z\" fill=\"#1f77b4\"/></g></g><path class=\"foreground\" aria-hidden=\"true\" d=\"\" display=\"none\"/></g><g transform=\"translate(0,0)\"><path class=\"background\" aria-hidden=\"true\" d=\"M0,0h600v600h-600Z\"/><g><g class=\"mark-area role-mark marks\" role=\"graphics-object\" aria-roledescription=\"area mark container\"><path aria-label=\"hour: 1; gen_sum: 2.18868; resource: _small_hydroelectric\" role=\"graphics-symbol\" aria-roledescription=\"area mark\" d=\"M0,247.194864L75,252.71404799999993L150,272.19031199999995L225,324.01668L300,335.58739199999997L375,318.880752L450,288.74961600000006L525,229.96569599999998L600,54.567000000000036L600,54.567000000000036L525,231.26924160000004L450,290.0544792L375,320.18693279999997L300,336.89532959999997L225,325.3259352L150,273.5008848L75,254.02593839999994L0,248.50807200000003Z\" fill=\"#aec7e8\"/></g></g><path class=\"foreground\" aria-hidden=\"true\" d=\"\" display=\"none\"/></g><g transform=\"translate(0,0)\"><path class=\"background\" aria-hidden=\"true\" d=\"M0,0h600v600h-600Z\"/><g><g class=\"mark-area role-mark marks\" role=\"graphics-object\" aria-roledescription=\"area mark container\"><path aria-label=\"hour: 1; gen_sum: 0; resource: _solar_photovoltaic\" role=\"graphics-symbol\" aria-roledescription=\"area mark\" d=\"M0,248.50807200000003L75,254.02593839999994L150,273.5008848L225,325.3259352L300,336.89532959999997L375,320.18693279999997L450,290.0544792L525,231.26924160000004L600,54.567000000000036L600,473.46000000000004L525,333.7492416L450,290.0544792L375,320.18693279999997L300,336.89532959999997L225,325.3259352L150,273.5008848L75,254.02593839999994L0,248.50807200000003Z\" fill=\"#ff7f0e\"/></g></g><path class=\"foreground\" aria-hidden=\"true\" d=\"\" display=\"none\"/></g><g transform=\"translate(0,0)\"><path class=\"background\" aria-hidden=\"true\" d=\"M0,0h600v600h-600Z\"/><g><g class=\"mark-area role-mark marks\" role=\"graphics-object\" aria-roledescription=\"area mark container\"><path aria-label=\"hour: 1; gen_sum: 0; resource: _solar_photovoltaic_btm\" role=\"graphics-symbol\" aria-roledescription=\"area mark\" d=\"M0,248.50807200000003L75,254.02593839999994L150,273.5008848L225,325.3259352L300,336.89532959999997L375,320.18693279999997L450,290.0544792L525,333.7492416L600,473.46000000000004L600,600L525,351.3172416L450,290.0544792L375,320.18693279999997L300,336.89532959999997L225,325.3259352L150,273.5008848L75,254.02593839999994L0,248.50807200000003Z\" fill=\"#ffbb78\"/></g></g><path class=\"foreground\" aria-hidden=\"true\" d=\"\" display=\"none\"/></g><g transform=\"translate(0,0)\"><path class=\"background\" aria-hidden=\"true\" d=\"M0,0h600v600h-600Z\"/><g><g class=\"mark-area role-mark marks\" role=\"graphics-object\" aria-roledescription=\"area mark container\"><path aria-label=\"hour: 1; gen_sum: 21.4; resource: biomass\" role=\"graphics-symbol\" aria-roledescription=\"area mark\" d=\"M0,248.50807200000003L75,254.02593839999994L150,273.5008848L225,325.3259352L300,336.89532959999997L375,320.18693279999997L450,290.0544792L525,351.3172416L600,600L600,600L525,364.15724159999996L450,302.8944792L375,333.0269328L300,349.7353296L225,338.1659352L150,286.34088479999997L75,266.86593839999995L0,261.348072Z\" fill=\"#2ca02c\"/></g></g><path class=\"foreground\" aria-hidden=\"true\" d=\"\" display=\"none\"/></g><g transform=\"translate(0,0)\"><path class=\"background\" aria-hidden=\"true\" d=\"M0,0h600v600h-600Z\"/><g><g class=\"mark-area role-mark marks\" role=\"graphics-object\" aria-roledescription=\"area mark container\"><path aria-label=\"hour: 1; gen_sum: 42; resource: hydroelectric_pumped_storage\" role=\"graphics-symbol\" aria-roledescription=\"area mark\" d=\"M0,261.348072L75,266.86593839999995L150,286.34088479999997L225,338.1659352L300,349.7353296L375,333.0269328L450,302.8944792L525,364.15724159999996L600,600L600,600L525,389.3572416L450,328.0944792L375,358.22693279999993L300,374.93532959999993L225,363.36593519999997L150,311.5408848L75,292.06593839999994L0,286.548072Z\" fill=\"#98df8a\"/></g></g><path class=\"foreground\" aria-hidden=\"true\" d=\"\" display=\"none\"/></g><g transform=\"translate(0,0)\"><path class=\"background\" aria-hidden=\"true\" d=\"M0,0h600v600h-600Z\"/><g><g class=\"mark-area role-mark marks\" role=\"graphics-object\" aria-roledescription=\"area mark container\"><path aria-label=\"hour: 1; gen_sum: 522.41988; resource: natural_gas_fired_combined_cycle\" role=\"graphics-symbol\" aria-roledescription=\"area mark\" d=\"M0,286.548072L75,292.06593839999994L150,311.5408848L225,363.36593519999997L300,374.93532959999993L375,358.22693279999993L450,328.0944792L525,389.3572416L600,600L600,600L525,600L450,600L375,600L300,600L225,600L150,600L75,600L0,600Z\" fill=\"#d62728\"/></g></g><path class=\"foreground\" aria-hidden=\"true\" d=\"\" display=\"none\"/></g><g transform=\"translate(0,0)\"><path class=\"background\" aria-hidden=\"true\" d=\"M0,0h600v600h-600Z\"/><g><g class=\"mark-area role-mark marks\" role=\"graphics-object\" aria-roledescription=\"area mark container\"><path aria-label=\"hour: 1; gen_sum: 0; resource: natural_gas_fired_combustion_turbine\" role=\"graphics-symbol\" aria-roledescription=\"area mark\" d=\"M0,600L75,600L150,600L225,600L300,600L375,600L450,600L525,600L600,600L600,600L525,600L450,600L375,600L300,600L225,600L150,600L75,600L0,600Z\" fill=\"#ff9896\"/></g></g><path class=\"foreground\" aria-hidden=\"true\" d=\"\" display=\"none\"/></g></g><g class=\"mark-group role-legend\" role=\"graphics-symbol\" aria-roledescription=\"legend\" aria-label=\"Symbol legend titled 'resource' for fill color with 8 values: _onshore_wind_turbine, _small_hydroelectric, _solar_photovoltaic, _solar_photovoltaic_btm, biomass, ending with natural_gas_fired_combustion_turbine\"><g transform=\"translate(618,0)\"><path class=\"background\" aria-hidden=\"true\" d=\"M0,0h173v118h-173Z\" pointer-events=\"none\"/><g><g class=\"mark-group role-legend-entry\"><g transform=\"translate(0,16)\"><path class=\"background\" aria-hidden=\"true\" d=\"M0,0h0v0h0Z\" pointer-events=\"none\"/><g><g class=\"mark-group role-scope\" role=\"graphics-object\" aria-roledescription=\"group mark container\"><g transform=\"translate(0,0)\"><path class=\"background\" aria-hidden=\"true\" d=\"M0,0h173v11h-173Z\" pointer-events=\"none\" opacity=\"1\"/><g><g class=\"mark-symbol role-legend-symbol\" pointer-events=\"none\"><path transform=\"translate(6,6)\" d=\"M5,0A5,5,0,1,1,-5,0A5,5,0,1,1,5,0\" fill=\"#1f77b4\" stroke-width=\"1.5\" opacity=\"1\"/></g><g class=\"mark-text role-legend-label\" pointer-events=\"none\"><text text-anchor=\"start\" transform=\"translate(16,9)\" font-family=\"sans-serif\" font-size=\"10px\" fill=\"#000\" opacity=\"1\">_onshore_wind_turbine</text></g></g><path class=\"foreground\" aria-hidden=\"true\" d=\"\" pointer-events=\"none\" display=\"none\"/></g><g transform=\"translate(0,13)\"><path class=\"background\" aria-hidden=\"true\" d=\"M0,0h173v11h-173Z\" pointer-events=\"none\" opacity=\"1\"/><g><g class=\"mark-symbol role-legend-symbol\" pointer-events=\"none\"><path transform=\"translate(6,6)\" d=\"M5,0A5,5,0,1,1,-5,0A5,5,0,1,1,5,0\" fill=\"#aec7e8\" stroke-width=\"1.5\" opacity=\"1\"/></g><g class=\"mark-text role-legend-label\" pointer-events=\"none\"><text text-anchor=\"start\" transform=\"translate(16,9)\" font-family=\"sans-serif\" font-size=\"10px\" fill=\"#000\" opacity=\"1\">_small_hydroelectric</text></g></g><path class=\"foreground\" aria-hidden=\"true\" d=\"\" pointer-events=\"none\" display=\"none\"/></g><g transform=\"translate(0,26)\"><path class=\"background\" aria-hidden=\"true\" d=\"M0,0h173v11h-173Z\" pointer-events=\"none\" opacity=\"1\"/><g><g class=\"mark-symbol role-legend-symbol\" pointer-events=\"none\"><path transform=\"translate(6,6)\" d=\"M5,0A5,5,0,1,1,-5,0A5,5,0,1,1,5,0\" fill=\"#ff7f0e\" stroke-width=\"1.5\" opacity=\"1\"/></g><g class=\"mark-text role-legend-label\" pointer-events=\"none\"><text text-anchor=\"start\" transform=\"translate(16,9)\" font-family=\"sans-serif\" font-size=\"10px\" fill=\"#000\" opacity=\"1\">_solar_photovoltaic</text></g></g><path class=\"foreground\" aria-hidden=\"true\" d=\"\" pointer-events=\"none\" display=\"none\"/></g><g transform=\"translate(0,39)\"><path class=\"background\" aria-hidden=\"true\" d=\"M0,0h173v11h-173Z\" pointer-events=\"none\" opacity=\"1\"/><g><g class=\"mark-symbol role-legend-symbol\" pointer-events=\"none\"><path transform=\"translate(6,6)\" d=\"M5,0A5,5,0,1,1,-5,0A5,5,0,1,1,5,0\" fill=\"#ffbb78\" stroke-width=\"1.5\" opacity=\"1\"/></g><g class=\"mark-text role-legend-label\" pointer-events=\"none\"><text text-anchor=\"start\" transform=\"translate(16,9)\" font-family=\"sans-serif\" font-size=\"10px\" fill=\"#000\" opacity=\"1\">_solar_photovoltaic_btm</text></g></g><path class=\"foreground\" aria-hidden=\"true\" d=\"\" pointer-events=\"none\" display=\"none\"/></g><g transform=\"translate(0,52)\"><path class=\"background\" aria-hidden=\"true\" d=\"M0,0h173v11h-173Z\" pointer-events=\"none\" opacity=\"1\"/><g><g class=\"mark-symbol role-legend-symbol\" pointer-events=\"none\"><path transform=\"translate(6,6)\" d=\"M5,0A5,5,0,1,1,-5,0A5,5,0,1,1,5,0\" fill=\"#2ca02c\" stroke-width=\"1.5\" opacity=\"1\"/></g><g class=\"mark-text role-legend-label\" pointer-events=\"none\"><text text-anchor=\"start\" transform=\"translate(16,9)\" font-family=\"sans-serif\" font-size=\"10px\" fill=\"#000\" opacity=\"1\">biomass</text></g></g><path class=\"foreground\" aria-hidden=\"true\" d=\"\" pointer-events=\"none\" display=\"none\"/></g><g transform=\"translate(0,65)\"><path class=\"background\" aria-hidden=\"true\" d=\"M0,0h173v11h-173Z\" pointer-events=\"none\" opacity=\"1\"/><g><g class=\"mark-symbol role-legend-symbol\" pointer-events=\"none\"><path transform=\"translate(6,6)\" d=\"M5,0A5,5,0,1,1,-5,0A5,5,0,1,1,5,0\" fill=\"#98df8a\" stroke-width=\"1.5\" opacity=\"1\"/></g><g class=\"mark-text role-legend-label\" pointer-events=\"none\"><text text-anchor=\"start\" transform=\"translate(16,9)\" font-family=\"sans-serif\" font-size=\"10px\" fill=\"#000\" opacity=\"1\">hydroelectric_pumped_storage</text></g></g><path class=\"foreground\" aria-hidden=\"true\" d=\"\" pointer-events=\"none\" display=\"none\"/></g><g transform=\"translate(0,78)\"><path class=\"background\" aria-hidden=\"true\" d=\"M0,0h173v11h-173Z\" pointer-events=\"none\" opacity=\"1\"/><g><g class=\"mark-symbol role-legend-symbol\" pointer-events=\"none\"><path transform=\"translate(6,6)\" d=\"M5,0A5,5,0,1,1,-5,0A5,5,0,1,1,5,0\" fill=\"#d62728\" stroke-width=\"1.5\" opacity=\"1\"/></g><g class=\"mark-text role-legend-label\" pointer-events=\"none\"><text text-anchor=\"start\" transform=\"translate(16,9)\" font-family=\"sans-serif\" font-size=\"10px\" fill=\"#000\" opacity=\"1\">natural_gas_fired_combined_cycle</text></g></g><path class=\"foreground\" aria-hidden=\"true\" d=\"\" pointer-events=\"none\" display=\"none\"/></g><g transform=\"translate(0,91)\"><path class=\"background\" aria-hidden=\"true\" d=\"M0,0h173v11h-173Z\" pointer-events=\"none\" opacity=\"1\"/><g><g class=\"mark-symbol role-legend-symbol\" pointer-events=\"none\"><path transform=\"translate(6,6)\" d=\"M5,0A5,5,0,1,1,-5,0A5,5,0,1,1,5,0\" fill=\"#ff9896\" stroke-width=\"1.5\" opacity=\"1\"/></g><g class=\"mark-text role-legend-label\" pointer-events=\"none\"><text text-anchor=\"start\" transform=\"translate(16,9)\" font-family=\"sans-serif\" font-size=\"10px\" fill=\"#000\" opacity=\"1\">natural_gas_fired_combustion_tur…</text></g></g><path class=\"foreground\" aria-hidden=\"true\" d=\"\" pointer-events=\"none\" display=\"none\"/></g></g></g><path class=\"foreground\" aria-hidden=\"true\" d=\"\" pointer-events=\"none\" display=\"none\"/></g></g><g class=\"mark-text role-legend-title\" pointer-events=\"none\"><text text-anchor=\"start\" transform=\"translate(0,9)\" font-family=\"sans-serif\" font-size=\"11px\" font-weight=\"bold\" fill=\"#000\" opacity=\"1\">resource</text></g></g><path class=\"foreground\" aria-hidden=\"true\" d=\"\" pointer-events=\"none\" display=\"none\"/></g></g></g><path class=\"foreground\" aria-hidden=\"true\" d=\"\" display=\"none\"/></g></g></g></svg>\n"
      ],
      "text/plain": [
       "@vlplot(\n",
       "    width=600,\n",
       "    height=600,\n",
       "    mark=\"area\",\n",
       "    encoding={\n",
       "        x={\n",
       "            field=\"hour\"\n",
       "        },\n",
       "        y={\n",
       "            stack=\"zero\",\n",
       "            field=\"gen_sum\"\n",
       "        },\n",
       "        color={\n",
       "            scale={\n",
       "                scheme=\"category20\"\n",
       "            },\n",
       "            field=\"resource\",\n",
       "            type=\"nominal\"\n",
       "        }\n",
       "    },\n",
       "    data={\n",
       "        values=...\n",
       "    }\n",
       ")"
      ]
     },
     "execution_count": 63,
     "metadata": {},
     "output_type": "execute_result"
    }
   ],
   "source": [
    "# Increase solar photovoltaic capacity\n",
    "gen_df_sens = copy(gen_df)\n",
    "gen_df_sens[gen_df_sens.resource .== \"solar_photovoltaic\",\n",
    "    :existing_cap_mw] .= 3500\n",
    "\n",
    "solution = economic_dispatch_multi_time(gen_df_sens, loads_multi, gen_variable_multi);\n",
    "\n",
    "sol_gen = innerjoin(solution.solution, \n",
    "                    gen_df[!, [:r_id, :resource]], \n",
    "                    on = :r_id)\n",
    "\n",
    "sol_gen = combine(groupby(sol_gen, [:resource, :hour]), \n",
    "            :gen => sum)\n",
    "sol_gen_btm = copy(sol_gen)\n",
    "sol_gen_btm[sol_gen_btm.resource .== \"solar_photovoltaic\", :resource] .= \"_solar_photovoltaic\"\n",
    "sol_gen_btm[sol_gen_btm.resource .== \"onshore_wind_turbine\", :resource] .= \"_onshore_wind_turbine\"\n",
    "sol_gen_btm[sol_gen_btm.resource .== \"small_hydroelectric\", :resource] .= \"_small_hydroelectric\"\n",
    "\n",
    "btm = DataFrame(resource = repeat([\"_solar_photovoltaic_btm\"]; outer=length(T_period)), \n",
    "    hour = T_period,\n",
    "    gen_sum = gen_variable_multi[gen_variable_multi.gen_full .== \"wec_sdge_solar_photovoltaic_1.0\",:cf] * 600)\n",
    "append!(sol_gen_btm, btm)\n",
    "\n",
    "# Reorder resources\n",
    "sort!(sol_gen_btm, [:hour, :resource])\n",
    "\n",
    "# Plot and save the resulting generation figure\n",
    "p = sol_gen_btm |>\n",
    "@vlplot(:area, \n",
    "    x=:hour, y={:gen_sum, stack=:zero}, \n",
    "    color={\"resource:n\", scale={scheme=\"category20\"}},\n",
    "    width=600,height=600)\n",
    "p\n",
    "     "
   ]
  },
  {
   "cell_type": "code",
   "execution_count": 64,
   "id": "08147f51",
   "metadata": {},
   "outputs": [
    {
     "data": {
      "application/vnd.vegalite.v4+json": {
       "data": {
        "values": [
         {
          "gen": 0,
          "hour": 1,
          "r_id": 3,
          "resource": "natural_gas_fired_combined_cycle"
         },
         {
          "gen": 0,
          "hour": 1,
          "r_id": 4,
          "resource": "natural_gas_fired_combined_cycle"
         },
         {
          "gen": 0,
          "hour": 1,
          "r_id": 5,
          "resource": "natural_gas_fired_combined_cycle"
         },
         {
          "gen": 0,
          "hour": 1,
          "r_id": 6,
          "resource": "natural_gas_fired_combined_cycle"
         },
         {
          "gen": 0,
          "hour": 1,
          "r_id": 7,
          "resource": "natural_gas_fired_combined_cycle"
         },
         {
          "gen": 0,
          "hour": 1,
          "r_id": 8,
          "resource": "natural_gas_fired_combined_cycle"
         },
         {
          "gen": 0,
          "hour": 2,
          "r_id": 3,
          "resource": "natural_gas_fired_combined_cycle"
         },
         {
          "gen": 0,
          "hour": 2,
          "r_id": 4,
          "resource": "natural_gas_fired_combined_cycle"
         },
         {
          "gen": 0,
          "hour": 2,
          "r_id": 5,
          "resource": "natural_gas_fired_combined_cycle"
         },
         {
          "gen": 0,
          "hour": 2,
          "r_id": 6,
          "resource": "natural_gas_fired_combined_cycle"
         },
         {
          "gen": 0,
          "hour": 2,
          "r_id": 7,
          "resource": "natural_gas_fired_combined_cycle"
         },
         {
          "gen": 0,
          "hour": 2,
          "r_id": 8,
          "resource": "natural_gas_fired_combined_cycle"
         },
         {
          "gen": 0,
          "hour": 3,
          "r_id": 3,
          "resource": "natural_gas_fired_combined_cycle"
         },
         {
          "gen": 0,
          "hour": 3,
          "r_id": 4,
          "resource": "natural_gas_fired_combined_cycle"
         },
         {
          "gen": 0,
          "hour": 3,
          "r_id": 5,
          "resource": "natural_gas_fired_combined_cycle"
         },
         {
          "gen": 0,
          "hour": 3,
          "r_id": 6,
          "resource": "natural_gas_fired_combined_cycle"
         },
         {
          "gen": 0,
          "hour": 3,
          "r_id": 7,
          "resource": "natural_gas_fired_combined_cycle"
         },
         {
          "gen": 0,
          "hour": 3,
          "r_id": 8,
          "resource": "natural_gas_fired_combined_cycle"
         },
         {
          "gen": 0,
          "hour": 4,
          "r_id": 3,
          "resource": "natural_gas_fired_combined_cycle"
         },
         {
          "gen": 0,
          "hour": 4,
          "r_id": 4,
          "resource": "natural_gas_fired_combined_cycle"
         },
         {
          "gen": 0,
          "hour": 4,
          "r_id": 5,
          "resource": "natural_gas_fired_combined_cycle"
         },
         {
          "gen": 0,
          "hour": 4,
          "r_id": 6,
          "resource": "natural_gas_fired_combined_cycle"
         },
         {
          "gen": 0,
          "hour": 4,
          "r_id": 7,
          "resource": "natural_gas_fired_combined_cycle"
         },
         {
          "gen": 0,
          "hour": 4,
          "r_id": 8,
          "resource": "natural_gas_fired_combined_cycle"
         },
         {
          "gen": 0,
          "hour": 5,
          "r_id": 3,
          "resource": "natural_gas_fired_combined_cycle"
         },
         {
          "gen": 0,
          "hour": 5,
          "r_id": 4,
          "resource": "natural_gas_fired_combined_cycle"
         },
         {
          "gen": 0,
          "hour": 5,
          "r_id": 5,
          "resource": "natural_gas_fired_combined_cycle"
         },
         {
          "gen": 0,
          "hour": 5,
          "r_id": 6,
          "resource": "natural_gas_fired_combined_cycle"
         },
         {
          "gen": 0,
          "hour": 5,
          "r_id": 7,
          "resource": "natural_gas_fired_combined_cycle"
         },
         {
          "gen": 0,
          "hour": 5,
          "r_id": 8,
          "resource": "natural_gas_fired_combined_cycle"
         },
         {
          "gen": 0,
          "hour": 6,
          "r_id": 3,
          "resource": "natural_gas_fired_combined_cycle"
         },
         {
          "gen": 0,
          "hour": 6,
          "r_id": 4,
          "resource": "natural_gas_fired_combined_cycle"
         },
         {
          "gen": 0,
          "hour": 6,
          "r_id": 5,
          "resource": "natural_gas_fired_combined_cycle"
         },
         {
          "gen": 0,
          "hour": 6,
          "r_id": 6,
          "resource": "natural_gas_fired_combined_cycle"
         },
         {
          "gen": 0,
          "hour": 6,
          "r_id": 7,
          "resource": "natural_gas_fired_combined_cycle"
         },
         {
          "gen": 0,
          "hour": 6,
          "r_id": 8,
          "resource": "natural_gas_fired_combined_cycle"
         },
         {
          "gen": 0,
          "hour": 7,
          "r_id": 3,
          "resource": "natural_gas_fired_combined_cycle"
         },
         {
          "gen": 0,
          "hour": 7,
          "r_id": 4,
          "resource": "natural_gas_fired_combined_cycle"
         },
         {
          "gen": 0,
          "hour": 7,
          "r_id": 5,
          "resource": "natural_gas_fired_combined_cycle"
         },
         {
          "gen": 0,
          "hour": 7,
          "r_id": 6,
          "resource": "natural_gas_fired_combined_cycle"
         },
         {
          "gen": 0,
          "hour": 7,
          "r_id": 7,
          "resource": "natural_gas_fired_combined_cycle"
         },
         {
          "gen": 0,
          "hour": 7,
          "r_id": 8,
          "resource": "natural_gas_fired_combined_cycle"
         },
         {
          "gen": 0,
          "hour": 8,
          "r_id": 3,
          "resource": "natural_gas_fired_combined_cycle"
         },
         {
          "gen": 0,
          "hour": 8,
          "r_id": 4,
          "resource": "natural_gas_fired_combined_cycle"
         },
         {
          "gen": 0,
          "hour": 8,
          "r_id": 5,
          "resource": "natural_gas_fired_combined_cycle"
         },
         {
          "gen": 0,
          "hour": 8,
          "r_id": 6,
          "resource": "natural_gas_fired_combined_cycle"
         },
         {
          "gen": 0,
          "hour": 8,
          "r_id": 7,
          "resource": "natural_gas_fired_combined_cycle"
         },
         {
          "gen": 0,
          "hour": 8,
          "r_id": 8,
          "resource": "natural_gas_fired_combined_cycle"
         }
        ]
       },
       "encoding": {
        "color": {
         "field": "r_id",
         "scale": {
          "scheme": "category20"
         },
         "type": "nominal"
        },
        "x": {
         "field": "hour",
         "type": "quantitative"
        },
        "y": {
         "field": "gen",
         "title": "Marginal",
         "type": "quantitative"
        }
       },
       "mark": "line"
      },
      "image/png": "[encoded data removed]",
      "image/svg+xml": [
       "<?xml version=\"1.0\" encoding=\"utf-8\"?>\n",
       "<!DOCTYPE svg PUBLIC \"-//W3C//DTD SVG 1.1//EN\" \"http://www.w3.org/Graphics/SVG/1.1/DTD/svg11.dtd\">\n",
       "<svg xmlns=\"http://www.w3.org/2000/svg\" xmlns:xlink=\"http://www.w3.org/1999/xlink\" version=\"1.1\" class=\"marks\" width=\"279\" height=\"242\" viewBox=\"0 0 279 242\"><rect width=\"279\" height=\"242\" fill=\"white\"/><g fill=\"none\" stroke-miterlimit=\"10\" transform=\"translate(32,5)\"><g class=\"mark-group role-frame root\" role=\"graphics-object\" aria-roledescription=\"group mark container\"><g transform=\"translate(0,0)\"><path class=\"background\" aria-hidden=\"true\" d=\"M0.5,0.5h200v200h-200Z\" stroke=\"#ddd\"/><g><g class=\"mark-group role-axis\" aria-hidden=\"true\"><g transform=\"translate(0.5,200.5)\"><path class=\"background\" aria-hidden=\"true\" d=\"M0,0h0v0h0Z\" pointer-events=\"none\"/><g><g class=\"mark-rule role-axis-grid\" pointer-events=\"none\"><line transform=\"translate(0,-200)\" x2=\"0\" y2=\"200\" stroke=\"#ddd\" stroke-width=\"1\" opacity=\"1\"/><line transform=\"translate(29,-200)\" x2=\"0\" y2=\"200\" stroke=\"#ddd\" stroke-width=\"1\" opacity=\"1\"/><line transform=\"translate(57,-200)\" x2=\"0\" y2=\"200\" stroke=\"#ddd\" stroke-width=\"1\" opacity=\"1\"/><line transform=\"translate(86,-200)\" x2=\"0\" y2=\"200\" stroke=\"#ddd\" stroke-width=\"1\" opacity=\"1\"/><line transform=\"translate(114,-200)\" x2=\"0\" y2=\"200\" stroke=\"#ddd\" stroke-width=\"1\" opacity=\"1\"/><line transform=\"translate(143,-200)\" x2=\"0\" y2=\"200\" stroke=\"#ddd\" stroke-width=\"1\" opacity=\"1\"/><line transform=\"translate(171,-200)\" x2=\"0\" y2=\"200\" stroke=\"#ddd\" stroke-width=\"1\" opacity=\"1\"/><line transform=\"translate(200,-200)\" x2=\"0\" y2=\"200\" stroke=\"#ddd\" stroke-width=\"1\" opacity=\"1\"/></g></g><path class=\"foreground\" aria-hidden=\"true\" d=\"\" pointer-events=\"none\" display=\"none\"/></g></g><g class=\"mark-group role-axis\" aria-hidden=\"true\"><g transform=\"translate(0.5,0.5)\"><path class=\"background\" aria-hidden=\"true\" d=\"M0,0h0v0h0Z\" pointer-events=\"none\"/><g><g class=\"mark-rule role-axis-grid\" pointer-events=\"none\"><line transform=\"translate(0,100)\" x2=\"200\" y2=\"0\" stroke=\"#ddd\" stroke-width=\"1\" opacity=\"1\"/></g></g><path class=\"foreground\" aria-hidden=\"true\" d=\"\" pointer-events=\"none\" display=\"none\"/></g></g><g class=\"mark-group role-axis\" role=\"graphics-symbol\" aria-roledescription=\"axis\" aria-label=\"X-axis titled 'hour' for a linear scale with values from 1 to 8\"><g transform=\"translate(0.5,200.5)\"><path class=\"background\" aria-hidden=\"true\" d=\"M0,0h0v0h0Z\" pointer-events=\"none\"/><g><g class=\"mark-rule role-axis-tick\" pointer-events=\"none\"><line transform=\"translate(0,0)\" x2=\"0\" y2=\"5\" stroke=\"#888\" stroke-width=\"1\" opacity=\"1\"/><line transform=\"translate(29,0)\" x2=\"0\" y2=\"5\" stroke=\"#888\" stroke-width=\"1\" opacity=\"1\"/><line transform=\"translate(57,0)\" x2=\"0\" y2=\"5\" stroke=\"#888\" stroke-width=\"1\" opacity=\"1\"/><line transform=\"translate(86,0)\" x2=\"0\" y2=\"5\" stroke=\"#888\" stroke-width=\"1\" opacity=\"1\"/><line transform=\"translate(114,0)\" x2=\"0\" y2=\"5\" stroke=\"#888\" stroke-width=\"1\" opacity=\"1\"/><line transform=\"translate(143,0)\" x2=\"0\" y2=\"5\" stroke=\"#888\" stroke-width=\"1\" opacity=\"1\"/><line transform=\"translate(171,0)\" x2=\"0\" y2=\"5\" stroke=\"#888\" stroke-width=\"1\" opacity=\"1\"/><line transform=\"translate(200,0)\" x2=\"0\" y2=\"5\" stroke=\"#888\" stroke-width=\"1\" opacity=\"1\"/></g><g class=\"mark-text role-axis-label\" pointer-events=\"none\"><text text-anchor=\"start\" transform=\"translate(0,15)\" font-family=\"sans-serif\" font-size=\"10px\" fill=\"#000\" opacity=\"1\">1</text><text text-anchor=\"middle\" transform=\"translate(28.57142857142857,15)\" font-family=\"sans-serif\" font-size=\"10px\" fill=\"#000\" opacity=\"1\">2</text><text text-anchor=\"middle\" transform=\"translate(57.14285714285714,15)\" font-family=\"sans-serif\" font-size=\"10px\" fill=\"#000\" opacity=\"1\">3</text><text text-anchor=\"middle\" transform=\"translate(85.71428571428571,15)\" font-family=\"sans-serif\" font-size=\"10px\" fill=\"#000\" opacity=\"1\">4</text><text text-anchor=\"middle\" transform=\"translate(114.28571428571428,15)\" font-family=\"sans-serif\" font-size=\"10px\" fill=\"#000\" opacity=\"1\">5</text><text text-anchor=\"middle\" transform=\"translate(142.85714285714286,15)\" font-family=\"sans-serif\" font-size=\"10px\" fill=\"#000\" opacity=\"1\">6</text><text text-anchor=\"middle\" transform=\"translate(171.42857142857142,15)\" font-family=\"sans-serif\" font-size=\"10px\" fill=\"#000\" opacity=\"1\">7</text><text text-anchor=\"end\" transform=\"translate(200,15)\" font-family=\"sans-serif\" font-size=\"10px\" fill=\"#000\" opacity=\"1\">8</text></g><g class=\"mark-rule role-axis-domain\" pointer-events=\"none\"><line transform=\"translate(0,0)\" x2=\"200\" y2=\"0\" stroke=\"#888\" stroke-width=\"1\" opacity=\"1\"/></g><g class=\"mark-text role-axis-title\" pointer-events=\"none\"><text text-anchor=\"middle\" transform=\"translate(100,30)\" font-family=\"sans-serif\" font-size=\"11px\" font-weight=\"bold\" fill=\"#000\" opacity=\"1\">hour</text></g></g><path class=\"foreground\" aria-hidden=\"true\" d=\"\" pointer-events=\"none\" display=\"none\"/></g></g><g class=\"mark-group role-axis\" role=\"graphics-symbol\" aria-roledescription=\"axis\" aria-label=\"Y-axis titled 'Marginal' for a linear scale with values from 0 to 0\"><g transform=\"translate(0.5,0.5)\"><path class=\"background\" aria-hidden=\"true\" d=\"M0,0h0v0h0Z\" pointer-events=\"none\"/><g><g class=\"mark-rule role-axis-tick\" pointer-events=\"none\"><line transform=\"translate(0,100)\" x2=\"-5\" y2=\"0\" stroke=\"#888\" stroke-width=\"1\" opacity=\"1\"/></g><g class=\"mark-text role-axis-label\" pointer-events=\"none\"><text text-anchor=\"end\" transform=\"translate(-7,103)\" font-family=\"sans-serif\" font-size=\"10px\" fill=\"#000\" opacity=\"1\">0</text></g><g class=\"mark-rule role-axis-domain\" pointer-events=\"none\"><line transform=\"translate(0,200)\" x2=\"0\" y2=\"-200\" stroke=\"#888\" stroke-width=\"1\" opacity=\"1\"/></g><g class=\"mark-text role-axis-title\" pointer-events=\"none\"><text text-anchor=\"middle\" transform=\"translate(-16,100) rotate(-90) translate(0,-2)\" font-family=\"sans-serif\" font-size=\"11px\" font-weight=\"bold\" fill=\"#000\" opacity=\"1\">Marginal</text></g></g><path class=\"foreground\" aria-hidden=\"true\" d=\"\" pointer-events=\"none\" display=\"none\"/></g></g><g class=\"mark-group role-scope pathgroup\" role=\"graphics-object\" aria-roledescription=\"group mark container\"><g transform=\"translate(0,0)\"><path class=\"background\" aria-hidden=\"true\" d=\"M0,0h200v200h-200Z\"/><g><g class=\"mark-line role-mark marks\" role=\"graphics-object\" aria-roledescription=\"line mark container\"><path aria-label=\"hour: 1; Marginal: 0; r_id: 3\" role=\"graphics-symbol\" aria-roledescription=\"line mark\" d=\"M0,100L28.57142857142857,100L57.14285714285714,100L85.71428571428571,100L114.28571428571428,100L142.85714285714286,100L171.42857142857142,100L200,100\" stroke=\"#1f77b4\" stroke-width=\"2\"/></g></g><path class=\"foreground\" aria-hidden=\"true\" d=\"\" display=\"none\"/></g><g transform=\"translate(0,0)\"><path class=\"background\" aria-hidden=\"true\" d=\"M0,0h200v200h-200Z\"/><g><g class=\"mark-line role-mark marks\" role=\"graphics-object\" aria-roledescription=\"line mark container\"><path aria-label=\"hour: 1; Marginal: 0; r_id: 4\" role=\"graphics-symbol\" aria-roledescription=\"line mark\" d=\"M0,100L28.57142857142857,100L57.14285714285714,100L85.71428571428571,100L114.28571428571428,100L142.85714285714286,100L171.42857142857142,100L200,100\" stroke=\"#aec7e8\" stroke-width=\"2\"/></g></g><path class=\"foreground\" aria-hidden=\"true\" d=\"\" display=\"none\"/></g><g transform=\"translate(0,0)\"><path class=\"background\" aria-hidden=\"true\" d=\"M0,0h200v200h-200Z\"/><g><g class=\"mark-line role-mark marks\" role=\"graphics-object\" aria-roledescription=\"line mark container\"><path aria-label=\"hour: 1; Marginal: 0; r_id: 5\" role=\"graphics-symbol\" aria-roledescription=\"line mark\" d=\"M0,100L28.57142857142857,100L57.14285714285714,100L85.71428571428571,100L114.28571428571428,100L142.85714285714286,100L171.42857142857142,100L200,100\" stroke=\"#ff7f0e\" stroke-width=\"2\"/></g></g><path class=\"foreground\" aria-hidden=\"true\" d=\"\" display=\"none\"/></g><g transform=\"translate(0,0)\"><path class=\"background\" aria-hidden=\"true\" d=\"M0,0h200v200h-200Z\"/><g><g class=\"mark-line role-mark marks\" role=\"graphics-object\" aria-roledescription=\"line mark container\"><path aria-label=\"hour: 1; Marginal: 0; r_id: 6\" role=\"graphics-symbol\" aria-roledescription=\"line mark\" d=\"M0,100L28.57142857142857,100L57.14285714285714,100L85.71428571428571,100L114.28571428571428,100L142.85714285714286,100L171.42857142857142,100L200,100\" stroke=\"#ffbb78\" stroke-width=\"2\"/></g></g><path class=\"foreground\" aria-hidden=\"true\" d=\"\" display=\"none\"/></g><g transform=\"translate(0,0)\"><path class=\"background\" aria-hidden=\"true\" d=\"M0,0h200v200h-200Z\"/><g><g class=\"mark-line role-mark marks\" role=\"graphics-object\" aria-roledescription=\"line mark container\"><path aria-label=\"hour: 1; Marginal: 0; r_id: 7\" role=\"graphics-symbol\" aria-roledescription=\"line mark\" d=\"M0,100L28.57142857142857,100L57.14285714285714,100L85.71428571428571,100L114.28571428571428,100L142.85714285714286,100L171.42857142857142,100L200,100\" stroke=\"#2ca02c\" stroke-width=\"2\"/></g></g><path class=\"foreground\" aria-hidden=\"true\" d=\"\" display=\"none\"/></g><g transform=\"translate(0,0)\"><path class=\"background\" aria-hidden=\"true\" d=\"M0,0h200v200h-200Z\"/><g><g class=\"mark-line role-mark marks\" role=\"graphics-object\" aria-roledescription=\"line mark container\"><path aria-label=\"hour: 1; Marginal: 0; r_id: 8\" role=\"graphics-symbol\" aria-roledescription=\"line mark\" d=\"M0,100L28.57142857142857,100L57.14285714285714,100L85.71428571428571,100L114.28571428571428,100L142.85714285714286,100L171.42857142857142,100L200,100\" stroke=\"#98df8a\" stroke-width=\"2\"/></g></g><path class=\"foreground\" aria-hidden=\"true\" d=\"\" display=\"none\"/></g></g><g class=\"mark-group role-legend\" role=\"graphics-symbol\" aria-roledescription=\"legend\" aria-label=\"Symbol legend titled 'r_id' for stroke color with 6 values: 3, 4, 5, 6, 7, 8\"><g transform=\"translate(220,0)\"><path class=\"background\" aria-hidden=\"true\" d=\"M0,0h22v92h-22Z\" pointer-events=\"none\"/><g><g class=\"mark-group role-legend-entry\"><g transform=\"translate(0,16)\"><path class=\"background\" aria-hidden=\"true\" d=\"M0,0h0v0h0Z\" pointer-events=\"none\"/><g><g class=\"mark-group role-scope\" role=\"graphics-object\" aria-roledescription=\"group mark container\"><g transform=\"translate(0,0)\"><path class=\"background\" aria-hidden=\"true\" d=\"M0,0h21v11h-21Z\" pointer-events=\"none\" opacity=\"1\"/><g><g class=\"mark-symbol role-legend-symbol\" pointer-events=\"none\"><path transform=\"translate(6,6)\" d=\"M-5,0L5,0\" stroke=\"#1f77b4\" stroke-width=\"1.5\" opacity=\"1\"/></g><g class=\"mark-text role-legend-label\" pointer-events=\"none\"><text text-anchor=\"start\" transform=\"translate(16,9)\" font-family=\"sans-serif\" font-size=\"10px\" fill=\"#000\" opacity=\"1\">3</text></g></g><path class=\"foreground\" aria-hidden=\"true\" d=\"\" pointer-events=\"none\" display=\"none\"/></g><g transform=\"translate(0,13)\"><path class=\"background\" aria-hidden=\"true\" d=\"M0,0h21v11h-21Z\" pointer-events=\"none\" opacity=\"1\"/><g><g class=\"mark-symbol role-legend-symbol\" pointer-events=\"none\"><path transform=\"translate(6,6)\" d=\"M-5,0L5,0\" stroke=\"#aec7e8\" stroke-width=\"1.5\" opacity=\"1\"/></g><g class=\"mark-text role-legend-label\" pointer-events=\"none\"><text text-anchor=\"start\" transform=\"translate(16,9)\" font-family=\"sans-serif\" font-size=\"10px\" fill=\"#000\" opacity=\"1\">4</text></g></g><path class=\"foreground\" aria-hidden=\"true\" d=\"\" pointer-events=\"none\" display=\"none\"/></g><g transform=\"translate(0,26)\"><path class=\"background\" aria-hidden=\"true\" d=\"M0,0h21v11h-21Z\" pointer-events=\"none\" opacity=\"1\"/><g><g class=\"mark-symbol role-legend-symbol\" pointer-events=\"none\"><path transform=\"translate(6,6)\" d=\"M-5,0L5,0\" stroke=\"#ff7f0e\" stroke-width=\"1.5\" opacity=\"1\"/></g><g class=\"mark-text role-legend-label\" pointer-events=\"none\"><text text-anchor=\"start\" transform=\"translate(16,9)\" font-family=\"sans-serif\" font-size=\"10px\" fill=\"#000\" opacity=\"1\">5</text></g></g><path class=\"foreground\" aria-hidden=\"true\" d=\"\" pointer-events=\"none\" display=\"none\"/></g><g transform=\"translate(0,39)\"><path class=\"background\" aria-hidden=\"true\" d=\"M0,0h21v11h-21Z\" pointer-events=\"none\" opacity=\"1\"/><g><g class=\"mark-symbol role-legend-symbol\" pointer-events=\"none\"><path transform=\"translate(6,6)\" d=\"M-5,0L5,0\" stroke=\"#ffbb78\" stroke-width=\"1.5\" opacity=\"1\"/></g><g class=\"mark-text role-legend-label\" pointer-events=\"none\"><text text-anchor=\"start\" transform=\"translate(16,9)\" font-family=\"sans-serif\" font-size=\"10px\" fill=\"#000\" opacity=\"1\">6</text></g></g><path class=\"foreground\" aria-hidden=\"true\" d=\"\" pointer-events=\"none\" display=\"none\"/></g><g transform=\"translate(0,52)\"><path class=\"background\" aria-hidden=\"true\" d=\"M0,0h21v11h-21Z\" pointer-events=\"none\" opacity=\"1\"/><g><g class=\"mark-symbol role-legend-symbol\" pointer-events=\"none\"><path transform=\"translate(6,6)\" d=\"M-5,0L5,0\" stroke=\"#2ca02c\" stroke-width=\"1.5\" opacity=\"1\"/></g><g class=\"mark-text role-legend-label\" pointer-events=\"none\"><text text-anchor=\"start\" transform=\"translate(16,9)\" font-family=\"sans-serif\" font-size=\"10px\" fill=\"#000\" opacity=\"1\">7</text></g></g><path class=\"foreground\" aria-hidden=\"true\" d=\"\" pointer-events=\"none\" display=\"none\"/></g><g transform=\"translate(0,65)\"><path class=\"background\" aria-hidden=\"true\" d=\"M0,0h21v11h-21Z\" pointer-events=\"none\" opacity=\"1\"/><g><g class=\"mark-symbol role-legend-symbol\" pointer-events=\"none\"><path transform=\"translate(6,6)\" d=\"M-5,0L5,0\" stroke=\"#98df8a\" stroke-width=\"1.5\" opacity=\"1\"/></g><g class=\"mark-text role-legend-label\" pointer-events=\"none\"><text text-anchor=\"start\" transform=\"translate(16,9)\" font-family=\"sans-serif\" font-size=\"10px\" fill=\"#000\" opacity=\"1\">8</text></g></g><path class=\"foreground\" aria-hidden=\"true\" d=\"\" pointer-events=\"none\" display=\"none\"/></g></g></g><path class=\"foreground\" aria-hidden=\"true\" d=\"\" pointer-events=\"none\" display=\"none\"/></g></g><g class=\"mark-text role-legend-title\" pointer-events=\"none\"><text text-anchor=\"start\" transform=\"translate(0,9)\" font-family=\"sans-serif\" font-size=\"11px\" font-weight=\"bold\" fill=\"#000\" opacity=\"1\">r_id</text></g></g><path class=\"foreground\" aria-hidden=\"true\" d=\"\" pointer-events=\"none\" display=\"none\"/></g></g></g><path class=\"foreground\" aria-hidden=\"true\" d=\"\" display=\"none\"/></g></g></g></svg>\n"
      ],
      "text/plain": [
       "@vlplot(\n",
       "    mark=\"line\",\n",
       "    encoding={\n",
       "        x={\n",
       "            field=\"hour\"\n",
       "        },\n",
       "        y={\n",
       "            title=\"Marginal\",\n",
       "            field=\"gen\"\n",
       "        },\n",
       "        color={\n",
       "            scale={\n",
       "                scheme=\"category20\"\n",
       "            },\n",
       "            field=\"r_id\",\n",
       "            type=\"nominal\"\n",
       "        }\n",
       "    },\n",
       "    data={\n",
       "        values=...\n",
       "    }\n",
       ")"
      ]
     },
     "execution_count": 64,
     "metadata": {},
     "output_type": "execute_result"
    }
   ],
   "source": [
    "marg_gen = innerjoin(solution.marginals, \n",
    "                    gen_df[!, [:r_id, :resource]], \n",
    "                    on = :r_id)\n",
    "marg_gen[marg_gen.resource .== \"natural_gas_fired_combined_cycle\",:] |>\n",
    "@vlplot(:line, \n",
    "    x=:hour, y={:gen, title=\"Marginal\"}, \n",
    "    color={\"r_id:n\", scale={scheme=\"category20\"}})\n",
    "\n",
    "     "
   ]
  },
  {
   "cell_type": "code",
   "execution_count": 65,
   "id": "fd9f0007",
   "metadata": {},
   "outputs": [
    {
     "data": {
      "text/html": [
       "<div><div style = \"float: left;\"><span>DataFrameRow (4 columns)</span></div><div style = \"clear: both;\"></div></div><div class = \"data-frame\" style = \"overflow-x: scroll;\"><table class = \"data-frame\" style = \"margin-bottom: 6px;\"><thead><tr class = \"header\"><th class = \"rowLabel\" style = \"font-weight: bold; text-align: right;\">Row</th><th style = \"text-align: left;\">r_id</th><th style = \"text-align: left;\">hour</th><th style = \"text-align: left;\">gen</th><th style = \"text-align: left;\">resource</th></tr><tr class = \"subheader headerLastRow\"><th class = \"rowLabel\" style = \"font-weight: bold; text-align: right;\"></th><th title = \"Union{Missing, Int64}\" style = \"text-align: left;\">Int64?</th><th title = \"Int64\" style = \"text-align: left;\">Int64</th><th title = \"Float64\" style = \"text-align: left;\">Float64</th><th title = \"Union{Missing, String}\" style = \"text-align: left;\">String?</th></tr></thead><tbody><tr><td class = \"rowLabel\" style = \"font-weight: bold; text-align: right;\">1</td><td style = \"text-align: right;\">1</td><td style = \"text-align: right;\">1</td><td style = \"text-align: right;\">0.0</td><td style = \"text-align: left;\">biomass</td></tr></tbody></table></div>"
      ],
      "text/latex": [
       "\\begin{tabular}{r|cccc}\n",
       "\t& r\\_id & hour & gen & resource\\\\\n",
       "\t\\hline\n",
       "\t& Int64? & Int64 & Float64 & String?\\\\\n",
       "\t\\hline\n",
       "\t1 & 1 & 1 & 0.0 & biomass \\\\\n",
       "\\end{tabular}\n"
      ],
      "text/plain": [
       "\u001b[1mDataFrameRow\u001b[0m\n",
       "\u001b[1m Row \u001b[0m│\u001b[1m r_id   \u001b[0m\u001b[1m hour  \u001b[0m\u001b[1m gen     \u001b[0m\u001b[1m resource \u001b[0m\n",
       "     │\u001b[90m Int64? \u001b[0m\u001b[90m Int64 \u001b[0m\u001b[90m Float64 \u001b[0m\u001b[90m String?  \u001b[0m\n",
       "─────┼──────────────────────────────────\n",
       "   1 │      1      1      0.0  biomass"
      ]
     },
     "execution_count": 65,
     "metadata": {},
     "output_type": "execute_result"
    }
   ],
   "source": [
    "marg_gen[argmin(marg_gen.gen),:]"
   ]
  },
  {
   "cell_type": "code",
   "execution_count": 66,
   "id": "ba25fe06",
   "metadata": {},
   "outputs": [
    {
     "data": {
      "text/html": [
       "<div><div style = \"float: left;\"><span>2×2 DataFrame</span></div><div style = \"clear: both;\"></div></div><div class = \"data-frame\" style = \"overflow-x: scroll;\"><table class = \"data-frame\" style = \"margin-bottom: 6px;\"><thead><tr class = \"header\"><th class = \"rowNumber\" style = \"font-weight: bold; text-align: right;\">Row</th><th style = \"text-align: left;\">r_id</th><th style = \"text-align: left;\">varcost</th></tr><tr class = \"subheader headerLastRow\"><th class = \"rowNumber\" style = \"font-weight: bold; text-align: right;\"></th><th title = \"Union{Missing, Int64}\" style = \"text-align: left;\">Int64?</th><th title = \"Float64\" style = \"text-align: left;\">Float64</th></tr></thead><tbody><tr><td class = \"rowNumber\" style = \"font-weight: bold; text-align: right;\">1</td><td style = \"text-align: right;\">5</td><td style = \"text-align: right;\">29.3061</td></tr><tr><td class = \"rowNumber\" style = \"font-weight: bold; text-align: right;\">2</td><td style = \"text-align: right;\">9</td><td style = \"text-align: right;\">38.2733</td></tr></tbody></table></div>"
      ],
      "text/latex": [
       "\\begin{tabular}{r|cc}\n",
       "\t& r\\_id & varcost\\\\\n",
       "\t\\hline\n",
       "\t& Int64? & Float64\\\\\n",
       "\t\\hline\n",
       "\t1 & 5 & 29.3061 \\\\\n",
       "\t2 & 9 & 38.2733 \\\\\n",
       "\\end{tabular}\n"
      ],
      "text/plain": [
       "\u001b[1m2×2 DataFrame\u001b[0m\n",
       "\u001b[1m Row \u001b[0m│\u001b[1m r_id   \u001b[0m\u001b[1m varcost \u001b[0m\n",
       "     │\u001b[90m Int64? \u001b[0m\u001b[90m Float64 \u001b[0m\n",
       "─────┼─────────────────\n",
       "   1 │      5  29.3061\n",
       "   2 │      9  38.2733"
      ]
     },
     "execution_count": 66,
     "metadata": {},
     "output_type": "execute_result"
    }
   ],
   "source": [
    "varcost_comp = supply_curve[in.(supply_curve.r_id,Ref([5,9])),[:r_id,:varcost]]\n",
    "varcost_comp"
   ]
  },
  {
   "cell_type": "code",
   "execution_count": 67,
   "id": "4104ac01",
   "metadata": {},
   "outputs": [
    {
     "data": {
      "text/plain": [
       "8.967199999999998"
      ]
     },
     "execution_count": 67,
     "metadata": {},
     "output_type": "execute_result"
    }
   ],
   "source": [
    "varcost_comp[2,2] - varcost_comp[1,2]"
   ]
  },
  {
   "cell_type": "code",
   "execution_count": null,
   "id": "0b698593",
   "metadata": {},
   "outputs": [],
   "source": []
  }
 ],
 "metadata": {
  "kernelspec": {
   "display_name": "Julia 1.8.4",
   "language": "julia",
   "name": "julia-1.8"
  },
  "language_info": {
   "file_extension": ".jl",
   "mimetype": "application/julia",
   "name": "julia",
   "version": "1.8.4"
  }
 },
 "nbformat": 4,
 "nbformat_minor": 5
}

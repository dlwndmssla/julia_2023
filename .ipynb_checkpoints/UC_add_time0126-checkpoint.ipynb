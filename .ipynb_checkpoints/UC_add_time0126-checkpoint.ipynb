{
 "cells": [
  {
   "cell_type": "code",
   "execution_count": 1,
   "id": "5256de4f",
   "metadata": {},
   "outputs": [],
   "source": [
    "using JuMP, HiGHS\n",
    "using Plots; plotly();\n",
    "using VegaLite  # to make some nice plots\n",
    "using DataFrames, CSV, PrettyTables\n",
    "using FileIO\n",
    "using PlotlyKaleido\n",
    "ENV[\"COLUMNS\"]=120;"
   ]
  },
  {
   "cell_type": "code",
   "execution_count": 2,
   "id": "9b9303df",
   "metadata": {},
   "outputs": [],
   "source": [
    "##########Single-time period, simple generator constraints################\n",
    "\n",
    "\n",
    "datadir = joinpath(\"ed_data\") \n",
    "# Note: joinpath is a good way to create path reference that is agnostic\n",
    "# to what file system you are using (e.g. whether directories are denoted \n",
    "# with a forward or backwards slash).\n",
    "gen_info = CSV.read(joinpath(datadir,\"Generators_data.csv\"), DataFrame);\n",
    "fuels = CSV.read(joinpath(datadir,\"Fuels_data.csv\"), DataFrame);\n",
    "loads = CSV.read(joinpath(datadir,\"Demand.csv\"), DataFrame);\n",
    "gen_variable = CSV.read(joinpath(datadir,\"Generators_variability.csv\"), DataFrame);\n"
   ]
  },
  {
   "cell_type": "code",
   "execution_count": 3,
   "id": "8fbda247",
   "metadata": {},
   "outputs": [],
   "source": [
    "# Rename all columns to lowercase (by convention)\n",
    "for f in [gen_info, fuels, loads, gen_variable]\n",
    "    rename!(f,lowercase.(names(f)))\n",
    "end\n",
    "     "
   ]
  },
  {
   "cell_type": "code",
   "execution_count": 4,
   "id": "55c20887",
   "metadata": {},
   "outputs": [
    {
     "data": {
      "text/plain": [
       "0-element view(::Vector{Union{Missing, Float64}}, Int64[]) with eltype Union{Missing, Float64}"
      ]
     },
     "execution_count": 4,
     "metadata": {},
     "output_type": "execute_result"
    }
   ],
   "source": [
    "# Keep only the columns relevant to our ED model \n",
    "# (We'll come back to other columns in our unit commitment notebooks)\n",
    "select!(gen_info, 1:26, :stor) \n",
    "gen_df = outerjoin(gen_info,  fuels, on = :fuel) # load in fuel costs and add to data frame\n",
    "rename!(gen_df, :cost_per_mmbtu => :fuel_cost)   # rename column for fuel cost\n",
    "gen_df[ismissing.(gen_df[:,:fuel_cost]), :fuel_cost] .= 0"
   ]
  },
  {
   "cell_type": "code",
   "execution_count": 5,
   "id": "248d3ae4",
   "metadata": {},
   "outputs": [],
   "source": [
    "\n",
    "# create \"is_variable\" column to indicate if this is a variable generation source (e.g. wind, solar)\n",
    "# Note: Julia's strict vectorization syntax requires us to create a new variable using the '!' indexing operator\n",
    "# and the '.=' broadcasting assignment. See: https://julia.guide/broadcasting\n",
    "gen_df[!, :is_variable] .= false\n",
    "gen_df[in([\"onshore_wind_turbine\",\"small_hydroelectric\",\"solar_photovoltaic\"]).(gen_df.resource),\n",
    "    :is_variable] .= true;"
   ]
  },
  {
   "cell_type": "code",
   "execution_count": 6,
   "id": "175ef25e",
   "metadata": {},
   "outputs": [],
   "source": [
    "\n",
    "# create full name of generator (including geographic location and cluster number)\n",
    "#  for use with variable generation dataframe\n",
    "gen_df.gen_full = lowercase.(gen_df.region .* \"_\" .* gen_df.resource .* \"_\" .* string.(gen_df.cluster) .* \".0\");\n",
    "\n",
    "# remove generators with no capacity (e.g. new build options that we'd use if this was capacity expansion problem)\n",
    "gen_df = gen_df[gen_df.existing_cap_mw .> 0,:];\n"
   ]
  },
  {
   "cell_type": "code",
   "execution_count": 7,
   "id": "4f5de895",
   "metadata": {},
   "outputs": [
    {
     "data": {
      "text/html": [
       "<div><div style = \"float: left;\"><span>5×5 DataFrame</span></div><div style = \"clear: both;\"></div></div><div class = \"data-frame\" style = \"overflow-x: scroll;\"><table class = \"data-frame\" style = \"margin-bottom: 6px;\"><thead><tr class = \"header\"><th class = \"rowNumber\" style = \"font-weight: bold; text-align: right;\">Row</th><th style = \"text-align: left;\">r_id</th><th style = \"text-align: left;\">resource</th><th style = \"text-align: left;\">region</th><th style = \"text-align: left;\">existing_cap_mw</th><th style = \"text-align: left;\">num_units</th></tr><tr class = \"subheader headerLastRow\"><th class = \"rowNumber\" style = \"font-weight: bold; text-align: right;\"></th><th title = \"Union{Missing, Int64}\" style = \"text-align: left;\">Int64?</th><th title = \"Union{Missing, String}\" style = \"text-align: left;\">String?</th><th title = \"Union{Missing, String15}\" style = \"text-align: left;\">String15?</th><th title = \"Union{Missing, Float64}\" style = \"text-align: left;\">Float64?</th><th title = \"Union{Missing, Int64}\" style = \"text-align: left;\">Int64?</th></tr></thead><tbody><tr><td class = \"rowNumber\" style = \"font-weight: bold; text-align: right;\">1</td><td style = \"text-align: right;\">1</td><td style = \"text-align: left;\">biomass</td><td style = \"text-align: left;\">WEC_SDGE</td><td style = \"text-align: right;\">21.4</td><td style = \"text-align: right;\">20</td></tr><tr><td class = \"rowNumber\" style = \"font-weight: bold; text-align: right;\">2</td><td style = \"text-align: right;\">2</td><td style = \"text-align: left;\">hydroelectric_pumped_storage</td><td style = \"text-align: left;\">WEC_SDGE</td><td style = \"text-align: right;\">42.0</td><td style = \"text-align: right;\">2</td></tr><tr><td class = \"rowNumber\" style = \"font-weight: bold; text-align: right;\">3</td><td style = \"text-align: right;\">3</td><td style = \"text-align: left;\">natural_gas_fired_combined_cycle</td><td style = \"text-align: left;\">WEC_SDGE</td><td style = \"text-align: right;\">607.1</td><td style = \"text-align: right;\">1</td></tr><tr><td class = \"rowNumber\" style = \"font-weight: bold; text-align: right;\">4</td><td style = \"text-align: right;\">4</td><td style = \"text-align: left;\">natural_gas_fired_combined_cycle</td><td style = \"text-align: left;\">WEC_SDGE</td><td style = \"text-align: right;\">30.0</td><td style = \"text-align: right;\">1</td></tr><tr><td class = \"rowNumber\" style = \"font-weight: bold; text-align: right;\">5</td><td style = \"text-align: right;\">5</td><td style = \"text-align: left;\">natural_gas_fired_combined_cycle</td><td style = \"text-align: left;\">WEC_SDGE</td><td style = \"text-align: right;\">49.4</td><td style = \"text-align: right;\">1</td></tr></tbody></table></div>"
      ],
      "text/latex": [
       "\\begin{tabular}{r|ccccc}\n",
       "\t& r\\_id & resource & region & existing\\_cap\\_mw & num\\_units\\\\\n",
       "\t\\hline\n",
       "\t& Int64? & String? & String15? & Float64? & Int64?\\\\\n",
       "\t\\hline\n",
       "\t1 & 1 & biomass & WEC\\_SDGE & 21.4 & 20 \\\\\n",
       "\t2 & 2 & hydroelectric\\_pumped\\_storage & WEC\\_SDGE & 42.0 & 2 \\\\\n",
       "\t3 & 3 & natural\\_gas\\_fired\\_combined\\_cycle & WEC\\_SDGE & 607.1 & 1 \\\\\n",
       "\t4 & 4 & natural\\_gas\\_fired\\_combined\\_cycle & WEC\\_SDGE & 30.0 & 1 \\\\\n",
       "\t5 & 5 & natural\\_gas\\_fired\\_combined\\_cycle & WEC\\_SDGE & 49.4 & 1 \\\\\n",
       "\\end{tabular}\n"
      ],
      "text/plain": [
       "\u001b[1m5×5 DataFrame\u001b[0m\n",
       "\u001b[1m Row \u001b[0m│\u001b[1m r_id   \u001b[0m\u001b[1m resource                         \u001b[0m\u001b[1m region    \u001b[0m\u001b[1m existing_cap_mw \u001b[0m\u001b[1m num_units \u001b[0m\n",
       "     │\u001b[90m Int64? \u001b[0m\u001b[90m String?                          \u001b[0m\u001b[90m String15? \u001b[0m\u001b[90m Float64?        \u001b[0m\u001b[90m Int64?    \u001b[0m\n",
       "─────┼─────────────────────────────────────────────────────────────────────────────────\n",
       "   1 │      1  biomass                           WEC_SDGE              21.4         20\n",
       "   2 │      2  hydroelectric_pumped_storage      WEC_SDGE              42.0          2\n",
       "   3 │      3  natural_gas_fired_combined_cycle  WEC_SDGE             607.1          1\n",
       "   4 │      4  natural_gas_fired_combined_cycle  WEC_SDGE              30.0          1\n",
       "   5 │      5  natural_gas_fired_combined_cycle  WEC_SDGE              49.4          1"
      ]
     },
     "execution_count": 7,
     "metadata": {},
     "output_type": "execute_result"
    }
   ],
   "source": [
    "df = gen_df[1:5,1:5]"
   ]
  },
  {
   "cell_type": "code",
   "execution_count": 8,
   "id": "8db2744c",
   "metadata": {},
   "outputs": [
    {
     "data": {
      "text/html": [
       "<div><div style = \"float: left;\"><span>5×5 DataFrame</span></div><div style = \"clear: both;\"></div></div><div class = \"data-frame\" style = \"overflow-x: scroll;\"><table class = \"data-frame\" style = \"margin-bottom: 6px;\"><thead><tr class = \"header\"><th class = \"rowNumber\" style = \"font-weight: bold; text-align: right;\">Row</th><th style = \"text-align: left;\">r_id</th><th style = \"text-align: left;\">resource</th><th style = \"text-align: left;\">region</th><th style = \"text-align: left;\">existing_cap_mw</th><th style = \"text-align: left;\">num_units</th></tr><tr class = \"subheader headerLastRow\"><th class = \"rowNumber\" style = \"font-weight: bold; text-align: right;\"></th><th title = \"Union{Missing, Int64}\" style = \"text-align: left;\">Int64?</th><th title = \"Union{Missing, String}\" style = \"text-align: left;\">String?</th><th title = \"Union{Missing, String15}\" style = \"text-align: left;\">String15?</th><th title = \"Union{Missing, Float64}\" style = \"text-align: left;\">Float64?</th><th title = \"Union{Missing, Int64}\" style = \"text-align: left;\">Int64?</th></tr></thead><tbody><tr><td class = \"rowNumber\" style = \"font-weight: bold; text-align: right;\">1</td><td style = \"text-align: right;\">1</td><td style = \"text-align: left;\">biomass</td><td style = \"text-align: left;\">WEC_SDGE</td><td style = \"text-align: right;\">21.4</td><td style = \"text-align: right;\">20</td></tr><tr><td class = \"rowNumber\" style = \"font-weight: bold; text-align: right;\">2</td><td style = \"text-align: right;\">2</td><td style = \"text-align: left;\">hydroelectric_pumped_storage</td><td style = \"text-align: left;\">WEC_SDGE</td><td style = \"text-align: right;\">42.0</td><td style = \"text-align: right;\">2</td></tr><tr><td class = \"rowNumber\" style = \"font-weight: bold; text-align: right;\">3</td><td style = \"text-align: right;\">3</td><td style = \"text-align: left;\">natural_gas_fired_combined_cycle</td><td style = \"text-align: left;\">WEC_SDGE</td><td style = \"text-align: right;\">607.1</td><td style = \"text-align: right;\">1</td></tr><tr><td class = \"rowNumber\" style = \"font-weight: bold; text-align: right;\">4</td><td style = \"text-align: right;\">4</td><td style = \"text-align: left;\">natural_gas_fired_combined_cycle</td><td style = \"text-align: left;\">WEC_SDGE</td><td style = \"text-align: right;\">30.0</td><td style = \"text-align: right;\">1</td></tr><tr><td class = \"rowNumber\" style = \"font-weight: bold; text-align: right;\">5</td><td style = \"text-align: right;\">5</td><td style = \"text-align: left;\">natural_gas_fired_combined_cycle</td><td style = \"text-align: left;\">WEC_SDGE</td><td style = \"text-align: right;\">49.4</td><td style = \"text-align: right;\">1</td></tr></tbody></table></div>"
      ],
      "text/latex": [
       "\\begin{tabular}{r|ccccc}\n",
       "\t& r\\_id & resource & region & existing\\_cap\\_mw & num\\_units\\\\\n",
       "\t\\hline\n",
       "\t& Int64? & String? & String15? & Float64? & Int64?\\\\\n",
       "\t\\hline\n",
       "\t1 & 1 & biomass & WEC\\_SDGE & 21.4 & 20 \\\\\n",
       "\t2 & 2 & hydroelectric\\_pumped\\_storage & WEC\\_SDGE & 42.0 & 2 \\\\\n",
       "\t3 & 3 & natural\\_gas\\_fired\\_combined\\_cycle & WEC\\_SDGE & 607.1 & 1 \\\\\n",
       "\t4 & 4 & natural\\_gas\\_fired\\_combined\\_cycle & WEC\\_SDGE & 30.0 & 1 \\\\\n",
       "\t5 & 5 & natural\\_gas\\_fired\\_combined\\_cycle & WEC\\_SDGE & 49.4 & 1 \\\\\n",
       "\\end{tabular}\n"
      ],
      "text/plain": [
       "\u001b[1m5×5 DataFrame\u001b[0m\n",
       "\u001b[1m Row \u001b[0m│\u001b[1m r_id   \u001b[0m\u001b[1m resource                         \u001b[0m\u001b[1m region    \u001b[0m\u001b[1m existing_cap_mw \u001b[0m\u001b[1m num_units \u001b[0m\n",
       "     │\u001b[90m Int64? \u001b[0m\u001b[90m String?                          \u001b[0m\u001b[90m String15? \u001b[0m\u001b[90m Float64?        \u001b[0m\u001b[90m Int64?    \u001b[0m\n",
       "─────┼─────────────────────────────────────────────────────────────────────────────────\n",
       "   1 │      1  biomass                           WEC_SDGE              21.4         20\n",
       "   2 │      2  hydroelectric_pumped_storage      WEC_SDGE              42.0          2\n",
       "   3 │      3  natural_gas_fired_combined_cycle  WEC_SDGE             607.1          1\n",
       "   4 │      4  natural_gas_fired_combined_cycle  WEC_SDGE              30.0          1\n",
       "   5 │      5  natural_gas_fired_combined_cycle  WEC_SDGE              49.4          1"
      ]
     },
     "execution_count": 8,
     "metadata": {},
     "output_type": "execute_result"
    }
   ],
   "source": [
    "df = copy(gen_df)\n",
    "select!(df, 1:5)\n",
    "df = df[1:5,:]"
   ]
  },
  {
   "cell_type": "code",
   "execution_count": 9,
   "id": "12853996",
   "metadata": {},
   "outputs": [
    {
     "data": {
      "text/html": [
       "<div><div style = \"float: left;\"><span>10×5 DataFrame</span></div><div style = \"clear: both;\"></div></div><div class = \"data-frame\" style = \"overflow-x: scroll;\"><table class = \"data-frame\" style = \"margin-bottom: 6px;\"><thead><tr class = \"header\"><th class = \"rowNumber\" style = \"font-weight: bold; text-align: right;\">Row</th><th style = \"text-align: left;\">r_id</th><th style = \"text-align: left;\">resource</th><th style = \"text-align: left;\">region</th><th style = \"text-align: left;\">var</th><th style = \"text-align: left;\">val</th></tr><tr class = \"subheader headerLastRow\"><th class = \"rowNumber\" style = \"font-weight: bold; text-align: right;\"></th><th title = \"Union{Missing, Int64}\" style = \"text-align: left;\">Int64?</th><th title = \"Union{Missing, String}\" style = \"text-align: left;\">String?</th><th title = \"Union{Missing, String15}\" style = \"text-align: left;\">String15?</th><th title = \"String\" style = \"text-align: left;\">String</th><th title = \"Union{Missing, Float64}\" style = \"text-align: left;\">Float64?</th></tr></thead><tbody><tr><td class = \"rowNumber\" style = \"font-weight: bold; text-align: right;\">1</td><td style = \"text-align: right;\">1</td><td style = \"text-align: left;\">biomass</td><td style = \"text-align: left;\">WEC_SDGE</td><td style = \"text-align: left;\">existing_cap_mw</td><td style = \"text-align: right;\">21.4</td></tr><tr><td class = \"rowNumber\" style = \"font-weight: bold; text-align: right;\">2</td><td style = \"text-align: right;\">2</td><td style = \"text-align: left;\">hydroelectric_pumped_storage</td><td style = \"text-align: left;\">WEC_SDGE</td><td style = \"text-align: left;\">existing_cap_mw</td><td style = \"text-align: right;\">42.0</td></tr><tr><td class = \"rowNumber\" style = \"font-weight: bold; text-align: right;\">3</td><td style = \"text-align: right;\">3</td><td style = \"text-align: left;\">natural_gas_fired_combined_cycle</td><td style = \"text-align: left;\">WEC_SDGE</td><td style = \"text-align: left;\">existing_cap_mw</td><td style = \"text-align: right;\">607.1</td></tr><tr><td class = \"rowNumber\" style = \"font-weight: bold; text-align: right;\">4</td><td style = \"text-align: right;\">4</td><td style = \"text-align: left;\">natural_gas_fired_combined_cycle</td><td style = \"text-align: left;\">WEC_SDGE</td><td style = \"text-align: left;\">existing_cap_mw</td><td style = \"text-align: right;\">30.0</td></tr><tr><td class = \"rowNumber\" style = \"font-weight: bold; text-align: right;\">5</td><td style = \"text-align: right;\">5</td><td style = \"text-align: left;\">natural_gas_fired_combined_cycle</td><td style = \"text-align: left;\">WEC_SDGE</td><td style = \"text-align: left;\">existing_cap_mw</td><td style = \"text-align: right;\">49.4</td></tr><tr><td class = \"rowNumber\" style = \"font-weight: bold; text-align: right;\">6</td><td style = \"text-align: right;\">1</td><td style = \"text-align: left;\">biomass</td><td style = \"text-align: left;\">WEC_SDGE</td><td style = \"text-align: left;\">num_units</td><td style = \"text-align: right;\">20.0</td></tr><tr><td class = \"rowNumber\" style = \"font-weight: bold; text-align: right;\">7</td><td style = \"text-align: right;\">2</td><td style = \"text-align: left;\">hydroelectric_pumped_storage</td><td style = \"text-align: left;\">WEC_SDGE</td><td style = \"text-align: left;\">num_units</td><td style = \"text-align: right;\">2.0</td></tr><tr><td class = \"rowNumber\" style = \"font-weight: bold; text-align: right;\">8</td><td style = \"text-align: right;\">3</td><td style = \"text-align: left;\">natural_gas_fired_combined_cycle</td><td style = \"text-align: left;\">WEC_SDGE</td><td style = \"text-align: left;\">num_units</td><td style = \"text-align: right;\">1.0</td></tr><tr><td class = \"rowNumber\" style = \"font-weight: bold; text-align: right;\">9</td><td style = \"text-align: right;\">4</td><td style = \"text-align: left;\">natural_gas_fired_combined_cycle</td><td style = \"text-align: left;\">WEC_SDGE</td><td style = \"text-align: left;\">num_units</td><td style = \"text-align: right;\">1.0</td></tr><tr><td class = \"rowNumber\" style = \"font-weight: bold; text-align: right;\">10</td><td style = \"text-align: right;\">5</td><td style = \"text-align: left;\">natural_gas_fired_combined_cycle</td><td style = \"text-align: left;\">WEC_SDGE</td><td style = \"text-align: left;\">num_units</td><td style = \"text-align: right;\">1.0</td></tr></tbody></table></div>"
      ],
      "text/latex": [
       "\\begin{tabular}{r|ccccc}\n",
       "\t& r\\_id & resource & region & var & val\\\\\n",
       "\t\\hline\n",
       "\t& Int64? & String? & String15? & String & Float64?\\\\\n",
       "\t\\hline\n",
       "\t1 & 1 & biomass & WEC\\_SDGE & existing\\_cap\\_mw & 21.4 \\\\\n",
       "\t2 & 2 & hydroelectric\\_pumped\\_storage & WEC\\_SDGE & existing\\_cap\\_mw & 42.0 \\\\\n",
       "\t3 & 3 & natural\\_gas\\_fired\\_combined\\_cycle & WEC\\_SDGE & existing\\_cap\\_mw & 607.1 \\\\\n",
       "\t4 & 4 & natural\\_gas\\_fired\\_combined\\_cycle & WEC\\_SDGE & existing\\_cap\\_mw & 30.0 \\\\\n",
       "\t5 & 5 & natural\\_gas\\_fired\\_combined\\_cycle & WEC\\_SDGE & existing\\_cap\\_mw & 49.4 \\\\\n",
       "\t6 & 1 & biomass & WEC\\_SDGE & num\\_units & 20.0 \\\\\n",
       "\t7 & 2 & hydroelectric\\_pumped\\_storage & WEC\\_SDGE & num\\_units & 2.0 \\\\\n",
       "\t8 & 3 & natural\\_gas\\_fired\\_combined\\_cycle & WEC\\_SDGE & num\\_units & 1.0 \\\\\n",
       "\t9 & 4 & natural\\_gas\\_fired\\_combined\\_cycle & WEC\\_SDGE & num\\_units & 1.0 \\\\\n",
       "\t10 & 5 & natural\\_gas\\_fired\\_combined\\_cycle & WEC\\_SDGE & num\\_units & 1.0 \\\\\n",
       "\\end{tabular}\n"
      ],
      "text/plain": [
       "\u001b[1m10×5 DataFrame\u001b[0m\n",
       "\u001b[1m Row \u001b[0m│\u001b[1m r_id   \u001b[0m\u001b[1m resource                         \u001b[0m\u001b[1m region    \u001b[0m\u001b[1m var             \u001b[0m\u001b[1m val      \u001b[0m\n",
       "     │\u001b[90m Int64? \u001b[0m\u001b[90m String?                          \u001b[0m\u001b[90m String15? \u001b[0m\u001b[90m String          \u001b[0m\u001b[90m Float64? \u001b[0m\n",
       "─────┼────────────────────────────────────────────────────────────────────────────────\n",
       "   1 │      1  biomass                           WEC_SDGE   existing_cap_mw      21.4\n",
       "   2 │      2  hydroelectric_pumped_storage      WEC_SDGE   existing_cap_mw      42.0\n",
       "   3 │      3  natural_gas_fired_combined_cycle  WEC_SDGE   existing_cap_mw     607.1\n",
       "   4 │      4  natural_gas_fired_combined_cycle  WEC_SDGE   existing_cap_mw      30.0\n",
       "   5 │      5  natural_gas_fired_combined_cycle  WEC_SDGE   existing_cap_mw      49.4\n",
       "   6 │      1  biomass                           WEC_SDGE   num_units            20.0\n",
       "   7 │      2  hydroelectric_pumped_storage      WEC_SDGE   num_units             2.0\n",
       "   8 │      3  natural_gas_fired_combined_cycle  WEC_SDGE   num_units             1.0\n",
       "   9 │      4  natural_gas_fired_combined_cycle  WEC_SDGE   num_units             1.0\n",
       "  10 │      5  natural_gas_fired_combined_cycle  WEC_SDGE   num_units             1.0"
      ]
     },
     "execution_count": 9,
     "metadata": {},
     "output_type": "execute_result"
    }
   ],
   "source": [
    "\n",
    "stack(df, \n",
    "    [:existing_cap_mw, :num_units], \n",
    "    variable_name=:var,\n",
    "    value_name=:val)\n",
    "     "
   ]
  },
  {
   "cell_type": "code",
   "execution_count": 10,
   "id": "288db3d5",
   "metadata": {},
   "outputs": [],
   "source": [
    "gen_variable.hour = mod.(gen_variable.hour .- 9, 8760) .+ 1 \n",
    "sort!(gen_variable, :hour)\n",
    "loads.hour = mod.(loads.hour .- 9, 8760) .+ 1\n",
    "sort!(loads, :hour);"
   ]
  },
  {
   "cell_type": "code",
   "execution_count": 11,
   "id": "22106a2f",
   "metadata": {},
   "outputs": [
    {
     "data": {
      "text/html": [
       "<div><div style = \"float: left;\"><span>31×7 DataFrame</span></div><div style = \"float: right;\"><span style = \"font-style: italic;\">6 rows omitted</span></div><div style = \"clear: both;\"></div></div><div class = \"data-frame\" style = \"overflow-x: scroll;\"><table class = \"data-frame\" style = \"margin-bottom: 6px;\"><thead><tr class = \"header\"><th class = \"rowNumber\" style = \"font-weight: bold; text-align: right;\">Row</th><th style = \"text-align: left;\">variable</th><th style = \"text-align: left;\">mean</th><th style = \"text-align: left;\">min</th><th style = \"text-align: left;\">median</th><th style = \"text-align: left;\">max</th><th style = \"text-align: left;\">nmissing</th><th style = \"text-align: left;\">eltype</th></tr><tr class = \"subheader headerLastRow\"><th class = \"rowNumber\" style = \"font-weight: bold; text-align: right;\"></th><th title = \"Symbol\" style = \"text-align: left;\">Symbol</th><th title = \"Float64\" style = \"text-align: left;\">Float64</th><th title = \"Real\" style = \"text-align: left;\">Real</th><th title = \"Float64\" style = \"text-align: left;\">Float64</th><th title = \"Real\" style = \"text-align: left;\">Real</th><th title = \"Int64\" style = \"text-align: left;\">Int64</th><th title = \"DataType\" style = \"text-align: left;\">DataType</th></tr></thead><tbody><tr><td class = \"rowNumber\" style = \"font-weight: bold; text-align: right;\">1</td><td style = \"text-align: left;\">hour</td><td style = \"text-align: right;\">4380.5</td><td style = \"text-align: right;\">1</td><td style = \"text-align: right;\">4380.5</td><td style = \"text-align: right;\">8760</td><td style = \"text-align: right;\">0</td><td style = \"text-align: left;\">Int64</td></tr><tr><td class = \"rowNumber\" style = \"font-weight: bold; text-align: right;\">2</td><td style = \"text-align: left;\">wec_sdge_biomass_1.0</td><td style = \"text-align: right;\">1.0</td><td style = \"text-align: right;\">1</td><td style = \"text-align: right;\">1.0</td><td style = \"text-align: right;\">1</td><td style = \"text-align: right;\">0</td><td style = \"text-align: left;\">Int64</td></tr><tr><td class = \"rowNumber\" style = \"font-weight: bold; text-align: right;\">3</td><td style = \"text-align: left;\">wec_sdge_hydroelectric_pumped_storage_1.0</td><td style = \"text-align: right;\">1.0</td><td style = \"text-align: right;\">1</td><td style = \"text-align: right;\">1.0</td><td style = \"text-align: right;\">1</td><td style = \"text-align: right;\">0</td><td style = \"text-align: left;\">Int64</td></tr><tr><td class = \"rowNumber\" style = \"font-weight: bold; text-align: right;\">4</td><td style = \"text-align: left;\">wec_sdge_natural_gas_fired_combined_cycle_1.0</td><td style = \"text-align: right;\">1.0</td><td style = \"text-align: right;\">1</td><td style = \"text-align: right;\">1.0</td><td style = \"text-align: right;\">1</td><td style = \"text-align: right;\">0</td><td style = \"text-align: left;\">Int64</td></tr><tr><td class = \"rowNumber\" style = \"font-weight: bold; text-align: right;\">5</td><td style = \"text-align: left;\">wec_sdge_natural_gas_fired_combined_cycle_2.0</td><td style = \"text-align: right;\">1.0</td><td style = \"text-align: right;\">1</td><td style = \"text-align: right;\">1.0</td><td style = \"text-align: right;\">1</td><td style = \"text-align: right;\">0</td><td style = \"text-align: left;\">Int64</td></tr><tr><td class = \"rowNumber\" style = \"font-weight: bold; text-align: right;\">6</td><td style = \"text-align: left;\">wec_sdge_natural_gas_fired_combined_cycle_3.0</td><td style = \"text-align: right;\">1.0</td><td style = \"text-align: right;\">1</td><td style = \"text-align: right;\">1.0</td><td style = \"text-align: right;\">1</td><td style = \"text-align: right;\">0</td><td style = \"text-align: left;\">Int64</td></tr><tr><td class = \"rowNumber\" style = \"font-weight: bold; text-align: right;\">7</td><td style = \"text-align: left;\">wec_sdge_natural_gas_fired_combined_cycle_4.0</td><td style = \"text-align: right;\">1.0</td><td style = \"text-align: right;\">1</td><td style = \"text-align: right;\">1.0</td><td style = \"text-align: right;\">1</td><td style = \"text-align: right;\">0</td><td style = \"text-align: left;\">Int64</td></tr><tr><td class = \"rowNumber\" style = \"font-weight: bold; text-align: right;\">8</td><td style = \"text-align: left;\">wec_sdge_natural_gas_fired_combustion_turbine_1.0</td><td style = \"text-align: right;\">1.0</td><td style = \"text-align: right;\">1</td><td style = \"text-align: right;\">1.0</td><td style = \"text-align: right;\">1</td><td style = \"text-align: right;\">0</td><td style = \"text-align: left;\">Int64</td></tr><tr><td class = \"rowNumber\" style = \"font-weight: bold; text-align: right;\">9</td><td style = \"text-align: left;\">wec_sdge_natural_gas_fired_combustion_turbine_2.0</td><td style = \"text-align: right;\">1.0</td><td style = \"text-align: right;\">1</td><td style = \"text-align: right;\">1.0</td><td style = \"text-align: right;\">1</td><td style = \"text-align: right;\">0</td><td style = \"text-align: left;\">Int64</td></tr><tr><td class = \"rowNumber\" style = \"font-weight: bold; text-align: right;\">10</td><td style = \"text-align: left;\">wec_sdge_natural_gas_fired_combustion_turbine_3.0</td><td style = \"text-align: right;\">1.0</td><td style = \"text-align: right;\">1</td><td style = \"text-align: right;\">1.0</td><td style = \"text-align: right;\">1</td><td style = \"text-align: right;\">0</td><td style = \"text-align: left;\">Int64</td></tr><tr><td class = \"rowNumber\" style = \"font-weight: bold; text-align: right;\">11</td><td style = \"text-align: left;\">wec_sdge_natural_gas_fired_combustion_turbine_4.0</td><td style = \"text-align: right;\">1.0</td><td style = \"text-align: right;\">1</td><td style = \"text-align: right;\">1.0</td><td style = \"text-align: right;\">1</td><td style = \"text-align: right;\">0</td><td style = \"text-align: left;\">Int64</td></tr><tr><td class = \"rowNumber\" style = \"font-weight: bold; text-align: right;\">12</td><td style = \"text-align: left;\">wec_sdge_natural_gas_fired_combustion_turbine_5.0</td><td style = \"text-align: right;\">1.0</td><td style = \"text-align: right;\">1</td><td style = \"text-align: right;\">1.0</td><td style = \"text-align: right;\">1</td><td style = \"text-align: right;\">0</td><td style = \"text-align: left;\">Int64</td></tr><tr><td class = \"rowNumber\" style = \"font-weight: bold; text-align: right;\">13</td><td style = \"text-align: left;\">wec_sdge_natural_gas_fired_combustion_turbine_6.0</td><td style = \"text-align: right;\">1.0</td><td style = \"text-align: right;\">1</td><td style = \"text-align: right;\">1.0</td><td style = \"text-align: right;\">1</td><td style = \"text-align: right;\">0</td><td style = \"text-align: left;\">Int64</td></tr><tr><td style = \"text-align: right;\">&vellip;</td><td style = \"text-align: right;\">&vellip;</td><td style = \"text-align: right;\">&vellip;</td><td style = \"text-align: right;\">&vellip;</td><td style = \"text-align: right;\">&vellip;</td><td style = \"text-align: right;\">&vellip;</td><td style = \"text-align: right;\">&vellip;</td><td style = \"text-align: right;\">&vellip;</td></tr><tr><td class = \"rowNumber\" style = \"font-weight: bold; text-align: right;\">20</td><td style = \"text-align: left;\">wec_sdge_onshore_wind_turbine_1.0</td><td style = \"text-align: right;\">0.253519</td><td style = \"text-align: right;\">0.0</td><td style = \"text-align: right;\">0.19465</td><td style = \"text-align: right;\">0.9089</td><td style = \"text-align: right;\">0</td><td style = \"text-align: left;\">Float64</td></tr><tr><td class = \"rowNumber\" style = \"font-weight: bold; text-align: right;\">21</td><td style = \"text-align: left;\">wec_sdge_small_hydroelectric_1.0</td><td style = \"text-align: right;\">0.41567</td><td style = \"text-align: right;\">0.2167</td><td style = \"text-align: right;\">0.38475</td><td style = \"text-align: right;\">0.6337</td><td style = \"text-align: right;\">0</td><td style = \"text-align: left;\">Float64</td></tr><tr><td class = \"rowNumber\" style = \"font-weight: bold; text-align: right;\">22</td><td style = \"text-align: left;\">wec_sdge_solar_photovoltaic_1.0</td><td style = \"text-align: right;\">0.247288</td><td style = \"text-align: right;\">0.0</td><td style = \"text-align: right;\">0.0</td><td style = \"text-align: right;\">0.7959</td><td style = \"text-align: right;\">0</td><td style = \"text-align: left;\">Float64</td></tr><tr><td class = \"rowNumber\" style = \"font-weight: bold; text-align: right;\">23</td><td style = \"text-align: left;\">wec_sdge_naturalgas_ccccsavgcf_0.0</td><td style = \"text-align: right;\">1.0</td><td style = \"text-align: right;\">1</td><td style = \"text-align: right;\">1.0</td><td style = \"text-align: right;\">1</td><td style = \"text-align: right;\">0</td><td style = \"text-align: left;\">Int64</td></tr><tr><td class = \"rowNumber\" style = \"font-weight: bold; text-align: right;\">24</td><td style = \"text-align: left;\">wec_sdge_naturalgas_ccavgcf_0.0</td><td style = \"text-align: right;\">1.0</td><td style = \"text-align: right;\">1</td><td style = \"text-align: right;\">1.0</td><td style = \"text-align: right;\">1</td><td style = \"text-align: right;\">0</td><td style = \"text-align: left;\">Int64</td></tr><tr><td class = \"rowNumber\" style = \"font-weight: bold; text-align: right;\">25</td><td style = \"text-align: left;\">wec_sdge_naturalgas_ctavgcf_0.0</td><td style = \"text-align: right;\">1.0</td><td style = \"text-align: right;\">1</td><td style = \"text-align: right;\">1.0</td><td style = \"text-align: right;\">1</td><td style = \"text-align: right;\">0</td><td style = \"text-align: left;\">Int64</td></tr><tr><td class = \"rowNumber\" style = \"font-weight: bold; text-align: right;\">26</td><td style = \"text-align: left;\">wec_sdge_battery_0.0</td><td style = \"text-align: right;\">1.0</td><td style = \"text-align: right;\">1</td><td style = \"text-align: right;\">1.0</td><td style = \"text-align: right;\">1</td><td style = \"text-align: right;\">0</td><td style = \"text-align: left;\">Int64</td></tr><tr><td class = \"rowNumber\" style = \"font-weight: bold; text-align: right;\">27</td><td style = \"text-align: left;\">wec_sdge_naturalgas_ccs100_0.0</td><td style = \"text-align: right;\">1.0</td><td style = \"text-align: right;\">1</td><td style = \"text-align: right;\">1.0</td><td style = \"text-align: right;\">1</td><td style = \"text-align: right;\">0</td><td style = \"text-align: left;\">Int64</td></tr><tr><td class = \"rowNumber\" style = \"font-weight: bold; text-align: right;\">28</td><td style = \"text-align: left;\">wec_sdge_landbasedwind_ltrg1_1.0</td><td style = \"text-align: right;\">0.341167</td><td style = \"text-align: right;\">0.0</td><td style = \"text-align: right;\">0.249565</td><td style = \"text-align: right;\">0.93217</td><td style = \"text-align: right;\">0</td><td style = \"text-align: left;\">Float64</td></tr><tr><td class = \"rowNumber\" style = \"font-weight: bold; text-align: right;\">29</td><td style = \"text-align: left;\">wec_sdge_landbasedwind_ltrg1_2.0</td><td style = \"text-align: right;\">0.257347</td><td style = \"text-align: right;\">0.0</td><td style = \"text-align: right;\">0.194376</td><td style = \"text-align: right;\">0.912162</td><td style = \"text-align: right;\">0</td><td style = \"text-align: left;\">Float64</td></tr><tr><td class = \"rowNumber\" style = \"font-weight: bold; text-align: right;\">30</td><td style = \"text-align: left;\">wec_sdge_utilitypv_losangeles_1.0</td><td style = \"text-align: right;\">0.346479</td><td style = \"text-align: right;\">0.0</td><td style = \"text-align: right;\">0.0</td><td style = \"text-align: right;\">1.0</td><td style = \"text-align: right;\">0</td><td style = \"text-align: left;\">Float64</td></tr><tr><td class = \"rowNumber\" style = \"font-weight: bold; text-align: right;\">31</td><td style = \"text-align: left;\">wec_sdge_utilitypv_losangeles_2.0</td><td style = \"text-align: right;\">0.344724</td><td style = \"text-align: right;\">0.0</td><td style = \"text-align: right;\">0.0</td><td style = \"text-align: right;\">1.0</td><td style = \"text-align: right;\">0</td><td style = \"text-align: left;\">Float64</td></tr></tbody></table></div>"
      ],
      "text/latex": [
       "\\begin{tabular}{r|ccccccc}\n",
       "\t& variable & mean & min & median & max & nmissing & eltype\\\\\n",
       "\t\\hline\n",
       "\t& Symbol & Float64 & Real & Float64 & Real & Int64 & DataType\\\\\n",
       "\t\\hline\n",
       "\t1 & hour & 4380.5 & 1 & 4380.5 & 8760 & 0 & Int64 \\\\\n",
       "\t2 & wec\\_sdge\\_biomass\\_1.0 & 1.0 & 1 & 1.0 & 1 & 0 & Int64 \\\\\n",
       "\t3 & wec\\_sdge\\_hydroelectric\\_pumped\\_storage\\_1.0 & 1.0 & 1 & 1.0 & 1 & 0 & Int64 \\\\\n",
       "\t4 & wec\\_sdge\\_natural\\_gas\\_fired\\_combined\\_cycle\\_1.0 & 1.0 & 1 & 1.0 & 1 & 0 & Int64 \\\\\n",
       "\t5 & wec\\_sdge\\_natural\\_gas\\_fired\\_combined\\_cycle\\_2.0 & 1.0 & 1 & 1.0 & 1 & 0 & Int64 \\\\\n",
       "\t6 & wec\\_sdge\\_natural\\_gas\\_fired\\_combined\\_cycle\\_3.0 & 1.0 & 1 & 1.0 & 1 & 0 & Int64 \\\\\n",
       "\t7 & wec\\_sdge\\_natural\\_gas\\_fired\\_combined\\_cycle\\_4.0 & 1.0 & 1 & 1.0 & 1 & 0 & Int64 \\\\\n",
       "\t8 & wec\\_sdge\\_natural\\_gas\\_fired\\_combustion\\_turbine\\_1.0 & 1.0 & 1 & 1.0 & 1 & 0 & Int64 \\\\\n",
       "\t9 & wec\\_sdge\\_natural\\_gas\\_fired\\_combustion\\_turbine\\_2.0 & 1.0 & 1 & 1.0 & 1 & 0 & Int64 \\\\\n",
       "\t10 & wec\\_sdge\\_natural\\_gas\\_fired\\_combustion\\_turbine\\_3.0 & 1.0 & 1 & 1.0 & 1 & 0 & Int64 \\\\\n",
       "\t11 & wec\\_sdge\\_natural\\_gas\\_fired\\_combustion\\_turbine\\_4.0 & 1.0 & 1 & 1.0 & 1 & 0 & Int64 \\\\\n",
       "\t12 & wec\\_sdge\\_natural\\_gas\\_fired\\_combustion\\_turbine\\_5.0 & 1.0 & 1 & 1.0 & 1 & 0 & Int64 \\\\\n",
       "\t13 & wec\\_sdge\\_natural\\_gas\\_fired\\_combustion\\_turbine\\_6.0 & 1.0 & 1 & 1.0 & 1 & 0 & Int64 \\\\\n",
       "\t14 & wec\\_sdge\\_natural\\_gas\\_fired\\_combustion\\_turbine\\_7.0 & 1.0 & 1 & 1.0 & 1 & 0 & Int64 \\\\\n",
       "\t15 & wec\\_sdge\\_natural\\_gas\\_fired\\_combustion\\_turbine\\_8.0 & 1.0 & 1 & 1.0 & 1 & 0 & Int64 \\\\\n",
       "\t16 & wec\\_sdge\\_natural\\_gas\\_fired\\_combustion\\_turbine\\_9.0 & 1.0 & 1 & 1.0 & 1 & 0 & Int64 \\\\\n",
       "\t17 & wec\\_sdge\\_natural\\_gas\\_fired\\_combustion\\_turbine\\_10.0 & 1.0 & 1 & 1.0 & 1 & 0 & Int64 \\\\\n",
       "\t18 & wec\\_sdge\\_natural\\_gas\\_fired\\_combustion\\_turbine\\_11.0 & 1.0 & 1 & 1.0 & 1 & 0 & Int64 \\\\\n",
       "\t19 & wec\\_sdge\\_natural\\_gas\\_fired\\_combustion\\_turbine\\_12.0 & 1.0 & 1 & 1.0 & 1 & 0 & Int64 \\\\\n",
       "\t20 & wec\\_sdge\\_onshore\\_wind\\_turbine\\_1.0 & 0.253519 & 0.0 & 0.19465 & 0.9089 & 0 & Float64 \\\\\n",
       "\t21 & wec\\_sdge\\_small\\_hydroelectric\\_1.0 & 0.41567 & 0.2167 & 0.38475 & 0.6337 & 0 & Float64 \\\\\n",
       "\t22 & wec\\_sdge\\_solar\\_photovoltaic\\_1.0 & 0.247288 & 0.0 & 0.0 & 0.7959 & 0 & Float64 \\\\\n",
       "\t23 & wec\\_sdge\\_naturalgas\\_ccccsavgcf\\_0.0 & 1.0 & 1 & 1.0 & 1 & 0 & Int64 \\\\\n",
       "\t24 & wec\\_sdge\\_naturalgas\\_ccavgcf\\_0.0 & 1.0 & 1 & 1.0 & 1 & 0 & Int64 \\\\\n",
       "\t25 & wec\\_sdge\\_naturalgas\\_ctavgcf\\_0.0 & 1.0 & 1 & 1.0 & 1 & 0 & Int64 \\\\\n",
       "\t26 & wec\\_sdge\\_battery\\_0.0 & 1.0 & 1 & 1.0 & 1 & 0 & Int64 \\\\\n",
       "\t27 & wec\\_sdge\\_naturalgas\\_ccs100\\_0.0 & 1.0 & 1 & 1.0 & 1 & 0 & Int64 \\\\\n",
       "\t28 & wec\\_sdge\\_landbasedwind\\_ltrg1\\_1.0 & 0.341167 & 0.0 & 0.249565 & 0.93217 & 0 & Float64 \\\\\n",
       "\t29 & wec\\_sdge\\_landbasedwind\\_ltrg1\\_2.0 & 0.257347 & 0.0 & 0.194376 & 0.912162 & 0 & Float64 \\\\\n",
       "\t30 & wec\\_sdge\\_utilitypv\\_losangeles\\_1.0 & 0.346479 & 0.0 & 0.0 & 1.0 & 0 & Float64 \\\\\n",
       "\t$\\dots$ & $\\dots$ & $\\dots$ & $\\dots$ & $\\dots$ & $\\dots$ & $\\dots$ & $\\dots$ \\\\\n",
       "\\end{tabular}\n"
      ],
      "text/plain": [
       "\u001b[1m31×7 DataFrame\u001b[0m\n",
       "\u001b[1m Row \u001b[0m│\u001b[1m variable                          \u001b[0m\u001b[1m mean        \u001b[0m\u001b[1m min    \u001b[0m\u001b[1m median      \u001b[0m\u001b[1m max         \u001b[0m\u001b[1m nmissing \u001b[0m\u001b[1m eltype   \u001b[0m\n",
       "     │\u001b[90m Symbol                            \u001b[0m\u001b[90m Float64     \u001b[0m\u001b[90m Real   \u001b[0m\u001b[90m Float64     \u001b[0m\u001b[90m Real        \u001b[0m\u001b[90m Int64    \u001b[0m\u001b[90m DataType \u001b[0m\n",
       "─────┼──────────────────────────────────────────────────────────────────────────────────────────────────────\n",
       "   1 │ hour                               4380.5       1       4380.5       8760                0  Int64\n",
       "   2 │ wec_sdge_biomass_1.0                  1.0       1          1.0          1                0  Int64\n",
       "   3 │ wec_sdge_hydroelectric_pumped_st…     1.0       1          1.0          1                0  Int64\n",
       "   4 │ wec_sdge_natural_gas_fired_combi…     1.0       1          1.0          1                0  Int64\n",
       "   5 │ wec_sdge_natural_gas_fired_combi…     1.0       1          1.0          1                0  Int64\n",
       "   6 │ wec_sdge_natural_gas_fired_combi…     1.0       1          1.0          1                0  Int64\n",
       "   7 │ wec_sdge_natural_gas_fired_combi…     1.0       1          1.0          1                0  Int64\n",
       "   8 │ wec_sdge_natural_gas_fired_combu…     1.0       1          1.0          1                0  Int64\n",
       "   9 │ wec_sdge_natural_gas_fired_combu…     1.0       1          1.0          1                0  Int64\n",
       "  10 │ wec_sdge_natural_gas_fired_combu…     1.0       1          1.0          1                0  Int64\n",
       "  11 │ wec_sdge_natural_gas_fired_combu…     1.0       1          1.0          1                0  Int64\n",
       "  ⋮  │                 ⋮                       ⋮         ⋮          ⋮            ⋮          ⋮         ⋮\n",
       "  22 │ wec_sdge_solar_photovoltaic_1.0       0.247288  0.0        0.0          0.7959           0  Float64\n",
       "  23 │ wec_sdge_naturalgas_ccccsavgcf_0…     1.0       1          1.0          1                0  Int64\n",
       "  24 │ wec_sdge_naturalgas_ccavgcf_0.0       1.0       1          1.0          1                0  Int64\n",
       "  25 │ wec_sdge_naturalgas_ctavgcf_0.0       1.0       1          1.0          1                0  Int64\n",
       "  26 │ wec_sdge_battery_0.0                  1.0       1          1.0          1                0  Int64\n",
       "  27 │ wec_sdge_naturalgas_ccs100_0.0        1.0       1          1.0          1                0  Int64\n",
       "  28 │ wec_sdge_landbasedwind_ltrg1_1.0      0.341167  0.0        0.249565     0.93217          0  Float64\n",
       "  29 │ wec_sdge_landbasedwind_ltrg1_2.0      0.257347  0.0        0.194376     0.912162         0  Float64\n",
       "  30 │ wec_sdge_utilitypv_losangeles_1.0     0.346479  0.0        0.0          1.0              0  Float64\n",
       "  31 │ wec_sdge_utilitypv_losangeles_2.0     0.344724  0.0        0.0          1.0              0  Float64\n",
       "\u001b[36m                                                                                             10 rows omitted\u001b[0m"
      ]
     },
     "execution_count": 11,
     "metadata": {},
     "output_type": "execute_result"
    }
   ],
   "source": [
    "describe(gen_variable)"
   ]
  },
  {
   "cell_type": "code",
   "execution_count": 12,
   "id": "96e94354",
   "metadata": {},
   "outputs": [],
   "source": [
    "gen_variable_long = stack(gen_variable, \n",
    "                        Not(:hour), \n",
    "                        variable_name=:gen_full,\n",
    "                        value_name=:cf);"
   ]
  },
  {
   "cell_type": "code",
   "execution_count": 13,
   "id": "fc39998a",
   "metadata": {},
   "outputs": [
    {
     "data": {
      "text/html": [
       "<div><div style = \"float: left;\"><span>25×3 DataFrame</span></div><div style = \"clear: both;\"></div></div><div class = \"data-frame\" style = \"overflow-x: scroll;\"><table class = \"data-frame\" style = \"margin-bottom: 6px;\"><thead><tr class = \"header\"><th class = \"rowNumber\" style = \"font-weight: bold; text-align: right;\">Row</th><th style = \"text-align: left;\">hour</th><th style = \"text-align: left;\">gen_full</th><th style = \"text-align: left;\">cf</th></tr><tr class = \"subheader headerLastRow\"><th class = \"rowNumber\" style = \"font-weight: bold; text-align: right;\"></th><th title = \"Int64\" style = \"text-align: left;\">Int64</th><th title = \"String\" style = \"text-align: left;\">String</th><th title = \"Float64\" style = \"text-align: left;\">Float64</th></tr></thead><tbody><tr><td class = \"rowNumber\" style = \"font-weight: bold; text-align: right;\">1</td><td style = \"text-align: right;\">1</td><td style = \"text-align: left;\">wec_sdge_onshore_wind_turbine_1.0</td><td style = \"text-align: right;\">0.1694</td></tr><tr><td class = \"rowNumber\" style = \"font-weight: bold; text-align: right;\">2</td><td style = \"text-align: right;\">2</td><td style = \"text-align: left;\">wec_sdge_onshore_wind_turbine_1.0</td><td style = \"text-align: right;\">0.1658</td></tr><tr><td class = \"rowNumber\" style = \"font-weight: bold; text-align: right;\">3</td><td style = \"text-align: right;\">3</td><td style = \"text-align: left;\">wec_sdge_onshore_wind_turbine_1.0</td><td style = \"text-align: right;\">0.1502</td></tr><tr><td class = \"rowNumber\" style = \"font-weight: bold; text-align: right;\">4</td><td style = \"text-align: right;\">4</td><td style = \"text-align: left;\">wec_sdge_onshore_wind_turbine_1.0</td><td style = \"text-align: right;\">0.1455</td></tr><tr><td class = \"rowNumber\" style = \"font-weight: bold; text-align: right;\">5</td><td style = \"text-align: right;\">5</td><td style = \"text-align: left;\">wec_sdge_onshore_wind_turbine_1.0</td><td style = \"text-align: right;\">0.0932</td></tr><tr><td class = \"rowNumber\" style = \"font-weight: bold; text-align: right;\">6</td><td style = \"text-align: right;\">6</td><td style = \"text-align: left;\">wec_sdge_onshore_wind_turbine_1.0</td><td style = \"text-align: right;\">0.0717</td></tr><tr><td class = \"rowNumber\" style = \"font-weight: bold; text-align: right;\">7</td><td style = \"text-align: right;\">7</td><td style = \"text-align: left;\">wec_sdge_onshore_wind_turbine_1.0</td><td style = \"text-align: right;\">0.0211</td></tr><tr><td class = \"rowNumber\" style = \"font-weight: bold; text-align: right;\">8</td><td style = \"text-align: right;\">8</td><td style = \"text-align: left;\">wec_sdge_onshore_wind_turbine_1.0</td><td style = \"text-align: right;\">0.0216</td></tr><tr><td class = \"rowNumber\" style = \"font-weight: bold; text-align: right;\">9</td><td style = \"text-align: right;\">9</td><td style = \"text-align: left;\">wec_sdge_onshore_wind_turbine_1.0</td><td style = \"text-align: right;\">0.0216</td></tr><tr><td class = \"rowNumber\" style = \"font-weight: bold; text-align: right;\">10</td><td style = \"text-align: right;\">10</td><td style = \"text-align: left;\">wec_sdge_onshore_wind_turbine_1.0</td><td style = \"text-align: right;\">0.0059</td></tr><tr><td class = \"rowNumber\" style = \"font-weight: bold; text-align: right;\">11</td><td style = \"text-align: right;\">11</td><td style = \"text-align: left;\">wec_sdge_onshore_wind_turbine_1.0</td><td style = \"text-align: right;\">0.0682</td></tr><tr><td class = \"rowNumber\" style = \"font-weight: bold; text-align: right;\">12</td><td style = \"text-align: right;\">12</td><td style = \"text-align: left;\">wec_sdge_onshore_wind_turbine_1.0</td><td style = \"text-align: right;\">0.1199</td></tr><tr><td class = \"rowNumber\" style = \"font-weight: bold; text-align: right;\">13</td><td style = \"text-align: right;\">13</td><td style = \"text-align: left;\">wec_sdge_onshore_wind_turbine_1.0</td><td style = \"text-align: right;\">0.3687</td></tr><tr><td class = \"rowNumber\" style = \"font-weight: bold; text-align: right;\">14</td><td style = \"text-align: right;\">14</td><td style = \"text-align: left;\">wec_sdge_onshore_wind_turbine_1.0</td><td style = \"text-align: right;\">0.4727</td></tr><tr><td class = \"rowNumber\" style = \"font-weight: bold; text-align: right;\">15</td><td style = \"text-align: right;\">15</td><td style = \"text-align: left;\">wec_sdge_onshore_wind_turbine_1.0</td><td style = \"text-align: right;\">0.3278</td></tr><tr><td class = \"rowNumber\" style = \"font-weight: bold; text-align: right;\">16</td><td style = \"text-align: right;\">16</td><td style = \"text-align: left;\">wec_sdge_onshore_wind_turbine_1.0</td><td style = \"text-align: right;\">0.4988</td></tr><tr><td class = \"rowNumber\" style = \"font-weight: bold; text-align: right;\">17</td><td style = \"text-align: right;\">17</td><td style = \"text-align: left;\">wec_sdge_onshore_wind_turbine_1.0</td><td style = \"text-align: right;\">0.3505</td></tr><tr><td class = \"rowNumber\" style = \"font-weight: bold; text-align: right;\">18</td><td style = \"text-align: right;\">18</td><td style = \"text-align: left;\">wec_sdge_onshore_wind_turbine_1.0</td><td style = \"text-align: right;\">0.1634</td></tr><tr><td class = \"rowNumber\" style = \"font-weight: bold; text-align: right;\">19</td><td style = \"text-align: right;\">19</td><td style = \"text-align: left;\">wec_sdge_onshore_wind_turbine_1.0</td><td style = \"text-align: right;\">0.0724</td></tr><tr><td class = \"rowNumber\" style = \"font-weight: bold; text-align: right;\">20</td><td style = \"text-align: right;\">20</td><td style = \"text-align: left;\">wec_sdge_onshore_wind_turbine_1.0</td><td style = \"text-align: right;\">0.2839</td></tr><tr><td class = \"rowNumber\" style = \"font-weight: bold; text-align: right;\">21</td><td style = \"text-align: right;\">21</td><td style = \"text-align: left;\">wec_sdge_onshore_wind_turbine_1.0</td><td style = \"text-align: right;\">0.2899</td></tr><tr><td class = \"rowNumber\" style = \"font-weight: bold; text-align: right;\">22</td><td style = \"text-align: right;\">22</td><td style = \"text-align: left;\">wec_sdge_onshore_wind_turbine_1.0</td><td style = \"text-align: right;\">0.3731</td></tr><tr><td class = \"rowNumber\" style = \"font-weight: bold; text-align: right;\">23</td><td style = \"text-align: right;\">23</td><td style = \"text-align: left;\">wec_sdge_onshore_wind_turbine_1.0</td><td style = \"text-align: right;\">0.356</td></tr><tr><td class = \"rowNumber\" style = \"font-weight: bold; text-align: right;\">24</td><td style = \"text-align: right;\">24</td><td style = \"text-align: left;\">wec_sdge_onshore_wind_turbine_1.0</td><td style = \"text-align: right;\">0.3843</td></tr><tr><td class = \"rowNumber\" style = \"font-weight: bold; text-align: right;\">25</td><td style = \"text-align: right;\">25</td><td style = \"text-align: left;\">wec_sdge_onshore_wind_turbine_1.0</td><td style = \"text-align: right;\">0.3336</td></tr></tbody></table></div>"
      ],
      "text/latex": [
       "\\begin{tabular}{r|ccc}\n",
       "\t& hour & gen\\_full & cf\\\\\n",
       "\t\\hline\n",
       "\t& Int64 & String & Float64\\\\\n",
       "\t\\hline\n",
       "\t1 & 1 & wec\\_sdge\\_onshore\\_wind\\_turbine\\_1.0 & 0.1694 \\\\\n",
       "\t2 & 2 & wec\\_sdge\\_onshore\\_wind\\_turbine\\_1.0 & 0.1658 \\\\\n",
       "\t3 & 3 & wec\\_sdge\\_onshore\\_wind\\_turbine\\_1.0 & 0.1502 \\\\\n",
       "\t4 & 4 & wec\\_sdge\\_onshore\\_wind\\_turbine\\_1.0 & 0.1455 \\\\\n",
       "\t5 & 5 & wec\\_sdge\\_onshore\\_wind\\_turbine\\_1.0 & 0.0932 \\\\\n",
       "\t6 & 6 & wec\\_sdge\\_onshore\\_wind\\_turbine\\_1.0 & 0.0717 \\\\\n",
       "\t7 & 7 & wec\\_sdge\\_onshore\\_wind\\_turbine\\_1.0 & 0.0211 \\\\\n",
       "\t8 & 8 & wec\\_sdge\\_onshore\\_wind\\_turbine\\_1.0 & 0.0216 \\\\\n",
       "\t9 & 9 & wec\\_sdge\\_onshore\\_wind\\_turbine\\_1.0 & 0.0216 \\\\\n",
       "\t10 & 10 & wec\\_sdge\\_onshore\\_wind\\_turbine\\_1.0 & 0.0059 \\\\\n",
       "\t11 & 11 & wec\\_sdge\\_onshore\\_wind\\_turbine\\_1.0 & 0.0682 \\\\\n",
       "\t12 & 12 & wec\\_sdge\\_onshore\\_wind\\_turbine\\_1.0 & 0.1199 \\\\\n",
       "\t13 & 13 & wec\\_sdge\\_onshore\\_wind\\_turbine\\_1.0 & 0.3687 \\\\\n",
       "\t14 & 14 & wec\\_sdge\\_onshore\\_wind\\_turbine\\_1.0 & 0.4727 \\\\\n",
       "\t15 & 15 & wec\\_sdge\\_onshore\\_wind\\_turbine\\_1.0 & 0.3278 \\\\\n",
       "\t16 & 16 & wec\\_sdge\\_onshore\\_wind\\_turbine\\_1.0 & 0.4988 \\\\\n",
       "\t17 & 17 & wec\\_sdge\\_onshore\\_wind\\_turbine\\_1.0 & 0.3505 \\\\\n",
       "\t18 & 18 & wec\\_sdge\\_onshore\\_wind\\_turbine\\_1.0 & 0.1634 \\\\\n",
       "\t19 & 19 & wec\\_sdge\\_onshore\\_wind\\_turbine\\_1.0 & 0.0724 \\\\\n",
       "\t20 & 20 & wec\\_sdge\\_onshore\\_wind\\_turbine\\_1.0 & 0.2839 \\\\\n",
       "\t21 & 21 & wec\\_sdge\\_onshore\\_wind\\_turbine\\_1.0 & 0.2899 \\\\\n",
       "\t22 & 22 & wec\\_sdge\\_onshore\\_wind\\_turbine\\_1.0 & 0.3731 \\\\\n",
       "\t23 & 23 & wec\\_sdge\\_onshore\\_wind\\_turbine\\_1.0 & 0.356 \\\\\n",
       "\t24 & 24 & wec\\_sdge\\_onshore\\_wind\\_turbine\\_1.0 & 0.3843 \\\\\n",
       "\t25 & 25 & wec\\_sdge\\_onshore\\_wind\\_turbine\\_1.0 & 0.3336 \\\\\n",
       "\\end{tabular}\n"
      ],
      "text/plain": [
       "\u001b[1m25×3 DataFrame\u001b[0m\n",
       "\u001b[1m Row \u001b[0m│\u001b[1m hour  \u001b[0m\u001b[1m gen_full                          \u001b[0m\u001b[1m cf      \u001b[0m\n",
       "     │\u001b[90m Int64 \u001b[0m\u001b[90m String                            \u001b[0m\u001b[90m Float64 \u001b[0m\n",
       "─────┼───────────────────────────────────────────────────\n",
       "   1 │     1  wec_sdge_onshore_wind_turbine_1.0   0.1694\n",
       "   2 │     2  wec_sdge_onshore_wind_turbine_1.0   0.1658\n",
       "   3 │     3  wec_sdge_onshore_wind_turbine_1.0   0.1502\n",
       "   4 │     4  wec_sdge_onshore_wind_turbine_1.0   0.1455\n",
       "   5 │     5  wec_sdge_onshore_wind_turbine_1.0   0.0932\n",
       "   6 │     6  wec_sdge_onshore_wind_turbine_1.0   0.0717\n",
       "   7 │     7  wec_sdge_onshore_wind_turbine_1.0   0.0211\n",
       "   8 │     8  wec_sdge_onshore_wind_turbine_1.0   0.0216\n",
       "   9 │     9  wec_sdge_onshore_wind_turbine_1.0   0.0216\n",
       "  10 │    10  wec_sdge_onshore_wind_turbine_1.0   0.0059\n",
       "  11 │    11  wec_sdge_onshore_wind_turbine_1.0   0.0682\n",
       "  ⋮  │   ⋮                    ⋮                     ⋮\n",
       "  16 │    16  wec_sdge_onshore_wind_turbine_1.0   0.4988\n",
       "  17 │    17  wec_sdge_onshore_wind_turbine_1.0   0.3505\n",
       "  18 │    18  wec_sdge_onshore_wind_turbine_1.0   0.1634\n",
       "  19 │    19  wec_sdge_onshore_wind_turbine_1.0   0.0724\n",
       "  20 │    20  wec_sdge_onshore_wind_turbine_1.0   0.2839\n",
       "  21 │    21  wec_sdge_onshore_wind_turbine_1.0   0.2899\n",
       "  22 │    22  wec_sdge_onshore_wind_turbine_1.0   0.3731\n",
       "  23 │    23  wec_sdge_onshore_wind_turbine_1.0   0.356\n",
       "  24 │    24  wec_sdge_onshore_wind_turbine_1.0   0.3843\n",
       "  25 │    25  wec_sdge_onshore_wind_turbine_1.0   0.3336\n",
       "\u001b[36m                                           4 rows omitted\u001b[0m"
      ]
     },
     "execution_count": 13,
     "metadata": {},
     "output_type": "execute_result"
    }
   ],
   "source": [
    "# Now we have a \"long\" dataframe; \n",
    "# let's look at the first 6 entries of a wind resource for example\n",
    "first(gen_variable_long[gen_variable_long.gen_full.==\"wec_sdge_onshore_wind_turbine_1.0\",:],25)"
   ]
  },
  {
   "cell_type": "code",
   "execution_count": 14,
   "id": "bcbf8e0d",
   "metadata": {},
   "outputs": [
    {
     "data": {
      "text/plain": [
       "20"
      ]
     },
     "execution_count": 14,
     "metadata": {},
     "output_type": "execute_result"
    }
   ],
   "source": [
    "hr = 20"
   ]
  },
  {
   "cell_type": "code",
   "execution_count": 15,
   "id": "b12b6fa5",
   "metadata": {},
   "outputs": [
    {
     "data": {
      "text/html": [
       "<div><div style = \"float: left;\"><span>1×1 DataFrame</span></div><div style = \"clear: both;\"></div></div><div class = \"data-frame\" style = \"overflow-x: scroll;\"><table class = \"data-frame\" style = \"margin-bottom: 6px;\"><thead><tr class = \"header\"><th class = \"rowNumber\" style = \"font-weight: bold; text-align: right;\">Row</th><th style = \"text-align: left;\">demand</th></tr><tr class = \"subheader headerLastRow\"><th class = \"rowNumber\" style = \"font-weight: bold; text-align: right;\"></th><th title = \"Int64\" style = \"text-align: left;\">Int64</th></tr></thead><tbody><tr><td class = \"rowNumber\" style = \"font-weight: bold; text-align: right;\">1</td><td style = \"text-align: right;\">2409</td></tr></tbody></table></div>"
      ],
      "text/latex": [
       "\\begin{tabular}{r|c}\n",
       "\t& demand\\\\\n",
       "\t\\hline\n",
       "\t& Int64\\\\\n",
       "\t\\hline\n",
       "\t1 & 2409 \\\\\n",
       "\\end{tabular}\n"
      ],
      "text/plain": [
       "\u001b[1m1×1 DataFrame\u001b[0m\n",
       "\u001b[1m Row \u001b[0m│\u001b[1m demand \u001b[0m\n",
       "     │\u001b[90m Int64  \u001b[0m\n",
       "─────┼────────\n",
       "   1 │   2409"
      ]
     },
     "execution_count": 15,
     "metadata": {},
     "output_type": "execute_result"
    }
   ],
   "source": [
    "loads_single = loads[loads[:,:hour] .== hr, Not(:hour)]; \n",
    "loads_single "
   ]
  },
  {
   "cell_type": "code",
   "execution_count": 16,
   "id": "7d4e3997",
   "metadata": {},
   "outputs": [
    {
     "data": {
      "text/html": [
       "<div><div style = \"float: left;\"><span>30×2 DataFrame</span></div><div style = \"float: right;\"><span style = \"font-style: italic;\">5 rows omitted</span></div><div style = \"clear: both;\"></div></div><div class = \"data-frame\" style = \"overflow-x: scroll;\"><table class = \"data-frame\" style = \"margin-bottom: 6px;\"><thead><tr class = \"header\"><th class = \"rowNumber\" style = \"font-weight: bold; text-align: right;\">Row</th><th style = \"text-align: left;\">gen_full</th><th style = \"text-align: left;\">cf</th></tr><tr class = \"subheader headerLastRow\"><th class = \"rowNumber\" style = \"font-weight: bold; text-align: right;\"></th><th title = \"String\" style = \"text-align: left;\">String</th><th title = \"Float64\" style = \"text-align: left;\">Float64</th></tr></thead><tbody><tr><td class = \"rowNumber\" style = \"font-weight: bold; text-align: right;\">1</td><td style = \"text-align: left;\">wec_sdge_biomass_1.0</td><td style = \"text-align: right;\">1.0</td></tr><tr><td class = \"rowNumber\" style = \"font-weight: bold; text-align: right;\">2</td><td style = \"text-align: left;\">wec_sdge_hydroelectric_pumped_storage_1.0</td><td style = \"text-align: right;\">1.0</td></tr><tr><td class = \"rowNumber\" style = \"font-weight: bold; text-align: right;\">3</td><td style = \"text-align: left;\">wec_sdge_natural_gas_fired_combined_cycle_1.0</td><td style = \"text-align: right;\">1.0</td></tr><tr><td class = \"rowNumber\" style = \"font-weight: bold; text-align: right;\">4</td><td style = \"text-align: left;\">wec_sdge_natural_gas_fired_combined_cycle_2.0</td><td style = \"text-align: right;\">1.0</td></tr><tr><td class = \"rowNumber\" style = \"font-weight: bold; text-align: right;\">5</td><td style = \"text-align: left;\">wec_sdge_natural_gas_fired_combined_cycle_3.0</td><td style = \"text-align: right;\">1.0</td></tr><tr><td class = \"rowNumber\" style = \"font-weight: bold; text-align: right;\">6</td><td style = \"text-align: left;\">wec_sdge_natural_gas_fired_combined_cycle_4.0</td><td style = \"text-align: right;\">1.0</td></tr><tr><td class = \"rowNumber\" style = \"font-weight: bold; text-align: right;\">7</td><td style = \"text-align: left;\">wec_sdge_natural_gas_fired_combustion_turbine_1.0</td><td style = \"text-align: right;\">1.0</td></tr><tr><td class = \"rowNumber\" style = \"font-weight: bold; text-align: right;\">8</td><td style = \"text-align: left;\">wec_sdge_natural_gas_fired_combustion_turbine_2.0</td><td style = \"text-align: right;\">1.0</td></tr><tr><td class = \"rowNumber\" style = \"font-weight: bold; text-align: right;\">9</td><td style = \"text-align: left;\">wec_sdge_natural_gas_fired_combustion_turbine_3.0</td><td style = \"text-align: right;\">1.0</td></tr><tr><td class = \"rowNumber\" style = \"font-weight: bold; text-align: right;\">10</td><td style = \"text-align: left;\">wec_sdge_natural_gas_fired_combustion_turbine_4.0</td><td style = \"text-align: right;\">1.0</td></tr><tr><td class = \"rowNumber\" style = \"font-weight: bold; text-align: right;\">11</td><td style = \"text-align: left;\">wec_sdge_natural_gas_fired_combustion_turbine_5.0</td><td style = \"text-align: right;\">1.0</td></tr><tr><td class = \"rowNumber\" style = \"font-weight: bold; text-align: right;\">12</td><td style = \"text-align: left;\">wec_sdge_natural_gas_fired_combustion_turbine_6.0</td><td style = \"text-align: right;\">1.0</td></tr><tr><td class = \"rowNumber\" style = \"font-weight: bold; text-align: right;\">13</td><td style = \"text-align: left;\">wec_sdge_natural_gas_fired_combustion_turbine_7.0</td><td style = \"text-align: right;\">1.0</td></tr><tr><td style = \"text-align: right;\">&vellip;</td><td style = \"text-align: right;\">&vellip;</td><td style = \"text-align: right;\">&vellip;</td></tr><tr><td class = \"rowNumber\" style = \"font-weight: bold; text-align: right;\">19</td><td style = \"text-align: left;\">wec_sdge_onshore_wind_turbine_1.0</td><td style = \"text-align: right;\">0.2839</td></tr><tr><td class = \"rowNumber\" style = \"font-weight: bold; text-align: right;\">20</td><td style = \"text-align: left;\">wec_sdge_small_hydroelectric_1.0</td><td style = \"text-align: right;\">0.293</td></tr><tr><td class = \"rowNumber\" style = \"font-weight: bold; text-align: right;\">21</td><td style = \"text-align: left;\">wec_sdge_solar_photovoltaic_1.0</td><td style = \"text-align: right;\">0.0</td></tr><tr><td class = \"rowNumber\" style = \"font-weight: bold; text-align: right;\">22</td><td style = \"text-align: left;\">wec_sdge_naturalgas_ccccsavgcf_0.0</td><td style = \"text-align: right;\">1.0</td></tr><tr><td class = \"rowNumber\" style = \"font-weight: bold; text-align: right;\">23</td><td style = \"text-align: left;\">wec_sdge_naturalgas_ccavgcf_0.0</td><td style = \"text-align: right;\">1.0</td></tr><tr><td class = \"rowNumber\" style = \"font-weight: bold; text-align: right;\">24</td><td style = \"text-align: left;\">wec_sdge_naturalgas_ctavgcf_0.0</td><td style = \"text-align: right;\">1.0</td></tr><tr><td class = \"rowNumber\" style = \"font-weight: bold; text-align: right;\">25</td><td style = \"text-align: left;\">wec_sdge_battery_0.0</td><td style = \"text-align: right;\">1.0</td></tr><tr><td class = \"rowNumber\" style = \"font-weight: bold; text-align: right;\">26</td><td style = \"text-align: left;\">wec_sdge_naturalgas_ccs100_0.0</td><td style = \"text-align: right;\">1.0</td></tr><tr><td class = \"rowNumber\" style = \"font-weight: bold; text-align: right;\">27</td><td style = \"text-align: left;\">wec_sdge_landbasedwind_ltrg1_1.0</td><td style = \"text-align: right;\">0.152069</td></tr><tr><td class = \"rowNumber\" style = \"font-weight: bold; text-align: right;\">28</td><td style = \"text-align: left;\">wec_sdge_landbasedwind_ltrg1_2.0</td><td style = \"text-align: right;\">0.419612</td></tr><tr><td class = \"rowNumber\" style = \"font-weight: bold; text-align: right;\">29</td><td style = \"text-align: left;\">wec_sdge_utilitypv_losangeles_1.0</td><td style = \"text-align: right;\">0.0</td></tr><tr><td class = \"rowNumber\" style = \"font-weight: bold; text-align: right;\">30</td><td style = \"text-align: left;\">wec_sdge_utilitypv_losangeles_2.0</td><td style = \"text-align: right;\">0.0</td></tr></tbody></table></div>"
      ],
      "text/latex": [
       "\\begin{tabular}{r|cc}\n",
       "\t& gen\\_full & cf\\\\\n",
       "\t\\hline\n",
       "\t& String & Float64\\\\\n",
       "\t\\hline\n",
       "\t1 & wec\\_sdge\\_biomass\\_1.0 & 1.0 \\\\\n",
       "\t2 & wec\\_sdge\\_hydroelectric\\_pumped\\_storage\\_1.0 & 1.0 \\\\\n",
       "\t3 & wec\\_sdge\\_natural\\_gas\\_fired\\_combined\\_cycle\\_1.0 & 1.0 \\\\\n",
       "\t4 & wec\\_sdge\\_natural\\_gas\\_fired\\_combined\\_cycle\\_2.0 & 1.0 \\\\\n",
       "\t5 & wec\\_sdge\\_natural\\_gas\\_fired\\_combined\\_cycle\\_3.0 & 1.0 \\\\\n",
       "\t6 & wec\\_sdge\\_natural\\_gas\\_fired\\_combined\\_cycle\\_4.0 & 1.0 \\\\\n",
       "\t7 & wec\\_sdge\\_natural\\_gas\\_fired\\_combustion\\_turbine\\_1.0 & 1.0 \\\\\n",
       "\t8 & wec\\_sdge\\_natural\\_gas\\_fired\\_combustion\\_turbine\\_2.0 & 1.0 \\\\\n",
       "\t9 & wec\\_sdge\\_natural\\_gas\\_fired\\_combustion\\_turbine\\_3.0 & 1.0 \\\\\n",
       "\t10 & wec\\_sdge\\_natural\\_gas\\_fired\\_combustion\\_turbine\\_4.0 & 1.0 \\\\\n",
       "\t11 & wec\\_sdge\\_natural\\_gas\\_fired\\_combustion\\_turbine\\_5.0 & 1.0 \\\\\n",
       "\t12 & wec\\_sdge\\_natural\\_gas\\_fired\\_combustion\\_turbine\\_6.0 & 1.0 \\\\\n",
       "\t13 & wec\\_sdge\\_natural\\_gas\\_fired\\_combustion\\_turbine\\_7.0 & 1.0 \\\\\n",
       "\t14 & wec\\_sdge\\_natural\\_gas\\_fired\\_combustion\\_turbine\\_8.0 & 1.0 \\\\\n",
       "\t15 & wec\\_sdge\\_natural\\_gas\\_fired\\_combustion\\_turbine\\_9.0 & 1.0 \\\\\n",
       "\t16 & wec\\_sdge\\_natural\\_gas\\_fired\\_combustion\\_turbine\\_10.0 & 1.0 \\\\\n",
       "\t17 & wec\\_sdge\\_natural\\_gas\\_fired\\_combustion\\_turbine\\_11.0 & 1.0 \\\\\n",
       "\t18 & wec\\_sdge\\_natural\\_gas\\_fired\\_combustion\\_turbine\\_12.0 & 1.0 \\\\\n",
       "\t19 & wec\\_sdge\\_onshore\\_wind\\_turbine\\_1.0 & 0.2839 \\\\\n",
       "\t20 & wec\\_sdge\\_small\\_hydroelectric\\_1.0 & 0.293 \\\\\n",
       "\t21 & wec\\_sdge\\_solar\\_photovoltaic\\_1.0 & 0.0 \\\\\n",
       "\t22 & wec\\_sdge\\_naturalgas\\_ccccsavgcf\\_0.0 & 1.0 \\\\\n",
       "\t23 & wec\\_sdge\\_naturalgas\\_ccavgcf\\_0.0 & 1.0 \\\\\n",
       "\t24 & wec\\_sdge\\_naturalgas\\_ctavgcf\\_0.0 & 1.0 \\\\\n",
       "\t25 & wec\\_sdge\\_battery\\_0.0 & 1.0 \\\\\n",
       "\t26 & wec\\_sdge\\_naturalgas\\_ccs100\\_0.0 & 1.0 \\\\\n",
       "\t27 & wec\\_sdge\\_landbasedwind\\_ltrg1\\_1.0 & 0.152069 \\\\\n",
       "\t28 & wec\\_sdge\\_landbasedwind\\_ltrg1\\_2.0 & 0.419612 \\\\\n",
       "\t29 & wec\\_sdge\\_utilitypv\\_losangeles\\_1.0 & 0.0 \\\\\n",
       "\t30 & wec\\_sdge\\_utilitypv\\_losangeles\\_2.0 & 0.0 \\\\\n",
       "\\end{tabular}\n"
      ],
      "text/plain": [
       "\u001b[1m30×2 DataFrame\u001b[0m\n",
       "\u001b[1m Row \u001b[0m│\u001b[1m gen_full                          \u001b[0m\u001b[1m cf       \u001b[0m\n",
       "     │\u001b[90m String                            \u001b[0m\u001b[90m Float64  \u001b[0m\n",
       "─────┼─────────────────────────────────────────────\n",
       "   1 │ wec_sdge_biomass_1.0               1.0\n",
       "   2 │ wec_sdge_hydroelectric_pumped_st…  1.0\n",
       "   3 │ wec_sdge_natural_gas_fired_combi…  1.0\n",
       "   4 │ wec_sdge_natural_gas_fired_combi…  1.0\n",
       "   5 │ wec_sdge_natural_gas_fired_combi…  1.0\n",
       "   6 │ wec_sdge_natural_gas_fired_combi…  1.0\n",
       "   7 │ wec_sdge_natural_gas_fired_combu…  1.0\n",
       "   8 │ wec_sdge_natural_gas_fired_combu…  1.0\n",
       "   9 │ wec_sdge_natural_gas_fired_combu…  1.0\n",
       "  10 │ wec_sdge_natural_gas_fired_combu…  1.0\n",
       "  11 │ wec_sdge_natural_gas_fired_combu…  1.0\n",
       "  ⋮  │                 ⋮                     ⋮\n",
       "  21 │ wec_sdge_solar_photovoltaic_1.0    0.0\n",
       "  22 │ wec_sdge_naturalgas_ccccsavgcf_0…  1.0\n",
       "  23 │ wec_sdge_naturalgas_ccavgcf_0.0    1.0\n",
       "  24 │ wec_sdge_naturalgas_ctavgcf_0.0    1.0\n",
       "  25 │ wec_sdge_battery_0.0               1.0\n",
       "  26 │ wec_sdge_naturalgas_ccs100_0.0     1.0\n",
       "  27 │ wec_sdge_landbasedwind_ltrg1_1.0   0.152069\n",
       "  28 │ wec_sdge_landbasedwind_ltrg1_2.0   0.419612\n",
       "  29 │ wec_sdge_utilitypv_losangeles_1.0  0.0\n",
       "  30 │ wec_sdge_utilitypv_losangeles_2.0  0.0\n",
       "\u001b[36m                                     9 rows omitted\u001b[0m"
      ]
     },
     "execution_count": 16,
     "metadata": {},
     "output_type": "execute_result"
    }
   ],
   "source": [
    "var_cf_single = gen_variable_long[\n",
    "    gen_variable_long.hour .== hr, \n",
    "    Not(:hour)]"
   ]
  },
  {
   "cell_type": "code",
   "execution_count": 17,
   "id": "94e24e1f",
   "metadata": {},
   "outputs": [
    {
     "data": {
      "text/plain": [
       "economic_dispatch_single (generic function with 1 method)"
      ]
     },
     "execution_count": 17,
     "metadata": {},
     "output_type": "execute_result"
    }
   ],
   "source": [
    "#3. Create solver function\n",
    "\n",
    "#=\n",
    "Function to solve economic dispatch problem (single-time period, single-zone)      #함수정의 3개의 input이 있음\n",
    "Inputs:\n",
    "    gen_df -- dataframe with generator info                                       #input1: 발전기 정보 \n",
    "    loads  -- dataframe with load info                                            #input2: 부하 정보 \n",
    "    gen_variable -- capacity factors of variable generators (in \"long\" format)    #input3: 발전기의 용량 요소\n",
    "Note: it is always a good idea to include a comment blog describing your\n",
    "function's inputs clearly!\n",
    "=#\n",
    "function economic_dispatch_single(gen_df, loads, gen_variable)                   #함수정의 \n",
    "    ED = Model(HiGHS.Optimizer) # You could use Clp as well, with Clp.Optimizer   #ED는 최적값을 찾는 SOLVER\n",
    "    \n",
    "    #발전기 정보에 variable인지 판단하는 칼럼이 존재\n",
    "    #is_variable이 1(true)이면 G_var에 넣는다\n",
    "    #is_variable이 0(false)이면 G_nonvar에 넣는다\n",
    "    #  :r_id는 r_id 열을 불러 오라는 말이다 \n",
    "    #G_var, G_nonvar, G 는 모두 발전기에대한 일련번호만 들어있는 변수이다 \n",
    "    \n",
    "    # Define sets based on data\n",
    "      # A set of all variable generators\n",
    "    G_var = gen_df[gen_df[!,:is_variable] .== 1,:r_id]                          \n",
    "      # A set of all non-variable generators                                    \n",
    "    G_nonvar = gen_df[gen_df[!,:is_variable] .== 0,:r_id]                         \n",
    "      # Set of all generators\n",
    "    G = gen_df.r_id                                                            \n",
    "    # Extract some parameters given the input data\n",
    "      # Generator capacity factor time series for variable generators\n",
    "   \n",
    "    gen_var_cf = innerjoin(gen_variable, \n",
    "                    gen_df[gen_df.is_variable .== 1 , \n",
    "                        [:r_id, :gen_full, :existing_cap_mw]], \n",
    "                    on = :gen_full)\n",
    "        \n",
    "    #G는 모든 발전기에 대한 일련번호라고 생각하면 된다 /////모든 발전기다. 변수인지 아닌지 상관없다(중요)\n",
    "    #의사결정 변수는 발전기이다. \n",
    "    \n",
    "    # Decision variables   \n",
    "    @variables(ED, begin\n",
    "        GEN[G]  >= 0     # generation\n",
    "        # Note: we assume Pmin = 0 for all resources for simplicty here\n",
    "    end)\n",
    "    \n",
    "#=목적함수는 변수가 아닌 발전기(예를 들어 신재생발전기)의 fuel_cost와 heat_rate의 곱과 GEN[i]와 var_om_cost의 곱을 합한것에 \n",
    "변수인 발전기(가동할것인지 말것인지를 선택할 수 있는 발전기)와 var_om_cost곱한것을 합을 최소화 하는 것이다. (고정비는 생략한다 )=#\n",
    "\n",
    "    # Objective function\n",
    "    @objective(ED, Min, \n",
    "        sum( (gen_df[i,:heat_rate_mmbtu_per_mwh] * gen_df[i,:fuel_cost] +\n",
    "            gen_df[i,:var_om_cost_per_mwh]) * GEN[i] \n",
    "                        for i in G_nonvar) + \n",
    "        sum(gen_df[i,:var_om_cost_per_mwh] * GEN[i] \n",
    "                        for i in G_var)\n",
    "    )\n",
    "\n",
    "            \n",
    "     #제약조건1 모든 발전기의 생산량 총합은 부하(수요)량과 같다      \n",
    "     #제약조건2 변수가 아닌 발전기의 생산량은 해당 발전기의 남은 용량보다 작거나 같아야 한다 \n",
    "     #제약조건3 변수인 발전기의 생산량은 해당 발전기의 남은 용량과 cf의 곱보다 작아야 한다. \n",
    "     #(cf는 정확히 무엇인지는 모르겠으나 0과 1사이 값을 가진다)      \n",
    "            \n",
    "    # Demand constraint\n",
    "    @constraint(ED, cDemand, \n",
    "        sum(GEN[i] for i in G) == loads[1,:demand])\n",
    "\n",
    "    # Capacity constraint (non-variable generation)\n",
    "    for i in G_nonvar\n",
    "        @constraint(ED, GEN[i] <= gen_df[i,:existing_cap_mw])\n",
    "    end\n",
    "\n",
    "    # Variable generation capacity constraint\n",
    "    for i in 1:nrow(gen_var_cf)\n",
    "        @constraint(ED, GEN[gen_var_cf[i,:r_id] ] <= \n",
    "                        gen_var_cf[i,:cf] *\n",
    "                        gen_var_cf[i,:existing_cap_mw])\n",
    "    end\n",
    "\n",
    "    #최적 생산량을 찾는 code\n",
    "    # Solve statement (! indicates runs in place)\n",
    "    optimize!(ED)\n",
    "    \n",
    "    #각 발전기에 대한 일련번호,발전원(발전연료), 발전량에 대한 테이블을 보여줌     \n",
    "    # Dataframe of optimal decision variables\n",
    "    solution = DataFrame(\n",
    "        r_id = gen_df.r_id,\n",
    "        resource = gen_df.resource,\n",
    "        gen = value.(GEN).data\n",
    "        )\n",
    "\n",
    "    # Return the solution and objective as named tuple\n",
    "    return (\n",
    "        solution = solution, \n",
    "        cost = objective_value(ED),\n",
    "    )\n",
    "end\n",
    "     "
   ]
  },
  {
   "cell_type": "code",
   "execution_count": 18,
   "id": "bc4239db",
   "metadata": {},
   "outputs": [
    {
     "name": "stdout",
     "output_type": "stream",
     "text": [
      "Running HiGHS 1.4.0 [date: 1970-01-01, git hash: bcf6c0b22]\n",
      "Copyright (c) 2022 ERGO-Code under MIT licence terms\n",
      "Presolving model\n",
      "1 rows, 21 cols, 21 nonzeros\n",
      "1 rows, 19 cols, 19 nonzeros\n",
      "Presolve : Reductions: rows 1(-25); columns 19(-6); elements 19(-31)\n",
      "Solving the presolved LP\n",
      "Using EKK dual simplex solver - serial\n",
      "  Iteration        Objective     Infeasibilities num(sum)\n",
      "          0     1.2524042600e+04 Pr: 1(1711.68) 0s\n",
      "          1     6.6868294042e+04 Pr: 0(0) 0s\n",
      "Solving the original LP from the solution after postsolve\n",
      "Model   status      : Optimal\n",
      "Simplex   iterations: 1\n",
      "Objective value     :  6.6868294042e+04\n",
      "HiGHS run time      :          0.02\n"
     ]
    },
    {
     "data": {
      "text/html": [
       "<div><div style = \"float: left;\"><span>25×3 DataFrame</span></div><div style = \"clear: both;\"></div></div><div class = \"data-frame\" style = \"overflow-x: scroll;\"><table class = \"data-frame\" style = \"margin-bottom: 6px;\"><thead><tr class = \"header\"><th class = \"rowNumber\" style = \"font-weight: bold; text-align: right;\">Row</th><th style = \"text-align: left;\">r_id</th><th style = \"text-align: left;\">resource</th><th style = \"text-align: left;\">gen</th></tr><tr class = \"subheader headerLastRow\"><th class = \"rowNumber\" style = \"font-weight: bold; text-align: right;\"></th><th title = \"Union{Missing, Int64}\" style = \"text-align: left;\">Int64?</th><th title = \"Union{Missing, String}\" style = \"text-align: left;\">String?</th><th title = \"Float64\" style = \"text-align: left;\">Float64</th></tr></thead><tbody><tr><td class = \"rowNumber\" style = \"font-weight: bold; text-align: right;\">1</td><td style = \"text-align: right;\">1</td><td style = \"text-align: left;\">biomass</td><td style = \"text-align: right;\">21.4</td></tr><tr><td class = \"rowNumber\" style = \"font-weight: bold; text-align: right;\">2</td><td style = \"text-align: right;\">2</td><td style = \"text-align: left;\">hydroelectric_pumped_storage</td><td style = \"text-align: right;\">42.0</td></tr><tr><td class = \"rowNumber\" style = \"font-weight: bold; text-align: right;\">3</td><td style = \"text-align: right;\">3</td><td style = \"text-align: left;\">natural_gas_fired_combined_cycle</td><td style = \"text-align: right;\">607.1</td></tr><tr><td class = \"rowNumber\" style = \"font-weight: bold; text-align: right;\">4</td><td style = \"text-align: right;\">4</td><td style = \"text-align: left;\">natural_gas_fired_combined_cycle</td><td style = \"text-align: right;\">30.0</td></tr><tr><td class = \"rowNumber\" style = \"font-weight: bold; text-align: right;\">5</td><td style = \"text-align: right;\">5</td><td style = \"text-align: left;\">natural_gas_fired_combined_cycle</td><td style = \"text-align: right;\">49.4</td></tr><tr><td class = \"rowNumber\" style = \"font-weight: bold; text-align: right;\">6</td><td style = \"text-align: right;\">6</td><td style = \"text-align: left;\">natural_gas_fired_combined_cycle</td><td style = \"text-align: right;\">570.0</td></tr><tr><td class = \"rowNumber\" style = \"font-weight: bold; text-align: right;\">7</td><td style = \"text-align: right;\">7</td><td style = \"text-align: left;\">natural_gas_fired_combined_cycle</td><td style = \"text-align: right;\">336.0</td></tr><tr><td class = \"rowNumber\" style = \"font-weight: bold; text-align: right;\">8</td><td style = \"text-align: right;\">8</td><td style = \"text-align: left;\">natural_gas_fired_combined_cycle</td><td style = \"text-align: right;\">336.0</td></tr><tr><td class = \"rowNumber\" style = \"font-weight: bold; text-align: right;\">9</td><td style = \"text-align: right;\">9</td><td style = \"text-align: left;\">natural_gas_fired_combustion_turbine</td><td style = \"text-align: right;\">91.6</td></tr><tr><td class = \"rowNumber\" style = \"font-weight: bold; text-align: right;\">10</td><td style = \"text-align: right;\">10</td><td style = \"text-align: left;\">natural_gas_fired_combustion_turbine</td><td style = \"text-align: right;\">49.9</td></tr><tr><td class = \"rowNumber\" style = \"font-weight: bold; text-align: right;\">11</td><td style = \"text-align: right;\">11</td><td style = \"text-align: left;\">natural_gas_fired_combustion_turbine</td><td style = \"text-align: right;\">48.1</td></tr><tr><td class = \"rowNumber\" style = \"font-weight: bold; text-align: right;\">12</td><td style = \"text-align: right;\">12</td><td style = \"text-align: left;\">natural_gas_fired_combustion_turbine</td><td style = \"text-align: right;\">0.0</td></tr><tr><td class = \"rowNumber\" style = \"font-weight: bold; text-align: right;\">13</td><td style = \"text-align: right;\">13</td><td style = \"text-align: left;\">natural_gas_fired_combustion_turbine</td><td style = \"text-align: right;\">96.6</td></tr><tr><td class = \"rowNumber\" style = \"font-weight: bold; text-align: right;\">14</td><td style = \"text-align: right;\">14</td><td style = \"text-align: left;\">natural_gas_fired_combustion_turbine</td><td style = \"text-align: right;\">0.0</td></tr><tr><td class = \"rowNumber\" style = \"font-weight: bold; text-align: right;\">15</td><td style = \"text-align: right;\">15</td><td style = \"text-align: left;\">natural_gas_fired_combustion_turbine</td><td style = \"text-align: right;\">0.0</td></tr><tr><td class = \"rowNumber\" style = \"font-weight: bold; text-align: right;\">16</td><td style = \"text-align: right;\">16</td><td style = \"text-align: left;\">natural_gas_fired_combustion_turbine</td><td style = \"text-align: right;\">0.0</td></tr><tr><td class = \"rowNumber\" style = \"font-weight: bold; text-align: right;\">17</td><td style = \"text-align: right;\">17</td><td style = \"text-align: left;\">natural_gas_fired_combustion_turbine</td><td style = \"text-align: right;\">0.0</td></tr><tr><td class = \"rowNumber\" style = \"font-weight: bold; text-align: right;\">18</td><td style = \"text-align: right;\">18</td><td style = \"text-align: left;\">natural_gas_fired_combustion_turbine</td><td style = \"text-align: right;\">0.0</td></tr><tr><td class = \"rowNumber\" style = \"font-weight: bold; text-align: right;\">19</td><td style = \"text-align: right;\">19</td><td style = \"text-align: left;\">natural_gas_fired_combustion_turbine</td><td style = \"text-align: right;\">0.0</td></tr><tr><td class = \"rowNumber\" style = \"font-weight: bold; text-align: right;\">20</td><td style = \"text-align: right;\">20</td><td style = \"text-align: left;\">natural_gas_fired_combustion_turbine</td><td style = \"text-align: right;\">0.0</td></tr><tr><td class = \"rowNumber\" style = \"font-weight: bold; text-align: right;\">21</td><td style = \"text-align: right;\">21</td><td style = \"text-align: left;\">natural_gas_fired_combustion_turbine</td><td style = \"text-align: right;\">51.3</td></tr><tr><td class = \"rowNumber\" style = \"font-weight: bold; text-align: right;\">22</td><td style = \"text-align: right;\">22</td><td style = \"text-align: left;\">natural_gas_fired_combustion_turbine</td><td style = \"text-align: right;\">15.6786</td></tr><tr><td class = \"rowNumber\" style = \"font-weight: bold; text-align: right;\">23</td><td style = \"text-align: right;\">23</td><td style = \"text-align: left;\">onshore_wind_turbine</td><td style = \"text-align: right;\">61.7766</td></tr><tr><td class = \"rowNumber\" style = \"font-weight: bold; text-align: right;\">24</td><td style = \"text-align: right;\">24</td><td style = \"text-align: left;\">small_hydroelectric</td><td style = \"text-align: right;\">2.14476</td></tr><tr><td class = \"rowNumber\" style = \"font-weight: bold; text-align: right;\">25</td><td style = \"text-align: right;\">25</td><td style = \"text-align: left;\">solar_photovoltaic</td><td style = \"text-align: right;\">-0.0</td></tr></tbody></table></div>"
      ],
      "text/latex": [
       "\\begin{tabular}{r|ccc}\n",
       "\t& r\\_id & resource & gen\\\\\n",
       "\t\\hline\n",
       "\t& Int64? & String? & Float64\\\\\n",
       "\t\\hline\n",
       "\t1 & 1 & biomass & 21.4 \\\\\n",
       "\t2 & 2 & hydroelectric\\_pumped\\_storage & 42.0 \\\\\n",
       "\t3 & 3 & natural\\_gas\\_fired\\_combined\\_cycle & 607.1 \\\\\n",
       "\t4 & 4 & natural\\_gas\\_fired\\_combined\\_cycle & 30.0 \\\\\n",
       "\t5 & 5 & natural\\_gas\\_fired\\_combined\\_cycle & 49.4 \\\\\n",
       "\t6 & 6 & natural\\_gas\\_fired\\_combined\\_cycle & 570.0 \\\\\n",
       "\t7 & 7 & natural\\_gas\\_fired\\_combined\\_cycle & 336.0 \\\\\n",
       "\t8 & 8 & natural\\_gas\\_fired\\_combined\\_cycle & 336.0 \\\\\n",
       "\t9 & 9 & natural\\_gas\\_fired\\_combustion\\_turbine & 91.6 \\\\\n",
       "\t10 & 10 & natural\\_gas\\_fired\\_combustion\\_turbine & 49.9 \\\\\n",
       "\t11 & 11 & natural\\_gas\\_fired\\_combustion\\_turbine & 48.1 \\\\\n",
       "\t12 & 12 & natural\\_gas\\_fired\\_combustion\\_turbine & 0.0 \\\\\n",
       "\t13 & 13 & natural\\_gas\\_fired\\_combustion\\_turbine & 96.6 \\\\\n",
       "\t14 & 14 & natural\\_gas\\_fired\\_combustion\\_turbine & 0.0 \\\\\n",
       "\t15 & 15 & natural\\_gas\\_fired\\_combustion\\_turbine & 0.0 \\\\\n",
       "\t16 & 16 & natural\\_gas\\_fired\\_combustion\\_turbine & 0.0 \\\\\n",
       "\t17 & 17 & natural\\_gas\\_fired\\_combustion\\_turbine & 0.0 \\\\\n",
       "\t18 & 18 & natural\\_gas\\_fired\\_combustion\\_turbine & 0.0 \\\\\n",
       "\t19 & 19 & natural\\_gas\\_fired\\_combustion\\_turbine & 0.0 \\\\\n",
       "\t20 & 20 & natural\\_gas\\_fired\\_combustion\\_turbine & 0.0 \\\\\n",
       "\t21 & 21 & natural\\_gas\\_fired\\_combustion\\_turbine & 51.3 \\\\\n",
       "\t22 & 22 & natural\\_gas\\_fired\\_combustion\\_turbine & 15.6786 \\\\\n",
       "\t23 & 23 & onshore\\_wind\\_turbine & 61.7766 \\\\\n",
       "\t24 & 24 & small\\_hydroelectric & 2.14476 \\\\\n",
       "\t25 & 25 & solar\\_photovoltaic & -0.0 \\\\\n",
       "\\end{tabular}\n"
      ],
      "text/plain": [
       "\u001b[1m25×3 DataFrame\u001b[0m\n",
       "\u001b[1m Row \u001b[0m│\u001b[1m r_id   \u001b[0m\u001b[1m resource                          \u001b[0m\u001b[1m gen       \u001b[0m\n",
       "     │\u001b[90m Int64? \u001b[0m\u001b[90m String?                           \u001b[0m\u001b[90m Float64   \u001b[0m\n",
       "─────┼──────────────────────────────────────────────────────\n",
       "   1 │      1  biomass                             21.4\n",
       "   2 │      2  hydroelectric_pumped_storage        42.0\n",
       "   3 │      3  natural_gas_fired_combined_cycle   607.1\n",
       "   4 │      4  natural_gas_fired_combined_cycle    30.0\n",
       "   5 │      5  natural_gas_fired_combined_cycle    49.4\n",
       "   6 │      6  natural_gas_fired_combined_cycle   570.0\n",
       "   7 │      7  natural_gas_fired_combined_cycle   336.0\n",
       "   8 │      8  natural_gas_fired_combined_cycle   336.0\n",
       "   9 │      9  natural_gas_fired_combustion_tur…   91.6\n",
       "  10 │     10  natural_gas_fired_combustion_tur…   49.9\n",
       "  11 │     11  natural_gas_fired_combustion_tur…   48.1\n",
       "  ⋮  │   ⋮                     ⋮                      ⋮\n",
       "  16 │     16  natural_gas_fired_combustion_tur…    0.0\n",
       "  17 │     17  natural_gas_fired_combustion_tur…    0.0\n",
       "  18 │     18  natural_gas_fired_combustion_tur…    0.0\n",
       "  19 │     19  natural_gas_fired_combustion_tur…    0.0\n",
       "  20 │     20  natural_gas_fired_combustion_tur…    0.0\n",
       "  21 │     21  natural_gas_fired_combustion_tur…   51.3\n",
       "  22 │     22  natural_gas_fired_combustion_tur…   15.6786\n",
       "  23 │     23  onshore_wind_turbine                61.7766\n",
       "  24 │     24  small_hydroelectric                  2.14476\n",
       "  25 │     25  solar_photovoltaic                  -0.0\n",
       "\u001b[36m                                              4 rows omitted\u001b[0m"
      ]
     },
     "execution_count": 18,
     "metadata": {},
     "output_type": "execute_result"
    }
   ],
   "source": [
    "#4. Solve and print data\n",
    "\n",
    "solution = economic_dispatch_single(gen_df, loads_single, var_cf_single);\n",
    "solution.solution"
   ]
  },
  {
   "cell_type": "code",
   "execution_count": 19,
   "id": "1e652145",
   "metadata": {},
   "outputs": [],
   "source": [
    "supply_curve = leftjoin(gen_df,\n",
    "                var_cf_single, \n",
    "                on = :gen_full)\n",
    "supply_curve[!, :varcost] .= 0.0\n",
    "supply_curve[!, :cap] .= 0.0\n",
    "\n",
    "# Store varcost of non-variable generators:\n",
    "I = supply_curve[!,:is_variable] .== 0  # `I` contains indexes to the non-variable generators\n",
    "supply_curve[I,:varcost] .= \n",
    "    supply_curve[I,:heat_rate_mmbtu_per_mwh] .* \n",
    "        supply_curve[I,:fuel_cost] .+\n",
    "    supply_curve[I,:var_om_cost_per_mwh]\n",
    "\n",
    "# Calculate available capacity for each generator\n",
    "supply_curve[I,:cap] = supply_curve[I,:existing_cap_mw]\n",
    "\n",
    "# Store varcost of variable generators (in this case, 0)\n",
    "I = (supply_curve[:,:is_variable] .== 1) # `I` contains indexes to the variable generators\n",
    "supply_curve[I,:varcost] = supply_curve[I,:var_om_cost_per_mwh]\n",
    "\n",
    "# Calculate available capacity for each generator\n",
    "# (adjusted for variable generation)\n",
    "supply_curve[I,:cap] = supply_curve[I,:existing_cap_mw] .* supply_curve[I,:cf]\n",
    "\n",
    "sort!(supply_curve, :varcost);"
   ]
  },
  {
   "cell_type": "code",
   "execution_count": 20,
   "id": "af6bb45c",
   "metadata": {},
   "outputs": [
    {
     "data": {
      "application/vnd.plotly.v1+json": {
       "data": [
        {
         "fill": "tozeroy",
         "fillcolor": "rgba(142, 151, 30, 0.500)",
         "legendgroup": "",
         "line": {
          "color": "rgba(0, 0, 0, 0.500)",
          "dash": "solid",
          "width": 1
         },
         "mode": "lines",
         "name": "",
         "showlegend": false,
         "type": "scatter",
         "x": [
          0,
          42,
          42,
          0,
          0
         ],
         "xaxis": "x1",
         "y": [
          0,
          0,
          0,
          0,
          0
         ],
         "yaxis": "y1"
        },
        {
         "fill": "tozeroy",
         "fillcolor": "rgba(0, 169, 204, 0.500)",
         "legendgroup": "",
         "line": {
          "color": "rgba(0, 0, 0, 0.500)",
          "dash": "solid",
          "width": 1
         },
         "mode": "lines",
         "name": "",
         "showlegend": false,
         "type": "scatter",
         "x": [
          42,
          103.77663999999999,
          103.77663999999999,
          42,
          42
         ],
         "xaxis": "x1",
         "y": [
          0,
          0,
          0,
          0,
          0
         ],
         "yaxis": "y1"
        },
        {
         "fill": "tozeroy",
         "fillcolor": "rgba(155, 127, 233, 0.500)",
         "legendgroup": "",
         "line": {
          "color": "rgba(0, 0, 0, 0.500)",
          "dash": "solid",
          "width": 1
         },
         "mode": "lines",
         "name": "",
         "showlegend": false,
         "type": "scatter",
         "x": [
          103.77663999999999,
          105.92139999999999,
          105.92139999999999,
          103.77663999999999,
          103.77663999999999
         ],
         "xaxis": "x1",
         "y": [
          0,
          0,
          0,
          0,
          0
         ],
         "yaxis": "y1"
        },
        {
         "fill": "tozeroy",
         "fillcolor": "rgba(97, 141, 246, 0.500)",
         "legendgroup": "",
         "line": {
          "color": "rgba(0, 0, 0, 0.500)",
          "dash": "solid",
          "width": 1
         },
         "mode": "lines",
         "name": "",
         "showlegend": false,
         "type": "scatter",
         "x": [
          105.92139999999999,
          105.92139999999999,
          105.92139999999999,
          105.92139999999999,
          105.92139999999999
         ],
         "xaxis": "x1",
         "y": [
          0,
          0,
          0,
          0,
          0
         ],
         "yaxis": "y1"
        },
        {
         "fill": "tozeroy",
         "fillcolor": "rgba(240, 96, 115, 0.500)",
         "legendgroup": "",
         "line": {
          "color": "rgba(0, 0, 0, 0.500)",
          "dash": "solid",
          "width": 1
         },
         "mode": "lines",
         "name": "",
         "showlegend": false,
         "type": "scatter",
         "x": [
          105.92139999999999,
          127.32139999999998,
          127.32139999999998,
          105.92139999999999,
          105.92139999999999
         ],
         "xaxis": "x1",
         "y": [
          0,
          0,
          5.234,
          5.234,
          0
         ],
         "yaxis": "y1"
        },
        {
         "fill": "tozeroy",
         "fillcolor": "rgba(221, 101, 182, 0.500)",
         "legendgroup": "",
         "line": {
          "color": "rgba(0, 0, 0, 0.500)",
          "dash": "solid",
          "width": 1
         },
         "mode": "lines",
         "name": "",
         "showlegend": false,
         "type": "scatter",
         "x": [
          127.32139999999998,
          697.3214,
          697.3214,
          127.32139999999998,
          127.32139999999998
         ],
         "xaxis": "x1",
         "y": [
          0,
          0,
          21.775499999999997,
          21.775499999999997,
          0
         ],
         "yaxis": "y1"
        },
        {
         "fill": "tozeroy",
         "fillcolor": "rgba(108, 159, 51, 0.500)",
         "legendgroup": "",
         "line": {
          "color": "rgba(0, 0, 0, 0.500)",
          "dash": "solid",
          "width": 1
         },
         "mode": "lines",
         "name": "",
         "showlegend": false,
         "type": "scatter",
         "x": [
          697.3214,
          1304.4214000000002,
          1304.4214000000002,
          697.3214,
          697.3214
         ],
         "xaxis": "x1",
         "y": [
          0,
          0,
          22.726399999999995,
          22.726399999999995,
          0
         ],
         "yaxis": "y1"
        },
        {
         "fill": "tozeroy",
         "fillcolor": "rgba(0, 154, 250, 0.500)",
         "legendgroup": "",
         "line": {
          "color": "rgba(0, 0, 0, 0.500)",
          "dash": "solid",
          "width": 1
         },
         "mode": "lines",
         "name": "",
         "showlegend": false,
         "type": "scatter",
         "x": [
          1304.4214000000002,
          1353.8214000000003,
          1353.8214000000003,
          1304.4214000000002,
          1304.4214000000002
         ],
         "xaxis": "x1",
         "y": [
          0,
          0,
          29.3061,
          29.3061,
          0
         ],
         "yaxis": "y1"
        },
        {
         "fill": "tozeroy",
         "fillcolor": "rgba(227, 111, 71, 0.500)",
         "legendgroup": "",
         "line": {
          "color": "rgba(0, 0, 0, 0.500)",
          "dash": "solid",
          "width": 1
         },
         "mode": "lines",
         "name": "",
         "showlegend": false,
         "type": "scatter",
         "x": [
          1353.8214000000003,
          1383.8214000000003,
          1383.8214000000003,
          1353.8214000000003,
          1353.8214000000003
         ],
         "xaxis": "x1",
         "y": [
          0,
          0,
          30.128500000000003,
          30.128500000000003,
          0
         ],
         "yaxis": "y1"
        },
        {
         "fill": "tozeroy",
         "fillcolor": "rgba(62, 164, 78, 0.500)",
         "legendgroup": "",
         "line": {
          "color": "rgba(0, 0, 0, 0.500)",
          "dash": "solid",
          "width": 1
         },
         "mode": "lines",
         "name": "",
         "showlegend": false,
         "type": "scatter",
         "x": [
          1383.8214000000003,
          1719.8214000000003,
          1719.8214000000003,
          1383.8214000000003,
          1383.8214000000003
         ],
         "xaxis": "x1",
         "y": [
          0,
          0,
          36.5771,
          36.5771,
          0
         ],
         "yaxis": "y1"
        },
        {
         "fill": "tozeroy",
         "fillcolor": "rgba(195, 113, 210, 0.500)",
         "legendgroup": "",
         "line": {
          "color": "rgba(0, 0, 0, 0.500)",
          "dash": "solid",
          "width": 1
         },
         "mode": "lines",
         "name": "",
         "showlegend": false,
         "type": "scatter",
         "x": [
          1719.8214000000003,
          2055.8214000000003,
          2055.8214000000003,
          1719.8214000000003,
          1719.8214000000003
         ],
         "xaxis": "x1",
         "y": [
          0,
          0,
          36.757,
          36.757,
          0
         ],
         "yaxis": "y1"
        },
        {
         "fill": "tozeroy",
         "fillcolor": "rgba(172, 142, 24, 0.500)",
         "legendgroup": "",
         "line": {
          "color": "rgba(0, 0, 0, 0.500)",
          "dash": "solid",
          "width": 1
         },
         "mode": "lines",
         "name": "",
         "showlegend": false,
         "type": "scatter",
         "x": [
          2055.8214000000003,
          2105.7214000000004,
          2105.7214000000004,
          2055.8214000000003,
          2055.8214000000003
         ],
         "xaxis": "x1",
         "y": [
          0,
          0,
          37.733599999999996,
          37.733599999999996,
          0
         ],
         "yaxis": "y1"
        },
        {
         "fill": "tozeroy",
         "fillcolor": "rgba(0, 170, 174, 0.500)",
         "legendgroup": "",
         "line": {
          "color": "rgba(0, 0, 0, 0.500)",
          "dash": "solid",
          "width": 1
         },
         "mode": "lines",
         "name": "",
         "showlegend": false,
         "type": "scatter",
         "x": [
          2105.7214000000004,
          2202.3214000000003,
          2202.3214000000003,
          2105.7214000000004,
          2105.7214000000004
         ],
         "xaxis": "x1",
         "y": [
          0,
          0,
          37.785,
          37.785,
          0
         ],
         "yaxis": "y1"
        },
        {
         "fill": "tozeroy",
         "fillcolor": "rgba(237, 94, 147, 0.500)",
         "legendgroup": "",
         "line": {
          "color": "rgba(0, 0, 0, 0.500)",
          "dash": "solid",
          "width": 1
         },
         "mode": "lines",
         "name": "",
         "showlegend": false,
         "type": "scatter",
         "x": [
          2202.3214000000003,
          2293.9214,
          2293.9214,
          2202.3214000000003,
          2202.3214000000003
         ],
         "xaxis": "x1",
         "y": [
          0,
          0,
          38.2733,
          38.2733,
          0
         ],
         "yaxis": "y1"
        },
        {
         "fill": "tozeroy",
         "fillcolor": "rgba(198, 130, 37, 0.500)",
         "legendgroup": "",
         "line": {
          "color": "rgba(0, 0, 0, 0.500)",
          "dash": "solid",
          "width": 1
         },
         "mode": "lines",
         "name": "",
         "showlegend": false,
         "type": "scatter",
         "x": [
          2293.9214,
          2342.0214,
          2342.0214,
          2293.9214,
          2293.9214
         ],
         "xaxis": "x1",
         "y": [
          0,
          0,
          39.172799999999995,
          39.172799999999995,
          0
         ],
         "yaxis": "y1"
        },
        {
         "fill": "tozeroy",
         "fillcolor": "rgba(0, 169, 141, 0.500)",
         "legendgroup": "",
         "line": {
          "color": "rgba(0, 0, 0, 0.500)",
          "dash": "solid",
          "width": 1
         },
         "mode": "lines",
         "name": "",
         "showlegend": false,
         "type": "scatter",
         "x": [
          2342.0214,
          2393.3214000000003,
          2393.3214000000003,
          2342.0214,
          2342.0214
         ],
         "xaxis": "x1",
         "y": [
          0,
          0,
          39.2756,
          39.2756,
          0
         ],
         "yaxis": "y1"
        },
        {
         "fill": "tozeroy",
         "fillcolor": "rgba(142, 151, 30, 0.500)",
         "legendgroup": "",
         "line": {
          "color": "rgba(0, 0, 0, 0.500)",
          "dash": "solid",
          "width": 1
         },
         "mode": "lines",
         "name": "",
         "showlegend": false,
         "type": "scatter",
         "x": [
          2393.3214000000003,
          2444.6214000000004,
          2444.6214000000004,
          2393.3214000000003,
          2393.3214000000003
         ],
         "xaxis": "x1",
         "y": [
          0,
          0,
          39.3784,
          39.3784,
          0
         ],
         "yaxis": "y1"
        },
        {
         "fill": "tozeroy",
         "fillcolor": "rgba(0, 169, 204, 0.500)",
         "legendgroup": "",
         "line": {
          "color": "rgba(0, 0, 0, 0.500)",
          "dash": "solid",
          "width": 1
         },
         "mode": "lines",
         "name": "",
         "showlegend": false,
         "type": "scatter",
         "x": [
          2444.6214000000004,
          2542.8214000000003,
          2542.8214000000003,
          2444.6214000000004,
          2444.6214000000004
         ],
         "xaxis": "x1",
         "y": [
          0,
          0,
          39.4555,
          39.4555,
          0
         ],
         "yaxis": "y1"
        },
        {
         "fill": "tozeroy",
         "fillcolor": "rgba(155, 127, 233, 0.500)",
         "legendgroup": "",
         "line": {
          "color": "rgba(0, 0, 0, 0.500)",
          "dash": "solid",
          "width": 1
         },
         "mode": "lines",
         "name": "",
         "showlegend": false,
         "type": "scatter",
         "x": [
          2542.8214000000003,
          2641.0214,
          2641.0214,
          2542.8214000000003,
          2542.8214000000003
         ],
         "xaxis": "x1",
         "y": [
          0,
          0,
          39.583999999999996,
          39.583999999999996,
          0
         ],
         "yaxis": "y1"
        },
        {
         "fill": "tozeroy",
         "fillcolor": "rgba(97, 141, 246, 0.500)",
         "legendgroup": "",
         "line": {
          "color": "rgba(0, 0, 0, 0.500)",
          "dash": "solid",
          "width": 1
         },
         "mode": "lines",
         "name": "",
         "showlegend": false,
         "type": "scatter",
         "x": [
          2641.0214,
          2689.9214,
          2689.9214,
          2641.0214,
          2641.0214
         ],
         "xaxis": "x1",
         "y": [
          0,
          0,
          39.635400000000004,
          39.635400000000004,
          0
         ],
         "yaxis": "y1"
        },
        {
         "fill": "tozeroy",
         "fillcolor": "rgba(240, 96, 115, 0.500)",
         "legendgroup": "",
         "line": {
          "color": "rgba(0, 0, 0, 0.500)",
          "dash": "solid",
          "width": 1
         },
         "mode": "lines",
         "name": "",
         "showlegend": false,
         "type": "scatter",
         "x": [
          2689.9214,
          2738.8214000000003,
          2738.8214000000003,
          2689.9214,
          2689.9214
         ],
         "xaxis": "x1",
         "y": [
          0,
          0,
          39.841,
          39.841,
          0
         ],
         "yaxis": "y1"
        },
        {
         "fill": "tozeroy",
         "fillcolor": "rgba(221, 101, 182, 0.500)",
         "legendgroup": "",
         "line": {
          "color": "rgba(0, 0, 0, 0.500)",
          "dash": "solid",
          "width": 1
         },
         "mode": "lines",
         "name": "",
         "showlegend": false,
         "type": "scatter",
         "x": [
          2738.8214000000003,
          2787.5214,
          2787.5214,
          2738.8214000000003,
          2738.8214000000003
         ],
         "xaxis": "x1",
         "y": [
          0,
          0,
          40.2522,
          40.2522,
          0
         ],
         "yaxis": "y1"
        },
        {
         "fill": "tozeroy",
         "fillcolor": "rgba(108, 159, 51, 0.500)",
         "legendgroup": "",
         "line": {
          "color": "rgba(0, 0, 0, 0.500)",
          "dash": "solid",
          "width": 1
         },
         "mode": "lines",
         "name": "",
         "showlegend": false,
         "type": "scatter",
         "x": [
          2787.5214,
          2792.3214000000003,
          2792.3214000000003,
          2787.5214,
          2787.5214
         ],
         "xaxis": "x1",
         "y": [
          0,
          0,
          41.9741,
          41.9741,
          0
         ],
         "yaxis": "y1"
        },
        {
         "fill": "tozeroy",
         "fillcolor": "rgba(0, 154, 250, 0.500)",
         "legendgroup": "",
         "line": {
          "color": "rgba(0, 0, 0, 0.500)",
          "dash": "solid",
          "width": 1
         },
         "mode": "lines",
         "name": "",
         "showlegend": false,
         "type": "scatter",
         "x": [
          2792.3214000000003,
          2809.6214000000004,
          2809.6214000000004,
          2792.3214000000003,
          2792.3214000000003
         ],
         "xaxis": "x1",
         "y": [
          0,
          0,
          45.674899999999994,
          45.674899999999994,
          0
         ],
         "yaxis": "y1"
        },
        {
         "fill": "tozeroy",
         "fillcolor": "rgba(227, 111, 71, 0.500)",
         "legendgroup": "",
         "line": {
          "color": "rgba(0, 0, 0, 0.500)",
          "dash": "solid",
          "width": 1
         },
         "mode": "lines",
         "name": "",
         "showlegend": false,
         "type": "scatter",
         "x": [
          2809.6214000000004,
          2844.2214000000004,
          2844.2214000000004,
          2809.6214000000004,
          2809.6214000000004
         ],
         "xaxis": "x1",
         "y": [
          0,
          0,
          54.1302,
          54.1302,
          0
         ],
         "yaxis": "y1"
        },
        {
         "colorbar": {
          "len": 0.8657316272965879,
          "title": "",
          "x": 0.9934383202099737,
          "y": 0.5086805555555556
         },
         "legendgroup": "demand",
         "line": {
          "color": "rgba(0, 0, 0, 1.000)",
          "dash": "solid",
          "shape": "linear",
          "width": 5
         },
         "mode": "lines",
         "name": "demand",
         "showlegend": true,
         "type": "scatter",
         "x": [
          2409,
          2409
         ],
         "xaxis": "x",
         "y": [
          -5739.4251060000015,
          5793.555306000002
         ],
         "yaxis": "y",
         "zmax": null,
         "zmin": null
        },
        {
         "colorbar": {
          "len": 0.8657316272965879,
          "title": "",
          "x": 0.9934383202099737,
          "y": 0.5086805555555556
         },
         "legendgroup": "SRMC",
         "line": {
          "color": "rgba(0, 0, 255, 1.000)",
          "dash": "solid",
          "shape": "linear",
          "width": 5
         },
         "mode": "lines",
         "name": "SRMC",
         "showlegend": true,
         "type": "scatter",
         "x": [
          -301572.795042,
          304417.016442
         ],
         "xaxis": "x",
         "y": [
          39.3784,
          39.3784
         ],
         "yaxis": "y",
         "zmax": null,
         "zmin": null
        }
       ],
       "layout": {
        "annotations": [
         {
          "font": {
           "color": "rgba(0, 0, 0, 1.000)",
           "family": "sans-serif",
           "size": 20
          },
          "rotation": 0,
          "showarrow": false,
          "text": "Supply and demand curves",
          "x": 0.5275462962962963,
          "xanchor": "center",
          "xref": "paper",
          "y": 1,
          "yanchor": "top",
          "yref": "paper"
         }
        ],
        "height": 400,
        "legend": {
         "bgcolor": "rgba(255, 255, 255, 1.000)",
         "bordercolor": "rgba(0, 0, 0, 1.000)",
         "borderwidth": 1,
         "font": {
          "color": "rgba(0, 0, 0, 1.000)",
          "family": "sans-serif",
          "size": 11
         },
         "title": {
          "font": {
           "color": "rgba(0, 0, 0, 1.000)",
           "family": "sans-serif",
           "size": 15
          },
          "text": ""
         },
         "tracegroupgap": 0,
         "traceorder": "normal",
         "x": 1,
         "xanchor": "auto",
         "y": 1,
         "yanchor": "auto"
        },
        "margin": {
         "b": 20,
         "l": 0,
         "r": 0,
         "t": 20
        },
        "paper_bgcolor": "rgba(255, 255, 255, 1.000)",
        "plot_bgcolor": "rgba(255, 255, 255, 1.000)",
        "showlegend": true,
        "width": 600,
        "xaxis": {
         "anchor": "y",
         "domain": [
          0.061654272382618835,
          0.9934383202099737
         ],
         "gridcolor": "rgba(0, 0, 0, 0.100)",
         "gridwidth": 0.5,
         "linecolor": "rgba(0, 0, 0, 1.000)",
         "mirror": false,
         "range": [
          -85.32664199999999,
          2929.5480420000004
         ],
         "showgrid": true,
         "showline": true,
         "showticklabels": true,
         "tickangle": 0,
         "tickcolor": "rgb(0, 0, 0)",
         "tickfont": {
          "color": "rgba(0, 0, 0, 1.000)",
          "family": "sans-serif",
          "size": 11
         },
         "tickmode": "array",
         "ticks": "inside",
         "ticktext": [
          "0",
          "500",
          "1000",
          "1500",
          "2000",
          "2500"
         ],
         "tickvals": [
          0,
          500,
          1000,
          1500,
          2000,
          2500
         ],
         "title": "Capacity",
         "titlefont": {
          "color": "rgba(0, 0, 0, 1.000)",
          "family": "sans-serif",
          "size": 15
         },
         "type": "-",
         "visible": true,
         "zeroline": false,
         "zerolinecolor": "rgba(0, 0, 0, 1.000)"
        },
        "yaxis": {
         "anchor": "x",
         "domain": [
          0.07581474190726165,
          0.9415463692038496
         ],
         "gridcolor": "rgba(0, 0, 0, 0.100)",
         "gridwidth": 0.5,
         "linecolor": "rgba(0, 0, 0, 1.000)",
         "mirror": false,
         "range": [
          -1.6239060000000016,
          55.75410600000001
         ],
         "showgrid": true,
         "showline": true,
         "showticklabels": true,
         "tickangle": 0,
         "tickcolor": "rgb(0, 0, 0)",
         "tickfont": {
          "color": "rgba(0, 0, 0, 1.000)",
          "family": "sans-serif",
          "size": 11
         },
         "tickmode": "array",
         "ticks": "inside",
         "ticktext": [
          "0",
          "10",
          "20",
          "30",
          "40",
          "50"
         ],
         "tickvals": [
          0,
          10,
          20,
          30,
          40,
          50
         ],
         "title": "Marginal cost",
         "titlefont": {
          "color": "rgba(0, 0, 0, 1.000)",
          "family": "sans-serif",
          "size": 15
         },
         "type": "-",
         "visible": true,
         "zeroline": false,
         "zerolinecolor": "rgba(0, 0, 0, 1.000)"
        }
       }
      },
      "text/html": [
       "    <div id=\"330dcfd3-79e8-4759-b9d0-248d7155c259\" style=\"width:600px;height:400px;\"></div>\n",
       "    <script>\n",
       "        requirejs.config({\n",
       "        paths: {\n",
       "            Plotly: 'https://cdn.plot.ly/plotly-2.6.3.min'\n",
       "        }\n",
       "    });\n",
       "    require(['Plotly'], function (Plotly) {\n",
       "\n",
       "    Plotly.newPlot('330dcfd3-79e8-4759-b9d0-248d7155c259', [\n",
       "    {\n",
       "        \"xaxis\": \"x1\",\n",
       "        \"fill\": \"tozeroy\",\n",
       "        \"yaxis\": \"y1\",\n",
       "        \"x\": [\n",
       "            0.0,\n",
       "            42.0,\n",
       "            42.0,\n",
       "            0.0,\n",
       "            0.0\n",
       "        ],\n",
       "        \"showlegend\": false,\n",
       "        \"mode\": \"lines\",\n",
       "        \"fillcolor\": \"rgba(142, 151, 30, 0.500)\",\n",
       "        \"name\": \"\",\n",
       "        \"legendgroup\": \"\",\n",
       "        \"line\": {\n",
       "            \"color\": \"rgba(0, 0, 0, 0.500)\",\n",
       "            \"dash\": \"solid\",\n",
       "            \"width\": 1\n",
       "        },\n",
       "        \"y\": [\n",
       "            0.0,\n",
       "            0.0,\n",
       "            0.0,\n",
       "            0.0,\n",
       "            0.0\n",
       "        ],\n",
       "        \"type\": \"scatter\"\n",
       "    },\n",
       "    {\n",
       "        \"xaxis\": \"x1\",\n",
       "        \"fill\": \"tozeroy\",\n",
       "        \"yaxis\": \"y1\",\n",
       "        \"x\": [\n",
       "            42.0,\n",
       "            103.77663999999999,\n",
       "            103.77663999999999,\n",
       "            42.0,\n",
       "            42.0\n",
       "        ],\n",
       "        \"showlegend\": false,\n",
       "        \"mode\": \"lines\",\n",
       "        \"fillcolor\": \"rgba(0, 169, 204, 0.500)\",\n",
       "        \"name\": \"\",\n",
       "        \"legendgroup\": \"\",\n",
       "        \"line\": {\n",
       "            \"color\": \"rgba(0, 0, 0, 0.500)\",\n",
       "            \"dash\": \"solid\",\n",
       "            \"width\": 1\n",
       "        },\n",
       "        \"y\": [\n",
       "            0.0,\n",
       "            0.0,\n",
       "            0.0,\n",
       "            0.0,\n",
       "            0.0\n",
       "        ],\n",
       "        \"type\": \"scatter\"\n",
       "    },\n",
       "    {\n",
       "        \"xaxis\": \"x1\",\n",
       "        \"fill\": \"tozeroy\",\n",
       "        \"yaxis\": \"y1\",\n",
       "        \"x\": [\n",
       "            103.77663999999999,\n",
       "            105.92139999999999,\n",
       "            105.92139999999999,\n",
       "            103.77663999999999,\n",
       "            103.77663999999999\n",
       "        ],\n",
       "        \"showlegend\": false,\n",
       "        \"mode\": \"lines\",\n",
       "        \"fillcolor\": \"rgba(155, 127, 233, 0.500)\",\n",
       "        \"name\": \"\",\n",
       "        \"legendgroup\": \"\",\n",
       "        \"line\": {\n",
       "            \"color\": \"rgba(0, 0, 0, 0.500)\",\n",
       "            \"dash\": \"solid\",\n",
       "            \"width\": 1\n",
       "        },\n",
       "        \"y\": [\n",
       "            0.0,\n",
       "            0.0,\n",
       "            0.0,\n",
       "            0.0,\n",
       "            0.0\n",
       "        ],\n",
       "        \"type\": \"scatter\"\n",
       "    },\n",
       "    {\n",
       "        \"xaxis\": \"x1\",\n",
       "        \"fill\": \"tozeroy\",\n",
       "        \"yaxis\": \"y1\",\n",
       "        \"x\": [\n",
       "            105.92139999999999,\n",
       "            105.92139999999999,\n",
       "            105.92139999999999,\n",
       "            105.92139999999999,\n",
       "            105.92139999999999\n",
       "        ],\n",
       "        \"showlegend\": false,\n",
       "        \"mode\": \"lines\",\n",
       "        \"fillcolor\": \"rgba(97, 141, 246, 0.500)\",\n",
       "        \"name\": \"\",\n",
       "        \"legendgroup\": \"\",\n",
       "        \"line\": {\n",
       "            \"color\": \"rgba(0, 0, 0, 0.500)\",\n",
       "            \"dash\": \"solid\",\n",
       "            \"width\": 1\n",
       "        },\n",
       "        \"y\": [\n",
       "            0.0,\n",
       "            0.0,\n",
       "            0.0,\n",
       "            0.0,\n",
       "            0.0\n",
       "        ],\n",
       "        \"type\": \"scatter\"\n",
       "    },\n",
       "    {\n",
       "        \"xaxis\": \"x1\",\n",
       "        \"fill\": \"tozeroy\",\n",
       "        \"yaxis\": \"y1\",\n",
       "        \"x\": [\n",
       "            105.92139999999999,\n",
       "            127.32139999999998,\n",
       "            127.32139999999998,\n",
       "            105.92139999999999,\n",
       "            105.92139999999999\n",
       "        ],\n",
       "        \"showlegend\": false,\n",
       "        \"mode\": \"lines\",\n",
       "        \"fillcolor\": \"rgba(240, 96, 115, 0.500)\",\n",
       "        \"name\": \"\",\n",
       "        \"legendgroup\": \"\",\n",
       "        \"line\": {\n",
       "            \"color\": \"rgba(0, 0, 0, 0.500)\",\n",
       "            \"dash\": \"solid\",\n",
       "            \"width\": 1\n",
       "        },\n",
       "        \"y\": [\n",
       "            0.0,\n",
       "            0.0,\n",
       "            5.234,\n",
       "            5.234,\n",
       "            0.0\n",
       "        ],\n",
       "        \"type\": \"scatter\"\n",
       "    },\n",
       "    {\n",
       "        \"xaxis\": \"x1\",\n",
       "        \"fill\": \"tozeroy\",\n",
       "        \"yaxis\": \"y1\",\n",
       "        \"x\": [\n",
       "            127.32139999999998,\n",
       "            697.3214,\n",
       "            697.3214,\n",
       "            127.32139999999998,\n",
       "            127.32139999999998\n",
       "        ],\n",
       "        \"showlegend\": false,\n",
       "        \"mode\": \"lines\",\n",
       "        \"fillcolor\": \"rgba(221, 101, 182, 0.500)\",\n",
       "        \"name\": \"\",\n",
       "        \"legendgroup\": \"\",\n",
       "        \"line\": {\n",
       "            \"color\": \"rgba(0, 0, 0, 0.500)\",\n",
       "            \"dash\": \"solid\",\n",
       "            \"width\": 1\n",
       "        },\n",
       "        \"y\": [\n",
       "            0.0,\n",
       "            0.0,\n",
       "            21.775499999999997,\n",
       "            21.775499999999997,\n",
       "            0.0\n",
       "        ],\n",
       "        \"type\": \"scatter\"\n",
       "    },\n",
       "    {\n",
       "        \"xaxis\": \"x1\",\n",
       "        \"fill\": \"tozeroy\",\n",
       "        \"yaxis\": \"y1\",\n",
       "        \"x\": [\n",
       "            697.3214,\n",
       "            1304.4214000000002,\n",
       "            1304.4214000000002,\n",
       "            697.3214,\n",
       "            697.3214\n",
       "        ],\n",
       "        \"showlegend\": false,\n",
       "        \"mode\": \"lines\",\n",
       "        \"fillcolor\": \"rgba(108, 159, 51, 0.500)\",\n",
       "        \"name\": \"\",\n",
       "        \"legendgroup\": \"\",\n",
       "        \"line\": {\n",
       "            \"color\": \"rgba(0, 0, 0, 0.500)\",\n",
       "            \"dash\": \"solid\",\n",
       "            \"width\": 1\n",
       "        },\n",
       "        \"y\": [\n",
       "            0.0,\n",
       "            0.0,\n",
       "            22.726399999999995,\n",
       "            22.726399999999995,\n",
       "            0.0\n",
       "        ],\n",
       "        \"type\": \"scatter\"\n",
       "    },\n",
       "    {\n",
       "        \"xaxis\": \"x1\",\n",
       "        \"fill\": \"tozeroy\",\n",
       "        \"yaxis\": \"y1\",\n",
       "        \"x\": [\n",
       "            1304.4214000000002,\n",
       "            1353.8214000000003,\n",
       "            1353.8214000000003,\n",
       "            1304.4214000000002,\n",
       "            1304.4214000000002\n",
       "        ],\n",
       "        \"showlegend\": false,\n",
       "        \"mode\": \"lines\",\n",
       "        \"fillcolor\": \"rgba(0, 154, 250, 0.500)\",\n",
       "        \"name\": \"\",\n",
       "        \"legendgroup\": \"\",\n",
       "        \"line\": {\n",
       "            \"color\": \"rgba(0, 0, 0, 0.500)\",\n",
       "            \"dash\": \"solid\",\n",
       "            \"width\": 1\n",
       "        },\n",
       "        \"y\": [\n",
       "            0.0,\n",
       "            0.0,\n",
       "            29.3061,\n",
       "            29.3061,\n",
       "            0.0\n",
       "        ],\n",
       "        \"type\": \"scatter\"\n",
       "    },\n",
       "    {\n",
       "        \"xaxis\": \"x1\",\n",
       "        \"fill\": \"tozeroy\",\n",
       "        \"yaxis\": \"y1\",\n",
       "        \"x\": [\n",
       "            1353.8214000000003,\n",
       "            1383.8214000000003,\n",
       "            1383.8214000000003,\n",
       "            1353.8214000000003,\n",
       "            1353.8214000000003\n",
       "        ],\n",
       "        \"showlegend\": false,\n",
       "        \"mode\": \"lines\",\n",
       "        \"fillcolor\": \"rgba(227, 111, 71, 0.500)\",\n",
       "        \"name\": \"\",\n",
       "        \"legendgroup\": \"\",\n",
       "        \"line\": {\n",
       "            \"color\": \"rgba(0, 0, 0, 0.500)\",\n",
       "            \"dash\": \"solid\",\n",
       "            \"width\": 1\n",
       "        },\n",
       "        \"y\": [\n",
       "            0.0,\n",
       "            0.0,\n",
       "            30.128500000000003,\n",
       "            30.128500000000003,\n",
       "            0.0\n",
       "        ],\n",
       "        \"type\": \"scatter\"\n",
       "    },\n",
       "    {\n",
       "        \"xaxis\": \"x1\",\n",
       "        \"fill\": \"tozeroy\",\n",
       "        \"yaxis\": \"y1\",\n",
       "        \"x\": [\n",
       "            1383.8214000000003,\n",
       "            1719.8214000000003,\n",
       "            1719.8214000000003,\n",
       "            1383.8214000000003,\n",
       "            1383.8214000000003\n",
       "        ],\n",
       "        \"showlegend\": false,\n",
       "        \"mode\": \"lines\",\n",
       "        \"fillcolor\": \"rgba(62, 164, 78, 0.500)\",\n",
       "        \"name\": \"\",\n",
       "        \"legendgroup\": \"\",\n",
       "        \"line\": {\n",
       "            \"color\": \"rgba(0, 0, 0, 0.500)\",\n",
       "            \"dash\": \"solid\",\n",
       "            \"width\": 1\n",
       "        },\n",
       "        \"y\": [\n",
       "            0.0,\n",
       "            0.0,\n",
       "            36.5771,\n",
       "            36.5771,\n",
       "            0.0\n",
       "        ],\n",
       "        \"type\": \"scatter\"\n",
       "    },\n",
       "    {\n",
       "        \"xaxis\": \"x1\",\n",
       "        \"fill\": \"tozeroy\",\n",
       "        \"yaxis\": \"y1\",\n",
       "        \"x\": [\n",
       "            1719.8214000000003,\n",
       "            2055.8214000000003,\n",
       "            2055.8214000000003,\n",
       "            1719.8214000000003,\n",
       "            1719.8214000000003\n",
       "        ],\n",
       "        \"showlegend\": false,\n",
       "        \"mode\": \"lines\",\n",
       "        \"fillcolor\": \"rgba(195, 113, 210, 0.500)\",\n",
       "        \"name\": \"\",\n",
       "        \"legendgroup\": \"\",\n",
       "        \"line\": {\n",
       "            \"color\": \"rgba(0, 0, 0, 0.500)\",\n",
       "            \"dash\": \"solid\",\n",
       "            \"width\": 1\n",
       "        },\n",
       "        \"y\": [\n",
       "            0.0,\n",
       "            0.0,\n",
       "            36.757,\n",
       "            36.757,\n",
       "            0.0\n",
       "        ],\n",
       "        \"type\": \"scatter\"\n",
       "    },\n",
       "    {\n",
       "        \"xaxis\": \"x1\",\n",
       "        \"fill\": \"tozeroy\",\n",
       "        \"yaxis\": \"y1\",\n",
       "        \"x\": [\n",
       "            2055.8214000000003,\n",
       "            2105.7214000000004,\n",
       "            2105.7214000000004,\n",
       "            2055.8214000000003,\n",
       "            2055.8214000000003\n",
       "        ],\n",
       "        \"showlegend\": false,\n",
       "        \"mode\": \"lines\",\n",
       "        \"fillcolor\": \"rgba(172, 142, 24, 0.500)\",\n",
       "        \"name\": \"\",\n",
       "        \"legendgroup\": \"\",\n",
       "        \"line\": {\n",
       "            \"color\": \"rgba(0, 0, 0, 0.500)\",\n",
       "            \"dash\": \"solid\",\n",
       "            \"width\": 1\n",
       "        },\n",
       "        \"y\": [\n",
       "            0.0,\n",
       "            0.0,\n",
       "            37.733599999999996,\n",
       "            37.733599999999996,\n",
       "            0.0\n",
       "        ],\n",
       "        \"type\": \"scatter\"\n",
       "    },\n",
       "    {\n",
       "        \"xaxis\": \"x1\",\n",
       "        \"fill\": \"tozeroy\",\n",
       "        \"yaxis\": \"y1\",\n",
       "        \"x\": [\n",
       "            2105.7214000000004,\n",
       "            2202.3214000000003,\n",
       "            2202.3214000000003,\n",
       "            2105.7214000000004,\n",
       "            2105.7214000000004\n",
       "        ],\n",
       "        \"showlegend\": false,\n",
       "        \"mode\": \"lines\",\n",
       "        \"fillcolor\": \"rgba(0, 170, 174, 0.500)\",\n",
       "        \"name\": \"\",\n",
       "        \"legendgroup\": \"\",\n",
       "        \"line\": {\n",
       "            \"color\": \"rgba(0, 0, 0, 0.500)\",\n",
       "            \"dash\": \"solid\",\n",
       "            \"width\": 1\n",
       "        },\n",
       "        \"y\": [\n",
       "            0.0,\n",
       "            0.0,\n",
       "            37.785,\n",
       "            37.785,\n",
       "            0.0\n",
       "        ],\n",
       "        \"type\": \"scatter\"\n",
       "    },\n",
       "    {\n",
       "        \"xaxis\": \"x1\",\n",
       "        \"fill\": \"tozeroy\",\n",
       "        \"yaxis\": \"y1\",\n",
       "        \"x\": [\n",
       "            2202.3214000000003,\n",
       "            2293.9214,\n",
       "            2293.9214,\n",
       "            2202.3214000000003,\n",
       "            2202.3214000000003\n",
       "        ],\n",
       "        \"showlegend\": false,\n",
       "        \"mode\": \"lines\",\n",
       "        \"fillcolor\": \"rgba(237, 94, 147, 0.500)\",\n",
       "        \"name\": \"\",\n",
       "        \"legendgroup\": \"\",\n",
       "        \"line\": {\n",
       "            \"color\": \"rgba(0, 0, 0, 0.500)\",\n",
       "            \"dash\": \"solid\",\n",
       "            \"width\": 1\n",
       "        },\n",
       "        \"y\": [\n",
       "            0.0,\n",
       "            0.0,\n",
       "            38.2733,\n",
       "            38.2733,\n",
       "            0.0\n",
       "        ],\n",
       "        \"type\": \"scatter\"\n",
       "    },\n",
       "    {\n",
       "        \"xaxis\": \"x1\",\n",
       "        \"fill\": \"tozeroy\",\n",
       "        \"yaxis\": \"y1\",\n",
       "        \"x\": [\n",
       "            2293.9214,\n",
       "            2342.0214,\n",
       "            2342.0214,\n",
       "            2293.9214,\n",
       "            2293.9214\n",
       "        ],\n",
       "        \"showlegend\": false,\n",
       "        \"mode\": \"lines\",\n",
       "        \"fillcolor\": \"rgba(198, 130, 37, 0.500)\",\n",
       "        \"name\": \"\",\n",
       "        \"legendgroup\": \"\",\n",
       "        \"line\": {\n",
       "            \"color\": \"rgba(0, 0, 0, 0.500)\",\n",
       "            \"dash\": \"solid\",\n",
       "            \"width\": 1\n",
       "        },\n",
       "        \"y\": [\n",
       "            0.0,\n",
       "            0.0,\n",
       "            39.172799999999995,\n",
       "            39.172799999999995,\n",
       "            0.0\n",
       "        ],\n",
       "        \"type\": \"scatter\"\n",
       "    },\n",
       "    {\n",
       "        \"xaxis\": \"x1\",\n",
       "        \"fill\": \"tozeroy\",\n",
       "        \"yaxis\": \"y1\",\n",
       "        \"x\": [\n",
       "            2342.0214,\n",
       "            2393.3214000000003,\n",
       "            2393.3214000000003,\n",
       "            2342.0214,\n",
       "            2342.0214\n",
       "        ],\n",
       "        \"showlegend\": false,\n",
       "        \"mode\": \"lines\",\n",
       "        \"fillcolor\": \"rgba(0, 169, 141, 0.500)\",\n",
       "        \"name\": \"\",\n",
       "        \"legendgroup\": \"\",\n",
       "        \"line\": {\n",
       "            \"color\": \"rgba(0, 0, 0, 0.500)\",\n",
       "            \"dash\": \"solid\",\n",
       "            \"width\": 1\n",
       "        },\n",
       "        \"y\": [\n",
       "            0.0,\n",
       "            0.0,\n",
       "            39.2756,\n",
       "            39.2756,\n",
       "            0.0\n",
       "        ],\n",
       "        \"type\": \"scatter\"\n",
       "    },\n",
       "    {\n",
       "        \"xaxis\": \"x1\",\n",
       "        \"fill\": \"tozeroy\",\n",
       "        \"yaxis\": \"y1\",\n",
       "        \"x\": [\n",
       "            2393.3214000000003,\n",
       "            2444.6214000000004,\n",
       "            2444.6214000000004,\n",
       "            2393.3214000000003,\n",
       "            2393.3214000000003\n",
       "        ],\n",
       "        \"showlegend\": false,\n",
       "        \"mode\": \"lines\",\n",
       "        \"fillcolor\": \"rgba(142, 151, 30, 0.500)\",\n",
       "        \"name\": \"\",\n",
       "        \"legendgroup\": \"\",\n",
       "        \"line\": {\n",
       "            \"color\": \"rgba(0, 0, 0, 0.500)\",\n",
       "            \"dash\": \"solid\",\n",
       "            \"width\": 1\n",
       "        },\n",
       "        \"y\": [\n",
       "            0.0,\n",
       "            0.0,\n",
       "            39.3784,\n",
       "            39.3784,\n",
       "            0.0\n",
       "        ],\n",
       "        \"type\": \"scatter\"\n",
       "    },\n",
       "    {\n",
       "        \"xaxis\": \"x1\",\n",
       "        \"fill\": \"tozeroy\",\n",
       "        \"yaxis\": \"y1\",\n",
       "        \"x\": [\n",
       "            2444.6214000000004,\n",
       "            2542.8214000000003,\n",
       "            2542.8214000000003,\n",
       "            2444.6214000000004,\n",
       "            2444.6214000000004\n",
       "        ],\n",
       "        \"showlegend\": false,\n",
       "        \"mode\": \"lines\",\n",
       "        \"fillcolor\": \"rgba(0, 169, 204, 0.500)\",\n",
       "        \"name\": \"\",\n",
       "        \"legendgroup\": \"\",\n",
       "        \"line\": {\n",
       "            \"color\": \"rgba(0, 0, 0, 0.500)\",\n",
       "            \"dash\": \"solid\",\n",
       "            \"width\": 1\n",
       "        },\n",
       "        \"y\": [\n",
       "            0.0,\n",
       "            0.0,\n",
       "            39.4555,\n",
       "            39.4555,\n",
       "            0.0\n",
       "        ],\n",
       "        \"type\": \"scatter\"\n",
       "    },\n",
       "    {\n",
       "        \"xaxis\": \"x1\",\n",
       "        \"fill\": \"tozeroy\",\n",
       "        \"yaxis\": \"y1\",\n",
       "        \"x\": [\n",
       "            2542.8214000000003,\n",
       "            2641.0214,\n",
       "            2641.0214,\n",
       "            2542.8214000000003,\n",
       "            2542.8214000000003\n",
       "        ],\n",
       "        \"showlegend\": false,\n",
       "        \"mode\": \"lines\",\n",
       "        \"fillcolor\": \"rgba(155, 127, 233, 0.500)\",\n",
       "        \"name\": \"\",\n",
       "        \"legendgroup\": \"\",\n",
       "        \"line\": {\n",
       "            \"color\": \"rgba(0, 0, 0, 0.500)\",\n",
       "            \"dash\": \"solid\",\n",
       "            \"width\": 1\n",
       "        },\n",
       "        \"y\": [\n",
       "            0.0,\n",
       "            0.0,\n",
       "            39.583999999999996,\n",
       "            39.583999999999996,\n",
       "            0.0\n",
       "        ],\n",
       "        \"type\": \"scatter\"\n",
       "    },\n",
       "    {\n",
       "        \"xaxis\": \"x1\",\n",
       "        \"fill\": \"tozeroy\",\n",
       "        \"yaxis\": \"y1\",\n",
       "        \"x\": [\n",
       "            2641.0214,\n",
       "            2689.9214,\n",
       "            2689.9214,\n",
       "            2641.0214,\n",
       "            2641.0214\n",
       "        ],\n",
       "        \"showlegend\": false,\n",
       "        \"mode\": \"lines\",\n",
       "        \"fillcolor\": \"rgba(97, 141, 246, 0.500)\",\n",
       "        \"name\": \"\",\n",
       "        \"legendgroup\": \"\",\n",
       "        \"line\": {\n",
       "            \"color\": \"rgba(0, 0, 0, 0.500)\",\n",
       "            \"dash\": \"solid\",\n",
       "            \"width\": 1\n",
       "        },\n",
       "        \"y\": [\n",
       "            0.0,\n",
       "            0.0,\n",
       "            39.635400000000004,\n",
       "            39.635400000000004,\n",
       "            0.0\n",
       "        ],\n",
       "        \"type\": \"scatter\"\n",
       "    },\n",
       "    {\n",
       "        \"xaxis\": \"x1\",\n",
       "        \"fill\": \"tozeroy\",\n",
       "        \"yaxis\": \"y1\",\n",
       "        \"x\": [\n",
       "            2689.9214,\n",
       "            2738.8214000000003,\n",
       "            2738.8214000000003,\n",
       "            2689.9214,\n",
       "            2689.9214\n",
       "        ],\n",
       "        \"showlegend\": false,\n",
       "        \"mode\": \"lines\",\n",
       "        \"fillcolor\": \"rgba(240, 96, 115, 0.500)\",\n",
       "        \"name\": \"\",\n",
       "        \"legendgroup\": \"\",\n",
       "        \"line\": {\n",
       "            \"color\": \"rgba(0, 0, 0, 0.500)\",\n",
       "            \"dash\": \"solid\",\n",
       "            \"width\": 1\n",
       "        },\n",
       "        \"y\": [\n",
       "            0.0,\n",
       "            0.0,\n",
       "            39.841,\n",
       "            39.841,\n",
       "            0.0\n",
       "        ],\n",
       "        \"type\": \"scatter\"\n",
       "    },\n",
       "    {\n",
       "        \"xaxis\": \"x1\",\n",
       "        \"fill\": \"tozeroy\",\n",
       "        \"yaxis\": \"y1\",\n",
       "        \"x\": [\n",
       "            2738.8214000000003,\n",
       "            2787.5214,\n",
       "            2787.5214,\n",
       "            2738.8214000000003,\n",
       "            2738.8214000000003\n",
       "        ],\n",
       "        \"showlegend\": false,\n",
       "        \"mode\": \"lines\",\n",
       "        \"fillcolor\": \"rgba(221, 101, 182, 0.500)\",\n",
       "        \"name\": \"\",\n",
       "        \"legendgroup\": \"\",\n",
       "        \"line\": {\n",
       "            \"color\": \"rgba(0, 0, 0, 0.500)\",\n",
       "            \"dash\": \"solid\",\n",
       "            \"width\": 1\n",
       "        },\n",
       "        \"y\": [\n",
       "            0.0,\n",
       "            0.0,\n",
       "            40.2522,\n",
       "            40.2522,\n",
       "            0.0\n",
       "        ],\n",
       "        \"type\": \"scatter\"\n",
       "    },\n",
       "    {\n",
       "        \"xaxis\": \"x1\",\n",
       "        \"fill\": \"tozeroy\",\n",
       "        \"yaxis\": \"y1\",\n",
       "        \"x\": [\n",
       "            2787.5214,\n",
       "            2792.3214000000003,\n",
       "            2792.3214000000003,\n",
       "            2787.5214,\n",
       "            2787.5214\n",
       "        ],\n",
       "        \"showlegend\": false,\n",
       "        \"mode\": \"lines\",\n",
       "        \"fillcolor\": \"rgba(108, 159, 51, 0.500)\",\n",
       "        \"name\": \"\",\n",
       "        \"legendgroup\": \"\",\n",
       "        \"line\": {\n",
       "            \"color\": \"rgba(0, 0, 0, 0.500)\",\n",
       "            \"dash\": \"solid\",\n",
       "            \"width\": 1\n",
       "        },\n",
       "        \"y\": [\n",
       "            0.0,\n",
       "            0.0,\n",
       "            41.9741,\n",
       "            41.9741,\n",
       "            0.0\n",
       "        ],\n",
       "        \"type\": \"scatter\"\n",
       "    },\n",
       "    {\n",
       "        \"xaxis\": \"x1\",\n",
       "        \"fill\": \"tozeroy\",\n",
       "        \"yaxis\": \"y1\",\n",
       "        \"x\": [\n",
       "            2792.3214000000003,\n",
       "            2809.6214000000004,\n",
       "            2809.6214000000004,\n",
       "            2792.3214000000003,\n",
       "            2792.3214000000003\n",
       "        ],\n",
       "        \"showlegend\": false,\n",
       "        \"mode\": \"lines\",\n",
       "        \"fillcolor\": \"rgba(0, 154, 250, 0.500)\",\n",
       "        \"name\": \"\",\n",
       "        \"legendgroup\": \"\",\n",
       "        \"line\": {\n",
       "            \"color\": \"rgba(0, 0, 0, 0.500)\",\n",
       "            \"dash\": \"solid\",\n",
       "            \"width\": 1\n",
       "        },\n",
       "        \"y\": [\n",
       "            0.0,\n",
       "            0.0,\n",
       "            45.674899999999994,\n",
       "            45.674899999999994,\n",
       "            0.0\n",
       "        ],\n",
       "        \"type\": \"scatter\"\n",
       "    },\n",
       "    {\n",
       "        \"xaxis\": \"x1\",\n",
       "        \"fill\": \"tozeroy\",\n",
       "        \"yaxis\": \"y1\",\n",
       "        \"x\": [\n",
       "            2809.6214000000004,\n",
       "            2844.2214000000004,\n",
       "            2844.2214000000004,\n",
       "            2809.6214000000004,\n",
       "            2809.6214000000004\n",
       "        ],\n",
       "        \"showlegend\": false,\n",
       "        \"mode\": \"lines\",\n",
       "        \"fillcolor\": \"rgba(227, 111, 71, 0.500)\",\n",
       "        \"name\": \"\",\n",
       "        \"legendgroup\": \"\",\n",
       "        \"line\": {\n",
       "            \"color\": \"rgba(0, 0, 0, 0.500)\",\n",
       "            \"dash\": \"solid\",\n",
       "            \"width\": 1\n",
       "        },\n",
       "        \"y\": [\n",
       "            0.0,\n",
       "            0.0,\n",
       "            54.1302,\n",
       "            54.1302,\n",
       "            0.0\n",
       "        ],\n",
       "        \"type\": \"scatter\"\n",
       "    },\n",
       "    {\n",
       "        \"xaxis\": \"x\",\n",
       "        \"colorbar\": {\n",
       "            \"y\": 0.5086805555555556,\n",
       "            \"title\": \"\",\n",
       "            \"len\": 0.8657316272965879,\n",
       "            \"x\": 0.9934383202099737\n",
       "        },\n",
       "        \"yaxis\": \"y\",\n",
       "        \"x\": [\n",
       "            2409.0,\n",
       "            2409.0\n",
       "        ],\n",
       "        \"showlegend\": true,\n",
       "        \"mode\": \"lines\",\n",
       "        \"name\": \"demand\",\n",
       "        \"zmin\": null,\n",
       "        \"legendgroup\": \"demand\",\n",
       "        \"zmax\": null,\n",
       "        \"line\": {\n",
       "            \"color\": \"rgba(0, 0, 0, 1.000)\",\n",
       "            \"shape\": \"linear\",\n",
       "            \"dash\": \"solid\",\n",
       "            \"width\": 5\n",
       "        },\n",
       "        \"y\": [\n",
       "            -5739.4251060000015,\n",
       "            5793.555306000002\n",
       "        ],\n",
       "        \"type\": \"scatter\"\n",
       "    },\n",
       "    {\n",
       "        \"xaxis\": \"x\",\n",
       "        \"colorbar\": {\n",
       "            \"y\": 0.5086805555555556,\n",
       "            \"title\": \"\",\n",
       "            \"len\": 0.8657316272965879,\n",
       "            \"x\": 0.9934383202099737\n",
       "        },\n",
       "        \"yaxis\": \"y\",\n",
       "        \"x\": [\n",
       "            -301572.795042,\n",
       "            304417.016442\n",
       "        ],\n",
       "        \"showlegend\": true,\n",
       "        \"mode\": \"lines\",\n",
       "        \"name\": \"SRMC\",\n",
       "        \"zmin\": null,\n",
       "        \"legendgroup\": \"SRMC\",\n",
       "        \"zmax\": null,\n",
       "        \"line\": {\n",
       "            \"color\": \"rgba(0, 0, 255, 1.000)\",\n",
       "            \"shape\": \"linear\",\n",
       "            \"dash\": \"solid\",\n",
       "            \"width\": 5\n",
       "        },\n",
       "        \"y\": [\n",
       "            39.3784,\n",
       "            39.3784\n",
       "        ],\n",
       "        \"type\": \"scatter\"\n",
       "    }\n",
       "]\n",
       ", {\n",
       "    \"showlegend\": true,\n",
       "    \"xaxis\": {\n",
       "        \"showticklabels\": true,\n",
       "        \"gridwidth\": 0.5,\n",
       "        \"tickvals\": [\n",
       "            0.0,\n",
       "            500.0,\n",
       "            1000.0,\n",
       "            1500.0,\n",
       "            2000.0,\n",
       "            2500.0\n",
       "        ],\n",
       "        \"range\": [\n",
       "            -85.32664199999999,\n",
       "            2929.5480420000004\n",
       "        ],\n",
       "        \"domain\": [\n",
       "            0.061654272382618835,\n",
       "            0.9934383202099737\n",
       "        ],\n",
       "        \"mirror\": false,\n",
       "        \"tickangle\": 0,\n",
       "        \"showline\": true,\n",
       "        \"ticktext\": [\n",
       "            \"0\",\n",
       "            \"500\",\n",
       "            \"1000\",\n",
       "            \"1500\",\n",
       "            \"2000\",\n",
       "            \"2500\"\n",
       "        ],\n",
       "        \"zeroline\": false,\n",
       "        \"tickfont\": {\n",
       "            \"color\": \"rgba(0, 0, 0, 1.000)\",\n",
       "            \"family\": \"sans-serif\",\n",
       "            \"size\": 11\n",
       "        },\n",
       "        \"zerolinecolor\": \"rgba(0, 0, 0, 1.000)\",\n",
       "        \"anchor\": \"y\",\n",
       "        \"visible\": true,\n",
       "        \"ticks\": \"inside\",\n",
       "        \"tickmode\": \"array\",\n",
       "        \"linecolor\": \"rgba(0, 0, 0, 1.000)\",\n",
       "        \"showgrid\": true,\n",
       "        \"title\": \"Capacity\",\n",
       "        \"gridcolor\": \"rgba(0, 0, 0, 0.100)\",\n",
       "        \"titlefont\": {\n",
       "            \"color\": \"rgba(0, 0, 0, 1.000)\",\n",
       "            \"family\": \"sans-serif\",\n",
       "            \"size\": 15\n",
       "        },\n",
       "        \"tickcolor\": \"rgb(0, 0, 0)\",\n",
       "        \"type\": \"-\"\n",
       "    },\n",
       "    \"paper_bgcolor\": \"rgba(255, 255, 255, 1.000)\",\n",
       "    \"annotations\": [\n",
       "        {\n",
       "            \"yanchor\": \"top\",\n",
       "            \"xanchor\": \"center\",\n",
       "            \"rotation\": -0.0,\n",
       "            \"y\": 1.0,\n",
       "            \"font\": {\n",
       "                \"color\": \"rgba(0, 0, 0, 1.000)\",\n",
       "                \"family\": \"sans-serif\",\n",
       "                \"size\": 20\n",
       "            },\n",
       "            \"yref\": \"paper\",\n",
       "            \"showarrow\": false,\n",
       "            \"text\": \"Supply and demand curves\",\n",
       "            \"xref\": \"paper\",\n",
       "            \"x\": 0.5275462962962963\n",
       "        }\n",
       "    ],\n",
       "    \"height\": 400,\n",
       "    \"margin\": {\n",
       "        \"l\": 0,\n",
       "        \"b\": 20,\n",
       "        \"r\": 0,\n",
       "        \"t\": 20\n",
       "    },\n",
       "    \"plot_bgcolor\": \"rgba(255, 255, 255, 1.000)\",\n",
       "    \"yaxis\": {\n",
       "        \"showticklabels\": true,\n",
       "        \"gridwidth\": 0.5,\n",
       "        \"tickvals\": [\n",
       "            0.0,\n",
       "            10.0,\n",
       "            20.0,\n",
       "            30.0,\n",
       "            40.0,\n",
       "            50.0\n",
       "        ],\n",
       "        \"range\": [\n",
       "            -1.6239060000000016,\n",
       "            55.75410600000001\n",
       "        ],\n",
       "        \"domain\": [\n",
       "            0.07581474190726165,\n",
       "            0.9415463692038496\n",
       "        ],\n",
       "        \"mirror\": false,\n",
       "        \"tickangle\": 0,\n",
       "        \"showline\": true,\n",
       "        \"ticktext\": [\n",
       "            \"0\",\n",
       "            \"10\",\n",
       "            \"20\",\n",
       "            \"30\",\n",
       "            \"40\",\n",
       "            \"50\"\n",
       "        ],\n",
       "        \"zeroline\": false,\n",
       "        \"tickfont\": {\n",
       "            \"color\": \"rgba(0, 0, 0, 1.000)\",\n",
       "            \"family\": \"sans-serif\",\n",
       "            \"size\": 11\n",
       "        },\n",
       "        \"zerolinecolor\": \"rgba(0, 0, 0, 1.000)\",\n",
       "        \"anchor\": \"x\",\n",
       "        \"visible\": true,\n",
       "        \"ticks\": \"inside\",\n",
       "        \"tickmode\": \"array\",\n",
       "        \"linecolor\": \"rgba(0, 0, 0, 1.000)\",\n",
       "        \"showgrid\": true,\n",
       "        \"title\": \"Marginal cost\",\n",
       "        \"gridcolor\": \"rgba(0, 0, 0, 0.100)\",\n",
       "        \"titlefont\": {\n",
       "            \"color\": \"rgba(0, 0, 0, 1.000)\",\n",
       "            \"family\": \"sans-serif\",\n",
       "            \"size\": 15\n",
       "        },\n",
       "        \"tickcolor\": \"rgb(0, 0, 0)\",\n",
       "        \"type\": \"-\"\n",
       "    },\n",
       "    \"legend\": {\n",
       "        \"yanchor\": \"auto\",\n",
       "        \"xanchor\": \"auto\",\n",
       "        \"bordercolor\": \"rgba(0, 0, 0, 1.000)\",\n",
       "        \"bgcolor\": \"rgba(255, 255, 255, 1.000)\",\n",
       "        \"borderwidth\": 1,\n",
       "        \"tracegroupgap\": 0,\n",
       "        \"y\": 1.0,\n",
       "        \"font\": {\n",
       "            \"color\": \"rgba(0, 0, 0, 1.000)\",\n",
       "            \"family\": \"sans-serif\",\n",
       "            \"size\": 11\n",
       "        },\n",
       "        \"title\": {\n",
       "            \"font\": {\n",
       "                \"color\": \"rgba(0, 0, 0, 1.000)\",\n",
       "                \"family\": \"sans-serif\",\n",
       "                \"size\": 15\n",
       "            },\n",
       "            \"text\": \"\"\n",
       "        },\n",
       "        \"traceorder\": \"normal\",\n",
       "        \"x\": 1.0\n",
       "    },\n",
       "    \"width\": 600\n",
       "}\n",
       ");\n",
       "    });\n",
       "    </script>\n"
      ]
     },
     "execution_count": 20,
     "metadata": {},
     "output_type": "execute_result"
    }
   ],
   "source": [
    "rectangle(w, h, x, y) = Shape(x .+ [0,w,w,0], y .+ [0,0,h,h])\n",
    "\n",
    "p = plot(nrow(supply_curve))\n",
    "\n",
    "marg_gen = 0\n",
    "marg_price = 0\n",
    "x = 0\n",
    "for i in 1:nrow(supply_curve)\n",
    "    plot!(p, rectangle(supply_curve[i,:cap],\n",
    "            supply_curve[i,:varcost],x,0), opacity=.5, \n",
    "            label = \"\")\n",
    "    if (x < loads_single[1,:demand]) && (x + supply_curve[i,:cap] > loads_single[1,:demand])\n",
    "        marg_gen = i\n",
    "        marg_price = supply_curve[i,:varcost]\n",
    "    end\n",
    "    x = x + supply_curve[i,:cap]\n",
    "end \n",
    "vline!([loads_single[1,:demand]],linecolor=\"black\",linewidth=5,\n",
    "label = \"demand\")\n",
    "hline!([marg_price],linecolor=\"blue\",linewidth=5,\n",
    "label = \"SRMC\")\n",
    "title!(\"Supply and demand curves\")\n",
    "xlabel!(\"Capacity\")\n",
    "ylabel!(\"Marginal cost\")\n",
    "p\n",
    "     "
   ]
  },
  {
   "cell_type": "code",
   "execution_count": 21,
   "id": "1b53b61e",
   "metadata": {},
   "outputs": [
    {
     "data": {
      "text/html": [
       "<div><div style = \"float: left;\"><span>DataFrameRow (34 columns)</span></div><div style = \"clear: both;\"></div></div><div class = \"data-frame\" style = \"overflow-x: scroll;\"><table class = \"data-frame\" style = \"margin-bottom: 6px;\"><thead><tr class = \"header\"><th class = \"rowLabel\" style = \"font-weight: bold; text-align: right;\">Row</th><th style = \"text-align: left;\">r_id</th><th style = \"text-align: left;\">resource</th><th style = \"text-align: left;\">region</th><th style = \"text-align: left;\">existing_cap_mw</th><th style = \"text-align: left;\">num_units</th><th style = \"text-align: left;\">cap_size</th><th style = \"text-align: left;\">var_om_cost_per_mwh</th><th style = \"text-align: left;\">var_om_cost_per_mwh_in</th><th style = \"text-align: left;\">fuel</th><th style = \"text-align: left;\">heat_rate_mmbtu_per_mwh</th><th style = \"text-align: left;\">heat_rate_mmbtu_mwh_iqr</th><th style = \"text-align: left;\">heat_rate_mmbtu_mwh_std</th><th style = \"text-align: left;\">min_power</th><th style = \"text-align: left;\">ramp_up_percentage</th><th style = \"text-align: left;\">ramp_dn_percentage</th><th style = \"text-align: left;\">start_cost_per_mw</th><th style = \"text-align: left;\">start_fuel_mmbtu_per_mw</th><th style = \"text-align: left;\">up_time</th><th style = \"text-align: left;\">down_time</th><th style = \"text-align: left;\">self_disch</th><th style = \"text-align: left;\">eff_up</th><th style = \"text-align: left;\">eff_down</th><th style = \"text-align: left;\">ratio_power_to_energy</th><th style = \"text-align: left;\">min_duration</th><th style = \"text-align: left;\">max_duration</th><th style = \"text-align: left;\">cluster</th><th style = \"text-align: left;\">stor</th><th style = \"text-align: left;\">fuel_cost</th><th style = \"text-align: left;\">co2_content_tons_per_mmbtu</th><th style = \"text-align: left;\">is_variable</th><th style = \"text-align: left;\">gen_full</th><th style = \"text-align: left;\">cf</th><th style = \"text-align: left;\">varcost</th><th style = \"text-align: left;\">cap</th></tr><tr class = \"subheader headerLastRow\"><th class = \"rowLabel\" style = \"font-weight: bold; text-align: right;\"></th><th title = \"Union{Missing, Int64}\" style = \"text-align: left;\">Int64?</th><th title = \"Union{Missing, String}\" style = \"text-align: left;\">String?</th><th title = \"Union{Missing, String15}\" style = \"text-align: left;\">String15?</th><th title = \"Union{Missing, Float64}\" style = \"text-align: left;\">Float64?</th><th title = \"Union{Missing, Int64}\" style = \"text-align: left;\">Int64?</th><th title = \"Union{Missing, Float64}\" style = \"text-align: left;\">Float64?</th><th title = \"Union{Missing, Float64}\" style = \"text-align: left;\">Float64?</th><th title = \"Union{Missing, Int64}\" style = \"text-align: left;\">Int64?</th><th title = \"String31\" style = \"text-align: left;\">String31</th><th title = \"Union{Missing, Float64}\" style = \"text-align: left;\">Float64?</th><th title = \"Union{Missing, Float64}\" style = \"text-align: left;\">Float64?</th><th title = \"Union{Missing, Float64}\" style = \"text-align: left;\">Float64?</th><th title = \"Union{Missing, Float64}\" style = \"text-align: left;\">Float64?</th><th title = \"Union{Missing, Float64}\" style = \"text-align: left;\">Float64?</th><th title = \"Union{Missing, Float64}\" style = \"text-align: left;\">Float64?</th><th title = \"Union{Missing, Int64}\" style = \"text-align: left;\">Int64?</th><th title = \"Union{Missing, Float64}\" style = \"text-align: left;\">Float64?</th><th title = \"Union{Missing, Int64}\" style = \"text-align: left;\">Int64?</th><th title = \"Union{Missing, Int64}\" style = \"text-align: left;\">Int64?</th><th title = \"Union{Missing, Int64}\" style = \"text-align: left;\">Int64?</th><th title = \"Union{Missing, Float64}\" style = \"text-align: left;\">Float64?</th><th title = \"Union{Missing, Float64}\" style = \"text-align: left;\">Float64?</th><th title = \"Union{Missing, Float64}\" style = \"text-align: left;\">Float64?</th><th title = \"Union{Missing, Int64}\" style = \"text-align: left;\">Int64?</th><th title = \"Union{Missing, Int64}\" style = \"text-align: left;\">Int64?</th><th title = \"Union{Missing, Int64}\" style = \"text-align: left;\">Int64?</th><th title = \"Union{Missing, Int64}\" style = \"text-align: left;\">Int64?</th><th title = \"Union{Missing, Float64}\" style = \"text-align: left;\">Float64?</th><th title = \"Union{Missing, Float64}\" style = \"text-align: left;\">Float64?</th><th title = \"Bool\" style = \"text-align: left;\">Bool</th><th title = \"String\" style = \"text-align: left;\">String</th><th title = \"Union{Missing, Float64}\" style = \"text-align: left;\">Float64?</th><th title = \"Float64\" style = \"text-align: left;\">Float64</th><th title = \"Float64\" style = \"text-align: left;\">Float64</th></tr></thead><tbody><tr><td class = \"rowLabel\" style = \"font-weight: bold; text-align: right;\">17</td><td style = \"text-align: right;\">22</td><td style = \"text-align: left;\">natural_gas_fired_combustion_turbine</td><td style = \"text-align: left;\">WEC_SDGE</td><td style = \"text-align: right;\">51.3</td><td style = \"text-align: right;\">1</td><td style = \"text-align: right;\">51.3</td><td style = \"text-align: right;\">10.8</td><td style = \"text-align: right;\">0</td><td style = \"text-align: left;\">pacific_naturalgas</td><td style = \"text-align: right;\">11.12</td><td style = \"text-align: right;\">0.0</td><td style = \"text-align: right;\">0.0</td><td style = \"text-align: right;\">0.409</td><td style = \"text-align: right;\">3.78</td><td style = \"text-align: right;\">3.78</td><td style = \"text-align: right;\">113</td><td style = \"text-align: right;\">3.5</td><td style = \"text-align: right;\">1</td><td style = \"text-align: right;\">1</td><td style = \"text-align: right;\">0</td><td style = \"text-align: right;\">1.0</td><td style = \"text-align: right;\">1.0</td><td style = \"text-align: right;\">1.0</td><td style = \"text-align: right;\">0</td><td style = \"text-align: right;\">0</td><td style = \"text-align: right;\">14</td><td style = \"text-align: right;\">0</td><td style = \"text-align: right;\">2.57</td><td style = \"text-align: right;\">0.05306</td><td style = \"text-align: right;\">false</td><td style = \"text-align: left;\">wec_sdge_natural_gas_fired_combustion_turbine_14.0</td><td style = \"font-style: italic; text-align: right;\">missing</td><td style = \"text-align: right;\">39.3784</td><td style = \"text-align: right;\">51.3</td></tr></tbody></table></div>"
      ],
      "text/latex": [
       "\\begin{tabular}{r|ccccccccc}\n",
       "\t& r\\_id & resource & region & existing\\_cap\\_mw & num\\_units & cap\\_size & var\\_om\\_cost\\_per\\_mwh & var\\_om\\_cost\\_per\\_mwh\\_in & \\\\\n",
       "\t\\hline\n",
       "\t& Int64? & String? & String15? & Float64? & Int64? & Float64? & Float64? & Int64? & \\\\\n",
       "\t\\hline\n",
       "\t17 & 22 & natural\\_gas\\_fired\\_combustion\\_turbine & WEC\\_SDGE & 51.3 & 1 & 51.3 & 10.8 & 0 & $\\dots$ \\\\\n",
       "\\end{tabular}\n"
      ],
      "text/plain": [
       "\u001b[1mDataFrameRow\u001b[0m\n",
       "\u001b[1m Row \u001b[0m│\u001b[1m r_id   \u001b[0m\u001b[1m resource                          \u001b[0m\u001b[1m region    \u001b[0m\u001b[1m existing_cap_mw \u001b[0m\u001b[1m num_units \u001b[0m\u001b[1m cap_size \u001b[0m\u001b[1m var_om_cost_per_mwh\u001b[0m ⋯\n",
       "     │\u001b[90m Int64? \u001b[0m\u001b[90m String?                           \u001b[0m\u001b[90m String15? \u001b[0m\u001b[90m Float64?        \u001b[0m\u001b[90m Int64?    \u001b[0m\u001b[90m Float64? \u001b[0m\u001b[90m Float64?           \u001b[0m ⋯\n",
       "─────┼──────────────────────────────────────────────────────────────────────────────────────────────────────────────────\n",
       "  17 │     22  natural_gas_fired_combustion_tur…  WEC_SDGE              51.3          1      51.3                 10.8 ⋯\n",
       "\u001b[36m                                                                                                      27 columns omitted\u001b[0m"
      ]
     },
     "execution_count": 21,
     "metadata": {},
     "output_type": "execute_result"
    }
   ],
   "source": [
    "supply_curve[marg_gen,:]"
   ]
  },
  {
   "cell_type": "code",
   "execution_count": 22,
   "id": "ca99ca68",
   "metadata": {},
   "outputs": [
    {
     "data": {
      "text/plain": [
       "15.678599999999925"
      ]
     },
     "execution_count": 22,
     "metadata": {},
     "output_type": "execute_result"
    }
   ],
   "source": [
    "solution.solution[solution.solution.r_id .== supply_curve[marg_gen,:r_id],\n",
    "    :gen][1]"
   ]
  },
  {
   "cell_type": "code",
   "execution_count": 23,
   "id": "d50c9ad1",
   "metadata": {},
   "outputs": [
    {
     "name": "stdout",
     "output_type": "stream",
     "text": [
      "┌──────────────────────────────────────┬──────────┐\n",
      "│\u001b[1m                             resource \u001b[0m│\u001b[1m  gen_sum \u001b[0m│\n",
      "│\u001b[90m                              String? \u001b[0m│\u001b[90m  Float64 \u001b[0m│\n",
      "├──────────────────────────────────────┼──────────┤\n",
      "│                              biomass │   21.400 │\n",
      "│         hydroelectric_pumped_storage │   42.000 │\n",
      "│     natural_gas_fired_combined_cycle │ 1928.500 │\n",
      "│ natural_gas_fired_combustion_turbine │  353.179 │\n",
      "│                 onshore_wind_turbine │   61.777 │\n",
      "│                  small_hydroelectric │    2.145 │\n",
      "│                   solar_photovoltaic │    0.000 │\n",
      "└──────────────────────────────────────┴──────────┘\n"
     ]
    }
   ],
   "source": [
    "sol_gen = combine(groupby(solution.solution, :resource), \n",
    "            :gen => sum)\n",
    "# We use the PrettyTable package here to round numbers when displaying\n",
    "pretty_table(sol_gen, formatters = ft_printf(\"%5.3f\")) \n",
    "     "
   ]
  },
  {
   "cell_type": "code",
   "execution_count": 24,
   "id": "564caff2",
   "metadata": {},
   "outputs": [
    {
     "name": "stdout",
     "output_type": "stream",
     "text": [
      "┌──────────────────────────────────────┬──────────┐\n",
      "│\u001b[1m                             resource \u001b[0m│\u001b[1m  gen_sum \u001b[0m│\n",
      "│\u001b[90m                              String? \u001b[0m│\u001b[90m  Float64 \u001b[0m│\n",
      "├──────────────────────────────────────┼──────────┤\n",
      "│                              biomass │   21.400 │\n",
      "│         hydroelectric_pumped_storage │   42.000 │\n",
      "│     natural_gas_fired_combined_cycle │ 1928.500 │\n",
      "│ natural_gas_fired_combustion_turbine │  353.179 │\n",
      "│                 onshore_wind_turbine │   61.777 │\n",
      "│                  small_hydroelectric │    2.145 │\n",
      "│                   solar_photovoltaic │    0.000 │\n",
      "│               solar_photovoltaic_btm │    0.000 │\n",
      "└──────────────────────────────────────┴──────────┘\n"
     ]
    }
   ],
   "source": [
    "# we use the copy function to create a copy of the dataframe (as opposed to working with the original)\n",
    "sol_gen_btm = copy(sol_gen)\n",
    "\n",
    "# We'll use the same variability profile for BTM solar as the utility-scale solar here (in reality, they would probably differ)\n",
    "btm = DataFrame(resource = [\"solar_photovoltaic_btm\"], gen_sum = var_cf_single[var_cf_single.gen_full .== \"wec_sdge_solar_photovoltaic_1.0\",:cf] * 600)\n",
    "append!(sol_gen_btm, btm)\n",
    "pretty_table(sol_gen_btm, formatters = ft_printf(\"%5.3f\")) # We use the PrettyTable package to round numbers when displaying"
   ]
  },
  {
   "cell_type": "code",
   "execution_count": 25,
   "id": "8e12c547",
   "metadata": {},
   "outputs": [],
   "source": [
    "################    Multiple-time period, complex generator constraints with time coupling      ####################"
   ]
  },
  {
   "cell_type": "code",
   "execution_count": 33,
   "id": "a3e9f5ca",
   "metadata": {},
   "outputs": [
    {
     "data": {
      "text/plain": [
       "economic_dispatch_multi (generic function with 1 method)"
      ]
     },
     "execution_count": 33,
     "metadata": {},
     "output_type": "execute_result"
    }
   ],
   "source": [
    "#=\n",
    "Function to solve economic dispatch problem (multi-time period, single-zone)\n",
    "Inputs:\n",
    "    gen_df -- dataframe with generator info\n",
    "    loads  -- load by time\n",
    "    gen_variable -- capacity factors of variable generators (in \"long\" format)\n",
    "=#\n",
    "function economic_dispatch_multi(gen_df, loads, gen_variable)\n",
    "    ED = Model(HiGHS.Optimizer)\n",
    "\n",
    "    # Define sets based on data\n",
    "    G_var = gen_df[gen_df[!,:is_variable] .== 1,:r_id] \n",
    "    G_nonvar = gen_df[gen_df[!,:is_variable] .== 0,:r_id]\n",
    "    G = gen_df.r_id\n",
    "    T = loads.hour\n",
    "\n",
    "    # Generator capacity factor time series for variable generators\n",
    "    gen_var_cf = innerjoin(gen_variable, \n",
    "                    gen_df[gen_df.is_variable .== 1 , \n",
    "                        [:r_id, :gen_full, :existing_cap_mw]], \n",
    "                    on = :gen_full)\n",
    "        \n",
    "    # Decision variables   \n",
    "    @variables(ED, begin\n",
    "        GEN[G, T]  >= 0     # generation\n",
    "        # Note: we assume Pmin = 0 for all resources for simplicty here\n",
    "    end)\n",
    "                \n",
    "    # Objective function\n",
    "    @objective(ED, Min, \n",
    "        sum( (gen_df[gen_df.r_id .== i,:heat_rate_mmbtu_per_mwh][1] * gen_df[gen_df.r_id .== i,:fuel_cost][1] +\n",
    "            gen_df[gen_df.r_id .== i,:var_om_cost_per_mwh][1]) * GEN[i,t] \n",
    "                        for i in G_nonvar for t in T) + \n",
    "        sum(gen_df[gen_df.r_id .== i,:var_om_cost_per_mwh][1] * GEN[i,t] \n",
    "                        for i in G_var for t in T)\n",
    "    )\n",
    "    \n",
    "    # Demand constraint\n",
    "    @constraint(ED, cDemand[t in T], \n",
    "        sum(GEN[i,t] for i in G) == loads[loads.hour .== t,:demand][1])\n",
    "\n",
    "    # Capacity constraints (non-variable generation)\n",
    "    @constraint(ED, Cap_nonvar[i in G_nonvar, t in T], \n",
    "        GEN[i,t] <= gen_df[gen_df.r_id .== i,:existing_cap_mw][1])\n",
    "\n",
    "    # Variable generation capacity constraints\n",
    "    @constraint(ED, Cap_var[i in 1:nrow(gen_var_cf)], \n",
    "            GEN[gen_var_cf[i,:r_id], gen_var_cf[i,:hour] ] <= \n",
    "                        gen_var_cf[i,:cf] *\n",
    "                        gen_var_cf[i,:existing_cap_mw])\n",
    "    \n",
    "    # Solve statement (! indicates runs in place)\n",
    "    optimize!(ED)\n",
    "\n",
    "    # Dataframe of optimal decision variables\n",
    "    # This requires a few extra steps because we are indexing decision variables over two sets: generator and time\n",
    "    solution = DataFrame(value.(GEN).data, :auto)  # :auto argument asks DataFrames to pick the variable names automatically\n",
    "    ax1 = value.(GEN).axes[1]\n",
    "    ax2 = value.(GEN).axes[2]\n",
    "    cols = names(solution)\n",
    "    insertcols!(solution, 1, :r_id => ax1)\n",
    "    solution = stack(solution, Not(:r_id), variable_name=:hour)\n",
    "    solution.hour = foldl(replace, [cols[i] => ax2[i] for i in 1:length(ax2)], init=solution.hour)\n",
    "    rename!(solution, :value => :gen)\n",
    "    solution.hour = convert.(Int64,solution.hour)\n",
    "    \n",
    "    # Return the solution and objective as named tuple\n",
    "    return (\n",
    "        solution = solution, \n",
    "        cost = objective_value(ED),\n",
    "        status = termination_status(ED)\n",
    "    )\n",
    "\n",
    "end\n",
    "     "
   ]
  },
  {
   "cell_type": "code",
   "execution_count": 35,
   "id": "e95711d7",
   "metadata": {},
   "outputs": [
    {
     "name": "stdout",
     "output_type": "stream",
     "text": [
      "Running HiGHS 1.4.0 [date: 1970-01-01, git hash: bcf6c0b22]\n",
      "Copyright (c) 2022 ERGO-Code under MIT licence terms\n",
      "Presolving model\n",
      "24 rows, 583 cols, 583 nonzeros\n",
      "24 rows, 522 cols, 522 nonzeros\n",
      "Presolve : Reductions: rows 24(-600); columns 522(-78); elements 522(-678)\n",
      "Solving the presolved LP\n",
      "Using EKK dual simplex solver - serial\n",
      "  Iteration        Objective     Infeasibilities num(sum)\n",
      "          0     2.5048085200e+04 Pr: 24(53556.1) 0s\n",
      "         24     8.0339333085e+05 Pr: 0(0) 0s\n",
      "Solving the original LP from the solution after postsolve\n",
      "Model   status      : Optimal\n",
      "Simplex   iterations: 24\n",
      "Objective value     :  8.0339333085e+05\n",
      "HiGHS run time      :          0.00\n"
     ]
    }
   ],
   "source": [
    "n=100\n",
    "T_period = (n*24+1):((n+1)*24)\n",
    "\n",
    "loads_multi = loads[in.(loads.hour,Ref(T_period)),:]\n",
    "gen_variable_multi = gen_variable_long[in.(gen_variable_long.hour,Ref(T_period)),:]\n",
    "\n",
    "gen_df_sens = copy(gen_df)\n",
    "gen_df_sens[gen_df_sens.resource .== \"solar_photovoltaic\",\n",
    "    :existing_cap_mw] .= 3500\n",
    "\n",
    "solution = economic_dispatch_multi(gen_df_sens, loads_multi, gen_variable_multi);"
   ]
  },
  {
   "cell_type": "code",
   "execution_count": 48,
   "id": "6bb5f35a",
   "metadata": {},
   "outputs": [
    {
     "data": {
      "text/html": [
       "<div><div style = \"float: left;\"><span>192×3 DataFrame</span></div><div style = \"float: right;\"><span style = \"font-style: italic;\">167 rows omitted</span></div><div style = \"clear: both;\"></div></div><div class = \"data-frame\" style = \"overflow-x: scroll;\"><table class = \"data-frame\" style = \"margin-bottom: 6px;\"><thead><tr class = \"header\"><th class = \"rowNumber\" style = \"font-weight: bold; text-align: right;\">Row</th><th style = \"text-align: left;\">resource</th><th style = \"text-align: left;\">hour</th><th style = \"text-align: left;\">gen_sum</th></tr><tr class = \"subheader headerLastRow\"><th class = \"rowNumber\" style = \"font-weight: bold; text-align: right;\"></th><th title = \"Union{Missing, String}\" style = \"text-align: left;\">String?</th><th title = \"Int64\" style = \"text-align: left;\">Int64</th><th title = \"Float64\" style = \"text-align: left;\">Float64</th></tr></thead><tbody><tr><td class = \"rowNumber\" style = \"font-weight: bold; text-align: right;\">1</td><td style = \"text-align: left;\">biomass</td><td style = \"text-align: right;\">2401</td><td style = \"text-align: right;\">21.4</td></tr><tr><td class = \"rowNumber\" style = \"font-weight: bold; text-align: right;\">2</td><td style = \"text-align: left;\">hydroelectric_pumped_storage</td><td style = \"text-align: right;\">2401</td><td style = \"text-align: right;\">42.0</td></tr><tr><td class = \"rowNumber\" style = \"font-weight: bold; text-align: right;\">3</td><td style = \"text-align: left;\">natural_gas_fired_combined_cycle</td><td style = \"text-align: right;\">2401</td><td style = \"text-align: right;\">1385.11</td></tr><tr><td class = \"rowNumber\" style = \"font-weight: bold; text-align: right;\">4</td><td style = \"text-align: left;\">natural_gas_fired_combustion_turbine</td><td style = \"text-align: right;\">2401</td><td style = \"text-align: right;\">0.0</td></tr><tr><td class = \"rowNumber\" style = \"font-weight: bold; text-align: right;\">5</td><td style = \"text-align: left;\">_onshore_wind_turbine</td><td style = \"text-align: right;\">2401</td><td style = \"text-align: right;\">163.309</td></tr><tr><td class = \"rowNumber\" style = \"font-weight: bold; text-align: right;\">6</td><td style = \"text-align: left;\">_small_hydroelectric</td><td style = \"text-align: right;\">2401</td><td style = \"text-align: right;\">3.18493</td></tr><tr><td class = \"rowNumber\" style = \"font-weight: bold; text-align: right;\">7</td><td style = \"text-align: left;\">_solar_photovoltaic</td><td style = \"text-align: right;\">2401</td><td style = \"text-align: right;\">0.0</td></tr><tr><td class = \"rowNumber\" style = \"font-weight: bold; text-align: right;\">8</td><td style = \"text-align: left;\">biomass</td><td style = \"text-align: right;\">2402</td><td style = \"text-align: right;\">21.4</td></tr><tr><td class = \"rowNumber\" style = \"font-weight: bold; text-align: right;\">9</td><td style = \"text-align: left;\">hydroelectric_pumped_storage</td><td style = \"text-align: right;\">2402</td><td style = \"text-align: right;\">42.0</td></tr><tr><td class = \"rowNumber\" style = \"font-weight: bold; text-align: right;\">10</td><td style = \"text-align: left;\">natural_gas_fired_combined_cycle</td><td style = \"text-align: right;\">2402</td><td style = \"text-align: right;\">1316.62</td></tr><tr><td class = \"rowNumber\" style = \"font-weight: bold; text-align: right;\">11</td><td style = \"text-align: left;\">natural_gas_fired_combustion_turbine</td><td style = \"text-align: right;\">2402</td><td style = \"text-align: right;\">0.0</td></tr><tr><td class = \"rowNumber\" style = \"font-weight: bold; text-align: right;\">12</td><td style = \"text-align: left;\">_onshore_wind_turbine</td><td style = \"text-align: right;\">2402</td><td style = \"text-align: right;\">169.793</td></tr><tr><td class = \"rowNumber\" style = \"font-weight: bold; text-align: right;\">13</td><td style = \"text-align: left;\">_small_hydroelectric</td><td style = \"text-align: right;\">2402</td><td style = \"text-align: right;\">3.18493</td></tr><tr><td style = \"text-align: right;\">&vellip;</td><td style = \"text-align: right;\">&vellip;</td><td style = \"text-align: right;\">&vellip;</td><td style = \"text-align: right;\">&vellip;</td></tr><tr><td class = \"rowNumber\" style = \"font-weight: bold; text-align: right;\">181</td><td style = \"text-align: left;\">_solar_photovoltaic_btm</td><td style = \"text-align: right;\">2413</td><td style = \"text-align: right;\">386.76</td></tr><tr><td class = \"rowNumber\" style = \"font-weight: bold; text-align: right;\">182</td><td style = \"text-align: left;\">_solar_photovoltaic_btm</td><td style = \"text-align: right;\">2414</td><td style = \"text-align: right;\">387.3</td></tr><tr><td class = \"rowNumber\" style = \"font-weight: bold; text-align: right;\">183</td><td style = \"text-align: left;\">_solar_photovoltaic_btm</td><td style = \"text-align: right;\">2415</td><td style = \"text-align: right;\">374.46</td></tr><tr><td class = \"rowNumber\" style = \"font-weight: bold; text-align: right;\">184</td><td style = \"text-align: left;\">_solar_photovoltaic_btm</td><td style = \"text-align: right;\">2416</td><td style = \"text-align: right;\">341.7</td></tr><tr><td class = \"rowNumber\" style = \"font-weight: bold; text-align: right;\">185</td><td style = \"text-align: left;\">_solar_photovoltaic_btm</td><td style = \"text-align: right;\">2417</td><td style = \"text-align: right;\">280.68</td></tr><tr><td class = \"rowNumber\" style = \"font-weight: bold; text-align: right;\">186</td><td style = \"text-align: left;\">_solar_photovoltaic_btm</td><td style = \"text-align: right;\">2418</td><td style = \"text-align: right;\">194.16</td></tr><tr><td class = \"rowNumber\" style = \"font-weight: bold; text-align: right;\">187</td><td style = \"text-align: left;\">_solar_photovoltaic_btm</td><td style = \"text-align: right;\">2419</td><td style = \"text-align: right;\">28.62</td></tr><tr><td class = \"rowNumber\" style = \"font-weight: bold; text-align: right;\">188</td><td style = \"text-align: left;\">_solar_photovoltaic_btm</td><td style = \"text-align: right;\">2420</td><td style = \"text-align: right;\">0.0</td></tr><tr><td class = \"rowNumber\" style = \"font-weight: bold; text-align: right;\">189</td><td style = \"text-align: left;\">_solar_photovoltaic_btm</td><td style = \"text-align: right;\">2421</td><td style = \"text-align: right;\">0.0</td></tr><tr><td class = \"rowNumber\" style = \"font-weight: bold; text-align: right;\">190</td><td style = \"text-align: left;\">_solar_photovoltaic_btm</td><td style = \"text-align: right;\">2422</td><td style = \"text-align: right;\">0.0</td></tr><tr><td class = \"rowNumber\" style = \"font-weight: bold; text-align: right;\">191</td><td style = \"text-align: left;\">_solar_photovoltaic_btm</td><td style = \"text-align: right;\">2423</td><td style = \"text-align: right;\">0.0</td></tr><tr><td class = \"rowNumber\" style = \"font-weight: bold; text-align: right;\">192</td><td style = \"text-align: left;\">_solar_photovoltaic_btm</td><td style = \"text-align: right;\">2424</td><td style = \"text-align: right;\">0.0</td></tr></tbody></table></div>"
      ],
      "text/latex": [
       "\\begin{tabular}{r|ccc}\n",
       "\t& resource & hour & gen\\_sum\\\\\n",
       "\t\\hline\n",
       "\t& String? & Int64 & Float64\\\\\n",
       "\t\\hline\n",
       "\t1 & biomass & 2401 & 21.4 \\\\\n",
       "\t2 & hydroelectric\\_pumped\\_storage & 2401 & 42.0 \\\\\n",
       "\t3 & natural\\_gas\\_fired\\_combined\\_cycle & 2401 & 1385.11 \\\\\n",
       "\t4 & natural\\_gas\\_fired\\_combustion\\_turbine & 2401 & 0.0 \\\\\n",
       "\t5 & \\_onshore\\_wind\\_turbine & 2401 & 163.309 \\\\\n",
       "\t6 & \\_small\\_hydroelectric & 2401 & 3.18493 \\\\\n",
       "\t7 & \\_solar\\_photovoltaic & 2401 & 0.0 \\\\\n",
       "\t8 & biomass & 2402 & 21.4 \\\\\n",
       "\t9 & hydroelectric\\_pumped\\_storage & 2402 & 42.0 \\\\\n",
       "\t10 & natural\\_gas\\_fired\\_combined\\_cycle & 2402 & 1316.62 \\\\\n",
       "\t11 & natural\\_gas\\_fired\\_combustion\\_turbine & 2402 & 0.0 \\\\\n",
       "\t12 & \\_onshore\\_wind\\_turbine & 2402 & 169.793 \\\\\n",
       "\t13 & \\_small\\_hydroelectric & 2402 & 3.18493 \\\\\n",
       "\t14 & \\_solar\\_photovoltaic & 2402 & 0.0 \\\\\n",
       "\t15 & biomass & 2403 & 21.4 \\\\\n",
       "\t16 & hydroelectric\\_pumped\\_storage & 2403 & 42.0 \\\\\n",
       "\t17 & natural\\_gas\\_fired\\_combined\\_cycle & 2403 & 1336.3 \\\\\n",
       "\t18 & natural\\_gas\\_fired\\_combustion\\_turbine & 2403 & 0.0 \\\\\n",
       "\t19 & \\_onshore\\_wind\\_turbine & 2403 & 115.11 \\\\\n",
       "\t20 & \\_small\\_hydroelectric & 2403 & 3.18493 \\\\\n",
       "\t21 & \\_solar\\_photovoltaic & 2403 & 0.0 \\\\\n",
       "\t22 & biomass & 2404 & 21.4 \\\\\n",
       "\t23 & hydroelectric\\_pumped\\_storage & 2404 & 42.0 \\\\\n",
       "\t24 & natural\\_gas\\_fired\\_combined\\_cycle & 2404 & 1394.86 \\\\\n",
       "\t25 & natural\\_gas\\_fired\\_combustion\\_turbine & 2404 & 0.0 \\\\\n",
       "\t26 & \\_onshore\\_wind\\_turbine & 2404 & 100.553 \\\\\n",
       "\t27 & \\_small\\_hydroelectric & 2404 & 3.18493 \\\\\n",
       "\t28 & \\_solar\\_photovoltaic & 2404 & 0.0 \\\\\n",
       "\t29 & biomass & 2405 & 21.4 \\\\\n",
       "\t30 & hydroelectric\\_pumped\\_storage & 2405 & 42.0 \\\\\n",
       "\t$\\dots$ & $\\dots$ & $\\dots$ & $\\dots$ \\\\\n",
       "\\end{tabular}\n"
      ],
      "text/plain": [
       "\u001b[1m192×3 DataFrame\u001b[0m\n",
       "\u001b[1m Row \u001b[0m│\u001b[1m resource                          \u001b[0m\u001b[1m hour  \u001b[0m\u001b[1m gen_sum    \u001b[0m\n",
       "     │\u001b[90m String?                           \u001b[0m\u001b[90m Int64 \u001b[0m\u001b[90m Float64    \u001b[0m\n",
       "─────┼──────────────────────────────────────────────────────\n",
       "   1 │ biomass                             2401    21.4\n",
       "   2 │ hydroelectric_pumped_storage        2401    42.0\n",
       "   3 │ natural_gas_fired_combined_cycle    2401  1385.11\n",
       "   4 │ natural_gas_fired_combustion_tur…   2401     0.0\n",
       "   5 │ _onshore_wind_turbine               2401   163.309\n",
       "   6 │ _small_hydroelectric                2401     3.18493\n",
       "   7 │ _solar_photovoltaic                 2401     0.0\n",
       "   8 │ biomass                             2402    21.4\n",
       "   9 │ hydroelectric_pumped_storage        2402    42.0\n",
       "  10 │ natural_gas_fired_combined_cycle    2402  1316.62\n",
       "  11 │ natural_gas_fired_combustion_tur…   2402     0.0\n",
       "  ⋮  │                 ⋮                    ⋮        ⋮\n",
       " 183 │ _solar_photovoltaic_btm             2415   374.46\n",
       " 184 │ _solar_photovoltaic_btm             2416   341.7\n",
       " 185 │ _solar_photovoltaic_btm             2417   280.68\n",
       " 186 │ _solar_photovoltaic_btm             2418   194.16\n",
       " 187 │ _solar_photovoltaic_btm             2419    28.62\n",
       " 188 │ _solar_photovoltaic_btm             2420     0.0\n",
       " 189 │ _solar_photovoltaic_btm             2421     0.0\n",
       " 190 │ _solar_photovoltaic_btm             2422     0.0\n",
       " 191 │ _solar_photovoltaic_btm             2423     0.0\n",
       " 192 │ _solar_photovoltaic_btm             2424     0.0\n",
       "\u001b[36m                                            171 rows omitted\u001b[0m"
      ]
     },
     "execution_count": 48,
     "metadata": {},
     "output_type": "execute_result"
    }
   ],
   "source": [
    "# **Add back in BTM solar and plot results**\n",
    "\n",
    "sol_gen = innerjoin(solution.solution, \n",
    "                    gen_df[!, [:r_id, :resource]], \n",
    "                    on = :r_id)\n",
    "sol_gen = combine(groupby(sol_gen, [:resource, :hour]), \n",
    "            :gen => sum)\n",
    "sol_gen_btm = copy(sol_gen)\n",
    "sol_gen_btm[sol_gen_btm.resource .== \"solar_photovoltaic\", :resource] .= \"_solar_photovoltaic\"\n",
    "sol_gen_btm[sol_gen_btm.resource .== \"onshore_wind_turbine\", :resource] .= \"_onshore_wind_turbine\"\n",
    "sol_gen_btm[sol_gen_btm.resource .== \"small_hydroelectric\", :resource] .= \"_small_hydroelectric\"\n",
    "\n",
    "btm = DataFrame(resource = repeat([\"_solar_photovoltaic_btm\"]; outer=length(T_period)), \n",
    "    hour = T_period,\n",
    "    gen_sum = gen_variable_multi[gen_variable_multi.gen_full .== \"wec_sdge_solar_photovoltaic_1.0\",:cf] * 600)\n",
    "append!(sol_gen_btm, btm)\n"
   ]
  },
  {
   "cell_type": "code",
   "execution_count": 49,
   "id": "ad768d97",
   "metadata": {},
   "outputs": [
    {
     "data": {
      "text/html": [
       "<div><div style = \"float: left;\"><span>8×2 DataFrame</span></div><div style = \"clear: both;\"></div></div><div class = \"data-frame\" style = \"overflow-x: scroll;\"><table class = \"data-frame\" style = \"margin-bottom: 6px;\"><thead><tr class = \"header\"><th class = \"rowNumber\" style = \"font-weight: bold; text-align: right;\">Row</th><th style = \"text-align: left;\">resource</th><th style = \"text-align: left;\">gen_sum_sum</th></tr><tr class = \"subheader headerLastRow\"><th class = \"rowNumber\" style = \"font-weight: bold; text-align: right;\"></th><th title = \"Union{Missing, String}\" style = \"text-align: left;\">String?</th><th title = \"Float64\" style = \"text-align: left;\">Float64</th></tr></thead><tbody><tr><td class = \"rowNumber\" style = \"font-weight: bold; text-align: right;\">1</td><td style = \"text-align: left;\">_onshore_wind_turbine</td><td style = \"text-align: right;\">2314.42</td></tr><tr><td class = \"rowNumber\" style = \"font-weight: bold; text-align: right;\">2</td><td style = \"text-align: left;\">_small_hydroelectric</td><td style = \"text-align: right;\">76.4384</td></tr><tr><td class = \"rowNumber\" style = \"font-weight: bold; text-align: right;\">3</td><td style = \"text-align: left;\">_solar_photovoltaic</td><td style = \"text-align: right;\">20546.0</td></tr><tr><td class = \"rowNumber\" style = \"font-weight: bold; text-align: right;\">4</td><td style = \"text-align: left;\">_solar_photovoltaic_btm</td><td style = \"text-align: right;\">3522.18</td></tr><tr><td class = \"rowNumber\" style = \"font-weight: bold; text-align: right;\">5</td><td style = \"text-align: left;\">biomass</td><td style = \"text-align: right;\">513.6</td></tr><tr><td class = \"rowNumber\" style = \"font-weight: bold; text-align: right;\">6</td><td style = \"text-align: left;\">hydroelectric_pumped_storage</td><td style = \"text-align: right;\">1008.0</td></tr><tr><td class = \"rowNumber\" style = \"font-weight: bold; text-align: right;\">7</td><td style = \"text-align: left;\">natural_gas_fired_combined_cycle</td><td style = \"text-align: right;\">29733.7</td></tr><tr><td class = \"rowNumber\" style = \"font-weight: bold; text-align: right;\">8</td><td style = \"text-align: left;\">natural_gas_fired_combustion_turbine</td><td style = \"text-align: right;\">1240.77</td></tr></tbody></table></div>"
      ],
      "text/latex": [
       "\\begin{tabular}{r|cc}\n",
       "\t& resource & gen\\_sum\\_sum\\\\\n",
       "\t\\hline\n",
       "\t& String? & Float64\\\\\n",
       "\t\\hline\n",
       "\t1 & \\_onshore\\_wind\\_turbine & 2314.42 \\\\\n",
       "\t2 & \\_small\\_hydroelectric & 76.4384 \\\\\n",
       "\t3 & \\_solar\\_photovoltaic & 20546.0 \\\\\n",
       "\t4 & \\_solar\\_photovoltaic\\_btm & 3522.18 \\\\\n",
       "\t5 & biomass & 513.6 \\\\\n",
       "\t6 & hydroelectric\\_pumped\\_storage & 1008.0 \\\\\n",
       "\t7 & natural\\_gas\\_fired\\_combined\\_cycle & 29733.7 \\\\\n",
       "\t8 & natural\\_gas\\_fired\\_combustion\\_turbine & 1240.77 \\\\\n",
       "\\end{tabular}\n"
      ],
      "text/plain": [
       "\u001b[1m8×2 DataFrame\u001b[0m\n",
       "\u001b[1m Row \u001b[0m│\u001b[1m resource                          \u001b[0m\u001b[1m gen_sum_sum \u001b[0m\n",
       "     │\u001b[90m String?                           \u001b[0m\u001b[90m Float64     \u001b[0m\n",
       "─────┼────────────────────────────────────────────────\n",
       "   1 │ _onshore_wind_turbine                2314.42\n",
       "   2 │ _small_hydroelectric                   76.4384\n",
       "   3 │ _solar_photovoltaic                 20546.0\n",
       "   4 │ _solar_photovoltaic_btm              3522.18\n",
       "   5 │ biomass                               513.6\n",
       "   6 │ hydroelectric_pumped_storage         1008.0\n",
       "   7 │ natural_gas_fired_combined_cycle    29733.7\n",
       "   8 │ natural_gas_fired_combustion_tur…    1240.77"
      ]
     },
     "execution_count": 49,
     "metadata": {},
     "output_type": "execute_result"
    }
   ],
   "source": [
    "# Reorder resources\n",
    "sort!(sol_gen_btm, [:hour, :resource])\n",
    "\n",
    "#Write output\n",
    "  # Create a 'results' directory in your current working directory if one does not yet exist\n",
    "if !isdir(\"results\") \n",
    "    mkdir(\"results\")\n",
    "end\n",
    "  # Write the outputs to this folder\n",
    "CSV.write(\"results/sol_gen_btm.csv\",sol_gen_btm)\n",
    "\n",
    "sol_gen_sum = combine(groupby(sol_gen_btm, [:resource]), \n",
    "            :gen_sum => sum)"
   ]
  },
  {
   "cell_type": "code",
   "execution_count": 50,
   "id": "88501483",
   "metadata": {},
   "outputs": [
    {
     "data": {
      "application/vnd.vegalite.v4+json": {
       "data": {
        "values": [
         {
          "gen_sum": 163.3088,
          "hour": 2401,
          "resource": "_onshore_wind_turbine"
         },
         {
          "gen_sum": 3.184932,
          "hour": 2401,
          "resource": "_small_hydroelectric"
         },
         {
          "gen_sum": 0,
          "hour": 2401,
          "resource": "_solar_photovoltaic"
         },
         {
          "gen_sum": 0,
          "hour": 2401,
          "resource": "_solar_photovoltaic_btm"
         },
         {
          "gen_sum": 21.4,
          "hour": 2401,
          "resource": "biomass"
         },
         {
          "gen_sum": 42,
          "hour": 2401,
          "resource": "hydroelectric_pumped_storage"
         },
         {
          "gen_sum": 1385.106268,
          "hour": 2401,
          "resource": "natural_gas_fired_combined_cycle"
         },
         {
          "gen_sum": 0,
          "hour": 2401,
          "resource": "natural_gas_fired_combustion_turbine"
         },
         {
          "gen_sum": 169.79327999999998,
          "hour": 2402,
          "resource": "_onshore_wind_turbine"
         },
         {
          "gen_sum": 3.184932,
          "hour": 2402,
          "resource": "_small_hydroelectric"
         },
         {
          "gen_sum": 0,
          "hour": 2402,
          "resource": "_solar_photovoltaic"
         },
         {
          "gen_sum": 0,
          "hour": 2402,
          "resource": "_solar_photovoltaic_btm"
         },
         {
          "gen_sum": 21.4,
          "hour": 2402,
          "resource": "biomass"
         },
         {
          "gen_sum": 42,
          "hour": 2402,
          "resource": "hydroelectric_pumped_storage"
         },
         {
          "gen_sum": 1316.621788,
          "hour": 2402,
          "resource": "natural_gas_fired_combined_cycle"
         },
         {
          "gen_sum": 0,
          "hour": 2402,
          "resource": "natural_gas_fired_combustion_turbine"
         },
         {
          "gen_sum": 115.1104,
          "hour": 2403,
          "resource": "_onshore_wind_turbine"
         },
         {
          "gen_sum": 3.184932,
          "hour": 2403,
          "resource": "_small_hydroelectric"
         },
         {
          "gen_sum": 0,
          "hour": 2403,
          "resource": "_solar_photovoltaic"
         },
         {
          "gen_sum": 0,
          "hour": 2403,
          "resource": "_solar_photovoltaic_btm"
         },
         {
          "gen_sum": 21.4,
          "hour": 2403,
          "resource": "biomass"
         },
         {
          "gen_sum": 42,
          "hour": 2403,
          "resource": "hydroelectric_pumped_storage"
         },
         {
          "gen_sum": 1336.304668,
          "hour": 2403,
          "resource": "natural_gas_fired_combined_cycle"
         },
         {
          "gen_sum": 0,
          "hour": 2403,
          "resource": "natural_gas_fired_combustion_turbine"
         },
         {
          "gen_sum": 100.55296,
          "hour": 2404,
          "resource": "_onshore_wind_turbine"
         },
         {
          "gen_sum": 3.184932,
          "hour": 2404,
          "resource": "_small_hydroelectric"
         },
         {
          "gen_sum": 0,
          "hour": 2404,
          "resource": "_solar_photovoltaic"
         },
         {
          "gen_sum": 0,
          "hour": 2404,
          "resource": "_solar_photovoltaic_btm"
         },
         {
          "gen_sum": 21.4,
          "hour": 2404,
          "resource": "biomass"
         },
         {
          "gen_sum": 42,
          "hour": 2404,
          "resource": "hydroelectric_pumped_storage"
         },
         {
          "gen_sum": 1394.8621079999998,
          "hour": 2404,
          "resource": "natural_gas_fired_combined_cycle"
         },
         {
          "gen_sum": 0,
          "hour": 2404,
          "resource": "natural_gas_fired_combustion_turbine"
         },
         {
          "gen_sum": 80.57728,
          "hour": 2405,
          "resource": "_onshore_wind_turbine"
         },
         {
          "gen_sum": 3.184932,
          "hour": 2405,
          "resource": "_small_hydroelectric"
         },
         {
          "gen_sum": 0,
          "hour": 2405,
          "resource": "_solar_photovoltaic"
         },
         {
          "gen_sum": 0,
          "hour": 2405,
          "resource": "_solar_photovoltaic_btm"
         },
         {
          "gen_sum": 21.4,
          "hour": 2405,
          "resource": "biomass"
         },
         {
          "gen_sum": 42,
          "hour": 2405,
          "resource": "hydroelectric_pumped_storage"
         },
         {
          "gen_sum": 1585.837788,
          "hour": 2405,
          "resource": "natural_gas_fired_combined_cycle"
         },
         {
          "gen_sum": 0,
          "hour": 2405,
          "resource": "natural_gas_fired_combustion_turbine"
         },
         {
          "gen_sum": 139.17695999999998,
          "hour": 2406,
          "resource": "_onshore_wind_turbine"
         },
         {
          "gen_sum": 3.184932,
          "hour": 2406,
          "resource": "_small_hydroelectric"
         },
         {
          "gen_sum": 0,
          "hour": 2406,
          "resource": "_solar_photovoltaic"
         },
         {
          "gen_sum": 0,
          "hour": 2406,
          "resource": "_solar_photovoltaic_btm"
         },
         {
          "gen_sum": 21.4,
          "hour": 2406,
          "resource": "biomass"
         },
         {
          "gen_sum": 42,
          "hour": 2406,
          "resource": "hydroelectric_pumped_storage"
         },
         {
          "gen_sum": 1770.238108,
          "hour": 2406,
          "resource": "natural_gas_fired_combined_cycle"
         },
         {
          "gen_sum": 0,
          "hour": 2406,
          "resource": "natural_gas_fired_combustion_turbine"
         },
         {
          "gen_sum": 74.17984,
          "hour": 2407,
          "resource": "_onshore_wind_turbine"
         },
         {
          "gen_sum": 3.184932,
          "hour": 2407,
          "resource": "_small_hydroelectric"
         },
         {
          "gen_sum": 193.55,
          "hour": 2407,
          "resource": "_solar_photovoltaic"
         },
         {
          "gen_sum": 33.18,
          "hour": 2407,
          "resource": "_solar_photovoltaic_btm"
         },
         {
          "gen_sum": 21.4,
          "hour": 2407,
          "resource": "biomass"
         },
         {
          "gen_sum": 42,
          "hour": 2407,
          "resource": "hydroelectric_pumped_storage"
         },
         {
          "gen_sum": 1928.5,
          "hour": 2407,
          "resource": "natural_gas_fired_combined_cycle"
         },
         {
          "gen_sum": 11.185227999999896,
          "hour": 2407,
          "resource": "natural_gas_fired_combustion_turbine"
         },
         {
          "gen_sum": 49.373439999999995,
          "hour": 2408,
          "resource": "_onshore_wind_turbine"
         },
         {
          "gen_sum": 3.184932,
          "hour": 2408,
          "resource": "_small_hydroelectric"
         },
         {
          "gen_sum": 773.85,
          "hour": 2408,
          "resource": "_solar_photovoltaic"
         },
         {
          "gen_sum": 132.66,
          "hour": 2408,
          "resource": "_solar_photovoltaic_btm"
         },
         {
          "gen_sum": 21.4,
          "hour": 2408,
          "resource": "biomass"
         },
         {
          "gen_sum": 42,
          "hour": 2408,
          "resource": "hydroelectric_pumped_storage"
         },
         {
          "gen_sum": 1707.1916279999998,
          "hour": 2408,
          "resource": "natural_gas_fired_combined_cycle"
         },
         {
          "gen_sum": 0,
          "hour": 2408,
          "resource": "natural_gas_fired_combustion_turbine"
         },
         {
          "gen_sum": 167.35616,
          "hour": 2409,
          "resource": "_onshore_wind_turbine"
         },
         {
          "gen_sum": 3.184932,
          "hour": 2409,
          "resource": "_small_hydroelectric"
         },
         {
          "gen_sum": 1671.6000000000001,
          "hour": 2409,
          "resource": "_solar_photovoltaic"
         },
         {
          "gen_sum": 286.56,
          "hour": 2409,
          "resource": "_solar_photovoltaic_btm"
         },
         {
          "gen_sum": 21.4,
          "hour": 2409,
          "resource": "biomass"
         },
         {
          "gen_sum": 42,
          "hour": 2409,
          "resource": "hydroelectric_pumped_storage"
         },
         {
          "gen_sum": 932.458908,
          "hour": 2409,
          "resource": "natural_gas_fired_combined_cycle"
         },
         {
          "gen_sum": 0,
          "hour": 2409,
          "resource": "natural_gas_fired_combustion_turbine"
         },
         {
          "gen_sum": 131.56096,
          "hour": 2410,
          "resource": "_onshore_wind_turbine"
         },
         {
          "gen_sum": 3.184932,
          "hour": 2410,
          "resource": "_small_hydroelectric"
         },
         {
          "gen_sum": 2014.95,
          "hour": 2410,
          "resource": "_solar_photovoltaic"
         },
         {
          "gen_sum": 345.42,
          "hour": 2410,
          "resource": "_solar_photovoltaic_btm"
         },
         {
          "gen_sum": 21.4,
          "hour": 2410,
          "resource": "biomass"
         },
         {
          "gen_sum": 42,
          "hour": 2410,
          "resource": "hydroelectric_pumped_storage"
         },
         {
          "gen_sum": 809.9041079999998,
          "hour": 2410,
          "resource": "natural_gas_fired_combined_cycle"
         },
         {
          "gen_sum": 0,
          "hour": 2410,
          "resource": "natural_gas_fired_combustion_turbine"
         },
         {
          "gen_sum": 111.1936,
          "hour": 2411,
          "resource": "_onshore_wind_turbine"
         },
         {
          "gen_sum": 3.184932,
          "hour": 2411,
          "resource": "_small_hydroelectric"
         },
         {
          "gen_sum": 2113.65,
          "hour": 2411,
          "resource": "_solar_photovoltaic"
         },
         {
          "gen_sum": 362.34,
          "hour": 2411,
          "resource": "_solar_photovoltaic_btm"
         },
         {
          "gen_sum": 21.4,
          "hour": 2411,
          "resource": "biomass"
         },
         {
          "gen_sum": 42,
          "hour": 2411,
          "resource": "hydroelectric_pumped_storage"
         },
         {
          "gen_sum": 833.5714679999999,
          "hour": 2411,
          "resource": "natural_gas_fired_combined_cycle"
         },
         {
          "gen_sum": 0,
          "hour": 2411,
          "resource": "natural_gas_fired_combustion_turbine"
         },
         {
          "gen_sum": 92.11008,
          "hour": 2412,
          "resource": "_onshore_wind_turbine"
         },
         {
          "gen_sum": 3.184932,
          "hour": 2412,
          "resource": "_small_hydroelectric"
         },
         {
          "gen_sum": 2148.65,
          "hour": 2412,
          "resource": "_solar_photovoltaic"
         },
         {
          "gen_sum": 368.34,
          "hour": 2412,
          "resource": "_solar_photovoltaic_btm"
         },
         {
          "gen_sum": 21.4,
          "hour": 2412,
          "resource": "biomass"
         },
         {
          "gen_sum": 42,
          "hour": 2412,
          "resource": "hydroelectric_pumped_storage"
         },
         {
          "gen_sum": 655.6549879999998,
          "hour": 2412,
          "resource": "natural_gas_fired_combined_cycle"
         },
         {
          "gen_sum": 0,
          "hour": 2412,
          "resource": "natural_gas_fired_combustion_turbine"
         },
         {
          "gen_sum": 52.09344,
          "hour": 2413,
          "resource": "_onshore_wind_turbine"
         },
         {
          "gen_sum": 3.184932,
          "hour": 2413,
          "resource": "_small_hydroelectric"
         },
         {
          "gen_sum": 2256.1,
          "hour": 2413,
          "resource": "_solar_photovoltaic"
         },
         {
          "gen_sum": 386.76,
          "hour": 2413,
          "resource": "_solar_photovoltaic_btm"
         },
         {
          "gen_sum": 21.4,
          "hour": 2413,
          "resource": "biomass"
         },
         {
          "gen_sum": 42,
          "hour": 2413,
          "resource": "hydroelectric_pumped_storage"
         },
         {
          "gen_sum": 368.221628,
          "hour": 2413,
          "resource": "natural_gas_fired_combined_cycle"
         },
         {
          "gen_sum": 0,
          "hour": 2413,
          "resource": "natural_gas_fired_combustion_turbine"
         },
         {
          "gen_sum": 64.69248,
          "hour": 2414,
          "resource": "_onshore_wind_turbine"
         },
         {
          "gen_sum": 3.184932,
          "hour": 2414,
          "resource": "_small_hydroelectric"
         },
         {
          "gen_sum": 2259.25,
          "hour": 2414,
          "resource": "_solar_photovoltaic"
         },
         {
          "gen_sum": 387.29999999999995,
          "hour": 2414,
          "resource": "_solar_photovoltaic_btm"
         },
         {
          "gen_sum": 21.4,
          "hour": 2414,
          "resource": "biomass"
         },
         {
          "gen_sum": 42,
          "hour": 2414,
          "resource": "hydroelectric_pumped_storage"
         },
         {
          "gen_sum": 275.4725879999999,
          "hour": 2414,
          "resource": "natural_gas_fired_combined_cycle"
         },
         {
          "gen_sum": 0,
          "hour": 2414,
          "resource": "natural_gas_fired_combustion_turbine"
         },
         {
          "gen_sum": 49.22112,
          "hour": 2415,
          "resource": "_onshore_wind_turbine"
         },
         {
          "gen_sum": 3.184932,
          "hour": 2415,
          "resource": "_small_hydroelectric"
         },
         {
          "gen_sum": 2184.35,
          "hour": 2415,
          "resource": "_solar_photovoltaic"
         },
         {
          "gen_sum": 374.46,
          "hour": 2415,
          "resource": "_solar_photovoltaic_btm"
         },
         {
          "gen_sum": 21.4,
          "hour": 2415,
          "resource": "biomass"
         },
         {
          "gen_sum": 42,
          "hour": 2415,
          "resource": "hydroelectric_pumped_storage"
         },
         {
          "gen_sum": 277.843948,
          "hour": 2415,
          "resource": "natural_gas_fired_combined_cycle"
         },
         {
          "gen_sum": 0,
          "hour": 2415,
          "resource": "natural_gas_fired_combustion_turbine"
         },
         {
          "gen_sum": 65.41055999999999,
          "hour": 2416,
          "resource": "_onshore_wind_turbine"
         },
         {
          "gen_sum": 3.184932,
          "hour": 2416,
          "resource": "_small_hydroelectric"
         },
         {
          "gen_sum": 1993.25,
          "hour": 2416,
          "resource": "_solar_photovoltaic"
         },
         {
          "gen_sum": 341.7,
          "hour": 2416,
          "resource": "_solar_photovoltaic_btm"
         },
         {
          "gen_sum": 21.4,
          "hour": 2416,
          "resource": "biomass"
         },
         {
          "gen_sum": 42,
          "hour": 2416,
          "resource": "hydroelectric_pumped_storage"
         },
         {
          "gen_sum": 356.75450799999993,
          "hour": 2416,
          "resource": "natural_gas_fired_combined_cycle"
         },
         {
          "gen_sum": 0,
          "hour": 2416,
          "resource": "natural_gas_fired_combustion_turbine"
         },
         {
          "gen_sum": 57.18527999999999,
          "hour": 2417,
          "resource": "_onshore_wind_turbine"
         },
         {
          "gen_sum": 3.184932,
          "hour": 2417,
          "resource": "_small_hydroelectric"
         },
         {
          "gen_sum": 1637.3,
          "hour": 2417,
          "resource": "_solar_photovoltaic"
         },
         {
          "gen_sum": 280.68,
          "hour": 2417,
          "resource": "_solar_photovoltaic_btm"
         },
         {
          "gen_sum": 21.4,
          "hour": 2417,
          "resource": "biomass"
         },
         {
          "gen_sum": 42,
          "hour": 2417,
          "resource": "hydroelectric_pumped_storage"
         },
         {
          "gen_sum": 660.9297879999999,
          "hour": 2417,
          "resource": "natural_gas_fired_combined_cycle"
         },
         {
          "gen_sum": 0,
          "hour": 2417,
          "resource": "natural_gas_fired_combustion_turbine"
         },
         {
          "gen_sum": 78.61888,
          "hour": 2418,
          "resource": "_onshore_wind_turbine"
         },
         {
          "gen_sum": 3.184932,
          "hour": 2418,
          "resource": "_small_hydroelectric"
         },
         {
          "gen_sum": 1132.6,
          "hour": 2418,
          "resource": "_solar_photovoltaic"
         },
         {
          "gen_sum": 194.16,
          "hour": 2418,
          "resource": "_solar_photovoltaic_btm"
         },
         {
          "gen_sum": 21.4,
          "hour": 2418,
          "resource": "biomass"
         },
         {
          "gen_sum": 42,
          "hour": 2418,
          "resource": "hydroelectric_pumped_storage"
         },
         {
          "gen_sum": 1096.196188,
          "hour": 2418,
          "resource": "natural_gas_fired_combined_cycle"
         },
         {
          "gen_sum": 0,
          "hour": 2418,
          "resource": "natural_gas_fired_combustion_turbine"
         },
         {
          "gen_sum": 52.61568,
          "hour": 2419,
          "resource": "_onshore_wind_turbine"
         },
         {
          "gen_sum": 3.184932,
          "hour": 2419,
          "resource": "_small_hydroelectric"
         },
         {
          "gen_sum": 166.95,
          "hour": 2419,
          "resource": "_solar_photovoltaic"
         },
         {
          "gen_sum": 28.62,
          "hour": 2419,
          "resource": "_solar_photovoltaic_btm"
         },
         {
          "gen_sum": 21.4,
          "hour": 2419,
          "resource": "biomass"
         },
         {
          "gen_sum": 42,
          "hour": 2419,
          "resource": "hydroelectric_pumped_storage"
         },
         {
          "gen_sum": 1912.62,
          "hour": 2419,
          "resource": "natural_gas_fired_combined_cycle"
         },
         {
          "gen_sum": 179.22938800000003,
          "hour": 2419,
          "resource": "natural_gas_fired_combustion_turbine"
         },
         {
          "gen_sum": 61.42848,
          "hour": 2420,
          "resource": "_onshore_wind_turbine"
         },
         {
          "gen_sum": 3.184932,
          "hour": 2420,
          "resource": "_small_hydroelectric"
         },
         {
          "gen_sum": 0,
          "hour": 2420,
          "resource": "_solar_photovoltaic"
         },
         {
          "gen_sum": 0,
          "hour": 2420,
          "resource": "_solar_photovoltaic_btm"
         },
         {
          "gen_sum": 21.4,
          "hour": 2420,
          "resource": "biomass"
         },
         {
          "gen_sum": 42,
          "hour": 2420,
          "resource": "hydroelectric_pumped_storage"
         },
         {
          "gen_sum": 1928.5,
          "hour": 2420,
          "resource": "natural_gas_fired_combined_cycle"
         },
         {
          "gen_sum": 444.48658799999987,
          "hour": 2420,
          "resource": "natural_gas_fired_combustion_turbine"
         },
         {
          "gen_sum": 71.9168,
          "hour": 2421,
          "resource": "_onshore_wind_turbine"
         },
         {
          "gen_sum": 3.184932,
          "hour": 2421,
          "resource": "_small_hydroelectric"
         },
         {
          "gen_sum": 0,
          "hour": 2421,
          "resource": "_solar_photovoltaic"
         },
         {
          "gen_sum": 0,
          "hour": 2421,
          "resource": "_solar_photovoltaic_btm"
         },
         {
          "gen_sum": 21.4,
          "hour": 2421,
          "resource": "biomass"
         },
         {
          "gen_sum": 42,
          "hour": 2421,
          "resource": "hydroelectric_pumped_storage"
         },
         {
          "gen_sum": 1928.5,
          "hour": 2421,
          "resource": "natural_gas_fired_combined_cycle"
         },
         {
          "gen_sum": 438.99826799999994,
          "hour": 2421,
          "resource": "natural_gas_fired_combustion_turbine"
         },
         {
          "gen_sum": 96.04864,
          "hour": 2422,
          "resource": "_onshore_wind_turbine"
         },
         {
          "gen_sum": 3.184932,
          "hour": 2422,
          "resource": "_small_hydroelectric"
         },
         {
          "gen_sum": 0,
          "hour": 2422,
          "resource": "_solar_photovoltaic"
         },
         {
          "gen_sum": 0,
          "hour": 2422,
          "resource": "_solar_photovoltaic_btm"
         },
         {
          "gen_sum": 21.4,
          "hour": 2422,
          "resource": "biomass"
         },
         {
          "gen_sum": 42,
          "hour": 2422,
          "resource": "hydroelectric_pumped_storage"
         },
         {
          "gen_sum": 1928.5,
          "hour": 2422,
          "resource": "natural_gas_fired_combined_cycle"
         },
         {
          "gen_sum": 166.8664279999999,
          "hour": 2422,
          "resource": "natural_gas_fired_combustion_turbine"
         },
         {
          "gen_sum": 126.46912,
          "hour": 2423,
          "resource": "_onshore_wind_turbine"
         },
         {
          "gen_sum": 3.184932,
          "hour": 2423,
          "resource": "_small_hydroelectric"
         },
         {
          "gen_sum": 0,
          "hour": 2423,
          "resource": "_solar_photovoltaic"
         },
         {
          "gen_sum": 0,
          "hour": 2423,
          "resource": "_solar_photovoltaic_btm"
         },
         {
          "gen_sum": 21.4,
          "hour": 2423,
          "resource": "biomass"
         },
         {
          "gen_sum": 42,
          "hour": 2423,
          "resource": "hydroelectric_pumped_storage"
         },
         {
          "gen_sum": 1794.9459479999998,
          "hour": 2423,
          "resource": "natural_gas_fired_combined_cycle"
         },
         {
          "gen_sum": 0,
          "hour": 2423,
          "resource": "natural_gas_fired_combustion_turbine"
         },
         {
          "gen_sum": 144.42111999999997,
          "hour": 2424,
          "resource": "_onshore_wind_turbine"
         },
         {
          "gen_sum": 3.184932,
          "hour": 2424,
          "resource": "_small_hydroelectric"
         },
         {
          "gen_sum": 0,
          "hour": 2424,
          "resource": "_solar_photovoltaic"
         },
         {
          "gen_sum": 0,
          "hour": 2424,
          "resource": "_solar_photovoltaic_btm"
         },
         {
          "gen_sum": 21.4,
          "hour": 2424,
          "resource": "biomass"
         },
         {
          "gen_sum": 42,
          "hour": 2424,
          "resource": "hydroelectric_pumped_storage"
         },
         {
          "gen_sum": 1548.993948,
          "hour": 2424,
          "resource": "natural_gas_fired_combined_cycle"
         },
         {
          "gen_sum": 0,
          "hour": 2424,
          "resource": "natural_gas_fired_combustion_turbine"
         }
        ]
       },
       "encoding": {
        "color": {
         "field": "resource",
         "scale": {
          "scheme": "category20"
         },
         "type": "nominal"
        },
        "x": {
         "field": "hour",
         "type": "quantitative"
        },
        "y": {
         "field": "gen_sum",
         "type": "quantitative"
        }
       },
       "mark": "line"
      },
      "image/png": "[encoded data removed]",
      "image/svg+xml": [
       "<?xml version=\"1.0\" encoding=\"utf-8\"?>\n",
       "<!DOCTYPE svg PUBLIC \"-//W3C//DTD SVG 1.1//EN\" \"http://www.w3.org/Graphics/SVG/1.1/DTD/svg11.dtd\">\n",
       "<svg xmlns=\"http://www.w3.org/2000/svg\" xmlns:xlink=\"http://www.w3.org/1999/xlink\" version=\"1.1\" class=\"marks\" width=\"448\" height=\"242\" viewBox=\"0 0 448 242\"><rect width=\"448\" height=\"242\" fill=\"white\"/><g fill=\"none\" stroke-miterlimit=\"10\" transform=\"translate(50,5)\"><g class=\"mark-group role-frame root\" role=\"graphics-object\" aria-roledescription=\"group mark container\"><g transform=\"translate(0,0)\"><path class=\"background\" aria-hidden=\"true\" d=\"M0.5,0.5h200v200h-200Z\" stroke=\"#ddd\"/><g><g class=\"mark-group role-axis\" aria-hidden=\"true\"><g transform=\"translate(0.5,200.5)\"><path class=\"background\" aria-hidden=\"true\" d=\"M0,0h0v0h0Z\" pointer-events=\"none\"/><g><g class=\"mark-rule role-axis-grid\" pointer-events=\"none\"><line transform=\"translate(0,-200)\" x2=\"0\" y2=\"200\" stroke=\"#ddd\" stroke-width=\"1\" opacity=\"1\"/><line transform=\"translate(42,-200)\" x2=\"0\" y2=\"200\" stroke=\"#ddd\" stroke-width=\"1\" opacity=\"1\"/><line transform=\"translate(83,-200)\" x2=\"0\" y2=\"200\" stroke=\"#ddd\" stroke-width=\"1\" opacity=\"1\"/><line transform=\"translate(125,-200)\" x2=\"0\" y2=\"200\" stroke=\"#ddd\" stroke-width=\"1\" opacity=\"1\"/><line transform=\"translate(167,-200)\" x2=\"0\" y2=\"200\" stroke=\"#ddd\" stroke-width=\"1\" opacity=\"1\"/></g></g><path class=\"foreground\" aria-hidden=\"true\" d=\"\" pointer-events=\"none\" display=\"none\"/></g></g><g class=\"mark-group role-axis\" aria-hidden=\"true\"><g transform=\"translate(0.5,0.5)\"><path class=\"background\" aria-hidden=\"true\" d=\"M0,0h0v0h0Z\" pointer-events=\"none\"/><g><g class=\"mark-rule role-axis-grid\" pointer-events=\"none\"><line transform=\"translate(0,200)\" x2=\"200\" y2=\"0\" stroke=\"#ddd\" stroke-width=\"1\" opacity=\"1\"/><line transform=\"translate(0,158)\" x2=\"200\" y2=\"0\" stroke=\"#ddd\" stroke-width=\"1\" opacity=\"1\"/><line transform=\"translate(0,117)\" x2=\"200\" y2=\"0\" stroke=\"#ddd\" stroke-width=\"1\" opacity=\"1\"/><line transform=\"translate(0,75)\" x2=\"200\" y2=\"0\" stroke=\"#ddd\" stroke-width=\"1\" opacity=\"1\"/><line transform=\"translate(0,33)\" x2=\"200\" y2=\"0\" stroke=\"#ddd\" stroke-width=\"1\" opacity=\"1\"/></g></g><path class=\"foreground\" aria-hidden=\"true\" d=\"\" pointer-events=\"none\" display=\"none\"/></g></g><g class=\"mark-group role-axis\" role=\"graphics-symbol\" aria-roledescription=\"axis\" aria-label=\"X-axis titled 'hour' for a linear scale with values from 2,400 to 2,424\"><g transform=\"translate(0.5,200.5)\"><path class=\"background\" aria-hidden=\"true\" d=\"M0,0h0v0h0Z\" pointer-events=\"none\"/><g><g class=\"mark-rule role-axis-tick\" pointer-events=\"none\"><line transform=\"translate(0,0)\" x2=\"0\" y2=\"5\" stroke=\"#888\" stroke-width=\"1\" opacity=\"1\"/><line transform=\"translate(42,0)\" x2=\"0\" y2=\"5\" stroke=\"#888\" stroke-width=\"1\" opacity=\"1\"/><line transform=\"translate(83,0)\" x2=\"0\" y2=\"5\" stroke=\"#888\" stroke-width=\"1\" opacity=\"1\"/><line transform=\"translate(125,0)\" x2=\"0\" y2=\"5\" stroke=\"#888\" stroke-width=\"1\" opacity=\"1\"/><line transform=\"translate(167,0)\" x2=\"0\" y2=\"5\" stroke=\"#888\" stroke-width=\"1\" opacity=\"1\"/></g><g class=\"mark-text role-axis-label\" pointer-events=\"none\"><text text-anchor=\"start\" transform=\"translate(0,15)\" font-family=\"sans-serif\" font-size=\"10px\" fill=\"#000\" opacity=\"1\">2,400</text><text text-anchor=\"middle\" transform=\"translate(41.66666666666667,15)\" font-family=\"sans-serif\" font-size=\"10px\" fill=\"#000\" opacity=\"1\">2,405</text><text text-anchor=\"middle\" transform=\"translate(83.33333333333334,15)\" font-family=\"sans-serif\" font-size=\"10px\" fill=\"#000\" opacity=\"1\">2,410</text><text text-anchor=\"middle\" transform=\"translate(125,15)\" font-family=\"sans-serif\" font-size=\"10px\" fill=\"#000\" opacity=\"1\">2,415</text><text text-anchor=\"middle\" transform=\"translate(166.66666666666669,15)\" font-family=\"sans-serif\" font-size=\"10px\" fill=\"#000\" opacity=\"1\">2,420</text></g><g class=\"mark-rule role-axis-domain\" pointer-events=\"none\"><line transform=\"translate(0,0)\" x2=\"200\" y2=\"0\" stroke=\"#888\" stroke-width=\"1\" opacity=\"1\"/></g><g class=\"mark-text role-axis-title\" pointer-events=\"none\"><text text-anchor=\"middle\" transform=\"translate(100,30)\" font-family=\"sans-serif\" font-size=\"11px\" font-weight=\"bold\" fill=\"#000\" opacity=\"1\">hour</text></g></g><path class=\"foreground\" aria-hidden=\"true\" d=\"\" pointer-events=\"none\" display=\"none\"/></g></g><g class=\"mark-group role-axis\" role=\"graphics-symbol\" aria-roledescription=\"axis\" aria-label=\"Y-axis titled 'gen_sum' for a linear scale with values from 0 to 2,400\"><g transform=\"translate(0.5,0.5)\"><path class=\"background\" aria-hidden=\"true\" d=\"M0,0h0v0h0Z\" pointer-events=\"none\"/><g><g class=\"mark-rule role-axis-tick\" pointer-events=\"none\"><line transform=\"translate(0,200)\" x2=\"-5\" y2=\"0\" stroke=\"#888\" stroke-width=\"1\" opacity=\"1\"/><line transform=\"translate(0,158)\" x2=\"-5\" y2=\"0\" stroke=\"#888\" stroke-width=\"1\" opacity=\"1\"/><line transform=\"translate(0,117)\" x2=\"-5\" y2=\"0\" stroke=\"#888\" stroke-width=\"1\" opacity=\"1\"/><line transform=\"translate(0,75)\" x2=\"-5\" y2=\"0\" stroke=\"#888\" stroke-width=\"1\" opacity=\"1\"/><line transform=\"translate(0,33)\" x2=\"-5\" y2=\"0\" stroke=\"#888\" stroke-width=\"1\" opacity=\"1\"/></g><g class=\"mark-text role-axis-label\" pointer-events=\"none\"><text text-anchor=\"end\" transform=\"translate(-7,203)\" font-family=\"sans-serif\" font-size=\"10px\" fill=\"#000\" opacity=\"1\">0</text><text text-anchor=\"end\" transform=\"translate(-7,161.33333333333331)\" font-family=\"sans-serif\" font-size=\"10px\" fill=\"#000\" opacity=\"1\">500</text><text text-anchor=\"end\" transform=\"translate(-7,119.66666666666666)\" font-family=\"sans-serif\" font-size=\"10px\" fill=\"#000\" opacity=\"1\">1,000</text><text text-anchor=\"end\" transform=\"translate(-7,78)\" font-family=\"sans-serif\" font-size=\"10px\" fill=\"#000\" opacity=\"1\">1,500</text><text text-anchor=\"end\" transform=\"translate(-7,36.33333333333333)\" font-family=\"sans-serif\" font-size=\"10px\" fill=\"#000\" opacity=\"1\">2,000</text></g><g class=\"mark-rule role-axis-domain\" pointer-events=\"none\"><line transform=\"translate(0,200)\" x2=\"0\" y2=\"-200\" stroke=\"#888\" stroke-width=\"1\" opacity=\"1\"/></g><g class=\"mark-text role-axis-title\" pointer-events=\"none\"><text text-anchor=\"middle\" transform=\"translate(-34,100) rotate(-90) translate(0,-2)\" font-family=\"sans-serif\" font-size=\"11px\" font-weight=\"bold\" fill=\"#000\" opacity=\"1\">gen_sum</text></g></g><path class=\"foreground\" aria-hidden=\"true\" d=\"\" pointer-events=\"none\" display=\"none\"/></g></g><g class=\"mark-group role-scope pathgroup\" role=\"graphics-object\" aria-roledescription=\"group mark container\"><g transform=\"translate(0,0)\"><path class=\"background\" aria-hidden=\"true\" d=\"M0,0h200v200h-200Z\"/><g><g class=\"mark-line role-mark marks\" role=\"graphics-object\" aria-roledescription=\"line mark container\"><path aria-label=\"hour: 2401; gen_sum: 163.3088; resource: _onshore_wind_turbine\" role=\"graphics-symbol\" aria-roledescription=\"line mark\" d=\"M8.333333333333332,186.39093333333335L16.666666666666664,185.85056L25,190.40746666666666L33.33333333333333,191.62058666666667L41.66666666666667,193.2852266666667L50,188.40192L58.333333333333336,193.81834666666666L66.66666666666666,195.88554666666667L75,186.05365333333333L83.33333333333334,189.03658666666666L91.66666666666666,190.73386666666667L100,192.32416L108.33333333333333,195.65888L116.66666666666667,194.60896L125,195.89824L133.33333333333331,194.54912L141.66666666666669,195.23456L150,193.44842666666665L158.33333333333331,195.61535999999998L166.66666666666669,194.88096L175,194.00693333333334L183.33333333333331,191.99594666666667L191.66666666666669,189.46090666666666L200,187.96490666666668\" stroke=\"#1f77b4\" stroke-width=\"2\"/></g></g><path class=\"foreground\" aria-hidden=\"true\" d=\"\" display=\"none\"/></g><g transform=\"translate(0,0)\"><path class=\"background\" aria-hidden=\"true\" d=\"M0,0h200v200h-200Z\"/><g><g class=\"mark-line role-mark marks\" role=\"graphics-object\" aria-roledescription=\"line mark container\"><path aria-label=\"hour: 2401; gen_sum: 3.184932; resource: _small_hydroelectric\" role=\"graphics-symbol\" aria-roledescription=\"line mark\" d=\"M8.333333333333332,199.734589L16.666666666666664,199.734589L25,199.734589L33.33333333333333,199.734589L41.66666666666667,199.734589L50,199.734589L58.333333333333336,199.734589L66.66666666666666,199.734589L75,199.734589L83.33333333333334,199.734589L91.66666666666666,199.734589L100,199.734589L108.33333333333333,199.734589L116.66666666666667,199.734589L125,199.734589L133.33333333333331,199.734589L141.66666666666669,199.734589L150,199.734589L158.33333333333331,199.734589L166.66666666666669,199.734589L175,199.734589L183.33333333333331,199.734589L191.66666666666669,199.734589L200,199.734589\" stroke=\"#aec7e8\" stroke-width=\"2\"/></g></g><path class=\"foreground\" aria-hidden=\"true\" d=\"\" display=\"none\"/></g><g transform=\"translate(0,0)\"><path class=\"background\" aria-hidden=\"true\" d=\"M0,0h200v200h-200Z\"/><g><g class=\"mark-line role-mark marks\" role=\"graphics-object\" aria-roledescription=\"line mark container\"><path aria-label=\"hour: 2401; gen_sum: 0; resource: _solar_photovoltaic\" role=\"graphics-symbol\" aria-roledescription=\"line mark\" d=\"M8.333333333333332,200L16.666666666666664,200L25,200L33.33333333333333,200L41.66666666666667,200L50,200L58.333333333333336,183.87083333333334L66.66666666666666,135.51250000000002L75,60.699999999999996L83.33333333333334,32.087500000000006L91.66666666666666,23.862499999999986L100,20.94583333333333L108.33333333333333,11.991666666666667L116.66666666666667,11.729166666666657L125,17.970833333333335L133.33333333333331,33.89583333333333L141.66666666666669,63.55833333333334L150,105.61666666666667L158.33333333333331,186.0875L166.66666666666669,200L175,200L183.33333333333331,200L191.66666666666669,200L200,200\" stroke=\"#ff7f0e\" stroke-width=\"2\"/></g></g><path class=\"foreground\" aria-hidden=\"true\" d=\"\" display=\"none\"/></g><g transform=\"translate(0,0)\"><path class=\"background\" aria-hidden=\"true\" d=\"M0,0h200v200h-200Z\"/><g><g class=\"mark-line role-mark marks\" role=\"graphics-object\" aria-roledescription=\"line mark container\"><path aria-label=\"hour: 2401; gen_sum: 0; resource: _solar_photovoltaic_btm\" role=\"graphics-symbol\" aria-roledescription=\"line mark\" d=\"M8.333333333333332,200L16.666666666666664,200L25,200L33.33333333333333,200L41.66666666666667,200L50,200L58.333333333333336,197.235L66.66666666666666,188.945L75,176.12L83.33333333333334,171.215L91.66666666666666,169.805L100,169.305L108.33333333333333,167.77L116.66666666666667,167.725L125,168.79500000000002L133.33333333333331,171.525L141.66666666666669,176.61L150,183.82L158.33333333333331,197.615L166.66666666666669,200L175,200L183.33333333333331,200L191.66666666666669,200L200,200\" stroke=\"#ffbb78\" stroke-width=\"2\"/></g></g><path class=\"foreground\" aria-hidden=\"true\" d=\"\" display=\"none\"/></g><g transform=\"translate(0,0)\"><path class=\"background\" aria-hidden=\"true\" d=\"M0,0h200v200h-200Z\"/><g><g class=\"mark-line role-mark marks\" role=\"graphics-object\" aria-roledescription=\"line mark container\"><path aria-label=\"hour: 2401; gen_sum: 21.4; resource: biomass\" role=\"graphics-symbol\" aria-roledescription=\"line mark\" d=\"M8.333333333333332,198.21666666666667L16.666666666666664,198.21666666666667L25,198.21666666666667L33.33333333333333,198.21666666666667L41.66666666666667,198.21666666666667L50,198.21666666666667L58.333333333333336,198.21666666666667L66.66666666666666,198.21666666666667L75,198.21666666666667L83.33333333333334,198.21666666666667L91.66666666666666,198.21666666666667L100,198.21666666666667L108.33333333333333,198.21666666666667L116.66666666666667,198.21666666666667L125,198.21666666666667L133.33333333333331,198.21666666666667L141.66666666666669,198.21666666666667L150,198.21666666666667L158.33333333333331,198.21666666666667L166.66666666666669,198.21666666666667L175,198.21666666666667L183.33333333333331,198.21666666666667L191.66666666666669,198.21666666666667L200,198.21666666666667\" stroke=\"#2ca02c\" stroke-width=\"2\"/></g></g><path class=\"foreground\" aria-hidden=\"true\" d=\"\" display=\"none\"/></g><g transform=\"translate(0,0)\"><path class=\"background\" aria-hidden=\"true\" d=\"M0,0h200v200h-200Z\"/><g><g class=\"mark-line role-mark marks\" role=\"graphics-object\" aria-roledescription=\"line mark container\"><path aria-label=\"hour: 2401; gen_sum: 42; resource: hydroelectric_pumped_storage\" role=\"graphics-symbol\" aria-roledescription=\"line mark\" d=\"M8.333333333333332,196.5L16.666666666666664,196.5L25,196.5L33.33333333333333,196.5L41.66666666666667,196.5L50,196.5L58.333333333333336,196.5L66.66666666666666,196.5L75,196.5L83.33333333333334,196.5L91.66666666666666,196.5L100,196.5L108.33333333333333,196.5L116.66666666666667,196.5L125,196.5L133.33333333333331,196.5L141.66666666666669,196.5L150,196.5L158.33333333333331,196.5L166.66666666666669,196.5L175,196.5L183.33333333333331,196.5L191.66666666666669,196.5L200,196.5\" stroke=\"#98df8a\" stroke-width=\"2\"/></g></g><path class=\"foreground\" aria-hidden=\"true\" d=\"\" display=\"none\"/></g><g transform=\"translate(0,0)\"><path class=\"background\" aria-hidden=\"true\" d=\"M0,0h200v200h-200Z\"/><g><g class=\"mark-line role-mark marks\" role=\"graphics-object\" aria-roledescription=\"line mark container\"><path aria-label=\"hour: 2401; gen_sum: 1385.106268; resource: natural_gas_fired_combined_cycle\" role=\"graphics-symbol\" aria-roledescription=\"line mark\" d=\"M8.333333333333332,84.57447766666665L16.666666666666664,90.28151766666667L25,88.64127766666667L33.33333333333333,83.761491L41.66666666666667,67.84685099999999L50,52.48015766666667L58.333333333333336,39.29166666666666L66.66666666666666,57.73403100000001L75,122.295091L83.33333333333334,132.507991L91.66666666666666,130.53571100000002L100,145.36208433333334L108.33333333333333,169.31486433333333L116.66666666666667,177.04395100000002L125,176.84633766666667L133.33333333333331,170.27045766666666L141.66666666666669,144.9225176666667L150,108.65031766666667L158.33333333333331,40.615L166.66666666666669,39.29166666666666L175,39.29166666666666L183.33333333333331,39.29166666666666L191.66666666666669,50.42117100000001L200,70.917171\" stroke=\"#d62728\" stroke-width=\"2\"/></g></g><path class=\"foreground\" aria-hidden=\"true\" d=\"\" display=\"none\"/></g><g transform=\"translate(0,0)\"><path class=\"background\" aria-hidden=\"true\" d=\"M0,0h200v200h-200Z\"/><g><g class=\"mark-line role-mark marks\" role=\"graphics-object\" aria-roledescription=\"line mark container\"><path aria-label=\"hour: 2401; gen_sum: 0; resource: natural_gas_fired_combustion_turbine\" role=\"graphics-symbol\" aria-roledescription=\"line mark\" d=\"M8.333333333333332,200L16.666666666666664,200L25,200L33.33333333333333,200L41.66666666666667,200L50,200L58.333333333333336,199.06789766666668L66.66666666666666,200L75,200L83.33333333333334,200L91.66666666666666,200L100,200L108.33333333333333,200L116.66666666666667,200L125,200L133.33333333333331,200L141.66666666666669,200L150,200L158.33333333333331,185.06421766666668L166.66666666666669,162.959451L175,163.416811L183.33333333333331,186.09446433333335L191.66666666666669,200L200,200\" stroke=\"#ff9896\" stroke-width=\"2\"/></g></g><path class=\"foreground\" aria-hidden=\"true\" d=\"\" display=\"none\"/></g></g><g class=\"mark-group role-legend\" role=\"graphics-symbol\" aria-roledescription=\"legend\" aria-label=\"Symbol legend titled 'resource' for stroke color with 8 values: _onshore_wind_turbine, _small_hydroelectric, _solar_photovoltaic, _solar_photovoltaic_btm, biomass, ending with natural_gas_fired_combustion_turbine\"><g transform=\"translate(220,0)\"><path class=\"background\" aria-hidden=\"true\" d=\"M0,0h173v118h-173Z\" pointer-events=\"none\"/><g><g class=\"mark-group role-legend-entry\"><g transform=\"translate(0,16)\"><path class=\"background\" aria-hidden=\"true\" d=\"M0,0h0v0h0Z\" pointer-events=\"none\"/><g><g class=\"mark-group role-scope\" role=\"graphics-object\" aria-roledescription=\"group mark container\"><g transform=\"translate(0,0)\"><path class=\"background\" aria-hidden=\"true\" d=\"M0,0h173v11h-173Z\" pointer-events=\"none\" opacity=\"1\"/><g><g class=\"mark-symbol role-legend-symbol\" pointer-events=\"none\"><path transform=\"translate(6,6)\" d=\"M-5,0L5,0\" stroke=\"#1f77b4\" stroke-width=\"1.5\" opacity=\"1\"/></g><g class=\"mark-text role-legend-label\" pointer-events=\"none\"><text text-anchor=\"start\" transform=\"translate(16,9)\" font-family=\"sans-serif\" font-size=\"10px\" fill=\"#000\" opacity=\"1\">_onshore_wind_turbine</text></g></g><path class=\"foreground\" aria-hidden=\"true\" d=\"\" pointer-events=\"none\" display=\"none\"/></g><g transform=\"translate(0,13)\"><path class=\"background\" aria-hidden=\"true\" d=\"M0,0h173v11h-173Z\" pointer-events=\"none\" opacity=\"1\"/><g><g class=\"mark-symbol role-legend-symbol\" pointer-events=\"none\"><path transform=\"translate(6,6)\" d=\"M-5,0L5,0\" stroke=\"#aec7e8\" stroke-width=\"1.5\" opacity=\"1\"/></g><g class=\"mark-text role-legend-label\" pointer-events=\"none\"><text text-anchor=\"start\" transform=\"translate(16,9)\" font-family=\"sans-serif\" font-size=\"10px\" fill=\"#000\" opacity=\"1\">_small_hydroelectric</text></g></g><path class=\"foreground\" aria-hidden=\"true\" d=\"\" pointer-events=\"none\" display=\"none\"/></g><g transform=\"translate(0,26)\"><path class=\"background\" aria-hidden=\"true\" d=\"M0,0h173v11h-173Z\" pointer-events=\"none\" opacity=\"1\"/><g><g class=\"mark-symbol role-legend-symbol\" pointer-events=\"none\"><path transform=\"translate(6,6)\" d=\"M-5,0L5,0\" stroke=\"#ff7f0e\" stroke-width=\"1.5\" opacity=\"1\"/></g><g class=\"mark-text role-legend-label\" pointer-events=\"none\"><text text-anchor=\"start\" transform=\"translate(16,9)\" font-family=\"sans-serif\" font-size=\"10px\" fill=\"#000\" opacity=\"1\">_solar_photovoltaic</text></g></g><path class=\"foreground\" aria-hidden=\"true\" d=\"\" pointer-events=\"none\" display=\"none\"/></g><g transform=\"translate(0,39)\"><path class=\"background\" aria-hidden=\"true\" d=\"M0,0h173v11h-173Z\" pointer-events=\"none\" opacity=\"1\"/><g><g class=\"mark-symbol role-legend-symbol\" pointer-events=\"none\"><path transform=\"translate(6,6)\" d=\"M-5,0L5,0\" stroke=\"#ffbb78\" stroke-width=\"1.5\" opacity=\"1\"/></g><g class=\"mark-text role-legend-label\" pointer-events=\"none\"><text text-anchor=\"start\" transform=\"translate(16,9)\" font-family=\"sans-serif\" font-size=\"10px\" fill=\"#000\" opacity=\"1\">_solar_photovoltaic_btm</text></g></g><path class=\"foreground\" aria-hidden=\"true\" d=\"\" pointer-events=\"none\" display=\"none\"/></g><g transform=\"translate(0,52)\"><path class=\"background\" aria-hidden=\"true\" d=\"M0,0h173v11h-173Z\" pointer-events=\"none\" opacity=\"1\"/><g><g class=\"mark-symbol role-legend-symbol\" pointer-events=\"none\"><path transform=\"translate(6,6)\" d=\"M-5,0L5,0\" stroke=\"#2ca02c\" stroke-width=\"1.5\" opacity=\"1\"/></g><g class=\"mark-text role-legend-label\" pointer-events=\"none\"><text text-anchor=\"start\" transform=\"translate(16,9)\" font-family=\"sans-serif\" font-size=\"10px\" fill=\"#000\" opacity=\"1\">biomass</text></g></g><path class=\"foreground\" aria-hidden=\"true\" d=\"\" pointer-events=\"none\" display=\"none\"/></g><g transform=\"translate(0,65)\"><path class=\"background\" aria-hidden=\"true\" d=\"M0,0h173v11h-173Z\" pointer-events=\"none\" opacity=\"1\"/><g><g class=\"mark-symbol role-legend-symbol\" pointer-events=\"none\"><path transform=\"translate(6,6)\" d=\"M-5,0L5,0\" stroke=\"#98df8a\" stroke-width=\"1.5\" opacity=\"1\"/></g><g class=\"mark-text role-legend-label\" pointer-events=\"none\"><text text-anchor=\"start\" transform=\"translate(16,9)\" font-family=\"sans-serif\" font-size=\"10px\" fill=\"#000\" opacity=\"1\">hydroelectric_pumped_storage</text></g></g><path class=\"foreground\" aria-hidden=\"true\" d=\"\" pointer-events=\"none\" display=\"none\"/></g><g transform=\"translate(0,78)\"><path class=\"background\" aria-hidden=\"true\" d=\"M0,0h173v11h-173Z\" pointer-events=\"none\" opacity=\"1\"/><g><g class=\"mark-symbol role-legend-symbol\" pointer-events=\"none\"><path transform=\"translate(6,6)\" d=\"M-5,0L5,0\" stroke=\"#d62728\" stroke-width=\"1.5\" opacity=\"1\"/></g><g class=\"mark-text role-legend-label\" pointer-events=\"none\"><text text-anchor=\"start\" transform=\"translate(16,9)\" font-family=\"sans-serif\" font-size=\"10px\" fill=\"#000\" opacity=\"1\">natural_gas_fired_combined_cycle</text></g></g><path class=\"foreground\" aria-hidden=\"true\" d=\"\" pointer-events=\"none\" display=\"none\"/></g><g transform=\"translate(0,91)\"><path class=\"background\" aria-hidden=\"true\" d=\"M0,0h173v11h-173Z\" pointer-events=\"none\" opacity=\"1\"/><g><g class=\"mark-symbol role-legend-symbol\" pointer-events=\"none\"><path transform=\"translate(6,6)\" d=\"M-5,0L5,0\" stroke=\"#ff9896\" stroke-width=\"1.5\" opacity=\"1\"/></g><g class=\"mark-text role-legend-label\" pointer-events=\"none\"><text text-anchor=\"start\" transform=\"translate(16,9)\" font-family=\"sans-serif\" font-size=\"10px\" fill=\"#000\" opacity=\"1\">natural_gas_fired_combustion_tur…</text></g></g><path class=\"foreground\" aria-hidden=\"true\" d=\"\" pointer-events=\"none\" display=\"none\"/></g></g></g><path class=\"foreground\" aria-hidden=\"true\" d=\"\" pointer-events=\"none\" display=\"none\"/></g></g><g class=\"mark-text role-legend-title\" pointer-events=\"none\"><text text-anchor=\"start\" transform=\"translate(0,9)\" font-family=\"sans-serif\" font-size=\"11px\" font-weight=\"bold\" fill=\"#000\" opacity=\"1\">resource</text></g></g><path class=\"foreground\" aria-hidden=\"true\" d=\"\" pointer-events=\"none\" display=\"none\"/></g></g></g><path class=\"foreground\" aria-hidden=\"true\" d=\"\" display=\"none\"/></g></g></g></svg>\n"
      ],
      "text/plain": [
       "@vlplot(\n",
       "    mark=\"line\",\n",
       "    encoding={\n",
       "        x={\n",
       "            field=\"hour\"\n",
       "        },\n",
       "        y={\n",
       "            field=\"gen_sum\"\n",
       "        },\n",
       "        color={\n",
       "            scale={\n",
       "                scheme=\"category20\"\n",
       "            },\n",
       "            field=\"resource\",\n",
       "            type=\"nominal\"\n",
       "        }\n",
       "    },\n",
       "    data={\n",
       "        values=...\n",
       "    }\n",
       ")"
      ]
     },
     "execution_count": 50,
     "metadata": {},
     "output_type": "execute_result"
    }
   ],
   "source": [
    "# Plot hourly generation by each resource type\n",
    "sol_gen_btm |>\n",
    "@vlplot(:line, \n",
    "    x=:hour, y=:gen_sum, \n",
    "    color={\"resource:n\", scale={scheme=\"category20\"}})"
   ]
  },
  {
   "cell_type": "code",
   "execution_count": 51,
   "id": "afcc54a5",
   "metadata": {},
   "outputs": [
    {
     "data": {
      "application/vnd.vegalite.v4+json": {
       "data": {
        "values": [
         {
          "gen_sum": 163.3088,
          "hour": 2401,
          "resource": "_onshore_wind_turbine"
         },
         {
          "gen_sum": 3.184932,
          "hour": 2401,
          "resource": "_small_hydroelectric"
         },
         {
          "gen_sum": 0,
          "hour": 2401,
          "resource": "_solar_photovoltaic"
         },
         {
          "gen_sum": 0,
          "hour": 2401,
          "resource": "_solar_photovoltaic_btm"
         },
         {
          "gen_sum": 21.4,
          "hour": 2401,
          "resource": "biomass"
         },
         {
          "gen_sum": 42,
          "hour": 2401,
          "resource": "hydroelectric_pumped_storage"
         },
         {
          "gen_sum": 1385.106268,
          "hour": 2401,
          "resource": "natural_gas_fired_combined_cycle"
         },
         {
          "gen_sum": 0,
          "hour": 2401,
          "resource": "natural_gas_fired_combustion_turbine"
         },
         {
          "gen_sum": 169.79327999999998,
          "hour": 2402,
          "resource": "_onshore_wind_turbine"
         },
         {
          "gen_sum": 3.184932,
          "hour": 2402,
          "resource": "_small_hydroelectric"
         },
         {
          "gen_sum": 0,
          "hour": 2402,
          "resource": "_solar_photovoltaic"
         },
         {
          "gen_sum": 0,
          "hour": 2402,
          "resource": "_solar_photovoltaic_btm"
         },
         {
          "gen_sum": 21.4,
          "hour": 2402,
          "resource": "biomass"
         },
         {
          "gen_sum": 42,
          "hour": 2402,
          "resource": "hydroelectric_pumped_storage"
         },
         {
          "gen_sum": 1316.621788,
          "hour": 2402,
          "resource": "natural_gas_fired_combined_cycle"
         },
         {
          "gen_sum": 0,
          "hour": 2402,
          "resource": "natural_gas_fired_combustion_turbine"
         },
         {
          "gen_sum": 115.1104,
          "hour": 2403,
          "resource": "_onshore_wind_turbine"
         },
         {
          "gen_sum": 3.184932,
          "hour": 2403,
          "resource": "_small_hydroelectric"
         },
         {
          "gen_sum": 0,
          "hour": 2403,
          "resource": "_solar_photovoltaic"
         },
         {
          "gen_sum": 0,
          "hour": 2403,
          "resource": "_solar_photovoltaic_btm"
         },
         {
          "gen_sum": 21.4,
          "hour": 2403,
          "resource": "biomass"
         },
         {
          "gen_sum": 42,
          "hour": 2403,
          "resource": "hydroelectric_pumped_storage"
         },
         {
          "gen_sum": 1336.304668,
          "hour": 2403,
          "resource": "natural_gas_fired_combined_cycle"
         },
         {
          "gen_sum": 0,
          "hour": 2403,
          "resource": "natural_gas_fired_combustion_turbine"
         },
         {
          "gen_sum": 100.55296,
          "hour": 2404,
          "resource": "_onshore_wind_turbine"
         },
         {
          "gen_sum": 3.184932,
          "hour": 2404,
          "resource": "_small_hydroelectric"
         },
         {
          "gen_sum": 0,
          "hour": 2404,
          "resource": "_solar_photovoltaic"
         },
         {
          "gen_sum": 0,
          "hour": 2404,
          "resource": "_solar_photovoltaic_btm"
         },
         {
          "gen_sum": 21.4,
          "hour": 2404,
          "resource": "biomass"
         },
         {
          "gen_sum": 42,
          "hour": 2404,
          "resource": "hydroelectric_pumped_storage"
         },
         {
          "gen_sum": 1394.8621079999998,
          "hour": 2404,
          "resource": "natural_gas_fired_combined_cycle"
         },
         {
          "gen_sum": 0,
          "hour": 2404,
          "resource": "natural_gas_fired_combustion_turbine"
         },
         {
          "gen_sum": 80.57728,
          "hour": 2405,
          "resource": "_onshore_wind_turbine"
         },
         {
          "gen_sum": 3.184932,
          "hour": 2405,
          "resource": "_small_hydroelectric"
         },
         {
          "gen_sum": 0,
          "hour": 2405,
          "resource": "_solar_photovoltaic"
         },
         {
          "gen_sum": 0,
          "hour": 2405,
          "resource": "_solar_photovoltaic_btm"
         },
         {
          "gen_sum": 21.4,
          "hour": 2405,
          "resource": "biomass"
         },
         {
          "gen_sum": 42,
          "hour": 2405,
          "resource": "hydroelectric_pumped_storage"
         },
         {
          "gen_sum": 1585.837788,
          "hour": 2405,
          "resource": "natural_gas_fired_combined_cycle"
         },
         {
          "gen_sum": 0,
          "hour": 2405,
          "resource": "natural_gas_fired_combustion_turbine"
         },
         {
          "gen_sum": 139.17695999999998,
          "hour": 2406,
          "resource": "_onshore_wind_turbine"
         },
         {
          "gen_sum": 3.184932,
          "hour": 2406,
          "resource": "_small_hydroelectric"
         },
         {
          "gen_sum": 0,
          "hour": 2406,
          "resource": "_solar_photovoltaic"
         },
         {
          "gen_sum": 0,
          "hour": 2406,
          "resource": "_solar_photovoltaic_btm"
         },
         {
          "gen_sum": 21.4,
          "hour": 2406,
          "resource": "biomass"
         },
         {
          "gen_sum": 42,
          "hour": 2406,
          "resource": "hydroelectric_pumped_storage"
         },
         {
          "gen_sum": 1770.238108,
          "hour": 2406,
          "resource": "natural_gas_fired_combined_cycle"
         },
         {
          "gen_sum": 0,
          "hour": 2406,
          "resource": "natural_gas_fired_combustion_turbine"
         },
         {
          "gen_sum": 74.17984,
          "hour": 2407,
          "resource": "_onshore_wind_turbine"
         },
         {
          "gen_sum": 3.184932,
          "hour": 2407,
          "resource": "_small_hydroelectric"
         },
         {
          "gen_sum": 193.55,
          "hour": 2407,
          "resource": "_solar_photovoltaic"
         },
         {
          "gen_sum": 33.18,
          "hour": 2407,
          "resource": "_solar_photovoltaic_btm"
         },
         {
          "gen_sum": 21.4,
          "hour": 2407,
          "resource": "biomass"
         },
         {
          "gen_sum": 42,
          "hour": 2407,
          "resource": "hydroelectric_pumped_storage"
         },
         {
          "gen_sum": 1928.5,
          "hour": 2407,
          "resource": "natural_gas_fired_combined_cycle"
         },
         {
          "gen_sum": 11.185227999999896,
          "hour": 2407,
          "resource": "natural_gas_fired_combustion_turbine"
         },
         {
          "gen_sum": 49.373439999999995,
          "hour": 2408,
          "resource": "_onshore_wind_turbine"
         },
         {
          "gen_sum": 3.184932,
          "hour": 2408,
          "resource": "_small_hydroelectric"
         },
         {
          "gen_sum": 773.85,
          "hour": 2408,
          "resource": "_solar_photovoltaic"
         },
         {
          "gen_sum": 132.66,
          "hour": 2408,
          "resource": "_solar_photovoltaic_btm"
         },
         {
          "gen_sum": 21.4,
          "hour": 2408,
          "resource": "biomass"
         },
         {
          "gen_sum": 42,
          "hour": 2408,
          "resource": "hydroelectric_pumped_storage"
         },
         {
          "gen_sum": 1707.1916279999998,
          "hour": 2408,
          "resource": "natural_gas_fired_combined_cycle"
         },
         {
          "gen_sum": 0,
          "hour": 2408,
          "resource": "natural_gas_fired_combustion_turbine"
         },
         {
          "gen_sum": 167.35616,
          "hour": 2409,
          "resource": "_onshore_wind_turbine"
         },
         {
          "gen_sum": 3.184932,
          "hour": 2409,
          "resource": "_small_hydroelectric"
         },
         {
          "gen_sum": 1671.6000000000001,
          "hour": 2409,
          "resource": "_solar_photovoltaic"
         },
         {
          "gen_sum": 286.56,
          "hour": 2409,
          "resource": "_solar_photovoltaic_btm"
         },
         {
          "gen_sum": 21.4,
          "hour": 2409,
          "resource": "biomass"
         },
         {
          "gen_sum": 42,
          "hour": 2409,
          "resource": "hydroelectric_pumped_storage"
         },
         {
          "gen_sum": 932.458908,
          "hour": 2409,
          "resource": "natural_gas_fired_combined_cycle"
         },
         {
          "gen_sum": 0,
          "hour": 2409,
          "resource": "natural_gas_fired_combustion_turbine"
         },
         {
          "gen_sum": 131.56096,
          "hour": 2410,
          "resource": "_onshore_wind_turbine"
         },
         {
          "gen_sum": 3.184932,
          "hour": 2410,
          "resource": "_small_hydroelectric"
         },
         {
          "gen_sum": 2014.95,
          "hour": 2410,
          "resource": "_solar_photovoltaic"
         },
         {
          "gen_sum": 345.42,
          "hour": 2410,
          "resource": "_solar_photovoltaic_btm"
         },
         {
          "gen_sum": 21.4,
          "hour": 2410,
          "resource": "biomass"
         },
         {
          "gen_sum": 42,
          "hour": 2410,
          "resource": "hydroelectric_pumped_storage"
         },
         {
          "gen_sum": 809.9041079999998,
          "hour": 2410,
          "resource": "natural_gas_fired_combined_cycle"
         },
         {
          "gen_sum": 0,
          "hour": 2410,
          "resource": "natural_gas_fired_combustion_turbine"
         },
         {
          "gen_sum": 111.1936,
          "hour": 2411,
          "resource": "_onshore_wind_turbine"
         },
         {
          "gen_sum": 3.184932,
          "hour": 2411,
          "resource": "_small_hydroelectric"
         },
         {
          "gen_sum": 2113.65,
          "hour": 2411,
          "resource": "_solar_photovoltaic"
         },
         {
          "gen_sum": 362.34,
          "hour": 2411,
          "resource": "_solar_photovoltaic_btm"
         },
         {
          "gen_sum": 21.4,
          "hour": 2411,
          "resource": "biomass"
         },
         {
          "gen_sum": 42,
          "hour": 2411,
          "resource": "hydroelectric_pumped_storage"
         },
         {
          "gen_sum": 833.5714679999999,
          "hour": 2411,
          "resource": "natural_gas_fired_combined_cycle"
         },
         {
          "gen_sum": 0,
          "hour": 2411,
          "resource": "natural_gas_fired_combustion_turbine"
         },
         {
          "gen_sum": 92.11008,
          "hour": 2412,
          "resource": "_onshore_wind_turbine"
         },
         {
          "gen_sum": 3.184932,
          "hour": 2412,
          "resource": "_small_hydroelectric"
         },
         {
          "gen_sum": 2148.65,
          "hour": 2412,
          "resource": "_solar_photovoltaic"
         },
         {
          "gen_sum": 368.34,
          "hour": 2412,
          "resource": "_solar_photovoltaic_btm"
         },
         {
          "gen_sum": 21.4,
          "hour": 2412,
          "resource": "biomass"
         },
         {
          "gen_sum": 42,
          "hour": 2412,
          "resource": "hydroelectric_pumped_storage"
         },
         {
          "gen_sum": 655.6549879999998,
          "hour": 2412,
          "resource": "natural_gas_fired_combined_cycle"
         },
         {
          "gen_sum": 0,
          "hour": 2412,
          "resource": "natural_gas_fired_combustion_turbine"
         },
         {
          "gen_sum": 52.09344,
          "hour": 2413,
          "resource": "_onshore_wind_turbine"
         },
         {
          "gen_sum": 3.184932,
          "hour": 2413,
          "resource": "_small_hydroelectric"
         },
         {
          "gen_sum": 2256.1,
          "hour": 2413,
          "resource": "_solar_photovoltaic"
         },
         {
          "gen_sum": 386.76,
          "hour": 2413,
          "resource": "_solar_photovoltaic_btm"
         },
         {
          "gen_sum": 21.4,
          "hour": 2413,
          "resource": "biomass"
         },
         {
          "gen_sum": 42,
          "hour": 2413,
          "resource": "hydroelectric_pumped_storage"
         },
         {
          "gen_sum": 368.221628,
          "hour": 2413,
          "resource": "natural_gas_fired_combined_cycle"
         },
         {
          "gen_sum": 0,
          "hour": 2413,
          "resource": "natural_gas_fired_combustion_turbine"
         },
         {
          "gen_sum": 64.69248,
          "hour": 2414,
          "resource": "_onshore_wind_turbine"
         },
         {
          "gen_sum": 3.184932,
          "hour": 2414,
          "resource": "_small_hydroelectric"
         },
         {
          "gen_sum": 2259.25,
          "hour": 2414,
          "resource": "_solar_photovoltaic"
         },
         {
          "gen_sum": 387.29999999999995,
          "hour": 2414,
          "resource": "_solar_photovoltaic_btm"
         },
         {
          "gen_sum": 21.4,
          "hour": 2414,
          "resource": "biomass"
         },
         {
          "gen_sum": 42,
          "hour": 2414,
          "resource": "hydroelectric_pumped_storage"
         },
         {
          "gen_sum": 275.4725879999999,
          "hour": 2414,
          "resource": "natural_gas_fired_combined_cycle"
         },
         {
          "gen_sum": 0,
          "hour": 2414,
          "resource": "natural_gas_fired_combustion_turbine"
         },
         {
          "gen_sum": 49.22112,
          "hour": 2415,
          "resource": "_onshore_wind_turbine"
         },
         {
          "gen_sum": 3.184932,
          "hour": 2415,
          "resource": "_small_hydroelectric"
         },
         {
          "gen_sum": 2184.35,
          "hour": 2415,
          "resource": "_solar_photovoltaic"
         },
         {
          "gen_sum": 374.46,
          "hour": 2415,
          "resource": "_solar_photovoltaic_btm"
         },
         {
          "gen_sum": 21.4,
          "hour": 2415,
          "resource": "biomass"
         },
         {
          "gen_sum": 42,
          "hour": 2415,
          "resource": "hydroelectric_pumped_storage"
         },
         {
          "gen_sum": 277.843948,
          "hour": 2415,
          "resource": "natural_gas_fired_combined_cycle"
         },
         {
          "gen_sum": 0,
          "hour": 2415,
          "resource": "natural_gas_fired_combustion_turbine"
         },
         {
          "gen_sum": 65.41055999999999,
          "hour": 2416,
          "resource": "_onshore_wind_turbine"
         },
         {
          "gen_sum": 3.184932,
          "hour": 2416,
          "resource": "_small_hydroelectric"
         },
         {
          "gen_sum": 1993.25,
          "hour": 2416,
          "resource": "_solar_photovoltaic"
         },
         {
          "gen_sum": 341.7,
          "hour": 2416,
          "resource": "_solar_photovoltaic_btm"
         },
         {
          "gen_sum": 21.4,
          "hour": 2416,
          "resource": "biomass"
         },
         {
          "gen_sum": 42,
          "hour": 2416,
          "resource": "hydroelectric_pumped_storage"
         },
         {
          "gen_sum": 356.75450799999993,
          "hour": 2416,
          "resource": "natural_gas_fired_combined_cycle"
         },
         {
          "gen_sum": 0,
          "hour": 2416,
          "resource": "natural_gas_fired_combustion_turbine"
         },
         {
          "gen_sum": 57.18527999999999,
          "hour": 2417,
          "resource": "_onshore_wind_turbine"
         },
         {
          "gen_sum": 3.184932,
          "hour": 2417,
          "resource": "_small_hydroelectric"
         },
         {
          "gen_sum": 1637.3,
          "hour": 2417,
          "resource": "_solar_photovoltaic"
         },
         {
          "gen_sum": 280.68,
          "hour": 2417,
          "resource": "_solar_photovoltaic_btm"
         },
         {
          "gen_sum": 21.4,
          "hour": 2417,
          "resource": "biomass"
         },
         {
          "gen_sum": 42,
          "hour": 2417,
          "resource": "hydroelectric_pumped_storage"
         },
         {
          "gen_sum": 660.9297879999999,
          "hour": 2417,
          "resource": "natural_gas_fired_combined_cycle"
         },
         {
          "gen_sum": 0,
          "hour": 2417,
          "resource": "natural_gas_fired_combustion_turbine"
         },
         {
          "gen_sum": 78.61888,
          "hour": 2418,
          "resource": "_onshore_wind_turbine"
         },
         {
          "gen_sum": 3.184932,
          "hour": 2418,
          "resource": "_small_hydroelectric"
         },
         {
          "gen_sum": 1132.6,
          "hour": 2418,
          "resource": "_solar_photovoltaic"
         },
         {
          "gen_sum": 194.16,
          "hour": 2418,
          "resource": "_solar_photovoltaic_btm"
         },
         {
          "gen_sum": 21.4,
          "hour": 2418,
          "resource": "biomass"
         },
         {
          "gen_sum": 42,
          "hour": 2418,
          "resource": "hydroelectric_pumped_storage"
         },
         {
          "gen_sum": 1096.196188,
          "hour": 2418,
          "resource": "natural_gas_fired_combined_cycle"
         },
         {
          "gen_sum": 0,
          "hour": 2418,
          "resource": "natural_gas_fired_combustion_turbine"
         },
         {
          "gen_sum": 52.61568,
          "hour": 2419,
          "resource": "_onshore_wind_turbine"
         },
         {
          "gen_sum": 3.184932,
          "hour": 2419,
          "resource": "_small_hydroelectric"
         },
         {
          "gen_sum": 166.95,
          "hour": 2419,
          "resource": "_solar_photovoltaic"
         },
         {
          "gen_sum": 28.62,
          "hour": 2419,
          "resource": "_solar_photovoltaic_btm"
         },
         {
          "gen_sum": 21.4,
          "hour": 2419,
          "resource": "biomass"
         },
         {
          "gen_sum": 42,
          "hour": 2419,
          "resource": "hydroelectric_pumped_storage"
         },
         {
          "gen_sum": 1912.62,
          "hour": 2419,
          "resource": "natural_gas_fired_combined_cycle"
         },
         {
          "gen_sum": 179.22938800000003,
          "hour": 2419,
          "resource": "natural_gas_fired_combustion_turbine"
         },
         {
          "gen_sum": 61.42848,
          "hour": 2420,
          "resource": "_onshore_wind_turbine"
         },
         {
          "gen_sum": 3.184932,
          "hour": 2420,
          "resource": "_small_hydroelectric"
         },
         {
          "gen_sum": 0,
          "hour": 2420,
          "resource": "_solar_photovoltaic"
         },
         {
          "gen_sum": 0,
          "hour": 2420,
          "resource": "_solar_photovoltaic_btm"
         },
         {
          "gen_sum": 21.4,
          "hour": 2420,
          "resource": "biomass"
         },
         {
          "gen_sum": 42,
          "hour": 2420,
          "resource": "hydroelectric_pumped_storage"
         },
         {
          "gen_sum": 1928.5,
          "hour": 2420,
          "resource": "natural_gas_fired_combined_cycle"
         },
         {
          "gen_sum": 444.48658799999987,
          "hour": 2420,
          "resource": "natural_gas_fired_combustion_turbine"
         },
         {
          "gen_sum": 71.9168,
          "hour": 2421,
          "resource": "_onshore_wind_turbine"
         },
         {
          "gen_sum": 3.184932,
          "hour": 2421,
          "resource": "_small_hydroelectric"
         },
         {
          "gen_sum": 0,
          "hour": 2421,
          "resource": "_solar_photovoltaic"
         },
         {
          "gen_sum": 0,
          "hour": 2421,
          "resource": "_solar_photovoltaic_btm"
         },
         {
          "gen_sum": 21.4,
          "hour": 2421,
          "resource": "biomass"
         },
         {
          "gen_sum": 42,
          "hour": 2421,
          "resource": "hydroelectric_pumped_storage"
         },
         {
          "gen_sum": 1928.5,
          "hour": 2421,
          "resource": "natural_gas_fired_combined_cycle"
         },
         {
          "gen_sum": 438.99826799999994,
          "hour": 2421,
          "resource": "natural_gas_fired_combustion_turbine"
         },
         {
          "gen_sum": 96.04864,
          "hour": 2422,
          "resource": "_onshore_wind_turbine"
         },
         {
          "gen_sum": 3.184932,
          "hour": 2422,
          "resource": "_small_hydroelectric"
         },
         {
          "gen_sum": 0,
          "hour": 2422,
          "resource": "_solar_photovoltaic"
         },
         {
          "gen_sum": 0,
          "hour": 2422,
          "resource": "_solar_photovoltaic_btm"
         },
         {
          "gen_sum": 21.4,
          "hour": 2422,
          "resource": "biomass"
         },
         {
          "gen_sum": 42,
          "hour": 2422,
          "resource": "hydroelectric_pumped_storage"
         },
         {
          "gen_sum": 1928.5,
          "hour": 2422,
          "resource": "natural_gas_fired_combined_cycle"
         },
         {
          "gen_sum": 166.8664279999999,
          "hour": 2422,
          "resource": "natural_gas_fired_combustion_turbine"
         },
         {
          "gen_sum": 126.46912,
          "hour": 2423,
          "resource": "_onshore_wind_turbine"
         },
         {
          "gen_sum": 3.184932,
          "hour": 2423,
          "resource": "_small_hydroelectric"
         },
         {
          "gen_sum": 0,
          "hour": 2423,
          "resource": "_solar_photovoltaic"
         },
         {
          "gen_sum": 0,
          "hour": 2423,
          "resource": "_solar_photovoltaic_btm"
         },
         {
          "gen_sum": 21.4,
          "hour": 2423,
          "resource": "biomass"
         },
         {
          "gen_sum": 42,
          "hour": 2423,
          "resource": "hydroelectric_pumped_storage"
         },
         {
          "gen_sum": 1794.9459479999998,
          "hour": 2423,
          "resource": "natural_gas_fired_combined_cycle"
         },
         {
          "gen_sum": 0,
          "hour": 2423,
          "resource": "natural_gas_fired_combustion_turbine"
         },
         {
          "gen_sum": 144.42111999999997,
          "hour": 2424,
          "resource": "_onshore_wind_turbine"
         },
         {
          "gen_sum": 3.184932,
          "hour": 2424,
          "resource": "_small_hydroelectric"
         },
         {
          "gen_sum": 0,
          "hour": 2424,
          "resource": "_solar_photovoltaic"
         },
         {
          "gen_sum": 0,
          "hour": 2424,
          "resource": "_solar_photovoltaic_btm"
         },
         {
          "gen_sum": 21.4,
          "hour": 2424,
          "resource": "biomass"
         },
         {
          "gen_sum": 42,
          "hour": 2424,
          "resource": "hydroelectric_pumped_storage"
         },
         {
          "gen_sum": 1548.993948,
          "hour": 2424,
          "resource": "natural_gas_fired_combined_cycle"
         },
         {
          "gen_sum": 0,
          "hour": 2424,
          "resource": "natural_gas_fired_combustion_turbine"
         }
        ]
       },
       "encoding": {
        "color": {
         "field": "resource",
         "scale": {
          "scheme": "category20"
         },
         "type": "nominal"
        },
        "x": {
         "field": "hour",
         "type": "quantitative"
        },
        "y": {
         "field": "gen_sum",
         "stack": "zero",
         "type": "quantitative"
        }
       },
       "height": 600,
       "mark": "area",
       "width": 600
      },
      "image/png": "[encoded data removed]",
      "image/svg+xml": [
       "<?xml version=\"1.0\" encoding=\"utf-8\"?>\n",
       "<!DOCTYPE svg PUBLIC \"-//W3C//DTD SVG 1.1//EN\" \"http://www.w3.org/Graphics/SVG/1.1/DTD/svg11.dtd\">\n",
       "<svg xmlns=\"http://www.w3.org/2000/svg\" xmlns:xlink=\"http://www.w3.org/1999/xlink\" version=\"1.1\" class=\"marks\" width=\"846\" height=\"642\" viewBox=\"0 0 846 642\"><rect width=\"846\" height=\"642\" fill=\"white\"/><g fill=\"none\" stroke-miterlimit=\"10\" transform=\"translate(50,5)\"><g class=\"mark-group role-frame root\" role=\"graphics-object\" aria-roledescription=\"group mark container\"><g transform=\"translate(0,0)\"><path class=\"background\" aria-hidden=\"true\" d=\"M0.5,0.5h600v600h-600Z\" stroke=\"#ddd\"/><g><g class=\"mark-group role-axis\" aria-hidden=\"true\"><g transform=\"translate(0.5,600.5)\"><path class=\"background\" aria-hidden=\"true\" d=\"M0,0h0v0h0Z\" pointer-events=\"none\"/><g><g class=\"mark-rule role-axis-grid\" pointer-events=\"none\"><line transform=\"translate(0,-600)\" x2=\"0\" y2=\"600\" stroke=\"#ddd\" stroke-width=\"1\" opacity=\"1\"/><line transform=\"translate(50,-600)\" x2=\"0\" y2=\"600\" stroke=\"#ddd\" stroke-width=\"1\" opacity=\"1\"/><line transform=\"translate(100,-600)\" x2=\"0\" y2=\"600\" stroke=\"#ddd\" stroke-width=\"1\" opacity=\"1\"/><line transform=\"translate(150,-600)\" x2=\"0\" y2=\"600\" stroke=\"#ddd\" stroke-width=\"1\" opacity=\"1\"/><line transform=\"translate(200,-600)\" x2=\"0\" y2=\"600\" stroke=\"#ddd\" stroke-width=\"1\" opacity=\"1\"/><line transform=\"translate(250,-600)\" x2=\"0\" y2=\"600\" stroke=\"#ddd\" stroke-width=\"1\" opacity=\"1\"/><line transform=\"translate(300,-600)\" x2=\"0\" y2=\"600\" stroke=\"#ddd\" stroke-width=\"1\" opacity=\"1\"/><line transform=\"translate(350,-600)\" x2=\"0\" y2=\"600\" stroke=\"#ddd\" stroke-width=\"1\" opacity=\"1\"/><line transform=\"translate(400,-600)\" x2=\"0\" y2=\"600\" stroke=\"#ddd\" stroke-width=\"1\" opacity=\"1\"/><line transform=\"translate(450,-600)\" x2=\"0\" y2=\"600\" stroke=\"#ddd\" stroke-width=\"1\" opacity=\"1\"/><line transform=\"translate(500,-600)\" x2=\"0\" y2=\"600\" stroke=\"#ddd\" stroke-width=\"1\" opacity=\"1\"/><line transform=\"translate(550,-600)\" x2=\"0\" y2=\"600\" stroke=\"#ddd\" stroke-width=\"1\" opacity=\"1\"/><line transform=\"translate(600,-600)\" x2=\"0\" y2=\"600\" stroke=\"#ddd\" stroke-width=\"1\" opacity=\"1\"/></g></g><path class=\"foreground\" aria-hidden=\"true\" d=\"\" pointer-events=\"none\" display=\"none\"/></g></g><g class=\"mark-group role-axis\" aria-hidden=\"true\"><g transform=\"translate(0.5,0.5)\"><path class=\"background\" aria-hidden=\"true\" d=\"M0,0h0v0h0Z\" pointer-events=\"none\"/><g><g class=\"mark-rule role-axis-grid\" pointer-events=\"none\"><line transform=\"translate(0,600)\" x2=\"600\" y2=\"0\" stroke=\"#ddd\" stroke-width=\"1\" opacity=\"1\"/><line transform=\"translate(0,566)\" x2=\"600\" y2=\"0\" stroke=\"#ddd\" stroke-width=\"1\" opacity=\"1\"/><line transform=\"translate(0,531)\" x2=\"600\" y2=\"0\" stroke=\"#ddd\" stroke-width=\"1\" opacity=\"1\"/><line transform=\"translate(0,497)\" x2=\"600\" y2=\"0\" stroke=\"#ddd\" stroke-width=\"1\" opacity=\"1\"/><line transform=\"translate(0,463)\" x2=\"600\" y2=\"0\" stroke=\"#ddd\" stroke-width=\"1\" opacity=\"1\"/><line transform=\"translate(0,429)\" x2=\"600\" y2=\"0\" stroke=\"#ddd\" stroke-width=\"1\" opacity=\"1\"/><line transform=\"translate(0,394)\" x2=\"600\" y2=\"0\" stroke=\"#ddd\" stroke-width=\"1\" opacity=\"1\"/><line transform=\"translate(0,360)\" x2=\"600\" y2=\"0\" stroke=\"#ddd\" stroke-width=\"1\" opacity=\"1\"/><line transform=\"translate(0,326)\" x2=\"600\" y2=\"0\" stroke=\"#ddd\" stroke-width=\"1\" opacity=\"1\"/><line transform=\"translate(0,291)\" x2=\"600\" y2=\"0\" stroke=\"#ddd\" stroke-width=\"1\" opacity=\"1\"/><line transform=\"translate(0,257)\" x2=\"600\" y2=\"0\" stroke=\"#ddd\" stroke-width=\"1\" opacity=\"1\"/><line transform=\"translate(0,223)\" x2=\"600\" y2=\"0\" stroke=\"#ddd\" stroke-width=\"1\" opacity=\"1\"/><line transform=\"translate(0,189)\" x2=\"600\" y2=\"0\" stroke=\"#ddd\" stroke-width=\"1\" opacity=\"1\"/><line transform=\"translate(0,154)\" x2=\"600\" y2=\"0\" stroke=\"#ddd\" stroke-width=\"1\" opacity=\"1\"/><line transform=\"translate(0,120)\" x2=\"600\" y2=\"0\" stroke=\"#ddd\" stroke-width=\"1\" opacity=\"1\"/><line transform=\"translate(0,86)\" x2=\"600\" y2=\"0\" stroke=\"#ddd\" stroke-width=\"1\" opacity=\"1\"/><line transform=\"translate(0,51)\" x2=\"600\" y2=\"0\" stroke=\"#ddd\" stroke-width=\"1\" opacity=\"1\"/><line transform=\"translate(0,17)\" x2=\"600\" y2=\"0\" stroke=\"#ddd\" stroke-width=\"1\" opacity=\"1\"/></g></g><path class=\"foreground\" aria-hidden=\"true\" d=\"\" pointer-events=\"none\" display=\"none\"/></g></g><g class=\"mark-group role-axis\" role=\"graphics-symbol\" aria-roledescription=\"axis\" aria-label=\"X-axis titled 'hour' for a linear scale with values from 2,400 to 2,424\"><g transform=\"translate(0.5,600.5)\"><path class=\"background\" aria-hidden=\"true\" d=\"M0,0h0v0h0Z\" pointer-events=\"none\"/><g><g class=\"mark-rule role-axis-tick\" pointer-events=\"none\"><line transform=\"translate(0,0)\" x2=\"0\" y2=\"5\" stroke=\"#888\" stroke-width=\"1\" opacity=\"1\"/><line transform=\"translate(50,0)\" x2=\"0\" y2=\"5\" stroke=\"#888\" stroke-width=\"1\" opacity=\"1\"/><line transform=\"translate(100,0)\" x2=\"0\" y2=\"5\" stroke=\"#888\" stroke-width=\"1\" opacity=\"1\"/><line transform=\"translate(150,0)\" x2=\"0\" y2=\"5\" stroke=\"#888\" stroke-width=\"1\" opacity=\"1\"/><line transform=\"translate(200,0)\" x2=\"0\" y2=\"5\" stroke=\"#888\" stroke-width=\"1\" opacity=\"1\"/><line transform=\"translate(250,0)\" x2=\"0\" y2=\"5\" stroke=\"#888\" stroke-width=\"1\" opacity=\"1\"/><line transform=\"translate(300,0)\" x2=\"0\" y2=\"5\" stroke=\"#888\" stroke-width=\"1\" opacity=\"1\"/><line transform=\"translate(350,0)\" x2=\"0\" y2=\"5\" stroke=\"#888\" stroke-width=\"1\" opacity=\"1\"/><line transform=\"translate(400,0)\" x2=\"0\" y2=\"5\" stroke=\"#888\" stroke-width=\"1\" opacity=\"1\"/><line transform=\"translate(450,0)\" x2=\"0\" y2=\"5\" stroke=\"#888\" stroke-width=\"1\" opacity=\"1\"/><line transform=\"translate(500,0)\" x2=\"0\" y2=\"5\" stroke=\"#888\" stroke-width=\"1\" opacity=\"1\"/><line transform=\"translate(550,0)\" x2=\"0\" y2=\"5\" stroke=\"#888\" stroke-width=\"1\" opacity=\"1\"/><line transform=\"translate(600,0)\" x2=\"0\" y2=\"5\" stroke=\"#888\" stroke-width=\"1\" opacity=\"1\"/></g><g class=\"mark-text role-axis-label\" pointer-events=\"none\"><text text-anchor=\"start\" transform=\"translate(0,15)\" font-family=\"sans-serif\" font-size=\"10px\" fill=\"#000\" opacity=\"1\">2,400</text><text text-anchor=\"middle\" transform=\"translate(50,15)\" font-family=\"sans-serif\" font-size=\"10px\" fill=\"#000\" opacity=\"1\">2,402</text><text text-anchor=\"middle\" transform=\"translate(100,15)\" font-family=\"sans-serif\" font-size=\"10px\" fill=\"#000\" opacity=\"1\">2,404</text><text text-anchor=\"middle\" transform=\"translate(150,15)\" font-family=\"sans-serif\" font-size=\"10px\" fill=\"#000\" opacity=\"1\">2,406</text><text text-anchor=\"middle\" transform=\"translate(200,15)\" font-family=\"sans-serif\" font-size=\"10px\" fill=\"#000\" opacity=\"1\">2,408</text><text text-anchor=\"middle\" transform=\"translate(250,15)\" font-family=\"sans-serif\" font-size=\"10px\" fill=\"#000\" opacity=\"1\">2,410</text><text text-anchor=\"middle\" transform=\"translate(300,15)\" font-family=\"sans-serif\" font-size=\"10px\" fill=\"#000\" opacity=\"1\">2,412</text><text text-anchor=\"middle\" transform=\"translate(350,15)\" font-family=\"sans-serif\" font-size=\"10px\" fill=\"#000\" opacity=\"1\">2,414</text><text text-anchor=\"middle\" transform=\"translate(400,15)\" font-family=\"sans-serif\" font-size=\"10px\" fill=\"#000\" opacity=\"1\">2,416</text><text text-anchor=\"middle\" transform=\"translate(450,15)\" font-family=\"sans-serif\" font-size=\"10px\" fill=\"#000\" opacity=\"1\">2,418</text><text text-anchor=\"middle\" transform=\"translate(500,15)\" font-family=\"sans-serif\" font-size=\"10px\" fill=\"#000\" opacity=\"1\">2,420</text><text text-anchor=\"middle\" transform=\"translate(550,15)\" font-family=\"sans-serif\" font-size=\"10px\" fill=\"#000\" opacity=\"1\">2,422</text><text text-anchor=\"end\" transform=\"translate(600,15)\" font-family=\"sans-serif\" font-size=\"10px\" fill=\"#000\" opacity=\"1\">2,424</text></g><g class=\"mark-rule role-axis-domain\" pointer-events=\"none\"><line transform=\"translate(0,0)\" x2=\"600\" y2=\"0\" stroke=\"#888\" stroke-width=\"1\" opacity=\"1\"/></g><g class=\"mark-text role-axis-title\" pointer-events=\"none\"><text text-anchor=\"middle\" transform=\"translate(300,30)\" font-family=\"sans-serif\" font-size=\"11px\" font-weight=\"bold\" fill=\"#000\" opacity=\"1\">hour</text></g></g><path class=\"foreground\" aria-hidden=\"true\" d=\"\" pointer-events=\"none\" display=\"none\"/></g></g><g class=\"mark-group role-axis\" role=\"graphics-symbol\" aria-roledescription=\"axis\" aria-label=\"Y-axis titled 'gen_sum' for a linear scale with values from 0 to 3,500\"><g transform=\"translate(0.5,0.5)\"><path class=\"background\" aria-hidden=\"true\" d=\"M0,0h0v0h0Z\" pointer-events=\"none\"/><g><g class=\"mark-rule role-axis-tick\" pointer-events=\"none\"><line transform=\"translate(0,600)\" x2=\"-5\" y2=\"0\" stroke=\"#888\" stroke-width=\"1\" opacity=\"1\"/><line transform=\"translate(0,566)\" x2=\"-5\" y2=\"0\" stroke=\"#888\" stroke-width=\"1\" opacity=\"1\"/><line transform=\"translate(0,531)\" x2=\"-5\" y2=\"0\" stroke=\"#888\" stroke-width=\"1\" opacity=\"1\"/><line transform=\"translate(0,497)\" x2=\"-5\" y2=\"0\" stroke=\"#888\" stroke-width=\"1\" opacity=\"1\"/><line transform=\"translate(0,463)\" x2=\"-5\" y2=\"0\" stroke=\"#888\" stroke-width=\"1\" opacity=\"1\"/><line transform=\"translate(0,429)\" x2=\"-5\" y2=\"0\" stroke=\"#888\" stroke-width=\"1\" opacity=\"1\"/><line transform=\"translate(0,394)\" x2=\"-5\" y2=\"0\" stroke=\"#888\" stroke-width=\"1\" opacity=\"1\"/><line transform=\"translate(0,360)\" x2=\"-5\" y2=\"0\" stroke=\"#888\" stroke-width=\"1\" opacity=\"1\"/><line transform=\"translate(0,326)\" x2=\"-5\" y2=\"0\" stroke=\"#888\" stroke-width=\"1\" opacity=\"1\"/><line transform=\"translate(0,291)\" x2=\"-5\" y2=\"0\" stroke=\"#888\" stroke-width=\"1\" opacity=\"1\"/><line transform=\"translate(0,257)\" x2=\"-5\" y2=\"0\" stroke=\"#888\" stroke-width=\"1\" opacity=\"1\"/><line transform=\"translate(0,223)\" x2=\"-5\" y2=\"0\" stroke=\"#888\" stroke-width=\"1\" opacity=\"1\"/><line transform=\"translate(0,189)\" x2=\"-5\" y2=\"0\" stroke=\"#888\" stroke-width=\"1\" opacity=\"1\"/><line transform=\"translate(0,154)\" x2=\"-5\" y2=\"0\" stroke=\"#888\" stroke-width=\"1\" opacity=\"1\"/><line transform=\"translate(0,120)\" x2=\"-5\" y2=\"0\" stroke=\"#888\" stroke-width=\"1\" opacity=\"1\"/><line transform=\"translate(0,86)\" x2=\"-5\" y2=\"0\" stroke=\"#888\" stroke-width=\"1\" opacity=\"1\"/><line transform=\"translate(0,51)\" x2=\"-5\" y2=\"0\" stroke=\"#888\" stroke-width=\"1\" opacity=\"1\"/><line transform=\"translate(0,17)\" x2=\"-5\" y2=\"0\" stroke=\"#888\" stroke-width=\"1\" opacity=\"1\"/></g><g class=\"mark-text role-axis-label\" pointer-events=\"none\"><text text-anchor=\"end\" transform=\"translate(-7,603)\" font-family=\"sans-serif\" font-size=\"10px\" fill=\"#000\" opacity=\"1\">0</text><text text-anchor=\"end\" transform=\"translate(-7,568.7142857142857)\" font-family=\"sans-serif\" font-size=\"10px\" fill=\"#000\" opacity=\"1\">200</text><text text-anchor=\"end\" transform=\"translate(-7,534.4285714285714)\" font-family=\"sans-serif\" font-size=\"10px\" fill=\"#000\" opacity=\"1\">400</text><text text-anchor=\"end\" transform=\"translate(-7,500.1428571428571)\" font-family=\"sans-serif\" font-size=\"10px\" fill=\"#000\" opacity=\"1\">600</text><text text-anchor=\"end\" transform=\"translate(-7,465.8571428571429)\" font-family=\"sans-serif\" font-size=\"10px\" fill=\"#000\" opacity=\"1\">800</text><text text-anchor=\"end\" transform=\"translate(-7,431.57142857142856)\" font-family=\"sans-serif\" font-size=\"10px\" fill=\"#000\" opacity=\"1\">1,000</text><text text-anchor=\"end\" transform=\"translate(-7,397.2857142857143)\" font-family=\"sans-serif\" font-size=\"10px\" fill=\"#000\" opacity=\"1\">1,200</text><text text-anchor=\"end\" transform=\"translate(-7,363)\" font-family=\"sans-serif\" font-size=\"10px\" fill=\"#000\" opacity=\"1\">1,400</text><text text-anchor=\"end\" transform=\"translate(-7,328.7142857142858)\" font-family=\"sans-serif\" font-size=\"10px\" fill=\"#000\" opacity=\"1\">1,600</text><text text-anchor=\"end\" transform=\"translate(-7,294.42857142857144)\" font-family=\"sans-serif\" font-size=\"10px\" fill=\"#000\" opacity=\"1\">1,800</text><text text-anchor=\"end\" transform=\"translate(-7,260.14285714285717)\" font-family=\"sans-serif\" font-size=\"10px\" fill=\"#000\" opacity=\"1\">2,000</text><text text-anchor=\"end\" transform=\"translate(-7,225.85714285714286)\" font-family=\"sans-serif\" font-size=\"10px\" fill=\"#000\" opacity=\"1\">2,200</text><text text-anchor=\"end\" transform=\"translate(-7,191.57142857142856)\" font-family=\"sans-serif\" font-size=\"10px\" fill=\"#000\" opacity=\"1\">2,400</text><text text-anchor=\"end\" transform=\"translate(-7,157.28571428571428)\" font-family=\"sans-serif\" font-size=\"10px\" fill=\"#000\" opacity=\"1\">2,600</text><text text-anchor=\"end\" transform=\"translate(-7,122.99999999999997)\" font-family=\"sans-serif\" font-size=\"10px\" fill=\"#000\" opacity=\"1\">2,800</text><text text-anchor=\"end\" transform=\"translate(-7,88.71428571428574)\" font-family=\"sans-serif\" font-size=\"10px\" fill=\"#000\" opacity=\"1\">3,000</text><text text-anchor=\"end\" transform=\"translate(-7,54.428571428571445)\" font-family=\"sans-serif\" font-size=\"10px\" fill=\"#000\" opacity=\"1\">3,200</text><text text-anchor=\"end\" transform=\"translate(-7,20.14285714285715)\" font-family=\"sans-serif\" font-size=\"10px\" fill=\"#000\" opacity=\"1\">3,400</text></g><g class=\"mark-rule role-axis-domain\" pointer-events=\"none\"><line transform=\"translate(0,600)\" x2=\"0\" y2=\"-600\" stroke=\"#888\" stroke-width=\"1\" opacity=\"1\"/></g><g class=\"mark-text role-axis-title\" pointer-events=\"none\"><text text-anchor=\"middle\" transform=\"translate(-34,300) rotate(-90) translate(0,-2)\" font-family=\"sans-serif\" font-size=\"11px\" font-weight=\"bold\" fill=\"#000\" opacity=\"1\">gen_sum</text></g></g><path class=\"foreground\" aria-hidden=\"true\" d=\"\" pointer-events=\"none\" display=\"none\"/></g></g><g class=\"mark-group role-scope pathgroup\" role=\"graphics-object\" aria-roledescription=\"group mark container\"><g transform=\"translate(0,0)\"><path class=\"background\" aria-hidden=\"true\" d=\"M0,0h600v600h-600Z\"/><g><g class=\"mark-area role-mark marks\" role=\"graphics-object\" aria-roledescription=\"area mark container\"><path aria-label=\"hour: 2401; gen_sum: 163.3088; resource: _onshore_wind_turbine\" role=\"graphics-symbol\" aria-roledescription=\"area mark\" d=\"M25,323.14285714285717L50,333.77142857142854L75,339.77142857142854L100,332.2285714285715L125,302.9142857142857L150,261.2571428571428L175,204.48342857142862L200,132.05828571428572L225,64.3611428571429L250,22.556571428571417L275,2.170285714285658L300,28.91314285714288L325,63.46971428571424L350,76.57714285714286L375,93.86400000000002L400,115.93714285714292L425,136.68342857142858L450,159.74400000000003L475,187.43657142857145L500,171.2571428571429L525,170.4L550,212.9142857142857L575,259.20000000000005L600,298.2857142857143L600,323.0436205714285L575,280.8804205714286L550,229.37976685714284L525,182.72859428571428L500,181.78773942857146L475,196.45640228571426L450,173.22152228571431L425,146.48661942857146L400,127.1503817142857L375,102.30190628571434L350,87.66728228571425L325,72.4000182857143L300,44.703442285714345L275,21.232045714285697L250,45.10987885714282L225,93.0507702857143L200,140.52230400000002L175,217.1999725714286L150,285.11605028571427L125,316.7275337142857L100,349.4662217142858L75,359.50464L50,362.878848L25,351.13865142857145Z\" fill=\"#1f77b4\"/></g></g><path class=\"foreground\" aria-hidden=\"true\" d=\"\" display=\"none\"/></g><g transform=\"translate(0,0)\"><path class=\"background\" aria-hidden=\"true\" d=\"M0,0h600v600h-600Z\"/><g><g class=\"mark-area role-mark marks\" role=\"graphics-object\" aria-roledescription=\"area mark container\"><path aria-label=\"hour: 2401; gen_sum: 3.184932; resource: _small_hydroelectric\" role=\"graphics-symbol\" aria-roledescription=\"area mark\" d=\"M25,351.13865142857145L50,362.878848L75,359.50464L100,349.4662217142858L125,316.7275337142857L150,285.11605028571427L175,217.1999725714286L200,140.52230400000002L225,93.0507702857143L250,45.10987885714282L275,21.232045714285697L300,44.703442285714345L325,72.4000182857143L350,87.66728228571425L375,102.30190628571434L400,127.1503817142857L425,146.48661942857146L450,173.22152228571431L475,196.45640228571426L500,181.78773942857146L525,182.72859428571428L550,229.37976685714284L575,280.8804205714286L600,323.0436205714285L600,323.58960891428563L575,281.42640891428573L550,229.92575520000003L525,183.2745826285714L500,182.33372777142858L475,197.00239062857145L450,173.76751062857144L425,147.03260777142867L400,127.6963700571429L375,102.84789462857147L350,88.21327062857145L325,72.94600662857142L300,45.249430628571474L275,21.778034057142893L250,45.655867199999946L225,93.59675862857142L200,141.06829234285715L175,217.74596091428572L150,285.6620386285714L125,317.2735220571428L100,350.0122100571429L75,360.0506283428571L50,363.42483634285713L25,351.6846397714286Z\" fill=\"#aec7e8\"/></g></g><path class=\"foreground\" aria-hidden=\"true\" d=\"\" display=\"none\"/></g><g transform=\"translate(0,0)\"><path class=\"background\" aria-hidden=\"true\" d=\"M0,0h600v600h-600Z\"/><g><g class=\"mark-area role-mark marks\" role=\"graphics-object\" aria-roledescription=\"area mark container\"><path aria-label=\"hour: 2401; gen_sum: 0; resource: _solar_photovoltaic\" role=\"graphics-symbol\" aria-roledescription=\"area mark\" d=\"M25,351.6846397714286L50,363.42483634285713L75,360.0506283428571L100,350.0122100571429L125,317.2735220571428L150,285.6620386285714L175,217.74596091428572L200,141.06829234285715L225,93.59675862857142L250,45.655867199999946L275,21.778034057142893L300,45.249430628571474L325,72.94600662857142L350,88.21327062857145L375,102.84789462857147L400,127.6963700571429L425,147.03260777142867L450,173.76751062857144L475,197.00239062857145L500,182.33372777142858L525,183.2745826285714L550,229.92575520000003L575,281.42640891428573L600,323.58960891428563L600,323.58960891428563L575,281.42640891428573L550,229.92575520000003L525,183.2745826285714L500,182.33372777142858L475,225.62239062857142L450,367.92751062857144L425,427.71260777142857L400,469.3963700571429L375,477.3078946285715L350,475.5132706285714L325,459.70600662857146L300,413.58943062857145L275,384.1180340571429L250,391.0758672L225,380.1567586285714L200,273.7282923428571L175,250.92596091428572L150,285.6620386285714L125,317.2735220571428L100,350.0122100571429L75,360.0506283428571L50,363.42483634285713L25,351.6846397714286Z\" fill=\"#ff7f0e\"/></g></g><path class=\"foreground\" aria-hidden=\"true\" d=\"\" display=\"none\"/></g><g transform=\"translate(0,0)\"><path class=\"background\" aria-hidden=\"true\" d=\"M0,0h600v600h-600Z\"/><g><g class=\"mark-area role-mark marks\" role=\"graphics-object\" aria-roledescription=\"area mark container\"><path aria-label=\"hour: 2401; gen_sum: 0; resource: _solar_photovoltaic_btm\" role=\"graphics-symbol\" aria-roledescription=\"area mark\" d=\"M25,351.6846397714286L50,363.42483634285713L75,360.0506283428571L100,350.0122100571429L125,317.2735220571428L150,285.6620386285714L175,250.92596091428572L200,273.7282923428571L225,380.1567586285714L250,391.0758672L275,384.1180340571429L300,413.58943062857145L325,459.70600662857146L350,475.51327062857143L375,477.3078946285715L400,469.3963700571429L425,427.71260777142857L450,367.92751062857144L475,225.62239062857142L500,182.33372777142858L525,183.2745826285714L550,229.92575520000003L575,281.42640891428573L600,323.58960891428563L600,323.58960891428563L575,281.42640891428573L550,229.92575520000003L525,183.2745826285714L500,182.33372777142858L475,230.5286763428571L450,401.2120820571429L425,475.82917920000006L400,527.9735129142857L375,541.5010374857143L350,541.9075563428572L325,526.0077209142858L300,476.73343062857145L275,446.23346262857143L250,450.2907243428572L225,429.28133005714284L200,296.4700066285714L175,256.61396091428577L150,285.6620386285714L125,317.2735220571428L100,350.0122100571429L75,360.0506283428571L50,363.42483634285713L25,351.6846397714286Z\" fill=\"#ffbb78\"/></g></g><path class=\"foreground\" aria-hidden=\"true\" d=\"\" display=\"none\"/></g><g transform=\"translate(0,0)\"><path class=\"background\" aria-hidden=\"true\" d=\"M0,0h600v600h-600Z\"/><g><g class=\"mark-area role-mark marks\" role=\"graphics-object\" aria-roledescription=\"area mark container\"><path aria-label=\"hour: 2401; gen_sum: 21.4; resource: biomass\" role=\"graphics-symbol\" aria-roledescription=\"area mark\" d=\"M25,351.6846397714286L50,363.42483634285713L75,360.0506283428571L100,350.0122100571429L125,317.2735220571428L150,285.6620386285714L175,256.61396091428577L200,296.4700066285714L225,429.28133005714284L250,450.2907243428572L275,446.23346262857143L300,476.73343062857145L325,526.0077209142858L350,541.9075563428572L375,541.5010374857143L400,527.9735129142857L425,475.82917920000006L450,401.2120820571429L475,230.5286763428571L500,182.33372777142858L525,183.2745826285714L550,229.92575520000003L575,281.42640891428573L600,323.58960891428563L600,327.2581803428571L575,285.0949803428572L550,233.59432662857148L525,186.94315405714286L500,186.0022992L475,234.19724777142855L450,404.88065348571433L425,479.49775062857145L400,531.6420843428572L375,545.1696089142857L350,545.5761277714286L325,529.6762923428571L300,480.4020020571429L275,449.9020340571429L250,453.95929577142863L225,432.9499014857143L200,300.1385780571429L175,260.28253234285717L150,289.33061005714285L125,320.9420934857143L100,353.68078148571436L75,363.7191997714286L50,367.0934077714286L25,355.35321120000003Z\" fill=\"#2ca02c\"/></g></g><path class=\"foreground\" aria-hidden=\"true\" d=\"\" display=\"none\"/></g><g transform=\"translate(0,0)\"><path class=\"background\" aria-hidden=\"true\" d=\"M0,0h600v600h-600Z\"/><g><g class=\"mark-area role-mark marks\" role=\"graphics-object\" aria-roledescription=\"area mark container\"><path aria-label=\"hour: 2401; gen_sum: 42; resource: hydroelectric_pumped_storage\" role=\"graphics-symbol\" aria-roledescription=\"area mark\" d=\"M25,355.35321120000003L50,367.0934077714286L75,363.7191997714286L100,353.68078148571436L125,320.9420934857143L150,289.33061005714285L175,260.28253234285717L200,300.1385780571429L225,432.9499014857143L250,453.95929577142863L275,449.9020340571429L300,480.4020020571429L325,529.6762923428571L350,545.5761277714286L375,545.1696089142857L400,531.6420843428572L425,479.49775062857145L450,404.88065348571433L475,234.19724777142855L500,186.0022992L525,186.94315405714286L550,233.59432662857148L575,285.0949803428572L600,327.2581803428571L600,334.4581803428571L575,292.2949803428572L550,240.79432662857147L525,194.14315405714285L500,193.20229920000003L475,241.39724777142854L450,412.08065348571427L425,486.69775062857144L400,538.8420843428572L375,552.3696089142857L350,552.7761277714286L325,536.8762923428571L300,487.60200205714284L275,457.1020340571429L250,461.15929577142856L225,440.1499014857143L200,307.3385780571429L175,267.4825323428572L150,296.53061005714284L125,328.14209348571427L100,360.88078148571435L75,370.91919977142857L50,374.2934077714286L25,362.5532112Z\" fill=\"#98df8a\"/></g></g><path class=\"foreground\" aria-hidden=\"true\" d=\"\" display=\"none\"/></g><g transform=\"translate(0,0)\"><path class=\"background\" aria-hidden=\"true\" d=\"M0,0h600v600h-600Z\"/><g><g class=\"mark-area role-mark marks\" role=\"graphics-object\" aria-roledescription=\"area mark container\"><path aria-label=\"hour: 2401; gen_sum: 1385.106268; resource: natural_gas_fired_combined_cycle\" role=\"graphics-symbol\" aria-roledescription=\"area mark\" d=\"M25,362.5532112L50,374.2934077714286L75,370.91919977142857L100,360.88078148571435L125,328.14209348571427L150,296.53061005714284L175,267.4825323428572L200,307.3385780571429L225,440.1499014857143L250,461.15929577142856L275,457.1020340571429L300,487.60200205714284L325,536.8762923428571L350,552.7761277714286L375,552.3696089142857L400,538.8420843428572L425,486.69775062857144L450,412.08065348571427L475,241.39724777142854L500,193.20229920000003L525,194.14315405714285L550,240.79432662857147L575,292.2949803428572L600,334.4581803428571L600,600L575,600L550,571.3943266285714L525,524.7431540571429L500,523.8022992L475,569.2749620571428L450,600L425,600L400,600L375,600L350,600L325,600L300,600L275,600L250,600L225,600L200,600L175,598.0825323428571L150,600L125,600L100,600L75,600L50,600L25,600Z\" fill=\"#d62728\"/></g></g><path class=\"foreground\" aria-hidden=\"true\" d=\"\" display=\"none\"/></g><g transform=\"translate(0,0)\"><path class=\"background\" aria-hidden=\"true\" d=\"M0,0h600v600h-600Z\"/><g><g class=\"mark-area role-mark marks\" role=\"graphics-object\" aria-roledescription=\"area mark container\"><path aria-label=\"hour: 2401; gen_sum: 0; resource: natural_gas_fired_combustion_turbine\" role=\"graphics-symbol\" aria-roledescription=\"area mark\" d=\"M25,600L50,600L75,600L100,600L125,600L150,600L175,598.0825323428571L200,600L225,600L250,600L275,600L300,600L325,600L350,600L375,600L400,600L425,600L450,600L475,569.2749620571428L500,523.8022992L525,524.7431540571429L550,571.3943266285714L575,600L600,600L600,600L575,600L550,600L525,600L500,600L475,600L450,600L425,600L400,600L375,600L350,600L325,600L300,600L275,600L250,600L225,600L200,600L175,600L150,600L125,600L100,600L75,600L50,600L25,600Z\" fill=\"#ff9896\"/></g></g><path class=\"foreground\" aria-hidden=\"true\" d=\"\" display=\"none\"/></g></g><g class=\"mark-group role-legend\" role=\"graphics-symbol\" aria-roledescription=\"legend\" aria-label=\"Symbol legend titled 'resource' for fill color with 8 values: _onshore_wind_turbine, _small_hydroelectric, _solar_photovoltaic, _solar_photovoltaic_btm, biomass, ending with natural_gas_fired_combustion_turbine\"><g transform=\"translate(618,0)\"><path class=\"background\" aria-hidden=\"true\" d=\"M0,0h173v118h-173Z\" pointer-events=\"none\"/><g><g class=\"mark-group role-legend-entry\"><g transform=\"translate(0,16)\"><path class=\"background\" aria-hidden=\"true\" d=\"M0,0h0v0h0Z\" pointer-events=\"none\"/><g><g class=\"mark-group role-scope\" role=\"graphics-object\" aria-roledescription=\"group mark container\"><g transform=\"translate(0,0)\"><path class=\"background\" aria-hidden=\"true\" d=\"M0,0h173v11h-173Z\" pointer-events=\"none\" opacity=\"1\"/><g><g class=\"mark-symbol role-legend-symbol\" pointer-events=\"none\"><path transform=\"translate(6,6)\" d=\"M5,0A5,5,0,1,1,-5,0A5,5,0,1,1,5,0\" fill=\"#1f77b4\" stroke-width=\"1.5\" opacity=\"1\"/></g><g class=\"mark-text role-legend-label\" pointer-events=\"none\"><text text-anchor=\"start\" transform=\"translate(16,9)\" font-family=\"sans-serif\" font-size=\"10px\" fill=\"#000\" opacity=\"1\">_onshore_wind_turbine</text></g></g><path class=\"foreground\" aria-hidden=\"true\" d=\"\" pointer-events=\"none\" display=\"none\"/></g><g transform=\"translate(0,13)\"><path class=\"background\" aria-hidden=\"true\" d=\"M0,0h173v11h-173Z\" pointer-events=\"none\" opacity=\"1\"/><g><g class=\"mark-symbol role-legend-symbol\" pointer-events=\"none\"><path transform=\"translate(6,6)\" d=\"M5,0A5,5,0,1,1,-5,0A5,5,0,1,1,5,0\" fill=\"#aec7e8\" stroke-width=\"1.5\" opacity=\"1\"/></g><g class=\"mark-text role-legend-label\" pointer-events=\"none\"><text text-anchor=\"start\" transform=\"translate(16,9)\" font-family=\"sans-serif\" font-size=\"10px\" fill=\"#000\" opacity=\"1\">_small_hydroelectric</text></g></g><path class=\"foreground\" aria-hidden=\"true\" d=\"\" pointer-events=\"none\" display=\"none\"/></g><g transform=\"translate(0,26)\"><path class=\"background\" aria-hidden=\"true\" d=\"M0,0h173v11h-173Z\" pointer-events=\"none\" opacity=\"1\"/><g><g class=\"mark-symbol role-legend-symbol\" pointer-events=\"none\"><path transform=\"translate(6,6)\" d=\"M5,0A5,5,0,1,1,-5,0A5,5,0,1,1,5,0\" fill=\"#ff7f0e\" stroke-width=\"1.5\" opacity=\"1\"/></g><g class=\"mark-text role-legend-label\" pointer-events=\"none\"><text text-anchor=\"start\" transform=\"translate(16,9)\" font-family=\"sans-serif\" font-size=\"10px\" fill=\"#000\" opacity=\"1\">_solar_photovoltaic</text></g></g><path class=\"foreground\" aria-hidden=\"true\" d=\"\" pointer-events=\"none\" display=\"none\"/></g><g transform=\"translate(0,39)\"><path class=\"background\" aria-hidden=\"true\" d=\"M0,0h173v11h-173Z\" pointer-events=\"none\" opacity=\"1\"/><g><g class=\"mark-symbol role-legend-symbol\" pointer-events=\"none\"><path transform=\"translate(6,6)\" d=\"M5,0A5,5,0,1,1,-5,0A5,5,0,1,1,5,0\" fill=\"#ffbb78\" stroke-width=\"1.5\" opacity=\"1\"/></g><g class=\"mark-text role-legend-label\" pointer-events=\"none\"><text text-anchor=\"start\" transform=\"translate(16,9)\" font-family=\"sans-serif\" font-size=\"10px\" fill=\"#000\" opacity=\"1\">_solar_photovoltaic_btm</text></g></g><path class=\"foreground\" aria-hidden=\"true\" d=\"\" pointer-events=\"none\" display=\"none\"/></g><g transform=\"translate(0,52)\"><path class=\"background\" aria-hidden=\"true\" d=\"M0,0h173v11h-173Z\" pointer-events=\"none\" opacity=\"1\"/><g><g class=\"mark-symbol role-legend-symbol\" pointer-events=\"none\"><path transform=\"translate(6,6)\" d=\"M5,0A5,5,0,1,1,-5,0A5,5,0,1,1,5,0\" fill=\"#2ca02c\" stroke-width=\"1.5\" opacity=\"1\"/></g><g class=\"mark-text role-legend-label\" pointer-events=\"none\"><text text-anchor=\"start\" transform=\"translate(16,9)\" font-family=\"sans-serif\" font-size=\"10px\" fill=\"#000\" opacity=\"1\">biomass</text></g></g><path class=\"foreground\" aria-hidden=\"true\" d=\"\" pointer-events=\"none\" display=\"none\"/></g><g transform=\"translate(0,65)\"><path class=\"background\" aria-hidden=\"true\" d=\"M0,0h173v11h-173Z\" pointer-events=\"none\" opacity=\"1\"/><g><g class=\"mark-symbol role-legend-symbol\" pointer-events=\"none\"><path transform=\"translate(6,6)\" d=\"M5,0A5,5,0,1,1,-5,0A5,5,0,1,1,5,0\" fill=\"#98df8a\" stroke-width=\"1.5\" opacity=\"1\"/></g><g class=\"mark-text role-legend-label\" pointer-events=\"none\"><text text-anchor=\"start\" transform=\"translate(16,9)\" font-family=\"sans-serif\" font-size=\"10px\" fill=\"#000\" opacity=\"1\">hydroelectric_pumped_storage</text></g></g><path class=\"foreground\" aria-hidden=\"true\" d=\"\" pointer-events=\"none\" display=\"none\"/></g><g transform=\"translate(0,78)\"><path class=\"background\" aria-hidden=\"true\" d=\"M0,0h173v11h-173Z\" pointer-events=\"none\" opacity=\"1\"/><g><g class=\"mark-symbol role-legend-symbol\" pointer-events=\"none\"><path transform=\"translate(6,6)\" d=\"M5,0A5,5,0,1,1,-5,0A5,5,0,1,1,5,0\" fill=\"#d62728\" stroke-width=\"1.5\" opacity=\"1\"/></g><g class=\"mark-text role-legend-label\" pointer-events=\"none\"><text text-anchor=\"start\" transform=\"translate(16,9)\" font-family=\"sans-serif\" font-size=\"10px\" fill=\"#000\" opacity=\"1\">natural_gas_fired_combined_cycle</text></g></g><path class=\"foreground\" aria-hidden=\"true\" d=\"\" pointer-events=\"none\" display=\"none\"/></g><g transform=\"translate(0,91)\"><path class=\"background\" aria-hidden=\"true\" d=\"M0,0h173v11h-173Z\" pointer-events=\"none\" opacity=\"1\"/><g><g class=\"mark-symbol role-legend-symbol\" pointer-events=\"none\"><path transform=\"translate(6,6)\" d=\"M5,0A5,5,0,1,1,-5,0A5,5,0,1,1,5,0\" fill=\"#ff9896\" stroke-width=\"1.5\" opacity=\"1\"/></g><g class=\"mark-text role-legend-label\" pointer-events=\"none\"><text text-anchor=\"start\" transform=\"translate(16,9)\" font-family=\"sans-serif\" font-size=\"10px\" fill=\"#000\" opacity=\"1\">natural_gas_fired_combustion_tur…</text></g></g><path class=\"foreground\" aria-hidden=\"true\" d=\"\" pointer-events=\"none\" display=\"none\"/></g></g></g><path class=\"foreground\" aria-hidden=\"true\" d=\"\" pointer-events=\"none\" display=\"none\"/></g></g><g class=\"mark-text role-legend-title\" pointer-events=\"none\"><text text-anchor=\"start\" transform=\"translate(0,9)\" font-family=\"sans-serif\" font-size=\"11px\" font-weight=\"bold\" fill=\"#000\" opacity=\"1\">resource</text></g></g><path class=\"foreground\" aria-hidden=\"true\" d=\"\" pointer-events=\"none\" display=\"none\"/></g></g></g><path class=\"foreground\" aria-hidden=\"true\" d=\"\" display=\"none\"/></g></g></g></svg>\n"
      ],
      "text/plain": [
       "@vlplot(\n",
       "    width=600,\n",
       "    height=600,\n",
       "    mark=\"area\",\n",
       "    encoding={\n",
       "        x={\n",
       "            field=\"hour\"\n",
       "        },\n",
       "        y={\n",
       "            stack=\"zero\",\n",
       "            field=\"gen_sum\"\n",
       "        },\n",
       "        color={\n",
       "            scale={\n",
       "                scheme=\"category20\"\n",
       "            },\n",
       "            field=\"resource\",\n",
       "            type=\"nominal\"\n",
       "        }\n",
       "    },\n",
       "    data={\n",
       "        values=...\n",
       "    }\n",
       ")"
      ]
     },
     "execution_count": 51,
     "metadata": {},
     "output_type": "execute_result"
    }
   ],
   "source": [
    "# Plot stacked generation by each resource type\n",
    "g = sol_gen_btm |>\n",
    "@vlplot(:area, \n",
    "    x=:hour, y={:gen_sum, stack=:zero}, \n",
    "    color={\"resource:n\", scale={scheme=\"category20\"}},\n",
    "    width=600,height=600) "
   ]
  },
  {
   "cell_type": "code",
   "execution_count": 52,
   "id": "784eefee",
   "metadata": {},
   "outputs": [],
   "source": [
    "# Save this plot to file if you want to\n",
    "g |> FileIO.save(\"results/ED_multitime.png\")"
   ]
  },
  {
   "cell_type": "code",
   "execution_count": 53,
   "id": "dbf2deef",
   "metadata": {},
   "outputs": [
    {
     "data": {
      "application/vnd.vegalite.v4+json": {
       "data": {
        "values": [
         {
          "demand": 1615,
          "hour": 2401
         },
         {
          "demand": 1553,
          "hour": 2402
         },
         {
          "demand": 1518,
          "hour": 2403
         },
         {
          "demand": 1562,
          "hour": 2404
         },
         {
          "demand": 1733,
          "hour": 2405
         },
         {
          "demand": 1976,
          "hour": 2406
         },
         {
          "demand": 2274,
          "hour": 2407
         },
         {
          "demand": 2597,
          "hour": 2408
         },
         {
          "demand": 2838,
          "hour": 2409
         },
         {
          "demand": 3023,
          "hour": 2410
         },
         {
          "demand": 3125,
          "hour": 2411
         },
         {
          "demand": 2963,
          "hour": 2412
         },
         {
          "demand": 2743,
          "hour": 2413
         },
         {
          "demand": 2666,
          "hour": 2414
         },
         {
          "demand": 2578,
          "hour": 2415
         },
         {
          "demand": 2482,
          "hour": 2416
         },
         {
          "demand": 2422,
          "hour": 2417
         },
         {
          "demand": 2374,
          "hour": 2418
         },
         {
          "demand": 2378,
          "hour": 2419
         },
         {
          "demand": 2501,
          "hour": 2420
         },
         {
          "demand": 2506,
          "hour": 2421
         },
         {
          "demand": 2258,
          "hour": 2422
         },
         {
          "demand": 1988,
          "hour": 2423
         },
         {
          "demand": 1760,
          "hour": 2424
         }
        ]
       },
       "encoding": {
        "x": {
         "field": "hour",
         "type": "quantitative"
        },
        "y": {
         "field": "demand",
         "type": "quantitative"
        }
       },
       "mark": "line"
      },
      "image/png": "[encoded data removed]",
      "image/svg+xml": [
       "<?xml version=\"1.0\" encoding=\"utf-8\"?>\n",
       "<!DOCTYPE svg PUBLIC \"-//W3C//DTD SVG 1.1//EN\" \"http://www.w3.org/Graphics/SVG/1.1/DTD/svg11.dtd\">\n",
       "<svg xmlns=\"http://www.w3.org/2000/svg\" xmlns:xlink=\"http://www.w3.org/1999/xlink\" version=\"1.1\" class=\"marks\" width=\"257\" height=\"247\" viewBox=\"0 0 257 247\"><rect width=\"257\" height=\"247\" fill=\"white\"/><g fill=\"none\" stroke-miterlimit=\"10\" transform=\"translate(50,10)\"><g class=\"mark-group role-frame root\" role=\"graphics-object\" aria-roledescription=\"group mark container\"><g transform=\"translate(0,0)\"><path class=\"background\" aria-hidden=\"true\" d=\"M0.5,0.5h200v200h-200Z\" stroke=\"#ddd\"/><g><g class=\"mark-group role-axis\" aria-hidden=\"true\"><g transform=\"translate(0.5,200.5)\"><path class=\"background\" aria-hidden=\"true\" d=\"M0,0h0v0h0Z\" pointer-events=\"none\"/><g><g class=\"mark-rule role-axis-grid\" pointer-events=\"none\"><line transform=\"translate(0,-200)\" x2=\"0\" y2=\"200\" stroke=\"#ddd\" stroke-width=\"1\" opacity=\"1\"/><line transform=\"translate(42,-200)\" x2=\"0\" y2=\"200\" stroke=\"#ddd\" stroke-width=\"1\" opacity=\"1\"/><line transform=\"translate(83,-200)\" x2=\"0\" y2=\"200\" stroke=\"#ddd\" stroke-width=\"1\" opacity=\"1\"/><line transform=\"translate(125,-200)\" x2=\"0\" y2=\"200\" stroke=\"#ddd\" stroke-width=\"1\" opacity=\"1\"/><line transform=\"translate(167,-200)\" x2=\"0\" y2=\"200\" stroke=\"#ddd\" stroke-width=\"1\" opacity=\"1\"/></g></g><path class=\"foreground\" aria-hidden=\"true\" d=\"\" pointer-events=\"none\" display=\"none\"/></g></g><g class=\"mark-group role-axis\" aria-hidden=\"true\"><g transform=\"translate(0.5,0.5)\"><path class=\"background\" aria-hidden=\"true\" d=\"M0,0h0v0h0Z\" pointer-events=\"none\"/><g><g class=\"mark-rule role-axis-grid\" pointer-events=\"none\"><line transform=\"translate(0,200)\" x2=\"200\" y2=\"0\" stroke=\"#ddd\" stroke-width=\"1\" opacity=\"1\"/><line transform=\"translate(0,171)\" x2=\"200\" y2=\"0\" stroke=\"#ddd\" stroke-width=\"1\" opacity=\"1\"/><line transform=\"translate(0,143)\" x2=\"200\" y2=\"0\" stroke=\"#ddd\" stroke-width=\"1\" opacity=\"1\"/><line transform=\"translate(0,114)\" x2=\"200\" y2=\"0\" stroke=\"#ddd\" stroke-width=\"1\" opacity=\"1\"/><line transform=\"translate(0,86)\" x2=\"200\" y2=\"0\" stroke=\"#ddd\" stroke-width=\"1\" opacity=\"1\"/><line transform=\"translate(0,57)\" x2=\"200\" y2=\"0\" stroke=\"#ddd\" stroke-width=\"1\" opacity=\"1\"/><line transform=\"translate(0,29)\" x2=\"200\" y2=\"0\" stroke=\"#ddd\" stroke-width=\"1\" opacity=\"1\"/><line transform=\"translate(0,0)\" x2=\"200\" y2=\"0\" stroke=\"#ddd\" stroke-width=\"1\" opacity=\"1\"/></g></g><path class=\"foreground\" aria-hidden=\"true\" d=\"\" pointer-events=\"none\" display=\"none\"/></g></g><g class=\"mark-group role-axis\" role=\"graphics-symbol\" aria-roledescription=\"axis\" aria-label=\"X-axis titled 'hour' for a linear scale with values from 2,400 to 2,424\"><g transform=\"translate(0.5,200.5)\"><path class=\"background\" aria-hidden=\"true\" d=\"M0,0h0v0h0Z\" pointer-events=\"none\"/><g><g class=\"mark-rule role-axis-tick\" pointer-events=\"none\"><line transform=\"translate(0,0)\" x2=\"0\" y2=\"5\" stroke=\"#888\" stroke-width=\"1\" opacity=\"1\"/><line transform=\"translate(42,0)\" x2=\"0\" y2=\"5\" stroke=\"#888\" stroke-width=\"1\" opacity=\"1\"/><line transform=\"translate(83,0)\" x2=\"0\" y2=\"5\" stroke=\"#888\" stroke-width=\"1\" opacity=\"1\"/><line transform=\"translate(125,0)\" x2=\"0\" y2=\"5\" stroke=\"#888\" stroke-width=\"1\" opacity=\"1\"/><line transform=\"translate(167,0)\" x2=\"0\" y2=\"5\" stroke=\"#888\" stroke-width=\"1\" opacity=\"1\"/></g><g class=\"mark-text role-axis-label\" pointer-events=\"none\"><text text-anchor=\"start\" transform=\"translate(0,15)\" font-family=\"sans-serif\" font-size=\"10px\" fill=\"#000\" opacity=\"1\">2,400</text><text text-anchor=\"middle\" transform=\"translate(41.66666666666667,15)\" font-family=\"sans-serif\" font-size=\"10px\" fill=\"#000\" opacity=\"1\">2,405</text><text text-anchor=\"middle\" transform=\"translate(83.33333333333334,15)\" font-family=\"sans-serif\" font-size=\"10px\" fill=\"#000\" opacity=\"1\">2,410</text><text text-anchor=\"middle\" transform=\"translate(125,15)\" font-family=\"sans-serif\" font-size=\"10px\" fill=\"#000\" opacity=\"1\">2,415</text><text text-anchor=\"middle\" transform=\"translate(166.66666666666669,15)\" font-family=\"sans-serif\" font-size=\"10px\" fill=\"#000\" opacity=\"1\">2,420</text></g><g class=\"mark-rule role-axis-domain\" pointer-events=\"none\"><line transform=\"translate(0,0)\" x2=\"200\" y2=\"0\" stroke=\"#888\" stroke-width=\"1\" opacity=\"1\"/></g><g class=\"mark-text role-axis-title\" pointer-events=\"none\"><text text-anchor=\"middle\" transform=\"translate(100,30)\" font-family=\"sans-serif\" font-size=\"11px\" font-weight=\"bold\" fill=\"#000\" opacity=\"1\">hour</text></g></g><path class=\"foreground\" aria-hidden=\"true\" d=\"\" pointer-events=\"none\" display=\"none\"/></g></g><g class=\"mark-group role-axis\" role=\"graphics-symbol\" aria-roledescription=\"axis\" aria-label=\"Y-axis titled 'demand' for a linear scale with values from 0 to 3,500\"><g transform=\"translate(0.5,0.5)\"><path class=\"background\" aria-hidden=\"true\" d=\"M0,0h0v0h0Z\" pointer-events=\"none\"/><g><g class=\"mark-rule role-axis-tick\" pointer-events=\"none\"><line transform=\"translate(0,200)\" x2=\"-5\" y2=\"0\" stroke=\"#888\" stroke-width=\"1\" opacity=\"1\"/><line transform=\"translate(0,171)\" x2=\"-5\" y2=\"0\" stroke=\"#888\" stroke-width=\"1\" opacity=\"1\"/><line transform=\"translate(0,143)\" x2=\"-5\" y2=\"0\" stroke=\"#888\" stroke-width=\"1\" opacity=\"1\"/><line transform=\"translate(0,114)\" x2=\"-5\" y2=\"0\" stroke=\"#888\" stroke-width=\"1\" opacity=\"1\"/><line transform=\"translate(0,86)\" x2=\"-5\" y2=\"0\" stroke=\"#888\" stroke-width=\"1\" opacity=\"1\"/><line transform=\"translate(0,57)\" x2=\"-5\" y2=\"0\" stroke=\"#888\" stroke-width=\"1\" opacity=\"1\"/><line transform=\"translate(0,29)\" x2=\"-5\" y2=\"0\" stroke=\"#888\" stroke-width=\"1\" opacity=\"1\"/><line transform=\"translate(0,0)\" x2=\"-5\" y2=\"0\" stroke=\"#888\" stroke-width=\"1\" opacity=\"1\"/></g><g class=\"mark-text role-axis-label\" pointer-events=\"none\"><text text-anchor=\"end\" transform=\"translate(-7,203)\" font-family=\"sans-serif\" font-size=\"10px\" fill=\"#000\" opacity=\"1\">0</text><text text-anchor=\"end\" transform=\"translate(-7,174.42857142857144)\" font-family=\"sans-serif\" font-size=\"10px\" fill=\"#000\" opacity=\"1\">500</text><text text-anchor=\"end\" transform=\"translate(-7,145.85714285714286)\" font-family=\"sans-serif\" font-size=\"10px\" fill=\"#000\" opacity=\"1\">1,000</text><text text-anchor=\"end\" transform=\"translate(-7,117.28571428571428)\" font-family=\"sans-serif\" font-size=\"10px\" fill=\"#000\" opacity=\"1\">1,500</text><text text-anchor=\"end\" transform=\"translate(-7,88.71428571428572)\" font-family=\"sans-serif\" font-size=\"10px\" fill=\"#000\" opacity=\"1\">2,000</text><text text-anchor=\"end\" transform=\"translate(-7,60.14285714285714)\" font-family=\"sans-serif\" font-size=\"10px\" fill=\"#000\" opacity=\"1\">2,500</text><text text-anchor=\"end\" transform=\"translate(-7,31.57142857142858)\" font-family=\"sans-serif\" font-size=\"10px\" fill=\"#000\" opacity=\"1\">3,000</text><text text-anchor=\"end\" transform=\"translate(-7,3)\" font-family=\"sans-serif\" font-size=\"10px\" fill=\"#000\" opacity=\"1\">3,500</text></g><g class=\"mark-rule role-axis-domain\" pointer-events=\"none\"><line transform=\"translate(0,200)\" x2=\"0\" y2=\"-200\" stroke=\"#888\" stroke-width=\"1\" opacity=\"1\"/></g><g class=\"mark-text role-axis-title\" pointer-events=\"none\"><text text-anchor=\"middle\" transform=\"translate(-34,100) rotate(-90) translate(0,-2)\" font-family=\"sans-serif\" font-size=\"11px\" font-weight=\"bold\" fill=\"#000\" opacity=\"1\">demand</text></g></g><path class=\"foreground\" aria-hidden=\"true\" d=\"\" pointer-events=\"none\" display=\"none\"/></g></g><g class=\"mark-line role-mark marks\" role=\"graphics-object\" aria-roledescription=\"line mark container\"><path aria-label=\"hour: 2401; demand: 1615\" role=\"graphics-symbol\" aria-roledescription=\"line mark\" d=\"M8.333333333333332,107.71428571428572L16.666666666666664,111.25714285714285L25,113.25714285714285L33.33333333333333,110.74285714285715L41.66666666666667,100.97142857142858L50,87.08571428571427L58.333333333333336,70.05714285714286L66.66666666666666,51.6L75,37.828571428571436L83.33333333333334,27.257142857142846L91.66666666666666,21.42857142857142L100,30.685714285714294L108.33333333333333,43.25714285714286L116.66666666666667,47.657142857142865L125,52.68571428571429L133.33333333333331,58.171428571428564L141.66666666666669,61.60000000000001L150,64.34285714285714L158.33333333333331,64.11428571428573L166.66666666666669,57.085714285714296L175,56.800000000000004L183.33333333333331,70.97142857142858L191.66666666666669,86.4L200,99.42857142857142\" stroke=\"#4c78a8\" stroke-width=\"2\"/></g></g><path class=\"foreground\" aria-hidden=\"true\" d=\"\" display=\"none\"/></g></g></g></svg>\n"
      ],
      "text/plain": [
       "@vlplot(\n",
       "    mark=\"line\",\n",
       "    encoding={\n",
       "        x={\n",
       "            field=\"hour\"\n",
       "        },\n",
       "        y={\n",
       "            field=\"demand\"\n",
       "        }\n",
       "    },\n",
       "    data={\n",
       "        values=...\n",
       "    }\n",
       ")"
      ]
     },
     "execution_count": 53,
     "metadata": {},
     "output_type": "execute_result"
    }
   ],
   "source": [
    "loads_multi |>\n",
    "@vlplot(:line, \n",
    "    x=:hour, y=:demand)"
   ]
  },
  {
   "cell_type": "code",
   "execution_count": 39,
   "id": "6593480d",
   "metadata": {},
   "outputs": [
    {
     "data": {
      "text/plain": [
       "value_to_df_2dim (generic function with 1 method)"
      ]
     },
     "execution_count": 39,
     "metadata": {},
     "output_type": "execute_result"
    }
   ],
   "source": [
    "#############          Multiple-time period, complex generator constraints with time coupling        ###############\n",
    "#=\n",
    "Function to convert JuMP outputs (technically, AxisArrays) with two-indexes to a dataframe\n",
    "Inputs:\n",
    "    var -- JuMP AxisArray (e.g., value.(GEN))\n",
    "Reference: https://jump.dev/JuMP.jl/v0.19/containers/\n",
    "=#\n",
    "function value_to_df_2dim(var)\n",
    "    solution = DataFrame(var.data, :auto)\n",
    "    ax1 = var.axes[1]\n",
    "    ax2 = var.axes[2]\n",
    "    cols = names(solution)\n",
    "    insertcols!(solution, 1, :r_id => ax1)\n",
    "    solution = stack(solution, Not(:r_id), variable_name=:hour)\n",
    "    solution.hour = foldl(replace, [cols[i] => ax2[i] for i in 1:length(ax2)], init=solution.hour)\n",
    "    rename!(solution, :value => :gen)\n",
    "    solution.hour = convert.(Int64,solution.hour)\n",
    "    return solution\n",
    "end"
   ]
  },
  {
   "cell_type": "code",
   "execution_count": 40,
   "id": "eef398c6",
   "metadata": {},
   "outputs": [
    {
     "data": {
      "text/plain": [
       "economic_dispatch_multi_time (generic function with 1 method)"
      ]
     },
     "execution_count": 40,
     "metadata": {},
     "output_type": "execute_result"
    }
   ],
   "source": [
    "#=\n",
    "Function to solve economic dispatch problem (multi-time period, single-zone)\n",
    "Inputs:\n",
    "    gen_df -- dataframe with generator info\n",
    "    loads  -- load by time\n",
    "    gen_variable -- capacity factors of variable generators (in \"long\" format)\n",
    "=#\n",
    "function economic_dispatch_multi_time(gen_df, loads, gen_variable)\n",
    "    ED = Model(HiGHS.Optimizer)\n",
    "\n",
    "    # Define sets based on data\n",
    "    G_var = gen_df[gen_df[!,:is_variable] .== 1,:r_id] \n",
    "    G_nonvar = gen_df[gen_df[!,:is_variable] .== 0,:r_id]\n",
    "    G = gen_df.r_id\n",
    "    T = loads.hour\n",
    "    T_red = loads.hour[1:end-1]  # time periods used for ramp constraints\n",
    "    \n",
    "    # Generator capacity factor time series for variable generators\n",
    "    gen_var_cf = innerjoin(gen_variable, \n",
    "                    gen_df[gen_df.is_variable .== 1 , \n",
    "                        [:r_id, :gen_full, :existing_cap_mw]], \n",
    "                    on = :gen_full)\n",
    "        \n",
    "    # Decision variables   \n",
    "    @variables(ED, begin\n",
    "        GEN[G, T]  >= 0     # generation\n",
    "        # Note: we assume Pmin = 0 for all resources for simplicty here\n",
    "    end)\n",
    "                \n",
    "    # Objective function\n",
    "    @objective(ED, Min, \n",
    "        sum( (gen_df[gen_df.r_id .== i,:heat_rate_mmbtu_per_mwh][1] * gen_df[gen_df.r_id .== i,:fuel_cost][1] +\n",
    "            gen_df[gen_df.r_id .== i,:var_om_cost_per_mwh][1]) * GEN[i,t] \n",
    "                        for i in G_nonvar for t in T) + \n",
    "        sum(gen_df[gen_df.r_id .== i,:var_om_cost_per_mwh][1] * GEN[i,t] \n",
    "                        for i in G_var for t in T)\n",
    "    )\n",
    "    \n",
    "    # Demand constraint\n",
    "    @constraint(ED, cDemand[t in T], \n",
    "        sum(GEN[i,t] for i in G) == loads[loads.hour .== t,:demand][1])\n",
    "\n",
    "    # Capacity constraints (non-variable generation)\n",
    "    @constraint(ED, Cap_nonvar[i in G_nonvar, t in T], \n",
    "        GEN[i,t] <= gen_df[gen_df.r_id .== i,:existing_cap_mw][1])\n",
    "\n",
    "    # Variable generation capacity constraints\n",
    "    @constraint(ED, Cap_var[i in 1:nrow(gen_var_cf)], \n",
    "            GEN[gen_var_cf[i,:r_id], gen_var_cf[i,:hour] ] <= \n",
    "                        gen_var_cf[i,:cf] *\n",
    "                        gen_var_cf[i,:existing_cap_mw])\n",
    "    \n",
    "    # Ramp up constraints\n",
    "    @constraint(ED, RampUp[i in G, t in T_red], \n",
    "        GEN[i,t+1] - GEN[i,t] <= gen_df[gen_df.r_id .== i,:existing_cap_mw][1] * \n",
    "                                 gen_df[gen_df.r_id .== i,:ramp_up_percentage][1] )\n",
    "\n",
    "    # Ramp down constraints\n",
    "    @constraint(ED, RampDn[i in G, t in T_red], \n",
    "        GEN[i,t] - GEN[i,t+1] <= gen_df[gen_df.r_id .== i,:existing_cap_mw][1] * \n",
    "                                 gen_df[gen_df.r_id .== i,:ramp_dn_percentage][1] )\n",
    "\n",
    "    \n",
    "    # Solve statement (! indicates runs in place)\n",
    "    optimize!(ED)\n",
    "\n",
    "    # Dataframe of optimal decision variables\n",
    "    solution = value_to_df_2dim(value.(GEN))\n",
    "    \n",
    "    # Dataframe of ramp up constraint marginal values \n",
    "    # (aka \"dual values\" of the ramp constraint)\n",
    "    # (to be used in solar sensitivity case)\n",
    "    marginals = value_to_df_2dim(dual.(RampUp))\n",
    "    \n",
    "    # Return the solution, objective, and marginals as named tuple\n",
    "    return (\n",
    "        solution = solution, \n",
    "        cost = objective_value(ED),\n",
    "        marginals = marginals\n",
    "    )\n",
    "\n",
    "end"
   ]
  },
  {
   "cell_type": "code",
   "execution_count": 41,
   "id": "a7b7f6ff",
   "metadata": {},
   "outputs": [
    {
     "name": "stdout",
     "output_type": "stream",
     "text": [
      "Running HiGHS 1.4.0 [date: 1970-01-01, git hash: bcf6c0b22]\n",
      "Copyright (c) 2022 ERGO-Code under MIT licence terms\n",
      "Presolving model\n",
      "208 rows, 576 cols, 944 nonzeros\n",
      "112 rows, 509 cols, 685 nonzeros\n",
      "112 rows, 509 cols, 685 nonzeros\n",
      "Presolve : Reductions: rows 112(-1662); columns 509(-91); elements 685(-2815)\n",
      "Solving the presolved LP\n",
      "Using EKK dual simplex solver - serial\n",
      "  Iteration        Objective     Infeasibilities num(sum)\n",
      "          0     9.4597787940e+04 Pr: 24(50993.5) 0s\n",
      "         24     1.3740961015e+06 Pr: 0(0) 0s\n",
      "Solving the original LP from the solution after postsolve\n",
      "Model   status      : Optimal\n",
      "Simplex   iterations: 24\n",
      "Objective value     :  1.3740961015e+06\n",
      "HiGHS run time      :          0.01\n"
     ]
    },
    {
     "data": {
      "application/vnd.vegalite.v4+json": {
       "data": {
        "values": [
         {
          "gen_sum": 163.3088,
          "hour": 2401,
          "resource": "_onshore_wind_turbine"
         },
         {
          "gen_sum": 3.184932,
          "hour": 2401,
          "resource": "_small_hydroelectric"
         },
         {
          "gen_sum": 0,
          "hour": 2401,
          "resource": "_solar_photovoltaic"
         },
         {
          "gen_sum": 0,
          "hour": 2401,
          "resource": "_solar_photovoltaic_btm"
         },
         {
          "gen_sum": 21.4,
          "hour": 2401,
          "resource": "biomass"
         },
         {
          "gen_sum": 42,
          "hour": 2401,
          "resource": "hydroelectric_pumped_storage"
         },
         {
          "gen_sum": 1385.106268,
          "hour": 2401,
          "resource": "natural_gas_fired_combined_cycle"
         },
         {
          "gen_sum": 0,
          "hour": 2401,
          "resource": "natural_gas_fired_combustion_turbine"
         },
         {
          "gen_sum": 169.79327999999998,
          "hour": 2402,
          "resource": "_onshore_wind_turbine"
         },
         {
          "gen_sum": 3.184932,
          "hour": 2402,
          "resource": "_small_hydroelectric"
         },
         {
          "gen_sum": 0,
          "hour": 2402,
          "resource": "_solar_photovoltaic"
         },
         {
          "gen_sum": 0,
          "hour": 2402,
          "resource": "_solar_photovoltaic_btm"
         },
         {
          "gen_sum": 21.4,
          "hour": 2402,
          "resource": "biomass"
         },
         {
          "gen_sum": 42,
          "hour": 2402,
          "resource": "hydroelectric_pumped_storage"
         },
         {
          "gen_sum": 1316.621788,
          "hour": 2402,
          "resource": "natural_gas_fired_combined_cycle"
         },
         {
          "gen_sum": 0,
          "hour": 2402,
          "resource": "natural_gas_fired_combustion_turbine"
         },
         {
          "gen_sum": 115.1104,
          "hour": 2403,
          "resource": "_onshore_wind_turbine"
         },
         {
          "gen_sum": 3.184932,
          "hour": 2403,
          "resource": "_small_hydroelectric"
         },
         {
          "gen_sum": 0,
          "hour": 2403,
          "resource": "_solar_photovoltaic"
         },
         {
          "gen_sum": 0,
          "hour": 2403,
          "resource": "_solar_photovoltaic_btm"
         },
         {
          "gen_sum": 21.4,
          "hour": 2403,
          "resource": "biomass"
         },
         {
          "gen_sum": 42,
          "hour": 2403,
          "resource": "hydroelectric_pumped_storage"
         },
         {
          "gen_sum": 1336.304668,
          "hour": 2403,
          "resource": "natural_gas_fired_combined_cycle"
         },
         {
          "gen_sum": 0,
          "hour": 2403,
          "resource": "natural_gas_fired_combustion_turbine"
         },
         {
          "gen_sum": 100.55296,
          "hour": 2404,
          "resource": "_onshore_wind_turbine"
         },
         {
          "gen_sum": 3.184932,
          "hour": 2404,
          "resource": "_small_hydroelectric"
         },
         {
          "gen_sum": 0,
          "hour": 2404,
          "resource": "_solar_photovoltaic"
         },
         {
          "gen_sum": 0,
          "hour": 2404,
          "resource": "_solar_photovoltaic_btm"
         },
         {
          "gen_sum": 21.4,
          "hour": 2404,
          "resource": "biomass"
         },
         {
          "gen_sum": 42,
          "hour": 2404,
          "resource": "hydroelectric_pumped_storage"
         },
         {
          "gen_sum": 1394.8621079999998,
          "hour": 2404,
          "resource": "natural_gas_fired_combined_cycle"
         },
         {
          "gen_sum": 0,
          "hour": 2404,
          "resource": "natural_gas_fired_combustion_turbine"
         },
         {
          "gen_sum": 80.57728,
          "hour": 2405,
          "resource": "_onshore_wind_turbine"
         },
         {
          "gen_sum": 3.184932,
          "hour": 2405,
          "resource": "_small_hydroelectric"
         },
         {
          "gen_sum": 0,
          "hour": 2405,
          "resource": "_solar_photovoltaic"
         },
         {
          "gen_sum": 0,
          "hour": 2405,
          "resource": "_solar_photovoltaic_btm"
         },
         {
          "gen_sum": 21.4,
          "hour": 2405,
          "resource": "biomass"
         },
         {
          "gen_sum": 42,
          "hour": 2405,
          "resource": "hydroelectric_pumped_storage"
         },
         {
          "gen_sum": 1585.837788,
          "hour": 2405,
          "resource": "natural_gas_fired_combined_cycle"
         },
         {
          "gen_sum": 0,
          "hour": 2405,
          "resource": "natural_gas_fired_combustion_turbine"
         },
         {
          "gen_sum": 139.17695999999998,
          "hour": 2406,
          "resource": "_onshore_wind_turbine"
         },
         {
          "gen_sum": 3.184932,
          "hour": 2406,
          "resource": "_small_hydroelectric"
         },
         {
          "gen_sum": 0,
          "hour": 2406,
          "resource": "_solar_photovoltaic"
         },
         {
          "gen_sum": 0,
          "hour": 2406,
          "resource": "_solar_photovoltaic_btm"
         },
         {
          "gen_sum": 21.4,
          "hour": 2406,
          "resource": "biomass"
         },
         {
          "gen_sum": 42,
          "hour": 2406,
          "resource": "hydroelectric_pumped_storage"
         },
         {
          "gen_sum": 1770.238108,
          "hour": 2406,
          "resource": "natural_gas_fired_combined_cycle"
         },
         {
          "gen_sum": 0,
          "hour": 2406,
          "resource": "natural_gas_fired_combustion_turbine"
         },
         {
          "gen_sum": 74.17984,
          "hour": 2407,
          "resource": "_onshore_wind_turbine"
         },
         {
          "gen_sum": 3.184932,
          "hour": 2407,
          "resource": "_small_hydroelectric"
         },
         {
          "gen_sum": 27.650000000000002,
          "hour": 2407,
          "resource": "_solar_photovoltaic"
         },
         {
          "gen_sum": 33.18,
          "hour": 2407,
          "resource": "_solar_photovoltaic_btm"
         },
         {
          "gen_sum": 21.4,
          "hour": 2407,
          "resource": "biomass"
         },
         {
          "gen_sum": 42,
          "hour": 2407,
          "resource": "hydroelectric_pumped_storage"
         },
         {
          "gen_sum": 1928.5,
          "hour": 2407,
          "resource": "natural_gas_fired_combined_cycle"
         },
         {
          "gen_sum": 177.08522799999992,
          "hour": 2407,
          "resource": "natural_gas_fired_combustion_turbine"
         },
         {
          "gen_sum": 49.373439999999995,
          "hour": 2408,
          "resource": "_onshore_wind_turbine"
         },
         {
          "gen_sum": 3.184932,
          "hour": 2408,
          "resource": "_small_hydroelectric"
         },
         {
          "gen_sum": 110.55,
          "hour": 2408,
          "resource": "_solar_photovoltaic"
         },
         {
          "gen_sum": 132.66,
          "hour": 2408,
          "resource": "_solar_photovoltaic_btm"
         },
         {
          "gen_sum": 21.4,
          "hour": 2408,
          "resource": "biomass"
         },
         {
          "gen_sum": 42,
          "hour": 2408,
          "resource": "hydroelectric_pumped_storage"
         },
         {
          "gen_sum": 1928.5,
          "hour": 2408,
          "resource": "natural_gas_fired_combined_cycle"
         },
         {
          "gen_sum": 441.9916279999999,
          "hour": 2408,
          "resource": "natural_gas_fired_combustion_turbine"
         },
         {
          "gen_sum": 167.35616,
          "hour": 2409,
          "resource": "_onshore_wind_turbine"
         },
         {
          "gen_sum": 3.184932,
          "hour": 2409,
          "resource": "_small_hydroelectric"
         },
         {
          "gen_sum": 238.8,
          "hour": 2409,
          "resource": "_solar_photovoltaic"
         },
         {
          "gen_sum": 286.56,
          "hour": 2409,
          "resource": "_solar_photovoltaic_btm"
         },
         {
          "gen_sum": 21.4,
          "hour": 2409,
          "resource": "biomass"
         },
         {
          "gen_sum": 42,
          "hour": 2409,
          "resource": "hydroelectric_pumped_storage"
         },
         {
          "gen_sum": 1928.5,
          "hour": 2409,
          "resource": "natural_gas_fired_combined_cycle"
         },
         {
          "gen_sum": 436.7589079999999,
          "hour": 2409,
          "resource": "natural_gas_fired_combustion_turbine"
         },
         {
          "gen_sum": 131.56096,
          "hour": 2410,
          "resource": "_onshore_wind_turbine"
         },
         {
          "gen_sum": 3.184932,
          "hour": 2410,
          "resource": "_small_hydroelectric"
         },
         {
          "gen_sum": 287.85,
          "hour": 2410,
          "resource": "_solar_photovoltaic"
         },
         {
          "gen_sum": 345.42,
          "hour": 2410,
          "resource": "_solar_photovoltaic_btm"
         },
         {
          "gen_sum": 21.4,
          "hour": 2410,
          "resource": "biomass"
         },
         {
          "gen_sum": 42,
          "hour": 2410,
          "resource": "hydroelectric_pumped_storage"
         },
         {
          "gen_sum": 1928.5,
          "hour": 2410,
          "resource": "natural_gas_fired_combined_cycle"
         },
         {
          "gen_sum": 608.5041079999996,
          "hour": 2410,
          "resource": "natural_gas_fired_combustion_turbine"
         },
         {
          "gen_sum": 111.1936,
          "hour": 2411,
          "resource": "_onshore_wind_turbine"
         },
         {
          "gen_sum": 3.184932,
          "hour": 2411,
          "resource": "_small_hydroelectric"
         },
         {
          "gen_sum": 301.95,
          "hour": 2411,
          "resource": "_solar_photovoltaic"
         },
         {
          "gen_sum": 362.34,
          "hour": 2411,
          "resource": "_solar_photovoltaic_btm"
         },
         {
          "gen_sum": 21.4,
          "hour": 2411,
          "resource": "biomass"
         },
         {
          "gen_sum": 42,
          "hour": 2411,
          "resource": "hydroelectric_pumped_storage"
         },
         {
          "gen_sum": 1928.5,
          "hour": 2411,
          "resource": "natural_gas_fired_combined_cycle"
         },
         {
          "gen_sum": 716.7714679999999,
          "hour": 2411,
          "resource": "natural_gas_fired_combustion_turbine"
         },
         {
          "gen_sum": 92.11008,
          "hour": 2412,
          "resource": "_onshore_wind_turbine"
         },
         {
          "gen_sum": 3.184932,
          "hour": 2412,
          "resource": "_small_hydroelectric"
         },
         {
          "gen_sum": 306.95,
          "hour": 2412,
          "resource": "_solar_photovoltaic"
         },
         {
          "gen_sum": 368.34,
          "hour": 2412,
          "resource": "_solar_photovoltaic_btm"
         },
         {
          "gen_sum": 21.4,
          "hour": 2412,
          "resource": "biomass"
         },
         {
          "gen_sum": 42,
          "hour": 2412,
          "resource": "hydroelectric_pumped_storage"
         },
         {
          "gen_sum": 1928.5,
          "hour": 2412,
          "resource": "natural_gas_fired_combined_cycle"
         },
         {
          "gen_sum": 568.8549879999997,
          "hour": 2412,
          "resource": "natural_gas_fired_combustion_turbine"
         },
         {
          "gen_sum": 52.09344,
          "hour": 2413,
          "resource": "_onshore_wind_turbine"
         },
         {
          "gen_sum": 3.184932,
          "hour": 2413,
          "resource": "_small_hydroelectric"
         },
         {
          "gen_sum": 322.29999999999995,
          "hour": 2413,
          "resource": "_solar_photovoltaic"
         },
         {
          "gen_sum": 386.76,
          "hour": 2413,
          "resource": "_solar_photovoltaic_btm"
         },
         {
          "gen_sum": 21.4,
          "hour": 2413,
          "resource": "biomass"
         },
         {
          "gen_sum": 42,
          "hour": 2413,
          "resource": "hydroelectric_pumped_storage"
         },
         {
          "gen_sum": 1928.5,
          "hour": 2413,
          "resource": "natural_gas_fired_combined_cycle"
         },
         {
          "gen_sum": 373.5216279999999,
          "hour": 2413,
          "resource": "natural_gas_fired_combustion_turbine"
         },
         {
          "gen_sum": 64.69248,
          "hour": 2414,
          "resource": "_onshore_wind_turbine"
         },
         {
          "gen_sum": 3.184932,
          "hour": 2414,
          "resource": "_small_hydroelectric"
         },
         {
          "gen_sum": 322.75,
          "hour": 2414,
          "resource": "_solar_photovoltaic"
         },
         {
          "gen_sum": 387.29999999999995,
          "hour": 2414,
          "resource": "_solar_photovoltaic_btm"
         },
         {
          "gen_sum": 21.4,
          "hour": 2414,
          "resource": "biomass"
         },
         {
          "gen_sum": 42,
          "hour": 2414,
          "resource": "hydroelectric_pumped_storage"
         },
         {
          "gen_sum": 1928.5,
          "hour": 2414,
          "resource": "natural_gas_fired_combined_cycle"
         },
         {
          "gen_sum": 283.4725879999999,
          "hour": 2414,
          "resource": "natural_gas_fired_combustion_turbine"
         },
         {
          "gen_sum": 49.22112,
          "hour": 2415,
          "resource": "_onshore_wind_turbine"
         },
         {
          "gen_sum": 3.184932,
          "hour": 2415,
          "resource": "_small_hydroelectric"
         },
         {
          "gen_sum": 312.05,
          "hour": 2415,
          "resource": "_solar_photovoltaic"
         },
         {
          "gen_sum": 374.46,
          "hour": 2415,
          "resource": "_solar_photovoltaic_btm"
         },
         {
          "gen_sum": 21.4,
          "hour": 2415,
          "resource": "biomass"
         },
         {
          "gen_sum": 42,
          "hour": 2415,
          "resource": "hydroelectric_pumped_storage"
         },
         {
          "gen_sum": 1928.5,
          "hour": 2415,
          "resource": "natural_gas_fired_combined_cycle"
         },
         {
          "gen_sum": 221.6439479999999,
          "hour": 2415,
          "resource": "natural_gas_fired_combustion_turbine"
         },
         {
          "gen_sum": 65.41055999999999,
          "hour": 2416,
          "resource": "_onshore_wind_turbine"
         },
         {
          "gen_sum": 3.184932,
          "hour": 2416,
          "resource": "_small_hydroelectric"
         },
         {
          "gen_sum": 284.75,
          "hour": 2416,
          "resource": "_solar_photovoltaic"
         },
         {
          "gen_sum": 341.7,
          "hour": 2416,
          "resource": "_solar_photovoltaic_btm"
         },
         {
          "gen_sum": 21.4,
          "hour": 2416,
          "resource": "biomass"
         },
         {
          "gen_sum": 42,
          "hour": 2416,
          "resource": "hydroelectric_pumped_storage"
         },
         {
          "gen_sum": 1928.5,
          "hour": 2416,
          "resource": "natural_gas_fired_combined_cycle"
         },
         {
          "gen_sum": 136.75450799999993,
          "hour": 2416,
          "resource": "natural_gas_fired_combustion_turbine"
         },
         {
          "gen_sum": 57.18527999999999,
          "hour": 2417,
          "resource": "_onshore_wind_turbine"
         },
         {
          "gen_sum": 3.184932,
          "hour": 2417,
          "resource": "_small_hydroelectric"
         },
         {
          "gen_sum": 233.9,
          "hour": 2417,
          "resource": "_solar_photovoltaic"
         },
         {
          "gen_sum": 280.68,
          "hour": 2417,
          "resource": "_solar_photovoltaic_btm"
         },
         {
          "gen_sum": 21.4,
          "hour": 2417,
          "resource": "biomass"
         },
         {
          "gen_sum": 42,
          "hour": 2417,
          "resource": "hydroelectric_pumped_storage"
         },
         {
          "gen_sum": 1928.5,
          "hour": 2417,
          "resource": "natural_gas_fired_combined_cycle"
         },
         {
          "gen_sum": 135.82978799999992,
          "hour": 2417,
          "resource": "natural_gas_fired_combustion_turbine"
         },
         {
          "gen_sum": 78.61888,
          "hour": 2418,
          "resource": "_onshore_wind_turbine"
         },
         {
          "gen_sum": 3.184932,
          "hour": 2418,
          "resource": "_small_hydroelectric"
         },
         {
          "gen_sum": 161.8,
          "hour": 2418,
          "resource": "_solar_photovoltaic"
         },
         {
          "gen_sum": 194.16,
          "hour": 2418,
          "resource": "_solar_photovoltaic_btm"
         },
         {
          "gen_sum": 21.4,
          "hour": 2418,
          "resource": "biomass"
         },
         {
          "gen_sum": 42,
          "hour": 2418,
          "resource": "hydroelectric_pumped_storage"
         },
         {
          "gen_sum": 1928.5,
          "hour": 2418,
          "resource": "natural_gas_fired_combined_cycle"
         },
         {
          "gen_sum": 138.4961879999999,
          "hour": 2418,
          "resource": "natural_gas_fired_combustion_turbine"
         },
         {
          "gen_sum": 52.61568,
          "hour": 2419,
          "resource": "_onshore_wind_turbine"
         },
         {
          "gen_sum": 3.184932,
          "hour": 2419,
          "resource": "_small_hydroelectric"
         },
         {
          "gen_sum": 23.85,
          "hour": 2419,
          "resource": "_solar_photovoltaic"
         },
         {
          "gen_sum": 28.62,
          "hour": 2419,
          "resource": "_solar_photovoltaic_btm"
         },
         {
          "gen_sum": 21.4,
          "hour": 2419,
          "resource": "biomass"
         },
         {
          "gen_sum": 42,
          "hour": 2419,
          "resource": "hydroelectric_pumped_storage"
         },
         {
          "gen_sum": 1928.5,
          "hour": 2419,
          "resource": "natural_gas_fired_combined_cycle"
         },
         {
          "gen_sum": 306.4493879999999,
          "hour": 2419,
          "resource": "natural_gas_fired_combustion_turbine"
         },
         {
          "gen_sum": 61.42848,
          "hour": 2420,
          "resource": "_onshore_wind_turbine"
         },
         {
          "gen_sum": 3.184932,
          "hour": 2420,
          "resource": "_small_hydroelectric"
         },
         {
          "gen_sum": 0,
          "hour": 2420,
          "resource": "_solar_photovoltaic"
         },
         {
          "gen_sum": 0,
          "hour": 2420,
          "resource": "_solar_photovoltaic_btm"
         },
         {
          "gen_sum": 21.4,
          "hour": 2420,
          "resource": "biomass"
         },
         {
          "gen_sum": 42,
          "hour": 2420,
          "resource": "hydroelectric_pumped_storage"
         },
         {
          "gen_sum": 1928.5,
          "hour": 2420,
          "resource": "natural_gas_fired_combined_cycle"
         },
         {
          "gen_sum": 444.48658799999987,
          "hour": 2420,
          "resource": "natural_gas_fired_combustion_turbine"
         },
         {
          "gen_sum": 71.9168,
          "hour": 2421,
          "resource": "_onshore_wind_turbine"
         },
         {
          "gen_sum": 3.184932,
          "hour": 2421,
          "resource": "_small_hydroelectric"
         },
         {
          "gen_sum": 0,
          "hour": 2421,
          "resource": "_solar_photovoltaic"
         },
         {
          "gen_sum": 0,
          "hour": 2421,
          "resource": "_solar_photovoltaic_btm"
         },
         {
          "gen_sum": 21.4,
          "hour": 2421,
          "resource": "biomass"
         },
         {
          "gen_sum": 42,
          "hour": 2421,
          "resource": "hydroelectric_pumped_storage"
         },
         {
          "gen_sum": 1928.5,
          "hour": 2421,
          "resource": "natural_gas_fired_combined_cycle"
         },
         {
          "gen_sum": 438.99826799999994,
          "hour": 2421,
          "resource": "natural_gas_fired_combustion_turbine"
         },
         {
          "gen_sum": 96.04864,
          "hour": 2422,
          "resource": "_onshore_wind_turbine"
         },
         {
          "gen_sum": 3.184932,
          "hour": 2422,
          "resource": "_small_hydroelectric"
         },
         {
          "gen_sum": 0,
          "hour": 2422,
          "resource": "_solar_photovoltaic"
         },
         {
          "gen_sum": 0,
          "hour": 2422,
          "resource": "_solar_photovoltaic_btm"
         },
         {
          "gen_sum": 21.4,
          "hour": 2422,
          "resource": "biomass"
         },
         {
          "gen_sum": 42,
          "hour": 2422,
          "resource": "hydroelectric_pumped_storage"
         },
         {
          "gen_sum": 1928.5,
          "hour": 2422,
          "resource": "natural_gas_fired_combined_cycle"
         },
         {
          "gen_sum": 166.8664279999999,
          "hour": 2422,
          "resource": "natural_gas_fired_combustion_turbine"
         },
         {
          "gen_sum": 126.46912,
          "hour": 2423,
          "resource": "_onshore_wind_turbine"
         },
         {
          "gen_sum": 3.184932,
          "hour": 2423,
          "resource": "_small_hydroelectric"
         },
         {
          "gen_sum": 0,
          "hour": 2423,
          "resource": "_solar_photovoltaic"
         },
         {
          "gen_sum": 0,
          "hour": 2423,
          "resource": "_solar_photovoltaic_btm"
         },
         {
          "gen_sum": 21.4,
          "hour": 2423,
          "resource": "biomass"
         },
         {
          "gen_sum": 42,
          "hour": 2423,
          "resource": "hydroelectric_pumped_storage"
         },
         {
          "gen_sum": 1794.9459479999998,
          "hour": 2423,
          "resource": "natural_gas_fired_combined_cycle"
         },
         {
          "gen_sum": 0,
          "hour": 2423,
          "resource": "natural_gas_fired_combustion_turbine"
         },
         {
          "gen_sum": 144.42111999999997,
          "hour": 2424,
          "resource": "_onshore_wind_turbine"
         },
         {
          "gen_sum": 3.184932,
          "hour": 2424,
          "resource": "_small_hydroelectric"
         },
         {
          "gen_sum": 0,
          "hour": 2424,
          "resource": "_solar_photovoltaic"
         },
         {
          "gen_sum": 0,
          "hour": 2424,
          "resource": "_solar_photovoltaic_btm"
         },
         {
          "gen_sum": 21.4,
          "hour": 2424,
          "resource": "biomass"
         },
         {
          "gen_sum": 42,
          "hour": 2424,
          "resource": "hydroelectric_pumped_storage"
         },
         {
          "gen_sum": 1548.993948,
          "hour": 2424,
          "resource": "natural_gas_fired_combined_cycle"
         },
         {
          "gen_sum": 0,
          "hour": 2424,
          "resource": "natural_gas_fired_combustion_turbine"
         }
        ]
       },
       "encoding": {
        "color": {
         "field": "resource",
         "scale": {
          "scheme": "category20"
         },
         "type": "nominal"
        },
        "x": {
         "field": "hour",
         "type": "quantitative"
        },
        "y": {
         "field": "gen_sum",
         "stack": "zero",
         "type": "quantitative"
        }
       },
       "height": 600,
       "mark": "area",
       "width": 600
      },
      "image/png": "[encoded data removed]",
      "image/svg+xml": [
       "<?xml version=\"1.0\" encoding=\"utf-8\"?>\n",
       "<!DOCTYPE svg PUBLIC \"-//W3C//DTD SVG 1.1//EN\" \"http://www.w3.org/Graphics/SVG/1.1/DTD/svg11.dtd\">\n",
       "<svg xmlns=\"http://www.w3.org/2000/svg\" xmlns:xlink=\"http://www.w3.org/1999/xlink\" version=\"1.1\" class=\"marks\" width=\"846\" height=\"642\" viewBox=\"0 0 846 642\"><rect width=\"846\" height=\"642\" fill=\"white\"/><g fill=\"none\" stroke-miterlimit=\"10\" transform=\"translate(50,5)\"><g class=\"mark-group role-frame root\" role=\"graphics-object\" aria-roledescription=\"group mark container\"><g transform=\"translate(0,0)\"><path class=\"background\" aria-hidden=\"true\" d=\"M0.5,0.5h600v600h-600Z\" stroke=\"#ddd\"/><g><g class=\"mark-group role-axis\" aria-hidden=\"true\"><g transform=\"translate(0.5,600.5)\"><path class=\"background\" aria-hidden=\"true\" d=\"M0,0h0v0h0Z\" pointer-events=\"none\"/><g><g class=\"mark-rule role-axis-grid\" pointer-events=\"none\"><line transform=\"translate(0,-600)\" x2=\"0\" y2=\"600\" stroke=\"#ddd\" stroke-width=\"1\" opacity=\"1\"/><line transform=\"translate(50,-600)\" x2=\"0\" y2=\"600\" stroke=\"#ddd\" stroke-width=\"1\" opacity=\"1\"/><line transform=\"translate(100,-600)\" x2=\"0\" y2=\"600\" stroke=\"#ddd\" stroke-width=\"1\" opacity=\"1\"/><line transform=\"translate(150,-600)\" x2=\"0\" y2=\"600\" stroke=\"#ddd\" stroke-width=\"1\" opacity=\"1\"/><line transform=\"translate(200,-600)\" x2=\"0\" y2=\"600\" stroke=\"#ddd\" stroke-width=\"1\" opacity=\"1\"/><line transform=\"translate(250,-600)\" x2=\"0\" y2=\"600\" stroke=\"#ddd\" stroke-width=\"1\" opacity=\"1\"/><line transform=\"translate(300,-600)\" x2=\"0\" y2=\"600\" stroke=\"#ddd\" stroke-width=\"1\" opacity=\"1\"/><line transform=\"translate(350,-600)\" x2=\"0\" y2=\"600\" stroke=\"#ddd\" stroke-width=\"1\" opacity=\"1\"/><line transform=\"translate(400,-600)\" x2=\"0\" y2=\"600\" stroke=\"#ddd\" stroke-width=\"1\" opacity=\"1\"/><line transform=\"translate(450,-600)\" x2=\"0\" y2=\"600\" stroke=\"#ddd\" stroke-width=\"1\" opacity=\"1\"/><line transform=\"translate(500,-600)\" x2=\"0\" y2=\"600\" stroke=\"#ddd\" stroke-width=\"1\" opacity=\"1\"/><line transform=\"translate(550,-600)\" x2=\"0\" y2=\"600\" stroke=\"#ddd\" stroke-width=\"1\" opacity=\"1\"/><line transform=\"translate(600,-600)\" x2=\"0\" y2=\"600\" stroke=\"#ddd\" stroke-width=\"1\" opacity=\"1\"/></g></g><path class=\"foreground\" aria-hidden=\"true\" d=\"\" pointer-events=\"none\" display=\"none\"/></g></g><g class=\"mark-group role-axis\" aria-hidden=\"true\"><g transform=\"translate(0.5,0.5)\"><path class=\"background\" aria-hidden=\"true\" d=\"M0,0h0v0h0Z\" pointer-events=\"none\"/><g><g class=\"mark-rule role-axis-grid\" pointer-events=\"none\"><line transform=\"translate(0,600)\" x2=\"600\" y2=\"0\" stroke=\"#ddd\" stroke-width=\"1\" opacity=\"1\"/><line transform=\"translate(0,566)\" x2=\"600\" y2=\"0\" stroke=\"#ddd\" stroke-width=\"1\" opacity=\"1\"/><line transform=\"translate(0,531)\" x2=\"600\" y2=\"0\" stroke=\"#ddd\" stroke-width=\"1\" opacity=\"1\"/><line transform=\"translate(0,497)\" x2=\"600\" y2=\"0\" stroke=\"#ddd\" stroke-width=\"1\" opacity=\"1\"/><line transform=\"translate(0,463)\" x2=\"600\" y2=\"0\" stroke=\"#ddd\" stroke-width=\"1\" opacity=\"1\"/><line transform=\"translate(0,429)\" x2=\"600\" y2=\"0\" stroke=\"#ddd\" stroke-width=\"1\" opacity=\"1\"/><line transform=\"translate(0,394)\" x2=\"600\" y2=\"0\" stroke=\"#ddd\" stroke-width=\"1\" opacity=\"1\"/><line transform=\"translate(0,360)\" x2=\"600\" y2=\"0\" stroke=\"#ddd\" stroke-width=\"1\" opacity=\"1\"/><line transform=\"translate(0,326)\" x2=\"600\" y2=\"0\" stroke=\"#ddd\" stroke-width=\"1\" opacity=\"1\"/><line transform=\"translate(0,291)\" x2=\"600\" y2=\"0\" stroke=\"#ddd\" stroke-width=\"1\" opacity=\"1\"/><line transform=\"translate(0,257)\" x2=\"600\" y2=\"0\" stroke=\"#ddd\" stroke-width=\"1\" opacity=\"1\"/><line transform=\"translate(0,223)\" x2=\"600\" y2=\"0\" stroke=\"#ddd\" stroke-width=\"1\" opacity=\"1\"/><line transform=\"translate(0,189)\" x2=\"600\" y2=\"0\" stroke=\"#ddd\" stroke-width=\"1\" opacity=\"1\"/><line transform=\"translate(0,154)\" x2=\"600\" y2=\"0\" stroke=\"#ddd\" stroke-width=\"1\" opacity=\"1\"/><line transform=\"translate(0,120)\" x2=\"600\" y2=\"0\" stroke=\"#ddd\" stroke-width=\"1\" opacity=\"1\"/><line transform=\"translate(0,86)\" x2=\"600\" y2=\"0\" stroke=\"#ddd\" stroke-width=\"1\" opacity=\"1\"/><line transform=\"translate(0,51)\" x2=\"600\" y2=\"0\" stroke=\"#ddd\" stroke-width=\"1\" opacity=\"1\"/><line transform=\"translate(0,17)\" x2=\"600\" y2=\"0\" stroke=\"#ddd\" stroke-width=\"1\" opacity=\"1\"/></g></g><path class=\"foreground\" aria-hidden=\"true\" d=\"\" pointer-events=\"none\" display=\"none\"/></g></g><g class=\"mark-group role-axis\" role=\"graphics-symbol\" aria-roledescription=\"axis\" aria-label=\"X-axis titled 'hour' for a linear scale with values from 2,400 to 2,424\"><g transform=\"translate(0.5,600.5)\"><path class=\"background\" aria-hidden=\"true\" d=\"M0,0h0v0h0Z\" pointer-events=\"none\"/><g><g class=\"mark-rule role-axis-tick\" pointer-events=\"none\"><line transform=\"translate(0,0)\" x2=\"0\" y2=\"5\" stroke=\"#888\" stroke-width=\"1\" opacity=\"1\"/><line transform=\"translate(50,0)\" x2=\"0\" y2=\"5\" stroke=\"#888\" stroke-width=\"1\" opacity=\"1\"/><line transform=\"translate(100,0)\" x2=\"0\" y2=\"5\" stroke=\"#888\" stroke-width=\"1\" opacity=\"1\"/><line transform=\"translate(150,0)\" x2=\"0\" y2=\"5\" stroke=\"#888\" stroke-width=\"1\" opacity=\"1\"/><line transform=\"translate(200,0)\" x2=\"0\" y2=\"5\" stroke=\"#888\" stroke-width=\"1\" opacity=\"1\"/><line transform=\"translate(250,0)\" x2=\"0\" y2=\"5\" stroke=\"#888\" stroke-width=\"1\" opacity=\"1\"/><line transform=\"translate(300,0)\" x2=\"0\" y2=\"5\" stroke=\"#888\" stroke-width=\"1\" opacity=\"1\"/><line transform=\"translate(350,0)\" x2=\"0\" y2=\"5\" stroke=\"#888\" stroke-width=\"1\" opacity=\"1\"/><line transform=\"translate(400,0)\" x2=\"0\" y2=\"5\" stroke=\"#888\" stroke-width=\"1\" opacity=\"1\"/><line transform=\"translate(450,0)\" x2=\"0\" y2=\"5\" stroke=\"#888\" stroke-width=\"1\" opacity=\"1\"/><line transform=\"translate(500,0)\" x2=\"0\" y2=\"5\" stroke=\"#888\" stroke-width=\"1\" opacity=\"1\"/><line transform=\"translate(550,0)\" x2=\"0\" y2=\"5\" stroke=\"#888\" stroke-width=\"1\" opacity=\"1\"/><line transform=\"translate(600,0)\" x2=\"0\" y2=\"5\" stroke=\"#888\" stroke-width=\"1\" opacity=\"1\"/></g><g class=\"mark-text role-axis-label\" pointer-events=\"none\"><text text-anchor=\"start\" transform=\"translate(0,15)\" font-family=\"sans-serif\" font-size=\"10px\" fill=\"#000\" opacity=\"1\">2,400</text><text text-anchor=\"middle\" transform=\"translate(50,15)\" font-family=\"sans-serif\" font-size=\"10px\" fill=\"#000\" opacity=\"1\">2,402</text><text text-anchor=\"middle\" transform=\"translate(100,15)\" font-family=\"sans-serif\" font-size=\"10px\" fill=\"#000\" opacity=\"1\">2,404</text><text text-anchor=\"middle\" transform=\"translate(150,15)\" font-family=\"sans-serif\" font-size=\"10px\" fill=\"#000\" opacity=\"1\">2,406</text><text text-anchor=\"middle\" transform=\"translate(200,15)\" font-family=\"sans-serif\" font-size=\"10px\" fill=\"#000\" opacity=\"1\">2,408</text><text text-anchor=\"middle\" transform=\"translate(250,15)\" font-family=\"sans-serif\" font-size=\"10px\" fill=\"#000\" opacity=\"1\">2,410</text><text text-anchor=\"middle\" transform=\"translate(300,15)\" font-family=\"sans-serif\" font-size=\"10px\" fill=\"#000\" opacity=\"1\">2,412</text><text text-anchor=\"middle\" transform=\"translate(350,15)\" font-family=\"sans-serif\" font-size=\"10px\" fill=\"#000\" opacity=\"1\">2,414</text><text text-anchor=\"middle\" transform=\"translate(400,15)\" font-family=\"sans-serif\" font-size=\"10px\" fill=\"#000\" opacity=\"1\">2,416</text><text text-anchor=\"middle\" transform=\"translate(450,15)\" font-family=\"sans-serif\" font-size=\"10px\" fill=\"#000\" opacity=\"1\">2,418</text><text text-anchor=\"middle\" transform=\"translate(500,15)\" font-family=\"sans-serif\" font-size=\"10px\" fill=\"#000\" opacity=\"1\">2,420</text><text text-anchor=\"middle\" transform=\"translate(550,15)\" font-family=\"sans-serif\" font-size=\"10px\" fill=\"#000\" opacity=\"1\">2,422</text><text text-anchor=\"end\" transform=\"translate(600,15)\" font-family=\"sans-serif\" font-size=\"10px\" fill=\"#000\" opacity=\"1\">2,424</text></g><g class=\"mark-rule role-axis-domain\" pointer-events=\"none\"><line transform=\"translate(0,0)\" x2=\"600\" y2=\"0\" stroke=\"#888\" stroke-width=\"1\" opacity=\"1\"/></g><g class=\"mark-text role-axis-title\" pointer-events=\"none\"><text text-anchor=\"middle\" transform=\"translate(300,30)\" font-family=\"sans-serif\" font-size=\"11px\" font-weight=\"bold\" fill=\"#000\" opacity=\"1\">hour</text></g></g><path class=\"foreground\" aria-hidden=\"true\" d=\"\" pointer-events=\"none\" display=\"none\"/></g></g><g class=\"mark-group role-axis\" role=\"graphics-symbol\" aria-roledescription=\"axis\" aria-label=\"Y-axis titled 'gen_sum' for a linear scale with values from 0 to 3,500\"><g transform=\"translate(0.5,0.5)\"><path class=\"background\" aria-hidden=\"true\" d=\"M0,0h0v0h0Z\" pointer-events=\"none\"/><g><g class=\"mark-rule role-axis-tick\" pointer-events=\"none\"><line transform=\"translate(0,600)\" x2=\"-5\" y2=\"0\" stroke=\"#888\" stroke-width=\"1\" opacity=\"1\"/><line transform=\"translate(0,566)\" x2=\"-5\" y2=\"0\" stroke=\"#888\" stroke-width=\"1\" opacity=\"1\"/><line transform=\"translate(0,531)\" x2=\"-5\" y2=\"0\" stroke=\"#888\" stroke-width=\"1\" opacity=\"1\"/><line transform=\"translate(0,497)\" x2=\"-5\" y2=\"0\" stroke=\"#888\" stroke-width=\"1\" opacity=\"1\"/><line transform=\"translate(0,463)\" x2=\"-5\" y2=\"0\" stroke=\"#888\" stroke-width=\"1\" opacity=\"1\"/><line transform=\"translate(0,429)\" x2=\"-5\" y2=\"0\" stroke=\"#888\" stroke-width=\"1\" opacity=\"1\"/><line transform=\"translate(0,394)\" x2=\"-5\" y2=\"0\" stroke=\"#888\" stroke-width=\"1\" opacity=\"1\"/><line transform=\"translate(0,360)\" x2=\"-5\" y2=\"0\" stroke=\"#888\" stroke-width=\"1\" opacity=\"1\"/><line transform=\"translate(0,326)\" x2=\"-5\" y2=\"0\" stroke=\"#888\" stroke-width=\"1\" opacity=\"1\"/><line transform=\"translate(0,291)\" x2=\"-5\" y2=\"0\" stroke=\"#888\" stroke-width=\"1\" opacity=\"1\"/><line transform=\"translate(0,257)\" x2=\"-5\" y2=\"0\" stroke=\"#888\" stroke-width=\"1\" opacity=\"1\"/><line transform=\"translate(0,223)\" x2=\"-5\" y2=\"0\" stroke=\"#888\" stroke-width=\"1\" opacity=\"1\"/><line transform=\"translate(0,189)\" x2=\"-5\" y2=\"0\" stroke=\"#888\" stroke-width=\"1\" opacity=\"1\"/><line transform=\"translate(0,154)\" x2=\"-5\" y2=\"0\" stroke=\"#888\" stroke-width=\"1\" opacity=\"1\"/><line transform=\"translate(0,120)\" x2=\"-5\" y2=\"0\" stroke=\"#888\" stroke-width=\"1\" opacity=\"1\"/><line transform=\"translate(0,86)\" x2=\"-5\" y2=\"0\" stroke=\"#888\" stroke-width=\"1\" opacity=\"1\"/><line transform=\"translate(0,51)\" x2=\"-5\" y2=\"0\" stroke=\"#888\" stroke-width=\"1\" opacity=\"1\"/><line transform=\"translate(0,17)\" x2=\"-5\" y2=\"0\" stroke=\"#888\" stroke-width=\"1\" opacity=\"1\"/></g><g class=\"mark-text role-axis-label\" pointer-events=\"none\"><text text-anchor=\"end\" transform=\"translate(-7,603)\" font-family=\"sans-serif\" font-size=\"10px\" fill=\"#000\" opacity=\"1\">0</text><text text-anchor=\"end\" transform=\"translate(-7,568.7142857142857)\" font-family=\"sans-serif\" font-size=\"10px\" fill=\"#000\" opacity=\"1\">200</text><text text-anchor=\"end\" transform=\"translate(-7,534.4285714285714)\" font-family=\"sans-serif\" font-size=\"10px\" fill=\"#000\" opacity=\"1\">400</text><text text-anchor=\"end\" transform=\"translate(-7,500.1428571428571)\" font-family=\"sans-serif\" font-size=\"10px\" fill=\"#000\" opacity=\"1\">600</text><text text-anchor=\"end\" transform=\"translate(-7,465.8571428571429)\" font-family=\"sans-serif\" font-size=\"10px\" fill=\"#000\" opacity=\"1\">800</text><text text-anchor=\"end\" transform=\"translate(-7,431.57142857142856)\" font-family=\"sans-serif\" font-size=\"10px\" fill=\"#000\" opacity=\"1\">1,000</text><text text-anchor=\"end\" transform=\"translate(-7,397.2857142857143)\" font-family=\"sans-serif\" font-size=\"10px\" fill=\"#000\" opacity=\"1\">1,200</text><text text-anchor=\"end\" transform=\"translate(-7,363)\" font-family=\"sans-serif\" font-size=\"10px\" fill=\"#000\" opacity=\"1\">1,400</text><text text-anchor=\"end\" transform=\"translate(-7,328.7142857142858)\" font-family=\"sans-serif\" font-size=\"10px\" fill=\"#000\" opacity=\"1\">1,600</text><text text-anchor=\"end\" transform=\"translate(-7,294.42857142857144)\" font-family=\"sans-serif\" font-size=\"10px\" fill=\"#000\" opacity=\"1\">1,800</text><text text-anchor=\"end\" transform=\"translate(-7,260.14285714285717)\" font-family=\"sans-serif\" font-size=\"10px\" fill=\"#000\" opacity=\"1\">2,000</text><text text-anchor=\"end\" transform=\"translate(-7,225.85714285714286)\" font-family=\"sans-serif\" font-size=\"10px\" fill=\"#000\" opacity=\"1\">2,200</text><text text-anchor=\"end\" transform=\"translate(-7,191.57142857142856)\" font-family=\"sans-serif\" font-size=\"10px\" fill=\"#000\" opacity=\"1\">2,400</text><text text-anchor=\"end\" transform=\"translate(-7,157.28571428571428)\" font-family=\"sans-serif\" font-size=\"10px\" fill=\"#000\" opacity=\"1\">2,600</text><text text-anchor=\"end\" transform=\"translate(-7,122.99999999999997)\" font-family=\"sans-serif\" font-size=\"10px\" fill=\"#000\" opacity=\"1\">2,800</text><text text-anchor=\"end\" transform=\"translate(-7,88.71428571428574)\" font-family=\"sans-serif\" font-size=\"10px\" fill=\"#000\" opacity=\"1\">3,000</text><text text-anchor=\"end\" transform=\"translate(-7,54.428571428571445)\" font-family=\"sans-serif\" font-size=\"10px\" fill=\"#000\" opacity=\"1\">3,200</text><text text-anchor=\"end\" transform=\"translate(-7,20.14285714285715)\" font-family=\"sans-serif\" font-size=\"10px\" fill=\"#000\" opacity=\"1\">3,400</text></g><g class=\"mark-rule role-axis-domain\" pointer-events=\"none\"><line transform=\"translate(0,600)\" x2=\"0\" y2=\"-600\" stroke=\"#888\" stroke-width=\"1\" opacity=\"1\"/></g><g class=\"mark-text role-axis-title\" pointer-events=\"none\"><text text-anchor=\"middle\" transform=\"translate(-34,300) rotate(-90) translate(0,-2)\" font-family=\"sans-serif\" font-size=\"11px\" font-weight=\"bold\" fill=\"#000\" opacity=\"1\">gen_sum</text></g></g><path class=\"foreground\" aria-hidden=\"true\" d=\"\" pointer-events=\"none\" display=\"none\"/></g></g><g class=\"mark-group role-scope pathgroup\" role=\"graphics-object\" aria-roledescription=\"group mark container\"><g transform=\"translate(0,0)\"><path class=\"background\" aria-hidden=\"true\" d=\"M0,0h600v600h-600Z\"/><g><g class=\"mark-area role-mark marks\" role=\"graphics-object\" aria-roledescription=\"area mark container\"><path aria-label=\"hour: 2401; gen_sum: 163.3088; resource: _onshore_wind_turbine\" role=\"graphics-symbol\" aria-roledescription=\"area mark\" d=\"M25,323.14285714285717L50,333.77142857142854L75,339.77142857142854L100,332.2285714285715L125,302.9142857142857L150,261.2571428571428L175,204.48342857142862L200,132.05828571428572L225,64.3611428571429L250,22.55657142857148L275,2.170285714285658L300,28.91314285714288L325,63.469714285714176L350,76.57714285714272L375,93.86399999999995L400,115.93714285714292L425,136.6834285714285L450,159.74399999999994L475,187.43657142857145L500,171.2571428571429L525,170.4L550,212.9142857142857L575,259.20000000000005L600,298.2857142857143L600,323.0436205714285L575,280.8804205714286L550,229.37976685714284L525,182.72859428571428L500,181.78773942857146L475,196.45640228571426L450,173.22152228571426L425,146.4866194285714L400,127.1503817142857L375,102.30190628571421L350,87.6672822857142L325,72.40001828571417L300,44.703442285714345L275,21.232045714285697L250,45.10987885714288L225,93.0507702857143L200,140.52230400000002L175,217.1999725714286L150,285.11605028571427L125,316.7275337142857L100,349.4662217142858L75,359.50464L50,362.878848L25,351.13865142857145Z\" fill=\"#1f77b4\"/></g></g><path class=\"foreground\" aria-hidden=\"true\" d=\"\" display=\"none\"/></g><g transform=\"translate(0,0)\"><path class=\"background\" aria-hidden=\"true\" d=\"M0,0h600v600h-600Z\"/><g><g class=\"mark-area role-mark marks\" role=\"graphics-object\" aria-roledescription=\"area mark container\"><path aria-label=\"hour: 2401; gen_sum: 3.184932; resource: _small_hydroelectric\" role=\"graphics-symbol\" aria-roledescription=\"area mark\" d=\"M25,351.13865142857145L50,362.878848L75,359.50464L100,349.4662217142858L125,316.7275337142857L150,285.11605028571427L175,217.1999725714286L200,140.52230400000002L225,93.0507702857143L250,45.10987885714288L275,21.232045714285697L300,44.703442285714345L325,72.40001828571417L350,87.6672822857142L375,102.30190628571421L400,127.1503817142857L425,146.4866194285714L450,173.22152228571426L475,196.45640228571426L500,181.78773942857146L525,182.72859428571428L550,229.37976685714284L575,280.8804205714286L600,323.0436205714285L600,323.58960891428563L575,281.42640891428573L550,229.92575520000003L525,183.2745826285714L500,182.33372777142858L475,197.00239062857145L450,173.7675106285714L425,147.0326077714286L400,127.6963700571429L375,102.8478946285714L350,88.21327062857138L325,72.94600662857135L300,45.249430628571474L275,21.778034057142893L250,45.655867200000074L225,93.59675862857142L200,141.06829234285715L175,217.74596091428572L150,285.6620386285714L125,317.2735220571428L100,350.0122100571429L75,360.0506283428571L50,363.42483634285713L25,351.6846397714286Z\" fill=\"#aec7e8\"/></g></g><path class=\"foreground\" aria-hidden=\"true\" d=\"\" display=\"none\"/></g><g transform=\"translate(0,0)\"><path class=\"background\" aria-hidden=\"true\" d=\"M0,0h600v600h-600Z\"/><g><g class=\"mark-area role-mark marks\" role=\"graphics-object\" aria-roledescription=\"area mark container\"><path aria-label=\"hour: 2401; gen_sum: 0; resource: _solar_photovoltaic\" role=\"graphics-symbol\" aria-roledescription=\"area mark\" d=\"M25,351.6846397714286L50,363.42483634285713L75,360.0506283428571L100,350.0122100571429L125,317.2735220571428L150,285.6620386285714L175,217.74596091428572L200,141.06829234285715L225,93.59675862857142L250,45.655867200000074L275,21.778034057142893L300,45.249430628571474L325,72.94600662857135L350,88.21327062857138L375,102.8478946285714L400,127.6963700571429L425,147.0326077714286L450,173.7675106285714L475,197.00239062857145L500,182.33372777142858L525,183.2745826285714L550,229.92575520000003L575,281.42640891428573L600,323.58960891428563L600,323.58960891428563L575,281.42640891428573L550,229.92575520000003L525,183.2745826285714L500,182.33372777142858L475,201.09096205714286L450,201.5046534857143L425,187.12975062857146L400,176.51065577142856L375,156.34218034285715L350,143.5418420571428L325,128.19743519999994L300,97.86943062857148L275,73.54089119999996L250,95.00158148571431L225,134.53390148571432L200,160.01972091428576L175,222.48596091428573L150,285.6620386285714L125,317.2735220571428L100,350.0122100571429L75,360.0506283428571L50,363.42483634285713L25,351.6846397714286Z\" fill=\"#ff7f0e\"/></g></g><path class=\"foreground\" aria-hidden=\"true\" d=\"\" display=\"none\"/></g><g transform=\"translate(0,0)\"><path class=\"background\" aria-hidden=\"true\" d=\"M0,0h600v600h-600Z\"/><g><g class=\"mark-area role-mark marks\" role=\"graphics-object\" aria-roledescription=\"area mark container\"><path aria-label=\"hour: 2401; gen_sum: 0; resource: _solar_photovoltaic_btm\" role=\"graphics-symbol\" aria-roledescription=\"area mark\" d=\"M25,351.6846397714286L50,363.42483634285713L75,360.0506283428571L100,350.0122100571429L125,317.2735220571428L150,285.6620386285714L175,222.48596091428573L200,160.01972091428576L225,134.53390148571432L250,95.00158148571431L275,73.54089119999996L300,97.86943062857148L325,128.19743519999994L350,143.5418420571428L375,156.34218034285715L400,176.51065577142856L425,187.12975062857146L450,201.5046534857143L475,201.09096205714286L500,182.33372777142858L525,183.2745826285714L550,229.92575520000003L575,281.42640891428573L600,323.58960891428563L600,323.58960891428563L575,281.42640891428573L550,229.92575520000003L525,183.2745826285714L500,182.33372777142858L475,205.9972477714286L450,234.7892249142857L425,235.24632205714286L400,235.08779862857142L375,220.53532320000002L350,209.93612777142854L325,194.4991494857143L300,161.01343062857148L275,135.65631977142857L250,154.2164386285715L225,183.65847291428574L200,182.76143520000002L175,228.17396091428574L150,285.6620386285714L125,317.2735220571428L100,350.0122100571429L75,360.0506283428571L50,363.42483634285713L25,351.6846397714286Z\" fill=\"#ffbb78\"/></g></g><path class=\"foreground\" aria-hidden=\"true\" d=\"\" display=\"none\"/></g><g transform=\"translate(0,0)\"><path class=\"background\" aria-hidden=\"true\" d=\"M0,0h600v600h-600Z\"/><g><g class=\"mark-area role-mark marks\" role=\"graphics-object\" aria-roledescription=\"area mark container\"><path aria-label=\"hour: 2401; gen_sum: 21.4; resource: biomass\" role=\"graphics-symbol\" aria-roledescription=\"area mark\" d=\"M25,351.6846397714286L50,363.42483634285713L75,360.0506283428571L100,350.0122100571429L125,317.2735220571428L150,285.6620386285714L175,228.17396091428574L200,182.76143520000002L225,183.65847291428574L250,154.2164386285715L275,135.65631977142857L300,161.01343062857148L325,194.4991494857143L350,209.93612777142854L375,220.53532320000002L400,235.08779862857142L425,235.24632205714286L450,234.7892249142857L475,205.9972477714286L500,182.33372777142858L525,183.2745826285714L550,229.92575520000003L575,281.42640891428573L600,323.58960891428563L600,327.2581803428571L575,285.0949803428572L550,233.59432662857148L525,186.94315405714286L500,186.0022992L475,209.66581920000002L450,238.45779634285716L425,238.91489348571432L400,238.75637005714285L375,224.20389462857148L350,213.60469919999997L325,198.16772091428575L300,164.6820020571429L275,139.3248912L250,157.88501005714295L225,187.3270443428572L200,186.43000662857148L175,231.8425323428572L150,289.33061005714285L125,320.9420934857143L100,353.68078148571436L75,363.7191997714286L50,367.0934077714286L25,355.35321120000003Z\" fill=\"#2ca02c\"/></g></g><path class=\"foreground\" aria-hidden=\"true\" d=\"\" display=\"none\"/></g><g transform=\"translate(0,0)\"><path class=\"background\" aria-hidden=\"true\" d=\"M0,0h600v600h-600Z\"/><g><g class=\"mark-area role-mark marks\" role=\"graphics-object\" aria-roledescription=\"area mark container\"><path aria-label=\"hour: 2401; gen_sum: 42; resource: hydroelectric_pumped_storage\" role=\"graphics-symbol\" aria-roledescription=\"area mark\" d=\"M25,355.35321120000003L50,367.0934077714286L75,363.7191997714286L100,353.68078148571436L125,320.9420934857143L150,289.33061005714285L175,231.8425323428572L200,186.43000662857148L225,187.3270443428572L250,157.88501005714295L275,139.3248912L300,164.6820020571429L325,198.16772091428575L350,213.60469919999997L375,224.20389462857148L400,238.75637005714285L425,238.91489348571432L450,238.45779634285716L475,209.66581920000002L500,186.0022992L525,186.94315405714286L550,233.59432662857148L575,285.0949803428572L600,327.2581803428571L600,334.4581803428571L575,292.2949803428572L550,240.79432662857147L525,194.14315405714285L500,193.20229920000003L475,216.86581920000003L450,245.65779634285715L425,246.1148934857143L400,245.95637005714286L375,231.40389462857146L350,220.8046992L325,205.36772091428574L300,171.88200205714293L275,146.5248912L250,165.08501005714288L225,194.52704434285718L200,193.6300066285715L175,239.04253234285713L150,296.53061005714284L125,328.14209348571427L100,360.88078148571435L75,370.91919977142857L50,374.2934077714286L25,362.5532112Z\" fill=\"#98df8a\"/></g></g><path class=\"foreground\" aria-hidden=\"true\" d=\"\" display=\"none\"/></g><g transform=\"translate(0,0)\"><path class=\"background\" aria-hidden=\"true\" d=\"M0,0h600v600h-600Z\"/><g><g class=\"mark-area role-mark marks\" role=\"graphics-object\" aria-roledescription=\"area mark container\"><path aria-label=\"hour: 2401; gen_sum: 1385.106268; resource: natural_gas_fired_combined_cycle\" role=\"graphics-symbol\" aria-roledescription=\"area mark\" d=\"M25,362.5532112L50,374.2934077714286L75,370.91919977142857L100,360.88078148571435L125,328.14209348571427L150,296.53061005714284L175,239.04253234285713L200,193.6300066285715L225,194.52704434285718L250,165.08501005714288L275,146.5248912L300,171.88200205714293L325,205.36772091428574L350,220.8046992L375,231.40389462857146L400,245.95637005714286L425,246.1148934857143L450,245.65779634285715L475,216.86581920000003L500,193.20229920000003L525,194.14315405714285L550,240.79432662857147L575,292.2949803428572L600,334.4581803428571L600,600L575,600L550,571.3943266285714L525,524.7431540571429L500,523.8022992L475,547.4658191999999L450,576.2577963428572L425,576.7148934857142L400,576.5563700571429L375,562.0038946285714L350,551.4046992L325,535.9677209142857L300,502.4820020571429L275,477.12489120000004L250,495.6850100571429L225,525.1270443428572L200,524.2300066285715L175,569.6425323428572L150,600L125,600L100,600L75,600L50,600L25,600Z\" fill=\"#d62728\"/></g></g><path class=\"foreground\" aria-hidden=\"true\" d=\"\" display=\"none\"/></g><g transform=\"translate(0,0)\"><path class=\"background\" aria-hidden=\"true\" d=\"M0,0h600v600h-600Z\"/><g><g class=\"mark-area role-mark marks\" role=\"graphics-object\" aria-roledescription=\"area mark container\"><path aria-label=\"hour: 2401; gen_sum: 0; resource: natural_gas_fired_combustion_turbine\" role=\"graphics-symbol\" aria-roledescription=\"area mark\" d=\"M25,600L50,600L75,600L100,600L125,600L150,600L175,569.6425323428572L200,524.2300066285715L225,525.1270443428572L250,495.6850100571429L275,477.12489120000004L300,502.4820020571429L325,535.9677209142857L350,551.4046992L375,562.0038946285714L400,576.5563700571429L425,576.7148934857142L450,576.2577963428572L475,547.4658191999999L500,523.8022992L525,524.7431540571429L550,571.3943266285714L575,600L600,600L600,600L575,600L550,600L525,600L500,600L475,600L450,600L425,600L400,600L375,600L350,600L325,600L300,600L275,600L250,600L225,600L200,600L175,600L150,600L125,600L100,600L75,600L50,600L25,600Z\" fill=\"#ff9896\"/></g></g><path class=\"foreground\" aria-hidden=\"true\" d=\"\" display=\"none\"/></g></g><g class=\"mark-group role-legend\" role=\"graphics-symbol\" aria-roledescription=\"legend\" aria-label=\"Symbol legend titled 'resource' for fill color with 8 values: _onshore_wind_turbine, _small_hydroelectric, _solar_photovoltaic, _solar_photovoltaic_btm, biomass, ending with natural_gas_fired_combustion_turbine\"><g transform=\"translate(618,0)\"><path class=\"background\" aria-hidden=\"true\" d=\"M0,0h173v118h-173Z\" pointer-events=\"none\"/><g><g class=\"mark-group role-legend-entry\"><g transform=\"translate(0,16)\"><path class=\"background\" aria-hidden=\"true\" d=\"M0,0h0v0h0Z\" pointer-events=\"none\"/><g><g class=\"mark-group role-scope\" role=\"graphics-object\" aria-roledescription=\"group mark container\"><g transform=\"translate(0,0)\"><path class=\"background\" aria-hidden=\"true\" d=\"M0,0h173v11h-173Z\" pointer-events=\"none\" opacity=\"1\"/><g><g class=\"mark-symbol role-legend-symbol\" pointer-events=\"none\"><path transform=\"translate(6,6)\" d=\"M5,0A5,5,0,1,1,-5,0A5,5,0,1,1,5,0\" fill=\"#1f77b4\" stroke-width=\"1.5\" opacity=\"1\"/></g><g class=\"mark-text role-legend-label\" pointer-events=\"none\"><text text-anchor=\"start\" transform=\"translate(16,9)\" font-family=\"sans-serif\" font-size=\"10px\" fill=\"#000\" opacity=\"1\">_onshore_wind_turbine</text></g></g><path class=\"foreground\" aria-hidden=\"true\" d=\"\" pointer-events=\"none\" display=\"none\"/></g><g transform=\"translate(0,13)\"><path class=\"background\" aria-hidden=\"true\" d=\"M0,0h173v11h-173Z\" pointer-events=\"none\" opacity=\"1\"/><g><g class=\"mark-symbol role-legend-symbol\" pointer-events=\"none\"><path transform=\"translate(6,6)\" d=\"M5,0A5,5,0,1,1,-5,0A5,5,0,1,1,5,0\" fill=\"#aec7e8\" stroke-width=\"1.5\" opacity=\"1\"/></g><g class=\"mark-text role-legend-label\" pointer-events=\"none\"><text text-anchor=\"start\" transform=\"translate(16,9)\" font-family=\"sans-serif\" font-size=\"10px\" fill=\"#000\" opacity=\"1\">_small_hydroelectric</text></g></g><path class=\"foreground\" aria-hidden=\"true\" d=\"\" pointer-events=\"none\" display=\"none\"/></g><g transform=\"translate(0,26)\"><path class=\"background\" aria-hidden=\"true\" d=\"M0,0h173v11h-173Z\" pointer-events=\"none\" opacity=\"1\"/><g><g class=\"mark-symbol role-legend-symbol\" pointer-events=\"none\"><path transform=\"translate(6,6)\" d=\"M5,0A5,5,0,1,1,-5,0A5,5,0,1,1,5,0\" fill=\"#ff7f0e\" stroke-width=\"1.5\" opacity=\"1\"/></g><g class=\"mark-text role-legend-label\" pointer-events=\"none\"><text text-anchor=\"start\" transform=\"translate(16,9)\" font-family=\"sans-serif\" font-size=\"10px\" fill=\"#000\" opacity=\"1\">_solar_photovoltaic</text></g></g><path class=\"foreground\" aria-hidden=\"true\" d=\"\" pointer-events=\"none\" display=\"none\"/></g><g transform=\"translate(0,39)\"><path class=\"background\" aria-hidden=\"true\" d=\"M0,0h173v11h-173Z\" pointer-events=\"none\" opacity=\"1\"/><g><g class=\"mark-symbol role-legend-symbol\" pointer-events=\"none\"><path transform=\"translate(6,6)\" d=\"M5,0A5,5,0,1,1,-5,0A5,5,0,1,1,5,0\" fill=\"#ffbb78\" stroke-width=\"1.5\" opacity=\"1\"/></g><g class=\"mark-text role-legend-label\" pointer-events=\"none\"><text text-anchor=\"start\" transform=\"translate(16,9)\" font-family=\"sans-serif\" font-size=\"10px\" fill=\"#000\" opacity=\"1\">_solar_photovoltaic_btm</text></g></g><path class=\"foreground\" aria-hidden=\"true\" d=\"\" pointer-events=\"none\" display=\"none\"/></g><g transform=\"translate(0,52)\"><path class=\"background\" aria-hidden=\"true\" d=\"M0,0h173v11h-173Z\" pointer-events=\"none\" opacity=\"1\"/><g><g class=\"mark-symbol role-legend-symbol\" pointer-events=\"none\"><path transform=\"translate(6,6)\" d=\"M5,0A5,5,0,1,1,-5,0A5,5,0,1,1,5,0\" fill=\"#2ca02c\" stroke-width=\"1.5\" opacity=\"1\"/></g><g class=\"mark-text role-legend-label\" pointer-events=\"none\"><text text-anchor=\"start\" transform=\"translate(16,9)\" font-family=\"sans-serif\" font-size=\"10px\" fill=\"#000\" opacity=\"1\">biomass</text></g></g><path class=\"foreground\" aria-hidden=\"true\" d=\"\" pointer-events=\"none\" display=\"none\"/></g><g transform=\"translate(0,65)\"><path class=\"background\" aria-hidden=\"true\" d=\"M0,0h173v11h-173Z\" pointer-events=\"none\" opacity=\"1\"/><g><g class=\"mark-symbol role-legend-symbol\" pointer-events=\"none\"><path transform=\"translate(6,6)\" d=\"M5,0A5,5,0,1,1,-5,0A5,5,0,1,1,5,0\" fill=\"#98df8a\" stroke-width=\"1.5\" opacity=\"1\"/></g><g class=\"mark-text role-legend-label\" pointer-events=\"none\"><text text-anchor=\"start\" transform=\"translate(16,9)\" font-family=\"sans-serif\" font-size=\"10px\" fill=\"#000\" opacity=\"1\">hydroelectric_pumped_storage</text></g></g><path class=\"foreground\" aria-hidden=\"true\" d=\"\" pointer-events=\"none\" display=\"none\"/></g><g transform=\"translate(0,78)\"><path class=\"background\" aria-hidden=\"true\" d=\"M0,0h173v11h-173Z\" pointer-events=\"none\" opacity=\"1\"/><g><g class=\"mark-symbol role-legend-symbol\" pointer-events=\"none\"><path transform=\"translate(6,6)\" d=\"M5,0A5,5,0,1,1,-5,0A5,5,0,1,1,5,0\" fill=\"#d62728\" stroke-width=\"1.5\" opacity=\"1\"/></g><g class=\"mark-text role-legend-label\" pointer-events=\"none\"><text text-anchor=\"start\" transform=\"translate(16,9)\" font-family=\"sans-serif\" font-size=\"10px\" fill=\"#000\" opacity=\"1\">natural_gas_fired_combined_cycle</text></g></g><path class=\"foreground\" aria-hidden=\"true\" d=\"\" pointer-events=\"none\" display=\"none\"/></g><g transform=\"translate(0,91)\"><path class=\"background\" aria-hidden=\"true\" d=\"M0,0h173v11h-173Z\" pointer-events=\"none\" opacity=\"1\"/><g><g class=\"mark-symbol role-legend-symbol\" pointer-events=\"none\"><path transform=\"translate(6,6)\" d=\"M5,0A5,5,0,1,1,-5,0A5,5,0,1,1,5,0\" fill=\"#ff9896\" stroke-width=\"1.5\" opacity=\"1\"/></g><g class=\"mark-text role-legend-label\" pointer-events=\"none\"><text text-anchor=\"start\" transform=\"translate(16,9)\" font-family=\"sans-serif\" font-size=\"10px\" fill=\"#000\" opacity=\"1\">natural_gas_fired_combustion_tur…</text></g></g><path class=\"foreground\" aria-hidden=\"true\" d=\"\" pointer-events=\"none\" display=\"none\"/></g></g></g><path class=\"foreground\" aria-hidden=\"true\" d=\"\" pointer-events=\"none\" display=\"none\"/></g></g><g class=\"mark-text role-legend-title\" pointer-events=\"none\"><text text-anchor=\"start\" transform=\"translate(0,9)\" font-family=\"sans-serif\" font-size=\"11px\" font-weight=\"bold\" fill=\"#000\" opacity=\"1\">resource</text></g></g><path class=\"foreground\" aria-hidden=\"true\" d=\"\" pointer-events=\"none\" display=\"none\"/></g></g></g><path class=\"foreground\" aria-hidden=\"true\" d=\"\" display=\"none\"/></g></g></g></svg>\n"
      ],
      "text/plain": [
       "@vlplot(\n",
       "    width=600,\n",
       "    height=600,\n",
       "    mark=\"area\",\n",
       "    encoding={\n",
       "        x={\n",
       "            field=\"hour\"\n",
       "        },\n",
       "        y={\n",
       "            stack=\"zero\",\n",
       "            field=\"gen_sum\"\n",
       "        },\n",
       "        color={\n",
       "            scale={\n",
       "                scheme=\"category20\"\n",
       "            },\n",
       "            field=\"resource\",\n",
       "            type=\"nominal\"\n",
       "        }\n",
       "    },\n",
       "    data={\n",
       "        values=...\n",
       "    }\n",
       ")"
      ]
     },
     "execution_count": 41,
     "metadata": {},
     "output_type": "execute_result"
    }
   ],
   "source": [
    "solution = economic_dispatch_multi_time(gen_df, loads_multi, gen_variable_multi);\n",
    "\n",
    "sol_gen = innerjoin(solution.solution, \n",
    "                    gen_df[!, [:r_id, :resource]], \n",
    "                    on = :r_id)\n",
    "sol_gen = combine(groupby(sol_gen, [:resource, :hour]), \n",
    "            :gen => sum)\n",
    "sol_gen_btm = sol_gen\n",
    "sol_gen_btm[sol_gen_btm.resource .== \"solar_photovoltaic\", :resource] .= \"_solar_photovoltaic\"\n",
    "sol_gen_btm[sol_gen_btm.resource .== \"onshore_wind_turbine\", :resource] .= \"_onshore_wind_turbine\"\n",
    "sol_gen_btm[sol_gen_btm.resource .== \"small_hydroelectric\", :resource] .= \"_small_hydroelectric\"\n",
    "\n",
    "btm = DataFrame(resource = repeat([\"_solar_photovoltaic_btm\"]; outer=length(T_period)), \n",
    "    hour = T_period,\n",
    "    gen_sum = gen_variable_multi[gen_variable_multi.gen_full .== \"wec_sdge_solar_photovoltaic_1.0\",:cf] * 600)\n",
    "append!(sol_gen_btm, btm)\n",
    "\n",
    "# Reorder resources\n",
    "sort!(sol_gen_btm, [:hour, :resource])\n",
    "\n",
    "sol_gen_btm |>\n",
    "@vlplot(:area, \n",
    "    x=:hour, y={:gen_sum, stack=:zero}, \n",
    "    color={\"resource:n\", scale={scheme=\"category20\"}},\n",
    "    width=600,height=600)"
   ]
  },
  {
   "cell_type": "code",
   "execution_count": 42,
   "id": "f0788343",
   "metadata": {},
   "outputs": [
    {
     "name": "stdout",
     "output_type": "stream",
     "text": [
      "All errors:\n",
      "===========================================\n",
      "ArgumentError: Package ImageIO [82e4d734-157c-48bb-816b-45c225c6df19] is required but does not seem to be installed:\n",
      " - Run `Pkg.instantiate()` to install all recorded dependencies.\n",
      "\n",
      "===========================================\n",
      "ArgumentError: Package ImageMagick [6218d12a-5da1-5696-b52f-db25d2ecc6d1] is required but does not seem to be installed:\n",
      " - Run `Pkg.instantiate()` to install all recorded dependencies.\n",
      "\n",
      "===========================================\n",
      "ArgumentError: Argument does not support conversion to png.\n",
      "===========================================\n"
     ]
    },
    {
     "name": "stderr",
     "output_type": "stream",
     "text": [
      "Errors encountered while save File{DataFormat{:PNG}, String}(\"results/ED_moderate.png\").\n",
      "\n",
      "Fatal error:\n"
     ]
    },
    {
     "ename": "LoadError",
     "evalue": "ArgumentError: Package ImageIO [82e4d734-157c-48bb-816b-45c225c6df19] is required but does not seem to be installed:\n - Run `Pkg.instantiate()` to install all recorded dependencies.\n\nStacktrace:\n  [1] \u001b[0m\u001b[1m_require\u001b[22m\u001b[0m\u001b[1m(\u001b[22m\u001b[90mpkg\u001b[39m::\u001b[0mBase.PkgId\u001b[0m\u001b[1m)\u001b[22m\n\u001b[90m    @ \u001b[39m\u001b[90mBase\u001b[39m \u001b[90m.\\\u001b[39m\u001b[90m\u001b[4mloading.jl:1306\u001b[24m\u001b[39m\n  [2] \u001b[0m\u001b[1m_require_prelocked\u001b[22m\u001b[0m\u001b[1m(\u001b[22m\u001b[90muuidkey\u001b[39m::\u001b[0mBase.PkgId\u001b[0m\u001b[1m)\u001b[22m\n\u001b[90m    @ \u001b[39m\u001b[90mBase\u001b[39m \u001b[90m.\\\u001b[39m\u001b[90m\u001b[4mloading.jl:1200\u001b[24m\u001b[39m\n  [3] \u001b[0m\u001b[1mmacro expansion\u001b[22m\n\u001b[90m    @ \u001b[39m\u001b[90m.\\\u001b[39m\u001b[90m\u001b[4mlock.jl:223\u001b[24m\u001b[39m\u001b[90m [inlined]\u001b[39m\n  [4] \u001b[0m\u001b[1mrequire\u001b[22m\u001b[0m\u001b[1m(\u001b[22m\u001b[90muuidkey\u001b[39m::\u001b[0mBase.PkgId\u001b[0m\u001b[1m)\u001b[22m\n\u001b[90m    @ \u001b[39m\u001b[90mBase\u001b[39m \u001b[90m.\\\u001b[39m\u001b[90m\u001b[4mloading.jl:1195\u001b[24m\u001b[39m\n  [5] \u001b[0m\u001b[1m#34\u001b[22m\n\u001b[90m    @ \u001b[39m\u001b[90mC:\\Users\\user\\.julia\\packages\\FileIO\\aP78L\\src\\\u001b[39m\u001b[90m\u001b[4mloadsave.jl:203\u001b[24m\u001b[39m\u001b[90m [inlined]\u001b[39m\n  [6] \u001b[0m\u001b[1mlock\u001b[22m\u001b[0m\u001b[1m(\u001b[22m\u001b[90mf\u001b[39m::\u001b[0mFileIO.var\"#34#35\"\u001b[90m{Base.PkgId}\u001b[39m, \u001b[90ml\u001b[39m::\u001b[0mReentrantLock\u001b[0m\u001b[1m)\u001b[22m\n\u001b[90m    @ \u001b[39m\u001b[90mBase\u001b[39m \u001b[90m.\\\u001b[39m\u001b[90m\u001b[4mlock.jl:185\u001b[24m\u001b[39m\n  [7] \u001b[0m\u001b[1maction\u001b[22m\u001b[0m\u001b[1m(\u001b[22m\u001b[90mcall\u001b[39m::\u001b[0mSymbol, \u001b[90mlibraries\u001b[39m::\u001b[0mVector\u001b[90m{Union{Base.PkgId, Module}}\u001b[39m, \u001b[90mfile\u001b[39m::\u001b[0mFileIO.Formatted, \u001b[90margs\u001b[39m::\u001b[0mDataFrame; \u001b[90moptions\u001b[39m::\u001b[0mBase.Pairs\u001b[90m{Symbol, Union{}, Tuple{}, NamedTuple{(), Tuple{}}}\u001b[39m\u001b[0m\u001b[1m)\u001b[22m\n\u001b[90m    @ \u001b[39m\u001b[35mFileIO\u001b[39m \u001b[90mC:\\Users\\user\\.julia\\packages\\FileIO\\aP78L\\src\\\u001b[39m\u001b[90m\u001b[4mloadsave.jl:203\u001b[24m\u001b[39m\n  [8] \u001b[0m\u001b[1maction\u001b[22m\n\u001b[90m    @ \u001b[39m\u001b[90mC:\\Users\\user\\.julia\\packages\\FileIO\\aP78L\\src\\\u001b[39m\u001b[90m\u001b[4mloadsave.jl:196\u001b[24m\u001b[39m\u001b[90m [inlined]\u001b[39m\n  [9] \u001b[0m\u001b[1maction\u001b[22m\u001b[0m\u001b[1m(\u001b[22m\u001b[90mcall\u001b[39m::\u001b[0mSymbol, \u001b[90mlibraries\u001b[39m::\u001b[0mVector\u001b[90m{Union{Base.PkgId, Module}}\u001b[39m, \u001b[90msym\u001b[39m::\u001b[0mSymbol, \u001b[90mfile\u001b[39m::\u001b[0mString, \u001b[90margs\u001b[39m::\u001b[0mDataFrame; \u001b[90moptions\u001b[39m::\u001b[0mBase.Pairs\u001b[90m{Symbol, Union{}, Tuple{}, NamedTuple{(), Tuple{}}}\u001b[39m\u001b[0m\u001b[1m)\u001b[22m\n\u001b[90m    @ \u001b[39m\u001b[35mFileIO\u001b[39m \u001b[90mC:\\Users\\user\\.julia\\packages\\FileIO\\aP78L\\src\\\u001b[39m\u001b[90m\u001b[4mloadsave.jl:185\u001b[24m\u001b[39m\n [10] \u001b[0m\u001b[1maction\u001b[22m\n\u001b[90m    @ \u001b[39m\u001b[90mC:\\Users\\user\\.julia\\packages\\FileIO\\aP78L\\src\\\u001b[39m\u001b[90m\u001b[4mloadsave.jl:185\u001b[24m\u001b[39m\u001b[90m [inlined]\u001b[39m\n [11] \u001b[0m\u001b[1m#27\u001b[22m\n\u001b[90m    @ \u001b[39m\u001b[90mC:\\Users\\user\\.julia\\packages\\FileIO\\aP78L\\src\\\u001b[39m\u001b[90m\u001b[4mloadsave.jl:149\u001b[24m\u001b[39m\u001b[90m [inlined]\u001b[39m\n [12] \u001b[0m\u001b[1m|>\u001b[22m\u001b[0m\u001b[1m(\u001b[22m\u001b[90mx\u001b[39m::\u001b[0mDataFrame, \u001b[90mf\u001b[39m::\u001b[0mFileIO.var\"#27#28\"\u001b[90m{Base.Pairs{Symbol, Union{}, Tuple{}, NamedTuple{(), Tuple{}}}, String, Vector{Union{Base.PkgId, Module}}, Symbol}\u001b[39m\u001b[0m\u001b[1m)\u001b[22m\n\u001b[90m    @ \u001b[39m\u001b[90mBase\u001b[39m \u001b[90m.\\\u001b[39m\u001b[90m\u001b[4moperators.jl:911\u001b[24m\u001b[39m\n [13] top-level scope\n\u001b[90m    @ \u001b[39m\u001b[90m\u001b[4mIn[42]:2\u001b[24m\u001b[39m",
     "output_type": "error",
     "traceback": [
      "ArgumentError: Package ImageIO [82e4d734-157c-48bb-816b-45c225c6df19] is required but does not seem to be installed:\n - Run `Pkg.instantiate()` to install all recorded dependencies.\n\nStacktrace:\n  [1] \u001b[0m\u001b[1m_require\u001b[22m\u001b[0m\u001b[1m(\u001b[22m\u001b[90mpkg\u001b[39m::\u001b[0mBase.PkgId\u001b[0m\u001b[1m)\u001b[22m\n\u001b[90m    @ \u001b[39m\u001b[90mBase\u001b[39m \u001b[90m.\\\u001b[39m\u001b[90m\u001b[4mloading.jl:1306\u001b[24m\u001b[39m\n  [2] \u001b[0m\u001b[1m_require_prelocked\u001b[22m\u001b[0m\u001b[1m(\u001b[22m\u001b[90muuidkey\u001b[39m::\u001b[0mBase.PkgId\u001b[0m\u001b[1m)\u001b[22m\n\u001b[90m    @ \u001b[39m\u001b[90mBase\u001b[39m \u001b[90m.\\\u001b[39m\u001b[90m\u001b[4mloading.jl:1200\u001b[24m\u001b[39m\n  [3] \u001b[0m\u001b[1mmacro expansion\u001b[22m\n\u001b[90m    @ \u001b[39m\u001b[90m.\\\u001b[39m\u001b[90m\u001b[4mlock.jl:223\u001b[24m\u001b[39m\u001b[90m [inlined]\u001b[39m\n  [4] \u001b[0m\u001b[1mrequire\u001b[22m\u001b[0m\u001b[1m(\u001b[22m\u001b[90muuidkey\u001b[39m::\u001b[0mBase.PkgId\u001b[0m\u001b[1m)\u001b[22m\n\u001b[90m    @ \u001b[39m\u001b[90mBase\u001b[39m \u001b[90m.\\\u001b[39m\u001b[90m\u001b[4mloading.jl:1195\u001b[24m\u001b[39m\n  [5] \u001b[0m\u001b[1m#34\u001b[22m\n\u001b[90m    @ \u001b[39m\u001b[90mC:\\Users\\user\\.julia\\packages\\FileIO\\aP78L\\src\\\u001b[39m\u001b[90m\u001b[4mloadsave.jl:203\u001b[24m\u001b[39m\u001b[90m [inlined]\u001b[39m\n  [6] \u001b[0m\u001b[1mlock\u001b[22m\u001b[0m\u001b[1m(\u001b[22m\u001b[90mf\u001b[39m::\u001b[0mFileIO.var\"#34#35\"\u001b[90m{Base.PkgId}\u001b[39m, \u001b[90ml\u001b[39m::\u001b[0mReentrantLock\u001b[0m\u001b[1m)\u001b[22m\n\u001b[90m    @ \u001b[39m\u001b[90mBase\u001b[39m \u001b[90m.\\\u001b[39m\u001b[90m\u001b[4mlock.jl:185\u001b[24m\u001b[39m\n  [7] \u001b[0m\u001b[1maction\u001b[22m\u001b[0m\u001b[1m(\u001b[22m\u001b[90mcall\u001b[39m::\u001b[0mSymbol, \u001b[90mlibraries\u001b[39m::\u001b[0mVector\u001b[90m{Union{Base.PkgId, Module}}\u001b[39m, \u001b[90mfile\u001b[39m::\u001b[0mFileIO.Formatted, \u001b[90margs\u001b[39m::\u001b[0mDataFrame; \u001b[90moptions\u001b[39m::\u001b[0mBase.Pairs\u001b[90m{Symbol, Union{}, Tuple{}, NamedTuple{(), Tuple{}}}\u001b[39m\u001b[0m\u001b[1m)\u001b[22m\n\u001b[90m    @ \u001b[39m\u001b[35mFileIO\u001b[39m \u001b[90mC:\\Users\\user\\.julia\\packages\\FileIO\\aP78L\\src\\\u001b[39m\u001b[90m\u001b[4mloadsave.jl:203\u001b[24m\u001b[39m\n  [8] \u001b[0m\u001b[1maction\u001b[22m\n\u001b[90m    @ \u001b[39m\u001b[90mC:\\Users\\user\\.julia\\packages\\FileIO\\aP78L\\src\\\u001b[39m\u001b[90m\u001b[4mloadsave.jl:196\u001b[24m\u001b[39m\u001b[90m [inlined]\u001b[39m\n  [9] \u001b[0m\u001b[1maction\u001b[22m\u001b[0m\u001b[1m(\u001b[22m\u001b[90mcall\u001b[39m::\u001b[0mSymbol, \u001b[90mlibraries\u001b[39m::\u001b[0mVector\u001b[90m{Union{Base.PkgId, Module}}\u001b[39m, \u001b[90msym\u001b[39m::\u001b[0mSymbol, \u001b[90mfile\u001b[39m::\u001b[0mString, \u001b[90margs\u001b[39m::\u001b[0mDataFrame; \u001b[90moptions\u001b[39m::\u001b[0mBase.Pairs\u001b[90m{Symbol, Union{}, Tuple{}, NamedTuple{(), Tuple{}}}\u001b[39m\u001b[0m\u001b[1m)\u001b[22m\n\u001b[90m    @ \u001b[39m\u001b[35mFileIO\u001b[39m \u001b[90mC:\\Users\\user\\.julia\\packages\\FileIO\\aP78L\\src\\\u001b[39m\u001b[90m\u001b[4mloadsave.jl:185\u001b[24m\u001b[39m\n [10] \u001b[0m\u001b[1maction\u001b[22m\n\u001b[90m    @ \u001b[39m\u001b[90mC:\\Users\\user\\.julia\\packages\\FileIO\\aP78L\\src\\\u001b[39m\u001b[90m\u001b[4mloadsave.jl:185\u001b[24m\u001b[39m\u001b[90m [inlined]\u001b[39m\n [11] \u001b[0m\u001b[1m#27\u001b[22m\n\u001b[90m    @ \u001b[39m\u001b[90mC:\\Users\\user\\.julia\\packages\\FileIO\\aP78L\\src\\\u001b[39m\u001b[90m\u001b[4mloadsave.jl:149\u001b[24m\u001b[39m\u001b[90m [inlined]\u001b[39m\n [12] \u001b[0m\u001b[1m|>\u001b[22m\u001b[0m\u001b[1m(\u001b[22m\u001b[90mx\u001b[39m::\u001b[0mDataFrame, \u001b[90mf\u001b[39m::\u001b[0mFileIO.var\"#27#28\"\u001b[90m{Base.Pairs{Symbol, Union{}, Tuple{}, NamedTuple{(), Tuple{}}}, String, Vector{Union{Base.PkgId, Module}}, Symbol}\u001b[39m\u001b[0m\u001b[1m)\u001b[22m\n\u001b[90m    @ \u001b[39m\u001b[90mBase\u001b[39m \u001b[90m.\\\u001b[39m\u001b[90m\u001b[4moperators.jl:911\u001b[24m\u001b[39m\n [13] top-level scope\n\u001b[90m    @ \u001b[39m\u001b[90m\u001b[4mIn[42]:2\u001b[24m\u001b[39m",
      "",
      "Stacktrace:",
      " [1] handle_error(e::ArgumentError, q::Base.PkgId, bt::Vector{Union{Ptr{Nothing}, Base.InterpreterIP}})",
      "   @ FileIO C:\\Users\\user\\.julia\\packages\\FileIO\\aP78L\\src\\error_handling.jl:61",
      " [2] handle_exceptions(exceptions::Vector{Tuple{Any, Union{Base.PkgId, Module}, Vector}}, action::String)",
      "   @ FileIO C:\\Users\\user\\.julia\\packages\\FileIO\\aP78L\\src\\error_handling.jl:56",
      " [3] action(call::Symbol, libraries::Vector{Union{Base.PkgId, Module}}, file::FileIO.Formatted, args::DataFrame; options::Base.Pairs{Symbol, Union{}, Tuple{}, NamedTuple{(), Tuple{}}})",
      "   @ FileIO C:\\Users\\user\\.julia\\packages\\FileIO\\aP78L\\src\\loadsave.jl:228",
      " [4] action",
      "   @ C:\\Users\\user\\.julia\\packages\\FileIO\\aP78L\\src\\loadsave.jl:196 [inlined]",
      " [5] action(call::Symbol, libraries::Vector{Union{Base.PkgId, Module}}, sym::Symbol, file::String, args::DataFrame; options::Base.Pairs{Symbol, Union{}, Tuple{}, NamedTuple{(), Tuple{}}})",
      "   @ FileIO C:\\Users\\user\\.julia\\packages\\FileIO\\aP78L\\src\\loadsave.jl:185",
      " [6] action",
      "   @ C:\\Users\\user\\.julia\\packages\\FileIO\\aP78L\\src\\loadsave.jl:185 [inlined]",
      " [7] #27",
      "   @ C:\\Users\\user\\.julia\\packages\\FileIO\\aP78L\\src\\loadsave.jl:149 [inlined]",
      " [8] |>(x::DataFrame, f::FileIO.var\"#27#28\"{Base.Pairs{Symbol, Union{}, Tuple{}, NamedTuple{(), Tuple{}}}, String, Vector{Union{Base.PkgId, Module}}, Symbol})",
      "   @ Base .\\operators.jl:911",
      " [9] top-level scope",
      "   @ In[42]:2"
     ]
    }
   ],
   "source": [
    "# Save this stacked dispatch plot to file if you want to\n",
    "sol_gen_btm |> FileIO.save(\"results/ED_moderate.png\")"
   ]
  },
  {
   "cell_type": "code",
   "execution_count": 43,
   "id": "a00985fe",
   "metadata": {},
   "outputs": [
    {
     "name": "stdout",
     "output_type": "stream",
     "text": [
      "Running HiGHS 1.4.0 [date: 1970-01-01, git hash: bcf6c0b22]\n",
      "Copyright (c) 2022 ERGO-Code under MIT licence terms\n",
      "Presolving model\n",
      "208 rows, 589 cols, 957 nonzeros\n",
      "116 rows, 528 cols, 712 nonzeros\n",
      "116 rows, 528 cols, 712 nonzeros\n",
      "Presolve : Reductions: rows 116(-1658); columns 528(-72); elements 712(-2788)\n",
      "Solving the presolved LP\n",
      "Using EKK dual simplex solver - serial\n",
      "  Iteration        Objective     Infeasibilities num(sum)\n",
      "          0     0.0000000000e+00 Pr: 24(54962.6) 0s\n",
      "         35     8.0426374437e+05 Pr: 0(0) 0s\n",
      "Solving the original LP from the solution after postsolve\n",
      "Model   status      : Optimal\n",
      "Simplex   iterations: 35\n",
      "Objective value     :  8.0426374437e+05\n",
      "HiGHS run time      :          0.01\n"
     ]
    },
    {
     "data": {
      "application/vnd.vegalite.v4+json": {
       "data": {
        "values": [
         {
          "gen_sum": 163.3088,
          "hour": 2401,
          "resource": "_onshore_wind_turbine"
         },
         {
          "gen_sum": 3.184932,
          "hour": 2401,
          "resource": "_small_hydroelectric"
         },
         {
          "gen_sum": 0,
          "hour": 2401,
          "resource": "_solar_photovoltaic"
         },
         {
          "gen_sum": 0,
          "hour": 2401,
          "resource": "_solar_photovoltaic_btm"
         },
         {
          "gen_sum": 21.4,
          "hour": 2401,
          "resource": "biomass"
         },
         {
          "gen_sum": 42,
          "hour": 2401,
          "resource": "hydroelectric_pumped_storage"
         },
         {
          "gen_sum": 1385.106268,
          "hour": 2401,
          "resource": "natural_gas_fired_combined_cycle"
         },
         {
          "gen_sum": 0,
          "hour": 2401,
          "resource": "natural_gas_fired_combustion_turbine"
         },
         {
          "gen_sum": 169.79327999999998,
          "hour": 2402,
          "resource": "_onshore_wind_turbine"
         },
         {
          "gen_sum": 3.184932,
          "hour": 2402,
          "resource": "_small_hydroelectric"
         },
         {
          "gen_sum": 0,
          "hour": 2402,
          "resource": "_solar_photovoltaic"
         },
         {
          "gen_sum": 0,
          "hour": 2402,
          "resource": "_solar_photovoltaic_btm"
         },
         {
          "gen_sum": 21.4,
          "hour": 2402,
          "resource": "biomass"
         },
         {
          "gen_sum": 42,
          "hour": 2402,
          "resource": "hydroelectric_pumped_storage"
         },
         {
          "gen_sum": 1316.621788,
          "hour": 2402,
          "resource": "natural_gas_fired_combined_cycle"
         },
         {
          "gen_sum": 0,
          "hour": 2402,
          "resource": "natural_gas_fired_combustion_turbine"
         },
         {
          "gen_sum": 115.1104,
          "hour": 2403,
          "resource": "_onshore_wind_turbine"
         },
         {
          "gen_sum": 3.184932,
          "hour": 2403,
          "resource": "_small_hydroelectric"
         },
         {
          "gen_sum": 0,
          "hour": 2403,
          "resource": "_solar_photovoltaic"
         },
         {
          "gen_sum": 0,
          "hour": 2403,
          "resource": "_solar_photovoltaic_btm"
         },
         {
          "gen_sum": 21.4,
          "hour": 2403,
          "resource": "biomass"
         },
         {
          "gen_sum": 42,
          "hour": 2403,
          "resource": "hydroelectric_pumped_storage"
         },
         {
          "gen_sum": 1336.304668,
          "hour": 2403,
          "resource": "natural_gas_fired_combined_cycle"
         },
         {
          "gen_sum": 0,
          "hour": 2403,
          "resource": "natural_gas_fired_combustion_turbine"
         },
         {
          "gen_sum": 100.55296,
          "hour": 2404,
          "resource": "_onshore_wind_turbine"
         },
         {
          "gen_sum": 3.184932,
          "hour": 2404,
          "resource": "_small_hydroelectric"
         },
         {
          "gen_sum": 0,
          "hour": 2404,
          "resource": "_solar_photovoltaic"
         },
         {
          "gen_sum": 0,
          "hour": 2404,
          "resource": "_solar_photovoltaic_btm"
         },
         {
          "gen_sum": 21.4,
          "hour": 2404,
          "resource": "biomass"
         },
         {
          "gen_sum": 42,
          "hour": 2404,
          "resource": "hydroelectric_pumped_storage"
         },
         {
          "gen_sum": 1394.8621079999998,
          "hour": 2404,
          "resource": "natural_gas_fired_combined_cycle"
         },
         {
          "gen_sum": 0,
          "hour": 2404,
          "resource": "natural_gas_fired_combustion_turbine"
         },
         {
          "gen_sum": 80.57728,
          "hour": 2405,
          "resource": "_onshore_wind_turbine"
         },
         {
          "gen_sum": 3.184932,
          "hour": 2405,
          "resource": "_small_hydroelectric"
         },
         {
          "gen_sum": 0,
          "hour": 2405,
          "resource": "_solar_photovoltaic"
         },
         {
          "gen_sum": 0,
          "hour": 2405,
          "resource": "_solar_photovoltaic_btm"
         },
         {
          "gen_sum": 21.4,
          "hour": 2405,
          "resource": "biomass"
         },
         {
          "gen_sum": 42,
          "hour": 2405,
          "resource": "hydroelectric_pumped_storage"
         },
         {
          "gen_sum": 1585.837788,
          "hour": 2405,
          "resource": "natural_gas_fired_combined_cycle"
         },
         {
          "gen_sum": 0,
          "hour": 2405,
          "resource": "natural_gas_fired_combustion_turbine"
         },
         {
          "gen_sum": 139.17695999999998,
          "hour": 2406,
          "resource": "_onshore_wind_turbine"
         },
         {
          "gen_sum": 3.184932,
          "hour": 2406,
          "resource": "_small_hydroelectric"
         },
         {
          "gen_sum": 0,
          "hour": 2406,
          "resource": "_solar_photovoltaic"
         },
         {
          "gen_sum": 0,
          "hour": 2406,
          "resource": "_solar_photovoltaic_btm"
         },
         {
          "gen_sum": 21.4,
          "hour": 2406,
          "resource": "biomass"
         },
         {
          "gen_sum": 42,
          "hour": 2406,
          "resource": "hydroelectric_pumped_storage"
         },
         {
          "gen_sum": 1770.238108,
          "hour": 2406,
          "resource": "natural_gas_fired_combined_cycle"
         },
         {
          "gen_sum": 0,
          "hour": 2406,
          "resource": "natural_gas_fired_combustion_turbine"
         },
         {
          "gen_sum": 74.17984,
          "hour": 2407,
          "resource": "_onshore_wind_turbine"
         },
         {
          "gen_sum": 3.184932,
          "hour": 2407,
          "resource": "_small_hydroelectric"
         },
         {
          "gen_sum": 193.55,
          "hour": 2407,
          "resource": "_solar_photovoltaic"
         },
         {
          "gen_sum": 33.18,
          "hour": 2407,
          "resource": "_solar_photovoltaic_btm"
         },
         {
          "gen_sum": 21.4,
          "hour": 2407,
          "resource": "biomass"
         },
         {
          "gen_sum": 42,
          "hour": 2407,
          "resource": "hydroelectric_pumped_storage"
         },
         {
          "gen_sum": 1928.5,
          "hour": 2407,
          "resource": "natural_gas_fired_combined_cycle"
         },
         {
          "gen_sum": 11.185227999999896,
          "hour": 2407,
          "resource": "natural_gas_fired_combustion_turbine"
         },
         {
          "gen_sum": 49.373439999999995,
          "hour": 2408,
          "resource": "_onshore_wind_turbine"
         },
         {
          "gen_sum": 3.184932,
          "hour": 2408,
          "resource": "_small_hydroelectric"
         },
         {
          "gen_sum": 773.85,
          "hour": 2408,
          "resource": "_solar_photovoltaic"
         },
         {
          "gen_sum": 132.66,
          "hour": 2408,
          "resource": "_solar_photovoltaic_btm"
         },
         {
          "gen_sum": 21.4,
          "hour": 2408,
          "resource": "biomass"
         },
         {
          "gen_sum": 42,
          "hour": 2408,
          "resource": "hydroelectric_pumped_storage"
         },
         {
          "gen_sum": 1707.1916279999998,
          "hour": 2408,
          "resource": "natural_gas_fired_combined_cycle"
         },
         {
          "gen_sum": 0,
          "hour": 2408,
          "resource": "natural_gas_fired_combustion_turbine"
         },
         {
          "gen_sum": 167.35616,
          "hour": 2409,
          "resource": "_onshore_wind_turbine"
         },
         {
          "gen_sum": 3.184932,
          "hour": 2409,
          "resource": "_small_hydroelectric"
         },
         {
          "gen_sum": 1671.6000000000001,
          "hour": 2409,
          "resource": "_solar_photovoltaic"
         },
         {
          "gen_sum": 286.56,
          "hour": 2409,
          "resource": "_solar_photovoltaic_btm"
         },
         {
          "gen_sum": 21.4,
          "hour": 2409,
          "resource": "biomass"
         },
         {
          "gen_sum": 42,
          "hour": 2409,
          "resource": "hydroelectric_pumped_storage"
         },
         {
          "gen_sum": 932.458908,
          "hour": 2409,
          "resource": "natural_gas_fired_combined_cycle"
         },
         {
          "gen_sum": 0,
          "hour": 2409,
          "resource": "natural_gas_fired_combustion_turbine"
         },
         {
          "gen_sum": 131.56096,
          "hour": 2410,
          "resource": "_onshore_wind_turbine"
         },
         {
          "gen_sum": 3.184932,
          "hour": 2410,
          "resource": "_small_hydroelectric"
         },
         {
          "gen_sum": 2014.95,
          "hour": 2410,
          "resource": "_solar_photovoltaic"
         },
         {
          "gen_sum": 345.42,
          "hour": 2410,
          "resource": "_solar_photovoltaic_btm"
         },
         {
          "gen_sum": 21.4,
          "hour": 2410,
          "resource": "biomass"
         },
         {
          "gen_sum": 42,
          "hour": 2410,
          "resource": "hydroelectric_pumped_storage"
         },
         {
          "gen_sum": 809.9041079999998,
          "hour": 2410,
          "resource": "natural_gas_fired_combined_cycle"
         },
         {
          "gen_sum": 0,
          "hour": 2410,
          "resource": "natural_gas_fired_combustion_turbine"
         },
         {
          "gen_sum": 111.1936,
          "hour": 2411,
          "resource": "_onshore_wind_turbine"
         },
         {
          "gen_sum": 3.184932,
          "hour": 2411,
          "resource": "_small_hydroelectric"
         },
         {
          "gen_sum": 2113.65,
          "hour": 2411,
          "resource": "_solar_photovoltaic"
         },
         {
          "gen_sum": 362.34,
          "hour": 2411,
          "resource": "_solar_photovoltaic_btm"
         },
         {
          "gen_sum": 21.4,
          "hour": 2411,
          "resource": "biomass"
         },
         {
          "gen_sum": 42,
          "hour": 2411,
          "resource": "hydroelectric_pumped_storage"
         },
         {
          "gen_sum": 833.5714679999999,
          "hour": 2411,
          "resource": "natural_gas_fired_combined_cycle"
         },
         {
          "gen_sum": 0,
          "hour": 2411,
          "resource": "natural_gas_fired_combustion_turbine"
         },
         {
          "gen_sum": 92.11008,
          "hour": 2412,
          "resource": "_onshore_wind_turbine"
         },
         {
          "gen_sum": 3.184932,
          "hour": 2412,
          "resource": "_small_hydroelectric"
         },
         {
          "gen_sum": 2148.65,
          "hour": 2412,
          "resource": "_solar_photovoltaic"
         },
         {
          "gen_sum": 368.34,
          "hour": 2412,
          "resource": "_solar_photovoltaic_btm"
         },
         {
          "gen_sum": 21.4,
          "hour": 2412,
          "resource": "biomass"
         },
         {
          "gen_sum": 42,
          "hour": 2412,
          "resource": "hydroelectric_pumped_storage"
         },
         {
          "gen_sum": 655.6549879999998,
          "hour": 2412,
          "resource": "natural_gas_fired_combined_cycle"
         },
         {
          "gen_sum": 0,
          "hour": 2412,
          "resource": "natural_gas_fired_combustion_turbine"
         },
         {
          "gen_sum": 52.09344,
          "hour": 2413,
          "resource": "_onshore_wind_turbine"
         },
         {
          "gen_sum": 3.184932,
          "hour": 2413,
          "resource": "_small_hydroelectric"
         },
         {
          "gen_sum": 2256.1,
          "hour": 2413,
          "resource": "_solar_photovoltaic"
         },
         {
          "gen_sum": 386.76,
          "hour": 2413,
          "resource": "_solar_photovoltaic_btm"
         },
         {
          "gen_sum": 21.4,
          "hour": 2413,
          "resource": "biomass"
         },
         {
          "gen_sum": 42,
          "hour": 2413,
          "resource": "hydroelectric_pumped_storage"
         },
         {
          "gen_sum": 368.221628,
          "hour": 2413,
          "resource": "natural_gas_fired_combined_cycle"
         },
         {
          "gen_sum": 0,
          "hour": 2413,
          "resource": "natural_gas_fired_combustion_turbine"
         },
         {
          "gen_sum": 64.69248,
          "hour": 2414,
          "resource": "_onshore_wind_turbine"
         },
         {
          "gen_sum": 3.184932,
          "hour": 2414,
          "resource": "_small_hydroelectric"
         },
         {
          "gen_sum": 2259.25,
          "hour": 2414,
          "resource": "_solar_photovoltaic"
         },
         {
          "gen_sum": 387.29999999999995,
          "hour": 2414,
          "resource": "_solar_photovoltaic_btm"
         },
         {
          "gen_sum": 21.4,
          "hour": 2414,
          "resource": "biomass"
         },
         {
          "gen_sum": 42,
          "hour": 2414,
          "resource": "hydroelectric_pumped_storage"
         },
         {
          "gen_sum": 275.4725879999999,
          "hour": 2414,
          "resource": "natural_gas_fired_combined_cycle"
         },
         {
          "gen_sum": 0,
          "hour": 2414,
          "resource": "natural_gas_fired_combustion_turbine"
         },
         {
          "gen_sum": 49.22112,
          "hour": 2415,
          "resource": "_onshore_wind_turbine"
         },
         {
          "gen_sum": 3.184932,
          "hour": 2415,
          "resource": "_small_hydroelectric"
         },
         {
          "gen_sum": 2184.35,
          "hour": 2415,
          "resource": "_solar_photovoltaic"
         },
         {
          "gen_sum": 374.46,
          "hour": 2415,
          "resource": "_solar_photovoltaic_btm"
         },
         {
          "gen_sum": 21.4,
          "hour": 2415,
          "resource": "biomass"
         },
         {
          "gen_sum": 42,
          "hour": 2415,
          "resource": "hydroelectric_pumped_storage"
         },
         {
          "gen_sum": 277.843948,
          "hour": 2415,
          "resource": "natural_gas_fired_combined_cycle"
         },
         {
          "gen_sum": 0,
          "hour": 2415,
          "resource": "natural_gas_fired_combustion_turbine"
         },
         {
          "gen_sum": 65.41055999999999,
          "hour": 2416,
          "resource": "_onshore_wind_turbine"
         },
         {
          "gen_sum": 3.184932,
          "hour": 2416,
          "resource": "_small_hydroelectric"
         },
         {
          "gen_sum": 1993.25,
          "hour": 2416,
          "resource": "_solar_photovoltaic"
         },
         {
          "gen_sum": 341.7,
          "hour": 2416,
          "resource": "_solar_photovoltaic_btm"
         },
         {
          "gen_sum": 21.4,
          "hour": 2416,
          "resource": "biomass"
         },
         {
          "gen_sum": 42,
          "hour": 2416,
          "resource": "hydroelectric_pumped_storage"
         },
         {
          "gen_sum": 356.75450799999993,
          "hour": 2416,
          "resource": "natural_gas_fired_combined_cycle"
         },
         {
          "gen_sum": 0,
          "hour": 2416,
          "resource": "natural_gas_fired_combustion_turbine"
         },
         {
          "gen_sum": 57.18527999999999,
          "hour": 2417,
          "resource": "_onshore_wind_turbine"
         },
         {
          "gen_sum": 3.184932,
          "hour": 2417,
          "resource": "_small_hydroelectric"
         },
         {
          "gen_sum": 1637.3,
          "hour": 2417,
          "resource": "_solar_photovoltaic"
         },
         {
          "gen_sum": 280.68,
          "hour": 2417,
          "resource": "_solar_photovoltaic_btm"
         },
         {
          "gen_sum": 21.4,
          "hour": 2417,
          "resource": "biomass"
         },
         {
          "gen_sum": 42,
          "hour": 2417,
          "resource": "hydroelectric_pumped_storage"
         },
         {
          "gen_sum": 660.9297879999999,
          "hour": 2417,
          "resource": "natural_gas_fired_combined_cycle"
         },
         {
          "gen_sum": 0,
          "hour": 2417,
          "resource": "natural_gas_fired_combustion_turbine"
         },
         {
          "gen_sum": 78.61888,
          "hour": 2418,
          "resource": "_onshore_wind_turbine"
         },
         {
          "gen_sum": 3.184932,
          "hour": 2418,
          "resource": "_small_hydroelectric"
         },
         {
          "gen_sum": 1132.6,
          "hour": 2418,
          "resource": "_solar_photovoltaic"
         },
         {
          "gen_sum": 194.16,
          "hour": 2418,
          "resource": "_solar_photovoltaic_btm"
         },
         {
          "gen_sum": 21.4,
          "hour": 2418,
          "resource": "biomass"
         },
         {
          "gen_sum": 42,
          "hour": 2418,
          "resource": "hydroelectric_pumped_storage"
         },
         {
          "gen_sum": 1096.196188,
          "hour": 2418,
          "resource": "natural_gas_fired_combined_cycle"
         },
         {
          "gen_sum": 0,
          "hour": 2418,
          "resource": "natural_gas_fired_combustion_turbine"
         },
         {
          "gen_sum": 52.61568,
          "hour": 2419,
          "resource": "_onshore_wind_turbine"
         },
         {
          "gen_sum": 3.184932,
          "hour": 2419,
          "resource": "_small_hydroelectric"
         },
         {
          "gen_sum": 166.95,
          "hour": 2419,
          "resource": "_solar_photovoltaic"
         },
         {
          "gen_sum": 28.62,
          "hour": 2419,
          "resource": "_solar_photovoltaic_btm"
         },
         {
          "gen_sum": 21.4,
          "hour": 2419,
          "resource": "biomass"
         },
         {
          "gen_sum": 42,
          "hour": 2419,
          "resource": "hydroelectric_pumped_storage"
         },
         {
          "gen_sum": 1912.62,
          "hour": 2419,
          "resource": "natural_gas_fired_combined_cycle"
         },
         {
          "gen_sum": 179.22938800000003,
          "hour": 2419,
          "resource": "natural_gas_fired_combustion_turbine"
         },
         {
          "gen_sum": 61.42848,
          "hour": 2420,
          "resource": "_onshore_wind_turbine"
         },
         {
          "gen_sum": 3.184932,
          "hour": 2420,
          "resource": "_small_hydroelectric"
         },
         {
          "gen_sum": 0,
          "hour": 2420,
          "resource": "_solar_photovoltaic"
         },
         {
          "gen_sum": 0,
          "hour": 2420,
          "resource": "_solar_photovoltaic_btm"
         },
         {
          "gen_sum": 21.4,
          "hour": 2420,
          "resource": "biomass"
         },
         {
          "gen_sum": 42,
          "hour": 2420,
          "resource": "hydroelectric_pumped_storage"
         },
         {
          "gen_sum": 1928.5,
          "hour": 2420,
          "resource": "natural_gas_fired_combined_cycle"
         },
         {
          "gen_sum": 444.48658799999987,
          "hour": 2420,
          "resource": "natural_gas_fired_combustion_turbine"
         },
         {
          "gen_sum": 71.9168,
          "hour": 2421,
          "resource": "_onshore_wind_turbine"
         },
         {
          "gen_sum": 3.184932,
          "hour": 2421,
          "resource": "_small_hydroelectric"
         },
         {
          "gen_sum": 0,
          "hour": 2421,
          "resource": "_solar_photovoltaic"
         },
         {
          "gen_sum": 0,
          "hour": 2421,
          "resource": "_solar_photovoltaic_btm"
         },
         {
          "gen_sum": 21.4,
          "hour": 2421,
          "resource": "biomass"
         },
         {
          "gen_sum": 42,
          "hour": 2421,
          "resource": "hydroelectric_pumped_storage"
         },
         {
          "gen_sum": 1928.5,
          "hour": 2421,
          "resource": "natural_gas_fired_combined_cycle"
         },
         {
          "gen_sum": 438.99826799999994,
          "hour": 2421,
          "resource": "natural_gas_fired_combustion_turbine"
         },
         {
          "gen_sum": 96.04864,
          "hour": 2422,
          "resource": "_onshore_wind_turbine"
         },
         {
          "gen_sum": 3.184932,
          "hour": 2422,
          "resource": "_small_hydroelectric"
         },
         {
          "gen_sum": 0,
          "hour": 2422,
          "resource": "_solar_photovoltaic"
         },
         {
          "gen_sum": 0,
          "hour": 2422,
          "resource": "_solar_photovoltaic_btm"
         },
         {
          "gen_sum": 21.4,
          "hour": 2422,
          "resource": "biomass"
         },
         {
          "gen_sum": 42,
          "hour": 2422,
          "resource": "hydroelectric_pumped_storage"
         },
         {
          "gen_sum": 1928.5,
          "hour": 2422,
          "resource": "natural_gas_fired_combined_cycle"
         },
         {
          "gen_sum": 166.8664279999999,
          "hour": 2422,
          "resource": "natural_gas_fired_combustion_turbine"
         },
         {
          "gen_sum": 126.46912,
          "hour": 2423,
          "resource": "_onshore_wind_turbine"
         },
         {
          "gen_sum": 3.184932,
          "hour": 2423,
          "resource": "_small_hydroelectric"
         },
         {
          "gen_sum": 0,
          "hour": 2423,
          "resource": "_solar_photovoltaic"
         },
         {
          "gen_sum": 0,
          "hour": 2423,
          "resource": "_solar_photovoltaic_btm"
         },
         {
          "gen_sum": 21.4,
          "hour": 2423,
          "resource": "biomass"
         },
         {
          "gen_sum": 42,
          "hour": 2423,
          "resource": "hydroelectric_pumped_storage"
         },
         {
          "gen_sum": 1794.9459479999998,
          "hour": 2423,
          "resource": "natural_gas_fired_combined_cycle"
         },
         {
          "gen_sum": 0,
          "hour": 2423,
          "resource": "natural_gas_fired_combustion_turbine"
         },
         {
          "gen_sum": 144.42111999999997,
          "hour": 2424,
          "resource": "_onshore_wind_turbine"
         },
         {
          "gen_sum": 3.184932,
          "hour": 2424,
          "resource": "_small_hydroelectric"
         },
         {
          "gen_sum": 0,
          "hour": 2424,
          "resource": "_solar_photovoltaic"
         },
         {
          "gen_sum": 0,
          "hour": 2424,
          "resource": "_solar_photovoltaic_btm"
         },
         {
          "gen_sum": 21.4,
          "hour": 2424,
          "resource": "biomass"
         },
         {
          "gen_sum": 42,
          "hour": 2424,
          "resource": "hydroelectric_pumped_storage"
         },
         {
          "gen_sum": 1548.993948,
          "hour": 2424,
          "resource": "natural_gas_fired_combined_cycle"
         },
         {
          "gen_sum": 0,
          "hour": 2424,
          "resource": "natural_gas_fired_combustion_turbine"
         }
        ]
       },
       "encoding": {
        "color": {
         "field": "resource",
         "scale": {
          "scheme": "category20"
         },
         "type": "nominal"
        },
        "x": {
         "field": "hour",
         "type": "quantitative"
        },
        "y": {
         "field": "gen_sum",
         "stack": "zero",
         "type": "quantitative"
        }
       },
       "height": 600,
       "mark": "area",
       "width": 600
      },
      "image/png": "[encoded data removed]",
      "image/svg+xml": [
       "<?xml version=\"1.0\" encoding=\"utf-8\"?>\n",
       "<!DOCTYPE svg PUBLIC \"-//W3C//DTD SVG 1.1//EN\" \"http://www.w3.org/Graphics/SVG/1.1/DTD/svg11.dtd\">\n",
       "<svg xmlns=\"http://www.w3.org/2000/svg\" xmlns:xlink=\"http://www.w3.org/1999/xlink\" version=\"1.1\" class=\"marks\" width=\"846\" height=\"642\" viewBox=\"0 0 846 642\"><rect width=\"846\" height=\"642\" fill=\"white\"/><g fill=\"none\" stroke-miterlimit=\"10\" transform=\"translate(50,5)\"><g class=\"mark-group role-frame root\" role=\"graphics-object\" aria-roledescription=\"group mark container\"><g transform=\"translate(0,0)\"><path class=\"background\" aria-hidden=\"true\" d=\"M0.5,0.5h600v600h-600Z\" stroke=\"#ddd\"/><g><g class=\"mark-group role-axis\" aria-hidden=\"true\"><g transform=\"translate(0.5,600.5)\"><path class=\"background\" aria-hidden=\"true\" d=\"M0,0h0v0h0Z\" pointer-events=\"none\"/><g><g class=\"mark-rule role-axis-grid\" pointer-events=\"none\"><line transform=\"translate(0,-600)\" x2=\"0\" y2=\"600\" stroke=\"#ddd\" stroke-width=\"1\" opacity=\"1\"/><line transform=\"translate(50,-600)\" x2=\"0\" y2=\"600\" stroke=\"#ddd\" stroke-width=\"1\" opacity=\"1\"/><line transform=\"translate(100,-600)\" x2=\"0\" y2=\"600\" stroke=\"#ddd\" stroke-width=\"1\" opacity=\"1\"/><line transform=\"translate(150,-600)\" x2=\"0\" y2=\"600\" stroke=\"#ddd\" stroke-width=\"1\" opacity=\"1\"/><line transform=\"translate(200,-600)\" x2=\"0\" y2=\"600\" stroke=\"#ddd\" stroke-width=\"1\" opacity=\"1\"/><line transform=\"translate(250,-600)\" x2=\"0\" y2=\"600\" stroke=\"#ddd\" stroke-width=\"1\" opacity=\"1\"/><line transform=\"translate(300,-600)\" x2=\"0\" y2=\"600\" stroke=\"#ddd\" stroke-width=\"1\" opacity=\"1\"/><line transform=\"translate(350,-600)\" x2=\"0\" y2=\"600\" stroke=\"#ddd\" stroke-width=\"1\" opacity=\"1\"/><line transform=\"translate(400,-600)\" x2=\"0\" y2=\"600\" stroke=\"#ddd\" stroke-width=\"1\" opacity=\"1\"/><line transform=\"translate(450,-600)\" x2=\"0\" y2=\"600\" stroke=\"#ddd\" stroke-width=\"1\" opacity=\"1\"/><line transform=\"translate(500,-600)\" x2=\"0\" y2=\"600\" stroke=\"#ddd\" stroke-width=\"1\" opacity=\"1\"/><line transform=\"translate(550,-600)\" x2=\"0\" y2=\"600\" stroke=\"#ddd\" stroke-width=\"1\" opacity=\"1\"/><line transform=\"translate(600,-600)\" x2=\"0\" y2=\"600\" stroke=\"#ddd\" stroke-width=\"1\" opacity=\"1\"/></g></g><path class=\"foreground\" aria-hidden=\"true\" d=\"\" pointer-events=\"none\" display=\"none\"/></g></g><g class=\"mark-group role-axis\" aria-hidden=\"true\"><g transform=\"translate(0.5,0.5)\"><path class=\"background\" aria-hidden=\"true\" d=\"M0,0h0v0h0Z\" pointer-events=\"none\"/><g><g class=\"mark-rule role-axis-grid\" pointer-events=\"none\"><line transform=\"translate(0,600)\" x2=\"600\" y2=\"0\" stroke=\"#ddd\" stroke-width=\"1\" opacity=\"1\"/><line transform=\"translate(0,566)\" x2=\"600\" y2=\"0\" stroke=\"#ddd\" stroke-width=\"1\" opacity=\"1\"/><line transform=\"translate(0,531)\" x2=\"600\" y2=\"0\" stroke=\"#ddd\" stroke-width=\"1\" opacity=\"1\"/><line transform=\"translate(0,497)\" x2=\"600\" y2=\"0\" stroke=\"#ddd\" stroke-width=\"1\" opacity=\"1\"/><line transform=\"translate(0,463)\" x2=\"600\" y2=\"0\" stroke=\"#ddd\" stroke-width=\"1\" opacity=\"1\"/><line transform=\"translate(0,429)\" x2=\"600\" y2=\"0\" stroke=\"#ddd\" stroke-width=\"1\" opacity=\"1\"/><line transform=\"translate(0,394)\" x2=\"600\" y2=\"0\" stroke=\"#ddd\" stroke-width=\"1\" opacity=\"1\"/><line transform=\"translate(0,360)\" x2=\"600\" y2=\"0\" stroke=\"#ddd\" stroke-width=\"1\" opacity=\"1\"/><line transform=\"translate(0,326)\" x2=\"600\" y2=\"0\" stroke=\"#ddd\" stroke-width=\"1\" opacity=\"1\"/><line transform=\"translate(0,291)\" x2=\"600\" y2=\"0\" stroke=\"#ddd\" stroke-width=\"1\" opacity=\"1\"/><line transform=\"translate(0,257)\" x2=\"600\" y2=\"0\" stroke=\"#ddd\" stroke-width=\"1\" opacity=\"1\"/><line transform=\"translate(0,223)\" x2=\"600\" y2=\"0\" stroke=\"#ddd\" stroke-width=\"1\" opacity=\"1\"/><line transform=\"translate(0,189)\" x2=\"600\" y2=\"0\" stroke=\"#ddd\" stroke-width=\"1\" opacity=\"1\"/><line transform=\"translate(0,154)\" x2=\"600\" y2=\"0\" stroke=\"#ddd\" stroke-width=\"1\" opacity=\"1\"/><line transform=\"translate(0,120)\" x2=\"600\" y2=\"0\" stroke=\"#ddd\" stroke-width=\"1\" opacity=\"1\"/><line transform=\"translate(0,86)\" x2=\"600\" y2=\"0\" stroke=\"#ddd\" stroke-width=\"1\" opacity=\"1\"/><line transform=\"translate(0,51)\" x2=\"600\" y2=\"0\" stroke=\"#ddd\" stroke-width=\"1\" opacity=\"1\"/><line transform=\"translate(0,17)\" x2=\"600\" y2=\"0\" stroke=\"#ddd\" stroke-width=\"1\" opacity=\"1\"/></g></g><path class=\"foreground\" aria-hidden=\"true\" d=\"\" pointer-events=\"none\" display=\"none\"/></g></g><g class=\"mark-group role-axis\" role=\"graphics-symbol\" aria-roledescription=\"axis\" aria-label=\"X-axis titled 'hour' for a linear scale with values from 2,400 to 2,424\"><g transform=\"translate(0.5,600.5)\"><path class=\"background\" aria-hidden=\"true\" d=\"M0,0h0v0h0Z\" pointer-events=\"none\"/><g><g class=\"mark-rule role-axis-tick\" pointer-events=\"none\"><line transform=\"translate(0,0)\" x2=\"0\" y2=\"5\" stroke=\"#888\" stroke-width=\"1\" opacity=\"1\"/><line transform=\"translate(50,0)\" x2=\"0\" y2=\"5\" stroke=\"#888\" stroke-width=\"1\" opacity=\"1\"/><line transform=\"translate(100,0)\" x2=\"0\" y2=\"5\" stroke=\"#888\" stroke-width=\"1\" opacity=\"1\"/><line transform=\"translate(150,0)\" x2=\"0\" y2=\"5\" stroke=\"#888\" stroke-width=\"1\" opacity=\"1\"/><line transform=\"translate(200,0)\" x2=\"0\" y2=\"5\" stroke=\"#888\" stroke-width=\"1\" opacity=\"1\"/><line transform=\"translate(250,0)\" x2=\"0\" y2=\"5\" stroke=\"#888\" stroke-width=\"1\" opacity=\"1\"/><line transform=\"translate(300,0)\" x2=\"0\" y2=\"5\" stroke=\"#888\" stroke-width=\"1\" opacity=\"1\"/><line transform=\"translate(350,0)\" x2=\"0\" y2=\"5\" stroke=\"#888\" stroke-width=\"1\" opacity=\"1\"/><line transform=\"translate(400,0)\" x2=\"0\" y2=\"5\" stroke=\"#888\" stroke-width=\"1\" opacity=\"1\"/><line transform=\"translate(450,0)\" x2=\"0\" y2=\"5\" stroke=\"#888\" stroke-width=\"1\" opacity=\"1\"/><line transform=\"translate(500,0)\" x2=\"0\" y2=\"5\" stroke=\"#888\" stroke-width=\"1\" opacity=\"1\"/><line transform=\"translate(550,0)\" x2=\"0\" y2=\"5\" stroke=\"#888\" stroke-width=\"1\" opacity=\"1\"/><line transform=\"translate(600,0)\" x2=\"0\" y2=\"5\" stroke=\"#888\" stroke-width=\"1\" opacity=\"1\"/></g><g class=\"mark-text role-axis-label\" pointer-events=\"none\"><text text-anchor=\"start\" transform=\"translate(0,15)\" font-family=\"sans-serif\" font-size=\"10px\" fill=\"#000\" opacity=\"1\">2,400</text><text text-anchor=\"middle\" transform=\"translate(50,15)\" font-family=\"sans-serif\" font-size=\"10px\" fill=\"#000\" opacity=\"1\">2,402</text><text text-anchor=\"middle\" transform=\"translate(100,15)\" font-family=\"sans-serif\" font-size=\"10px\" fill=\"#000\" opacity=\"1\">2,404</text><text text-anchor=\"middle\" transform=\"translate(150,15)\" font-family=\"sans-serif\" font-size=\"10px\" fill=\"#000\" opacity=\"1\">2,406</text><text text-anchor=\"middle\" transform=\"translate(200,15)\" font-family=\"sans-serif\" font-size=\"10px\" fill=\"#000\" opacity=\"1\">2,408</text><text text-anchor=\"middle\" transform=\"translate(250,15)\" font-family=\"sans-serif\" font-size=\"10px\" fill=\"#000\" opacity=\"1\">2,410</text><text text-anchor=\"middle\" transform=\"translate(300,15)\" font-family=\"sans-serif\" font-size=\"10px\" fill=\"#000\" opacity=\"1\">2,412</text><text text-anchor=\"middle\" transform=\"translate(350,15)\" font-family=\"sans-serif\" font-size=\"10px\" fill=\"#000\" opacity=\"1\">2,414</text><text text-anchor=\"middle\" transform=\"translate(400,15)\" font-family=\"sans-serif\" font-size=\"10px\" fill=\"#000\" opacity=\"1\">2,416</text><text text-anchor=\"middle\" transform=\"translate(450,15)\" font-family=\"sans-serif\" font-size=\"10px\" fill=\"#000\" opacity=\"1\">2,418</text><text text-anchor=\"middle\" transform=\"translate(500,15)\" font-family=\"sans-serif\" font-size=\"10px\" fill=\"#000\" opacity=\"1\">2,420</text><text text-anchor=\"middle\" transform=\"translate(550,15)\" font-family=\"sans-serif\" font-size=\"10px\" fill=\"#000\" opacity=\"1\">2,422</text><text text-anchor=\"end\" transform=\"translate(600,15)\" font-family=\"sans-serif\" font-size=\"10px\" fill=\"#000\" opacity=\"1\">2,424</text></g><g class=\"mark-rule role-axis-domain\" pointer-events=\"none\"><line transform=\"translate(0,0)\" x2=\"600\" y2=\"0\" stroke=\"#888\" stroke-width=\"1\" opacity=\"1\"/></g><g class=\"mark-text role-axis-title\" pointer-events=\"none\"><text text-anchor=\"middle\" transform=\"translate(300,30)\" font-family=\"sans-serif\" font-size=\"11px\" font-weight=\"bold\" fill=\"#000\" opacity=\"1\">hour</text></g></g><path class=\"foreground\" aria-hidden=\"true\" d=\"\" pointer-events=\"none\" display=\"none\"/></g></g><g class=\"mark-group role-axis\" role=\"graphics-symbol\" aria-roledescription=\"axis\" aria-label=\"Y-axis titled 'gen_sum' for a linear scale with values from 0 to 3,500\"><g transform=\"translate(0.5,0.5)\"><path class=\"background\" aria-hidden=\"true\" d=\"M0,0h0v0h0Z\" pointer-events=\"none\"/><g><g class=\"mark-rule role-axis-tick\" pointer-events=\"none\"><line transform=\"translate(0,600)\" x2=\"-5\" y2=\"0\" stroke=\"#888\" stroke-width=\"1\" opacity=\"1\"/><line transform=\"translate(0,566)\" x2=\"-5\" y2=\"0\" stroke=\"#888\" stroke-width=\"1\" opacity=\"1\"/><line transform=\"translate(0,531)\" x2=\"-5\" y2=\"0\" stroke=\"#888\" stroke-width=\"1\" opacity=\"1\"/><line transform=\"translate(0,497)\" x2=\"-5\" y2=\"0\" stroke=\"#888\" stroke-width=\"1\" opacity=\"1\"/><line transform=\"translate(0,463)\" x2=\"-5\" y2=\"0\" stroke=\"#888\" stroke-width=\"1\" opacity=\"1\"/><line transform=\"translate(0,429)\" x2=\"-5\" y2=\"0\" stroke=\"#888\" stroke-width=\"1\" opacity=\"1\"/><line transform=\"translate(0,394)\" x2=\"-5\" y2=\"0\" stroke=\"#888\" stroke-width=\"1\" opacity=\"1\"/><line transform=\"translate(0,360)\" x2=\"-5\" y2=\"0\" stroke=\"#888\" stroke-width=\"1\" opacity=\"1\"/><line transform=\"translate(0,326)\" x2=\"-5\" y2=\"0\" stroke=\"#888\" stroke-width=\"1\" opacity=\"1\"/><line transform=\"translate(0,291)\" x2=\"-5\" y2=\"0\" stroke=\"#888\" stroke-width=\"1\" opacity=\"1\"/><line transform=\"translate(0,257)\" x2=\"-5\" y2=\"0\" stroke=\"#888\" stroke-width=\"1\" opacity=\"1\"/><line transform=\"translate(0,223)\" x2=\"-5\" y2=\"0\" stroke=\"#888\" stroke-width=\"1\" opacity=\"1\"/><line transform=\"translate(0,189)\" x2=\"-5\" y2=\"0\" stroke=\"#888\" stroke-width=\"1\" opacity=\"1\"/><line transform=\"translate(0,154)\" x2=\"-5\" y2=\"0\" stroke=\"#888\" stroke-width=\"1\" opacity=\"1\"/><line transform=\"translate(0,120)\" x2=\"-5\" y2=\"0\" stroke=\"#888\" stroke-width=\"1\" opacity=\"1\"/><line transform=\"translate(0,86)\" x2=\"-5\" y2=\"0\" stroke=\"#888\" stroke-width=\"1\" opacity=\"1\"/><line transform=\"translate(0,51)\" x2=\"-5\" y2=\"0\" stroke=\"#888\" stroke-width=\"1\" opacity=\"1\"/><line transform=\"translate(0,17)\" x2=\"-5\" y2=\"0\" stroke=\"#888\" stroke-width=\"1\" opacity=\"1\"/></g><g class=\"mark-text role-axis-label\" pointer-events=\"none\"><text text-anchor=\"end\" transform=\"translate(-7,603)\" font-family=\"sans-serif\" font-size=\"10px\" fill=\"#000\" opacity=\"1\">0</text><text text-anchor=\"end\" transform=\"translate(-7,568.7142857142857)\" font-family=\"sans-serif\" font-size=\"10px\" fill=\"#000\" opacity=\"1\">200</text><text text-anchor=\"end\" transform=\"translate(-7,534.4285714285714)\" font-family=\"sans-serif\" font-size=\"10px\" fill=\"#000\" opacity=\"1\">400</text><text text-anchor=\"end\" transform=\"translate(-7,500.1428571428571)\" font-family=\"sans-serif\" font-size=\"10px\" fill=\"#000\" opacity=\"1\">600</text><text text-anchor=\"end\" transform=\"translate(-7,465.8571428571429)\" font-family=\"sans-serif\" font-size=\"10px\" fill=\"#000\" opacity=\"1\">800</text><text text-anchor=\"end\" transform=\"translate(-7,431.57142857142856)\" font-family=\"sans-serif\" font-size=\"10px\" fill=\"#000\" opacity=\"1\">1,000</text><text text-anchor=\"end\" transform=\"translate(-7,397.2857142857143)\" font-family=\"sans-serif\" font-size=\"10px\" fill=\"#000\" opacity=\"1\">1,200</text><text text-anchor=\"end\" transform=\"translate(-7,363)\" font-family=\"sans-serif\" font-size=\"10px\" fill=\"#000\" opacity=\"1\">1,400</text><text text-anchor=\"end\" transform=\"translate(-7,328.7142857142858)\" font-family=\"sans-serif\" font-size=\"10px\" fill=\"#000\" opacity=\"1\">1,600</text><text text-anchor=\"end\" transform=\"translate(-7,294.42857142857144)\" font-family=\"sans-serif\" font-size=\"10px\" fill=\"#000\" opacity=\"1\">1,800</text><text text-anchor=\"end\" transform=\"translate(-7,260.14285714285717)\" font-family=\"sans-serif\" font-size=\"10px\" fill=\"#000\" opacity=\"1\">2,000</text><text text-anchor=\"end\" transform=\"translate(-7,225.85714285714286)\" font-family=\"sans-serif\" font-size=\"10px\" fill=\"#000\" opacity=\"1\">2,200</text><text text-anchor=\"end\" transform=\"translate(-7,191.57142857142856)\" font-family=\"sans-serif\" font-size=\"10px\" fill=\"#000\" opacity=\"1\">2,400</text><text text-anchor=\"end\" transform=\"translate(-7,157.28571428571428)\" font-family=\"sans-serif\" font-size=\"10px\" fill=\"#000\" opacity=\"1\">2,600</text><text text-anchor=\"end\" transform=\"translate(-7,122.99999999999997)\" font-family=\"sans-serif\" font-size=\"10px\" fill=\"#000\" opacity=\"1\">2,800</text><text text-anchor=\"end\" transform=\"translate(-7,88.71428571428574)\" font-family=\"sans-serif\" font-size=\"10px\" fill=\"#000\" opacity=\"1\">3,000</text><text text-anchor=\"end\" transform=\"translate(-7,54.428571428571445)\" font-family=\"sans-serif\" font-size=\"10px\" fill=\"#000\" opacity=\"1\">3,200</text><text text-anchor=\"end\" transform=\"translate(-7,20.14285714285715)\" font-family=\"sans-serif\" font-size=\"10px\" fill=\"#000\" opacity=\"1\">3,400</text></g><g class=\"mark-rule role-axis-domain\" pointer-events=\"none\"><line transform=\"translate(0,600)\" x2=\"0\" y2=\"-600\" stroke=\"#888\" stroke-width=\"1\" opacity=\"1\"/></g><g class=\"mark-text role-axis-title\" pointer-events=\"none\"><text text-anchor=\"middle\" transform=\"translate(-34,300) rotate(-90) translate(0,-2)\" font-family=\"sans-serif\" font-size=\"11px\" font-weight=\"bold\" fill=\"#000\" opacity=\"1\">gen_sum</text></g></g><path class=\"foreground\" aria-hidden=\"true\" d=\"\" pointer-events=\"none\" display=\"none\"/></g></g><g class=\"mark-group role-scope pathgroup\" role=\"graphics-object\" aria-roledescription=\"group mark container\"><g transform=\"translate(0,0)\"><path class=\"background\" aria-hidden=\"true\" d=\"M0,0h600v600h-600Z\"/><g><g class=\"mark-area role-mark marks\" role=\"graphics-object\" aria-roledescription=\"area mark container\"><path aria-label=\"hour: 2401; gen_sum: 163.3088; resource: _onshore_wind_turbine\" role=\"graphics-symbol\" aria-roledescription=\"area mark\" d=\"M25,323.14285714285717L50,333.77142857142854L75,339.77142857142854L100,332.2285714285715L125,302.9142857142857L150,261.2571428571428L175,204.48342857142862L200,132.05828571428572L225,64.3611428571429L250,22.556571428571417L275,2.170285714285658L300,28.91314285714288L325,63.46971428571424L350,76.57714285714286L375,93.86400000000002L400,115.93714285714292L425,136.68342857142858L450,159.74400000000003L475,187.43657142857145L500,171.2571428571429L525,170.4L550,212.9142857142857L575,259.20000000000005L600,298.2857142857143L600,323.0436205714285L575,280.8804205714286L550,229.37976685714284L525,182.72859428571428L500,181.78773942857146L475,196.45640228571426L450,173.22152228571431L425,146.48661942857146L400,127.1503817142857L375,102.30190628571434L350,87.66728228571425L325,72.4000182857143L300,44.703442285714345L275,21.232045714285697L250,45.10987885714282L225,93.0507702857143L200,140.52230400000002L175,217.1999725714286L150,285.11605028571427L125,316.7275337142857L100,349.4662217142858L75,359.50464L50,362.878848L25,351.13865142857145Z\" fill=\"#1f77b4\"/></g></g><path class=\"foreground\" aria-hidden=\"true\" d=\"\" display=\"none\"/></g><g transform=\"translate(0,0)\"><path class=\"background\" aria-hidden=\"true\" d=\"M0,0h600v600h-600Z\"/><g><g class=\"mark-area role-mark marks\" role=\"graphics-object\" aria-roledescription=\"area mark container\"><path aria-label=\"hour: 2401; gen_sum: 3.184932; resource: _small_hydroelectric\" role=\"graphics-symbol\" aria-roledescription=\"area mark\" d=\"M25,351.13865142857145L50,362.878848L75,359.50464L100,349.4662217142858L125,316.7275337142857L150,285.11605028571427L175,217.1999725714286L200,140.52230400000002L225,93.0507702857143L250,45.10987885714282L275,21.232045714285697L300,44.703442285714345L325,72.4000182857143L350,87.66728228571425L375,102.30190628571434L400,127.1503817142857L425,146.48661942857146L450,173.22152228571431L475,196.45640228571426L500,181.78773942857146L525,182.72859428571428L550,229.37976685714284L575,280.8804205714286L600,323.0436205714285L600,323.58960891428563L575,281.42640891428573L550,229.92575520000003L525,183.2745826285714L500,182.33372777142858L475,197.00239062857145L450,173.76751062857144L425,147.03260777142867L400,127.6963700571429L375,102.84789462857147L350,88.21327062857145L325,72.94600662857142L300,45.249430628571474L275,21.778034057142893L250,45.655867199999946L225,93.59675862857142L200,141.06829234285715L175,217.74596091428572L150,285.6620386285714L125,317.2735220571428L100,350.0122100571429L75,360.0506283428571L50,363.42483634285713L25,351.6846397714286Z\" fill=\"#aec7e8\"/></g></g><path class=\"foreground\" aria-hidden=\"true\" d=\"\" display=\"none\"/></g><g transform=\"translate(0,0)\"><path class=\"background\" aria-hidden=\"true\" d=\"M0,0h600v600h-600Z\"/><g><g class=\"mark-area role-mark marks\" role=\"graphics-object\" aria-roledescription=\"area mark container\"><path aria-label=\"hour: 2401; gen_sum: 0; resource: _solar_photovoltaic\" role=\"graphics-symbol\" aria-roledescription=\"area mark\" d=\"M25,351.6846397714286L50,363.42483634285713L75,360.0506283428571L100,350.0122100571429L125,317.2735220571428L150,285.6620386285714L175,217.74596091428572L200,141.06829234285715L225,93.59675862857142L250,45.655867199999946L275,21.778034057142893L300,45.249430628571474L325,72.94600662857142L350,88.21327062857145L375,102.84789462857147L400,127.6963700571429L425,147.03260777142867L450,173.76751062857144L475,197.00239062857145L500,182.33372777142858L525,183.2745826285714L550,229.92575520000003L575,281.42640891428573L600,323.58960891428563L600,323.58960891428563L575,281.42640891428573L550,229.92575520000003L525,183.2745826285714L500,182.33372777142858L475,225.62239062857142L450,367.92751062857144L425,427.71260777142857L400,469.3963700571429L375,477.3078946285715L350,475.5132706285714L325,459.70600662857146L300,413.58943062857145L275,384.1180340571429L250,391.0758672L225,380.1567586285714L200,273.7282923428571L175,250.92596091428572L150,285.6620386285714L125,317.2735220571428L100,350.0122100571429L75,360.0506283428571L50,363.42483634285713L25,351.6846397714286Z\" fill=\"#ff7f0e\"/></g></g><path class=\"foreground\" aria-hidden=\"true\" d=\"\" display=\"none\"/></g><g transform=\"translate(0,0)\"><path class=\"background\" aria-hidden=\"true\" d=\"M0,0h600v600h-600Z\"/><g><g class=\"mark-area role-mark marks\" role=\"graphics-object\" aria-roledescription=\"area mark container\"><path aria-label=\"hour: 2401; gen_sum: 0; resource: _solar_photovoltaic_btm\" role=\"graphics-symbol\" aria-roledescription=\"area mark\" d=\"M25,351.6846397714286L50,363.42483634285713L75,360.0506283428571L100,350.0122100571429L125,317.2735220571428L150,285.6620386285714L175,250.92596091428572L200,273.7282923428571L225,380.1567586285714L250,391.0758672L275,384.1180340571429L300,413.58943062857145L325,459.70600662857146L350,475.51327062857143L375,477.3078946285715L400,469.3963700571429L425,427.71260777142857L450,367.92751062857144L475,225.62239062857142L500,182.33372777142858L525,183.2745826285714L550,229.92575520000003L575,281.42640891428573L600,323.58960891428563L600,323.58960891428563L575,281.42640891428573L550,229.92575520000003L525,183.2745826285714L500,182.33372777142858L475,230.5286763428571L450,401.2120820571429L425,475.82917920000006L400,527.9735129142857L375,541.5010374857143L350,541.9075563428572L325,526.0077209142858L300,476.73343062857145L275,446.23346262857143L250,450.2907243428572L225,429.28133005714284L200,296.4700066285714L175,256.61396091428577L150,285.6620386285714L125,317.2735220571428L100,350.0122100571429L75,360.0506283428571L50,363.42483634285713L25,351.6846397714286Z\" fill=\"#ffbb78\"/></g></g><path class=\"foreground\" aria-hidden=\"true\" d=\"\" display=\"none\"/></g><g transform=\"translate(0,0)\"><path class=\"background\" aria-hidden=\"true\" d=\"M0,0h600v600h-600Z\"/><g><g class=\"mark-area role-mark marks\" role=\"graphics-object\" aria-roledescription=\"area mark container\"><path aria-label=\"hour: 2401; gen_sum: 21.4; resource: biomass\" role=\"graphics-symbol\" aria-roledescription=\"area mark\" d=\"M25,351.6846397714286L50,363.42483634285713L75,360.0506283428571L100,350.0122100571429L125,317.2735220571428L150,285.6620386285714L175,256.61396091428577L200,296.4700066285714L225,429.28133005714284L250,450.2907243428572L275,446.23346262857143L300,476.73343062857145L325,526.0077209142858L350,541.9075563428572L375,541.5010374857143L400,527.9735129142857L425,475.82917920000006L450,401.2120820571429L475,230.5286763428571L500,182.33372777142858L525,183.2745826285714L550,229.92575520000003L575,281.42640891428573L600,323.58960891428563L600,327.2581803428571L575,285.0949803428572L550,233.59432662857148L525,186.94315405714286L500,186.0022992L475,234.19724777142855L450,404.88065348571433L425,479.49775062857145L400,531.6420843428572L375,545.1696089142857L350,545.5761277714286L325,529.6762923428571L300,480.4020020571429L275,449.9020340571429L250,453.95929577142863L225,432.9499014857143L200,300.1385780571429L175,260.28253234285717L150,289.33061005714285L125,320.9420934857143L100,353.68078148571436L75,363.7191997714286L50,367.0934077714286L25,355.35321120000003Z\" fill=\"#2ca02c\"/></g></g><path class=\"foreground\" aria-hidden=\"true\" d=\"\" display=\"none\"/></g><g transform=\"translate(0,0)\"><path class=\"background\" aria-hidden=\"true\" d=\"M0,0h600v600h-600Z\"/><g><g class=\"mark-area role-mark marks\" role=\"graphics-object\" aria-roledescription=\"area mark container\"><path aria-label=\"hour: 2401; gen_sum: 42; resource: hydroelectric_pumped_storage\" role=\"graphics-symbol\" aria-roledescription=\"area mark\" d=\"M25,355.35321120000003L50,367.0934077714286L75,363.7191997714286L100,353.68078148571436L125,320.9420934857143L150,289.33061005714285L175,260.28253234285717L200,300.1385780571429L225,432.9499014857143L250,453.95929577142863L275,449.9020340571429L300,480.4020020571429L325,529.6762923428571L350,545.5761277714286L375,545.1696089142857L400,531.6420843428572L425,479.49775062857145L450,404.88065348571433L475,234.19724777142855L500,186.0022992L525,186.94315405714286L550,233.59432662857148L575,285.0949803428572L600,327.2581803428571L600,334.4581803428571L575,292.2949803428572L550,240.79432662857147L525,194.14315405714285L500,193.20229920000003L475,241.39724777142854L450,412.08065348571427L425,486.69775062857144L400,538.8420843428572L375,552.3696089142857L350,552.7761277714286L325,536.8762923428571L300,487.60200205714284L275,457.1020340571429L250,461.15929577142856L225,440.1499014857143L200,307.3385780571429L175,267.4825323428572L150,296.53061005714284L125,328.14209348571427L100,360.88078148571435L75,370.91919977142857L50,374.2934077714286L25,362.5532112Z\" fill=\"#98df8a\"/></g></g><path class=\"foreground\" aria-hidden=\"true\" d=\"\" display=\"none\"/></g><g transform=\"translate(0,0)\"><path class=\"background\" aria-hidden=\"true\" d=\"M0,0h600v600h-600Z\"/><g><g class=\"mark-area role-mark marks\" role=\"graphics-object\" aria-roledescription=\"area mark container\"><path aria-label=\"hour: 2401; gen_sum: 1385.106268; resource: natural_gas_fired_combined_cycle\" role=\"graphics-symbol\" aria-roledescription=\"area mark\" d=\"M25,362.5532112L50,374.2934077714286L75,370.91919977142857L100,360.88078148571435L125,328.14209348571427L150,296.53061005714284L175,267.4825323428572L200,307.3385780571429L225,440.1499014857143L250,461.15929577142856L275,457.1020340571429L300,487.60200205714284L325,536.8762923428571L350,552.7761277714286L375,552.3696089142857L400,538.8420843428572L425,486.69775062857144L450,412.08065348571427L475,241.39724777142854L500,193.20229920000003L525,194.14315405714285L550,240.79432662857147L575,292.2949803428572L600,334.4581803428571L600,600L575,600L550,571.3943266285714L525,524.7431540571429L500,523.8022992L475,569.2749620571428L450,600L425,600L400,600L375,600L350,600L325,600L300,600L275,600L250,600L225,600L200,600L175,598.0825323428571L150,600L125,600L100,600L75,600L50,600L25,600Z\" fill=\"#d62728\"/></g></g><path class=\"foreground\" aria-hidden=\"true\" d=\"\" display=\"none\"/></g><g transform=\"translate(0,0)\"><path class=\"background\" aria-hidden=\"true\" d=\"M0,0h600v600h-600Z\"/><g><g class=\"mark-area role-mark marks\" role=\"graphics-object\" aria-roledescription=\"area mark container\"><path aria-label=\"hour: 2401; gen_sum: 0; resource: natural_gas_fired_combustion_turbine\" role=\"graphics-symbol\" aria-roledescription=\"area mark\" d=\"M25,600L50,600L75,600L100,600L125,600L150,600L175,598.0825323428571L200,600L225,600L250,600L275,600L300,600L325,600L350,600L375,600L400,600L425,600L450,600L475,569.2749620571428L500,523.8022992L525,524.7431540571429L550,571.3943266285714L575,600L600,600L600,600L575,600L550,600L525,600L500,600L475,600L450,600L425,600L400,600L375,600L350,600L325,600L300,600L275,600L250,600L225,600L200,600L175,600L150,600L125,600L100,600L75,600L50,600L25,600Z\" fill=\"#ff9896\"/></g></g><path class=\"foreground\" aria-hidden=\"true\" d=\"\" display=\"none\"/></g></g><g class=\"mark-group role-legend\" role=\"graphics-symbol\" aria-roledescription=\"legend\" aria-label=\"Symbol legend titled 'resource' for fill color with 8 values: _onshore_wind_turbine, _small_hydroelectric, _solar_photovoltaic, _solar_photovoltaic_btm, biomass, ending with natural_gas_fired_combustion_turbine\"><g transform=\"translate(618,0)\"><path class=\"background\" aria-hidden=\"true\" d=\"M0,0h173v118h-173Z\" pointer-events=\"none\"/><g><g class=\"mark-group role-legend-entry\"><g transform=\"translate(0,16)\"><path class=\"background\" aria-hidden=\"true\" d=\"M0,0h0v0h0Z\" pointer-events=\"none\"/><g><g class=\"mark-group role-scope\" role=\"graphics-object\" aria-roledescription=\"group mark container\"><g transform=\"translate(0,0)\"><path class=\"background\" aria-hidden=\"true\" d=\"M0,0h173v11h-173Z\" pointer-events=\"none\" opacity=\"1\"/><g><g class=\"mark-symbol role-legend-symbol\" pointer-events=\"none\"><path transform=\"translate(6,6)\" d=\"M5,0A5,5,0,1,1,-5,0A5,5,0,1,1,5,0\" fill=\"#1f77b4\" stroke-width=\"1.5\" opacity=\"1\"/></g><g class=\"mark-text role-legend-label\" pointer-events=\"none\"><text text-anchor=\"start\" transform=\"translate(16,9)\" font-family=\"sans-serif\" font-size=\"10px\" fill=\"#000\" opacity=\"1\">_onshore_wind_turbine</text></g></g><path class=\"foreground\" aria-hidden=\"true\" d=\"\" pointer-events=\"none\" display=\"none\"/></g><g transform=\"translate(0,13)\"><path class=\"background\" aria-hidden=\"true\" d=\"M0,0h173v11h-173Z\" pointer-events=\"none\" opacity=\"1\"/><g><g class=\"mark-symbol role-legend-symbol\" pointer-events=\"none\"><path transform=\"translate(6,6)\" d=\"M5,0A5,5,0,1,1,-5,0A5,5,0,1,1,5,0\" fill=\"#aec7e8\" stroke-width=\"1.5\" opacity=\"1\"/></g><g class=\"mark-text role-legend-label\" pointer-events=\"none\"><text text-anchor=\"start\" transform=\"translate(16,9)\" font-family=\"sans-serif\" font-size=\"10px\" fill=\"#000\" opacity=\"1\">_small_hydroelectric</text></g></g><path class=\"foreground\" aria-hidden=\"true\" d=\"\" pointer-events=\"none\" display=\"none\"/></g><g transform=\"translate(0,26)\"><path class=\"background\" aria-hidden=\"true\" d=\"M0,0h173v11h-173Z\" pointer-events=\"none\" opacity=\"1\"/><g><g class=\"mark-symbol role-legend-symbol\" pointer-events=\"none\"><path transform=\"translate(6,6)\" d=\"M5,0A5,5,0,1,1,-5,0A5,5,0,1,1,5,0\" fill=\"#ff7f0e\" stroke-width=\"1.5\" opacity=\"1\"/></g><g class=\"mark-text role-legend-label\" pointer-events=\"none\"><text text-anchor=\"start\" transform=\"translate(16,9)\" font-family=\"sans-serif\" font-size=\"10px\" fill=\"#000\" opacity=\"1\">_solar_photovoltaic</text></g></g><path class=\"foreground\" aria-hidden=\"true\" d=\"\" pointer-events=\"none\" display=\"none\"/></g><g transform=\"translate(0,39)\"><path class=\"background\" aria-hidden=\"true\" d=\"M0,0h173v11h-173Z\" pointer-events=\"none\" opacity=\"1\"/><g><g class=\"mark-symbol role-legend-symbol\" pointer-events=\"none\"><path transform=\"translate(6,6)\" d=\"M5,0A5,5,0,1,1,-5,0A5,5,0,1,1,5,0\" fill=\"#ffbb78\" stroke-width=\"1.5\" opacity=\"1\"/></g><g class=\"mark-text role-legend-label\" pointer-events=\"none\"><text text-anchor=\"start\" transform=\"translate(16,9)\" font-family=\"sans-serif\" font-size=\"10px\" fill=\"#000\" opacity=\"1\">_solar_photovoltaic_btm</text></g></g><path class=\"foreground\" aria-hidden=\"true\" d=\"\" pointer-events=\"none\" display=\"none\"/></g><g transform=\"translate(0,52)\"><path class=\"background\" aria-hidden=\"true\" d=\"M0,0h173v11h-173Z\" pointer-events=\"none\" opacity=\"1\"/><g><g class=\"mark-symbol role-legend-symbol\" pointer-events=\"none\"><path transform=\"translate(6,6)\" d=\"M5,0A5,5,0,1,1,-5,0A5,5,0,1,1,5,0\" fill=\"#2ca02c\" stroke-width=\"1.5\" opacity=\"1\"/></g><g class=\"mark-text role-legend-label\" pointer-events=\"none\"><text text-anchor=\"start\" transform=\"translate(16,9)\" font-family=\"sans-serif\" font-size=\"10px\" fill=\"#000\" opacity=\"1\">biomass</text></g></g><path class=\"foreground\" aria-hidden=\"true\" d=\"\" pointer-events=\"none\" display=\"none\"/></g><g transform=\"translate(0,65)\"><path class=\"background\" aria-hidden=\"true\" d=\"M0,0h173v11h-173Z\" pointer-events=\"none\" opacity=\"1\"/><g><g class=\"mark-symbol role-legend-symbol\" pointer-events=\"none\"><path transform=\"translate(6,6)\" d=\"M5,0A5,5,0,1,1,-5,0A5,5,0,1,1,5,0\" fill=\"#98df8a\" stroke-width=\"1.5\" opacity=\"1\"/></g><g class=\"mark-text role-legend-label\" pointer-events=\"none\"><text text-anchor=\"start\" transform=\"translate(16,9)\" font-family=\"sans-serif\" font-size=\"10px\" fill=\"#000\" opacity=\"1\">hydroelectric_pumped_storage</text></g></g><path class=\"foreground\" aria-hidden=\"true\" d=\"\" pointer-events=\"none\" display=\"none\"/></g><g transform=\"translate(0,78)\"><path class=\"background\" aria-hidden=\"true\" d=\"M0,0h173v11h-173Z\" pointer-events=\"none\" opacity=\"1\"/><g><g class=\"mark-symbol role-legend-symbol\" pointer-events=\"none\"><path transform=\"translate(6,6)\" d=\"M5,0A5,5,0,1,1,-5,0A5,5,0,1,1,5,0\" fill=\"#d62728\" stroke-width=\"1.5\" opacity=\"1\"/></g><g class=\"mark-text role-legend-label\" pointer-events=\"none\"><text text-anchor=\"start\" transform=\"translate(16,9)\" font-family=\"sans-serif\" font-size=\"10px\" fill=\"#000\" opacity=\"1\">natural_gas_fired_combined_cycle</text></g></g><path class=\"foreground\" aria-hidden=\"true\" d=\"\" pointer-events=\"none\" display=\"none\"/></g><g transform=\"translate(0,91)\"><path class=\"background\" aria-hidden=\"true\" d=\"M0,0h173v11h-173Z\" pointer-events=\"none\" opacity=\"1\"/><g><g class=\"mark-symbol role-legend-symbol\" pointer-events=\"none\"><path transform=\"translate(6,6)\" d=\"M5,0A5,5,0,1,1,-5,0A5,5,0,1,1,5,0\" fill=\"#ff9896\" stroke-width=\"1.5\" opacity=\"1\"/></g><g class=\"mark-text role-legend-label\" pointer-events=\"none\"><text text-anchor=\"start\" transform=\"translate(16,9)\" font-family=\"sans-serif\" font-size=\"10px\" fill=\"#000\" opacity=\"1\">natural_gas_fired_combustion_tur…</text></g></g><path class=\"foreground\" aria-hidden=\"true\" d=\"\" pointer-events=\"none\" display=\"none\"/></g></g></g><path class=\"foreground\" aria-hidden=\"true\" d=\"\" pointer-events=\"none\" display=\"none\"/></g></g><g class=\"mark-text role-legend-title\" pointer-events=\"none\"><text text-anchor=\"start\" transform=\"translate(0,9)\" font-family=\"sans-serif\" font-size=\"11px\" font-weight=\"bold\" fill=\"#000\" opacity=\"1\">resource</text></g></g><path class=\"foreground\" aria-hidden=\"true\" d=\"\" pointer-events=\"none\" display=\"none\"/></g></g></g><path class=\"foreground\" aria-hidden=\"true\" d=\"\" display=\"none\"/></g></g></g></svg>\n"
      ],
      "text/plain": [
       "@vlplot(\n",
       "    width=600,\n",
       "    height=600,\n",
       "    mark=\"area\",\n",
       "    encoding={\n",
       "        x={\n",
       "            field=\"hour\"\n",
       "        },\n",
       "        y={\n",
       "            stack=\"zero\",\n",
       "            field=\"gen_sum\"\n",
       "        },\n",
       "        color={\n",
       "            scale={\n",
       "                scheme=\"category20\"\n",
       "            },\n",
       "            field=\"resource\",\n",
       "            type=\"nominal\"\n",
       "        }\n",
       "    },\n",
       "    data={\n",
       "        values=...\n",
       "    }\n",
       ")"
      ]
     },
     "execution_count": 43,
     "metadata": {},
     "output_type": "execute_result"
    }
   ],
   "source": [
    "# Increase solar photovoltaic capacity\n",
    "gen_df_sens = copy(gen_df)\n",
    "gen_df_sens[gen_df_sens.resource .== \"solar_photovoltaic\",\n",
    "    :existing_cap_mw] .= 3500\n",
    "\n",
    "solution = economic_dispatch_multi_time(gen_df_sens, loads_multi, gen_variable_multi);\n",
    "\n",
    "sol_gen = innerjoin(solution.solution, \n",
    "                    gen_df[!, [:r_id, :resource]], \n",
    "                    on = :r_id)\n",
    "\n",
    "sol_gen = combine(groupby(sol_gen, [:resource, :hour]), \n",
    "            :gen => sum)\n",
    "sol_gen_btm = copy(sol_gen)\n",
    "sol_gen_btm[sol_gen_btm.resource .== \"solar_photovoltaic\", :resource] .= \"_solar_photovoltaic\"\n",
    "sol_gen_btm[sol_gen_btm.resource .== \"onshore_wind_turbine\", :resource] .= \"_onshore_wind_turbine\"\n",
    "sol_gen_btm[sol_gen_btm.resource .== \"small_hydroelectric\", :resource] .= \"_small_hydroelectric\"\n",
    "\n",
    "btm = DataFrame(resource = repeat([\"_solar_photovoltaic_btm\"]; outer=length(T_period)), \n",
    "    hour = T_period,\n",
    "    gen_sum = gen_variable_multi[gen_variable_multi.gen_full .== \"wec_sdge_solar_photovoltaic_1.0\",:cf] * 600)\n",
    "append!(sol_gen_btm, btm)\n",
    "\n",
    "# Reorder resources\n",
    "sort!(sol_gen_btm, [:hour, :resource])\n",
    "\n",
    "# Plot and save the resulting generation figure\n",
    "p = sol_gen_btm |>\n",
    "@vlplot(:area, \n",
    "    x=:hour, y={:gen_sum, stack=:zero}, \n",
    "    color={\"resource:n\", scale={scheme=\"category20\"}},\n",
    "    width=600,height=600)\n",
    "save(\"results/sol_gen_btm.png\",p)\n",
    "p\n",
    "     "
   ]
  },
  {
   "cell_type": "code",
   "execution_count": 44,
   "id": "08147f51",
   "metadata": {},
   "outputs": [
    {
     "data": {
      "application/vnd.vegalite.v4+json": {
       "data": {
        "values": [
         {
          "gen": 0,
          "hour": 2401,
          "r_id": 3,
          "resource": "natural_gas_fired_combined_cycle"
         },
         {
          "gen": 0,
          "hour": 2401,
          "r_id": 4,
          "resource": "natural_gas_fired_combined_cycle"
         },
         {
          "gen": 0,
          "hour": 2401,
          "r_id": 5,
          "resource": "natural_gas_fired_combined_cycle"
         },
         {
          "gen": 0,
          "hour": 2401,
          "r_id": 6,
          "resource": "natural_gas_fired_combined_cycle"
         },
         {
          "gen": 0,
          "hour": 2401,
          "r_id": 7,
          "resource": "natural_gas_fired_combined_cycle"
         },
         {
          "gen": 0,
          "hour": 2401,
          "r_id": 8,
          "resource": "natural_gas_fired_combined_cycle"
         },
         {
          "gen": 0,
          "hour": 2402,
          "r_id": 3,
          "resource": "natural_gas_fired_combined_cycle"
         },
         {
          "gen": 0,
          "hour": 2402,
          "r_id": 4,
          "resource": "natural_gas_fired_combined_cycle"
         },
         {
          "gen": 0,
          "hour": 2402,
          "r_id": 5,
          "resource": "natural_gas_fired_combined_cycle"
         },
         {
          "gen": 0,
          "hour": 2402,
          "r_id": 6,
          "resource": "natural_gas_fired_combined_cycle"
         },
         {
          "gen": 0,
          "hour": 2402,
          "r_id": 7,
          "resource": "natural_gas_fired_combined_cycle"
         },
         {
          "gen": 0,
          "hour": 2402,
          "r_id": 8,
          "resource": "natural_gas_fired_combined_cycle"
         },
         {
          "gen": 0,
          "hour": 2403,
          "r_id": 3,
          "resource": "natural_gas_fired_combined_cycle"
         },
         {
          "gen": 0,
          "hour": 2403,
          "r_id": 4,
          "resource": "natural_gas_fired_combined_cycle"
         },
         {
          "gen": 0,
          "hour": 2403,
          "r_id": 5,
          "resource": "natural_gas_fired_combined_cycle"
         },
         {
          "gen": 0,
          "hour": 2403,
          "r_id": 6,
          "resource": "natural_gas_fired_combined_cycle"
         },
         {
          "gen": 0,
          "hour": 2403,
          "r_id": 7,
          "resource": "natural_gas_fired_combined_cycle"
         },
         {
          "gen": 0,
          "hour": 2403,
          "r_id": 8,
          "resource": "natural_gas_fired_combined_cycle"
         },
         {
          "gen": 0,
          "hour": 2404,
          "r_id": 3,
          "resource": "natural_gas_fired_combined_cycle"
         },
         {
          "gen": 0,
          "hour": 2404,
          "r_id": 4,
          "resource": "natural_gas_fired_combined_cycle"
         },
         {
          "gen": 0,
          "hour": 2404,
          "r_id": 5,
          "resource": "natural_gas_fired_combined_cycle"
         },
         {
          "gen": 0,
          "hour": 2404,
          "r_id": 6,
          "resource": "natural_gas_fired_combined_cycle"
         },
         {
          "gen": 0,
          "hour": 2404,
          "r_id": 7,
          "resource": "natural_gas_fired_combined_cycle"
         },
         {
          "gen": 0,
          "hour": 2404,
          "r_id": 8,
          "resource": "natural_gas_fired_combined_cycle"
         },
         {
          "gen": 0,
          "hour": 2405,
          "r_id": 3,
          "resource": "natural_gas_fired_combined_cycle"
         },
         {
          "gen": 0,
          "hour": 2405,
          "r_id": 4,
          "resource": "natural_gas_fired_combined_cycle"
         },
         {
          "gen": 0,
          "hour": 2405,
          "r_id": 5,
          "resource": "natural_gas_fired_combined_cycle"
         },
         {
          "gen": 0,
          "hour": 2405,
          "r_id": 6,
          "resource": "natural_gas_fired_combined_cycle"
         },
         {
          "gen": 0,
          "hour": 2405,
          "r_id": 7,
          "resource": "natural_gas_fired_combined_cycle"
         },
         {
          "gen": 0,
          "hour": 2405,
          "r_id": 8,
          "resource": "natural_gas_fired_combined_cycle"
         },
         {
          "gen": 0,
          "hour": 2406,
          "r_id": 3,
          "resource": "natural_gas_fired_combined_cycle"
         },
         {
          "gen": 0,
          "hour": 2406,
          "r_id": 4,
          "resource": "natural_gas_fired_combined_cycle"
         },
         {
          "gen": 0,
          "hour": 2406,
          "r_id": 5,
          "resource": "natural_gas_fired_combined_cycle"
         },
         {
          "gen": 0,
          "hour": 2406,
          "r_id": 6,
          "resource": "natural_gas_fired_combined_cycle"
         },
         {
          "gen": 0,
          "hour": 2406,
          "r_id": 7,
          "resource": "natural_gas_fired_combined_cycle"
         },
         {
          "gen": 0,
          "hour": 2406,
          "r_id": 8,
          "resource": "natural_gas_fired_combined_cycle"
         },
         {
          "gen": 0,
          "hour": 2407,
          "r_id": 3,
          "resource": "natural_gas_fired_combined_cycle"
         },
         {
          "gen": 0,
          "hour": 2407,
          "r_id": 4,
          "resource": "natural_gas_fired_combined_cycle"
         },
         {
          "gen": 0,
          "hour": 2407,
          "r_id": 5,
          "resource": "natural_gas_fired_combined_cycle"
         },
         {
          "gen": 0,
          "hour": 2407,
          "r_id": 6,
          "resource": "natural_gas_fired_combined_cycle"
         },
         {
          "gen": 0,
          "hour": 2407,
          "r_id": 7,
          "resource": "natural_gas_fired_combined_cycle"
         },
         {
          "gen": 0,
          "hour": 2407,
          "r_id": 8,
          "resource": "natural_gas_fired_combined_cycle"
         },
         {
          "gen": 0,
          "hour": 2408,
          "r_id": 3,
          "resource": "natural_gas_fired_combined_cycle"
         },
         {
          "gen": 0,
          "hour": 2408,
          "r_id": 4,
          "resource": "natural_gas_fired_combined_cycle"
         },
         {
          "gen": 0,
          "hour": 2408,
          "r_id": 5,
          "resource": "natural_gas_fired_combined_cycle"
         },
         {
          "gen": 0,
          "hour": 2408,
          "r_id": 6,
          "resource": "natural_gas_fired_combined_cycle"
         },
         {
          "gen": 0,
          "hour": 2408,
          "r_id": 7,
          "resource": "natural_gas_fired_combined_cycle"
         },
         {
          "gen": 0,
          "hour": 2408,
          "r_id": 8,
          "resource": "natural_gas_fired_combined_cycle"
         },
         {
          "gen": 0,
          "hour": 2409,
          "r_id": 3,
          "resource": "natural_gas_fired_combined_cycle"
         },
         {
          "gen": 0,
          "hour": 2409,
          "r_id": 4,
          "resource": "natural_gas_fired_combined_cycle"
         },
         {
          "gen": 0,
          "hour": 2409,
          "r_id": 5,
          "resource": "natural_gas_fired_combined_cycle"
         },
         {
          "gen": 0,
          "hour": 2409,
          "r_id": 6,
          "resource": "natural_gas_fired_combined_cycle"
         },
         {
          "gen": 0,
          "hour": 2409,
          "r_id": 7,
          "resource": "natural_gas_fired_combined_cycle"
         },
         {
          "gen": 0,
          "hour": 2409,
          "r_id": 8,
          "resource": "natural_gas_fired_combined_cycle"
         },
         {
          "gen": 0,
          "hour": 2410,
          "r_id": 3,
          "resource": "natural_gas_fired_combined_cycle"
         },
         {
          "gen": 0,
          "hour": 2410,
          "r_id": 4,
          "resource": "natural_gas_fired_combined_cycle"
         },
         {
          "gen": 0,
          "hour": 2410,
          "r_id": 5,
          "resource": "natural_gas_fired_combined_cycle"
         },
         {
          "gen": 0,
          "hour": 2410,
          "r_id": 6,
          "resource": "natural_gas_fired_combined_cycle"
         },
         {
          "gen": 0,
          "hour": 2410,
          "r_id": 7,
          "resource": "natural_gas_fired_combined_cycle"
         },
         {
          "gen": 0,
          "hour": 2410,
          "r_id": 8,
          "resource": "natural_gas_fired_combined_cycle"
         },
         {
          "gen": 0,
          "hour": 2411,
          "r_id": 3,
          "resource": "natural_gas_fired_combined_cycle"
         },
         {
          "gen": 0,
          "hour": 2411,
          "r_id": 4,
          "resource": "natural_gas_fired_combined_cycle"
         },
         {
          "gen": 0,
          "hour": 2411,
          "r_id": 5,
          "resource": "natural_gas_fired_combined_cycle"
         },
         {
          "gen": 0,
          "hour": 2411,
          "r_id": 6,
          "resource": "natural_gas_fired_combined_cycle"
         },
         {
          "gen": 0,
          "hour": 2411,
          "r_id": 7,
          "resource": "natural_gas_fired_combined_cycle"
         },
         {
          "gen": 0,
          "hour": 2411,
          "r_id": 8,
          "resource": "natural_gas_fired_combined_cycle"
         },
         {
          "gen": 0,
          "hour": 2412,
          "r_id": 3,
          "resource": "natural_gas_fired_combined_cycle"
         },
         {
          "gen": 0,
          "hour": 2412,
          "r_id": 4,
          "resource": "natural_gas_fired_combined_cycle"
         },
         {
          "gen": 0,
          "hour": 2412,
          "r_id": 5,
          "resource": "natural_gas_fired_combined_cycle"
         },
         {
          "gen": 0,
          "hour": 2412,
          "r_id": 6,
          "resource": "natural_gas_fired_combined_cycle"
         },
         {
          "gen": 0,
          "hour": 2412,
          "r_id": 7,
          "resource": "natural_gas_fired_combined_cycle"
         },
         {
          "gen": 0,
          "hour": 2412,
          "r_id": 8,
          "resource": "natural_gas_fired_combined_cycle"
         },
         {
          "gen": 0,
          "hour": 2413,
          "r_id": 3,
          "resource": "natural_gas_fired_combined_cycle"
         },
         {
          "gen": 0,
          "hour": 2413,
          "r_id": 4,
          "resource": "natural_gas_fired_combined_cycle"
         },
         {
          "gen": 0,
          "hour": 2413,
          "r_id": 5,
          "resource": "natural_gas_fired_combined_cycle"
         },
         {
          "gen": 0,
          "hour": 2413,
          "r_id": 6,
          "resource": "natural_gas_fired_combined_cycle"
         },
         {
          "gen": 0,
          "hour": 2413,
          "r_id": 7,
          "resource": "natural_gas_fired_combined_cycle"
         },
         {
          "gen": 0,
          "hour": 2413,
          "r_id": 8,
          "resource": "natural_gas_fired_combined_cycle"
         },
         {
          "gen": 0,
          "hour": 2414,
          "r_id": 3,
          "resource": "natural_gas_fired_combined_cycle"
         },
         {
          "gen": 0,
          "hour": 2414,
          "r_id": 4,
          "resource": "natural_gas_fired_combined_cycle"
         },
         {
          "gen": 0,
          "hour": 2414,
          "r_id": 5,
          "resource": "natural_gas_fired_combined_cycle"
         },
         {
          "gen": 0,
          "hour": 2414,
          "r_id": 6,
          "resource": "natural_gas_fired_combined_cycle"
         },
         {
          "gen": 0,
          "hour": 2414,
          "r_id": 7,
          "resource": "natural_gas_fired_combined_cycle"
         },
         {
          "gen": 0,
          "hour": 2414,
          "r_id": 8,
          "resource": "natural_gas_fired_combined_cycle"
         },
         {
          "gen": 0,
          "hour": 2415,
          "r_id": 3,
          "resource": "natural_gas_fired_combined_cycle"
         },
         {
          "gen": 0,
          "hour": 2415,
          "r_id": 4,
          "resource": "natural_gas_fired_combined_cycle"
         },
         {
          "gen": 0,
          "hour": 2415,
          "r_id": 5,
          "resource": "natural_gas_fired_combined_cycle"
         },
         {
          "gen": 0,
          "hour": 2415,
          "r_id": 6,
          "resource": "natural_gas_fired_combined_cycle"
         },
         {
          "gen": 0,
          "hour": 2415,
          "r_id": 7,
          "resource": "natural_gas_fired_combined_cycle"
         },
         {
          "gen": 0,
          "hour": 2415,
          "r_id": 8,
          "resource": "natural_gas_fired_combined_cycle"
         },
         {
          "gen": -0.9508999999999972,
          "hour": 2416,
          "r_id": 3,
          "resource": "natural_gas_fired_combined_cycle"
         },
         {
          "gen": 0,
          "hour": 2416,
          "r_id": 4,
          "resource": "natural_gas_fired_combined_cycle"
         },
         {
          "gen": 0,
          "hour": 2416,
          "r_id": 5,
          "resource": "natural_gas_fired_combined_cycle"
         },
         {
          "gen": 0,
          "hour": 2416,
          "r_id": 6,
          "resource": "natural_gas_fired_combined_cycle"
         },
         {
          "gen": 0,
          "hour": 2416,
          "r_id": 7,
          "resource": "natural_gas_fired_combined_cycle"
         },
         {
          "gen": 0,
          "hour": 2416,
          "r_id": 8,
          "resource": "natural_gas_fired_combined_cycle"
         },
         {
          "gen": -1.9017999999999944,
          "hour": 2417,
          "r_id": 3,
          "resource": "natural_gas_fired_combined_cycle"
         },
         {
          "gen": -2.644499999999983,
          "hour": 2417,
          "r_id": 4,
          "resource": "natural_gas_fired_combined_cycle"
         },
         {
          "gen": -4.289299999999987,
          "hour": 2417,
          "r_id": 5,
          "resource": "natural_gas_fired_combined_cycle"
         },
         {
          "gen": 0,
          "hour": 2417,
          "r_id": 6,
          "resource": "natural_gas_fired_combined_cycle"
         },
         {
          "gen": 0,
          "hour": 2417,
          "r_id": 7,
          "resource": "natural_gas_fired_combined_cycle"
         },
         {
          "gen": 0,
          "hour": 2417,
          "r_id": 8,
          "resource": "natural_gas_fired_combined_cycle"
         },
         {
          "gen": 0,
          "hour": 2418,
          "r_id": 3,
          "resource": "natural_gas_fired_combined_cycle"
         },
         {
          "gen": -8.144799999999996,
          "hour": 2418,
          "r_id": 4,
          "resource": "natural_gas_fired_combined_cycle"
         },
         {
          "gen": -8.967199999999998,
          "hour": 2418,
          "r_id": 5,
          "resource": "natural_gas_fired_combined_cycle"
         },
         {
          "gen": 0,
          "hour": 2418,
          "r_id": 6,
          "resource": "natural_gas_fired_combined_cycle"
         },
         {
          "gen": 0,
          "hour": 2418,
          "r_id": 7,
          "resource": "natural_gas_fired_combined_cycle"
         },
         {
          "gen": 0,
          "hour": 2418,
          "r_id": 8,
          "resource": "natural_gas_fired_combined_cycle"
         },
         {
          "gen": 0,
          "hour": 2419,
          "r_id": 3,
          "resource": "natural_gas_fired_combined_cycle"
         },
         {
          "gen": 0,
          "hour": 2419,
          "r_id": 4,
          "resource": "natural_gas_fired_combined_cycle"
         },
         {
          "gen": 0,
          "hour": 2419,
          "r_id": 5,
          "resource": "natural_gas_fired_combined_cycle"
         },
         {
          "gen": 0,
          "hour": 2419,
          "r_id": 6,
          "resource": "natural_gas_fired_combined_cycle"
         },
         {
          "gen": 0,
          "hour": 2419,
          "r_id": 7,
          "resource": "natural_gas_fired_combined_cycle"
         },
         {
          "gen": 0,
          "hour": 2419,
          "r_id": 8,
          "resource": "natural_gas_fired_combined_cycle"
         },
         {
          "gen": 0,
          "hour": 2420,
          "r_id": 3,
          "resource": "natural_gas_fired_combined_cycle"
         },
         {
          "gen": 0,
          "hour": 2420,
          "r_id": 4,
          "resource": "natural_gas_fired_combined_cycle"
         },
         {
          "gen": 0,
          "hour": 2420,
          "r_id": 5,
          "resource": "natural_gas_fired_combined_cycle"
         },
         {
          "gen": 0,
          "hour": 2420,
          "r_id": 6,
          "resource": "natural_gas_fired_combined_cycle"
         },
         {
          "gen": 0,
          "hour": 2420,
          "r_id": 7,
          "resource": "natural_gas_fired_combined_cycle"
         },
         {
          "gen": 0,
          "hour": 2420,
          "r_id": 8,
          "resource": "natural_gas_fired_combined_cycle"
         },
         {
          "gen": 0,
          "hour": 2421,
          "r_id": 3,
          "resource": "natural_gas_fired_combined_cycle"
         },
         {
          "gen": 0,
          "hour": 2421,
          "r_id": 4,
          "resource": "natural_gas_fired_combined_cycle"
         },
         {
          "gen": 0,
          "hour": 2421,
          "r_id": 5,
          "resource": "natural_gas_fired_combined_cycle"
         },
         {
          "gen": 0,
          "hour": 2421,
          "r_id": 6,
          "resource": "natural_gas_fired_combined_cycle"
         },
         {
          "gen": 0,
          "hour": 2421,
          "r_id": 7,
          "resource": "natural_gas_fired_combined_cycle"
         },
         {
          "gen": 0,
          "hour": 2421,
          "r_id": 8,
          "resource": "natural_gas_fired_combined_cycle"
         },
         {
          "gen": 0,
          "hour": 2422,
          "r_id": 3,
          "resource": "natural_gas_fired_combined_cycle"
         },
         {
          "gen": 0,
          "hour": 2422,
          "r_id": 4,
          "resource": "natural_gas_fired_combined_cycle"
         },
         {
          "gen": 0,
          "hour": 2422,
          "r_id": 5,
          "resource": "natural_gas_fired_combined_cycle"
         },
         {
          "gen": 0,
          "hour": 2422,
          "r_id": 6,
          "resource": "natural_gas_fired_combined_cycle"
         },
         {
          "gen": 0,
          "hour": 2422,
          "r_id": 7,
          "resource": "natural_gas_fired_combined_cycle"
         },
         {
          "gen": 0,
          "hour": 2422,
          "r_id": 8,
          "resource": "natural_gas_fired_combined_cycle"
         },
         {
          "gen": 0,
          "hour": 2423,
          "r_id": 3,
          "resource": "natural_gas_fired_combined_cycle"
         },
         {
          "gen": 0,
          "hour": 2423,
          "r_id": 4,
          "resource": "natural_gas_fired_combined_cycle"
         },
         {
          "gen": 0,
          "hour": 2423,
          "r_id": 5,
          "resource": "natural_gas_fired_combined_cycle"
         },
         {
          "gen": 0,
          "hour": 2423,
          "r_id": 6,
          "resource": "natural_gas_fired_combined_cycle"
         },
         {
          "gen": 0,
          "hour": 2423,
          "r_id": 7,
          "resource": "natural_gas_fired_combined_cycle"
         },
         {
          "gen": 0,
          "hour": 2423,
          "r_id": 8,
          "resource": "natural_gas_fired_combined_cycle"
         }
        ]
       },
       "encoding": {
        "color": {
         "field": "r_id",
         "scale": {
          "scheme": "category20"
         },
         "type": "nominal"
        },
        "x": {
         "field": "hour",
         "type": "quantitative"
        },
        "y": {
         "field": "gen",
         "title": "Marginal",
         "type": "quantitative"
        }
       },
       "mark": "line"
      },
      "image/png": "[encoded data removed]",
      "image/svg+xml": [
       "<?xml version=\"1.0\" encoding=\"utf-8\"?>\n",
       "<!DOCTYPE svg PUBLIC \"-//W3C//DTD SVG 1.1//EN\" \"http://www.w3.org/Graphics/SVG/1.1/DTD/svg11.dtd\">\n",
       "<svg xmlns=\"http://www.w3.org/2000/svg\" xmlns:xlink=\"http://www.w3.org/1999/xlink\" version=\"1.1\" class=\"marks\" width=\"284\" height=\"247\" viewBox=\"0 0 284 247\"><rect width=\"284\" height=\"247\" fill=\"white\"/><g fill=\"none\" stroke-miterlimit=\"10\" transform=\"translate(39,10)\"><g class=\"mark-group role-frame root\" role=\"graphics-object\" aria-roledescription=\"group mark container\"><g transform=\"translate(0,0)\"><path class=\"background\" aria-hidden=\"true\" d=\"M0.5,0.5h200v200h-200Z\" stroke=\"#ddd\"/><g><g class=\"mark-group role-axis\" aria-hidden=\"true\"><g transform=\"translate(0.5,200.5)\"><path class=\"background\" aria-hidden=\"true\" d=\"M0,0h0v0h0Z\" pointer-events=\"none\"/><g><g class=\"mark-rule role-axis-grid\" pointer-events=\"none\"><line transform=\"translate(0,-200)\" x2=\"0\" y2=\"200\" stroke=\"#ddd\" stroke-width=\"1\" opacity=\"1\"/><line transform=\"translate(42,-200)\" x2=\"0\" y2=\"200\" stroke=\"#ddd\" stroke-width=\"1\" opacity=\"1\"/><line transform=\"translate(83,-200)\" x2=\"0\" y2=\"200\" stroke=\"#ddd\" stroke-width=\"1\" opacity=\"1\"/><line transform=\"translate(125,-200)\" x2=\"0\" y2=\"200\" stroke=\"#ddd\" stroke-width=\"1\" opacity=\"1\"/><line transform=\"translate(167,-200)\" x2=\"0\" y2=\"200\" stroke=\"#ddd\" stroke-width=\"1\" opacity=\"1\"/></g></g><path class=\"foreground\" aria-hidden=\"true\" d=\"\" pointer-events=\"none\" display=\"none\"/></g></g><g class=\"mark-group role-axis\" aria-hidden=\"true\"><g transform=\"translate(0.5,0.5)\"><path class=\"background\" aria-hidden=\"true\" d=\"M0,0h0v0h0Z\" pointer-events=\"none\"/><g><g class=\"mark-rule role-axis-grid\" pointer-events=\"none\"><line transform=\"translate(0,178)\" x2=\"200\" y2=\"0\" stroke=\"#ddd\" stroke-width=\"1\" opacity=\"1\"/><line transform=\"translate(0,133)\" x2=\"200\" y2=\"0\" stroke=\"#ddd\" stroke-width=\"1\" opacity=\"1\"/><line transform=\"translate(0,89)\" x2=\"200\" y2=\"0\" stroke=\"#ddd\" stroke-width=\"1\" opacity=\"1\"/><line transform=\"translate(0,44)\" x2=\"200\" y2=\"0\" stroke=\"#ddd\" stroke-width=\"1\" opacity=\"1\"/><line transform=\"translate(0,0)\" x2=\"200\" y2=\"0\" stroke=\"#ddd\" stroke-width=\"1\" opacity=\"1\"/></g></g><path class=\"foreground\" aria-hidden=\"true\" d=\"\" pointer-events=\"none\" display=\"none\"/></g></g><g class=\"mark-group role-axis\" role=\"graphics-symbol\" aria-roledescription=\"axis\" aria-label=\"X-axis titled 'hour' for a linear scale with values from 2,400 to 2,424\"><g transform=\"translate(0.5,200.5)\"><path class=\"background\" aria-hidden=\"true\" d=\"M0,0h0v0h0Z\" pointer-events=\"none\"/><g><g class=\"mark-rule role-axis-tick\" pointer-events=\"none\"><line transform=\"translate(0,0)\" x2=\"0\" y2=\"5\" stroke=\"#888\" stroke-width=\"1\" opacity=\"1\"/><line transform=\"translate(42,0)\" x2=\"0\" y2=\"5\" stroke=\"#888\" stroke-width=\"1\" opacity=\"1\"/><line transform=\"translate(83,0)\" x2=\"0\" y2=\"5\" stroke=\"#888\" stroke-width=\"1\" opacity=\"1\"/><line transform=\"translate(125,0)\" x2=\"0\" y2=\"5\" stroke=\"#888\" stroke-width=\"1\" opacity=\"1\"/><line transform=\"translate(167,0)\" x2=\"0\" y2=\"5\" stroke=\"#888\" stroke-width=\"1\" opacity=\"1\"/></g><g class=\"mark-text role-axis-label\" pointer-events=\"none\"><text text-anchor=\"start\" transform=\"translate(0,15)\" font-family=\"sans-serif\" font-size=\"10px\" fill=\"#000\" opacity=\"1\">2,400</text><text text-anchor=\"middle\" transform=\"translate(41.66666666666667,15)\" font-family=\"sans-serif\" font-size=\"10px\" fill=\"#000\" opacity=\"1\">2,405</text><text text-anchor=\"middle\" transform=\"translate(83.33333333333334,15)\" font-family=\"sans-serif\" font-size=\"10px\" fill=\"#000\" opacity=\"1\">2,410</text><text text-anchor=\"middle\" transform=\"translate(125,15)\" font-family=\"sans-serif\" font-size=\"10px\" fill=\"#000\" opacity=\"1\">2,415</text><text text-anchor=\"middle\" transform=\"translate(166.66666666666669,15)\" font-family=\"sans-serif\" font-size=\"10px\" fill=\"#000\" opacity=\"1\">2,420</text></g><g class=\"mark-rule role-axis-domain\" pointer-events=\"none\"><line transform=\"translate(0,0)\" x2=\"200\" y2=\"0\" stroke=\"#888\" stroke-width=\"1\" opacity=\"1\"/></g><g class=\"mark-text role-axis-title\" pointer-events=\"none\"><text text-anchor=\"middle\" transform=\"translate(100,30)\" font-family=\"sans-serif\" font-size=\"11px\" font-weight=\"bold\" fill=\"#000\" opacity=\"1\">hour</text></g></g><path class=\"foreground\" aria-hidden=\"true\" d=\"\" pointer-events=\"none\" display=\"none\"/></g></g><g class=\"mark-group role-axis\" role=\"graphics-symbol\" aria-roledescription=\"axis\" aria-label=\"Y-axis titled 'Marginal' for a linear scale with values from −9 to 0\"><g transform=\"translate(0.5,0.5)\"><path class=\"background\" aria-hidden=\"true\" d=\"M0,0h0v0h0Z\" pointer-events=\"none\"/><g><g class=\"mark-rule role-axis-tick\" pointer-events=\"none\"><line transform=\"translate(0,178)\" x2=\"-5\" y2=\"0\" stroke=\"#888\" stroke-width=\"1\" opacity=\"1\"/><line transform=\"translate(0,133)\" x2=\"-5\" y2=\"0\" stroke=\"#888\" stroke-width=\"1\" opacity=\"1\"/><line transform=\"translate(0,89)\" x2=\"-5\" y2=\"0\" stroke=\"#888\" stroke-width=\"1\" opacity=\"1\"/><line transform=\"translate(0,44)\" x2=\"-5\" y2=\"0\" stroke=\"#888\" stroke-width=\"1\" opacity=\"1\"/><line transform=\"translate(0,0)\" x2=\"-5\" y2=\"0\" stroke=\"#888\" stroke-width=\"1\" opacity=\"1\"/></g><g class=\"mark-text role-axis-label\" pointer-events=\"none\"><text text-anchor=\"end\" transform=\"translate(-7,180.77777777777777)\" font-family=\"sans-serif\" font-size=\"10px\" fill=\"#000\" opacity=\"1\">−8</text><text text-anchor=\"end\" transform=\"translate(-7,136.33333333333334)\" font-family=\"sans-serif\" font-size=\"10px\" fill=\"#000\" opacity=\"1\">−6</text><text text-anchor=\"end\" transform=\"translate(-7,91.88888888888889)\" font-family=\"sans-serif\" font-size=\"10px\" fill=\"#000\" opacity=\"1\">−4</text><text text-anchor=\"end\" transform=\"translate(-7,47.44444444444444)\" font-family=\"sans-serif\" font-size=\"10px\" fill=\"#000\" opacity=\"1\">−2</text><text text-anchor=\"end\" transform=\"translate(-7,3)\" font-family=\"sans-serif\" font-size=\"10px\" fill=\"#000\" opacity=\"1\">0</text></g><g class=\"mark-rule role-axis-domain\" pointer-events=\"none\"><line transform=\"translate(0,200)\" x2=\"0\" y2=\"-200\" stroke=\"#888\" stroke-width=\"1\" opacity=\"1\"/></g><g class=\"mark-text role-axis-title\" pointer-events=\"none\"><text text-anchor=\"middle\" transform=\"translate(-23,100) rotate(-90) translate(0,-2)\" font-family=\"sans-serif\" font-size=\"11px\" font-weight=\"bold\" fill=\"#000\" opacity=\"1\">Marginal</text></g></g><path class=\"foreground\" aria-hidden=\"true\" d=\"\" pointer-events=\"none\" display=\"none\"/></g></g><g class=\"mark-group role-scope pathgroup\" role=\"graphics-object\" aria-roledescription=\"group mark container\"><g transform=\"translate(0,0)\"><path class=\"background\" aria-hidden=\"true\" d=\"M0,0h200v200h-200Z\"/><g><g class=\"mark-line role-mark marks\" role=\"graphics-object\" aria-roledescription=\"line mark container\"><path aria-label=\"hour: 2401; Marginal: 0; r_id: 3\" role=\"graphics-symbol\" aria-roledescription=\"line mark\" d=\"M8.333333333333332,0L16.666666666666664,0L25,0L33.33333333333333,0L41.66666666666667,0L50,0L58.333333333333336,0L66.66666666666666,0L75,0L83.33333333333334,0L91.66666666666666,0L100,0L108.33333333333333,0L116.66666666666667,0L125,0L133.33333333333331,21.131111111111057L141.66666666666669,42.26222222222209L150,0L158.33333333333331,0L166.66666666666669,0L175,0L183.33333333333331,0L191.66666666666669,0\" stroke=\"#1f77b4\" stroke-width=\"2\"/></g></g><path class=\"foreground\" aria-hidden=\"true\" d=\"\" display=\"none\"/></g><g transform=\"translate(0,0)\"><path class=\"background\" aria-hidden=\"true\" d=\"M0,0h200v200h-200Z\"/><g><g class=\"mark-line role-mark marks\" role=\"graphics-object\" aria-roledescription=\"line mark container\"><path aria-label=\"hour: 2401; Marginal: 0; r_id: 4\" role=\"graphics-symbol\" aria-roledescription=\"line mark\" d=\"M8.333333333333332,0L16.666666666666664,0L25,0L33.33333333333333,0L41.66666666666667,0L50,0L58.333333333333336,0L66.66666666666666,0L75,0L83.33333333333334,0L91.66666666666666,0L100,0L108.33333333333333,0L116.66666666666667,0L125,0L133.33333333333331,0L141.66666666666669,58.76666666666628L150,180.99555555555548L158.33333333333331,0L166.66666666666669,0L175,0L183.33333333333331,0L191.66666666666669,0\" stroke=\"#aec7e8\" stroke-width=\"2\"/></g></g><path class=\"foreground\" aria-hidden=\"true\" d=\"\" display=\"none\"/></g><g transform=\"translate(0,0)\"><path class=\"background\" aria-hidden=\"true\" d=\"M0,0h200v200h-200Z\"/><g><g class=\"mark-line role-mark marks\" role=\"graphics-object\" aria-roledescription=\"line mark container\"><path aria-label=\"hour: 2401; Marginal: 0; r_id: 5\" role=\"graphics-symbol\" aria-roledescription=\"line mark\" d=\"M8.333333333333332,0L16.666666666666664,0L25,0L33.33333333333333,0L41.66666666666667,0L50,0L58.333333333333336,0L66.66666666666666,0L75,0L83.33333333333334,0L91.66666666666666,0L100,0L108.33333333333333,0L116.66666666666667,0L125,0L133.33333333333331,0L141.66666666666669,95.31777777777748L150,199.27111111111105L158.33333333333331,0L166.66666666666669,0L175,0L183.33333333333331,0L191.66666666666669,0\" stroke=\"#ff7f0e\" stroke-width=\"2\"/></g></g><path class=\"foreground\" aria-hidden=\"true\" d=\"\" display=\"none\"/></g><g transform=\"translate(0,0)\"><path class=\"background\" aria-hidden=\"true\" d=\"M0,0h200v200h-200Z\"/><g><g class=\"mark-line role-mark marks\" role=\"graphics-object\" aria-roledescription=\"line mark container\"><path aria-label=\"hour: 2401; Marginal: 0; r_id: 6\" role=\"graphics-symbol\" aria-roledescription=\"line mark\" d=\"M8.333333333333332,0L16.666666666666664,0L25,0L33.33333333333333,0L41.66666666666667,0L50,0L58.333333333333336,0L66.66666666666666,0L75,0L83.33333333333334,0L91.66666666666666,0L100,0L108.33333333333333,0L116.66666666666667,0L125,0L133.33333333333331,0L141.66666666666669,0L150,0L158.33333333333331,0L166.66666666666669,0L175,0L183.33333333333331,0L191.66666666666669,0\" stroke=\"#ffbb78\" stroke-width=\"2\"/></g></g><path class=\"foreground\" aria-hidden=\"true\" d=\"\" display=\"none\"/></g><g transform=\"translate(0,0)\"><path class=\"background\" aria-hidden=\"true\" d=\"M0,0h200v200h-200Z\"/><g><g class=\"mark-line role-mark marks\" role=\"graphics-object\" aria-roledescription=\"line mark container\"><path aria-label=\"hour: 2401; Marginal: 0; r_id: 7\" role=\"graphics-symbol\" aria-roledescription=\"line mark\" d=\"M8.333333333333332,0L16.666666666666664,0L25,0L33.33333333333333,0L41.66666666666667,0L50,0L58.333333333333336,0L66.66666666666666,0L75,0L83.33333333333334,0L91.66666666666666,0L100,0L108.33333333333333,0L116.66666666666667,0L125,0L133.33333333333331,0L141.66666666666669,0L150,0L158.33333333333331,0L166.66666666666669,0L175,0L183.33333333333331,0L191.66666666666669,0\" stroke=\"#2ca02c\" stroke-width=\"2\"/></g></g><path class=\"foreground\" aria-hidden=\"true\" d=\"\" display=\"none\"/></g><g transform=\"translate(0,0)\"><path class=\"background\" aria-hidden=\"true\" d=\"M0,0h200v200h-200Z\"/><g><g class=\"mark-line role-mark marks\" role=\"graphics-object\" aria-roledescription=\"line mark container\"><path aria-label=\"hour: 2401; Marginal: 0; r_id: 8\" role=\"graphics-symbol\" aria-roledescription=\"line mark\" d=\"M8.333333333333332,0L16.666666666666664,0L25,0L33.33333333333333,0L41.66666666666667,0L50,0L58.333333333333336,0L66.66666666666666,0L75,0L83.33333333333334,0L91.66666666666666,0L100,0L108.33333333333333,0L116.66666666666667,0L125,0L133.33333333333331,0L141.66666666666669,0L150,0L158.33333333333331,0L166.66666666666669,0L175,0L183.33333333333331,0L191.66666666666669,0\" stroke=\"#98df8a\" stroke-width=\"2\"/></g></g><path class=\"foreground\" aria-hidden=\"true\" d=\"\" display=\"none\"/></g></g><g class=\"mark-group role-legend\" role=\"graphics-symbol\" aria-roledescription=\"legend\" aria-label=\"Symbol legend titled 'r_id' for stroke color with 6 values: 3, 4, 5, 6, 7, 8\"><g transform=\"translate(218,0)\"><path class=\"background\" aria-hidden=\"true\" d=\"M0,0h22v92h-22Z\" pointer-events=\"none\"/><g><g class=\"mark-group role-legend-entry\"><g transform=\"translate(0,16)\"><path class=\"background\" aria-hidden=\"true\" d=\"M0,0h0v0h0Z\" pointer-events=\"none\"/><g><g class=\"mark-group role-scope\" role=\"graphics-object\" aria-roledescription=\"group mark container\"><g transform=\"translate(0,0)\"><path class=\"background\" aria-hidden=\"true\" d=\"M0,0h21v11h-21Z\" pointer-events=\"none\" opacity=\"1\"/><g><g class=\"mark-symbol role-legend-symbol\" pointer-events=\"none\"><path transform=\"translate(6,6)\" d=\"M-5,0L5,0\" stroke=\"#1f77b4\" stroke-width=\"1.5\" opacity=\"1\"/></g><g class=\"mark-text role-legend-label\" pointer-events=\"none\"><text text-anchor=\"start\" transform=\"translate(16,9)\" font-family=\"sans-serif\" font-size=\"10px\" fill=\"#000\" opacity=\"1\">3</text></g></g><path class=\"foreground\" aria-hidden=\"true\" d=\"\" pointer-events=\"none\" display=\"none\"/></g><g transform=\"translate(0,13)\"><path class=\"background\" aria-hidden=\"true\" d=\"M0,0h21v11h-21Z\" pointer-events=\"none\" opacity=\"1\"/><g><g class=\"mark-symbol role-legend-symbol\" pointer-events=\"none\"><path transform=\"translate(6,6)\" d=\"M-5,0L5,0\" stroke=\"#aec7e8\" stroke-width=\"1.5\" opacity=\"1\"/></g><g class=\"mark-text role-legend-label\" pointer-events=\"none\"><text text-anchor=\"start\" transform=\"translate(16,9)\" font-family=\"sans-serif\" font-size=\"10px\" fill=\"#000\" opacity=\"1\">4</text></g></g><path class=\"foreground\" aria-hidden=\"true\" d=\"\" pointer-events=\"none\" display=\"none\"/></g><g transform=\"translate(0,26)\"><path class=\"background\" aria-hidden=\"true\" d=\"M0,0h21v11h-21Z\" pointer-events=\"none\" opacity=\"1\"/><g><g class=\"mark-symbol role-legend-symbol\" pointer-events=\"none\"><path transform=\"translate(6,6)\" d=\"M-5,0L5,0\" stroke=\"#ff7f0e\" stroke-width=\"1.5\" opacity=\"1\"/></g><g class=\"mark-text role-legend-label\" pointer-events=\"none\"><text text-anchor=\"start\" transform=\"translate(16,9)\" font-family=\"sans-serif\" font-size=\"10px\" fill=\"#000\" opacity=\"1\">5</text></g></g><path class=\"foreground\" aria-hidden=\"true\" d=\"\" pointer-events=\"none\" display=\"none\"/></g><g transform=\"translate(0,39)\"><path class=\"background\" aria-hidden=\"true\" d=\"M0,0h21v11h-21Z\" pointer-events=\"none\" opacity=\"1\"/><g><g class=\"mark-symbol role-legend-symbol\" pointer-events=\"none\"><path transform=\"translate(6,6)\" d=\"M-5,0L5,0\" stroke=\"#ffbb78\" stroke-width=\"1.5\" opacity=\"1\"/></g><g class=\"mark-text role-legend-label\" pointer-events=\"none\"><text text-anchor=\"start\" transform=\"translate(16,9)\" font-family=\"sans-serif\" font-size=\"10px\" fill=\"#000\" opacity=\"1\">6</text></g></g><path class=\"foreground\" aria-hidden=\"true\" d=\"\" pointer-events=\"none\" display=\"none\"/></g><g transform=\"translate(0,52)\"><path class=\"background\" aria-hidden=\"true\" d=\"M0,0h21v11h-21Z\" pointer-events=\"none\" opacity=\"1\"/><g><g class=\"mark-symbol role-legend-symbol\" pointer-events=\"none\"><path transform=\"translate(6,6)\" d=\"M-5,0L5,0\" stroke=\"#2ca02c\" stroke-width=\"1.5\" opacity=\"1\"/></g><g class=\"mark-text role-legend-label\" pointer-events=\"none\"><text text-anchor=\"start\" transform=\"translate(16,9)\" font-family=\"sans-serif\" font-size=\"10px\" fill=\"#000\" opacity=\"1\">7</text></g></g><path class=\"foreground\" aria-hidden=\"true\" d=\"\" pointer-events=\"none\" display=\"none\"/></g><g transform=\"translate(0,65)\"><path class=\"background\" aria-hidden=\"true\" d=\"M0,0h21v11h-21Z\" pointer-events=\"none\" opacity=\"1\"/><g><g class=\"mark-symbol role-legend-symbol\" pointer-events=\"none\"><path transform=\"translate(6,6)\" d=\"M-5,0L5,0\" stroke=\"#98df8a\" stroke-width=\"1.5\" opacity=\"1\"/></g><g class=\"mark-text role-legend-label\" pointer-events=\"none\"><text text-anchor=\"start\" transform=\"translate(16,9)\" font-family=\"sans-serif\" font-size=\"10px\" fill=\"#000\" opacity=\"1\">8</text></g></g><path class=\"foreground\" aria-hidden=\"true\" d=\"\" pointer-events=\"none\" display=\"none\"/></g></g></g><path class=\"foreground\" aria-hidden=\"true\" d=\"\" pointer-events=\"none\" display=\"none\"/></g></g><g class=\"mark-text role-legend-title\" pointer-events=\"none\"><text text-anchor=\"start\" transform=\"translate(0,9)\" font-family=\"sans-serif\" font-size=\"11px\" font-weight=\"bold\" fill=\"#000\" opacity=\"1\">r_id</text></g></g><path class=\"foreground\" aria-hidden=\"true\" d=\"\" pointer-events=\"none\" display=\"none\"/></g></g></g><path class=\"foreground\" aria-hidden=\"true\" d=\"\" display=\"none\"/></g></g></g></svg>\n"
      ],
      "text/plain": [
       "@vlplot(\n",
       "    mark=\"line\",\n",
       "    encoding={\n",
       "        x={\n",
       "            field=\"hour\"\n",
       "        },\n",
       "        y={\n",
       "            title=\"Marginal\",\n",
       "            field=\"gen\"\n",
       "        },\n",
       "        color={\n",
       "            scale={\n",
       "                scheme=\"category20\"\n",
       "            },\n",
       "            field=\"r_id\",\n",
       "            type=\"nominal\"\n",
       "        }\n",
       "    },\n",
       "    data={\n",
       "        values=...\n",
       "    }\n",
       ")"
      ]
     },
     "execution_count": 44,
     "metadata": {},
     "output_type": "execute_result"
    }
   ],
   "source": [
    "marg_gen = innerjoin(solution.marginals, \n",
    "                    gen_df[!, [:r_id, :resource]], \n",
    "                    on = :r_id)\n",
    "marg_gen[marg_gen.resource .== \"natural_gas_fired_combined_cycle\",:] |>\n",
    "@vlplot(:line, \n",
    "    x=:hour, y={:gen, title=\"Marginal\"}, \n",
    "    color={\"r_id:n\", scale={scheme=\"category20\"}})\n",
    "\n",
    "     "
   ]
  },
  {
   "cell_type": "code",
   "execution_count": 45,
   "id": "fd9f0007",
   "metadata": {},
   "outputs": [
    {
     "data": {
      "text/html": [
       "<div><div style = \"float: left;\"><span>DataFrameRow (4 columns)</span></div><div style = \"clear: both;\"></div></div><div class = \"data-frame\" style = \"overflow-x: scroll;\"><table class = \"data-frame\" style = \"margin-bottom: 6px;\"><thead><tr class = \"header\"><th class = \"rowLabel\" style = \"font-weight: bold; text-align: right;\">Row</th><th style = \"text-align: left;\">r_id</th><th style = \"text-align: left;\">hour</th><th style = \"text-align: left;\">gen</th><th style = \"text-align: left;\">resource</th></tr><tr class = \"subheader headerLastRow\"><th class = \"rowLabel\" style = \"font-weight: bold; text-align: right;\"></th><th title = \"Union{Missing, Int64}\" style = \"text-align: left;\">Int64?</th><th title = \"Int64\" style = \"text-align: left;\">Int64</th><th title = \"Float64\" style = \"text-align: left;\">Float64</th><th title = \"Union{Missing, String}\" style = \"text-align: left;\">String?</th></tr></thead><tbody><tr><td class = \"rowLabel\" style = \"font-weight: bold; text-align: right;\">430</td><td style = \"text-align: right;\">5</td><td style = \"text-align: right;\">2418</td><td style = \"text-align: right;\">-8.9672</td><td style = \"text-align: left;\">natural_gas_fired_combined_cycle</td></tr></tbody></table></div>"
      ],
      "text/latex": [
       "\\begin{tabular}{r|cccc}\n",
       "\t& r\\_id & hour & gen & resource\\\\\n",
       "\t\\hline\n",
       "\t& Int64? & Int64 & Float64 & String?\\\\\n",
       "\t\\hline\n",
       "\t430 & 5 & 2418 & -8.9672 & natural\\_gas\\_fired\\_combined\\_cycle \\\\\n",
       "\\end{tabular}\n"
      ],
      "text/plain": [
       "\u001b[1mDataFrameRow\u001b[0m\n",
       "\u001b[1m Row \u001b[0m│\u001b[1m r_id   \u001b[0m\u001b[1m hour  \u001b[0m\u001b[1m gen     \u001b[0m\u001b[1m resource                         \u001b[0m\n",
       "     │\u001b[90m Int64? \u001b[0m\u001b[90m Int64 \u001b[0m\u001b[90m Float64 \u001b[0m\u001b[90m String?                          \u001b[0m\n",
       "─────┼──────────────────────────────────────────────────────────\n",
       " 430 │      5   2418  -8.9672  natural_gas_fired_combined_cycle"
      ]
     },
     "execution_count": 45,
     "metadata": {},
     "output_type": "execute_result"
    }
   ],
   "source": [
    "marg_gen[argmin(marg_gen.gen),:]"
   ]
  },
  {
   "cell_type": "code",
   "execution_count": 46,
   "id": "ba25fe06",
   "metadata": {},
   "outputs": [
    {
     "data": {
      "text/html": [
       "<div><div style = \"float: left;\"><span>2×2 DataFrame</span></div><div style = \"clear: both;\"></div></div><div class = \"data-frame\" style = \"overflow-x: scroll;\"><table class = \"data-frame\" style = \"margin-bottom: 6px;\"><thead><tr class = \"header\"><th class = \"rowNumber\" style = \"font-weight: bold; text-align: right;\">Row</th><th style = \"text-align: left;\">r_id</th><th style = \"text-align: left;\">varcost</th></tr><tr class = \"subheader headerLastRow\"><th class = \"rowNumber\" style = \"font-weight: bold; text-align: right;\"></th><th title = \"Union{Missing, Int64}\" style = \"text-align: left;\">Int64?</th><th title = \"Float64\" style = \"text-align: left;\">Float64</th></tr></thead><tbody><tr><td class = \"rowNumber\" style = \"font-weight: bold; text-align: right;\">1</td><td style = \"text-align: right;\">5</td><td style = \"text-align: right;\">29.3061</td></tr><tr><td class = \"rowNumber\" style = \"font-weight: bold; text-align: right;\">2</td><td style = \"text-align: right;\">9</td><td style = \"text-align: right;\">38.2733</td></tr></tbody></table></div>"
      ],
      "text/latex": [
       "\\begin{tabular}{r|cc}\n",
       "\t& r\\_id & varcost\\\\\n",
       "\t\\hline\n",
       "\t& Int64? & Float64\\\\\n",
       "\t\\hline\n",
       "\t1 & 5 & 29.3061 \\\\\n",
       "\t2 & 9 & 38.2733 \\\\\n",
       "\\end{tabular}\n"
      ],
      "text/plain": [
       "\u001b[1m2×2 DataFrame\u001b[0m\n",
       "\u001b[1m Row \u001b[0m│\u001b[1m r_id   \u001b[0m\u001b[1m varcost \u001b[0m\n",
       "     │\u001b[90m Int64? \u001b[0m\u001b[90m Float64 \u001b[0m\n",
       "─────┼─────────────────\n",
       "   1 │      5  29.3061\n",
       "   2 │      9  38.2733"
      ]
     },
     "execution_count": 46,
     "metadata": {},
     "output_type": "execute_result"
    }
   ],
   "source": [
    "\n",
    "varcost_comp = supply_curve[in.(supply_curve.r_id,Ref([5,9])),[:r_id,:varcost]]\n",
    "varcost_comp"
   ]
  },
  {
   "cell_type": "code",
   "execution_count": 47,
   "id": "4104ac01",
   "metadata": {},
   "outputs": [
    {
     "data": {
      "text/plain": [
       "8.967199999999998"
      ]
     },
     "execution_count": 47,
     "metadata": {},
     "output_type": "execute_result"
    }
   ],
   "source": [
    "varcost_comp[2,2] - varcost_comp[1,2]"
   ]
  },
  {
   "cell_type": "code",
   "execution_count": null,
   "id": "0b698593",
   "metadata": {},
   "outputs": [],
   "source": []
  }
 ],
 "metadata": {
  "kernelspec": {
   "display_name": "Julia 1.8.4",
   "language": "julia",
   "name": "julia-1.8"
  },
  "language_info": {
   "file_extension": ".jl",
   "mimetype": "application/julia",
   "name": "julia",
   "version": "1.8.4"
  }
 },
 "nbformat": 4,
 "nbformat_minor": 5
}

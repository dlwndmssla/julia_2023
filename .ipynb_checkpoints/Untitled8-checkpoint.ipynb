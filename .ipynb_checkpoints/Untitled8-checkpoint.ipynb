{
 "cells": [
  {
   "cell_type": "code",
   "execution_count": 10,
   "id": "1d56a93b",
   "metadata": {},
   "outputs": [],
   "source": [
    "using JuMP, HiGHS\n",
    "using Plots; plotly();\n",
    "using VegaLite  # to make some nice plots\n",
    "using DataFrames, CSV, PrettyTables\n",
    "using FileIO\n",
    "using PlotlyKaleido\n",
    "ENV[\"COLUMNS\"]=120;"
   ]
  },
  {
   "cell_type": "code",
   "execution_count": 17,
   "id": "c321653b",
   "metadata": {},
   "outputs": [],
   "source": [
    "data = CSV.read(\"net_demand(2022-06-30)2.csv\", DataFrame);\n",
    "datadir = joinpath(\"ed_data\") "
   ]
  },
  {
   "cell_type": "code",
   "execution_count": 19,
   "id": "30e3e9f9",
   "metadata": {},
   "outputs": [
    {
     "ename": "LoadError",
     "evalue": "UndefVarError: datadir not defined",
     "output_type": "error",
     "traceback": [
      "UndefVarError: datadir not defined",
      "",
      "Stacktrace:",
      " [1] top-level scope",
      "   @ In[19]:1"
     ]
    }
   ],
   "source": [
    "gen_info = CSV.read(joinpath(datadir,\"Generators_data.csv\"), DataFrame);\n",
    "fuels = CSV.read(joinpath(datadir,\"Fuels_data.csv\"), DataFrame);\n",
    "loads = data[!,:Netdemand]\n",
    "gen_variable = CSV.read(joinpath(datadir,\"Generators_variability.csv\"), DataFrame);\n"
   ]
  },
  {
   "cell_type": "code",
   "execution_count": 18,
   "id": "a6c4aa01",
   "metadata": {},
   "outputs": [
    {
     "ename": "LoadError",
     "evalue": "UndefVarError: gen_info not defined",
     "output_type": "error",
     "traceback": [
      "UndefVarError: gen_info not defined",
      "",
      "Stacktrace:",
      " [1] top-level scope",
      "   @ .\\In[18]:2"
     ]
    }
   ],
   "source": [
    "# Rename all columns to lowercase (by convention)\n",
    "for f in [gen_info, fuels, loads, gen_variable]\n",
    "    rename!(f,lowercase.(names(f)))\n",
    "end"
   ]
  },
  {
   "cell_type": "code",
   "execution_count": 16,
   "id": "e9baa50e",
   "metadata": {},
   "outputs": [
    {
     "ename": "LoadError",
     "evalue": "ArgumentError: column name \"Netdemand\" not found in the data frame; existing most similar names are: \"Net demand\"",
     "output_type": "error",
     "traceback": [
      "ArgumentError: column name \"Netdemand\" not found in the data frame; existing most similar names are: \"Net demand\"",
      "",
      "Stacktrace:",
      " [1] lookupname",
      "   @ C:\\Users\\user\\.julia\\packages\\DataFrames\\dgZn3\\src\\other\\index.jl:399 [inlined]",
      " [2] getindex",
      "   @ C:\\Users\\user\\.julia\\packages\\DataFrames\\dgZn3\\src\\other\\index.jl:405 [inlined]",
      " [3] getindex(df::DataFrame, #unused#::typeof(!), col_ind::Symbol)",
      "   @ DataFrames C:\\Users\\user\\.julia\\packages\\DataFrames\\dgZn3\\src\\dataframe\\dataframe.jl:551",
      " [4] top-level scope",
      "   @ In[16]:1"
     ]
    }
   ],
   "source": []
  },
  {
   "cell_type": "code",
   "execution_count": null,
   "id": "b6c4f05f",
   "metadata": {},
   "outputs": [],
   "source": []
  }
 ],
 "metadata": {
  "kernelspec": {
   "display_name": "Julia 1.8.4",
   "language": "julia",
   "name": "julia-1.8"
  },
  "language_info": {
   "file_extension": ".jl",
   "mimetype": "application/julia",
   "name": "julia",
   "version": "1.8.4"
  }
 },
 "nbformat": 4,
 "nbformat_minor": 5
}

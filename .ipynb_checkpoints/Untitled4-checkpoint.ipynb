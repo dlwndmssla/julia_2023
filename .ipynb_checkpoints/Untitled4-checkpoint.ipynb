{
 "cells": [
  {
   "cell_type": "code",
   "execution_count": 53,
   "id": "bcd82911",
   "metadata": {},
   "outputs": [
    {
     "data": {
      "text/plain": [
       "3-element Vector{Int64}:\n",
       " 10\n",
       "  3\n",
       " 10"
      ]
     },
     "execution_count": 53,
     "metadata": {},
     "output_type": "execute_result"
    }
   ],
   "source": [
    "using JuMP, GLPK, LinearAlgebra, Combinatorics, Printf\n",
    "\n",
    "\n"
   ]
  },
  {
   "cell_type": "code",
   "execution_count": 61,
   "id": "cc1d1765",
   "metadata": {},
   "outputs": [
    {
     "name": "stderr",
     "output_type": "stream",
     "text": [
      "WARNING: replacing module SimplexMethod.\n"
     ]
    },
    {
     "data": {
      "text/plain": [
       "Main.SimplexMethod"
      ]
     },
     "execution_count": 61,
     "metadata": {},
     "output_type": "execute_result"
    }
   ],
   "source": [
    "\n",
    "      using LinearAlgebra, Combinatorics, Printf\n",
    "\n",
    "      export simplex_method\n",
    "\n",
    "      mutable struct SimplexTableau\n",
    "        z_c     ::Array{Float64} # z_j - c_j\n",
    "        Y       ::Array{Float64} # inv(B) * A\n",
    "        x_B     ::Array{Float64} # inv(B) * b\n",
    "        obj     ::Float64        # c_B * x_B\n",
    "        b_idx   ::Array{Int64}   # indices for basic variables x_B\n",
    "      end\n",
    "\n",
    "      function is_nonnegative(x::Vector)\n",
    "        return length( x[ x .< 0] ) == 0\n",
    "      end\n",
    "\n",
    "      function is_nonpositive(z::Array)\n",
    "        return length( z[ z .> 0] ) == 0\n",
    "      end\n",
    "\n",
    "      function initial_BFS(A, b)\n",
    "        m, n = size(A)\n",
    "\n",
    "        comb = collect(combinations(1:n, m))\n",
    "        for i in length(comb):-1:1\n",
    "          b_idx = comb[i]\n",
    "          B = A[:, b_idx]\n",
    "          x_B = inv(B) * b\n",
    "          if is_nonnegative(x_B)\n",
    "            return b_idx, x_B, B\n",
    "          end\n",
    "        end\n",
    "\n",
    "        error(\"Infeasible\")\n",
    "      end\n",
    "\n",
    "      function print_tableau(t::SimplexTableau)\n",
    "        m, n = size(t.Y)\n",
    "\n",
    "        hline0 = repeat(\"-\", 6)\n",
    "        hline1 = repeat(\"-\", 7*n)\n",
    "        hline2 = repeat(\"-\", 7)\n",
    "        hline = join([hline0, \"+\", hline1, \"+\", hline2])\n",
    "\n",
    "        println(hline)\n",
    "\n",
    "        @printf(\"%6s|\", \"\")\n",
    "        for j in 1:length(t.z_c)\n",
    "          @printf(\"%6.2f \", t.z_c[j])\n",
    "        end\n",
    "        @printf(\"| %6.2f\\n\", t.obj)\n",
    "\n",
    "        println(hline)\n",
    "\n",
    "        for i in 1:m\n",
    "          @printf(\"x[%2d] |\", t.b_idx[i])\n",
    "          for j in 1:n\n",
    "            @printf(\"%6.2f \", t.Y[i,j])\n",
    "          end\n",
    "          @printf(\"| %6.2f\\n\", t.x_B[i])\n",
    "        end\n",
    "\n",
    "        println(hline)\n",
    "      end\n",
    "\n",
    "      function pivoting!(t::SimplexTableau)\n",
    "        m, n = size(t.Y)\n",
    "\n",
    "        entering, exiting = pivot_point(t)\n",
    "        println(\"Pivoting: entering = x_$entering, exiting = x_$(t.b_idx[exiting])\")\n",
    "\n",
    "        # Pivoting: exiting-row, entering-column\n",
    "        # updating exiting-row\n",
    "        coef = t.Y[exiting, entering]\n",
    "        t.Y[exiting, :] /= coef\n",
    "        t.x_B[exiting] /= coef\n",
    "\n",
    "        # updating other rows of Y\n",
    "        for i in setdiff(1:m, exiting)\n",
    "          coef = t.Y[i, entering]\n",
    "          t.Y[i, :] -= coef * t.Y[exiting, :]\n",
    "          t.x_B[i] -= coef * t.x_B[exiting]\n",
    "        end\n",
    "\n",
    "        # updating the row for the reduced costs\n",
    "        coef = t.z_c[entering]\n",
    "        t.z_c -= coef * t.Y[exiting, :]'\n",
    "        t.obj -= coef * t.x_B[exiting]\n",
    "\n",
    "        # Updating b_idx\n",
    "        t.b_idx[ findfirst(t.b_idx .== t.b_idx[exiting]) ] = entering\n",
    "      end\n",
    "\n",
    "      function pivot_point(t::SimplexTableau)\n",
    "        # Finding the entering variable index\n",
    "        entering = findfirst( t.z_c .> 0)[2]\n",
    "        if entering == 0\n",
    "          error(\"Optimal\")\n",
    "        end\n",
    "\n",
    "        # min ratio test / finding the exiting variable index\n",
    "        pos_idx = findall( t.Y[:, entering] .> 0 )\n",
    "        if length(pos_idx) == 0\n",
    "          error(\"Unbounded\")\n",
    "        end\n",
    "        exiting = pos_idx[ argmin( t.x_B[pos_idx] ./ t.Y[pos_idx, entering] ) ]\n",
    "\n",
    "        return entering, exiting\n",
    "      end\n",
    "\n",
    "      function initialize(c, A, b)\n",
    "        c = Array{Float64}(c)\n",
    "        A = Array{Float64}(A)\n",
    "        b = Array{Float64}(b)\n",
    "\n",
    "        m, n = size(A)\n",
    "\n",
    "        # Finding an initial BFS\n",
    "        b_idx, x_B, B = initial_BFS(A,b)\n",
    "\n",
    "        Y = inv(B) * A\n",
    "        c_B = c[b_idx]\n",
    "        obj = dot(c_B, x_B)\n",
    "\n",
    "        # z_c is a row vector\n",
    "        z_c = zeros(1,n)\n",
    "        n_idx = setdiff(1:n, b_idx)\n",
    "        z_c[n_idx] = c_B' * inv(B) * A[:,n_idx] - c[n_idx]'\n",
    "\n",
    "        return SimplexTableau(z_c, Y, x_B, obj, b_idx)\n",
    "      end\n",
    "\n",
    "      function is_optimal(t::SimplexTableau)\n",
    "        return is_nonpositive(t.z_c)\n",
    "      end\n",
    "\n",
    "      function simplex_method(c, A, b)\n",
    "        tableau = initialize(c, A, b)\n",
    "        print_tableau(tableau)\n",
    "\n",
    "        while !is_optimal(tableau)\n",
    "          pivoting!(tableau)\n",
    "          print_tableau(tableau)\n",
    "        end\n",
    "\n",
    "        opt_x = zeros(length(c))\n",
    "        opt_x[tableau.b_idx] = tableau.x_B\n",
    "\n",
    "        return opt_x, tableau.obj\n",
    "      end\n"
   ]
  },
  {
   "cell_type": "code",
   "execution_count": 62,
   "id": "ddfe24c1",
   "metadata": {},
   "outputs": [
    {
     "ename": "LoadError",
     "evalue": "UndefVarError: simplex_method not defined",
     "output_type": "error",
     "traceback": [
      "UndefVarError: simplex_method not defined",
      "",
      "Stacktrace:",
      " [1] top-level scope",
      "   @ In[62]:6"
     ]
    }
   ],
   "source": [
    "c = [-2; 3; -1; 0; 0; 0]\n",
    "A = [1 1 1 1 0 0 ;\n",
    "    4 -3 1 0 1 0 ;\n",
    "    2 1 -1 0 0 1 ]\n",
    "b = [10; 3; 10]\n",
    "simplex_method(c, A, b)"
   ]
  },
  {
   "cell_type": "code",
   "execution_count": 57,
   "id": "c7c46cf6",
   "metadata": {},
   "outputs": [
    {
     "ename": "LoadError",
     "evalue": "UndefVarError: simplex_method not defined",
     "output_type": "error",
     "traceback": [
      "UndefVarError: simplex_method not defined",
      "",
      "Stacktrace:",
      " [1] top-level scope",
      "   @ In[57]:1"
     ]
    }
   ],
   "source": [
    "simplex_method(c, A, b)"
   ]
  },
  {
   "cell_type": "code",
   "execution_count": null,
   "id": "00ab12df",
   "metadata": {},
   "outputs": [],
   "source": []
  }
 ],
 "metadata": {
  "kernelspec": {
   "display_name": "Julia 1.8.4",
   "language": "julia",
   "name": "julia-1.8"
  },
  "language_info": {
   "file_extension": ".jl",
   "mimetype": "application/julia",
   "name": "julia",
   "version": "1.8.4"
  }
 },
 "nbformat": 4,
 "nbformat_minor": 5
}

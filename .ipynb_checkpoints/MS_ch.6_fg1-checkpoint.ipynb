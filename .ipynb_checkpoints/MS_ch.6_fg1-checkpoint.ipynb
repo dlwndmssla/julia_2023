{
 "cells": [
  {
   "cell_type": "code",
   "execution_count": 34,
   "id": "dd426e0a",
   "metadata": {},
   "outputs": [
    {
     "data": {
      "text/plain": [
       "5×6 Matrix{Any}:\n",
       "     \"\"  \"\"           6000          …  2000             1500\n",
       "     \"\"  \"\"               \"boston\"         \" st.louis\"      \" lexingtom\"\n",
       " 5000    \"cleveland\"     3                7                6\n",
       " 6000    \"bedford\"       7                2                3\n",
       " 2500    \"york\"          2                4                5"
      ]
     },
     "execution_count": 34,
     "metadata": {},
     "output_type": "execute_result"
    }
   ],
   "source": [
    "using DelimitedFiles\n",
    "\n",
    "data = readdlm(\"ch6_fg1.csv\",',')"
   ]
  },
  {
   "cell_type": "code",
   "execution_count": 35,
   "id": "45d18bf6",
   "metadata": {},
   "outputs": [
    {
     "data": {
      "text/plain": [
       "3-element Vector{Any}:\n",
       " \"cleveland\"\n",
       " \"bedford\"\n",
       " \"york\""
      ]
     },
     "execution_count": 35,
     "metadata": {},
     "output_type": "execute_result"
    }
   ],
   "source": [
    "s_nodes = data[3:end,2]\n"
   ]
  },
  {
   "cell_type": "code",
   "execution_count": 36,
   "id": "8a26e002",
   "metadata": {},
   "outputs": [
    {
     "data": {
      "text/plain": [
       "3-element Vector{Any}:\n",
       " 5000\n",
       " 6000\n",
       " 2500"
      ]
     },
     "execution_count": 36,
     "metadata": {},
     "output_type": "execute_result"
    }
   ],
   "source": [
    "s = data[3:end,1]"
   ]
  },
  {
   "cell_type": "code",
   "execution_count": 37,
   "id": "ded921fe",
   "metadata": {},
   "outputs": [
    {
     "data": {
      "text/plain": [
       "4-element Vector{Any}:\n",
       " \"boston\"\n",
       " \" chicago\"\n",
       " \" st.louis\"\n",
       " \" lexingtom\""
      ]
     },
     "execution_count": 37,
     "metadata": {},
     "output_type": "execute_result"
    }
   ],
   "source": [
    "d_nodes = data[2, 3:end]\n"
   ]
  },
  {
   "cell_type": "code",
   "execution_count": 38,
   "id": "a3e3c05a",
   "metadata": {},
   "outputs": [
    {
     "data": {
      "text/plain": [
       "4-element Vector{Any}:\n",
       " 6000\n",
       " 4000\n",
       " 2000\n",
       " 1500"
      ]
     },
     "execution_count": 38,
     "metadata": {},
     "output_type": "execute_result"
    }
   ],
   "source": [
    "d = data[1, 3:end]"
   ]
  },
  {
   "cell_type": "code",
   "execution_count": 39,
   "id": "5a8ca77a",
   "metadata": {},
   "outputs": [
    {
     "data": {
      "text/plain": [
       "3×4 Matrix{Any}:\n",
       " 3  2  7  6\n",
       " 7  5  2  3\n",
       " 2  5  4  5"
      ]
     },
     "execution_count": 39,
     "metadata": {},
     "output_type": "execute_result"
    }
   ],
   "source": [
    "c = data[3:end,3:end]"
   ]
  },
  {
   "cell_type": "code",
   "execution_count": 40,
   "id": "9daa8f9d",
   "metadata": {},
   "outputs": [
    {
     "data": {
      "text/plain": [
       "Dict{SubString{String}, Int64} with 4 entries:\n",
       "  \" lexingtom\" => 1500\n",
       "  \" chicago\"   => 4000\n",
       "  \"boston\"     => 6000\n",
       "  \" st.louis\"  => 2000"
      ]
     },
     "execution_count": 40,
     "metadata": {},
     "output_type": "execute_result"
    }
   ],
   "source": [
    "s_dict = Dict(s_nodes .=>s)\n",
    "d_dict = Dict(d_nodes .=>d)"
   ]
  },
  {
   "cell_type": "code",
   "execution_count": 41,
   "id": "ebc0cc69",
   "metadata": {},
   "outputs": [
    {
     "data": {
      "text/plain": [
       "Dict{Tuple{SubString{String}, SubString{String}}, Int64} with 12 entries:\n",
       "  (\"cleveland\", \" st.louis\")  => 7\n",
       "  (\"york\", \" st.louis\")       => 4\n",
       "  (\"bedford\", \" chicago\")     => 5\n",
       "  (\"cleveland\", \" chicago\")   => 2\n",
       "  (\"cleveland\", \" lexingtom\") => 6\n",
       "  (\"york\", \" chicago\")        => 5\n",
       "  (\"bedford\", \"boston\")       => 7\n",
       "  (\"bedford\", \" st.louis\")    => 2\n",
       "  (\"york\", \" lexingtom\")      => 5\n",
       "  (\"cleveland\", \"boston\")     => 3\n",
       "  (\"york\", \"boston\")          => 2\n",
       "  (\"bedford\", \" lexingtom\")   => 3"
      ]
     },
     "execution_count": 41,
     "metadata": {},
     "output_type": "execute_result"
    }
   ],
   "source": [
    "c_dict = Dict(  (s_nodes[i], d_nodes[j])  => c[i,j]   for i in 1:length(s_nodes), j in 1:length(d_nodes)                )"
   ]
  },
  {
   "cell_type": "code",
   "execution_count": 45,
   "id": "fc7129da",
   "metadata": {},
   "outputs": [
    {
     "data": {
      "text/plain": [
       "A JuMP Model\n",
       "Feasibility problem with:\n",
       "Variables: 0\n",
       "Model mode: AUTOMATIC\n",
       "CachingOptimizer state: EMPTY_OPTIMIZER\n",
       "Solver name: GLPK"
      ]
     },
     "execution_count": 45,
     "metadata": {},
     "output_type": "execute_result"
    }
   ],
   "source": [
    "using JuMP, GLPK\n",
    "\n",
    "tp = Model(GLPK.Optimizer)"
   ]
  },
  {
   "cell_type": "code",
   "execution_count": 46,
   "id": "2b8f321a",
   "metadata": {},
   "outputs": [
    {
     "data": {
      "text/plain": [
       "2-dimensional DenseAxisArray{VariableRef,2,...} with index sets:\n",
       "    Dimension 1, Any[\"cleveland\", \"bedford\", \"york\"]\n",
       "    Dimension 2, Any[\"boston\", \" chicago\", \" st.louis\", \" lexingtom\"]\n",
       "And data, a 3×4 Matrix{VariableRef}:\n",
       " x[cleveland,boston]  x[cleveland, chicago]  …  x[cleveland, lexingtom]\n",
       " x[bedford,boston]    x[bedford, chicago]       x[bedford, lexingtom]\n",
       " x[york,boston]       x[york, chicago]          x[york, lexingtom]"
      ]
     },
     "execution_count": 46,
     "metadata": {},
     "output_type": "execute_result"
    }
   ],
   "source": [
    "@variable(tp, x[s_nodes, d_nodes] >=0)"
   ]
  },
  {
   "cell_type": "code",
   "execution_count": 48,
   "id": "e2fa6920",
   "metadata": {},
   "outputs": [],
   "source": [
    "@objective(tp, Min,  sum(c_dict[i,j]*x[i,j]  for i in s_nodes,  j in d_nodes   )     )\n",
    "\n",
    "for i in s_nodes\n",
    "    @constraint(tp, sum(x[i,j] for j in d_nodes) == s_dict[i]) \n",
    "end\n",
    "\n",
    "for j in d_nodes\n",
    "    @constraint(tp, sum(x[i,j] for i in s_nodes) == d_dict[j])\n",
    "end"
   ]
  },
  {
   "cell_type": "code",
   "execution_count": 49,
   "id": "3e495d86",
   "metadata": {},
   "outputs": [
    {
     "data": {
      "text/latex": [
       "$$ \\begin{aligned}\n",
       "\\min\\quad & 3 x_{cleveland,boston} + 2 x_{cleveland, chicago} + 7 x_{cleveland, st.louis} + 6 x_{cleveland, lexingtom} + 7 x_{bedford,boston} + 5 x_{bedford, chicago} + 2 x_{bedford, st.louis} + 3 x_{bedford, lexingtom} + 2 x_{york,boston} + 5 x_{york, chicago} + 4 x_{york, st.louis} + 5 x_{york, lexingtom}\\\\\n",
       "\\text{Subject to} \\quad & x_{cleveland,boston} + x_{cleveland, chicago} + x_{cleveland, st.louis} + x_{cleveland, lexingtom} = 5000.0\\\\\n",
       " & x_{bedford,boston} + x_{bedford, chicago} + x_{bedford, st.louis} + x_{bedford, lexingtom} = 6000.0\\\\\n",
       " & x_{york,boston} + x_{york, chicago} + x_{york, st.louis} + x_{york, lexingtom} = 2500.0\\\\\n",
       " & x_{cleveland,boston} + x_{bedford,boston} + x_{york,boston} = 6000.0\\\\\n",
       " & x_{cleveland, chicago} + x_{bedford, chicago} + x_{york, chicago} = 4000.0\\\\\n",
       " & x_{cleveland, st.louis} + x_{bedford, st.louis} + x_{york, st.louis} = 2000.0\\\\\n",
       " & x_{cleveland, lexingtom} + x_{bedford, lexingtom} + x_{york, lexingtom} = 1500.0\\\\\n",
       " & x_{cleveland,boston} \\geq 0.0\\\\\n",
       " & x_{bedford,boston} \\geq 0.0\\\\\n",
       " & x_{york,boston} \\geq 0.0\\\\\n",
       " & x_{cleveland, chicago} \\geq 0.0\\\\\n",
       " & x_{bedford, chicago} \\geq 0.0\\\\\n",
       " & x_{york, chicago} \\geq 0.0\\\\\n",
       " & x_{cleveland, st.louis} \\geq 0.0\\\\\n",
       " & x_{bedford, st.louis} \\geq 0.0\\\\\n",
       " & x_{york, st.louis} \\geq 0.0\\\\\n",
       " & x_{cleveland, lexingtom} \\geq 0.0\\\\\n",
       " & x_{bedford, lexingtom} \\geq 0.0\\\\\n",
       " & x_{york, lexingtom} \\geq 0.0\\\\\n",
       "\\end{aligned} $$"
      ]
     },
     "metadata": {},
     "output_type": "display_data"
    }
   ],
   "source": [
    "print(tp)"
   ]
  },
  {
   "cell_type": "code",
   "execution_count": 54,
   "id": "00540564",
   "metadata": {},
   "outputs": [],
   "source": [
    "JuMP.optimize!(tp)"
   ]
  },
  {
   "cell_type": "code",
   "execution_count": 59,
   "id": "ea0a535e",
   "metadata": {},
   "outputs": [
    {
     "name": "stdout",
     "output_type": "stream",
     "text": [
      "2-dimensional DenseAxisArray{Float64,2,...} with index sets:\n",
      "    Dimension 1, Any[\"cleveland\", \"bedford\", \"york\"]\n",
      "    Dimension 2, Any[\"boston\", \" chicago\", \" st.louis\", \" lexingtom\"]\n",
      "And data, a 3×4 Matrix{Float64}:\n",
      " 3500.0  1500.0     0.0     0.0\n",
      "    0.0  2500.0  2000.0  1500.0\n",
      " 2500.0     0.0     0.0     0.0"
     ]
    }
   ],
   "source": [
    "x_star = JuMP.value.(x)\n",
    "print(x_star)"
   ]
  },
  {
   "cell_type": "code",
   "execution_count": 60,
   "id": "4df01c70",
   "metadata": {},
   "outputs": [
    {
     "data": {
      "text/plain": [
       "39500.0"
      ]
     },
     "execution_count": 60,
     "metadata": {},
     "output_type": "execute_result"
    }
   ],
   "source": [
    "tc = sum(x_star[i,j]*c_dict[i,j] for i in s_nodes, j in d_nodes)"
   ]
  },
  {
   "cell_type": "code",
   "execution_count": null,
   "id": "5fd357a6",
   "metadata": {},
   "outputs": [],
   "source": []
  }
 ],
 "metadata": {
  "kernelspec": {
   "display_name": "Julia 1.8.4",
   "language": "julia",
   "name": "julia-1.8"
  },
  "language_info": {
   "file_extension": ".jl",
   "mimetype": "application/julia",
   "name": "julia",
   "version": "1.8.4"
  }
 },
 "nbformat": 4,
 "nbformat_minor": 5
}

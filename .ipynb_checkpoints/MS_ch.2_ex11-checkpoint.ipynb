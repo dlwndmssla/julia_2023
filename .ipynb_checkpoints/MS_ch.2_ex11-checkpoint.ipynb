{
 "cells": [
  {
   "cell_type": "code",
   "execution_count": 1,
   "id": "30fd184a",
   "metadata": {},
   "outputs": [
    {
     "data": {
      "text/plain": [
       "A JuMP Model\n",
       "Feasibility problem with:\n",
       "Variables: 0\n",
       "Model mode: AUTOMATIC\n",
       "CachingOptimizer state: EMPTY_OPTIMIZER\n",
       "Solver name: GLPK"
      ]
     },
     "execution_count": 1,
     "metadata": {},
     "output_type": "execute_result"
    }
   ],
   "source": [
    "using JuMP, GLPK\n",
    "\n",
    "m = Model(GLPK.Optimizer)"
   ]
  },
  {
   "cell_type": "code",
   "execution_count": 2,
   "id": "6675ff86",
   "metadata": {},
   "outputs": [
    {
     "data": {
      "text/latex": [
       "$$ 5 A + 5 B $$"
      ],
      "text/plain": [
       "5 A + 5 B"
      ]
     },
     "execution_count": 2,
     "metadata": {},
     "output_type": "execute_result"
    }
   ],
   "source": [
    "#1.variable 2.objective 3.constraint\n",
    "\n",
    "@variable(m, 0 <= A)\n",
    "\n",
    "@variable(m, 0 <= B)\n",
    "\n",
    "@objective(m, Max, 5A+5B)"
   ]
  },
  {
   "cell_type": "code",
   "execution_count": 3,
   "id": "4a7b67ee",
   "metadata": {},
   "outputs": [
    {
     "data": {
      "text/latex": [
       "constraint3 : $ B \\leq 80.0 $"
      ],
      "text/plain": [
       "constraint3 : B <= 80.0"
      ]
     },
     "execution_count": 3,
     "metadata": {},
     "output_type": "execute_result"
    }
   ],
   "source": [
    "@constraint(m, constraint1, 2A + 4B <= 400)\n",
    "@constraint(m, constraint2 , A <=100)\n",
    "@constraint(m, constraint3 , B <=80)"
   ]
  },
  {
   "cell_type": "code",
   "execution_count": 4,
   "id": "f0d3fe9e",
   "metadata": {},
   "outputs": [
    {
     "data": {
      "text/latex": [
       "$$ \\begin{aligned}\n",
       "\\max\\quad & 5 A + 5 B\\\\\n",
       "\\text{Subject to} \\quad & 2 A + 4 B \\leq 400.0\\\\\n",
       " & A \\leq 100.0\\\\\n",
       " & B \\leq 80.0\\\\\n",
       " & A \\geq 0.0\\\\\n",
       " & B \\geq 0.0\\\\\n",
       "\\end{aligned} $$"
      ]
     },
     "metadata": {},
     "output_type": "display_data"
    }
   ],
   "source": [
    "print(m)\n",
    "\n",
    "JuMP.optimize!(m)"
   ]
  },
  {
   "cell_type": "code",
   "execution_count": 5,
   "id": "d42e1c5b",
   "metadata": {},
   "outputs": [
    {
     "name": "stdout",
     "output_type": "stream",
     "text": [
      "max = 750.0\n",
      "A = 100.0\n",
      "B = 50.0\n"
     ]
    }
   ],
   "source": [
    "println(\"max = \", objective_value(m))\n",
    "    \n",
    "println(\"A = \", JuMP.value(A))\n",
    "println(\"B = \", JuMP.value(B))"
   ]
  },
  {
   "cell_type": "code",
   "execution_count": null,
   "id": "bd9f9b07",
   "metadata": {},
   "outputs": [],
   "source": []
  }
 ],
 "metadata": {
  "kernelspec": {
   "display_name": "Julia 1.8.4",
   "language": "julia",
   "name": "julia-1.8"
  },
  "language_info": {
   "file_extension": ".jl",
   "mimetype": "application/julia",
   "name": "julia",
   "version": "1.8.4"
  }
 },
 "nbformat": 4,
 "nbformat_minor": 5
}

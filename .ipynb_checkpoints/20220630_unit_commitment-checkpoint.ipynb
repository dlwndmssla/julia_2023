{
 "cells": [
  {
   "cell_type": "code",
   "execution_count": 43,
   "id": "99b46777",
   "metadata": {},
   "outputs": [],
   "source": [
    "using JuMP\n",
    "import DataFrames\n",
    "import CPLEX\n",
    "import Plots\n",
    "import StatsPlots"
   ]
  },
  {
   "cell_type": "code",
   "execution_count": 44,
   "id": "10594edf",
   "metadata": {},
   "outputs": [
    {
     "data": {
      "text/plain": [
       "3-element Vector{NamedTuple{(:min, :max, :fixed_cost, :variable_cost), NTuple{4, Float64}}}:\n",
       " (min = 0.0, max = 37337.0, fixed_cost = 0.0, variable_cost = 50.0)\n",
       " (min = 0.0, max = 23250.0, fixed_cost = 0.0, variable_cost = 100.0)\n",
       " (min = 0.0, max = 41201.0, fixed_cost = 0.0, variable_cost = 50.0)"
      ]
     },
     "execution_count": 44,
     "metadata": {},
     "output_type": "execute_result"
    }
   ],
   "source": [
    "function ThermalGenerator(\n",
    "    min::Float64,\n",
    "    max::Float64,\n",
    "    fixed_cost::Float64,\n",
    "    variable_cost::Float64,\n",
    ")\n",
    "    return (\n",
    "        min = min,\n",
    "        max = max,\n",
    "        fixed_cost = fixed_cost,\n",
    "        variable_cost = variable_cost,\n",
    "    )\n",
    "end\n",
    "\n",
    "generators = [\n",
    "    ThermalGenerator(0.0, 37337.0, 0.0, 50.0),\n",
    "    ThermalGenerator(0.0, 23250.0, 0.0, 100.0),\n",
    "    ThermalGenerator(0.0, 41201.0, 0.0, 50.0),\n",
    "]"
   ]
  },
  {
   "cell_type": "code",
   "execution_count": 45,
   "id": "291515b5",
   "metadata": {},
   "outputs": [
    {
     "data": {
      "text/plain": [
       "(variable_cost = 50.0,)"
      ]
     },
     "execution_count": 45,
     "metadata": {},
     "output_type": "execute_result"
    }
   ],
   "source": [
    "SolarGenerator(variable_cost::Float64) = (variable_cost = variable_cost,)\n",
    "\n",
    "solar_generator = SolarGenerator(50.0)"
   ]
  },
  {
   "cell_type": "code",
   "execution_count": 46,
   "id": "7e7684b8",
   "metadata": {},
   "outputs": [
    {
     "data": {
      "text/plain": [
       "(demand = 128089.0, solar = 26301.0)"
      ]
     },
     "execution_count": 46,
     "metadata": {},
     "output_type": "execute_result"
    }
   ],
   "source": [
    "function Scenario(demand::Float64, solar::Float64)\n",
    "    return (demand = demand, solar = solar)\n",
    "end\n",
    "\n",
    "scenario = Scenario(128089.0,26301.0)"
   ]
  },
  {
   "cell_type": "code",
   "execution_count": 47,
   "id": "bcd30609",
   "metadata": {},
   "outputs": [
    {
     "data": {
      "text/plain": [
       "solve_economic_dispatch (generic function with 1 method)"
      ]
     },
     "execution_count": 47,
     "metadata": {},
     "output_type": "execute_result"
    }
   ],
   "source": [
    "function solve_economic_dispatch(generators::Vector, solar, scenario)\n",
    "    # Define the economic dispatch (ED) model\n",
    "    model = Model(CPLEX.Optimizer)\n",
    "    set_silent(model)\n",
    "    # Define decision variables\n",
    "    # power output of generators\n",
    "    N = length(generators)\n",
    "    @variable(model, generators[i].min <= g[i = 1:N] <= generators[i].max)\n",
    "    # solar power injection\n",
    "    @variable(model, 0 <= w <= scenario.solar)\n",
    "    # Define the objective function\n",
    "    @objective(\n",
    "        model,\n",
    "        Min,\n",
    "        sum(generators[i].variable_cost * g[i] for i in 1:N) +\n",
    "        solar.variable_cost * w,\n",
    "    )\n",
    "    # Define the power balance constraint\n",
    "    @constraint(model, sum(g[i] for i in 1:N) + w == scenario.demand)\n",
    "    # Solve statement\n",
    "    optimize!(model)\n",
    "    # return the optimal value of the objective function and its minimizers\n",
    "    return (\n",
    "        g = value.(g),\n",
    "        w = value(w),\n",
    "        solar_spill = scenario.solar - value(w),\n",
    "        total_cost = objective_value(model),\n",
    "    )\n",
    "end"
   ]
  },
  {
   "cell_type": "code",
   "execution_count": 48,
   "id": "42ee75a9",
   "metadata": {},
   "outputs": [
    {
     "name": "stdout",
     "output_type": "stream",
     "text": [
      "Dispatch of Generators: [37337.0, 23250.0, 41201.0] MW\n",
      "Dispatch of Solar: 26301.0 MW\n",
      "Solar spillage: 0.0 MW\n",
      "Total cost: $7.56695e6\n"
     ]
    }
   ],
   "source": [
    "solution = solve_economic_dispatch(generators, solar_generator, scenario);\n",
    "\n",
    "println(\"Dispatch of Generators: \", solution.g, \" MW\")\n",
    "println(\"Dispatch of Solar: \", solution.w, \" MW\")\n",
    "println(\"Solar spillage: \", solution.solar_spill, \" MW\")\n",
    "println(\"Total cost: \\$\", solution.total_cost)"
   ]
  },
  {
   "cell_type": "code",
   "execution_count": 49,
   "id": "fce86795",
   "metadata": {},
   "outputs": [
    {
     "name": "stdout",
     "output_type": "stream",
     "text": [
      "elapsed time: 0.7009999752044678 seconds"
     ]
    }
   ],
   "source": [
    "function scale_generator_cost(g, scale)\n",
    "    return ThermalGenerator(g.min, g.max, g.fixed_cost, scale * g.variable_cost)\n",
    "end\n",
    "\n",
    "start = time()\n",
    "c_g_scale_df = DataFrames.DataFrame(;\n",
    "    # Scale factor\n",
    "    scale = Float64[],\n",
    "    # Dispatch of Generator 1 [MW]\n",
    "    dispatch_G1 = Float64[],\n",
    "    # Dispatch of Generator 2 [MW]\n",
    "    dispatch_G2 = Float64[],\n",
    "    # Dispatch of Generator 3 [MW]\n",
    "    dispatch_G3 = Float64[],\n",
    "    # Dispatch of solar [MW]\n",
    "    dispatch_solar = Float64[],\n",
    "    # Spillage of solar [MW]\n",
    "    spillage_solar = Float64[],\n",
    "    # Total cost [$]\n",
    "    total_cost = Float64[],\n",
    ")\n",
    "for c_g1_scale in 0.5:0.1:3.0\n",
    "    # Update the incremental cost of the first generator at every iteration.\n",
    "    new_generators = scale_generator_cost.(generators, [c_g1_scale])\n",
    "    # Solve the economic-dispatch problem with the updated incremental cost\n",
    "    sol = solve_economic_dispatch(new_generators, solar_generator, scenario)\n",
    "    push!(\n",
    "        c_g_scale_df,\n",
    "        (c_g1_scale, sol.g[1], sol.g[2], sol.g[3], sol.w, sol.solar_spill, sol.total_cost),\n",
    "    )\n",
    "end\n",
    "print(string(\"elapsed time: \", time() - start, \" seconds\"))"
   ]
  },
  {
   "cell_type": "code",
   "execution_count": 50,
   "id": "fa98ad01",
   "metadata": {},
   "outputs": [
    {
     "data": {
      "text/html": [
       "<div><div style = \"float: left;\"><span>26×7 DataFrame</span></div><div style = \"clear: both;\"></div></div><div class = \"data-frame\" style = \"overflow-x: scroll;\"><table class = \"data-frame\" style = \"margin-bottom: 6px;\"><thead><tr class = \"header\"><th class = \"rowNumber\" style = \"font-weight: bold; text-align: right;\">Row</th><th style = \"text-align: left;\">scale</th><th style = \"text-align: left;\">dispatch_G1</th><th style = \"text-align: left;\">dispatch_G2</th><th style = \"text-align: left;\">dispatch_G3</th><th style = \"text-align: left;\">dispatch_solar</th><th style = \"text-align: left;\">spillage_solar</th><th style = \"text-align: left;\">total_cost</th></tr><tr class = \"subheader headerLastRow\"><th class = \"rowNumber\" style = \"font-weight: bold; text-align: right;\"></th><th title = \"Float64\" style = \"text-align: left;\">Float64</th><th title = \"Float64\" style = \"text-align: left;\">Float64</th><th title = \"Float64\" style = \"text-align: left;\">Float64</th><th title = \"Float64\" style = \"text-align: left;\">Float64</th><th title = \"Float64\" style = \"text-align: left;\">Float64</th><th title = \"Float64\" style = \"text-align: left;\">Float64</th><th title = \"Float64\" style = \"text-align: left;\">Float64</th></tr></thead><tbody><tr><td class = \"rowNumber\" style = \"font-weight: bold; text-align: right;\">1</td><td style = \"text-align: right;\">0.5</td><td style = \"text-align: right;\">37337.0</td><td style = \"text-align: right;\">23250.0</td><td style = \"text-align: right;\">41201.0</td><td style = \"text-align: right;\">26301.0</td><td style = \"text-align: right;\">0.0</td><td style = \"text-align: right;\">4.441e6</td></tr><tr><td class = \"rowNumber\" style = \"font-weight: bold; text-align: right;\">2</td><td style = \"text-align: right;\">0.6</td><td style = \"text-align: right;\">37337.0</td><td style = \"text-align: right;\">23250.0</td><td style = \"text-align: right;\">41201.0</td><td style = \"text-align: right;\">26301.0</td><td style = \"text-align: right;\">0.0</td><td style = \"text-align: right;\">5.06619e6</td></tr><tr><td class = \"rowNumber\" style = \"font-weight: bold; text-align: right;\">3</td><td style = \"text-align: right;\">0.7</td><td style = \"text-align: right;\">37337.0</td><td style = \"text-align: right;\">23250.0</td><td style = \"text-align: right;\">41201.0</td><td style = \"text-align: right;\">26301.0</td><td style = \"text-align: right;\">0.0</td><td style = \"text-align: right;\">5.69138e6</td></tr><tr><td class = \"rowNumber\" style = \"font-weight: bold; text-align: right;\">4</td><td style = \"text-align: right;\">0.8</td><td style = \"text-align: right;\">37337.0</td><td style = \"text-align: right;\">23250.0</td><td style = \"text-align: right;\">41201.0</td><td style = \"text-align: right;\">26301.0</td><td style = \"text-align: right;\">0.0</td><td style = \"text-align: right;\">6.31657e6</td></tr><tr><td class = \"rowNumber\" style = \"font-weight: bold; text-align: right;\">5</td><td style = \"text-align: right;\">0.9</td><td style = \"text-align: right;\">37337.0</td><td style = \"text-align: right;\">23250.0</td><td style = \"text-align: right;\">41201.0</td><td style = \"text-align: right;\">26301.0</td><td style = \"text-align: right;\">0.0</td><td style = \"text-align: right;\">6.94176e6</td></tr><tr><td class = \"rowNumber\" style = \"font-weight: bold; text-align: right;\">6</td><td style = \"text-align: right;\">1.0</td><td style = \"text-align: right;\">37337.0</td><td style = \"text-align: right;\">23250.0</td><td style = \"text-align: right;\">41201.0</td><td style = \"text-align: right;\">26301.0</td><td style = \"text-align: right;\">0.0</td><td style = \"text-align: right;\">7.56695e6</td></tr><tr><td class = \"rowNumber\" style = \"font-weight: bold; text-align: right;\">7</td><td style = \"text-align: right;\">1.1</td><td style = \"text-align: right;\">37337.0</td><td style = \"text-align: right;\">23250.0</td><td style = \"text-align: right;\">41201.0</td><td style = \"text-align: right;\">26301.0</td><td style = \"text-align: right;\">0.0</td><td style = \"text-align: right;\">8.19214e6</td></tr><tr><td class = \"rowNumber\" style = \"font-weight: bold; text-align: right;\">8</td><td style = \"text-align: right;\">1.2</td><td style = \"text-align: right;\">37337.0</td><td style = \"text-align: right;\">23250.0</td><td style = \"text-align: right;\">41201.0</td><td style = \"text-align: right;\">26301.0</td><td style = \"text-align: right;\">0.0</td><td style = \"text-align: right;\">8.81733e6</td></tr><tr><td class = \"rowNumber\" style = \"font-weight: bold; text-align: right;\">9</td><td style = \"text-align: right;\">1.3</td><td style = \"text-align: right;\">37337.0</td><td style = \"text-align: right;\">23250.0</td><td style = \"text-align: right;\">41201.0</td><td style = \"text-align: right;\">26301.0</td><td style = \"text-align: right;\">0.0</td><td style = \"text-align: right;\">9.44252e6</td></tr><tr><td class = \"rowNumber\" style = \"font-weight: bold; text-align: right;\">10</td><td style = \"text-align: right;\">1.4</td><td style = \"text-align: right;\">37337.0</td><td style = \"text-align: right;\">23250.0</td><td style = \"text-align: right;\">41201.0</td><td style = \"text-align: right;\">26301.0</td><td style = \"text-align: right;\">0.0</td><td style = \"text-align: right;\">1.00677e7</td></tr><tr><td class = \"rowNumber\" style = \"font-weight: bold; text-align: right;\">11</td><td style = \"text-align: right;\">1.5</td><td style = \"text-align: right;\">37337.0</td><td style = \"text-align: right;\">23250.0</td><td style = \"text-align: right;\">41201.0</td><td style = \"text-align: right;\">26301.0</td><td style = \"text-align: right;\">0.0</td><td style = \"text-align: right;\">1.06929e7</td></tr><tr><td class = \"rowNumber\" style = \"font-weight: bold; text-align: right;\">12</td><td style = \"text-align: right;\">1.6</td><td style = \"text-align: right;\">37337.0</td><td style = \"text-align: right;\">23250.0</td><td style = \"text-align: right;\">41201.0</td><td style = \"text-align: right;\">26301.0</td><td style = \"text-align: right;\">0.0</td><td style = \"text-align: right;\">1.13181e7</td></tr><tr><td class = \"rowNumber\" style = \"font-weight: bold; text-align: right;\">13</td><td style = \"text-align: right;\">1.7</td><td style = \"text-align: right;\">37337.0</td><td style = \"text-align: right;\">23250.0</td><td style = \"text-align: right;\">41201.0</td><td style = \"text-align: right;\">26301.0</td><td style = \"text-align: right;\">0.0</td><td style = \"text-align: right;\">1.19433e7</td></tr><tr><td class = \"rowNumber\" style = \"font-weight: bold; text-align: right;\">14</td><td style = \"text-align: right;\">1.8</td><td style = \"text-align: right;\">37337.0</td><td style = \"text-align: right;\">23250.0</td><td style = \"text-align: right;\">41201.0</td><td style = \"text-align: right;\">26301.0</td><td style = \"text-align: right;\">0.0</td><td style = \"text-align: right;\">1.25685e7</td></tr><tr><td class = \"rowNumber\" style = \"font-weight: bold; text-align: right;\">15</td><td style = \"text-align: right;\">1.9</td><td style = \"text-align: right;\">37337.0</td><td style = \"text-align: right;\">23250.0</td><td style = \"text-align: right;\">41201.0</td><td style = \"text-align: right;\">26301.0</td><td style = \"text-align: right;\">0.0</td><td style = \"text-align: right;\">1.31937e7</td></tr><tr><td class = \"rowNumber\" style = \"font-weight: bold; text-align: right;\">16</td><td style = \"text-align: right;\">2.0</td><td style = \"text-align: right;\">37337.0</td><td style = \"text-align: right;\">23250.0</td><td style = \"text-align: right;\">41201.0</td><td style = \"text-align: right;\">26301.0</td><td style = \"text-align: right;\">0.0</td><td style = \"text-align: right;\">1.38188e7</td></tr><tr><td class = \"rowNumber\" style = \"font-weight: bold; text-align: right;\">17</td><td style = \"text-align: right;\">2.1</td><td style = \"text-align: right;\">37337.0</td><td style = \"text-align: right;\">23250.0</td><td style = \"text-align: right;\">41201.0</td><td style = \"text-align: right;\">26301.0</td><td style = \"text-align: right;\">0.0</td><td style = \"text-align: right;\">1.4444e7</td></tr><tr><td class = \"rowNumber\" style = \"font-weight: bold; text-align: right;\">18</td><td style = \"text-align: right;\">2.2</td><td style = \"text-align: right;\">37337.0</td><td style = \"text-align: right;\">23250.0</td><td style = \"text-align: right;\">41201.0</td><td style = \"text-align: right;\">26301.0</td><td style = \"text-align: right;\">0.0</td><td style = \"text-align: right;\">1.50692e7</td></tr><tr><td class = \"rowNumber\" style = \"font-weight: bold; text-align: right;\">19</td><td style = \"text-align: right;\">2.3</td><td style = \"text-align: right;\">37337.0</td><td style = \"text-align: right;\">23250.0</td><td style = \"text-align: right;\">41201.0</td><td style = \"text-align: right;\">26301.0</td><td style = \"text-align: right;\">0.0</td><td style = \"text-align: right;\">1.56944e7</td></tr><tr><td class = \"rowNumber\" style = \"font-weight: bold; text-align: right;\">20</td><td style = \"text-align: right;\">2.4</td><td style = \"text-align: right;\">37337.0</td><td style = \"text-align: right;\">23250.0</td><td style = \"text-align: right;\">41201.0</td><td style = \"text-align: right;\">26301.0</td><td style = \"text-align: right;\">0.0</td><td style = \"text-align: right;\">1.63196e7</td></tr><tr><td class = \"rowNumber\" style = \"font-weight: bold; text-align: right;\">21</td><td style = \"text-align: right;\">2.5</td><td style = \"text-align: right;\">37337.0</td><td style = \"text-align: right;\">23250.0</td><td style = \"text-align: right;\">41201.0</td><td style = \"text-align: right;\">26301.0</td><td style = \"text-align: right;\">0.0</td><td style = \"text-align: right;\">1.69448e7</td></tr><tr><td class = \"rowNumber\" style = \"font-weight: bold; text-align: right;\">22</td><td style = \"text-align: right;\">2.6</td><td style = \"text-align: right;\">37337.0</td><td style = \"text-align: right;\">23250.0</td><td style = \"text-align: right;\">41201.0</td><td style = \"text-align: right;\">26301.0</td><td style = \"text-align: right;\">0.0</td><td style = \"text-align: right;\">1.757e7</td></tr><tr><td class = \"rowNumber\" style = \"font-weight: bold; text-align: right;\">23</td><td style = \"text-align: right;\">2.7</td><td style = \"text-align: right;\">37337.0</td><td style = \"text-align: right;\">23250.0</td><td style = \"text-align: right;\">41201.0</td><td style = \"text-align: right;\">26301.0</td><td style = \"text-align: right;\">0.0</td><td style = \"text-align: right;\">1.81952e7</td></tr><tr><td class = \"rowNumber\" style = \"font-weight: bold; text-align: right;\">24</td><td style = \"text-align: right;\">2.8</td><td style = \"text-align: right;\">37337.0</td><td style = \"text-align: right;\">23250.0</td><td style = \"text-align: right;\">41201.0</td><td style = \"text-align: right;\">26301.0</td><td style = \"text-align: right;\">0.0</td><td style = \"text-align: right;\">1.88204e7</td></tr><tr><td class = \"rowNumber\" style = \"font-weight: bold; text-align: right;\">25</td><td style = \"text-align: right;\">2.9</td><td style = \"text-align: right;\">37337.0</td><td style = \"text-align: right;\">23250.0</td><td style = \"text-align: right;\">41201.0</td><td style = \"text-align: right;\">26301.0</td><td style = \"text-align: right;\">0.0</td><td style = \"text-align: right;\">1.94456e7</td></tr><tr><td class = \"rowNumber\" style = \"font-weight: bold; text-align: right;\">26</td><td style = \"text-align: right;\">3.0</td><td style = \"text-align: right;\">37337.0</td><td style = \"text-align: right;\">23250.0</td><td style = \"text-align: right;\">41201.0</td><td style = \"text-align: right;\">26301.0</td><td style = \"text-align: right;\">0.0</td><td style = \"text-align: right;\">2.00708e7</td></tr></tbody></table></div>"
      ],
      "text/latex": [
       "\\begin{tabular}{r|ccccccc}\n",
       "\t& scale & dispatch\\_G1 & dispatch\\_G2 & dispatch\\_G3 & dispatch\\_solar & spillage\\_solar & \\\\\n",
       "\t\\hline\n",
       "\t& Float64 & Float64 & Float64 & Float64 & Float64 & Float64 & \\\\\n",
       "\t\\hline\n",
       "\t1 & 0.5 & 37337.0 & 23250.0 & 41201.0 & 26301.0 & 0.0 & $\\dots$ \\\\\n",
       "\t2 & 0.6 & 37337.0 & 23250.0 & 41201.0 & 26301.0 & 0.0 & $\\dots$ \\\\\n",
       "\t3 & 0.7 & 37337.0 & 23250.0 & 41201.0 & 26301.0 & 0.0 & $\\dots$ \\\\\n",
       "\t4 & 0.8 & 37337.0 & 23250.0 & 41201.0 & 26301.0 & 0.0 & $\\dots$ \\\\\n",
       "\t5 & 0.9 & 37337.0 & 23250.0 & 41201.0 & 26301.0 & 0.0 & $\\dots$ \\\\\n",
       "\t6 & 1.0 & 37337.0 & 23250.0 & 41201.0 & 26301.0 & 0.0 & $\\dots$ \\\\\n",
       "\t7 & 1.1 & 37337.0 & 23250.0 & 41201.0 & 26301.0 & 0.0 & $\\dots$ \\\\\n",
       "\t8 & 1.2 & 37337.0 & 23250.0 & 41201.0 & 26301.0 & 0.0 & $\\dots$ \\\\\n",
       "\t9 & 1.3 & 37337.0 & 23250.0 & 41201.0 & 26301.0 & 0.0 & $\\dots$ \\\\\n",
       "\t10 & 1.4 & 37337.0 & 23250.0 & 41201.0 & 26301.0 & 0.0 & $\\dots$ \\\\\n",
       "\t11 & 1.5 & 37337.0 & 23250.0 & 41201.0 & 26301.0 & 0.0 & $\\dots$ \\\\\n",
       "\t12 & 1.6 & 37337.0 & 23250.0 & 41201.0 & 26301.0 & 0.0 & $\\dots$ \\\\\n",
       "\t13 & 1.7 & 37337.0 & 23250.0 & 41201.0 & 26301.0 & 0.0 & $\\dots$ \\\\\n",
       "\t14 & 1.8 & 37337.0 & 23250.0 & 41201.0 & 26301.0 & 0.0 & $\\dots$ \\\\\n",
       "\t15 & 1.9 & 37337.0 & 23250.0 & 41201.0 & 26301.0 & 0.0 & $\\dots$ \\\\\n",
       "\t16 & 2.0 & 37337.0 & 23250.0 & 41201.0 & 26301.0 & 0.0 & $\\dots$ \\\\\n",
       "\t17 & 2.1 & 37337.0 & 23250.0 & 41201.0 & 26301.0 & 0.0 & $\\dots$ \\\\\n",
       "\t18 & 2.2 & 37337.0 & 23250.0 & 41201.0 & 26301.0 & 0.0 & $\\dots$ \\\\\n",
       "\t19 & 2.3 & 37337.0 & 23250.0 & 41201.0 & 26301.0 & 0.0 & $\\dots$ \\\\\n",
       "\t20 & 2.4 & 37337.0 & 23250.0 & 41201.0 & 26301.0 & 0.0 & $\\dots$ \\\\\n",
       "\t21 & 2.5 & 37337.0 & 23250.0 & 41201.0 & 26301.0 & 0.0 & $\\dots$ \\\\\n",
       "\t22 & 2.6 & 37337.0 & 23250.0 & 41201.0 & 26301.0 & 0.0 & $\\dots$ \\\\\n",
       "\t23 & 2.7 & 37337.0 & 23250.0 & 41201.0 & 26301.0 & 0.0 & $\\dots$ \\\\\n",
       "\t24 & 2.8 & 37337.0 & 23250.0 & 41201.0 & 26301.0 & 0.0 & $\\dots$ \\\\\n",
       "\t25 & 2.9 & 37337.0 & 23250.0 & 41201.0 & 26301.0 & 0.0 & $\\dots$ \\\\\n",
       "\t26 & 3.0 & 37337.0 & 23250.0 & 41201.0 & 26301.0 & 0.0 & $\\dots$ \\\\\n",
       "\\end{tabular}\n"
      ],
      "text/plain": [
       "\u001b[1m26×7 DataFrame\u001b[0m\n",
       "\u001b[1m Row \u001b[0m│\u001b[1m scale   \u001b[0m\u001b[1m dispatch_G1 \u001b[0m\u001b[1m dispatch_G2 \u001b[0m\u001b[1m dispatch_G3 \u001b[0m\u001b[1m dispatch_solar \u001b[0m\u001b[1m spillag\u001b[0m ⋯\n",
       "     │\u001b[90m Float64 \u001b[0m\u001b[90m Float64     \u001b[0m\u001b[90m Float64     \u001b[0m\u001b[90m Float64     \u001b[0m\u001b[90m Float64        \u001b[0m\u001b[90m Float64\u001b[0m ⋯\n",
       "─────┼──────────────────────────────────────────────────────────────────────────\n",
       "   1 │     0.5      37337.0      23250.0      41201.0         26301.0          ⋯\n",
       "   2 │     0.6      37337.0      23250.0      41201.0         26301.0\n",
       "   3 │     0.7      37337.0      23250.0      41201.0         26301.0\n",
       "   4 │     0.8      37337.0      23250.0      41201.0         26301.0\n",
       "   5 │     0.9      37337.0      23250.0      41201.0         26301.0          ⋯\n",
       "   6 │     1.0      37337.0      23250.0      41201.0         26301.0\n",
       "   7 │     1.1      37337.0      23250.0      41201.0         26301.0\n",
       "   8 │     1.2      37337.0      23250.0      41201.0         26301.0\n",
       "   9 │     1.3      37337.0      23250.0      41201.0         26301.0          ⋯\n",
       "  10 │     1.4      37337.0      23250.0      41201.0         26301.0\n",
       "  11 │     1.5      37337.0      23250.0      41201.0         26301.0\n",
       "  ⋮  │    ⋮          ⋮            ⋮            ⋮             ⋮               ⋮ ⋱\n",
       "  17 │     2.1      37337.0      23250.0      41201.0         26301.0\n",
       "  18 │     2.2      37337.0      23250.0      41201.0         26301.0          ⋯\n",
       "  19 │     2.3      37337.0      23250.0      41201.0         26301.0\n",
       "  20 │     2.4      37337.0      23250.0      41201.0         26301.0\n",
       "  21 │     2.5      37337.0      23250.0      41201.0         26301.0\n",
       "  22 │     2.6      37337.0      23250.0      41201.0         26301.0          ⋯\n",
       "  23 │     2.7      37337.0      23250.0      41201.0         26301.0\n",
       "  24 │     2.8      37337.0      23250.0      41201.0         26301.0\n",
       "  25 │     2.9      37337.0      23250.0      41201.0         26301.0\n",
       "  26 │     3.0      37337.0      23250.0      41201.0         26301.0          ⋯\n",
       "\u001b[36m                                                    2 columns and 5 rows omitted\u001b[0m"
      ]
     },
     "execution_count": 50,
     "metadata": {},
     "output_type": "execute_result"
    }
   ],
   "source": [
    "c_g_scale_df"
   ]
  },
  {
   "cell_type": "code",
   "execution_count": 51,
   "id": "9396e0f0",
   "metadata": {},
   "outputs": [
    {
     "ename": "LoadError",
     "evalue": "UndefVarError: CPELX not defined",
     "output_type": "error",
     "traceback": [
      "UndefVarError: CPELX not defined",
      "",
      "Stacktrace:",
      " [1] solve_economic_dispatch_inplace(generators::Vector{NamedTuple{(:min, :max, :fixed_cost, :variable_cost), NTuple{4, Float64}}}, solar::NamedTuple{(:variable_cost,), Tuple{Float64}}, scenario::NamedTuple{(:demand, :solar), Tuple{Float64, Float64}}, scale::StepRangeLen{Float64, Base.TwicePrecision{Float64}, Base.TwicePrecision{Float64}, Int64})",
      "   @ Main .\\In[51]:13",
      " [2] top-level scope",
      "   @ In[51]:51"
     ]
    }
   ],
   "source": [
    "function solve_economic_dispatch_inplace(\n",
    "    generators::Vector,\n",
    "    solar,\n",
    "    scenario,\n",
    "    scale::AbstractVector{Float64},\n",
    ")\n",
    "    obj_out = Float64[]\n",
    "    w_out = Float64[]\n",
    "    g1_out = Float64[]\n",
    "    g2_out = Float64[]\n",
    "    g3_out = Float64[]\n",
    "    # This function only works for three generators\n",
    "    @assert length(generators) == 3\n",
    "    model = Model(CPLEX.Optimizer)\n",
    "    set_silent(model)\n",
    "    N = length(generators)\n",
    "    @variable(model, generators[i].min <= g[i = 1:N] <= generators[i].max)\n",
    "    @variable(model, 0 <= w <= scenario.solar)\n",
    "    @objective(\n",
    "        model,\n",
    "        Min,\n",
    "        sum(generators[i].variable_cost * g[i] for i in 1:N) +\n",
    "        solar.variable_cost * w,\n",
    "    )\n",
    "    @constraint(model, sum(g[i] for i in 1:N) + w == scenario.demand)\n",
    "    for c_g1_scale in scale\n",
    "        @objective(\n",
    "            model,\n",
    "            Min,\n",
    "            c_g1_scale * generators[1].variable_cost * g[1] +\n",
    "            generators[2].variable_cost * g[2] +\n",
    "            generators[3].variable_cost * g[3] +\n",
    "            solar.variable_cost * w,\n",
    "        )\n",
    "        optimize!(model)\n",
    "        push!(obj_out, objective_value(model))\n",
    "        push!(w_out, value(w))\n",
    "        push!(g1_out, value(g[1]))\n",
    "        push!(g2_out, value(g[2]))\n",
    "        push!(g2_out, value(g[3]))\n",
    "    end\n",
    "    df = DataFrames.DataFrame(;\n",
    "        scale = scale,\n",
    "        dispatch_G1 = g1_out,\n",
    "        dispatch_G2 = g2_out,\n",
    "        dispatch_G3 = g3_out,\n",
    "        dispatch_solar = w_out,\n",
    "        spillage_solar = scenario.solar .- w_out,\n",
    "        total_cost = obj_out,\n",
    "    )\n",
    "    return df\n",
    "end\n",
    "\n",
    "start = time()\n",
    "inplace_df = solve_economic_dispatch_inplace(\n",
    "    generators,\n",
    "    solar_generator,\n",
    "    scenario,\n",
    "    0.5:0.1:3.0,\n",
    ")\n",
    "print(string(\"elapsed time: \", time() - start, \" seconds\"))"
   ]
  },
  {
   "cell_type": "code",
   "execution_count": 35,
   "id": "722891a0",
   "metadata": {},
   "outputs": [
    {
     "ename": "LoadError",
     "evalue": "UndefVarError: inplace_df not defined",
     "output_type": "error",
     "traceback": [
      "UndefVarError: inplace_df not defined",
      ""
     ]
    }
   ],
   "source": [
    "inplace_df"
   ]
  },
  {
   "cell_type": "code",
   "execution_count": 11,
   "id": "03da7840",
   "metadata": {},
   "outputs": [
    {
     "ename": "LoadError",
     "evalue": "Result index of attribute MathOptInterface.VariablePrimal(1) out of bounds. There are currently 0 solution(s) in the model.",
     "output_type": "error",
     "traceback": [
      "Result index of attribute MathOptInterface.VariablePrimal(1) out of bounds. There are currently 0 solution(s) in the model.",
      "",
      "Stacktrace:",
      "  [1] check_result_index_bounds",
      "    @ C:\\Users\\user\\.julia\\packages\\MathOptInterface\\cl3eR\\src\\attributes.jl:207 [inlined]",
      "  [2] get(model::CPLEX.Optimizer, attr::MathOptInterface.VariablePrimal, x::MathOptInterface.VariableIndex)",
      "    @ CPLEX C:\\Users\\user\\.julia\\packages\\CPLEX\\X6Mno\\src\\MOI\\MOI_wrapper.jl:2884",
      "  [3] get(b::MathOptInterface.Bridges.LazyBridgeOptimizer{CPLEX.Optimizer}, attr::MathOptInterface.VariablePrimal, index::MathOptInterface.VariableIndex)",
      "    @ MathOptInterface.Bridges C:\\Users\\user\\.julia\\packages\\MathOptInterface\\cl3eR\\src\\Bridges\\bridge_optimizer.jl:1130",
      "  [4] get(model::MathOptInterface.Utilities.CachingOptimizer{MathOptInterface.Bridges.LazyBridgeOptimizer{CPLEX.Optimizer}, MathOptInterface.Utilities.UniversalFallback{MathOptInterface.Utilities.Model{Float64}}}, attr::MathOptInterface.VariablePrimal, index::MathOptInterface.VariableIndex)",
      "    @ MathOptInterface.Utilities C:\\Users\\user\\.julia\\packages\\MathOptInterface\\cl3eR\\src\\Utilities\\cachingoptimizer.jl:911",
      "  [5] _moi_get_result(::MathOptInterface.Utilities.CachingOptimizer{MathOptInterface.Bridges.LazyBridgeOptimizer{CPLEX.Optimizer}, MathOptInterface.Utilities.UniversalFallback{MathOptInterface.Utilities.Model{Float64}}}, ::MathOptInterface.VariablePrimal, ::Vararg{Any})",
      "    @ JuMP C:\\Users\\user\\.julia\\packages\\JuMP\\vuP7I\\src\\JuMP.jl:1195",
      "  [6] get(model::Model, attr::MathOptInterface.VariablePrimal, v::VariableRef)",
      "    @ JuMP C:\\Users\\user\\.julia\\packages\\JuMP\\vuP7I\\src\\JuMP.jl:1258",
      "  [7] value(v::VariableRef; result::Int64)",
      "    @ JuMP C:\\Users\\user\\.julia\\packages\\JuMP\\vuP7I\\src\\variables.jl:1041",
      "  [8] value",
      "    @ C:\\Users\\user\\.julia\\packages\\JuMP\\vuP7I\\src\\variables.jl:1040 [inlined]",
      "  [9] _broadcast_getindex_evalf",
      "    @ .\\broadcast.jl:670 [inlined]",
      " [10] _broadcast_getindex",
      "    @ .\\broadcast.jl:643 [inlined]",
      " [11] getindex",
      "    @ .\\broadcast.jl:597 [inlined]",
      " [12] macro expansion",
      "    @ .\\broadcast.jl:961 [inlined]",
      " [13] macro expansion",
      "    @ .\\simdloop.jl:77 [inlined]",
      " [14] copyto!",
      "    @ .\\broadcast.jl:960 [inlined]",
      " [15] copyto!",
      "    @ .\\broadcast.jl:913 [inlined]",
      " [16] copy",
      "    @ .\\broadcast.jl:885 [inlined]",
      " [17] materialize",
      "    @ .\\broadcast.jl:860 [inlined]",
      " [18] solve_economic_dispatch(generators::Vector{NamedTuple{(:min, :max, :fixed_cost, :variable_cost), NTuple{4, Float64}}}, solar::NamedTuple{(:variable_cost,), Tuple{Float64}}, scenario::NamedTuple{(:demand, :solar), Tuple{Float64, Float64}})",
      "    @ Main .\\In[5]:23",
      " [19] top-level scope",
      "    @ .\\In[11]:16"
     ]
    }
   ],
   "source": [
    "demand_scale_df = DataFrames.DataFrame(;\n",
    "    demand = Float64[],\n",
    "    dispatch_G1 = Float64[],\n",
    "    dispatch_G2 = Float64[],\n",
    "    dispatch_solar = Float64[],\n",
    "    spillage_solar = Float64[],\n",
    "    total_cost = Float64[],\n",
    ")\n",
    "\n",
    "function scale_demand(scenario, scale)\n",
    "    return Scenario(scale * scenario.demand, scenario.solar)\n",
    "end\n",
    "\n",
    "for demand_scale in 0.2:0.1:1.4\n",
    "    new_scenario = scale_demand(scenario, demand_scale)\n",
    "    sol = solve_economic_dispatch(generators, solar_generator, new_scenario)\n",
    "    push!(\n",
    "        demand_scale_df,\n",
    "        (\n",
    "            new_scenario.demand,\n",
    "            sol.g[1],\n",
    "            sol.g[2],\n",
    "            sol.w,\n",
    "            sol.solar_spill,\n",
    "            sol.total_cost,\n",
    "        ),\n",
    "    )\n",
    "end\n",
    "\n",
    "demand_scale_df"
   ]
  },
  {
   "cell_type": "code",
   "execution_count": 12,
   "id": "0c33058f",
   "metadata": {},
   "outputs": [
    {
     "ename": "LoadError",
     "evalue": "Cannot convert Symbol to series data for plotting",
     "output_type": "error",
     "traceback": [
      "Cannot convert Symbol to series data for plotting",
      "",
      "Stacktrace:",
      "  [1] error(s::String)",
      "    @ Base .\\error.jl:35",
      "  [2] _prepare_series_data(x::Symbol)",
      "    @ RecipesPipeline C:\\Users\\user\\.julia\\packages\\RecipesPipeline\\XxUHt\\src\\series.jl:8",
      "  [3] _series_data_vector(x::Symbol, plotattributes::Dict{Symbol, Any})",
      "    @ RecipesPipeline C:\\Users\\user\\.julia\\packages\\RecipesPipeline\\XxUHt\\src\\series.jl:36",
      "  [4] (::RecipesPipeline.var\"#21#24\"{Dict{Symbol, Any}})(vi::Symbol)",
      "    @ RecipesPipeline .\\none:0",
      "  [5] iterate",
      "    @ .\\generator.jl:47 [inlined]",
      "  [6] _series_data_vector(v::Vector{Symbol}, plotattributes::Dict{Symbol, Any})",
      "    @ RecipesPipeline C:\\Users\\user\\.julia\\packages\\RecipesPipeline\\XxUHt\\src\\series.jl:51",
      "  [7] macro expansion",
      "    @ C:\\Users\\user\\.julia\\packages\\RecipesPipeline\\XxUHt\\src\\series.jl:129 [inlined]",
      "  [8] apply_recipe(plotattributes::AbstractDict{Symbol, Any}, #unused#::Type{RecipesPipeline.SliceIt}, x::Any, y::Any, z::Any)",
      "    @ RecipesPipeline C:\\Users\\user\\.julia\\packages\\RecipesBase\\z10lo\\src\\RecipesBase.jl:300",
      "  [9] _process_userrecipes!(plt::Any, plotattributes::Any, args::Any)",
      "    @ RecipesPipeline C:\\Users\\user\\.julia\\packages\\RecipesPipeline\\XxUHt\\src\\user_recipe.jl:38",
      " [10] recipe_pipeline!(plt::Any, plotattributes::Any, args::Any)",
      "    @ RecipesPipeline C:\\Users\\user\\.julia\\packages\\RecipesPipeline\\XxUHt\\src\\RecipesPipeline.jl:72",
      " [11] _plot!(plt::Plots.Plot, plotattributes::Any, args::Any)",
      "    @ Plots C:\\Users\\user\\.julia\\packages\\Plots\\nqFaB\\src\\plot.jl:223",
      " [12] #plot#180",
      "    @ C:\\Users\\user\\.julia\\packages\\Plots\\nqFaB\\src\\plot.jl:102 [inlined]",
      " [13] add_label(::Vector{String}, ::typeof(RecipesBase.plot), ::Vector{Float64}, ::Vararg{Any}; kwargs::Base.Pairs{Symbol, Any, NTuple{6, Symbol}, NamedTuple{(:labels, :title, :legend, :linewidth, :xlabel, :ylabel), Tuple{Matrix{String}, String, Symbol, Int64, String, String}}})",
      "    @ StatsPlots C:\\Users\\user\\.julia\\packages\\StatsPlots\\omhFT\\src\\df.jl:171",
      " [14] (::var\"#7#8\")(350::DataFrames.DataFrame)",
      "    @ Main .\\none:0",
      " [15] top-level scope",
      "    @ In[12]:15"
     ]
    }
   ],
   "source": [
    "dispatch_plot = StatsPlots.@df(\n",
    "    demand_scale_df,\n",
    "    Plots.plot(\n",
    "        :demand,\n",
    "        [:dispatch_G1, :dispatch_G2],\n",
    "        labels = [\"G1\" \"G2\"],\n",
    "        title = \"Thermal Dispatch\",\n",
    "        legend = :bottomright,\n",
    "        linewidth = 3,\n",
    "        xlabel = \"Demand\",\n",
    "        ylabel = \"Dispatch [MW]\",\n",
    "    ),\n",
    ")\n",
    "\n",
    "solar_plot = StatsPlots.@df(\n",
    "    demand_scale_df,\n",
    "    Plots.plot(\n",
    "        :demand,\n",
    "        [:dispatch_solar, :spillage_solar],\n",
    "        labels = [\"Dispatch\" \"Spillage\"],\n",
    "        title = \"solar\",\n",
    "        legend = :bottomright,\n",
    "        linewidth = 3,\n",
    "        xlabel = \"Demand [MW]\",\n",
    "        ylabel = \"Energy [MW]\",\n",
    "    ),\n",
    ")\n",
    "\n",
    "Plots.plot(dispatch_plot, solar_plot)"
   ]
  },
  {
   "cell_type": "code",
   "execution_count": 13,
   "id": "85eee781",
   "metadata": {},
   "outputs": [
    {
     "data": {
      "text/plain": [
       "solve_unit_commitment (generic function with 1 method)"
      ]
     },
     "execution_count": 13,
     "metadata": {},
     "output_type": "execute_result"
    }
   ],
   "source": [
    "function solve_unit_commitment(generators::Vector, wind, scenario)\n",
    "    model = Model(CPLEX.Optimizer)\n",
    "    set_silent(model)\n",
    "    N = length(generators)\n",
    "    @variable(model, generators[i].min <= g[i = 1:N] <= generators[i].max)\n",
    "    @variable(model, 0 <= w <= scenario.wind)\n",
    "    @constraint(model, sum(g[i] for i in 1:N) + w == scenario.demand)\n",
    "    # !!! New: add binary on-off variables for each generator\n",
    "    @variable(model, u[i = 1:N], Bin)\n",
    "    @constraint(model, [i = 1:N], g[i] <= generators[i].max * u[i])\n",
    "    @constraint(model, [i = 1:N], g[i] >= generators[i].min * u[i])\n",
    "    @objective(\n",
    "        model,\n",
    "        Min,\n",
    "        sum(generators[i].variable_cost * g[i] for i in 1:N) +\n",
    "        wind.variable_cost * w +\n",
    "        # !!! new\n",
    "        sum(generators[i].fixed_cost * u[i] for i in 1:N)\n",
    "    )\n",
    "    optimize!(model)\n",
    "    status = termination_status(model)\n",
    "    if status != OPTIMAL\n",
    "        return (status = status,)\n",
    "    end\n",
    "    return (\n",
    "        status = status,\n",
    "        g = value.(g),\n",
    "        w = value(w),\n",
    "        solar_spill = scenario.solar - value(w),\n",
    "        u = value.(u),\n",
    "        total_cost = objective_value(model),\n",
    "    )\n",
    "end\n"
   ]
  },
  {
   "cell_type": "code",
   "execution_count": 33,
   "id": "cefc5fcf",
   "metadata": {},
   "outputs": [
    {
     "ename": "LoadError",
     "evalue": "type NamedTuple has no field wind",
     "output_type": "error",
     "traceback": [
      "type NamedTuple has no field wind",
      "",
      "Stacktrace:",
      " [1] getproperty",
      "   @ .\\Base.jl:38 [inlined]",
      " [2] macro expansion",
      "   @ C:\\Users\\user\\.julia\\packages\\JuMP\\vuP7I\\src\\macros.jl:138 [inlined]",
      " [3] solve_unit_commitment(generators::Vector{NamedTuple{(:min, :max, :fixed_cost, :variable_cost), NTuple{4, Float64}}}, wind::NamedTuple{(:variable_cost,), Tuple{Float64}}, scenario::NamedTuple{(:demand, :solar), Tuple{Float64, Float64}})",
      "   @ Main .\\In[13]:6",
      " [4] top-level scope",
      "   @ In[33]:1"
     ]
    }
   ],
   "source": [
    "solution = solve_unit_commitment(generators, solar_generator, scenario)\n",
    "\n",
    "println(\"Dispatch of Generators: \", solution.g, \" MW\")\n",
    "println(\"Commitments of Generators: \", solution.u)\n",
    "println(\"Dispatch of Wind: \", solution.w, \" MW\")\n",
    "println(\"Wind spillage: \", solution.wind_spill, \" MW\")\n",
    "println(\"Total cost: \\$\", solution.total_cost)"
   ]
  },
  {
   "cell_type": "code",
   "execution_count": 15,
   "id": "a9c973aa",
   "metadata": {},
   "outputs": [
    {
     "ename": "LoadError",
     "evalue": "UndefVarError: wind_generator not defined",
     "output_type": "error",
     "traceback": [
      "UndefVarError: wind_generator not defined",
      "",
      "Stacktrace:",
      " [1] top-level scope",
      "   @ .\\In[15]:14"
     ]
    }
   ],
   "source": [
    "uc_df = DataFrames.DataFrame(;\n",
    "    demand = Float64[],\n",
    "    commitment_G1 = Float64[],\n",
    "    commitment_G2 = Float64[],\n",
    "    dispatch_G1 = Float64[],\n",
    "    dispatch_G2 = Float64[],\n",
    "    dispatch_wind = Float64[],\n",
    "    spillage_wind = Float64[],\n",
    "    total_cost = Float64[],\n",
    ")\n",
    "\n",
    "for demand_scale in 0.2:0.1:1.4\n",
    "    new_scenario = scale_demand(scenario, demand_scale)\n",
    "    sol = solve_unit_commitment(generators, solar_generator, new_scenario)\n",
    "    if sol.status == OPTIMAL\n",
    "        push!(\n",
    "            uc_df,\n",
    "            (\n",
    "                new_scenario.demand,\n",
    "                sol.u[1],\n",
    "                sol.u[2],\n",
    "                sol.g[1],\n",
    "                sol.g[2],\n",
    "                sol.g[3],\n",
    "                sol.w,\n",
    "                sol.solar_spill,\n",
    "                sol.total_cost,\n",
    "            ),\n",
    "        )\n",
    "    end\n",
    "    println(\"Status: $(sol.status) for demand_scale = $(demand_scale)\")\n",
    "end"
   ]
  },
  {
   "cell_type": "code",
   "execution_count": 16,
   "id": "50319d2d",
   "metadata": {},
   "outputs": [
    {
     "data": {
      "image/svg+xml": [
       "<?xml version=\"1.0\" encoding=\"utf-8\"?>\n",
       "<svg xmlns=\"http://www.w3.org/2000/svg\" xmlns:xlink=\"http://www.w3.org/1999/xlink\" width=\"600\" height=\"400\" viewBox=\"0 0 2400 1600\">\n",
       "<defs>\n",
       "  <clipPath id=\"clip540\">\n",
       "    <rect x=\"0\" y=\"0\" width=\"2400\" height=\"1600\"/>\n",
       "  </clipPath>\n",
       "</defs>\n",
       "<path clip-path=\"url(#clip540)\" d=\"M0 1600 L2400 1600 L2400 0 L0 0  Z\" fill=\"#ffffff\" fill-rule=\"evenodd\" fill-opacity=\"1\"/>\n",
       "<defs>\n",
       "  <clipPath id=\"clip541\">\n",
       "    <rect x=\"480\" y=\"0\" width=\"1681\" height=\"1600\"/>\n",
       "  </clipPath>\n",
       "</defs>\n",
       "<path clip-path=\"url(#clip540)\" d=\"M249.542 1423.18 L1152.76 1423.18 L1152.76 123.472 L249.542 123.472  Z\" fill=\"#ffffff\" fill-rule=\"evenodd\" fill-opacity=\"1\"/>\n",
       "<defs>\n",
       "  <clipPath id=\"clip542\">\n",
       "    <rect x=\"249\" y=\"123\" width=\"904\" height=\"1301\"/>\n",
       "  </clipPath>\n",
       "</defs>\n",
       "<polyline clip-path=\"url(#clip542)\" style=\"stroke:#000000; stroke-linecap:round; stroke-linejoin:round; stroke-width:2; stroke-opacity:0.1; fill:none\" points=\"275.105,1423.18 275.105,123.472 \"/>\n",
       "<polyline clip-path=\"url(#clip542)\" style=\"stroke:#000000; stroke-linecap:round; stroke-linejoin:round; stroke-width:2; stroke-opacity:0.1; fill:none\" points=\"488.127,1423.18 488.127,123.472 \"/>\n",
       "<polyline clip-path=\"url(#clip542)\" style=\"stroke:#000000; stroke-linecap:round; stroke-linejoin:round; stroke-width:2; stroke-opacity:0.1; fill:none\" points=\"701.149,1423.18 701.149,123.472 \"/>\n",
       "<polyline clip-path=\"url(#clip542)\" style=\"stroke:#000000; stroke-linecap:round; stroke-linejoin:round; stroke-width:2; stroke-opacity:0.1; fill:none\" points=\"914.171,1423.18 914.171,123.472 \"/>\n",
       "<polyline clip-path=\"url(#clip542)\" style=\"stroke:#000000; stroke-linecap:round; stroke-linejoin:round; stroke-width:2; stroke-opacity:0.1; fill:none\" points=\"1127.19,1423.18 1127.19,123.472 \"/>\n",
       "<polyline clip-path=\"url(#clip540)\" style=\"stroke:#000000; stroke-linecap:round; stroke-linejoin:round; stroke-width:4; stroke-opacity:1; fill:none\" points=\"249.542,1423.18 1152.76,1423.18 \"/>\n",
       "<polyline clip-path=\"url(#clip540)\" style=\"stroke:#000000; stroke-linecap:round; stroke-linejoin:round; stroke-width:4; stroke-opacity:1; fill:none\" points=\"275.105,1423.18 275.105,1404.28 \"/>\n",
       "<polyline clip-path=\"url(#clip540)\" style=\"stroke:#000000; stroke-linecap:round; stroke-linejoin:round; stroke-width:4; stroke-opacity:1; fill:none\" points=\"488.127,1423.18 488.127,1404.28 \"/>\n",
       "<polyline clip-path=\"url(#clip540)\" style=\"stroke:#000000; stroke-linecap:round; stroke-linejoin:round; stroke-width:4; stroke-opacity:1; fill:none\" points=\"701.149,1423.18 701.149,1404.28 \"/>\n",
       "<polyline clip-path=\"url(#clip540)\" style=\"stroke:#000000; stroke-linecap:round; stroke-linejoin:round; stroke-width:4; stroke-opacity:1; fill:none\" points=\"914.171,1423.18 914.171,1404.28 \"/>\n",
       "<polyline clip-path=\"url(#clip540)\" style=\"stroke:#000000; stroke-linecap:round; stroke-linejoin:round; stroke-width:4; stroke-opacity:1; fill:none\" points=\"1127.19,1423.18 1127.19,1404.28 \"/>\n",
       "<path clip-path=\"url(#clip540)\" d=\"M237.408 1454.1 Q233.797 1454.1 231.968 1457.66 Q230.163 1461.2 230.163 1468.33 Q230.163 1475.44 231.968 1479.01 Q233.797 1482.55 237.408 1482.55 Q241.042 1482.55 242.848 1479.01 Q244.677 1475.44 244.677 1468.33 Q244.677 1461.2 242.848 1457.66 Q241.042 1454.1 237.408 1454.1 M237.408 1450.39 Q243.218 1450.39 246.274 1455 Q249.353 1459.58 249.353 1468.33 Q249.353 1477.06 246.274 1481.67 Q243.218 1486.25 237.408 1486.25 Q231.598 1486.25 228.519 1481.67 Q225.464 1477.06 225.464 1468.33 Q225.464 1459.58 228.519 1455 Q231.598 1450.39 237.408 1450.39 Z\" fill=\"#000000\" fill-rule=\"evenodd\" fill-opacity=\"1\" /><path clip-path=\"url(#clip540)\" d=\"M257.57 1479.7 L262.454 1479.7 L262.454 1485.58 L257.57 1485.58 L257.57 1479.7 Z\" fill=\"#000000\" fill-rule=\"evenodd\" fill-opacity=\"1\" /><path clip-path=\"url(#clip540)\" d=\"M282.639 1454.1 Q279.028 1454.1 277.2 1457.66 Q275.394 1461.2 275.394 1468.33 Q275.394 1475.44 277.2 1479.01 Q279.028 1482.55 282.639 1482.55 Q286.274 1482.55 288.079 1479.01 Q289.908 1475.44 289.908 1468.33 Q289.908 1461.2 288.079 1457.66 Q286.274 1454.1 282.639 1454.1 M282.639 1450.39 Q288.45 1450.39 291.505 1455 Q294.584 1459.58 294.584 1468.33 Q294.584 1477.06 291.505 1481.67 Q288.45 1486.25 282.639 1486.25 Q276.829 1486.25 273.751 1481.67 Q270.695 1477.06 270.695 1468.33 Q270.695 1459.58 273.751 1455 Q276.829 1450.39 282.639 1450.39 Z\" fill=\"#000000\" fill-rule=\"evenodd\" fill-opacity=\"1\" /><path clip-path=\"url(#clip540)\" d=\"M312.801 1454.1 Q309.19 1454.1 307.361 1457.66 Q305.556 1461.2 305.556 1468.33 Q305.556 1475.44 307.361 1479.01 Q309.19 1482.55 312.801 1482.55 Q316.435 1482.55 318.241 1479.01 Q320.07 1475.44 320.07 1468.33 Q320.07 1461.2 318.241 1457.66 Q316.435 1454.1 312.801 1454.1 M312.801 1450.39 Q318.611 1450.39 321.667 1455 Q324.746 1459.58 324.746 1468.33 Q324.746 1477.06 321.667 1481.67 Q318.611 1486.25 312.801 1486.25 Q306.991 1486.25 303.912 1481.67 Q300.857 1477.06 300.857 1468.33 Q300.857 1459.58 303.912 1455 Q306.991 1450.39 312.801 1450.39 Z\" fill=\"#000000\" fill-rule=\"evenodd\" fill-opacity=\"1\" /><path clip-path=\"url(#clip540)\" d=\"M450.928 1454.1 Q447.317 1454.1 445.488 1457.66 Q443.683 1461.2 443.683 1468.33 Q443.683 1475.44 445.488 1479.01 Q447.317 1482.55 450.928 1482.55 Q454.562 1482.55 456.368 1479.01 Q458.196 1475.44 458.196 1468.33 Q458.196 1461.2 456.368 1457.66 Q454.562 1454.1 450.928 1454.1 M450.928 1450.39 Q456.738 1450.39 459.794 1455 Q462.872 1459.58 462.872 1468.33 Q462.872 1477.06 459.794 1481.67 Q456.738 1486.25 450.928 1486.25 Q445.118 1486.25 442.039 1481.67 Q438.984 1477.06 438.984 1468.33 Q438.984 1459.58 442.039 1455 Q445.118 1450.39 450.928 1450.39 Z\" fill=\"#000000\" fill-rule=\"evenodd\" fill-opacity=\"1\" /><path clip-path=\"url(#clip540)\" d=\"M471.09 1479.7 L475.974 1479.7 L475.974 1485.58 L471.09 1485.58 L471.09 1479.7 Z\" fill=\"#000000\" fill-rule=\"evenodd\" fill-opacity=\"1\" /><path clip-path=\"url(#clip540)\" d=\"M490.187 1481.64 L506.506 1481.64 L506.506 1485.58 L484.562 1485.58 L484.562 1481.64 Q487.224 1478.89 491.807 1474.26 Q496.414 1469.61 497.594 1468.27 Q499.84 1465.74 500.719 1464.01 Q501.622 1462.25 501.622 1460.56 Q501.622 1457.8 499.678 1456.07 Q497.756 1454.33 494.655 1454.33 Q492.456 1454.33 490.002 1455.09 Q487.571 1455.86 484.794 1457.41 L484.794 1452.69 Q487.618 1451.55 490.071 1450.97 Q492.525 1450.39 494.562 1450.39 Q499.932 1450.39 503.127 1453.08 Q506.321 1455.77 506.321 1460.26 Q506.321 1462.39 505.511 1464.31 Q504.724 1466.2 502.617 1468.8 Q502.039 1469.47 498.937 1472.69 Q495.835 1475.88 490.187 1481.64 Z\" fill=\"#000000\" fill-rule=\"evenodd\" fill-opacity=\"1\" /><path clip-path=\"url(#clip540)\" d=\"M516.367 1451.02 L534.724 1451.02 L534.724 1454.96 L520.65 1454.96 L520.65 1463.43 Q521.668 1463.08 522.687 1462.92 Q523.705 1462.73 524.724 1462.73 Q530.511 1462.73 533.89 1465.9 Q537.27 1469.08 537.27 1474.49 Q537.27 1480.07 533.798 1483.17 Q530.326 1486.25 524.006 1486.25 Q521.83 1486.25 519.562 1485.88 Q517.316 1485.51 514.909 1484.77 L514.909 1480.07 Q516.992 1481.2 519.215 1481.76 Q521.437 1482.32 523.914 1482.32 Q527.918 1482.32 530.256 1480.21 Q532.594 1478.1 532.594 1474.49 Q532.594 1470.88 530.256 1468.77 Q527.918 1466.67 523.914 1466.67 Q522.039 1466.67 520.164 1467.08 Q518.312 1467.5 516.367 1468.38 L516.367 1451.02 Z\" fill=\"#000000\" fill-rule=\"evenodd\" fill-opacity=\"1\" /><path clip-path=\"url(#clip540)\" d=\"M663.452 1454.1 Q659.841 1454.1 658.013 1457.66 Q656.207 1461.2 656.207 1468.33 Q656.207 1475.44 658.013 1479.01 Q659.841 1482.55 663.452 1482.55 Q667.087 1482.55 668.892 1479.01 Q670.721 1475.44 670.721 1468.33 Q670.721 1461.2 668.892 1457.66 Q667.087 1454.1 663.452 1454.1 M663.452 1450.39 Q669.263 1450.39 672.318 1455 Q675.397 1459.58 675.397 1468.33 Q675.397 1477.06 672.318 1481.67 Q669.263 1486.25 663.452 1486.25 Q657.642 1486.25 654.564 1481.67 Q651.508 1477.06 651.508 1468.33 Q651.508 1459.58 654.564 1455 Q657.642 1450.39 663.452 1450.39 Z\" fill=\"#000000\" fill-rule=\"evenodd\" fill-opacity=\"1\" /><path clip-path=\"url(#clip540)\" d=\"M683.614 1479.7 L688.499 1479.7 L688.499 1485.58 L683.614 1485.58 L683.614 1479.7 Z\" fill=\"#000000\" fill-rule=\"evenodd\" fill-opacity=\"1\" /><path clip-path=\"url(#clip540)\" d=\"M698.73 1451.02 L717.086 1451.02 L717.086 1454.96 L703.012 1454.96 L703.012 1463.43 Q704.031 1463.08 705.049 1462.92 Q706.068 1462.73 707.086 1462.73 Q712.873 1462.73 716.253 1465.9 Q719.633 1469.08 719.633 1474.49 Q719.633 1480.07 716.16 1483.17 Q712.688 1486.25 706.369 1486.25 Q704.193 1486.25 701.924 1485.88 Q699.679 1485.51 697.272 1484.77 L697.272 1480.07 Q699.355 1481.2 701.577 1481.76 Q703.799 1482.32 706.276 1482.32 Q710.281 1482.32 712.619 1480.21 Q714.957 1478.1 714.957 1474.49 Q714.957 1470.88 712.619 1468.77 Q710.281 1466.67 706.276 1466.67 Q704.401 1466.67 702.526 1467.08 Q700.674 1467.5 698.73 1468.38 L698.73 1451.02 Z\" fill=\"#000000\" fill-rule=\"evenodd\" fill-opacity=\"1\" /><path clip-path=\"url(#clip540)\" d=\"M738.846 1454.1 Q735.234 1454.1 733.406 1457.66 Q731.6 1461.2 731.6 1468.33 Q731.6 1475.44 733.406 1479.01 Q735.234 1482.55 738.846 1482.55 Q742.48 1482.55 744.285 1479.01 Q746.114 1475.44 746.114 1468.33 Q746.114 1461.2 744.285 1457.66 Q742.48 1454.1 738.846 1454.1 M738.846 1450.39 Q744.656 1450.39 747.711 1455 Q750.79 1459.58 750.79 1468.33 Q750.79 1477.06 747.711 1481.67 Q744.656 1486.25 738.846 1486.25 Q733.035 1486.25 729.957 1481.67 Q726.901 1477.06 726.901 1468.33 Q726.901 1459.58 729.957 1455 Q733.035 1450.39 738.846 1450.39 Z\" fill=\"#000000\" fill-rule=\"evenodd\" fill-opacity=\"1\" /><path clip-path=\"url(#clip540)\" d=\"M876.972 1454.1 Q873.361 1454.1 871.532 1457.66 Q869.727 1461.2 869.727 1468.33 Q869.727 1475.44 871.532 1479.01 Q873.361 1482.55 876.972 1482.55 Q880.606 1482.55 882.412 1479.01 Q884.241 1475.44 884.241 1468.33 Q884.241 1461.2 882.412 1457.66 Q880.606 1454.1 876.972 1454.1 M876.972 1450.39 Q882.782 1450.39 885.838 1455 Q888.917 1459.58 888.917 1468.33 Q888.917 1477.06 885.838 1481.67 Q882.782 1486.25 876.972 1486.25 Q871.162 1486.25 868.083 1481.67 Q865.028 1477.06 865.028 1468.33 Q865.028 1459.58 868.083 1455 Q871.162 1450.39 876.972 1450.39 Z\" fill=\"#000000\" fill-rule=\"evenodd\" fill-opacity=\"1\" /><path clip-path=\"url(#clip540)\" d=\"M897.134 1479.7 L902.018 1479.7 L902.018 1485.58 L897.134 1485.58 L897.134 1479.7 Z\" fill=\"#000000\" fill-rule=\"evenodd\" fill-opacity=\"1\" /><path clip-path=\"url(#clip540)\" d=\"M911.023 1451.02 L933.245 1451.02 L933.245 1453.01 L920.699 1485.58 L915.815 1485.58 L927.62 1454.96 L911.023 1454.96 L911.023 1451.02 Z\" fill=\"#000000\" fill-rule=\"evenodd\" fill-opacity=\"1\" /><path clip-path=\"url(#clip540)\" d=\"M942.412 1451.02 L960.768 1451.02 L960.768 1454.96 L946.694 1454.96 L946.694 1463.43 Q947.713 1463.08 948.731 1462.92 Q949.75 1462.73 950.768 1462.73 Q956.555 1462.73 959.935 1465.9 Q963.314 1469.08 963.314 1474.49 Q963.314 1480.07 959.842 1483.17 Q956.37 1486.25 950.051 1486.25 Q947.875 1486.25 945.606 1485.88 Q943.361 1485.51 940.953 1484.77 L940.953 1480.07 Q943.037 1481.2 945.259 1481.76 Q947.481 1482.32 949.958 1482.32 Q953.963 1482.32 956.301 1480.21 Q958.638 1478.1 958.638 1474.49 Q958.638 1470.88 956.301 1468.77 Q953.963 1466.67 949.958 1466.67 Q948.083 1466.67 946.208 1467.08 Q944.356 1467.5 942.412 1468.38 L942.412 1451.02 Z\" fill=\"#000000\" fill-rule=\"evenodd\" fill-opacity=\"1\" /><path clip-path=\"url(#clip540)\" d=\"M1079.27 1481.64 L1086.9 1481.64 L1086.9 1455.28 L1078.59 1456.95 L1078.59 1452.69 L1086.86 1451.02 L1091.53 1451.02 L1091.53 1481.64 L1099.17 1481.64 L1099.17 1485.58 L1079.27 1485.58 L1079.27 1481.64 Z\" fill=\"#000000\" fill-rule=\"evenodd\" fill-opacity=\"1\" /><path clip-path=\"url(#clip540)\" d=\"M1108.62 1479.7 L1113.5 1479.7 L1113.5 1485.58 L1108.62 1485.58 L1108.62 1479.7 Z\" fill=\"#000000\" fill-rule=\"evenodd\" fill-opacity=\"1\" /><path clip-path=\"url(#clip540)\" d=\"M1133.69 1454.1 Q1130.08 1454.1 1128.25 1457.66 Q1126.44 1461.2 1126.44 1468.33 Q1126.44 1475.44 1128.25 1479.01 Q1130.08 1482.55 1133.69 1482.55 Q1137.32 1482.55 1139.13 1479.01 Q1140.95 1475.44 1140.95 1468.33 Q1140.95 1461.2 1139.13 1457.66 Q1137.32 1454.1 1133.69 1454.1 M1133.69 1450.39 Q1139.5 1450.39 1142.55 1455 Q1145.63 1459.58 1145.63 1468.33 Q1145.63 1477.06 1142.55 1481.67 Q1139.5 1486.25 1133.69 1486.25 Q1127.88 1486.25 1124.8 1481.67 Q1121.74 1477.06 1121.74 1468.33 Q1121.74 1459.58 1124.8 1455 Q1127.88 1450.39 1133.69 1450.39 Z\" fill=\"#000000\" fill-rule=\"evenodd\" fill-opacity=\"1\" /><path clip-path=\"url(#clip540)\" d=\"M1163.85 1454.1 Q1160.24 1454.1 1158.41 1457.66 Q1156.6 1461.2 1156.6 1468.33 Q1156.6 1475.44 1158.41 1479.01 Q1160.24 1482.55 1163.85 1482.55 Q1167.48 1482.55 1169.29 1479.01 Q1171.12 1475.44 1171.12 1468.33 Q1171.12 1461.2 1169.29 1457.66 Q1167.48 1454.1 1163.85 1454.1 M1163.85 1450.39 Q1169.66 1450.39 1172.71 1455 Q1175.79 1459.58 1175.79 1468.33 Q1175.79 1477.06 1172.71 1481.67 Q1169.66 1486.25 1163.85 1486.25 Q1158.04 1486.25 1154.96 1481.67 Q1151.9 1477.06 1151.9 1468.33 Q1151.9 1459.58 1154.96 1455 Q1158.04 1450.39 1163.85 1450.39 Z\" fill=\"#000000\" fill-rule=\"evenodd\" fill-opacity=\"1\" /><path clip-path=\"url(#clip540)\" d=\"M479.225 1525.81 L479.225 1562.76 L486.991 1562.76 Q496.826 1562.76 501.377 1558.3 Q505.96 1553.85 505.96 1544.24 Q505.96 1534.69 501.377 1530.26 Q496.826 1525.81 486.991 1525.81 L479.225 1525.81 M472.795 1520.52 L486.004 1520.52 Q499.818 1520.52 506.279 1526.28 Q512.74 1532.01 512.74 1544.24 Q512.74 1556.52 506.247 1562.28 Q499.754 1568.04 486.004 1568.04 L472.795 1568.04 L472.795 1520.52 Z\" fill=\"#000000\" fill-rule=\"evenodd\" fill-opacity=\"1\" /><path clip-path=\"url(#clip540)\" d=\"M553.226 1548.76 L553.226 1551.62 L526.299 1551.62 Q526.681 1557.67 529.927 1560.85 Q533.206 1564 539.03 1564 Q542.404 1564 545.555 1563.17 Q548.738 1562.35 551.857 1560.69 L551.857 1566.23 Q548.706 1567.57 545.396 1568.27 Q542.086 1568.97 538.68 1568.97 Q530.15 1568.97 525.153 1564 Q520.188 1559.04 520.188 1550.57 Q520.188 1541.82 524.898 1536.69 Q529.641 1531.54 537.662 1531.54 Q544.855 1531.54 549.024 1536.18 Q553.226 1540.8 553.226 1548.76 M547.369 1547.04 Q547.306 1542.23 544.664 1539.37 Q542.054 1536.5 537.725 1536.5 Q532.824 1536.5 529.864 1539.27 Q526.935 1542.04 526.49 1547.07 L547.369 1547.04 Z\" fill=\"#000000\" fill-rule=\"evenodd\" fill-opacity=\"1\" /><path clip-path=\"url(#clip540)\" d=\"M590.593 1539.24 Q592.789 1535.29 595.844 1533.41 Q598.9 1531.54 603.038 1531.54 Q608.608 1531.54 611.631 1535.45 Q614.655 1539.33 614.655 1546.53 L614.655 1568.04 L608.767 1568.04 L608.767 1546.72 Q608.767 1541.59 606.952 1539.11 Q605.138 1536.63 601.414 1536.63 Q596.863 1536.63 594.221 1539.65 Q591.579 1542.68 591.579 1547.9 L591.579 1568.04 L585.691 1568.04 L585.691 1546.72 Q585.691 1541.56 583.877 1539.11 Q582.063 1536.63 578.275 1536.63 Q573.787 1536.63 571.145 1539.68 Q568.504 1542.71 568.504 1547.9 L568.504 1568.04 L562.615 1568.04 L562.615 1532.4 L568.504 1532.4 L568.504 1537.93 Q570.509 1534.66 573.31 1533.1 Q576.111 1531.54 579.962 1531.54 Q583.845 1531.54 586.55 1533.51 Q589.288 1535.48 590.593 1539.24 Z\" fill=\"#000000\" fill-rule=\"evenodd\" fill-opacity=\"1\" /><path clip-path=\"url(#clip540)\" d=\"M642.537 1550.12 Q635.439 1550.12 632.702 1551.75 Q629.964 1553.37 629.964 1557.29 Q629.964 1560.4 632.001 1562.25 Q634.07 1564.07 637.603 1564.07 Q642.473 1564.07 645.401 1560.63 Q648.361 1557.16 648.361 1551.43 L648.361 1550.12 L642.537 1550.12 M654.218 1547.71 L654.218 1568.04 L648.361 1568.04 L648.361 1562.63 Q646.356 1565.88 643.364 1567.44 Q640.372 1568.97 636.044 1568.97 Q630.569 1568.97 627.323 1565.91 Q624.108 1562.82 624.108 1557.67 Q624.108 1551.65 628.118 1548.6 Q632.161 1545.54 640.15 1545.54 L648.361 1545.54 L648.361 1544.97 Q648.361 1540.93 645.688 1538.73 Q643.046 1536.5 638.24 1536.5 Q635.184 1536.5 632.288 1537.23 Q629.392 1537.97 626.718 1539.43 L626.718 1534.02 Q629.933 1532.78 632.956 1532.17 Q635.98 1531.54 638.845 1531.54 Q646.579 1531.54 650.398 1535.55 Q654.218 1539.56 654.218 1547.71 Z\" fill=\"#000000\" fill-rule=\"evenodd\" fill-opacity=\"1\" /><path clip-path=\"url(#clip540)\" d=\"M695.913 1546.53 L695.913 1568.04 L690.057 1568.04 L690.057 1546.72 Q690.057 1541.66 688.083 1539.14 Q686.11 1536.63 682.163 1536.63 Q677.421 1536.63 674.684 1539.65 Q671.946 1542.68 671.946 1547.9 L671.946 1568.04 L666.058 1568.04 L666.058 1532.4 L671.946 1532.4 L671.946 1537.93 Q674.047 1534.72 676.88 1533.13 Q679.744 1531.54 683.468 1531.54 Q689.611 1531.54 692.762 1535.36 Q695.913 1539.14 695.913 1546.53 Z\" fill=\"#000000\" fill-rule=\"evenodd\" fill-opacity=\"1\" /><path clip-path=\"url(#clip540)\" d=\"M731.052 1537.81 L731.052 1518.52 L736.908 1518.52 L736.908 1568.04 L731.052 1568.04 L731.052 1562.7 Q729.206 1565.88 726.373 1567.44 Q723.572 1568.97 719.625 1568.97 Q713.164 1568.97 709.09 1563.81 Q705.048 1558.65 705.048 1550.25 Q705.048 1541.85 709.09 1536.69 Q713.164 1531.54 719.625 1531.54 Q723.572 1531.54 726.373 1533.1 Q729.206 1534.62 731.052 1537.81 M711.095 1550.25 Q711.095 1556.71 713.737 1560.4 Q716.411 1564.07 721.058 1564.07 Q725.705 1564.07 728.378 1560.4 Q731.052 1556.71 731.052 1550.25 Q731.052 1543.79 728.378 1540.13 Q725.705 1536.44 721.058 1536.44 Q716.411 1536.44 713.737 1540.13 Q711.095 1543.79 711.095 1550.25 Z\" fill=\"#000000\" fill-rule=\"evenodd\" fill-opacity=\"1\" /><path clip-path=\"url(#clip540)\" d=\"M769.151 1518.52 L782.646 1518.52 L782.646 1523.07 L775.007 1523.07 L775.007 1572.09 L782.646 1572.09 L782.646 1576.64 L769.151 1576.64 L769.151 1518.52 Z\" fill=\"#000000\" fill-rule=\"evenodd\" fill-opacity=\"1\" /><path clip-path=\"url(#clip540)\" d=\"M795.377 1520.52 L804.958 1520.52 L817.084 1552.86 L829.275 1520.52 L838.855 1520.52 L838.855 1568.04 L832.585 1568.04 L832.585 1526.32 L820.331 1558.91 L813.87 1558.91 L801.616 1526.32 L801.616 1568.04 L795.377 1568.04 L795.377 1520.52 Z\" fill=\"#000000\" fill-rule=\"evenodd\" fill-opacity=\"1\" /><path clip-path=\"url(#clip540)\" d=\"M847.385 1520.52 L853.878 1520.52 L863.872 1560.69 L873.835 1520.52 L881.06 1520.52 L891.054 1560.69 L901.016 1520.52 L907.541 1520.52 L895.605 1568.04 L887.521 1568.04 L877.495 1526.79 L867.373 1568.04 L859.289 1568.04 L847.385 1520.52 Z\" fill=\"#000000\" fill-rule=\"evenodd\" fill-opacity=\"1\" /><path clip-path=\"url(#clip540)\" d=\"M929.503 1518.52 L929.503 1576.64 L916.007 1576.64 L916.007 1572.09 L923.615 1572.09 L923.615 1523.07 L916.007 1523.07 L916.007 1518.52 L929.503 1518.52 Z\" fill=\"#000000\" fill-rule=\"evenodd\" fill-opacity=\"1\" /><polyline clip-path=\"url(#clip542)\" style=\"stroke:#000000; stroke-linecap:round; stroke-linejoin:round; stroke-width:2; stroke-opacity:0.1; fill:none\" points=\"249.542,1386.4 1152.76,1386.4 \"/>\n",
       "<polyline clip-path=\"url(#clip542)\" style=\"stroke:#000000; stroke-linecap:round; stroke-linejoin:round; stroke-width:2; stroke-opacity:0.1; fill:none\" points=\"249.542,1079.86 1152.76,1079.86 \"/>\n",
       "<polyline clip-path=\"url(#clip542)\" style=\"stroke:#000000; stroke-linecap:round; stroke-linejoin:round; stroke-width:2; stroke-opacity:0.1; fill:none\" points=\"249.542,773.326 1152.76,773.326 \"/>\n",
       "<polyline clip-path=\"url(#clip542)\" style=\"stroke:#000000; stroke-linecap:round; stroke-linejoin:round; stroke-width:2; stroke-opacity:0.1; fill:none\" points=\"249.542,466.791 1152.76,466.791 \"/>\n",
       "<polyline clip-path=\"url(#clip542)\" style=\"stroke:#000000; stroke-linecap:round; stroke-linejoin:round; stroke-width:2; stroke-opacity:0.1; fill:none\" points=\"249.542,160.256 1152.76,160.256 \"/>\n",
       "<polyline clip-path=\"url(#clip540)\" style=\"stroke:#000000; stroke-linecap:round; stroke-linejoin:round; stroke-width:4; stroke-opacity:1; fill:none\" points=\"249.542,1423.18 249.542,123.472 \"/>\n",
       "<polyline clip-path=\"url(#clip540)\" style=\"stroke:#000000; stroke-linecap:round; stroke-linejoin:round; stroke-width:4; stroke-opacity:1; fill:none\" points=\"249.542,1386.4 268.44,1386.4 \"/>\n",
       "<polyline clip-path=\"url(#clip540)\" style=\"stroke:#000000; stroke-linecap:round; stroke-linejoin:round; stroke-width:4; stroke-opacity:1; fill:none\" points=\"249.542,1079.86 268.44,1079.86 \"/>\n",
       "<polyline clip-path=\"url(#clip540)\" style=\"stroke:#000000; stroke-linecap:round; stroke-linejoin:round; stroke-width:4; stroke-opacity:1; fill:none\" points=\"249.542,773.326 268.44,773.326 \"/>\n",
       "<polyline clip-path=\"url(#clip540)\" style=\"stroke:#000000; stroke-linecap:round; stroke-linejoin:round; stroke-width:4; stroke-opacity:1; fill:none\" points=\"249.542,466.791 268.44,466.791 \"/>\n",
       "<polyline clip-path=\"url(#clip540)\" style=\"stroke:#000000; stroke-linecap:round; stroke-linejoin:round; stroke-width:4; stroke-opacity:1; fill:none\" points=\"249.542,160.256 268.44,160.256 \"/>\n",
       "<path clip-path=\"url(#clip540)\" d=\"M126.205 1372.19 Q122.593 1372.19 120.765 1375.76 Q118.959 1379.3 118.959 1386.43 Q118.959 1393.54 120.765 1397.1 Q122.593 1400.64 126.205 1400.64 Q129.839 1400.64 131.644 1397.1 Q133.473 1393.54 133.473 1386.43 Q133.473 1379.3 131.644 1375.76 Q129.839 1372.19 126.205 1372.19 M126.205 1368.49 Q132.015 1368.49 135.07 1373.1 Q138.149 1377.68 138.149 1386.43 Q138.149 1395.16 135.07 1399.76 Q132.015 1404.35 126.205 1404.35 Q120.394 1404.35 117.316 1399.76 Q114.26 1395.16 114.26 1386.43 Q114.26 1377.68 117.316 1373.1 Q120.394 1368.49 126.205 1368.49 Z\" fill=\"#000000\" fill-rule=\"evenodd\" fill-opacity=\"1\" /><path clip-path=\"url(#clip540)\" d=\"M146.366 1397.8 L151.251 1397.8 L151.251 1403.68 L146.366 1403.68 L146.366 1397.8 Z\" fill=\"#000000\" fill-rule=\"evenodd\" fill-opacity=\"1\" /><path clip-path=\"url(#clip540)\" d=\"M171.436 1372.19 Q167.825 1372.19 165.996 1375.76 Q164.19 1379.3 164.19 1386.43 Q164.19 1393.54 165.996 1397.1 Q167.825 1400.64 171.436 1400.64 Q175.07 1400.64 176.876 1397.1 Q178.704 1393.54 178.704 1386.43 Q178.704 1379.3 176.876 1375.76 Q175.07 1372.19 171.436 1372.19 M171.436 1368.49 Q177.246 1368.49 180.301 1373.1 Q183.38 1377.68 183.38 1386.43 Q183.38 1395.16 180.301 1399.76 Q177.246 1404.35 171.436 1404.35 Q165.626 1404.35 162.547 1399.76 Q159.491 1395.16 159.491 1386.43 Q159.491 1377.68 162.547 1373.1 Q165.626 1368.49 171.436 1368.49 Z\" fill=\"#000000\" fill-rule=\"evenodd\" fill-opacity=\"1\" /><path clip-path=\"url(#clip540)\" d=\"M201.598 1372.19 Q197.987 1372.19 196.158 1375.76 Q194.352 1379.3 194.352 1386.43 Q194.352 1393.54 196.158 1397.1 Q197.987 1400.64 201.598 1400.64 Q205.232 1400.64 207.037 1397.1 Q208.866 1393.54 208.866 1386.43 Q208.866 1379.3 207.037 1375.76 Q205.232 1372.19 201.598 1372.19 M201.598 1368.49 Q207.408 1368.49 210.463 1373.1 Q213.542 1377.68 213.542 1386.43 Q213.542 1395.16 210.463 1399.76 Q207.408 1404.35 201.598 1404.35 Q195.787 1404.35 192.709 1399.76 Q189.653 1395.16 189.653 1386.43 Q189.653 1377.68 192.709 1373.1 Q195.787 1368.49 201.598 1368.49 Z\" fill=\"#000000\" fill-rule=\"evenodd\" fill-opacity=\"1\" /><path clip-path=\"url(#clip540)\" d=\"M127.2 1065.66 Q123.589 1065.66 121.76 1069.22 Q119.955 1072.77 119.955 1079.9 Q119.955 1087 121.76 1090.57 Q123.589 1094.11 127.2 1094.11 Q130.834 1094.11 132.64 1090.57 Q134.468 1087 134.468 1079.9 Q134.468 1072.77 132.64 1069.22 Q130.834 1065.66 127.2 1065.66 M127.2 1061.96 Q133.01 1061.96 136.066 1066.56 Q139.144 1071.15 139.144 1079.9 Q139.144 1088.62 136.066 1093.23 Q133.01 1097.81 127.2 1097.81 Q121.39 1097.81 118.311 1093.23 Q115.256 1088.62 115.256 1079.9 Q115.256 1071.15 118.311 1066.56 Q121.39 1061.96 127.2 1061.96 Z\" fill=\"#000000\" fill-rule=\"evenodd\" fill-opacity=\"1\" /><path clip-path=\"url(#clip540)\" d=\"M147.362 1091.26 L152.246 1091.26 L152.246 1097.14 L147.362 1097.14 L147.362 1091.26 Z\" fill=\"#000000\" fill-rule=\"evenodd\" fill-opacity=\"1\" /><path clip-path=\"url(#clip540)\" d=\"M166.459 1093.21 L182.778 1093.21 L182.778 1097.14 L160.834 1097.14 L160.834 1093.21 Q163.496 1090.45 168.079 1085.82 Q172.686 1081.17 173.866 1079.83 Q176.112 1077.3 176.991 1075.57 Q177.894 1073.81 177.894 1072.12 Q177.894 1069.36 175.95 1067.63 Q174.028 1065.89 170.927 1065.89 Q168.727 1065.89 166.274 1066.65 Q163.843 1067.42 161.065 1068.97 L161.065 1064.25 Q163.89 1063.11 166.343 1062.53 Q168.797 1061.96 170.834 1061.96 Q176.204 1061.96 179.399 1064.64 Q182.593 1067.33 182.593 1071.82 Q182.593 1073.95 181.783 1075.87 Q180.996 1077.77 178.889 1080.36 Q178.311 1081.03 175.209 1084.25 Q172.107 1087.44 166.459 1093.21 Z\" fill=\"#000000\" fill-rule=\"evenodd\" fill-opacity=\"1\" /><path clip-path=\"url(#clip540)\" d=\"M192.639 1062.58 L210.996 1062.58 L210.996 1066.52 L196.922 1066.52 L196.922 1074.99 Q197.94 1074.64 198.959 1074.48 Q199.977 1074.29 200.996 1074.29 Q206.783 1074.29 210.162 1077.47 Q213.542 1080.64 213.542 1086.05 Q213.542 1091.63 210.07 1094.73 Q206.598 1097.81 200.278 1097.81 Q198.102 1097.81 195.834 1097.44 Q193.588 1097.07 191.181 1096.33 L191.181 1091.63 Q193.264 1092.77 195.487 1093.32 Q197.709 1093.88 200.186 1093.88 Q204.19 1093.88 206.528 1091.77 Q208.866 1089.66 208.866 1086.05 Q208.866 1082.44 206.528 1080.34 Q204.19 1078.23 200.186 1078.23 Q198.311 1078.23 196.436 1078.65 Q194.584 1079.06 192.639 1079.94 L192.639 1062.58 Z\" fill=\"#000000\" fill-rule=\"evenodd\" fill-opacity=\"1\" /><path clip-path=\"url(#clip540)\" d=\"M126.205 759.125 Q122.593 759.125 120.765 762.689 Q118.959 766.231 118.959 773.361 Q118.959 780.467 120.765 784.032 Q122.593 787.574 126.205 787.574 Q129.839 787.574 131.644 784.032 Q133.473 780.467 133.473 773.361 Q133.473 766.231 131.644 762.689 Q129.839 759.125 126.205 759.125 M126.205 755.421 Q132.015 755.421 135.07 760.027 Q138.149 764.611 138.149 773.361 Q138.149 782.088 135.07 786.694 Q132.015 791.277 126.205 791.277 Q120.394 791.277 117.316 786.694 Q114.26 782.088 114.26 773.361 Q114.26 764.611 117.316 760.027 Q120.394 755.421 126.205 755.421 Z\" fill=\"#000000\" fill-rule=\"evenodd\" fill-opacity=\"1\" /><path clip-path=\"url(#clip540)\" d=\"M146.366 784.726 L151.251 784.726 L151.251 790.606 L146.366 790.606 L146.366 784.726 Z\" fill=\"#000000\" fill-rule=\"evenodd\" fill-opacity=\"1\" /><path clip-path=\"url(#clip540)\" d=\"M161.482 756.046 L179.839 756.046 L179.839 759.981 L165.765 759.981 L165.765 768.453 Q166.783 768.106 167.802 767.944 Q168.82 767.759 169.839 767.759 Q175.626 767.759 179.005 770.93 Q182.385 774.101 182.385 779.518 Q182.385 785.097 178.913 788.199 Q175.44 791.277 169.121 791.277 Q166.945 791.277 164.677 790.907 Q162.431 790.537 160.024 789.796 L160.024 785.097 Q162.107 786.231 164.329 786.787 Q166.552 787.342 169.028 787.342 Q173.033 787.342 175.371 785.236 Q177.709 783.129 177.709 779.518 Q177.709 775.907 175.371 773.801 Q173.033 771.694 169.028 771.694 Q167.153 771.694 165.278 772.111 Q163.427 772.527 161.482 773.407 L161.482 756.046 Z\" fill=\"#000000\" fill-rule=\"evenodd\" fill-opacity=\"1\" /><path clip-path=\"url(#clip540)\" d=\"M201.598 759.125 Q197.987 759.125 196.158 762.689 Q194.352 766.231 194.352 773.361 Q194.352 780.467 196.158 784.032 Q197.987 787.574 201.598 787.574 Q205.232 787.574 207.037 784.032 Q208.866 780.467 208.866 773.361 Q208.866 766.231 207.037 762.689 Q205.232 759.125 201.598 759.125 M201.598 755.421 Q207.408 755.421 210.463 760.027 Q213.542 764.611 213.542 773.361 Q213.542 782.088 210.463 786.694 Q207.408 791.277 201.598 791.277 Q195.787 791.277 192.709 786.694 Q189.653 782.088 189.653 773.361 Q189.653 764.611 192.709 760.027 Q195.787 755.421 201.598 755.421 Z\" fill=\"#000000\" fill-rule=\"evenodd\" fill-opacity=\"1\" /><path clip-path=\"url(#clip540)\" d=\"M127.2 452.59 Q123.589 452.59 121.76 456.155 Q119.955 459.696 119.955 466.826 Q119.955 473.932 121.76 477.497 Q123.589 481.039 127.2 481.039 Q130.834 481.039 132.64 477.497 Q134.468 473.932 134.468 466.826 Q134.468 459.696 132.64 456.155 Q130.834 452.59 127.2 452.59 M127.2 448.886 Q133.01 448.886 136.066 453.493 Q139.144 458.076 139.144 466.826 Q139.144 475.553 136.066 480.159 Q133.01 484.742 127.2 484.742 Q121.39 484.742 118.311 480.159 Q115.256 475.553 115.256 466.826 Q115.256 458.076 118.311 453.493 Q121.39 448.886 127.2 448.886 Z\" fill=\"#000000\" fill-rule=\"evenodd\" fill-opacity=\"1\" /><path clip-path=\"url(#clip540)\" d=\"M147.362 478.192 L152.246 478.192 L152.246 484.071 L147.362 484.071 L147.362 478.192 Z\" fill=\"#000000\" fill-rule=\"evenodd\" fill-opacity=\"1\" /><path clip-path=\"url(#clip540)\" d=\"M161.251 449.511 L183.473 449.511 L183.473 451.502 L170.927 484.071 L166.042 484.071 L177.848 453.446 L161.251 453.446 L161.251 449.511 Z\" fill=\"#000000\" fill-rule=\"evenodd\" fill-opacity=\"1\" /><path clip-path=\"url(#clip540)\" d=\"M192.639 449.511 L210.996 449.511 L210.996 453.446 L196.922 453.446 L196.922 461.918 Q197.94 461.571 198.959 461.409 Q199.977 461.224 200.996 461.224 Q206.783 461.224 210.162 464.395 Q213.542 467.567 213.542 472.983 Q213.542 478.562 210.07 481.664 Q206.598 484.742 200.278 484.742 Q198.102 484.742 195.834 484.372 Q193.588 484.002 191.181 483.261 L191.181 478.562 Q193.264 479.696 195.487 480.252 Q197.709 480.807 200.186 480.807 Q204.19 480.807 206.528 478.701 Q208.866 476.594 208.866 472.983 Q208.866 469.372 206.528 467.266 Q204.19 465.159 200.186 465.159 Q198.311 465.159 196.436 465.576 Q194.584 465.993 192.639 466.872 L192.639 449.511 Z\" fill=\"#000000\" fill-rule=\"evenodd\" fill-opacity=\"1\" /><path clip-path=\"url(#clip540)\" d=\"M117.015 173.601 L124.654 173.601 L124.654 147.236 L116.343 148.902 L116.343 144.643 L124.607 142.976 L129.283 142.976 L129.283 173.601 L136.922 173.601 L136.922 177.536 L117.015 177.536 L117.015 173.601 Z\" fill=\"#000000\" fill-rule=\"evenodd\" fill-opacity=\"1\" /><path clip-path=\"url(#clip540)\" d=\"M146.366 171.657 L151.251 171.657 L151.251 177.536 L146.366 177.536 L146.366 171.657 Z\" fill=\"#000000\" fill-rule=\"evenodd\" fill-opacity=\"1\" /><path clip-path=\"url(#clip540)\" d=\"M171.436 146.055 Q167.825 146.055 165.996 149.62 Q164.19 153.161 164.19 160.291 Q164.19 167.397 165.996 170.962 Q167.825 174.504 171.436 174.504 Q175.07 174.504 176.876 170.962 Q178.704 167.397 178.704 160.291 Q178.704 153.161 176.876 149.62 Q175.07 146.055 171.436 146.055 M171.436 142.351 Q177.246 142.351 180.301 146.958 Q183.38 151.541 183.38 160.291 Q183.38 169.018 180.301 173.624 Q177.246 178.208 171.436 178.208 Q165.626 178.208 162.547 173.624 Q159.491 169.018 159.491 160.291 Q159.491 151.541 162.547 146.958 Q165.626 142.351 171.436 142.351 Z\" fill=\"#000000\" fill-rule=\"evenodd\" fill-opacity=\"1\" /><path clip-path=\"url(#clip540)\" d=\"M201.598 146.055 Q197.987 146.055 196.158 149.62 Q194.352 153.161 194.352 160.291 Q194.352 167.397 196.158 170.962 Q197.987 174.504 201.598 174.504 Q205.232 174.504 207.037 170.962 Q208.866 167.397 208.866 160.291 Q208.866 153.161 207.037 149.62 Q205.232 146.055 201.598 146.055 M201.598 142.351 Q207.408 142.351 210.463 146.958 Q213.542 151.541 213.542 160.291 Q213.542 169.018 210.463 173.624 Q207.408 178.208 201.598 178.208 Q195.787 178.208 192.709 173.624 Q189.653 169.018 189.653 160.291 Q189.653 151.541 192.709 146.958 Q195.787 142.351 201.598 142.351 Z\" fill=\"#000000\" fill-rule=\"evenodd\" fill-opacity=\"1\" /><path clip-path=\"url(#clip540)\" d=\"M20.1444 1201.1 L26.9239 1201.1 Q23.9002 1204.35 22.4043 1208.04 Q20.9083 1211.7 20.9083 1215.84 Q20.9083 1223.99 25.9054 1228.31 Q30.8707 1232.64 40.2919 1232.64 Q49.6813 1232.64 54.6784 1228.31 Q59.6436 1223.99 59.6436 1215.84 Q59.6436 1211.7 58.1477 1208.04 Q56.6518 1204.35 53.6281 1201.1 L60.3439 1201.1 Q62.6355 1204.48 63.7814 1208.26 Q64.9272 1212.02 64.9272 1216.22 Q64.9272 1227.01 58.3387 1233.22 Q51.7183 1239.42 40.2919 1239.42 Q28.8336 1239.42 22.2451 1233.22 Q15.6248 1227.01 15.6248 1216.22 Q15.6248 1211.95 16.7706 1208.2 Q17.8846 1204.41 20.1444 1201.1 Z\" fill=\"#000000\" fill-rule=\"evenodd\" fill-opacity=\"1\" /><path clip-path=\"url(#clip540)\" d=\"M32.4621 1177.61 Q32.4621 1182.32 36.1542 1185.06 Q39.8145 1187.8 46.212 1187.8 Q52.6095 1187.8 56.3017 1185.09 Q59.9619 1182.35 59.9619 1177.61 Q59.9619 1172.93 56.2698 1170.2 Q52.5777 1167.46 46.212 1167.46 Q39.8781 1167.46 36.186 1170.2 Q32.4621 1172.93 32.4621 1177.61 M27.4968 1177.61 Q27.4968 1169.97 32.4621 1165.61 Q37.4273 1161.25 46.212 1161.25 Q54.9649 1161.25 59.9619 1165.61 Q64.9272 1169.97 64.9272 1177.61 Q64.9272 1185.28 59.9619 1189.64 Q54.9649 1193.97 46.212 1193.97 Q37.4273 1193.97 32.4621 1189.64 Q27.4968 1185.28 27.4968 1177.61 Z\" fill=\"#000000\" fill-rule=\"evenodd\" fill-opacity=\"1\" /><path clip-path=\"url(#clip540)\" d=\"M35.1993 1123.79 Q31.2526 1121.59 29.3747 1118.54 Q27.4968 1115.48 27.4968 1111.35 Q27.4968 1105.78 31.4117 1102.75 Q35.2948 1099.73 42.4881 1099.73 L64.0042 1099.73 L64.0042 1105.62 L42.679 1105.62 Q37.5546 1105.62 35.072 1107.43 Q32.5894 1109.24 32.5894 1112.97 Q32.5894 1117.52 35.6131 1120.16 Q38.6368 1122.8 43.8567 1122.8 L64.0042 1122.8 L64.0042 1128.69 L42.679 1128.69 Q37.5228 1128.69 35.072 1130.51 Q32.5894 1132.32 32.5894 1136.11 Q32.5894 1140.6 35.6449 1143.24 Q38.6686 1145.88 43.8567 1145.88 L64.0042 1145.88 L64.0042 1151.77 L28.3562 1151.77 L28.3562 1145.88 L33.8944 1145.88 Q30.616 1143.87 29.0564 1141.07 Q27.4968 1138.27 27.4968 1134.42 Q27.4968 1130.54 29.4702 1127.83 Q31.4436 1125.09 35.1993 1123.79 Z\" fill=\"#000000\" fill-rule=\"evenodd\" fill-opacity=\"1\" /><path clip-path=\"url(#clip540)\" d=\"M35.1993 1060.29 Q31.2526 1058.1 29.3747 1055.04 Q27.4968 1051.98 27.4968 1047.85 Q27.4968 1042.28 31.4117 1039.25 Q35.2948 1036.23 42.4881 1036.23 L64.0042 1036.23 L64.0042 1042.12 L42.679 1042.12 Q37.5546 1042.12 35.072 1043.93 Q32.5894 1045.75 32.5894 1049.47 Q32.5894 1054.02 35.6131 1056.66 Q38.6368 1059.31 43.8567 1059.31 L64.0042 1059.31 L64.0042 1065.19 L42.679 1065.19 Q37.5228 1065.19 35.072 1067.01 Q32.5894 1068.82 32.5894 1072.61 Q32.5894 1077.1 35.6449 1079.74 Q38.6686 1082.38 43.8567 1082.38 L64.0042 1082.38 L64.0042 1088.27 L28.3562 1088.27 L28.3562 1082.38 L33.8944 1082.38 Q30.616 1080.38 29.0564 1077.57 Q27.4968 1074.77 27.4968 1070.92 Q27.4968 1067.04 29.4702 1064.33 Q31.4436 1061.6 35.1993 1060.29 Z\" fill=\"#000000\" fill-rule=\"evenodd\" fill-opacity=\"1\" /><path clip-path=\"url(#clip540)\" d=\"M28.3562 1024.55 L28.3562 1018.69 L64.0042 1018.69 L64.0042 1024.55 L28.3562 1024.55 M14.479 1024.55 L14.479 1018.69 L21.895 1018.69 L21.895 1024.55 L14.479 1024.55 Z\" fill=\"#000000\" fill-rule=\"evenodd\" fill-opacity=\"1\" /><path clip-path=\"url(#clip540)\" d=\"M18.2347 1000.65 L28.3562 1000.65 L28.3562 988.582 L32.9077 988.582 L32.9077 1000.65 L52.2594 1000.65 Q56.6199 1000.65 57.8613 999.468 Q59.1026 998.258 59.1026 994.598 L59.1026 988.582 L64.0042 988.582 L64.0042 994.598 Q64.0042 1001.38 61.4897 1003.96 Q58.9434 1006.53 52.2594 1006.53 L32.9077 1006.53 L32.9077 1010.83 L28.3562 1010.83 L28.3562 1006.53 L18.2347 1006.53 L18.2347 1000.65 Z\" fill=\"#000000\" fill-rule=\"evenodd\" fill-opacity=\"1\" /><path clip-path=\"url(#clip540)\" d=\"M35.1993 953.125 Q31.2526 950.929 29.3747 947.874 Q27.4968 944.818 27.4968 940.68 Q27.4968 935.11 31.4117 932.087 Q35.2948 929.063 42.4881 929.063 L64.0042 929.063 L64.0042 934.951 L42.679 934.951 Q37.5546 934.951 35.072 936.766 Q32.5894 938.58 32.5894 942.304 Q32.5894 946.855 35.6131 949.497 Q38.6368 952.139 43.8567 952.139 L64.0042 952.139 L64.0042 958.027 L42.679 958.027 Q37.5228 958.027 35.072 959.841 Q32.5894 961.655 32.5894 965.443 Q32.5894 969.931 35.6449 972.573 Q38.6686 975.214 43.8567 975.214 L64.0042 975.214 L64.0042 981.103 L28.3562 981.103 L28.3562 975.214 L33.8944 975.214 Q30.616 973.209 29.0564 970.408 Q27.4968 967.607 27.4968 963.756 Q27.4968 959.873 29.4702 957.168 Q31.4436 954.43 35.1993 953.125 Z\" fill=\"#000000\" fill-rule=\"evenodd\" fill-opacity=\"1\" /><path clip-path=\"url(#clip540)\" d=\"M44.7161 886.89 L47.5806 886.89 L47.5806 913.817 Q53.6281 913.435 56.8109 910.189 Q59.9619 906.91 59.9619 901.086 Q59.9619 897.712 59.1344 894.561 Q58.3069 891.378 56.6518 888.259 L62.1899 888.259 Q63.5267 891.41 64.227 894.72 Q64.9272 898.03 64.9272 901.436 Q64.9272 909.966 59.9619 914.963 Q54.9967 919.928 46.5303 919.928 Q37.7774 919.928 32.6531 915.218 Q27.4968 910.475 27.4968 902.454 Q27.4968 895.261 32.1438 891.092 Q36.7589 886.89 44.7161 886.89 M42.9973 892.747 Q38.1912 892.81 35.3266 895.452 Q32.4621 898.062 32.4621 902.391 Q32.4621 907.292 35.2312 910.252 Q38.0002 913.181 43.0292 913.626 L42.9973 892.747 Z\" fill=\"#000000\" fill-rule=\"evenodd\" fill-opacity=\"1\" /><path clip-path=\"url(#clip540)\" d=\"M42.4881 847.646 L64.0042 847.646 L64.0042 853.502 L42.679 853.502 Q37.6183 853.502 35.1038 855.475 Q32.5894 857.449 32.5894 861.396 Q32.5894 866.138 35.6131 868.875 Q38.6368 871.612 43.8567 871.612 L64.0042 871.612 L64.0042 877.501 L28.3562 877.501 L28.3562 871.612 L33.8944 871.612 Q30.6797 869.512 29.0883 866.679 Q27.4968 863.815 27.4968 860.091 Q27.4968 853.948 31.3163 850.797 Q35.1038 847.646 42.4881 847.646 Z\" fill=\"#000000\" fill-rule=\"evenodd\" fill-opacity=\"1\" /><path clip-path=\"url(#clip540)\" d=\"M18.2347 830.172 L28.3562 830.172 L28.3562 818.109 L32.9077 818.109 L32.9077 830.172 L52.2594 830.172 Q56.6199 830.172 57.8613 828.994 Q59.1026 827.785 59.1026 824.124 L59.1026 818.109 L64.0042 818.109 L64.0042 824.124 Q64.0042 830.904 61.4897 833.482 Q58.9434 836.06 52.2594 836.06 L32.9077 836.06 L32.9077 840.357 L28.3562 840.357 L28.3562 836.06 L18.2347 836.06 L18.2347 830.172 Z\" fill=\"#000000\" fill-rule=\"evenodd\" fill-opacity=\"1\" /><path clip-path=\"url(#clip540)\" d=\"M33.7671 766.228 L14.479 766.228 L14.479 760.372 L64.0042 760.372 L64.0042 766.228 L58.657 766.228 Q61.8398 768.074 63.3994 770.907 Q64.9272 773.708 64.9272 777.655 Q64.9272 784.116 59.771 788.19 Q54.6147 792.232 46.212 792.232 Q37.8093 792.232 32.6531 788.19 Q27.4968 784.116 27.4968 777.655 Q27.4968 773.708 29.0564 770.907 Q30.5842 768.074 33.7671 766.228 M46.212 786.185 Q52.6732 786.185 56.3653 783.543 Q60.0256 780.869 60.0256 776.222 Q60.0256 771.575 56.3653 768.902 Q52.6732 766.228 46.212 766.228 Q39.7508 766.228 36.0905 768.902 Q32.3984 771.575 32.3984 776.222 Q32.3984 780.869 36.0905 783.543 Q39.7508 786.185 46.212 786.185 Z\" fill=\"#000000\" fill-rule=\"evenodd\" fill-opacity=\"1\" /><path clip-path=\"url(#clip540)\" d=\"M44.7161 717.817 L47.5806 717.817 L47.5806 744.744 Q53.6281 744.362 56.8109 741.116 Q59.9619 737.837 59.9619 732.013 Q59.9619 728.639 59.1344 725.488 Q58.3069 722.305 56.6518 719.186 L62.1899 719.186 Q63.5267 722.337 64.227 725.647 Q64.9272 728.957 64.9272 732.363 Q64.9272 740.893 59.9619 745.89 Q54.9967 750.855 46.5303 750.855 Q37.7774 750.855 32.6531 746.144 Q27.4968 741.402 27.4968 733.381 Q27.4968 726.188 32.1438 722.018 Q36.7589 717.817 44.7161 717.817 M42.9973 723.673 Q38.1912 723.737 35.3266 726.379 Q32.4621 728.989 32.4621 733.318 Q32.4621 738.219 35.2312 741.179 Q38.0002 744.107 43.0292 744.553 L42.9973 723.673 Z\" fill=\"#000000\" fill-rule=\"evenodd\" fill-opacity=\"1\" /><path clip-path=\"url(#clip540)\" d=\"M29.7248 682.551 L35.1993 682.551 Q33.8307 685.034 33.1623 687.548 Q32.4621 690.031 32.4621 692.577 Q32.4621 698.274 36.0905 701.425 Q39.6872 704.576 46.212 704.576 Q52.7369 704.576 56.3653 701.425 Q59.9619 698.274 59.9619 692.577 Q59.9619 690.031 59.2935 687.548 Q58.5933 685.034 57.2247 682.551 L62.6355 682.551 Q63.7814 685.002 64.3543 687.644 Q64.9272 690.254 64.9272 693.214 Q64.9272 701.266 59.8664 706.009 Q54.8057 710.751 46.212 710.751 Q37.491 710.751 32.4939 705.977 Q27.4968 701.171 27.4968 692.832 Q27.4968 690.126 28.0697 687.548 Q28.6108 684.97 29.7248 682.551 Z\" fill=\"#000000\" fill-rule=\"evenodd\" fill-opacity=\"1\" /><path clip-path=\"url(#clip540)\" d=\"M28.3562 672.366 L28.3562 666.509 L64.0042 666.509 L64.0042 672.366 L28.3562 672.366 M14.479 672.366 L14.479 666.509 L21.895 666.509 L21.895 672.366 L14.479 672.366 Z\" fill=\"#000000\" fill-rule=\"evenodd\" fill-opacity=\"1\" /><path clip-path=\"url(#clip540)\" d=\"M29.4065 631.53 L34.9447 631.53 Q33.6716 634.012 33.035 636.686 Q32.3984 639.36 32.3984 642.224 Q32.3984 646.585 33.7352 648.781 Q35.072 650.945 37.7456 650.945 Q39.7826 650.945 40.9603 649.386 Q42.1061 647.826 43.1565 643.115 L43.6021 641.11 Q44.9389 634.872 47.3897 632.262 Q49.8086 629.62 54.1691 629.62 Q59.1344 629.62 62.0308 633.567 Q64.9272 637.482 64.9272 644.357 Q64.9272 647.221 64.3543 650.341 Q63.8132 653.428 62.6992 656.865 L56.6518 656.865 Q58.3387 653.619 59.198 650.468 Q60.0256 647.317 60.0256 644.229 Q60.0256 640.092 58.6251 637.864 Q57.1929 635.636 54.6147 635.636 Q52.2276 635.636 50.9545 637.259 Q49.6813 638.85 48.5037 644.293 L48.0262 646.33 Q46.8804 651.773 44.5251 654.192 Q42.138 656.611 38.0002 656.611 Q32.9713 656.611 30.2341 653.046 Q27.4968 649.481 27.4968 642.924 Q27.4968 639.678 27.9743 636.813 Q28.4517 633.949 29.4065 631.53 Z\" fill=\"#000000\" fill-rule=\"evenodd\" fill-opacity=\"1\" /><path clip-path=\"url(#clip540)\" d=\"M28.3562 620.294 L28.3562 614.438 L64.0042 614.438 L64.0042 620.294 L28.3562 620.294 M14.479 620.294 L14.479 614.438 L21.895 614.438 L21.895 620.294 L14.479 620.294 Z\" fill=\"#000000\" fill-rule=\"evenodd\" fill-opacity=\"1\" /><path clip-path=\"url(#clip540)\" d=\"M32.4621 588.37 Q32.4621 593.081 36.1542 595.818 Q39.8145 598.556 46.212 598.556 Q52.6095 598.556 56.3017 595.85 Q59.9619 593.113 59.9619 588.37 Q59.9619 583.692 56.2698 580.954 Q52.5777 578.217 46.212 578.217 Q39.8781 578.217 36.186 580.954 Q32.4621 583.692 32.4621 588.37 M27.4968 588.37 Q27.4968 580.732 32.4621 576.371 Q37.4273 572.011 46.212 572.011 Q54.9649 572.011 59.9619 576.371 Q64.9272 580.732 64.9272 588.37 Q64.9272 596.041 59.9619 600.402 Q54.9649 604.73 46.212 604.73 Q37.4273 604.73 32.4621 600.402 Q27.4968 596.041 27.4968 588.37 Z\" fill=\"#000000\" fill-rule=\"evenodd\" fill-opacity=\"1\" /><path clip-path=\"url(#clip540)\" d=\"M42.4881 532.67 L64.0042 532.67 L64.0042 538.527 L42.679 538.527 Q37.6183 538.527 35.1038 540.5 Q32.5894 542.474 32.5894 546.42 Q32.5894 551.163 35.6131 553.9 Q38.6368 556.637 43.8567 556.637 L64.0042 556.637 L64.0042 562.526 L28.3562 562.526 L28.3562 556.637 L33.8944 556.637 Q30.6797 554.537 29.0883 551.704 Q27.4968 548.839 27.4968 545.115 Q27.4968 538.972 31.3163 535.821 Q35.1038 532.67 42.4881 532.67 Z\" fill=\"#000000\" fill-rule=\"evenodd\" fill-opacity=\"1\" /><path clip-path=\"url(#clip540)\" d=\"M70.0516 473.087 L74.6349 473.087 L74.6349 475.061 Q74.6349 482.986 72.2796 485.692 Q69.9243 488.365 62.8902 488.365 L55.2831 488.365 Q50.477 488.365 48.631 490.084 Q46.7849 491.803 46.7849 496.322 L46.7849 498.264 L42.2334 498.264 L42.2334 496.322 Q42.2334 491.771 40.4192 490.084 Q38.5732 488.365 33.8307 488.365 L26.1919 488.365 Q19.1578 488.365 16.8343 485.692 Q14.479 482.986 14.479 475.061 L14.479 473.087 L19.0304 473.087 L19.0304 475.252 Q19.0304 479.74 20.4309 481.108 Q21.8314 482.477 26.3192 482.477 L34.2127 482.477 Q39.2097 482.477 41.4696 483.941 Q43.7294 485.373 44.5251 488.874 Q45.3845 485.341 47.6443 483.909 Q49.9041 482.477 54.8694 482.477 L62.7628 482.477 Q67.2507 482.477 68.6511 481.108 Q70.0516 479.74 70.0516 475.252 L70.0516 473.087 Z\" fill=\"#000000\" fill-rule=\"evenodd\" fill-opacity=\"1\" /><path clip-path=\"url(#clip540)\" d=\"M20.7174 444.219 Q20.7174 449.184 25.6189 451.699 Q30.4887 454.181 40.2919 454.181 Q50.0633 454.181 54.9649 451.699 Q59.8346 449.184 59.8346 444.219 Q59.8346 439.222 54.9649 436.739 Q50.0633 434.225 40.2919 434.225 Q30.4887 434.225 25.6189 436.739 Q20.7174 439.222 20.7174 444.219 M15.6248 444.219 Q15.6248 436.23 21.9587 432.029 Q28.2607 427.795 40.2919 427.795 Q52.2913 427.795 58.6251 432.029 Q64.9272 436.23 64.9272 444.219 Q64.9272 452.208 58.6251 456.441 Q52.2913 460.642 40.2919 460.642 Q28.2607 460.642 21.9587 456.441 Q15.6248 452.208 15.6248 444.219 Z\" fill=\"#000000\" fill-rule=\"evenodd\" fill-opacity=\"1\" /><path clip-path=\"url(#clip540)\" d=\"M55.9197 415.828 L55.9197 409.112 L61.3942 409.112 L71.5793 414.332 L71.5793 418.438 L61.3942 415.828 L55.9197 415.828 Z\" fill=\"#000000\" fill-rule=\"evenodd\" fill-opacity=\"1\" /><path clip-path=\"url(#clip540)\" d=\"M58.5933 373.942 L58.5933 363.438 L22.3406 363.438 L24.6323 374.865 L18.7758 374.865 L16.4842 363.502 L16.4842 357.072 L58.5933 357.072 L58.5933 346.569 L64.0042 346.569 L64.0042 373.942 L58.5933 373.942 Z\" fill=\"#000000\" fill-rule=\"evenodd\" fill-opacity=\"1\" /><path clip-path=\"url(#clip540)\" d=\"M70.0516 332.405 L70.0516 330.177 Q70.0516 325.721 68.683 324.385 Q67.3143 323.016 62.7628 323.016 L54.8694 323.016 Q49.9041 323.016 47.6443 321.584 Q45.3845 320.151 44.5251 316.618 Q43.7294 320.151 41.4696 321.584 Q39.2097 323.016 34.2127 323.016 L26.3192 323.016 Q21.7995 323.016 20.4309 324.385 Q19.0304 325.721 19.0304 330.177 L19.0304 332.405 L14.479 332.405 L14.479 330.4 Q14.479 322.475 16.8343 319.833 Q19.1578 317.159 26.1919 317.159 L33.8307 317.159 Q38.5732 317.159 40.4192 315.441 Q42.2334 313.722 42.2334 309.202 L42.2334 307.229 L46.7849 307.229 L46.7849 309.202 Q46.7849 313.722 48.631 315.441 Q50.477 317.159 55.2831 317.159 L62.8902 317.159 Q69.9243 317.159 72.2796 319.833 Q74.6349 322.475 74.6349 330.4 L74.6349 332.405 L70.0516 332.405 Z\" fill=\"#000000\" fill-rule=\"evenodd\" fill-opacity=\"1\" /><path clip-path=\"url(#clip540)\" d=\"M481.813 16.7545 L481.813 25.383 Q477.681 21.5346 472.982 19.6307 Q468.323 17.7268 463.057 17.7268 Q452.687 17.7268 447.178 24.0867 Q441.668 30.4061 441.668 42.3968 Q441.668 54.3469 447.178 60.7069 Q452.687 67.0263 463.057 67.0263 Q468.323 67.0263 472.982 65.1223 Q477.681 63.2184 481.813 59.3701 L481.813 67.9175 Q477.519 70.8341 472.698 72.2924 Q467.918 73.7508 462.571 73.7508 Q448.838 73.7508 440.939 65.3654 Q433.04 56.9395 433.04 42.3968 Q433.04 27.8135 440.939 19.4281 Q448.838 11.0023 462.571 11.0023 Q467.999 11.0023 472.779 12.4606 Q477.6 13.8784 481.813 16.7545 Z\" fill=\"#000000\" fill-rule=\"evenodd\" fill-opacity=\"1\" /><path clip-path=\"url(#clip540)\" d=\"M511.708 32.4315 Q505.713 32.4315 502.229 37.1306 Q498.746 41.7891 498.746 49.9314 Q498.746 58.0738 502.189 62.7728 Q505.673 67.4314 511.708 67.4314 Q517.663 67.4314 521.147 62.7323 Q524.631 58.0333 524.631 49.9314 Q524.631 41.8701 521.147 37.1711 Q517.663 32.4315 511.708 32.4315 M511.708 26.1121 Q521.431 26.1121 526.98 32.4315 Q532.53 38.7509 532.53 49.9314 Q532.53 61.0714 526.98 67.4314 Q521.431 73.7508 511.708 73.7508 Q501.946 73.7508 496.396 67.4314 Q490.887 61.0714 490.887 49.9314 Q490.887 38.7509 496.396 32.4315 Q501.946 26.1121 511.708 26.1121 Z\" fill=\"#000000\" fill-rule=\"evenodd\" fill-opacity=\"1\" /><path clip-path=\"url(#clip540)\" d=\"M580.209 35.9153 Q583.004 30.8922 586.893 28.5022 Q590.782 26.1121 596.048 26.1121 Q603.137 26.1121 606.986 31.0947 Q610.834 36.0368 610.834 45.1919 L610.834 72.576 L603.34 72.576 L603.34 45.4349 Q603.34 38.913 601.031 35.7533 Q598.722 32.5936 593.982 32.5936 Q588.19 32.5936 584.827 36.4419 Q581.465 40.2903 581.465 46.9338 L581.465 72.576 L573.971 72.576 L573.971 45.4349 Q573.971 38.8725 571.662 35.7533 Q569.353 32.5936 564.532 32.5936 Q558.82 32.5936 555.458 36.4824 Q552.096 40.3308 552.096 46.9338 L552.096 72.576 L544.602 72.576 L544.602 27.2059 L552.096 27.2059 L552.096 34.2544 Q554.648 30.082 558.213 28.0971 Q561.778 26.1121 566.679 26.1121 Q571.621 26.1121 575.065 28.6237 Q578.548 31.1352 580.209 35.9153 Z\" fill=\"#000000\" fill-rule=\"evenodd\" fill-opacity=\"1\" /><path clip-path=\"url(#clip540)\" d=\"M661.025 35.9153 Q663.82 30.8922 667.709 28.5022 Q671.598 26.1121 676.864 26.1121 Q683.953 26.1121 687.801 31.0947 Q691.65 36.0368 691.65 45.1919 L691.65 72.576 L684.155 72.576 L684.155 45.4349 Q684.155 38.913 681.846 35.7533 Q679.537 32.5936 674.798 32.5936 Q669.005 32.5936 665.643 36.4419 Q662.281 40.2903 662.281 46.9338 L662.281 72.576 L654.786 72.576 L654.786 45.4349 Q654.786 38.8725 652.477 35.7533 Q650.168 32.5936 645.348 32.5936 Q639.636 32.5936 636.274 36.4824 Q632.911 40.3308 632.911 46.9338 L632.911 72.576 L625.417 72.576 L625.417 27.2059 L632.911 27.2059 L632.911 34.2544 Q635.464 30.082 639.028 28.0971 Q642.593 26.1121 647.495 26.1121 Q652.437 26.1121 655.88 28.6237 Q659.364 31.1352 661.025 35.9153 Z\" fill=\"#000000\" fill-rule=\"evenodd\" fill-opacity=\"1\" /><path clip-path=\"url(#clip540)\" d=\"M706.516 27.2059 L713.97 27.2059 L713.97 72.576 L706.516 72.576 L706.516 27.2059 M706.516 9.54393 L713.97 9.54393 L713.97 18.9825 L706.516 18.9825 L706.516 9.54393 Z\" fill=\"#000000\" fill-rule=\"evenodd\" fill-opacity=\"1\" /><path clip-path=\"url(#clip540)\" d=\"M736.939 14.324 L736.939 27.2059 L752.292 27.2059 L752.292 32.9987 L736.939 32.9987 L736.939 57.6282 Q736.939 63.1779 738.438 64.7578 Q739.977 66.3376 744.635 66.3376 L752.292 66.3376 L752.292 72.576 L744.635 72.576 Q736.007 72.576 732.726 69.3758 Q729.445 66.1351 729.445 57.6282 L729.445 32.9987 L723.976 32.9987 L723.976 27.2059 L729.445 27.2059 L729.445 14.324 L736.939 14.324 Z\" fill=\"#000000\" fill-rule=\"evenodd\" fill-opacity=\"1\" /><path clip-path=\"url(#clip540)\" d=\"M797.419 35.9153 Q800.214 30.8922 804.103 28.5022 Q807.992 26.1121 813.258 26.1121 Q820.347 26.1121 824.195 31.0947 Q828.044 36.0368 828.044 45.1919 L828.044 72.576 L820.549 72.576 L820.549 45.4349 Q820.549 38.913 818.24 35.7533 Q815.931 32.5936 811.192 32.5936 Q805.399 32.5936 802.037 36.4419 Q798.674 40.2903 798.674 46.9338 L798.674 72.576 L791.18 72.576 L791.18 45.4349 Q791.18 38.8725 788.871 35.7533 Q786.562 32.5936 781.742 32.5936 Q776.03 32.5936 772.668 36.4824 Q769.305 40.3308 769.305 46.9338 L769.305 72.576 L761.811 72.576 L761.811 27.2059 L769.305 27.2059 L769.305 34.2544 Q771.858 30.082 775.422 28.0971 Q778.987 26.1121 783.889 26.1121 Q788.831 26.1121 792.274 28.6237 Q795.758 31.1352 797.419 35.9153 Z\" fill=\"#000000\" fill-rule=\"evenodd\" fill-opacity=\"1\" /><path clip-path=\"url(#clip540)\" d=\"M881.718 48.0275 L881.718 51.6733 L847.447 51.6733 Q847.933 59.3701 852.065 63.421 Q856.238 67.4314 863.651 67.4314 Q867.945 67.4314 871.955 66.3781 Q876.006 65.3249 879.976 63.2184 L879.976 70.267 Q875.966 71.9684 871.753 72.8596 Q867.54 73.7508 863.205 73.7508 Q852.349 73.7508 845.989 67.4314 Q839.67 61.1119 839.67 50.3365 Q839.67 39.1965 845.665 32.6746 Q851.701 26.1121 861.909 26.1121 Q871.064 26.1121 876.371 32.0264 Q881.718 37.9003 881.718 48.0275 M874.264 45.84 Q874.183 39.7232 870.821 36.0774 Q867.499 32.4315 861.99 32.4315 Q855.752 32.4315 851.984 35.9558 Q848.258 39.4801 847.69 45.8805 L874.264 45.84 Z\" fill=\"#000000\" fill-rule=\"evenodd\" fill-opacity=\"1\" /><path clip-path=\"url(#clip540)\" d=\"M931.666 45.1919 L931.666 72.576 L924.212 72.576 L924.212 45.4349 Q924.212 38.994 921.7 35.7938 Q919.189 32.5936 914.166 32.5936 Q908.13 32.5936 904.646 36.4419 Q901.162 40.2903 901.162 46.9338 L901.162 72.576 L893.668 72.576 L893.668 27.2059 L901.162 27.2059 L901.162 34.2544 Q903.836 30.163 907.441 28.1376 Q911.087 26.1121 915.827 26.1121 Q923.645 26.1121 927.655 30.9732 Q931.666 35.7938 931.666 45.1919 Z\" fill=\"#000000\" fill-rule=\"evenodd\" fill-opacity=\"1\" /><path clip-path=\"url(#clip540)\" d=\"M953.905 14.324 L953.905 27.2059 L969.258 27.2059 L969.258 32.9987 L953.905 32.9987 L953.905 57.6282 Q953.905 63.1779 955.404 64.7578 Q956.943 66.3376 961.602 66.3376 L969.258 66.3376 L969.258 72.576 L961.602 72.576 Q952.973 72.576 949.692 69.3758 Q946.411 66.1351 946.411 57.6282 L946.411 32.9987 L940.942 32.9987 L940.942 27.2059 L946.411 27.2059 L946.411 14.324 L953.905 14.324 Z\" fill=\"#000000\" fill-rule=\"evenodd\" fill-opacity=\"1\" /><path clip-path=\"url(#clip540)\" d=\"M972.467 1379.86 L1122.65 1379.86 L1122.65 1224.34 L972.467 1224.34  Z\" fill=\"#ffffff\" fill-rule=\"evenodd\" fill-opacity=\"1\"/>\n",
       "<polyline clip-path=\"url(#clip540)\" style=\"stroke:#000000; stroke-linecap:round; stroke-linejoin:round; stroke-width:4; stroke-opacity:1; fill:none\" points=\"972.467,1379.86 1122.65,1379.86 1122.65,1224.34 972.467,1224.34 972.467,1379.86 \"/>\n",
       "<polyline clip-path=\"url(#clip540)\" style=\"stroke:#009af9; stroke-linecap:round; stroke-linejoin:round; stroke-width:12; stroke-opacity:1; fill:none\" points=\"982.502,1276.18 1042.72,1276.18 \"/>\n",
       "<path clip-path=\"url(#clip540)\" d=\"M1078.31 1288.53 L1078.31 1279.24 L1070.67 1279.24 L1070.67 1275.4 L1082.94 1275.4 L1082.94 1290.24 Q1080.23 1292.16 1076.97 1293.16 Q1073.7 1294.13 1070 1294.13 Q1061.9 1294.13 1057.31 1289.41 Q1052.75 1284.66 1052.75 1276.21 Q1052.75 1267.74 1057.31 1263.02 Q1061.9 1258.27 1070 1258.27 Q1073.38 1258.27 1076.41 1259.1 Q1079.47 1259.94 1082.03 1261.56 L1082.03 1266.54 Q1079.44 1264.34 1076.53 1263.22 Q1073.61 1262.11 1070.39 1262.11 Q1064.05 1262.11 1060.85 1265.66 Q1057.68 1269.2 1057.68 1276.21 Q1057.68 1283.2 1060.85 1286.74 Q1064.05 1290.28 1070.39 1290.28 Q1072.87 1290.28 1074.81 1289.87 Q1076.76 1289.43 1078.31 1288.53 Z\" fill=\"#000000\" fill-rule=\"evenodd\" fill-opacity=\"1\" /><path clip-path=\"url(#clip540)\" d=\"M1092.71 1289.52 L1100.34 1289.52 L1100.34 1263.16 L1092.03 1264.82 L1092.03 1260.56 L1100.3 1258.9 L1104.97 1258.9 L1104.97 1289.52 L1112.61 1289.52 L1112.61 1293.46 L1092.71 1293.46 L1092.71 1289.52 Z\" fill=\"#000000\" fill-rule=\"evenodd\" fill-opacity=\"1\" /><polyline clip-path=\"url(#clip540)\" style=\"stroke:#e26f46; stroke-linecap:round; stroke-linejoin:round; stroke-width:12; stroke-opacity:1; fill:none\" points=\"982.502,1328.02 1042.72,1328.02 \"/>\n",
       "<path clip-path=\"url(#clip540)\" d=\"M1078.31 1340.37 L1078.31 1331.08 L1070.67 1331.08 L1070.67 1327.24 L1082.94 1327.24 L1082.94 1342.08 Q1080.23 1344 1076.97 1345 Q1073.7 1345.97 1070 1345.97 Q1061.9 1345.97 1057.31 1341.25 Q1052.75 1336.5 1052.75 1328.05 Q1052.75 1319.58 1057.31 1314.86 Q1061.9 1310.11 1070 1310.11 Q1073.38 1310.11 1076.41 1310.94 Q1079.47 1311.78 1082.03 1313.4 L1082.03 1318.38 Q1079.44 1316.18 1076.53 1315.06 Q1073.61 1313.95 1070.39 1313.95 Q1064.05 1313.95 1060.85 1317.5 Q1057.68 1321.04 1057.68 1328.05 Q1057.68 1335.04 1060.85 1338.58 Q1064.05 1342.12 1070.39 1342.12 Q1072.87 1342.12 1074.81 1341.71 Q1076.76 1341.27 1078.31 1340.37 Z\" fill=\"#000000\" fill-rule=\"evenodd\" fill-opacity=\"1\" /><path clip-path=\"url(#clip540)\" d=\"M1095.92 1341.36 L1112.24 1341.36 L1112.24 1345.3 L1090.3 1345.3 L1090.3 1341.36 Q1092.96 1338.61 1097.54 1333.98 Q1102.15 1329.32 1103.33 1327.98 Q1105.58 1325.46 1106.46 1323.72 Q1107.36 1321.96 1107.36 1320.27 Q1107.36 1317.52 1105.41 1315.78 Q1103.49 1314.05 1100.39 1314.05 Q1098.19 1314.05 1095.74 1314.81 Q1093.31 1315.57 1090.53 1317.13 L1090.53 1312.4 Q1093.35 1311.27 1095.81 1310.69 Q1098.26 1310.11 1100.3 1310.11 Q1105.67 1310.11 1108.86 1312.8 Q1112.06 1315.48 1112.06 1319.97 Q1112.06 1322.1 1111.25 1324.02 Q1110.46 1325.92 1108.35 1328.51 Q1107.78 1329.19 1104.67 1332.4 Q1101.57 1335.6 1095.92 1341.36 Z\" fill=\"#000000\" fill-rule=\"evenodd\" fill-opacity=\"1\" /><path clip-path=\"url(#clip540)\" d=\"M1449.54 1423.18 L2352.76 1423.18 L2352.76 123.472 L1449.54 123.472  Z\" fill=\"#ffffff\" fill-rule=\"evenodd\" fill-opacity=\"1\"/>\n",
       "<defs>\n",
       "  <clipPath id=\"clip543\">\n",
       "    <rect x=\"1449\" y=\"123\" width=\"904\" height=\"1301\"/>\n",
       "  </clipPath>\n",
       "</defs>\n",
       "<polyline clip-path=\"url(#clip543)\" style=\"stroke:#000000; stroke-linecap:round; stroke-linejoin:round; stroke-width:2; stroke-opacity:0.1; fill:none\" points=\"1475.1,1423.18 1475.1,123.472 \"/>\n",
       "<polyline clip-path=\"url(#clip543)\" style=\"stroke:#000000; stroke-linecap:round; stroke-linejoin:round; stroke-width:2; stroke-opacity:0.1; fill:none\" points=\"1688.13,1423.18 1688.13,123.472 \"/>\n",
       "<polyline clip-path=\"url(#clip543)\" style=\"stroke:#000000; stroke-linecap:round; stroke-linejoin:round; stroke-width:2; stroke-opacity:0.1; fill:none\" points=\"1901.15,1423.18 1901.15,123.472 \"/>\n",
       "<polyline clip-path=\"url(#clip543)\" style=\"stroke:#000000; stroke-linecap:round; stroke-linejoin:round; stroke-width:2; stroke-opacity:0.1; fill:none\" points=\"2114.17,1423.18 2114.17,123.472 \"/>\n",
       "<polyline clip-path=\"url(#clip543)\" style=\"stroke:#000000; stroke-linecap:round; stroke-linejoin:round; stroke-width:2; stroke-opacity:0.1; fill:none\" points=\"2327.19,1423.18 2327.19,123.472 \"/>\n",
       "<polyline clip-path=\"url(#clip540)\" style=\"stroke:#000000; stroke-linecap:round; stroke-linejoin:round; stroke-width:4; stroke-opacity:1; fill:none\" points=\"1449.54,1423.18 2352.76,1423.18 \"/>\n",
       "<polyline clip-path=\"url(#clip540)\" style=\"stroke:#000000; stroke-linecap:round; stroke-linejoin:round; stroke-width:4; stroke-opacity:1; fill:none\" points=\"1475.1,1423.18 1475.1,1404.28 \"/>\n",
       "<polyline clip-path=\"url(#clip540)\" style=\"stroke:#000000; stroke-linecap:round; stroke-linejoin:round; stroke-width:4; stroke-opacity:1; fill:none\" points=\"1688.13,1423.18 1688.13,1404.28 \"/>\n",
       "<polyline clip-path=\"url(#clip540)\" style=\"stroke:#000000; stroke-linecap:round; stroke-linejoin:round; stroke-width:4; stroke-opacity:1; fill:none\" points=\"1901.15,1423.18 1901.15,1404.28 \"/>\n",
       "<polyline clip-path=\"url(#clip540)\" style=\"stroke:#000000; stroke-linecap:round; stroke-linejoin:round; stroke-width:4; stroke-opacity:1; fill:none\" points=\"2114.17,1423.18 2114.17,1404.28 \"/>\n",
       "<polyline clip-path=\"url(#clip540)\" style=\"stroke:#000000; stroke-linecap:round; stroke-linejoin:round; stroke-width:4; stroke-opacity:1; fill:none\" points=\"2327.19,1423.18 2327.19,1404.28 \"/>\n",
       "<path clip-path=\"url(#clip540)\" d=\"M1437.41 1454.1 Q1433.8 1454.1 1431.97 1457.66 Q1430.16 1461.2 1430.16 1468.33 Q1430.16 1475.44 1431.97 1479.01 Q1433.8 1482.55 1437.41 1482.55 Q1441.04 1482.55 1442.85 1479.01 Q1444.68 1475.44 1444.68 1468.33 Q1444.68 1461.2 1442.85 1457.66 Q1441.04 1454.1 1437.41 1454.1 M1437.41 1450.39 Q1443.22 1450.39 1446.27 1455 Q1449.35 1459.58 1449.35 1468.33 Q1449.35 1477.06 1446.27 1481.67 Q1443.22 1486.25 1437.41 1486.25 Q1431.6 1486.25 1428.52 1481.67 Q1425.46 1477.06 1425.46 1468.33 Q1425.46 1459.58 1428.52 1455 Q1431.6 1450.39 1437.41 1450.39 Z\" fill=\"#000000\" fill-rule=\"evenodd\" fill-opacity=\"1\" /><path clip-path=\"url(#clip540)\" d=\"M1457.57 1479.7 L1462.45 1479.7 L1462.45 1485.58 L1457.57 1485.58 L1457.57 1479.7 Z\" fill=\"#000000\" fill-rule=\"evenodd\" fill-opacity=\"1\" /><path clip-path=\"url(#clip540)\" d=\"M1482.64 1454.1 Q1479.03 1454.1 1477.2 1457.66 Q1475.39 1461.2 1475.39 1468.33 Q1475.39 1475.44 1477.2 1479.01 Q1479.03 1482.55 1482.64 1482.55 Q1486.27 1482.55 1488.08 1479.01 Q1489.91 1475.44 1489.91 1468.33 Q1489.91 1461.2 1488.08 1457.66 Q1486.27 1454.1 1482.64 1454.1 M1482.64 1450.39 Q1488.45 1450.39 1491.51 1455 Q1494.58 1459.58 1494.58 1468.33 Q1494.58 1477.06 1491.51 1481.67 Q1488.45 1486.25 1482.64 1486.25 Q1476.83 1486.25 1473.75 1481.67 Q1470.69 1477.06 1470.69 1468.33 Q1470.69 1459.58 1473.75 1455 Q1476.83 1450.39 1482.64 1450.39 Z\" fill=\"#000000\" fill-rule=\"evenodd\" fill-opacity=\"1\" /><path clip-path=\"url(#clip540)\" d=\"M1512.8 1454.1 Q1509.19 1454.1 1507.36 1457.66 Q1505.56 1461.2 1505.56 1468.33 Q1505.56 1475.44 1507.36 1479.01 Q1509.19 1482.55 1512.8 1482.55 Q1516.44 1482.55 1518.24 1479.01 Q1520.07 1475.44 1520.07 1468.33 Q1520.07 1461.2 1518.24 1457.66 Q1516.44 1454.1 1512.8 1454.1 M1512.8 1450.39 Q1518.61 1450.39 1521.67 1455 Q1524.75 1459.58 1524.75 1468.33 Q1524.75 1477.06 1521.67 1481.67 Q1518.61 1486.25 1512.8 1486.25 Q1506.99 1486.25 1503.91 1481.67 Q1500.86 1477.06 1500.86 1468.33 Q1500.86 1459.58 1503.91 1455 Q1506.99 1450.39 1512.8 1450.39 Z\" fill=\"#000000\" fill-rule=\"evenodd\" fill-opacity=\"1\" /><path clip-path=\"url(#clip540)\" d=\"M1650.93 1454.1 Q1647.32 1454.1 1645.49 1457.66 Q1643.68 1461.2 1643.68 1468.33 Q1643.68 1475.44 1645.49 1479.01 Q1647.32 1482.55 1650.93 1482.55 Q1654.56 1482.55 1656.37 1479.01 Q1658.2 1475.44 1658.2 1468.33 Q1658.2 1461.2 1656.37 1457.66 Q1654.56 1454.1 1650.93 1454.1 M1650.93 1450.39 Q1656.74 1450.39 1659.79 1455 Q1662.87 1459.58 1662.87 1468.33 Q1662.87 1477.06 1659.79 1481.67 Q1656.74 1486.25 1650.93 1486.25 Q1645.12 1486.25 1642.04 1481.67 Q1638.98 1477.06 1638.98 1468.33 Q1638.98 1459.58 1642.04 1455 Q1645.12 1450.39 1650.93 1450.39 Z\" fill=\"#000000\" fill-rule=\"evenodd\" fill-opacity=\"1\" /><path clip-path=\"url(#clip540)\" d=\"M1671.09 1479.7 L1675.97 1479.7 L1675.97 1485.58 L1671.09 1485.58 L1671.09 1479.7 Z\" fill=\"#000000\" fill-rule=\"evenodd\" fill-opacity=\"1\" /><path clip-path=\"url(#clip540)\" d=\"M1690.19 1481.64 L1706.51 1481.64 L1706.51 1485.58 L1684.56 1485.58 L1684.56 1481.64 Q1687.22 1478.89 1691.81 1474.26 Q1696.41 1469.61 1697.59 1468.27 Q1699.84 1465.74 1700.72 1464.01 Q1701.62 1462.25 1701.62 1460.56 Q1701.62 1457.8 1699.68 1456.07 Q1697.76 1454.33 1694.65 1454.33 Q1692.46 1454.33 1690 1455.09 Q1687.57 1455.86 1684.79 1457.41 L1684.79 1452.69 Q1687.62 1451.55 1690.07 1450.97 Q1692.52 1450.39 1694.56 1450.39 Q1699.93 1450.39 1703.13 1453.08 Q1706.32 1455.77 1706.32 1460.26 Q1706.32 1462.39 1705.51 1464.31 Q1704.72 1466.2 1702.62 1468.8 Q1702.04 1469.47 1698.94 1472.69 Q1695.84 1475.88 1690.19 1481.64 Z\" fill=\"#000000\" fill-rule=\"evenodd\" fill-opacity=\"1\" /><path clip-path=\"url(#clip540)\" d=\"M1716.37 1451.02 L1734.72 1451.02 L1734.72 1454.96 L1720.65 1454.96 L1720.65 1463.43 Q1721.67 1463.08 1722.69 1462.92 Q1723.71 1462.73 1724.72 1462.73 Q1730.51 1462.73 1733.89 1465.9 Q1737.27 1469.08 1737.27 1474.49 Q1737.27 1480.07 1733.8 1483.17 Q1730.33 1486.25 1724.01 1486.25 Q1721.83 1486.25 1719.56 1485.88 Q1717.32 1485.51 1714.91 1484.77 L1714.91 1480.07 Q1716.99 1481.2 1719.21 1481.76 Q1721.44 1482.32 1723.91 1482.32 Q1727.92 1482.32 1730.26 1480.21 Q1732.59 1478.1 1732.59 1474.49 Q1732.59 1470.88 1730.26 1468.77 Q1727.92 1466.67 1723.91 1466.67 Q1722.04 1466.67 1720.16 1467.08 Q1718.31 1467.5 1716.37 1468.38 L1716.37 1451.02 Z\" fill=\"#000000\" fill-rule=\"evenodd\" fill-opacity=\"1\" /><path clip-path=\"url(#clip540)\" d=\"M1863.45 1454.1 Q1859.84 1454.1 1858.01 1457.66 Q1856.21 1461.2 1856.21 1468.33 Q1856.21 1475.44 1858.01 1479.01 Q1859.84 1482.55 1863.45 1482.55 Q1867.09 1482.55 1868.89 1479.01 Q1870.72 1475.44 1870.72 1468.33 Q1870.72 1461.2 1868.89 1457.66 Q1867.09 1454.1 1863.45 1454.1 M1863.45 1450.39 Q1869.26 1450.39 1872.32 1455 Q1875.4 1459.58 1875.4 1468.33 Q1875.4 1477.06 1872.32 1481.67 Q1869.26 1486.25 1863.45 1486.25 Q1857.64 1486.25 1854.56 1481.67 Q1851.51 1477.06 1851.51 1468.33 Q1851.51 1459.58 1854.56 1455 Q1857.64 1450.39 1863.45 1450.39 Z\" fill=\"#000000\" fill-rule=\"evenodd\" fill-opacity=\"1\" /><path clip-path=\"url(#clip540)\" d=\"M1883.61 1479.7 L1888.5 1479.7 L1888.5 1485.58 L1883.61 1485.58 L1883.61 1479.7 Z\" fill=\"#000000\" fill-rule=\"evenodd\" fill-opacity=\"1\" /><path clip-path=\"url(#clip540)\" d=\"M1898.73 1451.02 L1917.09 1451.02 L1917.09 1454.96 L1903.01 1454.96 L1903.01 1463.43 Q1904.03 1463.08 1905.05 1462.92 Q1906.07 1462.73 1907.09 1462.73 Q1912.87 1462.73 1916.25 1465.9 Q1919.63 1469.08 1919.63 1474.49 Q1919.63 1480.07 1916.16 1483.17 Q1912.69 1486.25 1906.37 1486.25 Q1904.19 1486.25 1901.92 1485.88 Q1899.68 1485.51 1897.27 1484.77 L1897.27 1480.07 Q1899.35 1481.2 1901.58 1481.76 Q1903.8 1482.32 1906.28 1482.32 Q1910.28 1482.32 1912.62 1480.21 Q1914.96 1478.1 1914.96 1474.49 Q1914.96 1470.88 1912.62 1468.77 Q1910.28 1466.67 1906.28 1466.67 Q1904.4 1466.67 1902.53 1467.08 Q1900.67 1467.5 1898.73 1468.38 L1898.73 1451.02 Z\" fill=\"#000000\" fill-rule=\"evenodd\" fill-opacity=\"1\" /><path clip-path=\"url(#clip540)\" d=\"M1938.85 1454.1 Q1935.23 1454.1 1933.41 1457.66 Q1931.6 1461.2 1931.6 1468.33 Q1931.6 1475.44 1933.41 1479.01 Q1935.23 1482.55 1938.85 1482.55 Q1942.48 1482.55 1944.29 1479.01 Q1946.11 1475.44 1946.11 1468.33 Q1946.11 1461.2 1944.29 1457.66 Q1942.48 1454.1 1938.85 1454.1 M1938.85 1450.39 Q1944.66 1450.39 1947.71 1455 Q1950.79 1459.58 1950.79 1468.33 Q1950.79 1477.06 1947.71 1481.67 Q1944.66 1486.25 1938.85 1486.25 Q1933.04 1486.25 1929.96 1481.67 Q1926.9 1477.06 1926.9 1468.33 Q1926.9 1459.58 1929.96 1455 Q1933.04 1450.39 1938.85 1450.39 Z\" fill=\"#000000\" fill-rule=\"evenodd\" fill-opacity=\"1\" /><path clip-path=\"url(#clip540)\" d=\"M2076.97 1454.1 Q2073.36 1454.1 2071.53 1457.66 Q2069.73 1461.2 2069.73 1468.33 Q2069.73 1475.44 2071.53 1479.01 Q2073.36 1482.55 2076.97 1482.55 Q2080.61 1482.55 2082.41 1479.01 Q2084.24 1475.44 2084.24 1468.33 Q2084.24 1461.2 2082.41 1457.66 Q2080.61 1454.1 2076.97 1454.1 M2076.97 1450.39 Q2082.78 1450.39 2085.84 1455 Q2088.92 1459.58 2088.92 1468.33 Q2088.92 1477.06 2085.84 1481.67 Q2082.78 1486.25 2076.97 1486.25 Q2071.16 1486.25 2068.08 1481.67 Q2065.03 1477.06 2065.03 1468.33 Q2065.03 1459.58 2068.08 1455 Q2071.16 1450.39 2076.97 1450.39 Z\" fill=\"#000000\" fill-rule=\"evenodd\" fill-opacity=\"1\" /><path clip-path=\"url(#clip540)\" d=\"M2097.13 1479.7 L2102.02 1479.7 L2102.02 1485.58 L2097.13 1485.58 L2097.13 1479.7 Z\" fill=\"#000000\" fill-rule=\"evenodd\" fill-opacity=\"1\" /><path clip-path=\"url(#clip540)\" d=\"M2111.02 1451.02 L2133.25 1451.02 L2133.25 1453.01 L2120.7 1485.58 L2115.81 1485.58 L2127.62 1454.96 L2111.02 1454.96 L2111.02 1451.02 Z\" fill=\"#000000\" fill-rule=\"evenodd\" fill-opacity=\"1\" /><path clip-path=\"url(#clip540)\" d=\"M2142.41 1451.02 L2160.77 1451.02 L2160.77 1454.96 L2146.69 1454.96 L2146.69 1463.43 Q2147.71 1463.08 2148.73 1462.92 Q2149.75 1462.73 2150.77 1462.73 Q2156.56 1462.73 2159.93 1465.9 Q2163.31 1469.08 2163.31 1474.49 Q2163.31 1480.07 2159.84 1483.17 Q2156.37 1486.25 2150.05 1486.25 Q2147.87 1486.25 2145.61 1485.88 Q2143.36 1485.51 2140.95 1484.77 L2140.95 1480.07 Q2143.04 1481.2 2145.26 1481.76 Q2147.48 1482.32 2149.96 1482.32 Q2153.96 1482.32 2156.3 1480.21 Q2158.64 1478.1 2158.64 1474.49 Q2158.64 1470.88 2156.3 1468.77 Q2153.96 1466.67 2149.96 1466.67 Q2148.08 1466.67 2146.21 1467.08 Q2144.36 1467.5 2142.41 1468.38 L2142.41 1451.02 Z\" fill=\"#000000\" fill-rule=\"evenodd\" fill-opacity=\"1\" /><path clip-path=\"url(#clip540)\" d=\"M2279.27 1481.64 L2286.9 1481.64 L2286.9 1455.28 L2278.59 1456.95 L2278.59 1452.69 L2286.86 1451.02 L2291.53 1451.02 L2291.53 1481.64 L2299.17 1481.64 L2299.17 1485.58 L2279.27 1485.58 L2279.27 1481.64 Z\" fill=\"#000000\" fill-rule=\"evenodd\" fill-opacity=\"1\" /><path clip-path=\"url(#clip540)\" d=\"M2308.62 1479.7 L2313.5 1479.7 L2313.5 1485.58 L2308.62 1485.58 L2308.62 1479.7 Z\" fill=\"#000000\" fill-rule=\"evenodd\" fill-opacity=\"1\" /><path clip-path=\"url(#clip540)\" d=\"M2333.69 1454.1 Q2330.08 1454.1 2328.25 1457.66 Q2326.44 1461.2 2326.44 1468.33 Q2326.44 1475.44 2328.25 1479.01 Q2330.08 1482.55 2333.69 1482.55 Q2337.32 1482.55 2339.13 1479.01 Q2340.95 1475.44 2340.95 1468.33 Q2340.95 1461.2 2339.13 1457.66 Q2337.32 1454.1 2333.69 1454.1 M2333.69 1450.39 Q2339.5 1450.39 2342.55 1455 Q2345.63 1459.58 2345.63 1468.33 Q2345.63 1477.06 2342.55 1481.67 Q2339.5 1486.25 2333.69 1486.25 Q2327.88 1486.25 2324.8 1481.67 Q2321.74 1477.06 2321.74 1468.33 Q2321.74 1459.58 2324.8 1455 Q2327.88 1450.39 2333.69 1450.39 Z\" fill=\"#000000\" fill-rule=\"evenodd\" fill-opacity=\"1\" /><path clip-path=\"url(#clip540)\" d=\"M2363.85 1454.1 Q2360.24 1454.1 2358.41 1457.66 Q2356.6 1461.2 2356.6 1468.33 Q2356.6 1475.44 2358.41 1479.01 Q2360.24 1482.55 2363.85 1482.55 Q2367.48 1482.55 2369.29 1479.01 Q2371.12 1475.44 2371.12 1468.33 Q2371.12 1461.2 2369.29 1457.66 Q2367.48 1454.1 2363.85 1454.1 M2363.85 1450.39 Q2369.66 1450.39 2372.71 1455 Q2375.79 1459.58 2375.79 1468.33 Q2375.79 1477.06 2372.71 1481.67 Q2369.66 1486.25 2363.85 1486.25 Q2358.04 1486.25 2354.96 1481.67 Q2351.9 1477.06 2351.9 1468.33 Q2351.9 1459.58 2354.96 1455 Q2358.04 1450.39 2363.85 1450.39 Z\" fill=\"#000000\" fill-rule=\"evenodd\" fill-opacity=\"1\" /><path clip-path=\"url(#clip540)\" d=\"M1775.52 1525.81 L1775.52 1562.76 L1783.29 1562.76 Q1793.12 1562.76 1797.67 1558.3 Q1802.26 1553.85 1802.26 1544.24 Q1802.26 1534.69 1797.67 1530.26 Q1793.12 1525.81 1783.29 1525.81 L1775.52 1525.81 M1769.09 1520.52 L1782.3 1520.52 Q1796.11 1520.52 1802.58 1526.28 Q1809.04 1532.01 1809.04 1544.24 Q1809.04 1556.52 1802.54 1562.28 Q1796.05 1568.04 1782.3 1568.04 L1769.09 1568.04 L1769.09 1520.52 Z\" fill=\"#000000\" fill-rule=\"evenodd\" fill-opacity=\"1\" /><path clip-path=\"url(#clip540)\" d=\"M1849.52 1548.76 L1849.52 1551.62 L1822.6 1551.62 Q1822.98 1557.67 1826.22 1560.85 Q1829.5 1564 1835.33 1564 Q1838.7 1564 1841.85 1563.17 Q1845.04 1562.35 1848.15 1560.69 L1848.15 1566.23 Q1845 1567.57 1841.69 1568.27 Q1838.38 1568.97 1834.98 1568.97 Q1826.45 1568.97 1821.45 1564 Q1816.49 1559.04 1816.49 1550.57 Q1816.49 1541.82 1821.2 1536.69 Q1825.94 1531.54 1833.96 1531.54 Q1841.15 1531.54 1845.32 1536.18 Q1849.52 1540.8 1849.52 1548.76 M1843.67 1547.04 Q1843.6 1542.23 1840.96 1539.37 Q1838.35 1536.5 1834.02 1536.5 Q1829.12 1536.5 1826.16 1539.27 Q1823.23 1542.04 1822.79 1547.07 L1843.67 1547.04 Z\" fill=\"#000000\" fill-rule=\"evenodd\" fill-opacity=\"1\" /><path clip-path=\"url(#clip540)\" d=\"M1886.89 1539.24 Q1889.09 1535.29 1892.14 1533.41 Q1895.2 1531.54 1899.33 1531.54 Q1904.9 1531.54 1907.93 1535.45 Q1910.95 1539.33 1910.95 1546.53 L1910.95 1568.04 L1905.06 1568.04 L1905.06 1546.72 Q1905.06 1541.59 1903.25 1539.11 Q1901.44 1536.63 1897.71 1536.63 Q1893.16 1536.63 1890.52 1539.65 Q1887.88 1542.68 1887.88 1547.9 L1887.88 1568.04 L1881.99 1568.04 L1881.99 1546.72 Q1881.99 1541.56 1880.17 1539.11 Q1878.36 1536.63 1874.57 1536.63 Q1870.08 1536.63 1867.44 1539.68 Q1864.8 1542.71 1864.8 1547.9 L1864.8 1568.04 L1858.91 1568.04 L1858.91 1532.4 L1864.8 1532.4 L1864.8 1537.93 Q1866.81 1534.66 1869.61 1533.1 Q1872.41 1531.54 1876.26 1531.54 Q1880.14 1531.54 1882.85 1533.51 Q1885.58 1535.48 1886.89 1539.24 Z\" fill=\"#000000\" fill-rule=\"evenodd\" fill-opacity=\"1\" /><path clip-path=\"url(#clip540)\" d=\"M1938.83 1550.12 Q1931.74 1550.12 1929 1551.75 Q1926.26 1553.37 1926.26 1557.29 Q1926.26 1560.4 1928.3 1562.25 Q1930.37 1564.07 1933.9 1564.07 Q1938.77 1564.07 1941.7 1560.63 Q1944.66 1557.16 1944.66 1551.43 L1944.66 1550.12 L1938.83 1550.12 M1950.52 1547.71 L1950.52 1568.04 L1944.66 1568.04 L1944.66 1562.63 Q1942.65 1565.88 1939.66 1567.44 Q1936.67 1568.97 1932.34 1568.97 Q1926.87 1568.97 1923.62 1565.91 Q1920.41 1562.82 1920.41 1557.67 Q1920.41 1551.65 1924.42 1548.6 Q1928.46 1545.54 1936.45 1545.54 L1944.66 1545.54 L1944.66 1544.97 Q1944.66 1540.93 1941.98 1538.73 Q1939.34 1536.5 1934.54 1536.5 Q1931.48 1536.5 1928.59 1537.23 Q1925.69 1537.97 1923.02 1539.43 L1923.02 1534.02 Q1926.23 1532.78 1929.25 1532.17 Q1932.28 1531.54 1935.14 1531.54 Q1942.88 1531.54 1946.7 1535.55 Q1950.52 1539.56 1950.52 1547.71 Z\" fill=\"#000000\" fill-rule=\"evenodd\" fill-opacity=\"1\" /><path clip-path=\"url(#clip540)\" d=\"M1992.21 1546.53 L1992.21 1568.04 L1986.35 1568.04 L1986.35 1546.72 Q1986.35 1541.66 1984.38 1539.14 Q1982.41 1536.63 1978.46 1536.63 Q1973.72 1536.63 1970.98 1539.65 Q1968.24 1542.68 1968.24 1547.9 L1968.24 1568.04 L1962.36 1568.04 L1962.36 1532.4 L1968.24 1532.4 L1968.24 1537.93 Q1970.34 1534.72 1973.18 1533.13 Q1976.04 1531.54 1979.77 1531.54 Q1985.91 1531.54 1989.06 1535.36 Q1992.21 1539.14 1992.21 1546.53 Z\" fill=\"#000000\" fill-rule=\"evenodd\" fill-opacity=\"1\" /><path clip-path=\"url(#clip540)\" d=\"M2027.35 1537.81 L2027.35 1518.52 L2033.21 1518.52 L2033.21 1568.04 L2027.35 1568.04 L2027.35 1562.7 Q2025.5 1565.88 2022.67 1567.44 Q2019.87 1568.97 2015.92 1568.97 Q2009.46 1568.97 2005.39 1563.81 Q2001.35 1558.65 2001.35 1550.25 Q2001.35 1541.85 2005.39 1536.69 Q2009.46 1531.54 2015.92 1531.54 Q2019.87 1531.54 2022.67 1533.1 Q2025.5 1534.62 2027.35 1537.81 M2007.39 1550.25 Q2007.39 1556.71 2010.03 1560.4 Q2012.71 1564.07 2017.35 1564.07 Q2022 1564.07 2024.68 1560.4 Q2027.35 1556.71 2027.35 1550.25 Q2027.35 1543.79 2024.68 1540.13 Q2022 1536.44 2017.35 1536.44 Q2012.71 1536.44 2010.03 1540.13 Q2007.39 1543.79 2007.39 1550.25 Z\" fill=\"#000000\" fill-rule=\"evenodd\" fill-opacity=\"1\" /><polyline clip-path=\"url(#clip543)\" style=\"stroke:#000000; stroke-linecap:round; stroke-linejoin:round; stroke-width:2; stroke-opacity:0.1; fill:none\" points=\"1449.54,1386.4 2352.76,1386.4 \"/>\n",
       "<polyline clip-path=\"url(#clip543)\" style=\"stroke:#000000; stroke-linecap:round; stroke-linejoin:round; stroke-width:2; stroke-opacity:0.1; fill:none\" points=\"1449.54,1079.86 2352.76,1079.86 \"/>\n",
       "<polyline clip-path=\"url(#clip543)\" style=\"stroke:#000000; stroke-linecap:round; stroke-linejoin:round; stroke-width:2; stroke-opacity:0.1; fill:none\" points=\"1449.54,773.326 2352.76,773.326 \"/>\n",
       "<polyline clip-path=\"url(#clip543)\" style=\"stroke:#000000; stroke-linecap:round; stroke-linejoin:round; stroke-width:2; stroke-opacity:0.1; fill:none\" points=\"1449.54,466.791 2352.76,466.791 \"/>\n",
       "<polyline clip-path=\"url(#clip543)\" style=\"stroke:#000000; stroke-linecap:round; stroke-linejoin:round; stroke-width:2; stroke-opacity:0.1; fill:none\" points=\"1449.54,160.256 2352.76,160.256 \"/>\n",
       "<polyline clip-path=\"url(#clip540)\" style=\"stroke:#000000; stroke-linecap:round; stroke-linejoin:round; stroke-width:4; stroke-opacity:1; fill:none\" points=\"1449.54,1423.18 1449.54,123.472 \"/>\n",
       "<polyline clip-path=\"url(#clip540)\" style=\"stroke:#000000; stroke-linecap:round; stroke-linejoin:round; stroke-width:4; stroke-opacity:1; fill:none\" points=\"1449.54,1386.4 1468.44,1386.4 \"/>\n",
       "<polyline clip-path=\"url(#clip540)\" style=\"stroke:#000000; stroke-linecap:round; stroke-linejoin:round; stroke-width:4; stroke-opacity:1; fill:none\" points=\"1449.54,1079.86 1468.44,1079.86 \"/>\n",
       "<polyline clip-path=\"url(#clip540)\" style=\"stroke:#000000; stroke-linecap:round; stroke-linejoin:round; stroke-width:4; stroke-opacity:1; fill:none\" points=\"1449.54,773.326 1468.44,773.326 \"/>\n",
       "<polyline clip-path=\"url(#clip540)\" style=\"stroke:#000000; stroke-linecap:round; stroke-linejoin:round; stroke-width:4; stroke-opacity:1; fill:none\" points=\"1449.54,466.791 1468.44,466.791 \"/>\n",
       "<polyline clip-path=\"url(#clip540)\" style=\"stroke:#000000; stroke-linecap:round; stroke-linejoin:round; stroke-width:4; stroke-opacity:1; fill:none\" points=\"1449.54,160.256 1468.44,160.256 \"/>\n",
       "<path clip-path=\"url(#clip540)\" d=\"M1326.2 1372.19 Q1322.59 1372.19 1320.76 1375.76 Q1318.96 1379.3 1318.96 1386.43 Q1318.96 1393.54 1320.76 1397.1 Q1322.59 1400.64 1326.2 1400.64 Q1329.84 1400.64 1331.64 1397.1 Q1333.47 1393.54 1333.47 1386.43 Q1333.47 1379.3 1331.64 1375.76 Q1329.84 1372.19 1326.2 1372.19 M1326.2 1368.49 Q1332.01 1368.49 1335.07 1373.1 Q1338.15 1377.68 1338.15 1386.43 Q1338.15 1395.16 1335.07 1399.76 Q1332.01 1404.35 1326.2 1404.35 Q1320.39 1404.35 1317.32 1399.76 Q1314.26 1395.16 1314.26 1386.43 Q1314.26 1377.68 1317.32 1373.1 Q1320.39 1368.49 1326.2 1368.49 Z\" fill=\"#000000\" fill-rule=\"evenodd\" fill-opacity=\"1\" /><path clip-path=\"url(#clip540)\" d=\"M1346.37 1397.8 L1351.25 1397.8 L1351.25 1403.68 L1346.37 1403.68 L1346.37 1397.8 Z\" fill=\"#000000\" fill-rule=\"evenodd\" fill-opacity=\"1\" /><path clip-path=\"url(#clip540)\" d=\"M1371.44 1372.19 Q1367.82 1372.19 1366 1375.76 Q1364.19 1379.3 1364.19 1386.43 Q1364.19 1393.54 1366 1397.1 Q1367.82 1400.64 1371.44 1400.64 Q1375.07 1400.64 1376.88 1397.1 Q1378.7 1393.54 1378.7 1386.43 Q1378.7 1379.3 1376.88 1375.76 Q1375.07 1372.19 1371.44 1372.19 M1371.44 1368.49 Q1377.25 1368.49 1380.3 1373.1 Q1383.38 1377.68 1383.38 1386.43 Q1383.38 1395.16 1380.3 1399.76 Q1377.25 1404.35 1371.44 1404.35 Q1365.63 1404.35 1362.55 1399.76 Q1359.49 1395.16 1359.49 1386.43 Q1359.49 1377.68 1362.55 1373.1 Q1365.63 1368.49 1371.44 1368.49 Z\" fill=\"#000000\" fill-rule=\"evenodd\" fill-opacity=\"1\" /><path clip-path=\"url(#clip540)\" d=\"M1401.6 1372.19 Q1397.99 1372.19 1396.16 1375.76 Q1394.35 1379.3 1394.35 1386.43 Q1394.35 1393.54 1396.16 1397.1 Q1397.99 1400.64 1401.6 1400.64 Q1405.23 1400.64 1407.04 1397.1 Q1408.87 1393.54 1408.87 1386.43 Q1408.87 1379.3 1407.04 1375.76 Q1405.23 1372.19 1401.6 1372.19 M1401.6 1368.49 Q1407.41 1368.49 1410.46 1373.1 Q1413.54 1377.68 1413.54 1386.43 Q1413.54 1395.16 1410.46 1399.76 Q1407.41 1404.35 1401.6 1404.35 Q1395.79 1404.35 1392.71 1399.76 Q1389.65 1395.16 1389.65 1386.43 Q1389.65 1377.68 1392.71 1373.1 Q1395.79 1368.49 1401.6 1368.49 Z\" fill=\"#000000\" fill-rule=\"evenodd\" fill-opacity=\"1\" /><path clip-path=\"url(#clip540)\" d=\"M1327.2 1065.66 Q1323.59 1065.66 1321.76 1069.22 Q1319.95 1072.77 1319.95 1079.9 Q1319.95 1087 1321.76 1090.57 Q1323.59 1094.11 1327.2 1094.11 Q1330.83 1094.11 1332.64 1090.57 Q1334.47 1087 1334.47 1079.9 Q1334.47 1072.77 1332.64 1069.22 Q1330.83 1065.66 1327.2 1065.66 M1327.2 1061.96 Q1333.01 1061.96 1336.07 1066.56 Q1339.14 1071.15 1339.14 1079.9 Q1339.14 1088.62 1336.07 1093.23 Q1333.01 1097.81 1327.2 1097.81 Q1321.39 1097.81 1318.31 1093.23 Q1315.26 1088.62 1315.26 1079.9 Q1315.26 1071.15 1318.31 1066.56 Q1321.39 1061.96 1327.2 1061.96 Z\" fill=\"#000000\" fill-rule=\"evenodd\" fill-opacity=\"1\" /><path clip-path=\"url(#clip540)\" d=\"M1347.36 1091.26 L1352.25 1091.26 L1352.25 1097.14 L1347.36 1097.14 L1347.36 1091.26 Z\" fill=\"#000000\" fill-rule=\"evenodd\" fill-opacity=\"1\" /><path clip-path=\"url(#clip540)\" d=\"M1366.46 1093.21 L1382.78 1093.21 L1382.78 1097.14 L1360.83 1097.14 L1360.83 1093.21 Q1363.5 1090.45 1368.08 1085.82 Q1372.69 1081.17 1373.87 1079.83 Q1376.11 1077.3 1376.99 1075.57 Q1377.89 1073.81 1377.89 1072.12 Q1377.89 1069.36 1375.95 1067.63 Q1374.03 1065.89 1370.93 1065.89 Q1368.73 1065.89 1366.27 1066.65 Q1363.84 1067.42 1361.07 1068.97 L1361.07 1064.25 Q1363.89 1063.11 1366.34 1062.53 Q1368.8 1061.96 1370.83 1061.96 Q1376.2 1061.96 1379.4 1064.64 Q1382.59 1067.33 1382.59 1071.82 Q1382.59 1073.95 1381.78 1075.87 Q1381 1077.77 1378.89 1080.36 Q1378.31 1081.03 1375.21 1084.25 Q1372.11 1087.44 1366.46 1093.21 Z\" fill=\"#000000\" fill-rule=\"evenodd\" fill-opacity=\"1\" /><path clip-path=\"url(#clip540)\" d=\"M1392.64 1062.58 L1411 1062.58 L1411 1066.52 L1396.92 1066.52 L1396.92 1074.99 Q1397.94 1074.64 1398.96 1074.48 Q1399.98 1074.29 1401 1074.29 Q1406.78 1074.29 1410.16 1077.47 Q1413.54 1080.64 1413.54 1086.05 Q1413.54 1091.63 1410.07 1094.73 Q1406.6 1097.81 1400.28 1097.81 Q1398.1 1097.81 1395.83 1097.44 Q1393.59 1097.07 1391.18 1096.33 L1391.18 1091.63 Q1393.26 1092.77 1395.49 1093.32 Q1397.71 1093.88 1400.19 1093.88 Q1404.19 1093.88 1406.53 1091.77 Q1408.87 1089.66 1408.87 1086.05 Q1408.87 1082.44 1406.53 1080.34 Q1404.19 1078.23 1400.19 1078.23 Q1398.31 1078.23 1396.44 1078.65 Q1394.58 1079.06 1392.64 1079.94 L1392.64 1062.58 Z\" fill=\"#000000\" fill-rule=\"evenodd\" fill-opacity=\"1\" /><path clip-path=\"url(#clip540)\" d=\"M1326.2 759.125 Q1322.59 759.125 1320.76 762.689 Q1318.96 766.231 1318.96 773.361 Q1318.96 780.467 1320.76 784.032 Q1322.59 787.574 1326.2 787.574 Q1329.84 787.574 1331.64 784.032 Q1333.47 780.467 1333.47 773.361 Q1333.47 766.231 1331.64 762.689 Q1329.84 759.125 1326.2 759.125 M1326.2 755.421 Q1332.01 755.421 1335.07 760.027 Q1338.15 764.611 1338.15 773.361 Q1338.15 782.088 1335.07 786.694 Q1332.01 791.277 1326.2 791.277 Q1320.39 791.277 1317.32 786.694 Q1314.26 782.088 1314.26 773.361 Q1314.26 764.611 1317.32 760.027 Q1320.39 755.421 1326.2 755.421 Z\" fill=\"#000000\" fill-rule=\"evenodd\" fill-opacity=\"1\" /><path clip-path=\"url(#clip540)\" d=\"M1346.37 784.726 L1351.25 784.726 L1351.25 790.606 L1346.37 790.606 L1346.37 784.726 Z\" fill=\"#000000\" fill-rule=\"evenodd\" fill-opacity=\"1\" /><path clip-path=\"url(#clip540)\" d=\"M1361.48 756.046 L1379.84 756.046 L1379.84 759.981 L1365.76 759.981 L1365.76 768.453 Q1366.78 768.106 1367.8 767.944 Q1368.82 767.759 1369.84 767.759 Q1375.63 767.759 1379.01 770.93 Q1382.38 774.101 1382.38 779.518 Q1382.38 785.097 1378.91 788.199 Q1375.44 791.277 1369.12 791.277 Q1366.95 791.277 1364.68 790.907 Q1362.43 790.537 1360.02 789.796 L1360.02 785.097 Q1362.11 786.231 1364.33 786.787 Q1366.55 787.342 1369.03 787.342 Q1373.03 787.342 1375.37 785.236 Q1377.71 783.129 1377.71 779.518 Q1377.71 775.907 1375.37 773.801 Q1373.03 771.694 1369.03 771.694 Q1367.15 771.694 1365.28 772.111 Q1363.43 772.527 1361.48 773.407 L1361.48 756.046 Z\" fill=\"#000000\" fill-rule=\"evenodd\" fill-opacity=\"1\" /><path clip-path=\"url(#clip540)\" d=\"M1401.6 759.125 Q1397.99 759.125 1396.16 762.689 Q1394.35 766.231 1394.35 773.361 Q1394.35 780.467 1396.16 784.032 Q1397.99 787.574 1401.6 787.574 Q1405.23 787.574 1407.04 784.032 Q1408.87 780.467 1408.87 773.361 Q1408.87 766.231 1407.04 762.689 Q1405.23 759.125 1401.6 759.125 M1401.6 755.421 Q1407.41 755.421 1410.46 760.027 Q1413.54 764.611 1413.54 773.361 Q1413.54 782.088 1410.46 786.694 Q1407.41 791.277 1401.6 791.277 Q1395.79 791.277 1392.71 786.694 Q1389.65 782.088 1389.65 773.361 Q1389.65 764.611 1392.71 760.027 Q1395.79 755.421 1401.6 755.421 Z\" fill=\"#000000\" fill-rule=\"evenodd\" fill-opacity=\"1\" /><path clip-path=\"url(#clip540)\" d=\"M1327.2 452.59 Q1323.59 452.59 1321.76 456.155 Q1319.95 459.696 1319.95 466.826 Q1319.95 473.932 1321.76 477.497 Q1323.59 481.039 1327.2 481.039 Q1330.83 481.039 1332.64 477.497 Q1334.47 473.932 1334.47 466.826 Q1334.47 459.696 1332.64 456.155 Q1330.83 452.59 1327.2 452.59 M1327.2 448.886 Q1333.01 448.886 1336.07 453.493 Q1339.14 458.076 1339.14 466.826 Q1339.14 475.553 1336.07 480.159 Q1333.01 484.742 1327.2 484.742 Q1321.39 484.742 1318.31 480.159 Q1315.26 475.553 1315.26 466.826 Q1315.26 458.076 1318.31 453.493 Q1321.39 448.886 1327.2 448.886 Z\" fill=\"#000000\" fill-rule=\"evenodd\" fill-opacity=\"1\" /><path clip-path=\"url(#clip540)\" d=\"M1347.36 478.192 L1352.25 478.192 L1352.25 484.071 L1347.36 484.071 L1347.36 478.192 Z\" fill=\"#000000\" fill-rule=\"evenodd\" fill-opacity=\"1\" /><path clip-path=\"url(#clip540)\" d=\"M1361.25 449.511 L1383.47 449.511 L1383.47 451.502 L1370.93 484.071 L1366.04 484.071 L1377.85 453.446 L1361.25 453.446 L1361.25 449.511 Z\" fill=\"#000000\" fill-rule=\"evenodd\" fill-opacity=\"1\" /><path clip-path=\"url(#clip540)\" d=\"M1392.64 449.511 L1411 449.511 L1411 453.446 L1396.92 453.446 L1396.92 461.918 Q1397.94 461.571 1398.96 461.409 Q1399.98 461.224 1401 461.224 Q1406.78 461.224 1410.16 464.395 Q1413.54 467.567 1413.54 472.983 Q1413.54 478.562 1410.07 481.664 Q1406.6 484.742 1400.28 484.742 Q1398.1 484.742 1395.83 484.372 Q1393.59 484.002 1391.18 483.261 L1391.18 478.562 Q1393.26 479.696 1395.49 480.252 Q1397.71 480.807 1400.19 480.807 Q1404.19 480.807 1406.53 478.701 Q1408.87 476.594 1408.87 472.983 Q1408.87 469.372 1406.53 467.266 Q1404.19 465.159 1400.19 465.159 Q1398.31 465.159 1396.44 465.576 Q1394.58 465.993 1392.64 466.872 L1392.64 449.511 Z\" fill=\"#000000\" fill-rule=\"evenodd\" fill-opacity=\"1\" /><path clip-path=\"url(#clip540)\" d=\"M1317.01 173.601 L1324.65 173.601 L1324.65 147.236 L1316.34 148.902 L1316.34 144.643 L1324.61 142.976 L1329.28 142.976 L1329.28 173.601 L1336.92 173.601 L1336.92 177.536 L1317.01 177.536 L1317.01 173.601 Z\" fill=\"#000000\" fill-rule=\"evenodd\" fill-opacity=\"1\" /><path clip-path=\"url(#clip540)\" d=\"M1346.37 171.657 L1351.25 171.657 L1351.25 177.536 L1346.37 177.536 L1346.37 171.657 Z\" fill=\"#000000\" fill-rule=\"evenodd\" fill-opacity=\"1\" /><path clip-path=\"url(#clip540)\" d=\"M1371.44 146.055 Q1367.82 146.055 1366 149.62 Q1364.19 153.161 1364.19 160.291 Q1364.19 167.397 1366 170.962 Q1367.82 174.504 1371.44 174.504 Q1375.07 174.504 1376.88 170.962 Q1378.7 167.397 1378.7 160.291 Q1378.7 153.161 1376.88 149.62 Q1375.07 146.055 1371.44 146.055 M1371.44 142.351 Q1377.25 142.351 1380.3 146.958 Q1383.38 151.541 1383.38 160.291 Q1383.38 169.018 1380.3 173.624 Q1377.25 178.208 1371.44 178.208 Q1365.63 178.208 1362.55 173.624 Q1359.49 169.018 1359.49 160.291 Q1359.49 151.541 1362.55 146.958 Q1365.63 142.351 1371.44 142.351 Z\" fill=\"#000000\" fill-rule=\"evenodd\" fill-opacity=\"1\" /><path clip-path=\"url(#clip540)\" d=\"M1401.6 146.055 Q1397.99 146.055 1396.16 149.62 Q1394.35 153.161 1394.35 160.291 Q1394.35 167.397 1396.16 170.962 Q1397.99 174.504 1401.6 174.504 Q1405.23 174.504 1407.04 170.962 Q1408.87 167.397 1408.87 160.291 Q1408.87 153.161 1407.04 149.62 Q1405.23 146.055 1401.6 146.055 M1401.6 142.351 Q1407.41 142.351 1410.46 146.958 Q1413.54 151.541 1413.54 160.291 Q1413.54 169.018 1410.46 173.624 Q1407.41 178.208 1401.6 178.208 Q1395.79 178.208 1392.71 173.624 Q1389.65 169.018 1389.65 160.291 Q1389.65 151.541 1392.71 146.958 Q1395.79 142.351 1401.6 142.351 Z\" fill=\"#000000\" fill-rule=\"evenodd\" fill-opacity=\"1\" /><path clip-path=\"url(#clip540)\" d=\"M1221.77 1000.18 L1258.72 1000.18 L1258.72 992.418 Q1258.72 982.583 1254.26 978.031 Q1249.81 973.448 1240.2 973.448 Q1230.65 973.448 1226.22 978.031 Q1221.77 982.583 1221.77 992.418 L1221.77 1000.18 M1216.48 1006.61 L1216.48 993.404 Q1216.48 979.591 1222.25 973.13 Q1227.97 966.668 1240.2 966.668 Q1252.48 966.668 1258.24 973.161 Q1264 979.654 1264 993.404 L1264 1006.61 L1216.48 1006.61 Z\" fill=\"#000000\" fill-rule=\"evenodd\" fill-opacity=\"1\" /><path clip-path=\"url(#clip540)\" d=\"M1228.36 956.674 L1228.36 950.818 L1264 950.818 L1264 956.674 L1228.36 956.674 M1214.48 956.674 L1214.48 950.818 L1221.9 950.818 L1221.9 956.674 L1214.48 956.674 Z\" fill=\"#000000\" fill-rule=\"evenodd\" fill-opacity=\"1\" /><path clip-path=\"url(#clip540)\" d=\"M1229.41 915.838 L1234.94 915.838 Q1233.67 918.321 1233.03 920.994 Q1232.4 923.668 1232.4 926.533 Q1232.4 930.893 1233.74 933.089 Q1235.07 935.254 1237.75 935.254 Q1239.78 935.254 1240.96 933.694 Q1242.11 932.134 1243.16 927.424 L1243.6 925.419 Q1244.94 919.18 1247.39 916.57 Q1249.81 913.929 1254.17 913.929 Q1259.13 913.929 1262.03 917.875 Q1264.93 921.79 1264.93 928.665 Q1264.93 931.53 1264.35 934.649 Q1263.81 937.736 1262.7 941.174 L1256.65 941.174 Q1258.34 937.927 1259.2 934.776 Q1260.03 931.625 1260.03 928.538 Q1260.03 924.4 1258.63 922.172 Q1257.19 919.944 1254.61 919.944 Q1252.23 919.944 1250.95 921.567 Q1249.68 923.159 1248.5 928.601 L1248.03 930.639 Q1246.88 936.081 1244.53 938.5 Q1242.14 940.919 1238 940.919 Q1232.97 940.919 1230.23 937.354 Q1227.5 933.79 1227.5 927.233 Q1227.5 923.986 1227.97 921.122 Q1228.45 918.257 1229.41 915.838 Z\" fill=\"#000000\" fill-rule=\"evenodd\" fill-opacity=\"1\" /><path clip-path=\"url(#clip540)\" d=\"M1258.66 898.937 L1277.56 898.937 L1277.56 904.826 L1228.36 904.826 L1228.36 898.937 L1233.77 898.937 Q1230.58 897.091 1229.06 894.29 Q1227.5 891.458 1227.5 887.543 Q1227.5 881.05 1232.65 877.007 Q1237.81 872.933 1246.21 872.933 Q1254.61 872.933 1259.77 877.007 Q1264.93 881.05 1264.93 887.543 Q1264.93 891.458 1263.4 894.29 Q1261.84 897.091 1258.66 898.937 M1246.21 879.013 Q1239.75 879.013 1236.09 881.686 Q1232.4 884.328 1232.4 888.975 Q1232.4 893.622 1236.09 896.296 Q1239.75 898.937 1246.21 898.937 Q1252.67 898.937 1256.37 896.296 Q1260.03 893.622 1260.03 888.975 Q1260.03 884.328 1256.37 881.686 Q1252.67 879.013 1246.21 879.013 Z\" fill=\"#000000\" fill-rule=\"evenodd\" fill-opacity=\"1\" /><path clip-path=\"url(#clip540)\" d=\"M1246.08 847.025 Q1246.08 854.123 1247.71 856.86 Q1249.33 859.597 1253.25 859.597 Q1256.37 859.597 1258.21 857.56 Q1260.03 855.491 1260.03 851.958 Q1260.03 847.089 1256.59 844.16 Q1253.12 841.2 1247.39 841.2 L1246.08 841.2 L1246.08 847.025 M1243.67 835.344 L1264 835.344 L1264 841.2 L1258.59 841.2 Q1261.84 843.206 1263.4 846.197 Q1264.93 849.189 1264.93 853.518 Q1264.93 858.992 1261.87 862.239 Q1258.78 865.454 1253.63 865.454 Q1247.61 865.454 1244.56 861.443 Q1241.5 857.401 1241.5 849.412 L1241.5 841.2 L1240.93 841.2 Q1236.89 841.2 1234.69 843.874 Q1232.46 846.516 1232.46 851.322 Q1232.46 854.377 1233.19 857.274 Q1233.93 860.17 1235.39 862.844 L1229.98 862.844 Q1228.74 859.629 1228.13 856.605 Q1227.5 853.582 1227.5 850.717 Q1227.5 842.983 1231.51 839.163 Q1235.52 835.344 1243.67 835.344 Z\" fill=\"#000000\" fill-rule=\"evenodd\" fill-opacity=\"1\" /><path clip-path=\"url(#clip540)\" d=\"M1218.23 817.488 L1228.36 817.488 L1228.36 805.425 L1232.91 805.425 L1232.91 817.488 L1252.26 817.488 Q1256.62 817.488 1257.86 816.31 Q1259.1 815.101 1259.1 811.441 L1259.1 805.425 L1264 805.425 L1264 811.441 Q1264 818.22 1261.49 820.798 Q1258.94 823.376 1252.26 823.376 L1232.91 823.376 L1232.91 827.673 L1228.36 827.673 L1228.36 823.376 L1218.23 823.376 L1218.23 817.488 Z\" fill=\"#000000\" fill-rule=\"evenodd\" fill-opacity=\"1\" /><path clip-path=\"url(#clip540)\" d=\"M1229.72 772.069 L1235.2 772.069 Q1233.83 774.551 1233.16 777.066 Q1232.46 779.548 1232.46 782.095 Q1232.46 787.792 1236.09 790.943 Q1239.69 794.094 1246.21 794.094 Q1252.74 794.094 1256.37 790.943 Q1259.96 787.792 1259.96 782.095 Q1259.96 779.548 1259.29 777.066 Q1258.59 774.551 1257.22 772.069 L1262.64 772.069 Q1263.78 774.52 1264.35 777.161 Q1264.93 779.771 1264.93 782.731 Q1264.93 790.784 1259.87 795.526 Q1254.81 800.269 1246.21 800.269 Q1237.49 800.269 1232.49 795.495 Q1227.5 790.688 1227.5 782.349 Q1227.5 779.644 1228.07 777.066 Q1228.61 774.488 1229.72 772.069 Z\" fill=\"#000000\" fill-rule=\"evenodd\" fill-opacity=\"1\" /><path clip-path=\"url(#clip540)\" d=\"M1242.49 732.251 L1264 732.251 L1264 738.108 L1242.68 738.108 Q1237.62 738.108 1235.1 740.081 Q1232.59 742.054 1232.59 746.001 Q1232.59 750.744 1235.61 753.481 Q1238.64 756.218 1243.86 756.218 L1264 756.218 L1264 762.106 L1214.48 762.106 L1214.48 756.218 L1233.89 756.218 Q1230.68 754.117 1229.09 751.285 Q1227.5 748.42 1227.5 744.696 Q1227.5 738.553 1231.32 735.402 Q1235.1 732.251 1242.49 732.251 Z\" fill=\"#000000\" fill-rule=\"evenodd\" fill-opacity=\"1\" /><path clip-path=\"url(#clip540)\" d=\"M1214.48 700.391 L1214.48 686.896 L1219.03 686.896 L1219.03 694.534 L1268.05 694.534 L1268.05 686.896 L1272.6 686.896 L1272.6 700.391 L1214.48 700.391 Z\" fill=\"#000000\" fill-rule=\"evenodd\" fill-opacity=\"1\" /><path clip-path=\"url(#clip540)\" d=\"M1216.48 674.164 L1216.48 664.584 L1248.82 652.457 L1216.48 640.267 L1216.48 630.686 L1264 630.686 L1264 636.957 L1222.28 636.957 L1254.87 649.211 L1254.87 655.672 L1222.28 667.926 L1264 667.926 L1264 674.164 L1216.48 674.164 Z\" fill=\"#000000\" fill-rule=\"evenodd\" fill-opacity=\"1\" /><path clip-path=\"url(#clip540)\" d=\"M1216.48 622.156 L1216.48 615.663 L1256.65 605.669 L1216.48 595.707 L1216.48 588.482 L1256.65 578.488 L1216.48 568.525 L1216.48 562 L1264 573.936 L1264 582.021 L1222.75 592.047 L1264 602.168 L1264 610.252 L1216.48 622.156 Z\" fill=\"#000000\" fill-rule=\"evenodd\" fill-opacity=\"1\" /><path clip-path=\"url(#clip540)\" d=\"M1214.48 540.039 L1272.6 540.039 L1272.6 553.534 L1268.05 553.534 L1268.05 545.927 L1219.03 545.927 L1219.03 553.534 L1214.48 553.534 L1214.48 540.039 Z\" fill=\"#000000\" fill-rule=\"evenodd\" fill-opacity=\"1\" /><path clip-path=\"url(#clip540)\" d=\"M1612.42 18.8205 L1612.42 65.8515 L1622.3 65.8515 Q1634.82 65.8515 1640.62 60.1802 Q1646.45 54.509 1646.45 42.2752 Q1646.45 30.1225 1640.62 24.4918 Q1634.82 18.8205 1622.3 18.8205 L1612.42 18.8205 M1604.24 12.096 L1621.05 12.096 Q1638.63 12.096 1646.85 19.4281 Q1655.08 26.7198 1655.08 42.2752 Q1655.08 57.9117 1646.81 65.2439 Q1638.55 72.576 1621.05 72.576 L1604.24 72.576 L1604.24 12.096 Z\" fill=\"#000000\" fill-rule=\"evenodd\" fill-opacity=\"1\" /><path clip-path=\"url(#clip540)\" d=\"M1667.8 27.2059 L1675.25 27.2059 L1675.25 72.576 L1667.8 72.576 L1667.8 27.2059 M1667.8 9.54393 L1675.25 9.54393 L1675.25 18.9825 L1667.8 18.9825 L1667.8 9.54393 Z\" fill=\"#000000\" fill-rule=\"evenodd\" fill-opacity=\"1\" /><path clip-path=\"url(#clip540)\" d=\"M1719.77 28.5427 L1719.77 35.5912 Q1716.61 33.9709 1713.21 33.1607 Q1709.8 32.3505 1706.16 32.3505 Q1700.61 32.3505 1697.81 34.0519 Q1695.06 35.7533 1695.06 39.156 Q1695.06 41.7486 1697.04 43.2475 Q1699.03 44.7058 1705.02 46.0426 L1707.58 46.6097 Q1715.52 48.3111 1718.84 51.4303 Q1722.2 54.509 1722.2 60.0587 Q1722.2 66.3781 1717.18 70.0644 Q1712.19 73.7508 1703.44 73.7508 Q1699.8 73.7508 1695.83 73.0216 Q1691.9 72.3329 1687.52 70.9151 L1687.52 63.2184 Q1691.66 65.3654 1695.67 66.4591 Q1699.68 67.5124 1703.61 67.5124 Q1708.87 67.5124 1711.71 65.73 Q1714.54 63.9071 1714.54 60.6258 Q1714.54 57.5877 1712.48 55.9673 Q1710.45 54.3469 1703.53 52.8481 L1700.93 52.2405 Q1694.01 50.7821 1690.93 47.7845 Q1687.85 44.7463 1687.85 39.4801 Q1687.85 33.0797 1692.39 29.5959 Q1696.92 26.1121 1705.27 26.1121 Q1709.4 26.1121 1713.05 26.7198 Q1716.69 27.3274 1719.77 28.5427 Z\" fill=\"#000000\" fill-rule=\"evenodd\" fill-opacity=\"1\" /><path clip-path=\"url(#clip540)\" d=\"M1741.28 65.7705 L1741.28 89.8329 L1733.79 89.8329 L1733.79 27.2059 L1741.28 27.2059 L1741.28 34.0924 Q1743.63 30.0415 1747.19 28.0971 Q1750.8 26.1121 1755.78 26.1121 Q1764.05 26.1121 1769.19 32.6746 Q1774.38 39.2371 1774.38 49.9314 Q1774.38 60.6258 1769.19 67.1883 Q1764.05 73.7508 1755.78 73.7508 Q1750.8 73.7508 1747.19 71.8063 Q1743.63 69.8214 1741.28 65.7705 M1766.64 49.9314 Q1766.64 41.7081 1763.24 37.0496 Q1759.87 32.3505 1753.96 32.3505 Q1748.05 32.3505 1744.64 37.0496 Q1741.28 41.7081 1741.28 49.9314 Q1741.28 58.1548 1744.64 62.8538 Q1748.05 67.5124 1753.96 67.5124 Q1759.87 67.5124 1763.24 62.8538 Q1766.64 58.1548 1766.64 49.9314 Z\" fill=\"#000000\" fill-rule=\"evenodd\" fill-opacity=\"1\" /><path clip-path=\"url(#clip540)\" d=\"M1807.35 49.7694 Q1798.32 49.7694 1794.83 51.8354 Q1791.35 53.9013 1791.35 58.8839 Q1791.35 62.8538 1793.94 65.2034 Q1796.57 67.5124 1801.07 67.5124 Q1807.27 67.5124 1811 63.1374 Q1814.76 58.7219 1814.76 51.4303 L1814.76 49.7694 L1807.35 49.7694 M1822.22 46.6907 L1822.22 72.576 L1814.76 72.576 L1814.76 65.6895 Q1812.21 69.8214 1808.4 71.8063 Q1804.6 73.7508 1799.09 73.7508 Q1792.12 73.7508 1787.99 69.8619 Q1783.9 65.9325 1783.9 59.3701 Q1783.9 51.7138 1789 47.825 Q1794.14 43.9361 1804.31 43.9361 L1814.76 43.9361 L1814.76 43.2069 Q1814.76 38.0623 1811.36 35.2672 Q1808 32.4315 1801.88 32.4315 Q1797.99 32.4315 1794.31 33.3632 Q1790.62 34.295 1787.22 36.1584 L1787.22 29.2718 Q1791.31 27.692 1795.16 26.9223 Q1799.01 26.1121 1802.65 26.1121 Q1812.49 26.1121 1817.36 31.2163 Q1822.22 36.3204 1822.22 46.6907 Z\" fill=\"#000000\" fill-rule=\"evenodd\" fill-opacity=\"1\" /><path clip-path=\"url(#clip540)\" d=\"M1844.94 14.324 L1844.94 27.2059 L1860.3 27.2059 L1860.3 32.9987 L1844.94 32.9987 L1844.94 57.6282 Q1844.94 63.1779 1846.44 64.7578 Q1847.98 66.3376 1852.64 66.3376 L1860.3 66.3376 L1860.3 72.576 L1852.64 72.576 Q1844.01 72.576 1840.73 69.3758 Q1837.45 66.1351 1837.45 57.6282 L1837.45 32.9987 L1831.98 32.9987 L1831.98 27.2059 L1837.45 27.2059 L1837.45 14.324 L1844.94 14.324 Z\" fill=\"#000000\" fill-rule=\"evenodd\" fill-opacity=\"1\" /><path clip-path=\"url(#clip540)\" d=\"M1902.75 28.9478 L1902.75 35.9153 Q1899.59 34.1734 1896.39 33.3227 Q1893.23 32.4315 1889.99 32.4315 Q1882.74 32.4315 1878.73 37.0496 Q1874.72 41.6271 1874.72 49.9314 Q1874.72 58.2358 1878.73 62.8538 Q1882.74 67.4314 1889.99 67.4314 Q1893.23 67.4314 1896.39 66.5807 Q1899.59 65.6895 1902.75 63.9476 L1902.75 70.8341 Q1899.63 72.2924 1896.27 73.0216 Q1892.95 73.7508 1889.18 73.7508 Q1878.93 73.7508 1872.89 67.3098 Q1866.86 60.8689 1866.86 49.9314 Q1866.86 38.832 1872.93 32.472 Q1879.05 26.1121 1889.66 26.1121 Q1893.11 26.1121 1896.39 26.8413 Q1899.67 27.5299 1902.75 28.9478 Z\" fill=\"#000000\" fill-rule=\"evenodd\" fill-opacity=\"1\" /><path clip-path=\"url(#clip540)\" d=\"M1953.43 45.1919 L1953.43 72.576 L1945.97 72.576 L1945.97 45.4349 Q1945.97 38.994 1943.46 35.7938 Q1940.95 32.5936 1935.93 32.5936 Q1929.89 32.5936 1926.41 36.4419 Q1922.92 40.2903 1922.92 46.9338 L1922.92 72.576 L1915.43 72.576 L1915.43 9.54393 L1922.92 9.54393 L1922.92 34.2544 Q1925.6 30.163 1929.2 28.1376 Q1932.85 26.1121 1937.59 26.1121 Q1945.41 26.1121 1949.42 30.9732 Q1953.43 35.7938 1953.43 45.1919 Z\" fill=\"#000000\" fill-rule=\"evenodd\" fill-opacity=\"1\" /><path clip-path=\"url(#clip540)\" d=\"M1993.98 9.54393 L2011.15 9.54393 L2011.15 15.3367 L2001.43 15.3367 L2001.43 77.7206 L2011.15 77.7206 L2011.15 83.5134 L1993.98 83.5134 L1993.98 9.54393 Z\" fill=\"#000000\" fill-rule=\"evenodd\" fill-opacity=\"1\" /><path clip-path=\"url(#clip540)\" d=\"M2027.35 12.096 L2039.55 12.096 L2054.98 53.2532 L2070.5 12.096 L2082.69 12.096 L2082.69 72.576 L2074.71 72.576 L2074.71 19.4686 L2059.11 60.9499 L2050.89 60.9499 L2035.29 19.4686 L2035.29 72.576 L2027.35 72.576 L2027.35 12.096 Z\" fill=\"#000000\" fill-rule=\"evenodd\" fill-opacity=\"1\" /><path clip-path=\"url(#clip540)\" d=\"M2093.55 12.096 L2101.81 12.096 L2114.53 63.2184 L2127.21 12.096 L2136.41 12.096 L2149.13 63.2184 L2161.8 12.096 L2170.11 12.096 L2154.92 72.576 L2144.63 72.576 L2131.87 20.0763 L2118.99 72.576 L2108.7 72.576 L2093.55 12.096 Z\" fill=\"#000000\" fill-rule=\"evenodd\" fill-opacity=\"1\" /><path clip-path=\"url(#clip540)\" d=\"M2198.06 9.54393 L2198.06 83.5134 L2180.88 83.5134 L2180.88 77.7206 L2190.57 77.7206 L2190.57 15.3367 L2180.88 15.3367 L2180.88 9.54393 L2198.06 9.54393 Z\" fill=\"#000000\" fill-rule=\"evenodd\" fill-opacity=\"1\" /><path clip-path=\"url(#clip540)\" d=\"M2119.06 1379.86 L2322.65 1379.86 L2322.65 1172.5 L2119.06 1172.5  Z\" fill=\"#ffffff\" fill-rule=\"evenodd\" fill-opacity=\"1\"/>\n",
       "<polyline clip-path=\"url(#clip540)\" style=\"stroke:#000000; stroke-linecap:round; stroke-linejoin:round; stroke-width:4; stroke-opacity:1; fill:none\" points=\"2119.06,1379.86 2322.65,1379.86 2322.65,1172.5 2119.06,1172.5 2119.06,1379.86 \"/>\n",
       "<polyline clip-path=\"url(#clip540)\" style=\"stroke:#009af9; stroke-linecap:round; stroke-linejoin:round; stroke-width:12; stroke-opacity:1; fill:none\" points=\"2129.1,1224.34 2189.31,1224.34 \"/>\n",
       "<path clip-path=\"url(#clip540)\" d=\"M2224.91 1236.69 L2224.91 1227.4 L2217.27 1227.4 L2217.27 1223.56 L2229.53 1223.56 L2229.53 1238.4 Q2226.83 1240.32 2223.56 1241.32 Q2220.3 1242.29 2216.6 1242.29 Q2208.49 1242.29 2203.91 1237.57 Q2199.35 1232.82 2199.35 1224.37 Q2199.35 1215.9 2203.91 1211.18 Q2208.49 1206.43 2216.6 1206.43 Q2219.97 1206.43 2223.01 1207.26 Q2226.06 1208.1 2228.63 1209.72 L2228.63 1214.7 Q2226.04 1212.5 2223.12 1211.38 Q2220.21 1210.27 2216.99 1210.27 Q2210.65 1210.27 2207.45 1213.82 Q2204.28 1217.36 2204.28 1224.37 Q2204.28 1231.36 2207.45 1234.9 Q2210.65 1238.44 2216.99 1238.44 Q2219.47 1238.44 2221.41 1238.03 Q2223.35 1237.59 2224.91 1236.69 Z\" fill=\"#000000\" fill-rule=\"evenodd\" fill-opacity=\"1\" /><path clip-path=\"url(#clip540)\" d=\"M2239.3 1237.68 L2246.94 1237.68 L2246.94 1211.32 L2238.63 1212.98 L2238.63 1208.72 L2246.9 1207.06 L2251.57 1207.06 L2251.57 1237.68 L2259.21 1237.68 L2259.21 1241.62 L2239.3 1241.62 L2239.3 1237.68 Z\" fill=\"#000000\" fill-rule=\"evenodd\" fill-opacity=\"1\" /><polyline clip-path=\"url(#clip540)\" style=\"stroke:#e26f46; stroke-linecap:round; stroke-linejoin:round; stroke-width:12; stroke-opacity:1; fill:none\" points=\"2129.1,1276.18 2189.31,1276.18 \"/>\n",
       "<path clip-path=\"url(#clip540)\" d=\"M2224.91 1288.53 L2224.91 1279.24 L2217.27 1279.24 L2217.27 1275.4 L2229.53 1275.4 L2229.53 1290.24 Q2226.83 1292.16 2223.56 1293.16 Q2220.3 1294.13 2216.6 1294.13 Q2208.49 1294.13 2203.91 1289.41 Q2199.35 1284.66 2199.35 1276.21 Q2199.35 1267.74 2203.91 1263.02 Q2208.49 1258.27 2216.6 1258.27 Q2219.97 1258.27 2223.01 1259.1 Q2226.06 1259.94 2228.63 1261.56 L2228.63 1266.54 Q2226.04 1264.34 2223.12 1263.22 Q2220.21 1262.11 2216.99 1262.11 Q2210.65 1262.11 2207.45 1265.66 Q2204.28 1269.2 2204.28 1276.21 Q2204.28 1283.2 2207.45 1286.74 Q2210.65 1290.28 2216.99 1290.28 Q2219.47 1290.28 2221.41 1289.87 Q2223.35 1289.43 2224.91 1288.53 Z\" fill=\"#000000\" fill-rule=\"evenodd\" fill-opacity=\"1\" /><path clip-path=\"url(#clip540)\" d=\"M2242.52 1289.52 L2258.84 1289.52 L2258.84 1293.46 L2236.9 1293.46 L2236.9 1289.52 Q2239.56 1286.77 2244.14 1282.14 Q2248.75 1277.48 2249.93 1276.14 Q2252.17 1273.62 2253.05 1271.88 Q2253.96 1270.12 2253.96 1268.43 Q2253.96 1265.68 2252.01 1263.94 Q2250.09 1262.21 2246.99 1262.21 Q2244.79 1262.21 2242.34 1262.97 Q2239.91 1263.73 2237.13 1265.29 L2237.13 1260.56 Q2239.95 1259.43 2242.41 1258.85 Q2244.86 1258.27 2246.9 1258.27 Q2252.27 1258.27 2255.46 1260.96 Q2258.66 1263.64 2258.66 1268.13 Q2258.66 1270.26 2257.84 1272.18 Q2257.06 1274.08 2254.95 1276.67 Q2254.37 1277.35 2251.27 1280.56 Q2248.17 1283.76 2242.52 1289.52 Z\" fill=\"#000000\" fill-rule=\"evenodd\" fill-opacity=\"1\" /><polyline clip-path=\"url(#clip540)\" style=\"stroke:#3da44d; stroke-linecap:round; stroke-linejoin:round; stroke-width:12; stroke-opacity:1; fill:none\" points=\"2129.1,1328.02 2189.31,1328.02 \"/>\n",
       "<path clip-path=\"url(#clip540)\" d=\"M2199.35 1310.74 L2204.07 1310.74 L2211.34 1339.95 L2218.59 1310.74 L2223.84 1310.74 L2231.11 1339.95 L2238.35 1310.74 L2243.1 1310.74 L2234.42 1345.3 L2228.54 1345.3 L2221.25 1315.3 L2213.89 1345.3 L2208.01 1345.3 L2199.35 1310.74 Z\" fill=\"#000000\" fill-rule=\"evenodd\" fill-opacity=\"1\" /><path clip-path=\"url(#clip540)\" d=\"M2248.08 1319.37 L2252.34 1319.37 L2252.34 1345.3 L2248.08 1345.3 L2248.08 1319.37 M2248.08 1309.28 L2252.34 1309.28 L2252.34 1314.67 L2248.08 1314.67 L2248.08 1309.28 Z\" fill=\"#000000\" fill-rule=\"evenodd\" fill-opacity=\"1\" /><path clip-path=\"url(#clip540)\" d=\"M2282.8 1329.65 L2282.8 1345.3 L2278.54 1345.3 L2278.54 1329.79 Q2278.54 1326.11 2277.1 1324.28 Q2275.67 1322.45 2272.8 1322.45 Q2269.35 1322.45 2267.36 1324.65 Q2265.37 1326.85 2265.37 1330.64 L2265.37 1345.3 L2261.09 1345.3 L2261.09 1319.37 L2265.37 1319.37 L2265.37 1323.4 Q2266.9 1321.06 2268.96 1319.9 Q2271.04 1318.75 2273.75 1318.75 Q2278.22 1318.75 2280.51 1321.52 Q2282.8 1324.28 2282.8 1329.65 Z\" fill=\"#000000\" fill-rule=\"evenodd\" fill-opacity=\"1\" /><path clip-path=\"url(#clip540)\" d=\"M2308.35 1323.31 L2308.35 1309.28 L2312.61 1309.28 L2312.61 1345.3 L2308.35 1345.3 L2308.35 1341.41 Q2307.01 1343.72 2304.95 1344.86 Q2302.91 1345.97 2300.04 1345.97 Q2295.34 1345.97 2292.38 1342.22 Q2289.44 1338.47 2289.44 1332.36 Q2289.44 1326.25 2292.38 1322.5 Q2295.34 1318.75 2300.04 1318.75 Q2302.91 1318.75 2304.95 1319.88 Q2307.01 1320.99 2308.35 1323.31 M2293.84 1332.36 Q2293.84 1337.06 2295.76 1339.74 Q2297.71 1342.4 2301.09 1342.4 Q2304.46 1342.4 2306.41 1339.74 Q2308.35 1337.06 2308.35 1332.36 Q2308.35 1327.66 2306.41 1325 Q2304.46 1322.31 2301.09 1322.31 Q2297.71 1322.31 2295.76 1325 Q2293.84 1327.66 2293.84 1332.36 Z\" fill=\"#000000\" fill-rule=\"evenodd\" fill-opacity=\"1\" /></svg>\n"
      ]
     },
     "execution_count": 16,
     "metadata": {},
     "output_type": "execute_result"
    }
   ],
   "source": [
    "commitment_plot = StatsPlots.@df(\n",
    "    uc_df,\n",
    "    Plots.plot(\n",
    "        :demand,\n",
    "        [:commitment_G1, :commitment_G2],\n",
    "        labels = [\"G1\" \"G2\"],\n",
    "        title = \"Commitment\",\n",
    "        legend = :bottomright,\n",
    "        linewidth = 3,\n",
    "        xlabel = \"Demand [MW]\",\n",
    "        ylabel = \"Commitment decision {0, 1}\",\n",
    "    ),\n",
    ")\n",
    "\n",
    "dispatch_plot = StatsPlots.@df(\n",
    "    uc_df,\n",
    "    Plots.plot(\n",
    "        :demand,\n",
    "        [:dispatch_G1, :dispatch_G2, :dispatch_wind],\n",
    "        labels = [\"G1\" \"G2\" \"Wind\"],\n",
    "        title = \"Dispatch [MW]\",\n",
    "        legend = :bottomright,\n",
    "        linewidth = 3,\n",
    "        xlabel = \"Demand\",\n",
    "        ylabel = \"Dispatch [MW]\",\n",
    "    ),\n",
    ")\n",
    "\n",
    "Plots.plot(commitment_plot, dispatch_plot)"
   ]
  },
  {
   "cell_type": "code",
   "execution_count": 17,
   "id": "d0242d0a",
   "metadata": {},
   "outputs": [
    {
     "ename": "LoadError",
     "evalue": "UndefVarError: wind_generator not defined",
     "output_type": "error",
     "traceback": [
      "UndefVarError: wind_generator not defined",
      "",
      "Stacktrace:",
      " [1] top-level scope",
      "   @ In[17]:51"
     ]
    }
   ],
   "source": [
    "import Ipopt\n",
    "\n",
    "\"\"\"\n",
    "    thermal_cost_function(g)\n",
    "\n",
    "A user-defined thermal cost function in pure-Julia! You can include\n",
    "nonlinearities, and even things like control flow.\n",
    "\n",
    "!!! warning\n",
    "    It's still up to you to make sure that the function has a meaningful\n",
    "    derivative.\n",
    "\"\"\"\n",
    "function thermal_cost_function(g)\n",
    "    if g <= 500\n",
    "        return g\n",
    "    else\n",
    "        return g + 1e-2 * (g - 500)^2\n",
    "    end\n",
    "end\n",
    "\n",
    "function solve_nonlinear_economic_dispatch(\n",
    "    generators::Vector,\n",
    "    wind,\n",
    "    scenario;\n",
    "    silent::Bool = false,\n",
    ")\n",
    "    model = Model(Ipopt.Optimizer)\n",
    "    if silent\n",
    "        set_silent(model)\n",
    "    end\n",
    "    register(model, :tcf, 1, thermal_cost_function; autodiff = true)\n",
    "    N = length(generators)\n",
    "    @variable(model, generators[i].min <= g[i = 1:N] <= generators[i].max)\n",
    "    @variable(model, 0 <= w <= scenario.wind)\n",
    "    @NLobjective(\n",
    "        model,\n",
    "        Min,\n",
    "        sum(generators[i].variable_cost * tcf(g[i]) for i in 1:N) +\n",
    "        wind.variable_cost * w,\n",
    "    )\n",
    "    @NLconstraint(model, sum(g[i] for i in 1:N) + sqrt(w) == scenario.demand)\n",
    "    optimize!(model)\n",
    "    return (\n",
    "        g = value.(g),\n",
    "        w = value(w),\n",
    "        wind_spill = scenario.wind - value(w),\n",
    "        total_cost = objective_value(model),\n",
    "    )\n",
    "end\n",
    "\n",
    "solution =\n",
    "    solve_nonlinear_economic_dispatch(generators, wind_generator, scenario)"
   ]
  },
  {
   "cell_type": "code",
   "execution_count": 18,
   "id": "1c4bc65e",
   "metadata": {},
   "outputs": [
    {
     "ename": "LoadError",
     "evalue": "UndefVarError: WindGenerator not defined",
     "output_type": "error",
     "traceback": [
      "UndefVarError: WindGenerator not defined",
      "",
      "Stacktrace:",
      " [1] top-level scope",
      "   @ .\\In[18]:4"
     ]
    }
   ],
   "source": [
    "wind_cost = 0.0:1:100\n",
    "wind_dispatch = Float64[]\n",
    "for c in wind_cost\n",
    "    sol = solve_nonlinear_economic_dispatch(\n",
    "        generators,\n",
    "        WindGenerator(c),\n",
    "        scenario;\n",
    "        silent = true,\n",
    "    )\n",
    "    push!(wind_dispatch, sol.w)\n",
    "end\n",
    "\n",
    "Plots.plot(\n",
    "    wind_cost,\n",
    "    wind_dispatch;\n",
    "    xlabel = \"Cost\",\n",
    "    ylabel = \"Dispatch [MW]\",\n",
    "    label = false,\n",
    ")"
   ]
  }
 ],
 "metadata": {
  "celltoolbar": "Raw Cell Format",
  "kernelspec": {
   "display_name": "Julia 1.8.4",
   "language": "julia",
   "name": "julia-1.8"
  },
  "language_info": {
   "file_extension": ".jl",
   "mimetype": "application/julia",
   "name": "julia",
   "version": "1.8.4"
  }
 },
 "nbformat": 4,
 "nbformat_minor": 5
}

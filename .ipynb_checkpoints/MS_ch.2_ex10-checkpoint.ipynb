{
 "cells": [
  {
   "cell_type": "code",
   "execution_count": 1,
   "id": "7113a8ed",
   "metadata": {},
   "outputs": [
    {
     "data": {
      "text/plain": [
       "A JuMP Model\n",
       "Feasibility problem with:\n",
       "Variables: 0\n",
       "Model mode: AUTOMATIC\n",
       "CachingOptimizer state: EMPTY_OPTIMIZER\n",
       "Solver name: GLPK"
      ]
     },
     "execution_count": 1,
     "metadata": {},
     "output_type": "execute_result"
    }
   ],
   "source": [
    "using JuMP, GLPK \n",
    "\n",
    "m = Model(GLPK.Optimizer)"
   ]
  },
  {
   "cell_type": "code",
   "execution_count": 2,
   "id": "d7e9b1e5",
   "metadata": {},
   "outputs": [
    {
     "data": {
      "text/latex": [
       "$$ B $$"
      ],
      "text/plain": [
       "B"
      ]
     },
     "execution_count": 2,
     "metadata": {},
     "output_type": "execute_result"
    }
   ],
   "source": [
    "@variable(m, 0<= A)\n",
    "\n",
    "@variable(m, 0<= B)"
   ]
  },
  {
   "cell_type": "code",
   "execution_count": 3,
   "id": "75f013b8",
   "metadata": {},
   "outputs": [
    {
     "data": {
      "text/latex": [
       "constraint2 : $ 5 A + 3 B \\leq 15.0 $"
      ],
      "text/plain": [
       "constraint2 : 5 A + 3 B <= 15.0"
      ]
     },
     "execution_count": 3,
     "metadata": {},
     "output_type": "execute_result"
    }
   ],
   "source": [
    "@objective(m, Max, 2*A+ 3*B)\n",
    "\n",
    "@constraint(m, constraint1, 1*A + 2*B <= 6 )\n",
    "\n",
    "@constraint(m, constraint2, 5*A + 3*B <= 15 )"
   ]
  },
  {
   "cell_type": "code",
   "execution_count": 4,
   "id": "aa388c97",
   "metadata": {},
   "outputs": [
    {
     "data": {
      "text/latex": [
       "$$ \\begin{aligned}\n",
       "\\max\\quad & 2 A + 3 B\\\\\n",
       "\\text{Subject to} \\quad & A + 2 B \\leq 6.0\\\\\n",
       " & 5 A + 3 B \\leq 15.0\\\\\n",
       " & A \\geq 0.0\\\\\n",
       " & B \\geq 0.0\\\\\n",
       "\\end{aligned} $$"
      ]
     },
     "metadata": {},
     "output_type": "display_data"
    }
   ],
   "source": [
    "print(m)\n",
    "\n",
    "JuMP.optimize!(m)"
   ]
  },
  {
   "cell_type": "code",
   "execution_count": 5,
   "id": "c0ce893b",
   "metadata": {},
   "outputs": [
    {
     "name": "stdout",
     "output_type": "stream",
     "text": [
      "optimal solution:\n",
      "A = 1.7142857142857142\n",
      "B = 2.142857142857143\n",
      "Max = 9.857142857142858\n"
     ]
    }
   ],
   "source": [
    "println(\"optimal solution:\")\n",
    "\n",
    "println(\"A = \",JuMP.value(A))\n",
    "    \n",
    "println(\"B = \",JuMP.value(B))\n",
    "    \n",
    "println(\"Max = \", objective_value(m))\n"
   ]
  }
 ],
 "metadata": {
  "kernelspec": {
   "display_name": "Julia 1.8.4",
   "language": "julia",
   "name": "julia-1.8"
  },
  "language_info": {
   "file_extension": ".jl",
   "mimetype": "application/julia",
   "name": "julia",
   "version": "1.8.4"
  }
 },
 "nbformat": 4,
 "nbformat_minor": 5
}

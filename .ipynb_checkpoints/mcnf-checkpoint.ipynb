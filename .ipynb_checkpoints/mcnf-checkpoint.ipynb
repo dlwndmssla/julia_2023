{
 "cells": [
  {
   "cell_type": "code",
   "execution_count": 6,
   "id": "9c5b06cb",
   "metadata": {},
   "outputs": [
    {
     "ename": "LoadError",
     "evalue": "LoadError: UndefVarError: @variable not defined\nin expression starting at In[6]:4",
     "output_type": "error",
     "traceback": [
      "LoadError: UndefVarError: @variable not defined\nin expression starting at In[6]:4",
      ""
     ]
    }
   ],
   "source": [
    "function minimal_cost_network_flow(nodes, links, c_dict, u_dict, b)\n",
    "    mcnf = Model(GLPK.Optimizer)\n",
    "    \n",
    "    @variable(mcnf, 0 <= x[link in links] <= u_dict[link])\n",
    "    \n",
    "    @objective(mcnf, Min, sum(c_dict[link] * x[link] for link in links))\n",
    "    \n",
    "    for i in nodes\n",
    "        @constraint(mcnf, sum(x[(ii,j)] for (ii,j) in links if ii==i)- sum(x[(j,ii)] for (j,ii) in links if ii==i)  == b[i] )\n",
    "    end\n",
    "    \n",
    "JuMP.optimize!(mcnf)\n",
    "    obj = JuMP.objective_value(mcnf)\n",
    "    x_star = JuMP.value.(x)\n",
    "    \n",
    "    return x_star, obj\n",
    "    \n",
    "end\n"
   ]
  },
  {
   "cell_type": "code",
   "execution_count": null,
   "id": "54f9990a",
   "metadata": {},
   "outputs": [],
   "source": []
  }
 ],
 "metadata": {
  "kernelspec": {
   "display_name": "Julia 1.8.4",
   "language": "julia",
   "name": "julia-1.8"
  },
  "language_info": {
   "file_extension": ".jl",
   "mimetype": "application/julia",
   "name": "julia",
   "version": "1.8.4"
  }
 },
 "nbformat": 4,
 "nbformat_minor": 5
}

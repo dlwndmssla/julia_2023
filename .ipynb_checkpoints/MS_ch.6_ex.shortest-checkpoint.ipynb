{
 "cells": [
  {
   "cell_type": "code",
   "execution_count": 5,
   "id": "10db57d8",
   "metadata": {},
   "outputs": [
    {
     "data": {
      "text/plain": [
       "([1.0 2.0 25.0; 1.0 3.0 20.0; … ; 4.0 6.0 4.0; 5.0 6.0 7.0], AbstractString[\"start node i \" \" end node j\" \" c_ij\"])"
      ]
     },
     "execution_count": 5,
     "metadata": {},
     "output_type": "execute_result"
    }
   ],
   "source": [
    "using DelimitedFiles\n",
    "network_data = readdlm(\"MS_ch6.short.csv\", ',',header = true)"
   ]
  },
  {
   "cell_type": "code",
   "execution_count": 6,
   "id": "59b65c8e",
   "metadata": {
    "scrolled": true
   },
   "outputs": [
    {
     "data": {
      "text/plain": [
       "13×3 Matrix{Float64}:\n",
       " 1.0  2.0  25.0\n",
       " 1.0  3.0  20.0\n",
       " 2.0  3.0   3.0\n",
       " 3.0  2.0   3.0\n",
       " 2.0  4.0   5.0\n",
       " 4.0  2.0   5.0\n",
       " 2.0  6.0  14.0\n",
       " 3.0  5.0   6.0\n",
       " 5.0  3.0   6.0\n",
       " 4.0  5.0   4.0\n",
       " 5.0  4.0   5.0\n",
       " 4.0  6.0   4.0\n",
       " 5.0  6.0   7.0"
      ]
     },
     "execution_count": 6,
     "metadata": {},
     "output_type": "execute_result"
    }
   ],
   "source": [
    "data = network_data[1]"
   ]
  },
  {
   "cell_type": "code",
   "execution_count": 7,
   "id": "e25e647f",
   "metadata": {},
   "outputs": [
    {
     "data": {
      "text/plain": [
       "1×3 Matrix{AbstractString}:\n",
       " \"start node i \"  \" end node j\"  \" c_ij\""
      ]
     },
     "execution_count": 7,
     "metadata": {},
     "output_type": "execute_result"
    }
   ],
   "source": [
    "header = network_data[2]"
   ]
  },
  {
   "cell_type": "code",
   "execution_count": 8,
   "id": "d7dc7354",
   "metadata": {},
   "outputs": [
    {
     "data": {
      "text/plain": [
       "13-element Vector{Int64}:\n",
       " 2\n",
       " 3\n",
       " 3\n",
       " 2\n",
       " 4\n",
       " 2\n",
       " 6\n",
       " 5\n",
       " 3\n",
       " 5\n",
       " 4\n",
       " 6\n",
       " 6"
      ]
     },
     "execution_count": 8,
     "metadata": {},
     "output_type": "execute_result"
    }
   ],
   "source": [
    "start_node = round.(Int64, data[:,1])\n",
    "end_node = round.(Int64, data[:,2])"
   ]
  },
  {
   "cell_type": "code",
   "execution_count": 9,
   "id": "0de61710",
   "metadata": {},
   "outputs": [
    {
     "data": {
      "text/plain": [
       "13-element Vector{Float64}:\n",
       " 25.0\n",
       " 20.0\n",
       "  3.0\n",
       "  3.0\n",
       "  5.0\n",
       "  5.0\n",
       " 14.0\n",
       "  6.0\n",
       "  6.0\n",
       "  4.0\n",
       "  5.0\n",
       "  4.0\n",
       "  7.0"
      ]
     },
     "execution_count": 9,
     "metadata": {},
     "output_type": "execute_result"
    }
   ],
   "source": [
    "c = data[:,3]"
   ]
  },
  {
   "cell_type": "code",
   "execution_count": 10,
   "id": "229f1d2b",
   "metadata": {},
   "outputs": [
    {
     "data": {
      "text/plain": [
       "6"
      ]
     },
     "execution_count": 10,
     "metadata": {},
     "output_type": "execute_result"
    }
   ],
   "source": [
    "origin = 1\n",
    "destination = 6"
   ]
  },
  {
   "cell_type": "code",
   "execution_count": 15,
   "id": "b882c3ad",
   "metadata": {},
   "outputs": [
    {
     "data": {
      "text/plain": [
       "6"
      ]
     },
     "execution_count": 15,
     "metadata": {},
     "output_type": "execute_result"
    }
   ],
   "source": [
    "no_node = max(maximum(start_node),maximum(end_node))"
   ]
  },
  {
   "cell_type": "code",
   "execution_count": 16,
   "id": "85991e3e",
   "metadata": {},
   "outputs": [
    {
     "data": {
      "text/plain": [
       "13"
      ]
     },
     "execution_count": 16,
     "metadata": {},
     "output_type": "execute_result"
    }
   ],
   "source": [
    "no_link = length(start_node)"
   ]
  },
  {
   "cell_type": "code",
   "execution_count": 17,
   "id": "0939ace1",
   "metadata": {},
   "outputs": [
    {
     "data": {
      "text/plain": [
       "{6, 0} undirected simple Int64 graph"
      ]
     },
     "execution_count": 17,
     "metadata": {},
     "output_type": "execute_result"
    }
   ],
   "source": [
    "using LightGraphs\n",
    "graph = Graph(no_node)"
   ]
  },
  {
   "cell_type": "code",
   "execution_count": 43,
   "id": "dfe8ccf3",
   "metadata": {},
   "outputs": [
    {
     "data": {
      "text/plain": [
       "6×6 Matrix{Float64}:\n",
       " Inf  Inf  Inf  Inf  Inf  Inf\n",
       " Inf  Inf  Inf  Inf  Inf  Inf\n",
       " Inf  Inf  Inf  Inf  Inf  Inf\n",
       " Inf  Inf  Inf  Inf  Inf  Inf\n",
       " Inf  Inf  Inf  Inf  Inf  Inf\n",
       " Inf  Inf  Inf  Inf  Inf  Inf"
      ]
     },
     "execution_count": 43,
     "metadata": {},
     "output_type": "execute_result"
    }
   ],
   "source": [
    "distmx = Inf*ones(no_node, no_node)"
   ]
  },
  {
   "cell_type": "code",
   "execution_count": 44,
   "id": "af648b28",
   "metadata": {},
   "outputs": [],
   "source": [
    "for i in 1:no_link\n",
    "    add_edge!(graph, start_node[i],end_node[i])\n",
    "    distmx[start_node[i],end_node[i]] = c[i]\n",
    "end"
   ]
  },
  {
   "cell_type": "code",
   "execution_count": 45,
   "id": "68aa11d3",
   "metadata": {},
   "outputs": [
    {
     "data": {
      "text/plain": [
       "LightGraphs.DijkstraState{Float64, Int64}([0, 3, 1, 2, 3, 4], [0.0, 23.0, 20.0, 28.0, 26.0, 32.0], [Int64[], Int64[], Int64[], Int64[], Int64[], Int64[]], [1.0, 1.0, 1.0, 1.0, 1.0, 1.0], Int64[])"
      ]
     },
     "execution_count": 45,
     "metadata": {},
     "output_type": "execute_result"
    }
   ],
   "source": [
    "state = dijkstra_shortest_paths(graph, origin, distmx)"
   ]
  },
  {
   "cell_type": "code",
   "execution_count": 46,
   "id": "0d17115b",
   "metadata": {},
   "outputs": [
    {
     "data": {
      "text/plain": [
       "5-element Vector{Int64}:\n",
       " 1\n",
       " 3\n",
       " 2\n",
       " 4\n",
       " 6"
      ]
     },
     "execution_count": 46,
     "metadata": {},
     "output_type": "execute_result"
    }
   ],
   "source": [
    "path = enumerate_paths(state, destination)"
   ]
  },
  {
   "cell_type": "code",
   "execution_count": null,
   "id": "eff53b58",
   "metadata": {},
   "outputs": [],
   "source": []
  }
 ],
 "metadata": {
  "kernelspec": {
   "display_name": "Julia 1.8.4",
   "language": "julia",
   "name": "julia-1.8"
  },
  "language_info": {
   "file_extension": ".jl",
   "mimetype": "application/julia",
   "name": "julia",
   "version": "1.8.4"
  }
 },
 "nbformat": 4,
 "nbformat_minor": 5
}

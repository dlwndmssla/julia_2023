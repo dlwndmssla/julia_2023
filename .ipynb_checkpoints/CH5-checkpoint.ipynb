{
 "cells": [
  {
   "cell_type": "code",
   "execution_count": 90,
   "id": "3b62ec7b",
   "metadata": {},
   "outputs": [],
   "source": [
    "using JuMP, GLPK, LinearAlgebra, Combinatorics, Printf"
   ]
  },
  {
   "cell_type": "code",
   "execution_count": 153,
   "id": "3e1158e3",
   "metadata": {},
   "outputs": [
    {
     "data": {
      "text/plain": [
       "3-element Vector{Int64}:\n",
       " 10\n",
       "  3\n",
       " 10"
      ]
     },
     "execution_count": 153,
     "metadata": {},
     "output_type": "execute_result"
    }
   ],
   "source": [
    "c = [-2; 3; -1; 0; 0; 0]\n",
    "A = [1 1 1 1 0 0 ;\n",
    "    4 -3 1 0 1 0 ;\n",
    "    2 1 -1 0 0 1 ]\n",
    "b = [10; 3; 10]"
   ]
  },
  {
   "cell_type": "code",
   "execution_count": 140,
   "id": "1e212cbb",
   "metadata": {
    "scrolled": true
   },
   "outputs": [
    {
     "data": {
      "text/plain": [
       "3-element Vector{ConstraintRef{Model, MathOptInterface.ConstraintIndex{MathOptInterface.ScalarAffineFunction{Float64}, MathOptInterface.EqualTo{Float64}}, ScalarShape}}:\n",
       " x[1] + x[2] + x[3] + x[4] == 10.0\n",
       " 4 x[1] - 3 x[2] + x[3] + x[5] == 3.0\n",
       " 2 x[1] + x[2] - x[3] + x[6] == 10.0"
      ]
     },
     "execution_count": 140,
     "metadata": {},
     "output_type": "execute_result"
    }
   ],
   "source": [
    "m = Model(GLPK.Optimizer)\n",
    "@variable(m, x[1:length(c)] >= 0 )\n",
    "@objective(m, Max, dot(c,x))\n",
    "@constraint(m, A*x .==b)"
   ]
  },
  {
   "cell_type": "code",
   "execution_count": 141,
   "id": "3e148cb7",
   "metadata": {},
   "outputs": [
    {
     "data": {
      "text/plain": [
       "6-element Vector{Float64}:\n",
       "  0.0\n",
       " 10.0\n",
       "  7.401486830834377e-16\n",
       "  0.0\n",
       " 33.0\n",
       "  0.0"
      ]
     },
     "execution_count": 141,
     "metadata": {},
     "output_type": "execute_result"
    }
   ],
   "source": [
    "JuMP.optimize!(m)\n",
    "obj0 = JuMP.objective_value(m)\n",
    "opt_x0 = JuMP.value.(x)"
   ]
  },
  {
   "cell_type": "code",
   "execution_count": 142,
   "id": "2cab31ec",
   "metadata": {},
   "outputs": [],
   "source": [
    "mutable struct SimplexTableau\n",
    "    z_c    ::Array{Float64}\n",
    "    Y      ::Array{Float64}\n",
    "    x_B    ::Array{Float64}\n",
    "    obj    ::Float64\n",
    "    b_idx  ::Array{Int64}\n",
    "end"
   ]
  },
  {
   "cell_type": "code",
   "execution_count": 147,
   "id": "ff481498",
   "metadata": {},
   "outputs": [
    {
     "data": {
      "text/plain": [
       "3-element Vector{Int64}:\n",
       " 4\n",
       " 5\n",
       " 6"
      ]
     },
     "execution_count": 147,
     "metadata": {},
     "output_type": "execute_result"
    }
   ],
   "source": [
    "z_c = [-2 3 -1 0 0 0]\n",
    "Y = [1 1 1 1 0 0 ;\n",
    "    4 -3 1 0 1 0 ;\n",
    "    2 1 -1 0 0 1]\n",
    "x_B = [10; 3; 10]\n",
    "obj = 0 \n",
    "b_idx = [4,5,6]"
   ]
  },
  {
   "cell_type": "code",
   "execution_count": 148,
   "id": "5277a41d",
   "metadata": {},
   "outputs": [
    {
     "data": {
      "text/plain": [
       "SimplexTableau"
      ]
     },
     "execution_count": 148,
     "metadata": {},
     "output_type": "execute_result"
    }
   ],
   "source": [
    "typeof(tableau)"
   ]
  },
  {
   "cell_type": "code",
   "execution_count": 149,
   "id": "94bfe843",
   "metadata": {},
   "outputs": [
    {
     "data": {
      "text/plain": [
       "(:z_c, :Y, :x_B, :obj, :b_idx)"
      ]
     },
     "execution_count": 149,
     "metadata": {},
     "output_type": "execute_result"
    }
   ],
   "source": [
    "fieldnames(typeof(tableau))"
   ]
  },
  {
   "cell_type": "code",
   "execution_count": 150,
   "id": "82ebff3e",
   "metadata": {},
   "outputs": [
    {
     "data": {
      "text/plain": [
       "3-element Vector{Int64}:\n",
       " 4\n",
       " 5\n",
       " 6"
      ]
     },
     "execution_count": 150,
     "metadata": {},
     "output_type": "execute_result"
    }
   ],
   "source": [
    "tableau.b_idx"
   ]
  },
  {
   "cell_type": "code",
   "execution_count": 154,
   "id": "c10f559d",
   "metadata": {},
   "outputs": [
    {
     "data": {
      "text/plain": [
       "simplex_method (generic function with 1 method)"
      ]
     },
     "execution_count": 154,
     "metadata": {},
     "output_type": "execute_result"
    }
   ],
   "source": [
    "function simplex_method(c, A,b)\n",
    "    tableau = initialize(c, A,b)\n",
    "    \n",
    "    while !is_optimal(tableau)\n",
    "        pivoting!(tableau)\n",
    "    end\n",
    "    \n",
    "    \n",
    "    opt_x = zeros(length(c))\n",
    "        \n",
    "    opt_x[tableau.b_idx] = tableau.x_B\n",
    "    \n",
    "    return opt_x, tableau.obj\n",
    "    \n",
    "end"
   ]
  },
  {
   "cell_type": "code",
   "execution_count": 155,
   "id": "a824c6ae",
   "metadata": {},
   "outputs": [
    {
     "ename": "LoadError",
     "evalue": "BoundsError: attempt to access 6-element Vector{Float64} at index [1:6, [1, 2, 3]]",
     "output_type": "error",
     "traceback": [
      "BoundsError: attempt to access 6-element Vector{Float64} at index [1:6, [1, 2, 3]]",
      "",
      "Stacktrace:",
      " [1] throw_boundserror(A::Vector{Float64}, I::Tuple{Base.Slice{Base.OneTo{Int64}}, Vector{Int64}})",
      "   @ Base .\\abstractarray.jl:703",
      " [2] checkbounds",
      "   @ .\\abstractarray.jl:668 [inlined]",
      " [3] _getindex",
      "   @ .\\multidimensional.jl:874 [inlined]",
      " [4] getindex",
      "   @ .\\abstractarray.jl:1241 [inlined]",
      " [5] initialize(c::Vector{Int64}, A::Matrix{Int64}, b::Vector{Int64})",
      "   @ Main .\\In[109]:15",
      " [6] simplex_method(c::Vector{Int64}, A::Matrix{Int64}, b::Vector{Int64})",
      "   @ Main .\\In[154]:2",
      " [7] top-level scope",
      "   @ In[155]:1"
     ]
    }
   ],
   "source": [
    "simplex_method(c, A,b)"
   ]
  },
  {
   "cell_type": "code",
   "execution_count": 133,
   "id": "40bc9b24",
   "metadata": {},
   "outputs": [
    {
     "data": {
      "text/plain": [
       "6-element Vector{Float64}:\n",
       " -2.0\n",
       "  3.0\n",
       " -1.0\n",
       "  0.0\n",
       "  0.0\n",
       "  0.0"
      ]
     },
     "execution_count": 133,
     "metadata": {},
     "output_type": "execute_result"
    }
   ],
   "source": [
    "c = Array{Float64}(c)"
   ]
  },
  {
   "cell_type": "code",
   "execution_count": 134,
   "id": "01d98ee4",
   "metadata": {},
   "outputs": [
    {
     "data": {
      "text/plain": [
       "3×6 Matrix{Float64}:\n",
       " 1.0   1.0   1.0  1.0  0.0  0.0\n",
       " 4.0  -3.0   1.0  0.0  1.0  0.0\n",
       " 2.0   1.0  -1.0  0.0  0.0  1.0"
      ]
     },
     "execution_count": 134,
     "metadata": {},
     "output_type": "execute_result"
    }
   ],
   "source": [
    "A = Array{Float64}(A)"
   ]
  },
  {
   "cell_type": "code",
   "execution_count": 135,
   "id": "4383a441",
   "metadata": {},
   "outputs": [
    {
     "data": {
      "text/plain": [
       "3-element Vector{Float64}:\n",
       " 10.0\n",
       "  3.0\n",
       " 10.0"
      ]
     },
     "execution_count": 135,
     "metadata": {},
     "output_type": "execute_result"
    }
   ],
   "source": [
    "b = Array{Float64}(b)"
   ]
  },
  {
   "cell_type": "code",
   "execution_count": 136,
   "id": "0a5f3f0b",
   "metadata": {},
   "outputs": [
    {
     "data": {
      "text/plain": [
       "(3, 6)"
      ]
     },
     "execution_count": 136,
     "metadata": {},
     "output_type": "execute_result"
    }
   ],
   "source": [
    "m,n = size(A)"
   ]
  },
  {
   "cell_type": "code",
   "execution_count": 107,
   "id": "780eb0fb",
   "metadata": {},
   "outputs": [
    {
     "data": {
      "text/plain": [
       "is_nonnegative (generic function with 2 methods)"
      ]
     },
     "execution_count": 107,
     "metadata": {},
     "output_type": "execute_result"
    }
   ],
   "source": [
    "function is_nonnegative(x::Vector)\n",
    "    return length(x[ x .<0])==0\n",
    "end\n",
    "\n",
    "function is_nonnegative(z::Array)\n",
    "    return length(z[ z .>0])==0\n",
    "end"
   ]
  },
  {
   "cell_type": "code",
   "execution_count": 108,
   "id": "8a701d23",
   "metadata": {},
   "outputs": [
    {
     "data": {
      "text/plain": [
       "initial_BFS (generic function with 1 method)"
      ]
     },
     "execution_count": 108,
     "metadata": {},
     "output_type": "execute_result"
    }
   ],
   "source": [
    "function initial_BFS(A,b)\n",
    "    m,n = size(A)\n",
    "    \n",
    "    comb = collect(combinations(1:n,m))\n",
    "    for i in length(comb):-1:1\n",
    "        b_idx = comb[i]\n",
    "        B = A[:,b_idx]\n",
    "        x_B = inv(B) * b\n",
    "        if is_nonnegative(x_B)\n",
    "        \n",
    "            return b_idx, x_B, B\n",
    "        end\n",
    "    end\n",
    "    error(\"Infeasible\")\n",
    "end"
   ]
  },
  {
   "cell_type": "code",
   "execution_count": 80,
   "id": "24ffbbc2",
   "metadata": {},
   "outputs": [
    {
     "data": {
      "text/plain": [
       "print_tableau (generic function with 1 method)"
      ]
     },
     "execution_count": 80,
     "metadata": {},
     "output_type": "execute_result"
    }
   ],
   "source": [
    "function print_tableau(t::SimplexTableau)\n",
    "    m,n = size(t.Y)\n",
    "    hline0 = repeat(\"-\",6)\n",
    "    hline1 = repeat(\"-\",7*n)\n",
    "    hline2 = repeat(\"-\",7)\n",
    "    hline = join([hline0, \"+\", hline1, \"+\", hline2] )\n",
    "    \n",
    "    print(hline)\n",
    "    \n",
    "    @printf(\"%6s|\",\"\")\n",
    "    for j in 1:length(t.z_c)\n",
    "        @printf(\"%6.2f\",t.z_c[j])\n",
    "    end\n",
    "    @printf(\"| %6.2f\\n\",t.obj)\n",
    "    \n",
    "    println(hline)\n",
    "    \n",
    "    for i in 1:m\n",
    "        @printf(\"x[%jd]  |\", t.b_idx[i])\n",
    "        for j in 1:n\n",
    "            @printf(\"%6.2f\", t.Y[i,j])\n",
    "        end\n",
    "        @printf(\"| %6.2f\\n\", t.x_B[I])\n",
    "    end\n",
    "    \n",
    "    println(hline)\n",
    "end"
   ]
  },
  {
   "cell_type": "code",
   "execution_count": 109,
   "id": "72080587",
   "metadata": {},
   "outputs": [
    {
     "data": {
      "text/plain": [
       "initialize (generic function with 1 method)"
      ]
     },
     "execution_count": 109,
     "metadata": {},
     "output_type": "execute_result"
    }
   ],
   "source": [
    "function initialize(c,A,b)\n",
    "    c = Array{Float64}(c)\n",
    "    A = Array{Float64}(A)\n",
    "    b = Array{Float64}(b)\n",
    "    \n",
    "    m,n = size(A)\n",
    "    \n",
    "    b_idx, x_B, B = initial_BFS(A,b)\n",
    "    Y = inv(B) *A\n",
    "    c_B = c[b_idx]\n",
    "    obj = dot(c_B, x_B)\n",
    "    \n",
    "    z_c = zeros(1,n)\n",
    "    n_idx = setdiff(1:n, b_idx)\n",
    "    z_c[n_idx] = c_B'* inv(B) * A[:,n_idx] - c[:,n_idx]'\n",
    "    \n",
    "    return SimplexTableau(z_c, Y, x_B, obj, b_idx)\n",
    "end"
   ]
  },
  {
   "cell_type": "code",
   "execution_count": 110,
   "id": "40c1c68b",
   "metadata": {},
   "outputs": [
    {
     "data": {
      "text/plain": [
       "is_nonpositive (generic function with 1 method)"
      ]
     },
     "execution_count": 110,
     "metadata": {},
     "output_type": "execute_result"
    }
   ],
   "source": [
    "function is_optimal(t::SimplexTableau)\n",
    "    return is_nonpositive(t.z_c)\n",
    "end\n",
    "\n",
    "function is_nonpositive(z::Array)\n",
    "    return length(z[z .>0]) ==0\n",
    "end"
   ]
  },
  {
   "cell_type": "code",
   "execution_count": 111,
   "id": "c6ca3e86",
   "metadata": {},
   "outputs": [
    {
     "data": {
      "text/plain": [
       "pivoting! (generic function with 1 method)"
      ]
     },
     "execution_count": 111,
     "metadata": {},
     "output_type": "execute_result"
    }
   ],
   "source": [
    "function pivoting!(t::SimplexTableau)\n",
    "    m,n = size(t.Y)\n",
    "    entering, exiting = pivoting_point(t)\n",
    "    \n",
    "    println(\"pivoting: entering = x_$entering, exiting = x_$(t.b_idx[exiting])\")\n",
    "    \n",
    "    coef = t.Y[exiting, entering]\n",
    "    t.Y[exiting,:] /= coef \n",
    "    t.x_B[exiting] /= coef\n",
    "    \n",
    "    for i in setdiff(1:m, exiting)\n",
    "        coef = t.Y[i, entering]\n",
    "        t.Y[i,:] -= coef* t.Y[exiting,:]\n",
    "        t.x_B[i] -= coef *t.x_B[exiting]\n",
    "    end\n",
    "    \n",
    "    coef = t.z[entering]\n",
    "    t.z_c -= coef* t.Y[exiting,:]\n",
    "    t.obj -= coef *t.x_B[exiting]\n",
    "    \n",
    "    t.b_idx[findfirst(t.b_idx .== t.b_idx[exiting])       ] = entering\n",
    "    \n",
    "end"
   ]
  },
  {
   "cell_type": "code",
   "execution_count": 112,
   "id": "47fd3427",
   "metadata": {},
   "outputs": [
    {
     "data": {
      "text/plain": [
       "pivot_point (generic function with 1 method)"
      ]
     },
     "execution_count": 112,
     "metadata": {},
     "output_type": "execute_result"
    }
   ],
   "source": [
    "function pivot_point(t::SimplexTableau)\n",
    "    entering = argmax(t.z_c)\n",
    "    if exiting == 0 \n",
    "        error(\"optimal\")\n",
    "    end\n",
    "    \n",
    "    pos_idx = findall(t.Y[:, entering] .> 0 )\n",
    "    if length(pos_idx) == 0 \n",
    "        error(\"unbounded\")\n",
    "    end    \n",
    "    exiting = pos.idx[argmin(t.x_B[pos_idx]  ./ t.Y[pos_idx,entering]         )]\n",
    "    \n",
    "    return entering, exiting\n",
    "    \n",
    "end"
   ]
  },
  {
   "cell_type": "code",
   "execution_count": 145,
   "id": "d2f1349a",
   "metadata": {},
   "outputs": [
    {
     "name": "stderr",
     "output_type": "stream",
     "text": [
      "WARNING: replacing module SimplexMethod.\n",
      "WARNING: using SimplexMethod.simplex_method in module Main conflicts with an existing identifier.\n"
     ]
    }
   ],
   "source": [
    "include(\"simplex_method.jl\")\n",
    "\n",
    "using Main.SimplexMethod"
   ]
  },
  {
   "cell_type": "code",
   "execution_count": 156,
   "id": "516fe8c8",
   "metadata": {},
   "outputs": [
    {
     "data": {
      "text/plain": [
       "([4, 5, 6], [10.0, 3.0, 10.0], [1 0 0; 0 1 0; 0 0 1])"
      ]
     },
     "execution_count": 156,
     "metadata": {},
     "output_type": "execute_result"
    }
   ],
   "source": [
    "initial_BFS(A,b)"
   ]
  },
  {
   "cell_type": "code",
   "execution_count": 161,
   "id": "ece387a8",
   "metadata": {},
   "outputs": [
    {
     "ename": "LoadError",
     "evalue": "MethodError: no method matching print_tableau(::Matrix{Int64})\n\u001b[0mClosest candidates are:\n\u001b[0m  print_tableau(\u001b[91m::SimplexTableau\u001b[39m) at In[80]:1",
     "output_type": "error",
     "traceback": [
      "MethodError: no method matching print_tableau(::Matrix{Int64})\n\u001b[0mClosest candidates are:\n\u001b[0m  print_tableau(\u001b[91m::SimplexTableau\u001b[39m) at In[80]:1",
      "",
      "Stacktrace:",
      " [1] top-level scope",
      "   @ In[161]:1"
     ]
    }
   ],
   "source": [
    "print_tableau()"
   ]
  },
  {
   "cell_type": "code",
   "execution_count": null,
   "id": "36069a79",
   "metadata": {},
   "outputs": [],
   "source": []
  }
 ],
 "metadata": {
  "kernelspec": {
   "display_name": "Julia 1.8.4",
   "language": "julia",
   "name": "julia-1.8"
  },
  "language_info": {
   "file_extension": ".jl",
   "mimetype": "application/julia",
   "name": "julia",
   "version": "1.8.4"
  }
 },
 "nbformat": 4,
 "nbformat_minor": 5
}

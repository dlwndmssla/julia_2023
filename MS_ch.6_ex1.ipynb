{
 "cells": [
  {
   "cell_type": "code",
   "execution_count": 16,
   "id": "90519a42",
   "metadata": {},
   "outputs": [
    {
     "data": {
      "text/plain": [
       "4×6 Matrix{Any}:\n",
       "     \" \"  \" \"             1400           …  2000            1400\n",
       "     \" \"  \" \"                 \"atlanta\"         \"columbus\"      \"boston\"\n",
       " 5000     \"philadelphia\"     2                 6               2\n",
       " 3000     \"neworleans\"       1                 5               7"
      ]
     },
     "execution_count": 16,
     "metadata": {},
     "output_type": "execute_result"
    }
   ],
   "source": [
    "using DelimitedFiles\n",
    "data = readdlm(\"ch6_1.csv\",',')"
   ]
  },
  {
   "cell_type": "code",
   "execution_count": 17,
   "id": "2adf46bd",
   "metadata": {},
   "outputs": [
    {
     "name": "stdout",
     "output_type": "stream",
     "text": [
      "Any[\" \" \" \" 1400 3200 2000 1400; \" \" \" \" \"atlanta\" \"dallas\" \"columbus\" \"boston\"; 5000 \"philadelphia\" 2 6 6 2; 3000 \"neworleans\" 1 2 5 7]"
     ]
    }
   ],
   "source": [
    "print(data)"
   ]
  },
  {
   "cell_type": "code",
   "execution_count": 2,
   "id": "235a4870",
   "metadata": {},
   "outputs": [
    {
     "data": {
      "text/plain": [
       "2-element Vector{Any}:\n",
       " \"philadelphia\"\n",
       " \"neworleans\""
      ]
     },
     "execution_count": 2,
     "metadata": {},
     "output_type": "execute_result"
    }
   ],
   "source": [
    "supply_nodes = data[3:end, 2]"
   ]
  },
  {
   "cell_type": "code",
   "execution_count": 3,
   "id": "7dbfad76",
   "metadata": {},
   "outputs": [
    {
     "data": {
      "text/plain": [
       "2-element Vector{Any}:\n",
       " 5000\n",
       " 3000"
      ]
     },
     "execution_count": 3,
     "metadata": {},
     "output_type": "execute_result"
    }
   ],
   "source": [
    "s = data[3:end, 1]"
   ]
  },
  {
   "cell_type": "code",
   "execution_count": 4,
   "id": "b5b3f913",
   "metadata": {},
   "outputs": [
    {
     "data": {
      "text/plain": [
       "4-element Vector{Any}:\n",
       " \"atlanta\"\n",
       " \"dallas\"\n",
       " \"columbus\"\n",
       " \"boston\""
      ]
     },
     "execution_count": 4,
     "metadata": {},
     "output_type": "execute_result"
    }
   ],
   "source": [
    "demand_nodes = data[2, 3:end]"
   ]
  },
  {
   "cell_type": "code",
   "execution_count": 5,
   "id": "1a8cf96e",
   "metadata": {},
   "outputs": [
    {
     "data": {
      "text/plain": [
       "4-element Vector{Any}:\n",
       " 1400\n",
       " 3200\n",
       " 2000\n",
       " 1400"
      ]
     },
     "execution_count": 5,
     "metadata": {},
     "output_type": "execute_result"
    }
   ],
   "source": [
    "d = data[1, 3:end]"
   ]
  },
  {
   "cell_type": "code",
   "execution_count": 6,
   "id": "be53035e",
   "metadata": {},
   "outputs": [
    {
     "data": {
      "text/plain": [
       "2×4 Matrix{Any}:\n",
       " 2  6  6  2\n",
       " 1  2  5  7"
      ]
     },
     "execution_count": 6,
     "metadata": {},
     "output_type": "execute_result"
    }
   ],
   "source": [
    "c = data[3:end,3:end ]"
   ]
  },
  {
   "cell_type": "code",
   "execution_count": 9,
   "id": "b7816e00",
   "metadata": {},
   "outputs": [
    {
     "data": {
      "text/plain": [
       "Dict{SubString{String}, Int64} with 4 entries:\n",
       "  \"atlanta\"  => 1400\n",
       "  \"boston\"   => 1400\n",
       "  \"dallas\"   => 3200\n",
       "  \"columbus\" => 2000"
      ]
     },
     "execution_count": 9,
     "metadata": {},
     "output_type": "execute_result"
    }
   ],
   "source": [
    "s_dict= Dict(supply_nodes.=> s)\n",
    "d_dict= Dict(demand_nodes.=> d)"
   ]
  },
  {
   "cell_type": "code",
   "execution_count": 10,
   "id": "bd17a36f",
   "metadata": {},
   "outputs": [
    {
     "data": {
      "text/plain": [
       "Dict{Tuple{SubString{String}, SubString{String}}, Int64} with 8 entries:\n",
       "  (\"philadelphia\", \"dallas\")   => 6\n",
       "  (\"philadelphia\", \"atlanta\")  => 2\n",
       "  (\"neworleans\", \"columbus\")   => 5\n",
       "  (\"neworleans\", \"dallas\")     => 2\n",
       "  (\"neworleans\", \"boston\")     => 7\n",
       "  (\"neworleans\", \"atlanta\")    => 1\n",
       "  (\"philadelphia\", \"columbus\") => 6\n",
       "  (\"philadelphia\", \"boston\")   => 2"
      ]
     },
     "execution_count": 10,
     "metadata": {},
     "output_type": "execute_result"
    }
   ],
   "source": [
    "c_dict = Dict(  (supply_nodes[i], demand_nodes[j] ) => c[i,j] for i in 1:length(supply_nodes), j in 1:length(demand_nodes)  )"
   ]
  },
  {
   "cell_type": "code",
   "execution_count": 11,
   "id": "a99fffe0",
   "metadata": {},
   "outputs": [],
   "source": [
    "using JuMP, GLPK\n",
    "tp = Model(GLPK.Optimizer)\n",
    "\n",
    "@variable(tp, x[supply_nodes, demand_nodes] >= 0 )\n",
    "@objective(tp, Min, sum(c_dict[i,j]*x[i,j] for i in supply_nodes, j in demand_nodes  )   )\n",
    "\n",
    "for i in supply_nodes\n",
    "    @constraint(tp, sum(x[i,j] for j in demand_nodes) == s_dict[i])\n",
    "end\n",
    "for j in demand_nodes\n",
    "    @constraint(tp, sum(x[i,j] for i in supply_nodes) == d_dict[j])\n",
    "end"
   ]
  },
  {
   "cell_type": "code",
   "execution_count": 12,
   "id": "730ee9e8",
   "metadata": {},
   "outputs": [
    {
     "data": {
      "text/latex": [
       "$$ \\begin{aligned}\n",
       "\\min\\quad & 2 x_{philadelphia,atlanta} + 6 x_{philadelphia,dallas} + 6 x_{philadelphia,columbus} + 2 x_{philadelphia,boston} + x_{neworleans,atlanta} + 2 x_{neworleans,dallas} + 5 x_{neworleans,columbus} + 7 x_{neworleans,boston}\\\\\n",
       "\\text{Subject to} \\quad & x_{philadelphia,atlanta} + x_{philadelphia,dallas} + x_{philadelphia,columbus} + x_{philadelphia,boston} = 5000.0\\\\\n",
       " & x_{neworleans,atlanta} + x_{neworleans,dallas} + x_{neworleans,columbus} + x_{neworleans,boston} = 3000.0\\\\\n",
       " & x_{philadelphia,atlanta} + x_{neworleans,atlanta} = 1400.0\\\\\n",
       " & x_{philadelphia,dallas} + x_{neworleans,dallas} = 3200.0\\\\\n",
       " & x_{philadelphia,columbus} + x_{neworleans,columbus} = 2000.0\\\\\n",
       " & x_{philadelphia,boston} + x_{neworleans,boston} = 1400.0\\\\\n",
       " & x_{philadelphia,atlanta} \\geq 0.0\\\\\n",
       " & x_{neworleans,atlanta} \\geq 0.0\\\\\n",
       " & x_{philadelphia,dallas} \\geq 0.0\\\\\n",
       " & x_{neworleans,dallas} \\geq 0.0\\\\\n",
       " & x_{philadelphia,columbus} \\geq 0.0\\\\\n",
       " & x_{neworleans,columbus} \\geq 0.0\\\\\n",
       " & x_{philadelphia,boston} \\geq 0.0\\\\\n",
       " & x_{neworleans,boston} \\geq 0.0\\\\\n",
       "\\end{aligned} $$"
      ]
     },
     "metadata": {},
     "output_type": "display_data"
    }
   ],
   "source": [
    "print(tp)"
   ]
  },
  {
   "cell_type": "code",
   "execution_count": 14,
   "id": "147e218c",
   "metadata": {},
   "outputs": [
    {
     "data": {
      "text/plain": [
       "2-dimensional DenseAxisArray{Float64,2,...} with index sets:\n",
       "    Dimension 1, Any[\"philadelphia\", \"neworleans\"]\n",
       "    Dimension 2, Any[\"atlanta\", \"dallas\", \"columbus\", \"boston\"]\n",
       "And data, a 2×4 Matrix{Float64}:\n",
       " 1400.0   200.0  2000.0  1400.0\n",
       "    0.0  3000.0     0.0     0.0"
      ]
     },
     "execution_count": 14,
     "metadata": {},
     "output_type": "execute_result"
    }
   ],
   "source": [
    "JuMP.optimize!(tp)\n",
    "\n",
    "x_star = JuMP.value.(x)"
   ]
  },
  {
   "cell_type": "code",
   "execution_count": 15,
   "id": "11323001",
   "metadata": {},
   "outputs": [
    {
     "name": "stdout",
     "output_type": "stream",
     "text": [
      "from philadelphia  to  atlanta:  1400.0\n",
      "from philadelphia  to  dallas:  200.0\n",
      "from philadelphia  to  columbus:  2000.0\n",
      "from philadelphia  to  boston:  1400.0\n",
      "from neworleans  to  atlanta:  0.0\n",
      "from neworleans  to  dallas:  3000.0\n",
      "from neworleans  to  columbus:  0.0\n",
      "from neworleans  to  boston:  0.0\n"
     ]
    }
   ],
   "source": [
    "for s in supply_nodes, d in demand_nodes \n",
    "    println(\"from $s  to  $d:  \" , x_star[s,d])\n",
    "end"
   ]
  },
  {
   "cell_type": "code",
   "execution_count": null,
   "id": "deaad11e",
   "metadata": {},
   "outputs": [],
   "source": []
  }
 ],
 "metadata": {
  "kernelspec": {
   "display_name": "Julia 1.8.4",
   "language": "julia",
   "name": "julia-1.8"
  },
  "language_info": {
   "file_extension": ".jl",
   "mimetype": "application/julia",
   "name": "julia",
   "version": "1.8.4"
  }
 },
 "nbformat": 4,
 "nbformat_minor": 5
}

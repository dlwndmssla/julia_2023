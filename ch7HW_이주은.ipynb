{
 "cells": [
  {
   "cell_type": "code",
   "execution_count": 2,
   "id": "f9f5d0c3",
   "metadata": {},
   "outputs": [],
   "source": [
    "using PyPlot\n",
    "using LinearAlgebra"
   ]
  },
  {
   "cell_type": "code",
   "execution_count": 3,
   "id": "6b64edc2",
   "metadata": {
    "scrolled": true
   },
   "outputs": [
    {
     "data": {
      "text/plain": [
       "affine_scaling (generic function with 1 method)"
      ]
     },
     "execution_count": 3,
     "metadata": {},
     "output_type": "execute_result"
    }
   ],
   "source": [
    "function affine_scaling(c,A,b, x0; beta = 0.5, epsilon = 1e-9, max_iter = 1000)\n",
    "    \n",
    "    x1_traj = []\n",
    "    x2_traj = []\n",
    "    \n",
    "    x = x0\n",
    "    \n",
    "    for i in 1:max_iter\n",
    "        push!(x1_traj, x[1])\n",
    "        push!(x2_traj, x[2])\n",
    "        \n",
    "        X = Diagonal(x)\n",
    "        p = inv(A*X^2*A')*A*X^2*c\n",
    "        r = c-A'*p\n",
    "        \n",
    "        if minimum(r) >= 0 && dot(x,r) < epsilon\n",
    "            break\n",
    "        end\n",
    "        \n",
    "        x = x - beta* X^2*r/norm(X*r)\n",
    "    end\n",
    "   \n",
    "    \n",
    "    return x1_traj,x2_traj\n",
    "\n",
    "end"
   ]
  },
  {
   "cell_type": "code",
   "execution_count": null,
   "id": "30f4f38e",
   "metadata": {},
   "outputs": [],
   "source": []
  },
  {
   "cell_type": "code",
   "execution_count": 10,
   "id": "137bede2",
   "metadata": {},
   "outputs": [
    {
     "data": {
      "text/plain": [
       "4-element Vector{Float64}:\n",
       " 2.5\n",
       " 0.1\n",
       " 0.9\n",
       " 3.3"
      ]
     },
     "execution_count": 10,
     "metadata": {},
     "output_type": "execute_result"
    }
   ],
   "source": [
    "\n",
    "#=\n",
    "\n",
    "=#\n",
    "\n",
    "c=[-3,-2, 0, 0 ]\n",
    "A=[\n",
    "2 1 1 0 ;\n",
    "1 2 0 1\n",
    "]\n",
    "\n",
    "b=[6 ,6]\n",
    "\n",
    "x1 = 2.5\n",
    "x2 = 0.1\n",
    "x0 = [x1,x2, 6-2*x1-1*x2,6-1*x1-2*x2]\n"
   ]
  },
  {
   "cell_type": "code",
   "execution_count": 5,
   "id": "76d75c58",
   "metadata": {},
   "outputs": [
    {
     "data": {
      "text/plain": [
       "primal_path_following (generic function with 1 method)"
      ]
     },
     "execution_count": 5,
     "metadata": {},
     "output_type": "execute_result"
    }
   ],
   "source": [
    "function primal_path_following(c,A,b, x0; mu=0.9, alpha=0.9, epsilon = 1e-9, max_iter = 1000)\n",
    "    x1_traj = []\n",
    "    x2_traj = []\n",
    "    \n",
    "    x = x0\n",
    "    e = ones(length(x),1)\n",
    "    n = length(x)\n",
    "    m = length(b)\n",
    "    \n",
    "    for i = 1:max_iter\n",
    "        push!(x1_traj, x[1])\n",
    "        push!(x2_traj, x[2])\n",
    "        \n",
    "        X = Diagonal(x)\n",
    "        mu = alpha * mu\n",
    "        \n",
    "        LHS = [mu*inv(X)^2      -A'      ;\n",
    "                A             zeros(m,m)  ]\n",
    "        \n",
    "        \n",
    "        RHS = [mu*inv(X)*e - c ;\n",
    "             zeros(m,1)]\n",
    "        sol = LHS \\ RHS\n",
    "        \n",
    "        d = sol[1:n]\n",
    "        p = sol[n+1:end]\n",
    "        x = x+d\n",
    "        s = c -A'*p\n",
    "        \n",
    "        if dot(s,x) < epsilon\n",
    "            break\n",
    "        end\n",
    "    end\n",
    "\n",
    "    return x1_traj, x2_traj\n",
    "    \n",
    "end"
   ]
  },
  {
   "cell_type": "code",
   "execution_count": 6,
   "id": "ea1f55ad",
   "metadata": {},
   "outputs": [
    {
     "data": {
      "text/plain": [
       "primal_path_following (generic function with 1 method)"
      ]
     },
     "execution_count": 6,
     "metadata": {},
     "output_type": "execute_result"
    }
   ],
   "source": [
    "using LinearAlgebra\n",
    "\n",
    "function primal_path_following(c,A,b,x0;\n",
    "            mu=0.9, alpha=0.9, epsilon=1e-9, max_iter=1000)\n",
    "  # Preparing variables for the trajectories\n",
    "  x1_traj = []\n",
    "  x2_traj = []\n",
    "\n",
    "  # Initialization\n",
    "  x = x0\n",
    "  e = ones(length(x),1)\n",
    "  n = length(x)\n",
    "  m = length(b)\n",
    "\n",
    "  for i=1:max_iter\n",
    "    # Recording the trajectories of x1 and x2\n",
    "    push!(x1_traj, x[1])\n",
    "    push!(x2_traj, x[2])\n",
    "\n",
    "    # Computing\n",
    "    X = Diagonal(x)\n",
    "    mu = alpha * mu\n",
    "\n",
    "    # Solving the linear system\n",
    "    LHS = [ mu*inv(X)^2       -A'     ;\n",
    "               A          zeros(m,m)  ]\n",
    "    RHS = [ mu*inv(X)*e - c ;\n",
    "            zeros(m,1) ]\n",
    "    sol = LHS \\ RHS\n",
    "\n",
    "    # Update\n",
    "    d = sol[1:n]\n",
    "    p = sol[n+1:end]\n",
    "    x = x + d\n",
    "    s = c - A'*p\n",
    "\n",
    "    # Optimality check\n",
    "    if dot(s,x) < epsilon\n",
    "      break\n",
    "    end\n",
    "  end\n",
    "\n",
    "  return x1_traj, x2_traj\n",
    "end"
   ]
  },
  {
   "cell_type": "code",
   "execution_count": null,
   "id": "86c69937",
   "metadata": {},
   "outputs": [],
   "source": []
  },
  {
   "cell_type": "code",
   "execution_count": 7,
   "id": "93f9b4e6",
   "metadata": {},
   "outputs": [
    {
     "data": {
      "image/png": "[encoded data removed]",
      "text/plain": [
       "Figure(PyObject <Figure size 640x480 with 1 Axes>)"
      ]
     },
     "metadata": {},
     "output_type": "display_data"
    },
    {
     "data": {
      "text/plain": [
       "PyObject <matplotlib.legend.Legend object at 0x0000021724777F70>"
      ]
     },
     "execution_count": 7,
     "metadata": {},
     "output_type": "execute_result"
    }
   ],
   "source": [
    "#=\n",
    "\n",
    "=#\n",
    "\n",
    "c=[-8, -5, 0, 0, 0, 0 ]\n",
    "A=[\n",
    "2 4 1 0 0 0;\n",
    "1 -3  0 1 0 0;\n",
    "2 -1  0 0 1 0;\n",
    "-1 4  0 0 0 1\n",
    "]\n",
    "\n",
    "b=[80, 4, 20, 40 ]\n",
    "\n",
    "x1 = 2.93\n",
    "x2 = 1.08\n",
    "x0 = [x1,x2,80-(4*x2+2*x1),4-(-3*x2+1*x1),\n",
    "    20-(-1*x2+2*x1), 40-(4*x2-1*x1)]\n",
    "\n",
    "x1_traj_a,x2_traj_a = affine_scaling(c,A,b, x0)\n",
    "\n",
    "x1_traj_p,x2_traj_p = primal_path_following(c,A,b, x0)\n",
    "fig = figure()\n",
    "plot(x1_traj_a,x2_traj_a,\"o-\", label = \"Affine\")\n",
    "\n",
    "plot(x1_traj_p,x2_traj_p,\"*-\", label = \"primal\")\n",
    "legend(loc = \"upper right\")\n"
   ]
  },
  {
   "cell_type": "code",
   "execution_count": 8,
   "id": "a80b72ce",
   "metadata": {},
   "outputs": [],
   "source": [
    "#=\n",
    "\n",
    "for j in 0.1:0.1:10\n",
    "    x1 =  j\n",
    "        print(x1)\n",
    "    for i  in 0.1:0.1:10\n",
    "\n",
    "        x2 =  i\n",
    "        print(x2)\n",
    "        x1_traj_p,x2_traj_p = primal_path_following(c,A,b, x0)\n",
    "        print(x1_traj_p,x2_traj_p)\n",
    "        println(\"           \")\n",
    "        print(plot(x1_traj_p,x2_traj_p,\"*-\", label = \"primal\"))\n",
    "    end\n",
    "end\n",
    "\n",
    "=#"
   ]
  },
  {
   "cell_type": "code",
   "execution_count": 11,
   "id": "87a23680",
   "metadata": {},
   "outputs": [
    {
     "data": {
      "image/png": "[encoded data removed]",
      "text/plain": [
       "Figure(PyObject <Figure size 640x480 with 1 Axes>)"
      ]
     },
     "metadata": {},
     "output_type": "display_data"
    },
    {
     "data": {
      "text/plain": [
       "PyObject <matplotlib.legend.Legend object at 0x0000021731E6D930>"
      ]
     },
     "execution_count": 11,
     "metadata": {},
     "output_type": "execute_result"
    }
   ],
   "source": [
    "x1= 2.93\n",
    "x2 = 1.08\n",
    "\n",
    "x1_traj_a,x2_traj_a = affine_scaling(c,A,b, x0)\n",
    "\n",
    "x1_traj_p,x2_traj_p = primal_path_following(c,A,b, x0)\n",
    "fig = figure()\n",
    "plot(x1_traj_a,x2_traj_a,\"o-\", label = \"Affine\")\n",
    "\n",
    "plot(x1_traj_p,x2_traj_p,\"*-\", label = \"primal\")\n",
    "legend(loc = \"upper right\")\n"
   ]
  },
  {
   "cell_type": "code",
   "execution_count": null,
   "id": "6a4f7ad7",
   "metadata": {},
   "outputs": [],
   "source": []
  },
  {
   "cell_type": "code",
   "execution_count": null,
   "id": "24076cd5",
   "metadata": {},
   "outputs": [],
   "source": []
  }
 ],
 "metadata": {
  "kernelspec": {
   "display_name": "Julia 1.8.4",
   "language": "julia",
   "name": "julia-1.8"
  },
  "language_info": {
   "file_extension": ".jl",
   "mimetype": "application/julia",
   "name": "julia",
   "version": "1.8.4"
  }
 },
 "nbformat": 4,
 "nbformat_minor": 5
}

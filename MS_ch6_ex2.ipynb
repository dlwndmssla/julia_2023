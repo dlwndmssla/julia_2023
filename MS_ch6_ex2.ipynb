{
 "cells": [
  {
   "cell_type": "code",
   "execution_count": 9,
   "id": "216d789e",
   "metadata": {},
   "outputs": [
    {
     "data": {
      "text/plain": [
       "4×5 Matrix{Any}:\n",
       "   \"\"  \"\"     25       15       10\n",
       "   \"\"  \"\"       \"des\"    \"can\"    \"st\"\n",
       " 30    \"jef\"  14        9        7\n",
       " 20    \"oma\"   8       10        5"
      ]
     },
     "execution_count": 9,
     "metadata": {},
     "output_type": "execute_result"
    }
   ],
   "source": [
    "using DelimitedFiles, GLPK, JuMP\n",
    "\n",
    "data = readdlm(\"ch6_ex2.csv\", ',')"
   ]
  },
  {
   "cell_type": "code",
   "execution_count": 10,
   "id": "b3bfacec",
   "metadata": {},
   "outputs": [
    {
     "data": {
      "text/plain": [
       "2-element Vector{Any}:\n",
       " 30\n",
       " 20"
      ]
     },
     "execution_count": 10,
     "metadata": {},
     "output_type": "execute_result"
    }
   ],
   "source": [
    "s_nodes = data[3:end, 2]\n",
    "s = data[3:end,1]"
   ]
  },
  {
   "cell_type": "code",
   "execution_count": 11,
   "id": "4e0a4bf5",
   "metadata": {},
   "outputs": [
    {
     "data": {
      "text/plain": [
       "3-element Vector{Any}:\n",
       " 25\n",
       " 15\n",
       " 10"
      ]
     },
     "execution_count": 11,
     "metadata": {},
     "output_type": "execute_result"
    }
   ],
   "source": [
    "d_nodes = data[2, 3:end]\n",
    "d = data[1,3:end]"
   ]
  },
  {
   "cell_type": "code",
   "execution_count": 12,
   "id": "b21a3ee9",
   "metadata": {},
   "outputs": [
    {
     "data": {
      "text/plain": [
       "Dict{SubString{String}, Int64} with 3 entries:\n",
       "  \"st\"  => 10\n",
       "  \"des\" => 25\n",
       "  \"can\" => 15"
      ]
     },
     "execution_count": 12,
     "metadata": {},
     "output_type": "execute_result"
    }
   ],
   "source": [
    "s_dict = Dict(s_nodes .=>s)\n",
    "d_dict = Dict(d_nodes .=>d)"
   ]
  },
  {
   "cell_type": "code",
   "execution_count": 14,
   "id": "282670ee",
   "metadata": {},
   "outputs": [
    {
     "data": {
      "text/plain": [
       "2×3 Matrix{Any}:\n",
       " 14   9  7\n",
       "  8  10  5"
      ]
     },
     "execution_count": 14,
     "metadata": {},
     "output_type": "execute_result"
    }
   ],
   "source": [
    "c = data[3:end, 3:end]"
   ]
  },
  {
   "cell_type": "code",
   "execution_count": 29,
   "id": "07f89bfa",
   "metadata": {},
   "outputs": [
    {
     "data": {
      "text/plain": [
       "Dict{Tuple{SubString{String}, SubString{String}}, Int64} with 6 entries:\n",
       "  (\"jef\", \"st\")  => 7\n",
       "  (\"oma\", \"st\")  => 5\n",
       "  (\"jef\", \"des\") => 14\n",
       "  (\"jef\", \"can\") => 9\n",
       "  (\"oma\", \"can\") => 10\n",
       "  (\"oma\", \"des\") => 8"
      ]
     },
     "execution_count": 29,
     "metadata": {},
     "output_type": "execute_result"
    }
   ],
   "source": [
    "c_dict = Dict((s_nodes[i], d_nodes[j]) => c[i,j] for i in 1:length(s_nodes), j in 1:length(d_nodes))"
   ]
  },
  {
   "cell_type": "code",
   "execution_count": 30,
   "id": "b377c40a",
   "metadata": {},
   "outputs": [
    {
     "data": {
      "text/plain": [
       "A JuMP Model\n",
       "Feasibility problem with:\n",
       "Variables: 0\n",
       "Model mode: AUTOMATIC\n",
       "CachingOptimizer state: EMPTY_OPTIMIZER\n",
       "Solver name: GLPK"
      ]
     },
     "execution_count": 30,
     "metadata": {},
     "output_type": "execute_result"
    }
   ],
   "source": [
    "tp = Model(GLPK.Optimizer)"
   ]
  },
  {
   "cell_type": "code",
   "execution_count": 31,
   "id": "f9070b1d",
   "metadata": {},
   "outputs": [
    {
     "data": {
      "text/plain": [
       "2-dimensional DenseAxisArray{VariableRef,2,...} with index sets:\n",
       "    Dimension 1, Any[\"jef\", \"oma\"]\n",
       "    Dimension 2, Any[\"des\", \"can\", \"st\"]\n",
       "And data, a 2×3 Matrix{VariableRef}:\n",
       " x[jef,des]  x[jef,can]  x[jef,st]\n",
       " x[oma,des]  x[oma,can]  x[oma,st]"
      ]
     },
     "execution_count": 31,
     "metadata": {},
     "output_type": "execute_result"
    }
   ],
   "source": [
    "@variable(tp, 0 <= x[s_nodes, d_nodes])\n"
   ]
  },
  {
   "cell_type": "code",
   "execution_count": 34,
   "id": "dcd18e3c",
   "metadata": {},
   "outputs": [
    {
     "data": {
      "text/latex": [
       "$$ 14 x_{jef,des} + 9 x_{jef,can} + 7 x_{jef,st} + 8 x_{oma,des} + 10 x_{oma,can} + 5 x_{oma,st} $$"
      ],
      "text/plain": [
       "14 x[jef,des] + 9 x[jef,can] + 7 x[jef,st] + 8 x[oma,des] + 10 x[oma,can] + 5 x[oma,st]"
      ]
     },
     "execution_count": 34,
     "metadata": {},
     "output_type": "execute_result"
    }
   ],
   "source": [
    "@objective(tp,Min, sum(x[i,j]*c_dict[i,j] for i in s_nodes, j in d_nodes))"
   ]
  },
  {
   "cell_type": "code",
   "execution_count": 39,
   "id": "d3282379",
   "metadata": {},
   "outputs": [],
   "source": [
    "for i in s_nodes\n",
    "    @constraint(tp, sum(x[i,j] for j in d_nodes) == s_dict[i])\n",
    "end\n",
    "\n",
    "\n",
    "for j in d_nodes\n",
    "    @constraint(tp, sum(x[i,j] for i in s_nodes) == d_dict[j])\n",
    "end"
   ]
  },
  {
   "cell_type": "code",
   "execution_count": 40,
   "id": "70ff989e",
   "metadata": {},
   "outputs": [
    {
     "data": {
      "text/latex": [
       "$$ \\begin{aligned}\n",
       "\\min\\quad & 14 x_{jef,des} + 9 x_{jef,can} + 7 x_{jef,st} + 8 x_{oma,des} + 10 x_{oma,can} + 5 x_{oma,st}\\\\\n",
       "\\text{Subject to} \\quad & x_{jef,des} + x_{jef,can} + x_{jef,st} = 30.0\\\\\n",
       " & x_{oma,des} + x_{oma,can} + x_{oma,st} = 20.0\\\\\n",
       " & x_{jef,des} + x_{oma,des} = 25.0\\\\\n",
       " & x_{jef,can} + x_{oma,can} = 15.0\\\\\n",
       " & x_{jef,st} + x_{oma,st} = 10.0\\\\\n",
       " & x_{jef,des} \\geq 0.0\\\\\n",
       " & x_{oma,des} \\geq 0.0\\\\\n",
       " & x_{jef,can} \\geq 0.0\\\\\n",
       " & x_{oma,can} \\geq 0.0\\\\\n",
       " & x_{jef,st} \\geq 0.0\\\\\n",
       " & x_{oma,st} \\geq 0.0\\\\\n",
       "\\end{aligned} $$"
      ]
     },
     "metadata": {},
     "output_type": "display_data"
    }
   ],
   "source": [
    "print(tp)"
   ]
  },
  {
   "cell_type": "code",
   "execution_count": 51,
   "id": "79b3c06a",
   "metadata": {},
   "outputs": [],
   "source": [
    "JuMP.optimize!(tp)"
   ]
  },
  {
   "cell_type": "code",
   "execution_count": 52,
   "id": "fd4bc4db",
   "metadata": {},
   "outputs": [
    {
     "data": {
      "text/plain": [
       "2-dimensional DenseAxisArray{Float64,2,...} with index sets:\n",
       "    Dimension 1, Any[\"jef\", \"oma\"]\n",
       "    Dimension 2, Any[\"des\", \"can\", \"st\"]\n",
       "And data, a 2×3 Matrix{Float64}:\n",
       "  5.0  15.0  10.0\n",
       " 20.0   0.0   0.0"
      ]
     },
     "execution_count": 52,
     "metadata": {},
     "output_type": "execute_result"
    }
   ],
   "source": [
    "x_star = JuMP.value.(x)"
   ]
  },
  {
   "cell_type": "code",
   "execution_count": 53,
   "id": "39df2de8",
   "metadata": {},
   "outputs": [
    {
     "data": {
      "text/plain": [
       "435.0"
      ]
     },
     "execution_count": 53,
     "metadata": {},
     "output_type": "execute_result"
    }
   ],
   "source": [
    "tc = sum(x_star[i,j]*c_dict[i,j] for i in s_nodes, j in d_nodes)"
   ]
  },
  {
   "cell_type": "code",
   "execution_count": null,
   "id": "e8f91168",
   "metadata": {},
   "outputs": [],
   "source": []
  }
 ],
 "metadata": {
  "kernelspec": {
   "display_name": "Julia 1.8.4",
   "language": "julia",
   "name": "julia-1.8"
  },
  "language_info": {
   "file_extension": ".jl",
   "mimetype": "application/julia",
   "name": "julia",
   "version": "1.8.4"
  }
 },
 "nbformat": 4,
 "nbformat_minor": 5
}

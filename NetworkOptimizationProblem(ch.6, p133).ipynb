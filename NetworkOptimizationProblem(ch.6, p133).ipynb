{
 "cells": [
  {
   "cell_type": "code",
   "execution_count": 1,
   "id": "e3d998d5",
   "metadata": {},
   "outputs": [
    {
     "data": {
      "text/plain": [
       "1×4 Matrix{AbstractString}:\n",
       " \"start node i\"  \" end node j\"  \" c_ij\"  \" u_ij\""
      ]
     },
     "execution_count": 1,
     "metadata": {},
     "output_type": "execute_result"
    }
   ],
   "source": [
    "using DelimitedFiles\n",
    "network_data_file = \"simple_network.csv\"\n",
    "network_data = readdlm(network_data_file,',',header=true)\n",
    "data = network_data[1]\n",
    "header = network_data[2]"
   ]
  },
  {
   "cell_type": "code",
   "execution_count": 2,
   "id": "3a24304b",
   "metadata": {},
   "outputs": [
    {
     "data": {
      "text/plain": [
       "8-element Vector{Float64}:\n",
       " Inf\n",
       " Inf\n",
       " Inf\n",
       " Inf\n",
       "  1.0\n",
       " Inf\n",
       " Inf\n",
       " Inf"
      ]
     },
     "execution_count": 2,
     "metadata": {},
     "output_type": "execute_result"
    }
   ],
   "source": [
    "start_node = round.(Int64, data[:,1])\n",
    "end_node = round.(Int64, data[:,2])\n",
    "c = data[:,3]\n",
    "u = data[:,4]\n",
    "\n",
    "#round는 1.0을 1로 만들어 준다\n",
    "#Inf는 무한이다. type은 num"
   ]
  },
  {
   "cell_type": "code",
   "execution_count": 3,
   "id": "dbd9b617",
   "metadata": {},
   "outputs": [
    {
     "data": {
      "text/plain": [
       "8-element Vector{Float64}:\n",
       " Inf\n",
       " Inf\n",
       " Inf\n",
       " Inf\n",
       "  1.0\n",
       " Inf\n",
       " Inf\n",
       " Inf"
      ]
     },
     "execution_count": 3,
     "metadata": {},
     "output_type": "execute_result"
    }
   ],
   "source": [
    "u"
   ]
  },
  {
   "cell_type": "code",
   "execution_count": 4,
   "id": "9614e965",
   "metadata": {},
   "outputs": [
    {
     "data": {
      "text/plain": [
       "8-element Vector{Float64}:\n",
       " 2.0\n",
       " 5.0\n",
       " 3.0\n",
       " 1.0\n",
       " 2.0\n",
       " 0.0\n",
       " 2.0\n",
       " 4.0"
      ]
     },
     "execution_count": 4,
     "metadata": {},
     "output_type": "execute_result"
    }
   ],
   "source": [
    "c"
   ]
  },
  {
   "cell_type": "code",
   "execution_count": 5,
   "id": "002160bb",
   "metadata": {},
   "outputs": [
    {
     "data": {
      "text/plain": [
       "5-element Vector{Float64}:\n",
       " -5.0\n",
       " 10.0\n",
       "  0.0\n",
       " -2.0\n",
       " -3.0"
      ]
     },
     "execution_count": 5,
     "metadata": {},
     "output_type": "execute_result"
    }
   ],
   "source": [
    "using DelimitedFiles\n",
    "network_data2_file = \"simple_network_b.csv\"\n",
    "network_data2 = readdlm(network_data2_file,',',header=true)\n",
    "data2 = network_data2[1]\n",
    "header2 = network_data2[2]\n",
    "#책에는 hearder라고 되어있는데 오타인것 같음\n",
    "\n",
    "b = data2[:,2]"
   ]
  },
  {
   "cell_type": "code",
   "execution_count": 6,
   "id": "2a949ca6",
   "metadata": {},
   "outputs": [
    {
     "data": {
      "text/plain": [
       "8"
      ]
     },
     "execution_count": 6,
     "metadata": {},
     "output_type": "execute_result"
    }
   ],
   "source": [
    "no_node = max(maximum(start_node), maximum(end_node))\n",
    "no_link = length(start_node)"
   ]
  },
  {
   "cell_type": "code",
   "execution_count": 7,
   "id": "e60c28d0",
   "metadata": {},
   "outputs": [
    {
     "data": {
      "text/plain": [
       "((1, 2), (1, 3), (2, 3), (3, 4), (3, 5), (4, 1), (4, 5), (5, 2))"
      ]
     },
     "execution_count": 7,
     "metadata": {},
     "output_type": "execute_result"
    }
   ],
   "source": [
    "nodes = 1:no_node\n",
    "links = Tuple((start_node[i],end_node[i]) for i in 1:no_link)\n",
    "    #links를 따로 프린트 하지 않아도 알아서 프린트 해줌"
   ]
  },
  {
   "cell_type": "code",
   "execution_count": 8,
   "id": "d7c0f3cc",
   "metadata": {},
   "outputs": [
    {
     "data": {
      "text/plain": [
       "Dict{Tuple{Int64, Int64}, Float64} with 8 entries:\n",
       "  (4, 5) => Inf\n",
       "  (1, 2) => Inf\n",
       "  (5, 2) => Inf\n",
       "  (1, 3) => Inf\n",
       "  (4, 1) => Inf\n",
       "  (3, 4) => Inf\n",
       "  (2, 3) => Inf\n",
       "  (3, 5) => 1.0"
      ]
     },
     "execution_count": 8,
     "metadata": {},
     "output_type": "execute_result"
    }
   ],
   "source": [
    "c_dict = Dict(links .=> c)\n",
    "u_dict = Dict(links .=> u)\n"
   ]
  },
  {
   "cell_type": "code",
   "execution_count": 9,
   "id": "396cf535",
   "metadata": {},
   "outputs": [
    {
     "data": {
      "text/plain": [
       "Dict{Tuple{Int64, Int64}, Float64} with 8 entries:\n",
       "  (4, 5) => 2.0\n",
       "  (1, 2) => 2.0\n",
       "  (5, 2) => 4.0\n",
       "  (1, 3) => 5.0\n",
       "  (4, 1) => 0.0\n",
       "  (3, 4) => 1.0\n",
       "  (2, 3) => 3.0\n",
       "  (3, 5) => 2.0"
      ]
     },
     "execution_count": 9,
     "metadata": {},
     "output_type": "execute_result"
    }
   ],
   "source": [
    "c_dict #책이랑 순서가 다르게 나오는데 왜그런지는 모르겠다\n"
   ]
  },
  {
   "cell_type": "code",
   "execution_count": 10,
   "id": "eff32ba0",
   "metadata": {},
   "outputs": [
    {
     "data": {
      "text/latex": [
       "$$ 2 x_{(1, 2)} + 5 x_{(1, 3)} + 3 x_{(2, 3)} + x_{(3, 4)} + 2 x_{(3, 5)} + 2 x_{(4, 5)} + 4 x_{(5, 2)} $$"
      ],
      "text/plain": [
       "2 x[(1, 2)] + 5 x[(1, 3)] + 3 x[(2, 3)] + x[(3, 4)] + 2 x[(3, 5)] + 2 x[(4, 5)] + 4 x[(5, 2)]"
      ]
     },
     "execution_count": 10,
     "metadata": {},
     "output_type": "execute_result"
    }
   ],
   "source": [
    "using JuMP, GLPK\n",
    "\n",
    "mcnf = Model(GLPK.Optimizer)\n",
    "@variable(mcnf, 0<=x[link in links] <=u_dict[link])\n",
    "\n",
    "@objective(mcnf, Min, sum(c_dict[link]*x[link]  for link in links ))"
   ]
  },
  {
   "cell_type": "code",
   "execution_count": 11,
   "id": "20269aef",
   "metadata": {},
   "outputs": [],
   "source": [
    "for i in nodes\n",
    "    @constraint(mcnf, sum(x[(ii,j)] for (ii,j) in links if ii==i) - sum(x[(j,ii)] for (j,ii) in links if ii==i) == b[i] )\n",
    "end"
   ]
  },
  {
   "cell_type": "code",
   "execution_count": 12,
   "id": "df2c3838",
   "metadata": {},
   "outputs": [
    {
     "data": {
      "text/latex": [
       "$$ \\begin{aligned}\n",
       "\\min\\quad & 2 x_{(1, 2)} + 5 x_{(1, 3)} + 3 x_{(2, 3)} + x_{(3, 4)} + 2 x_{(3, 5)} + 2 x_{(4, 5)} + 4 x_{(5, 2)}\\\\\n",
       "\\text{Subject to} \\quad & x_{(1, 2)} + x_{(1, 3)} - x_{(4, 1)} = -5.0\\\\\n",
       " & -x_{(1, 2)} + x_{(2, 3)} - x_{(5, 2)} = 10.0\\\\\n",
       " & -x_{(1, 3)} - x_{(2, 3)} + x_{(3, 4)} + x_{(3, 5)} = 0.0\\\\\n",
       " & -x_{(3, 4)} + x_{(4, 1)} + x_{(4, 5)} = -2.0\\\\\n",
       " & -x_{(3, 5)} - x_{(4, 5)} + x_{(5, 2)} = -3.0\\\\\n",
       " & x_{(1, 2)} \\geq 0.0\\\\\n",
       " & x_{(1, 3)} \\geq 0.0\\\\\n",
       " & x_{(2, 3)} \\geq 0.0\\\\\n",
       " & x_{(3, 4)} \\geq 0.0\\\\\n",
       " & x_{(3, 5)} \\geq 0.0\\\\\n",
       " & x_{(4, 1)} \\geq 0.0\\\\\n",
       " & x_{(4, 5)} \\geq 0.0\\\\\n",
       " & x_{(5, 2)} \\geq 0.0\\\\\n",
       " & x_{(3, 5)} \\leq 1.0\\\\\n",
       "\\end{aligned} $$"
      ]
     },
     "metadata": {},
     "output_type": "display_data"
    }
   ],
   "source": [
    "print(mcnf)"
   ]
  },
  {
   "cell_type": "code",
   "execution_count": 13,
   "id": "dcce3ef4",
   "metadata": {},
   "outputs": [
    {
     "data": {
      "text/plain": [
       "1-dimensional DenseAxisArray{Float64,1,...} with index sets:\n",
       "    Dimension 1, [(1, 2), (1, 3), (2, 3), (3, 4), (3, 5), (4, 1), (4, 5), (5, 2)]\n",
       "And data, a 8-element Vector{Float64}:\n",
       "  0.0\n",
       "  0.0\n",
       " 10.0\n",
       "  9.0\n",
       "  1.0\n",
       "  5.0\n",
       "  2.0\n",
       "  0.0"
      ]
     },
     "execution_count": 13,
     "metadata": {},
     "output_type": "execute_result"
    }
   ],
   "source": [
    "JuMP.optimize!(mcnf)\n",
    "\n",
    "obj = JuMP.objective_value(mcnf)\n",
    "x_star = JuMP.value.(x)"
   ]
  },
  {
   "cell_type": "code",
   "execution_count": 14,
   "id": "7d58bead",
   "metadata": {},
   "outputs": [
    {
     "data": {
      "text/plain": [
       "1-dimensional DenseAxisArray{Float64,1,...} with index sets:\n",
       "    Dimension 1, [(1, 2), (1, 3), (2, 3), (3, 4), (3, 5), (4, 1), (4, 5), (5, 2)]\n",
       "And data, a 8-element Vector{Float64}:\n",
       "  0.0\n",
       "  0.0\n",
       " 10.0\n",
       "  9.0\n",
       "  1.0\n",
       "  5.0\n",
       "  2.0\n",
       "  0.0"
      ]
     },
     "execution_count": 14,
     "metadata": {},
     "output_type": "execute_result"
    }
   ],
   "source": [
    "x_star = JuMP.value.(x)"
   ]
  },
  {
   "cell_type": "code",
   "execution_count": 15,
   "id": "1e42b826",
   "metadata": {},
   "outputs": [
    {
     "name": "stdout",
     "output_type": "stream",
     "text": [
      "The optimal objective function value is = 45.0\n",
      "[0.0, 0.0, 10.0, 9.0, 1.0, 5.0, 2.0, 0.0]\n"
     ]
    }
   ],
   "source": [
    "println(\"The optimal objective function value is = $obj\")\n",
    "println(x_star.data)"
   ]
  },
  {
   "cell_type": "code",
   "execution_count": 16,
   "id": "831ee65c",
   "metadata": {},
   "outputs": [],
   "source": [
    "using NBInclude, MDInclude"
   ]
  },
  {
   "cell_type": "code",
   "execution_count": 23,
   "id": "95c463e2",
   "metadata": {},
   "outputs": [
    {
     "data": {
      "text/plain": [
       "minimal_cost_network_flow (generic function with 1 method)"
      ]
     },
     "execution_count": 23,
     "metadata": {},
     "output_type": "execute_result"
    }
   ],
   "source": [
    "include(\"mcnf.csv\")"
   ]
  },
  {
   "cell_type": "code",
   "execution_count": 24,
   "id": "07434eba",
   "metadata": {},
   "outputs": [
    {
     "data": {
      "text/plain": [
       "(1-dimensional DenseAxisArray{Float64,1,...} with index sets:\n",
       "    Dimension 1, [(1, 2), (1, 3), (2, 3), (3, 4), (3, 5), (4, 1), (4, 5), (5, 2)]\n",
       "And data, a 8-element Vector{Float64}:\n",
       "  0.0\n",
       "  0.0\n",
       " 10.0\n",
       "  9.0\n",
       "  1.0\n",
       "  5.0\n",
       "  2.0\n",
       "  0.0, 45.0)"
      ]
     },
     "execution_count": 24,
     "metadata": {},
     "output_type": "execute_result"
    }
   ],
   "source": [
    "x_star, obj = minimal_cost_network_flow(nodes, links, c_dict,u_dict,b)"
   ]
  },
  {
   "cell_type": "code",
   "execution_count": null,
   "id": "8212495d",
   "metadata": {},
   "outputs": [],
   "source": [
    "using DelimitedFiles\n",
    "network_data_file = \"simple_network.csv\"\n",
    "network_data = readdlm(network_data_file,',',header=true)\n",
    "data = network_data[1]\n",
    "header = network_data[2]\n",
    "\n",
    "start_node = round.(Int64, data[:,1])\n",
    "end_node = round.(Int64, data[:,2])\n",
    "c = data[:,3]\n",
    "u = data[:,4]\n",
    "\n",
    "#round는 1.0을 1로 만들어 준다\n",
    "#Inf는 무한이다. type은 num\n",
    "\n",
    "using DelimitedFiles\n",
    "network_data2_file = \"simple_network_b.csv\"\n",
    "network_data2 = readdlm(network_data2_file,',',header=true)\n",
    "data2 = network_data2[1]\n",
    "header2 = network_data2[2]\n",
    "#책에는 hearder라고 되어있는데 오타인것 같음\n",
    "\n",
    "b = data2[:,2]\n",
    "\n",
    "no_node = max(maximum(start_node), maximum(end_node))\n",
    "no_link = length(start_node)\n",
    "\n",
    "nodes = 1:no_node\n",
    "links = Tuple((start_node[i],end_node[i]) for i in 1:no_link)\n",
    "    #links를 따로 프린트 하지 않아도 알아서 프린트 해줌\n",
    "\n",
    "c_dict = Dict(links .=> c)\n",
    "u_dict = Dict(links .=> u)\n",
    "\n",
    "using JuMP, GLPK\n",
    "\n",
    "mcnf = Model(GLPK.Optimizer)\n",
    "@variable(mcnf, 0<=x[link in links] <=u_dict[link])\n",
    "\n",
    "@objective(mcnf, Min, sum(c_dict[link]*x[link]  for link in links ))\n",
    "\n",
    "for i in nodes\n",
    "    @constraint(mcnf, sum(x[(ii,j)] for (ii,j) in links if ii==i) - sum(x[(j,ii)] for (j,ii) in links if ii==i) == b[i] )\n",
    "end\n",
    "\n",
    "print(mcnf)\n",
    "\n",
    "JuMP.optimize!(mcnf)\n",
    "\n",
    "obj = JuMP.objective_value(mcnf)\n",
    "x_star = JuMP.value.(x)\n",
    "\n",
    "x_star = JuMP.value.(x)\n",
    "\n",
    "println(\"The optimal objective function value is = $obj\")\n",
    "println(x_star.data)\n",
    "\n",
    "using NBInclude, MDInclude\n",
    "\n",
    "include(\"mcnf.csv\")\n",
    "\n",
    "x_star, obj = minimal_cost_network_flow(nodes, links, c_dict,u_dict,b)"
   ]
  }
 ],
 "metadata": {
  "kernelspec": {
   "display_name": "Julia 1.8.4",
   "language": "julia",
   "name": "julia-1.8"
  },
  "language_info": {
   "file_extension": ".jl",
   "mimetype": "application/julia",
   "name": "julia",
   "version": "1.8.4"
  }
 },
 "nbformat": 4,
 "nbformat_minor": 5
}

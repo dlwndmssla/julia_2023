{
 "cells": [
  {
   "cell_type": "code",
   "execution_count": 1,
   "id": "25c7da84",
   "metadata": {},
   "outputs": [
    {
     "data": {
      "text/plain": [
       "([1.0 2.0 2.0; 1.0 3.0 5.0; … ; 6.0 5.0 1.0; 6.0 7.0 7.0], AbstractString[\"start node i \" \" end node j\" \" c_ij\"])"
      ]
     },
     "execution_count": 1,
     "metadata": {},
     "output_type": "execute_result"
    }
   ],
   "source": [
    "using DelimitedFiles\n",
    "network_data = readdlm(\"MS_ch6.short_p395.csv\", ',',header = true)\n"
   ]
  },
  {
   "cell_type": "code",
   "execution_count": 2,
   "id": "de131743",
   "metadata": {
    "scrolled": true
   },
   "outputs": [
    {
     "data": {
      "text/plain": [
       "19×3 Matrix{Float64}:\n",
       " 1.0  2.0  2.0\n",
       " 1.0  3.0  5.0\n",
       " 1.0  4.0  4.0\n",
       " 2.0  3.0  2.0\n",
       " 2.0  5.0  7.0\n",
       " 3.0  2.0  2.0\n",
       " 3.0  4.0  1.0\n",
       " 3.0  5.0  4.0\n",
       " 3.0  6.0  3.0\n",
       " 4.0  3.0  1.0\n",
       " 4.0  6.0  4.0\n",
       " 5.0  2.0  7.0\n",
       " 5.0  3.0  4.0\n",
       " 5.0  6.0  1.0\n",
       " 5.0  7.0  5.0\n",
       " 6.0  3.0  3.0\n",
       " 6.0  4.0  4.0\n",
       " 6.0  5.0  1.0\n",
       " 6.0  7.0  7.0"
      ]
     },
     "execution_count": 2,
     "metadata": {},
     "output_type": "execute_result"
    }
   ],
   "source": [
    "data = network_data[1]"
   ]
  },
  {
   "cell_type": "code",
   "execution_count": 3,
   "id": "438f081a",
   "metadata": {},
   "outputs": [
    {
     "data": {
      "text/plain": [
       "1×3 Matrix{AbstractString}:\n",
       " \"start node i \"  \" end node j\"  \" c_ij\""
      ]
     },
     "execution_count": 3,
     "metadata": {},
     "output_type": "execute_result"
    }
   ],
   "source": [
    "\n",
    "header = network_data[2]\n"
   ]
  },
  {
   "cell_type": "code",
   "execution_count": 4,
   "id": "14760fb3",
   "metadata": {},
   "outputs": [
    {
     "data": {
      "text/plain": [
       "19-element Vector{Int64}:\n",
       " 1\n",
       " 1\n",
       " 1\n",
       " 2\n",
       " 2\n",
       " 3\n",
       " 3\n",
       " 3\n",
       " 3\n",
       " 4\n",
       " 4\n",
       " 5\n",
       " 5\n",
       " 5\n",
       " 5\n",
       " 6\n",
       " 6\n",
       " 6\n",
       " 6"
      ]
     },
     "execution_count": 4,
     "metadata": {},
     "output_type": "execute_result"
    }
   ],
   "source": [
    "\n",
    "start_node = round.(Int64, data[:,1])\n"
   ]
  },
  {
   "cell_type": "code",
   "execution_count": 5,
   "id": "deec16e1",
   "metadata": {},
   "outputs": [
    {
     "data": {
      "text/plain": [
       "19-element Vector{Int64}:\n",
       " 2\n",
       " 3\n",
       " 4\n",
       " 3\n",
       " 5\n",
       " 2\n",
       " 4\n",
       " 5\n",
       " 6\n",
       " 3\n",
       " 6\n",
       " 2\n",
       " 3\n",
       " 6\n",
       " 7\n",
       " 3\n",
       " 4\n",
       " 5\n",
       " 7"
      ]
     },
     "execution_count": 5,
     "metadata": {},
     "output_type": "execute_result"
    }
   ],
   "source": [
    "end_node = round.(Int64, data[:,2])\n"
   ]
  },
  {
   "cell_type": "code",
   "execution_count": 6,
   "id": "3e2a97cb",
   "metadata": {},
   "outputs": [
    {
     "data": {
      "text/plain": [
       "19-element Vector{Float64}:\n",
       " 2.0\n",
       " 5.0\n",
       " 4.0\n",
       " 2.0\n",
       " 7.0\n",
       " 2.0\n",
       " 1.0\n",
       " 4.0\n",
       " 3.0\n",
       " 1.0\n",
       " 4.0\n",
       " 7.0\n",
       " 4.0\n",
       " 1.0\n",
       " 5.0\n",
       " 3.0\n",
       " 4.0\n",
       " 1.0\n",
       " 7.0"
      ]
     },
     "execution_count": 6,
     "metadata": {},
     "output_type": "execute_result"
    }
   ],
   "source": [
    "\n",
    "c = data[:,3]\n"
   ]
  },
  {
   "cell_type": "code",
   "execution_count": 8,
   "id": "26b68985",
   "metadata": {},
   "outputs": [
    {
     "data": {
      "text/plain": [
       "7"
      ]
     },
     "execution_count": 8,
     "metadata": {},
     "output_type": "execute_result"
    }
   ],
   "source": [
    "\n",
    "origin = 1\n",
    "destination = 7\n"
   ]
  },
  {
   "cell_type": "code",
   "execution_count": 9,
   "id": "40cd2c16",
   "metadata": {},
   "outputs": [
    {
     "data": {
      "text/plain": [
       "7"
      ]
     },
     "execution_count": 9,
     "metadata": {},
     "output_type": "execute_result"
    }
   ],
   "source": [
    "\n",
    "no_node = max(maximum(start_node),maximum(end_node))\n"
   ]
  },
  {
   "cell_type": "code",
   "execution_count": 10,
   "id": "254b627e",
   "metadata": {},
   "outputs": [
    {
     "data": {
      "text/plain": [
       "19"
      ]
     },
     "execution_count": 10,
     "metadata": {},
     "output_type": "execute_result"
    }
   ],
   "source": [
    "\n",
    "no_link = length(start_node)\n"
   ]
  },
  {
   "cell_type": "code",
   "execution_count": 11,
   "id": "3bbceab0",
   "metadata": {},
   "outputs": [
    {
     "data": {
      "text/plain": [
       "{7, 0} undirected simple Int64 graph"
      ]
     },
     "execution_count": 11,
     "metadata": {},
     "output_type": "execute_result"
    }
   ],
   "source": [
    "\n",
    "using LightGraphs\n",
    "graph = Graph(no_node)\n"
   ]
  },
  {
   "cell_type": "code",
   "execution_count": 12,
   "id": "f0910b30",
   "metadata": {},
   "outputs": [
    {
     "data": {
      "text/plain": [
       "7×7 Matrix{Float64}:\n",
       " Inf  Inf  Inf  Inf  Inf  Inf  Inf\n",
       " Inf  Inf  Inf  Inf  Inf  Inf  Inf\n",
       " Inf  Inf  Inf  Inf  Inf  Inf  Inf\n",
       " Inf  Inf  Inf  Inf  Inf  Inf  Inf\n",
       " Inf  Inf  Inf  Inf  Inf  Inf  Inf\n",
       " Inf  Inf  Inf  Inf  Inf  Inf  Inf\n",
       " Inf  Inf  Inf  Inf  Inf  Inf  Inf"
      ]
     },
     "execution_count": 12,
     "metadata": {},
     "output_type": "execute_result"
    }
   ],
   "source": [
    "\n",
    "distmx = Inf*ones(no_node, no_node)\n"
   ]
  },
  {
   "cell_type": "code",
   "execution_count": 13,
   "id": "782fe4bf",
   "metadata": {},
   "outputs": [],
   "source": [
    "\n",
    "for i in 1:no_link\n",
    "    add_edge!(graph, start_node[i],end_node[i])\n",
    "    distmx[start_node[i],end_node[i]] = c[i]\n",
    "end\n"
   ]
  },
  {
   "cell_type": "code",
   "execution_count": 22,
   "id": "956e3872",
   "metadata": {},
   "outputs": [
    {
     "data": {
      "text/plain": [
       "7×7 Matrix{Float64}:\n",
       " Inf   2.0   5.0   4.0  Inf   Inf   Inf\n",
       " Inf  Inf    2.0  Inf    7.0  Inf   Inf\n",
       " Inf   2.0  Inf    1.0   4.0   3.0  Inf\n",
       " Inf  Inf    1.0  Inf   Inf    4.0  Inf\n",
       " Inf   7.0   4.0  Inf   Inf    1.0   5.0\n",
       " Inf  Inf    3.0   4.0   1.0  Inf    7.0\n",
       " Inf  Inf   Inf   Inf   Inf   Inf   Inf"
      ]
     },
     "execution_count": 22,
     "metadata": {},
     "output_type": "execute_result"
    }
   ],
   "source": [
    "distmx"
   ]
  },
  {
   "cell_type": "code",
   "execution_count": 14,
   "id": "95867d27",
   "metadata": {},
   "outputs": [
    {
     "data": {
      "text/plain": [
       "LightGraphs.DijkstraState{Float64, Int64}([0, 1, 2, 1, 3, 3, 5], [0.0, 2.0, 4.0, 4.0, 8.0, 7.0, 13.0], [Int64[], Int64[], Int64[], Int64[], Int64[], Int64[], Int64[]], [1.0, 1.0, 1.0, 1.0, 2.0, 1.0, 2.0], Int64[])"
      ]
     },
     "execution_count": 14,
     "metadata": {},
     "output_type": "execute_result"
    }
   ],
   "source": [
    "\n",
    "state = dijkstra_shortest_paths(graph, origin, distmx)\n",
    "\n"
   ]
  },
  {
   "cell_type": "code",
   "execution_count": 15,
   "id": "91c98507",
   "metadata": {},
   "outputs": [
    {
     "data": {
      "text/plain": [
       "5-element Vector{Int64}:\n",
       " 1\n",
       " 2\n",
       " 3\n",
       " 5\n",
       " 7"
      ]
     },
     "execution_count": 15,
     "metadata": {},
     "output_type": "execute_result"
    }
   ],
   "source": [
    "\n",
    "path = enumerate_paths(state, destination)\n"
   ]
  },
  {
   "cell_type": "code",
   "execution_count": 29,
   "id": "7472dd50",
   "metadata": {},
   "outputs": [
    {
     "data": {
      "text/plain": [
       "4"
      ]
     },
     "execution_count": 29,
     "metadata": {},
     "output_type": "execute_result"
    }
   ],
   "source": [
    "path_length = length(path)-1"
   ]
  },
  {
   "cell_type": "code",
   "execution_count": 47,
   "id": "b53e61a5",
   "metadata": {},
   "outputs": [
    {
     "name": "stdout",
     "output_type": "stream",
     "text": [
      "13.0"
     ]
    }
   ],
   "source": [
    "print(sum(distmx[path[i],path[i+1]] for i in 1:path_length))"
   ]
  },
  {
   "cell_type": "code",
   "execution_count": 45,
   "id": "6d555494",
   "metadata": {},
   "outputs": [
    {
     "data": {
      "text/plain": [
       "5.0"
      ]
     },
     "execution_count": 45,
     "metadata": {},
     "output_type": "execute_result"
    }
   ],
   "source": [
    "tc"
   ]
  },
  {
   "cell_type": "code",
   "execution_count": null,
   "id": "a88e7d44",
   "metadata": {},
   "outputs": [],
   "source": [
    "using DelimitedFiles\n",
    "network_data = readdlm(\"MS_ch6.short_p395.csv\", ',',header = true)\n",
    "\n",
    "\n",
    "data = network_data[1]\n",
    "header = network_data[2]\n",
    "\n",
    "start_node = round.(Int64, data[:,1])\n",
    "end_node = round.(Int64, data[:,2])\n",
    "c = data[:,3]\n",
    "\n",
    "origin = 1\n",
    "destination = 7\n",
    "\n",
    "no_node = max(maximum(start_node),maximum(end_node))\n",
    "no_link = length(start_node)\n",
    "\n",
    "\n",
    "\n",
    "using LightGraphs\n",
    "graph = Graph(no_node)\n",
    "distmx = Inf*ones(no_node, no_node)\n",
    "\n",
    "for i in 1:no_link\n",
    "    add_edge!(graph, start_node[i],end_node[i])\n",
    "    distmx[start_node[i],end_node[i]] = c[i]\n",
    "end\n",
    "\n",
    "distmx\n",
    "\n",
    "state = dijkstra_shortest_paths(graph, origin, distmx)\n",
    "path = enumerate_paths(state, destination)\n",
    "\n",
    "path_length = length(path)-1\n",
    "print(sum(distmx[path[i],path[i+1]] for i in 1:path_length))"
   ]
  }
 ],
 "metadata": {
  "kernelspec": {
   "display_name": "Julia 1.8.4",
   "language": "julia",
   "name": "julia-1.8"
  },
  "language_info": {
   "file_extension": ".jl",
   "mimetype": "application/julia",
   "name": "julia",
   "version": "1.8.4"
  }
 },
 "nbformat": 4,
 "nbformat_minor": 5
}

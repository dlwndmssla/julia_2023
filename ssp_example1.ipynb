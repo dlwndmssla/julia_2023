{
 "cells": [
  {
   "cell_type": "code",
   "execution_count": 1,
   "id": "f282d98b",
   "metadata": {},
   "outputs": [],
   "source": [
    "#importing packages\n",
    "using LightGraphs, DelimitedFiles"
   ]
  },
  {
   "cell_type": "code",
   "execution_count": 2,
   "id": "e2035d8b",
   "metadata": {},
   "outputs": [
    {
     "data": {
      "text/plain": [
       "getShortestX (generic function with 1 method)"
      ]
     },
     "execution_count": 2,
     "metadata": {},
     "output_type": "execute_result"
    }
   ],
   "source": [
    "#Retrieves 0-1 'x' vector from the 'state'\n",
    "function getShortestX(state, start_node, end_node,origin, destination)\n",
    "    _x = zeros(Int, length(start_node))\n",
    "    _path = enumerate_paths(state, destination)\n",
    "    \n",
    "    for i=1:length(_path)-1\n",
    "        _start = _path[i]\n",
    "        _end = _path[i+1]\n",
    "        \n",
    "        for j=1:length(start_node)\n",
    "            if start_node[j] == _start && end_node[j]==_end\n",
    "                _x[j] = 1\n",
    "                \n",
    "                break\n",
    "            end\n",
    "            \n",
    "        end\n",
    "\n",
    "    end\n",
    "   _x \n",
    "end"
   ]
  },
  {
   "cell_type": "code",
   "execution_count": 3,
   "id": "4273b083",
   "metadata": {},
   "outputs": [
    {
     "data": {
      "text/plain": [
       "5"
      ]
     },
     "execution_count": 3,
     "metadata": {},
     "output_type": "execute_result"
    }
   ],
   "source": [
    "#data preparation\n",
    "network_data_file = \"simple_network.csv\"\n",
    "network_data = readdlm(network_data_file,',',header=true)\n",
    "data = network_data[1]\n",
    "header = network_data[2]\n",
    "\n",
    "start_node = round.(Int64, data[:,1])\n",
    "end_node = round.(Int64, data[:,2])\n",
    "c = data[:,3]\n",
    "\n",
    "origin = 1\n",
    "destination =5"
   ]
  },
  {
   "cell_type": "code",
   "execution_count": 4,
   "id": "108892e0",
   "metadata": {},
   "outputs": [
    {
     "data": {
      "text/plain": [
       "8"
      ]
     },
     "execution_count": 4,
     "metadata": {},
     "output_type": "execute_result"
    }
   ],
   "source": [
    "#number of nodes and number of links\n",
    "no_node = max(maximum(start_node),maximum(end_node))\n",
    "no_link = length(start_node)"
   ]
  },
  {
   "cell_type": "code",
   "execution_count": 5,
   "id": "69ac9384",
   "metadata": {},
   "outputs": [
    {
     "data": {
      "text/plain": [
       "{5, 0} undirected simple Int64 graph"
      ]
     },
     "execution_count": 5,
     "metadata": {},
     "output_type": "execute_result"
    }
   ],
   "source": [
    "#Creating a graph\n",
    "graph = Graph(no_node)"
   ]
  },
  {
   "cell_type": "code",
   "execution_count": 6,
   "id": "85e20339",
   "metadata": {},
   "outputs": [
    {
     "data": {
      "text/plain": [
       "5×5 Matrix{Float64}:\n",
       " Inf  Inf  Inf  Inf  Inf\n",
       " Inf  Inf  Inf  Inf  Inf\n",
       " Inf  Inf  Inf  Inf  Inf\n",
       " Inf  Inf  Inf  Inf  Inf\n",
       " Inf  Inf  Inf  Inf  Inf"
      ]
     },
     "execution_count": 6,
     "metadata": {},
     "output_type": "execute_result"
    }
   ],
   "source": [
    "distmx = Inf*ones(no_node,no_node)"
   ]
  },
  {
   "cell_type": "code",
   "execution_count": 7,
   "id": "9ddb710f",
   "metadata": {},
   "outputs": [],
   "source": [
    "#adding links to the graph\n",
    "for i = 1:no_link\n",
    "    add_edge!(graph, start_node[i],end_node[i])\n",
    "    distmx[start_node[i],end_node[i]] = c[i]\n",
    "end"
   ]
  },
  {
   "cell_type": "code",
   "execution_count": 8,
   "id": "09068520",
   "metadata": {},
   "outputs": [
    {
     "data": {
      "text/plain": [
       "LightGraphs.DijkstraState{Float64, Int64}([0, 1, 1, 3, 3], [0.0, 2.0, 5.0, 6.0, 7.0], [Int64[], Int64[], Int64[], Int64[], Int64[]], [1.0, 1.0, 2.0, 2.0, 2.0], Int64[])"
      ]
     },
     "execution_count": 8,
     "metadata": {},
     "output_type": "execute_result"
    }
   ],
   "source": [
    "#Run Dijkstra's algorithm from the origin node to all nodes\n",
    "state = dijkstra_shortest_paths(graph, origin, distmx)"
   ]
  },
  {
   "cell_type": "code",
   "execution_count": 9,
   "id": "97803dff",
   "metadata": {},
   "outputs": [
    {
     "name": "stdout",
     "output_type": "stream",
     "text": [
      "the shortest path is:[1, 3, 5]\n"
     ]
    }
   ],
   "source": [
    "#retrieving the shortest path\n",
    "path = enumerate_paths(state, destination)\n",
    "println(\"the shortest path is:\", path)"
   ]
  },
  {
   "cell_type": "code",
   "execution_count": 10,
   "id": "31e11359",
   "metadata": {},
   "outputs": [
    {
     "name": "stdout",
     "output_type": "stream",
     "text": [
      "x vector:[0, 1, 0, 0, 1, 0, 0, 0]\n"
     ]
    }
   ],
   "source": [
    "#retrieving the 'x' variable in a 0-1 vector\n",
    "x = getShortestX(state, start_node, end_node, origin, destination)\n",
    "println(\"x vector:\", x)"
   ]
  },
  {
   "cell_type": "code",
   "execution_count": 11,
   "id": "e288218d",
   "metadata": {},
   "outputs": [
    {
     "name": "stdout",
     "output_type": "stream",
     "text": [
      "cost is 7.0\n",
      "cost is 7.0\n"
     ]
    }
   ],
   "source": [
    "#the cost of shortest past \n",
    "println(\"cost is $(state.dists[destination])\")\n",
    "println(\"cost is $(c' *x)\")"
   ]
  },
  {
   "cell_type": "code",
   "execution_count": null,
   "id": "1eff4b1f",
   "metadata": {},
   "outputs": [],
   "source": []
  }
 ],
 "metadata": {
  "kernelspec": {
   "display_name": "Julia 1.8.4",
   "language": "julia",
   "name": "julia-1.8"
  },
  "language_info": {
   "file_extension": ".jl",
   "mimetype": "application/julia",
   "name": "julia",
   "version": "1.8.4"
  }
 },
 "nbformat": 4,
 "nbformat_minor": 5
}

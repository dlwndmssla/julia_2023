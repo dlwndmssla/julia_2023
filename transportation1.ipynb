{
 "cells": [
  {
   "cell_type": "code",
   "execution_count": 2,
   "id": "3cc157ba",
   "metadata": {},
   "outputs": [
    {
     "data": {
      "text/plain": [
       "4×5 Matrix{Any}:\n",
       "   \"\"  \"\"         15           12          13\n",
       "   \"\"  \"\"           \"Chicago\"    \"Denver\"    \" Erie\"\n",
       " 15    \"Austin\"   10            7           9\n",
       " 25    \"Buffalo\"   4            9           8"
      ]
     },
     "execution_count": 2,
     "metadata": {},
     "output_type": "execute_result"
    }
   ],
   "source": [
    "using DelimitedFiles\n",
    "data = readdlm(\"transportation.csv\",',')"
   ]
  },
  {
   "cell_type": "code",
   "execution_count": 4,
   "id": "9971c24c",
   "metadata": {},
   "outputs": [
    {
     "data": {
      "text/plain": [
       "2-element Vector{Any}:\n",
       " \"Austin\"\n",
       " \"Buffalo\""
      ]
     },
     "execution_count": 4,
     "metadata": {},
     "output_type": "execute_result"
    }
   ],
   "source": [
    "supply_nodes = data[3:end, 2]\n"
   ]
  },
  {
   "cell_type": "code",
   "execution_count": 5,
   "id": "7b8d3ae2",
   "metadata": {},
   "outputs": [
    {
     "data": {
      "text/plain": [
       "2-element Vector{Any}:\n",
       " 15\n",
       " 25"
      ]
     },
     "execution_count": 5,
     "metadata": {},
     "output_type": "execute_result"
    }
   ],
   "source": [
    "s  = data[3:end, 1]"
   ]
  },
  {
   "cell_type": "code",
   "execution_count": 7,
   "id": "a6e8be82",
   "metadata": {},
   "outputs": [
    {
     "data": {
      "text/plain": [
       "3-element Vector{Any}:\n",
       " 15\n",
       " 12\n",
       " 13"
      ]
     },
     "execution_count": 7,
     "metadata": {},
     "output_type": "execute_result"
    }
   ],
   "source": [
    "demand_nodes = data[2, 3:end]\n",
    "d = data[1, 3:end]"
   ]
  },
  {
   "cell_type": "code",
   "execution_count": 8,
   "id": "b8aed498",
   "metadata": {
    "scrolled": true
   },
   "outputs": [
    {
     "data": {
      "text/plain": [
       "2×3 Matrix{Any}:\n",
       " 10  7  9\n",
       "  4  9  8"
      ]
     },
     "execution_count": 8,
     "metadata": {},
     "output_type": "execute_result"
    }
   ],
   "source": [
    "c = data[3:end, 3:end]"
   ]
  },
  {
   "cell_type": "code",
   "execution_count": 9,
   "id": "7ae80324",
   "metadata": {},
   "outputs": [
    {
     "data": {
      "text/plain": [
       "Dict{SubString{String}, Int64} with 3 entries:\n",
       "  \"Chicago\" => 15\n",
       "  \"Denver\"  => 12\n",
       "  \" Erie\"   => 13"
      ]
     },
     "execution_count": 9,
     "metadata": {},
     "output_type": "execute_result"
    }
   ],
   "source": [
    "s_dict = Dict(supply_nodes.=> s)\n",
    "d_dict = Dict(demand_nodes.=> d)"
   ]
  },
  {
   "cell_type": "code",
   "execution_count": 10,
   "id": "ed951a60",
   "metadata": {},
   "outputs": [
    {
     "data": {
      "text/plain": [
       "Dict{Tuple{SubString{String}, SubString{String}}, Int64} with 6 entries:\n",
       "  (\"Austin\", \"Chicago\")  => 10\n",
       "  (\"Buffalo\", \"Denver\")  => 9\n",
       "  (\"Austin\", \" Erie\")    => 9\n",
       "  (\"Buffalo\", \"Chicago\") => 4\n",
       "  (\"Buffalo\", \" Erie\")   => 8\n",
       "  (\"Austin\", \"Denver\")   => 7"
      ]
     },
     "execution_count": 10,
     "metadata": {},
     "output_type": "execute_result"
    }
   ],
   "source": [
    "c_dict = Dict(  (supply_nodes[i], demand_nodes[j] ) => c[i,j] for i in 1:length(supply_nodes), j in 1:length(demand_nodes)  )"
   ]
  },
  {
   "cell_type": "code",
   "execution_count": 12,
   "id": "e54e357e",
   "metadata": {},
   "outputs": [],
   "source": [
    "using JuMP, GLPK\n",
    "tp = Model(GLPK.Optimizer)\n",
    "\n",
    "@variable(tp, x[supply_nodes, demand_nodes] >= 0 )\n",
    "@objective(tp, Min, sum(c_dict[i,j]*x[i,j] for i in supply_nodes, j in demand_nodes  )   )\n",
    "\n",
    "for i in supply_nodes\n",
    "    @constraint(tp, sum(x[i,j] for j in demand_nodes) == s_dict[i])\n",
    "end\n",
    "for j in demand_nodes\n",
    "    @constraint(tp, sum(x[i,j] for i in supply_nodes) == d_dict[j])\n",
    "end"
   ]
  },
  {
   "cell_type": "code",
   "execution_count": 13,
   "id": "f9701bc3",
   "metadata": {},
   "outputs": [
    {
     "data": {
      "text/latex": [
       "$$ \\begin{aligned}\n",
       "\\min\\quad & 10 x_{Austin,Chicago} + 7 x_{Austin,Denver} + 9 x_{Austin, Erie} + 4 x_{Buffalo,Chicago} + 9 x_{Buffalo,Denver} + 8 x_{Buffalo, Erie}\\\\\n",
       "\\text{Subject to} \\quad & x_{Austin,Chicago} + x_{Austin,Denver} + x_{Austin, Erie} = 15.0\\\\\n",
       " & x_{Buffalo,Chicago} + x_{Buffalo,Denver} + x_{Buffalo, Erie} = 25.0\\\\\n",
       " & x_{Austin,Chicago} + x_{Buffalo,Chicago} = 15.0\\\\\n",
       " & x_{Austin,Denver} + x_{Buffalo,Denver} = 12.0\\\\\n",
       " & x_{Austin, Erie} + x_{Buffalo, Erie} = 13.0\\\\\n",
       " & x_{Austin,Chicago} \\geq 0.0\\\\\n",
       " & x_{Buffalo,Chicago} \\geq 0.0\\\\\n",
       " & x_{Austin,Denver} \\geq 0.0\\\\\n",
       " & x_{Buffalo,Denver} \\geq 0.0\\\\\n",
       " & x_{Austin, Erie} \\geq 0.0\\\\\n",
       " & x_{Buffalo, Erie} \\geq 0.0\\\\\n",
       "\\end{aligned} $$"
      ]
     },
     "metadata": {},
     "output_type": "display_data"
    }
   ],
   "source": [
    "print(tp)"
   ]
  },
  {
   "cell_type": "code",
   "execution_count": 15,
   "id": "a2ee482f",
   "metadata": {},
   "outputs": [
    {
     "data": {
      "text/plain": [
       "2-dimensional DenseAxisArray{Float64,2,...} with index sets:\n",
       "    Dimension 1, Any[\"Austin\", \"Buffalo\"]\n",
       "    Dimension 2, Any[\"Chicago\", \"Denver\", \" Erie\"]\n",
       "And data, a 2×3 Matrix{Float64}:\n",
       "  0.0  12.0   3.0\n",
       " 15.0   0.0  10.0"
      ]
     },
     "execution_count": 15,
     "metadata": {},
     "output_type": "execute_result"
    }
   ],
   "source": [
    "JuMP.optimize!(tp)\n",
    "\n",
    "\n",
    "x_star = JuMP.value.(x)"
   ]
  },
  {
   "cell_type": "code",
   "execution_count": 17,
   "id": "eb73220e",
   "metadata": {},
   "outputs": [
    {
     "data": {
      "text/plain": [
       "12.0"
      ]
     },
     "execution_count": 17,
     "metadata": {},
     "output_type": "execute_result"
    }
   ],
   "source": [
    "x_star[\"Austin\", \"Denver\"]"
   ]
  },
  {
   "cell_type": "code",
   "execution_count": 18,
   "id": "739b84c1",
   "metadata": {},
   "outputs": [
    {
     "name": "stdout",
     "output_type": "stream",
     "text": [
      "from Austin to Chicago:0.0\n",
      "from Austin to Denver:12.0\n",
      "from Austin to  Erie:3.0\n",
      "from Buffalo to Chicago:15.0\n",
      "from Buffalo to Denver:0.0\n",
      "from Buffalo to  Erie:10.0\n"
     ]
    }
   ],
   "source": [
    "for s in supply_nodes, d in demand_nodes\n",
    "    println(\"from $s to $d:\", x_star[s,d])\n",
    "end"
   ]
  },
  {
   "cell_type": "code",
   "execution_count": null,
   "id": "4a4bffc5",
   "metadata": {},
   "outputs": [],
   "source": [
    "using DelimitedFiles\n",
    "data = readdlm(\"transportation.csv\",',')\n",
    "\n",
    "supply_nodes = data[3:end, 2]\n",
    "s  = data[3:end, 1]\n",
    "\n",
    "demand_nodes = data[2, 3:end]\n",
    "d = data[1, 3:end]\n",
    "\n",
    "c = data[3:end, 3:end]\n",
    "\n",
    "s_dict = Dict(supply_nodes.=> s)\n",
    "d_dict = Dict(demand_nodes.=> d)\n",
    "\n",
    "c_dict = Dict(  (supply_nodes[i], demand_nodes[j] ) => c[i,j] for i in 1:length(supply_nodes), j in 1:length(demand_nodes)  )\n",
    "\n",
    "using JuMP, GLPK\n",
    "tp = Model(GLPK.Optimizer)\n",
    "\n",
    "@variable(tp, x[supply_nodes, demand_nodes] >= 0 )\n",
    "@objective(tp, Min, sum(c_dict[i,j]*x[i,j] for i in supply_nodes, j in demand_nodes  )   )\n",
    "\n",
    "for i in supply_nodes\n",
    "    @constraint(tp, sum(x[i,j] for j in demand_nodes) == s_dict[i])\n",
    "end\n",
    "for j in demand_nodes\n",
    "    @constraint(tp, sum(x[i,j] for i in supply_nodes) == d_dict[j])\n",
    "end\n",
    "\n",
    "print(tp)\n",
    "JuMP.optimize!(tp)\n",
    "\n",
    "x_star = JuMP.value.(x)\n",
    "\n",
    "x_star[\"Austin\", \"Denver\"]"
   ]
  }
 ],
 "metadata": {
  "kernelspec": {
   "display_name": "Julia 1.8.4",
   "language": "julia",
   "name": "julia-1.8"
  },
  "language_info": {
   "file_extension": ".jl",
   "mimetype": "application/julia",
   "name": "julia",
   "version": "1.8.4"
  }
 },
 "nbformat": 4,
 "nbformat_minor": 5
}

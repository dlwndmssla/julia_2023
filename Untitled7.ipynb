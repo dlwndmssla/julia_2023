{
 "cells": [
  {
   "cell_type": "code",
   "execution_count": 13,
   "id": "a17a0b7f",
   "metadata": {},
   "outputs": [],
   "source": [
    "using LinearAlgebra\n"
   ]
  },
  {
   "cell_type": "code",
   "execution_count": 14,
   "id": "0e77cef3",
   "metadata": {},
   "outputs": [
    {
     "data": {
      "text/plain": [
       "affine_scaling (generic function with 1 method)"
      ]
     },
     "execution_count": 14,
     "metadata": {},
     "output_type": "execute_result"
    }
   ],
   "source": [
    "function affine_scaling(c,A,b,x0; beta = 0.5, epsilon = 1e-9, max_iter = 1000)\n",
    "    \n",
    "    x1_traj = []\n",
    "    x2_traj = []\n",
    "    \n",
    "    x=x0\n",
    "    \n",
    "    for i in 1:max_iter \n",
    "        push!(x1_traj ,x[1])\n",
    "        push!(x2_traj ,x[2])\n",
    "        \n",
    "        X = Diagonal(x)\n",
    "        p = inv(A*X^2*A')*A*X^2*c\n",
    "        r = c - A'*p\n",
    "        \n",
    "        if minimum(r) >= 0 && dot(x,r) < epsilon\n",
    "            break\n",
    "        end\n",
    "        \n",
    "        \n",
    "        x = x - beta^X^2*r / norm(X*r)\n",
    "        \n",
    "        \n",
    "    end\n",
    "    return x1_traj, x2_traj\n",
    "end"
   ]
  },
  {
   "cell_type": "code",
   "execution_count": 15,
   "id": "e59b8910",
   "metadata": {},
   "outputs": [
    {
     "data": {
      "text/plain": [
       "4-element Vector{Int64}:\n",
       " 0\n",
       " 0\n",
       " 6\n",
       " 6"
      ]
     },
     "execution_count": 15,
     "metadata": {},
     "output_type": "execute_result"
    }
   ],
   "source": [
    "c = [-3,-2, 0, 0]\n",
    "A = [2 1 1 0;\n",
    "1 2 0 1]\n",
    "\n",
    "b = [6,6]\n",
    "\n",
    "x1 =0\n",
    "x2=0\n",
    "x0=[x1,x2,6-2*x1-x2,6-x1-2*x2]"
   ]
  },
  {
   "cell_type": "code",
   "execution_count": 16,
   "id": "f826c916",
   "metadata": {},
   "outputs": [
    {
     "ename": "LoadError",
     "evalue": "MethodError: no method matching exp!(::Diagonal{Float64, Vector{Float64}})\n\u001b[0mClosest candidates are:\n\u001b[0m  exp!(\u001b[91m::StridedMatrix{T}\u001b[39m) where T<:Union{Float32, Float64, ComplexF32, ComplexF64} at C:\\Users\\user\\AppData\\Local\\Programs\\Julia-1.8.4\\share\\julia\\stdlib\\v1.8\\LinearAlgebra\\src\\dense.jl:625",
     "output_type": "error",
     "traceback": [
      "MethodError: no method matching exp!(::Diagonal{Float64, Vector{Float64}})\n\u001b[0mClosest candidates are:\n\u001b[0m  exp!(\u001b[91m::StridedMatrix{T}\u001b[39m) where T<:Union{Float32, Float64, ComplexF32, ComplexF64} at C:\\Users\\user\\AppData\\Local\\Programs\\Julia-1.8.4\\share\\julia\\stdlib\\v1.8\\LinearAlgebra\\src\\dense.jl:625",
      "",
      "Stacktrace:",
      " [1] ^(b::Float64, A::Diagonal{Int64, Vector{Int64}})",
      "   @ LinearAlgebra C:\\Users\\user\\AppData\\Local\\Programs\\Julia-1.8.4\\share\\julia\\stdlib\\v1.8\\LinearAlgebra\\src\\dense.jl:619",
      " [2] affine_scaling(c::Vector{Int64}, A::Matrix{Int64}, b::Vector{Int64}, x0::Vector{Int64}; beta::Float64, epsilon::Float64, max_iter::Int64)",
      "   @ Main .\\In[14]:21",
      " [3] top-level scope",
      "   @ In[16]:1"
     ]
    }
   ],
   "source": [
    "affine_scaling(c,A,b,x0; beta = 0.5, max_iter = 1000)"
   ]
  },
  {
   "cell_type": "code",
   "execution_count": null,
   "id": "0d1f527e",
   "metadata": {},
   "outputs": [],
   "source": []
  }
 ],
 "metadata": {
  "kernelspec": {
   "display_name": "Julia 1.8.4",
   "language": "julia",
   "name": "julia-1.8"
  },
  "language_info": {
   "file_extension": ".jl",
   "mimetype": "application/julia",
   "name": "julia",
   "version": "1.8.4"
  }
 },
 "nbformat": 4,
 "nbformat_minor": 5
}
